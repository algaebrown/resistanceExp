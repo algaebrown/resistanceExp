{
 "cells": [
  {
   "cell_type": "markdown",
   "metadata": {},
   "source": [
    "# Read and Join all networks"
   ]
  },
  {
   "cell_type": "code",
   "execution_count": 1,
   "metadata": {},
   "outputs": [],
   "source": [
    "import pandas as pd\n",
    "import networkx as nx\n",
    "import matplotlib.pyplot as plt\n",
    "import matplotlib as mpl\n",
    "mpl.style.use('seaborn-white')\n",
    "import os\n",
    "\n",
    "#### OUTPUT #####\n",
    "fig_path = '/nas2/users/hermuba/fig'\n",
    "\n",
    "def read_edge(filename, net_name):\n",
    "    # skip first line header!!\n",
    "    with open(filename, 'rb') as f:\n",
    "      \n",
    "        net = nx.read_edgelist(f, delimiter = ',',nodetype = int, comments = '#', data = [(net_name, float)])\n",
    "    return(net)\n",
    "\n"
   ]
  },
  {
   "cell_type": "code",
   "execution_count": 2,
   "metadata": {},
   "outputs": [],
   "source": [
    "# combine all nets together\n",
    "base_path = '/home/hermuba/nas2/resist_subnet/'\n",
    "all_net = {}\n",
    "for i, net_name in enumerate(['string', 'refseq', 'eskape', 'domain']):\n",
    "    all_net[net_name] = read_edge(os.path.join(base_path, net_name, 'network.csv'), net_name)\n",
    "    \n",
    "    if i == 0:\n",
    "        combined = all_net[net_name]\n",
    "    else:\n",
    "        combined = nx.compose(combined, all_net[net_name])\n"
   ]
  },
  {
   "cell_type": "code",
   "execution_count": 3,
   "metadata": {},
   "outputs": [],
   "source": [
    "# integrate gosim as well\n",
    "gosim_df = pd.read_csv(os.path.join(base_path, 'gosim.csv'), sep = ' ', names = ['gene_id1', 'gene_id2', 'gosim'], skiprows = 1 )\n",
    "gosim = nx.from_pandas_edgelist(gosim_df, source = 'gene_id1', target = 'gene_id2',  edge_attr='gosim')\n",
    "combined = nx.compose(combined, gosim)"
   ]
  },
  {
   "cell_type": "code",
   "execution_count": 4,
   "metadata": {},
   "outputs": [
    {
     "data": {
      "text/plain": [
       "{'refseq': 0.7816089826998678,\n",
       " 'eskape': 0.9320164733109821,\n",
       " 'domain': 7.141991921130741e-07,\n",
       " 'gosim': 0.095}"
      ]
     },
     "execution_count": 4,
     "metadata": {},
     "output_type": "execute_result"
    }
   ],
   "source": [
    "combined.edges[1, 1672]"
   ]
  },
  {
   "cell_type": "markdown",
   "metadata": {},
   "source": [
    "# Convert to dataframe "
   ]
  },
  {
   "cell_type": "code",
   "execution_count": 5,
   "metadata": {},
   "outputs": [],
   "source": [
    "edges_prediction = nx.to_pandas_edgelist(combined)\n",
    "# we only consider those with at least 1 network prediction\n",
    "edges_prediction = edges_prediction.loc[edges_prediction[['string', 'refseq', 'eskape', 'domain']].count(axis = 1)>0]"
   ]
  },
  {
   "cell_type": "code",
   "execution_count": 6,
   "metadata": {},
   "outputs": [
    {
     "data": {
      "text/html": [
       "<div>\n",
       "<style scoped>\n",
       "    .dataframe tbody tr th:only-of-type {\n",
       "        vertical-align: middle;\n",
       "    }\n",
       "\n",
       "    .dataframe tbody tr th {\n",
       "        vertical-align: top;\n",
       "    }\n",
       "\n",
       "    .dataframe thead th {\n",
       "        text-align: right;\n",
       "    }\n",
       "</style>\n",
       "<table border=\"1\" class=\"dataframe\">\n",
       "  <thead>\n",
       "    <tr style=\"text-align: right;\">\n",
       "      <th></th>\n",
       "      <th>source</th>\n",
       "      <th>target</th>\n",
       "      <th>domain</th>\n",
       "      <th>gosim</th>\n",
       "      <th>refseq</th>\n",
       "      <th>eskape</th>\n",
       "      <th>string</th>\n",
       "    </tr>\n",
       "  </thead>\n",
       "  <tbody>\n",
       "    <tr>\n",
       "      <th>0</th>\n",
       "      <td>3005</td>\n",
       "      <td>120</td>\n",
       "      <td>7.141992e-07</td>\n",
       "      <td>NaN</td>\n",
       "      <td>1.002549</td>\n",
       "      <td>1.290155</td>\n",
       "      <td>195.0</td>\n",
       "    </tr>\n",
       "    <tr>\n",
       "      <th>1</th>\n",
       "      <td>3005</td>\n",
       "      <td>343</td>\n",
       "      <td>3.845063e-07</td>\n",
       "      <td>NaN</td>\n",
       "      <td>1.309979</td>\n",
       "      <td>1.695580</td>\n",
       "      <td>184.0</td>\n",
       "    </tr>\n",
       "    <tr>\n",
       "      <th>2</th>\n",
       "      <td>3005</td>\n",
       "      <td>2747</td>\n",
       "      <td>1.905649e-06</td>\n",
       "      <td>0.015</td>\n",
       "      <td>2.209623</td>\n",
       "      <td>1.698512</td>\n",
       "      <td>251.0</td>\n",
       "    </tr>\n",
       "    <tr>\n",
       "      <th>3</th>\n",
       "      <td>3005</td>\n",
       "      <td>1483</td>\n",
       "      <td>1.554340e-06</td>\n",
       "      <td>0.052</td>\n",
       "      <td>1.152129</td>\n",
       "      <td>1.548399</td>\n",
       "      <td>206.0</td>\n",
       "    </tr>\n",
       "    <tr>\n",
       "      <th>4</th>\n",
       "      <td>3005</td>\n",
       "      <td>3005</td>\n",
       "      <td>NaN</td>\n",
       "      <td>NaN</td>\n",
       "      <td>NaN</td>\n",
       "      <td>NaN</td>\n",
       "      <td>662.0</td>\n",
       "    </tr>\n",
       "  </tbody>\n",
       "</table>\n",
       "</div>"
      ],
      "text/plain": [
       "   source  target        domain  gosim    refseq    eskape  string\n",
       "0    3005     120  7.141992e-07    NaN  1.002549  1.290155   195.0\n",
       "1    3005     343  3.845063e-07    NaN  1.309979  1.695580   184.0\n",
       "2    3005    2747  1.905649e-06  0.015  2.209623  1.698512   251.0\n",
       "3    3005    1483  1.554340e-06  0.052  1.152129  1.548399   206.0\n",
       "4    3005    3005           NaN    NaN       NaN       NaN   662.0"
      ]
     },
     "execution_count": 6,
     "metadata": {},
     "output_type": "execute_result"
    }
   ],
   "source": [
    "edges_prediction.head()"
   ]
  },
  {
   "cell_type": "code",
   "execution_count": 7,
   "metadata": {},
   "outputs": [
    {
     "data": {
      "text/plain": [
       "(4506396, 7)"
      ]
     },
     "execution_count": 7,
     "metadata": {},
     "output_type": "execute_result"
    }
   ],
   "source": [
    "edges_prediction.shape"
   ]
  },
  {
   "cell_type": "code",
   "execution_count": 8,
   "metadata": {},
   "outputs": [
    {
     "data": {
      "text/plain": [
       "source    4506396\n",
       "target    4506396\n",
       "domain    2474200\n",
       "gosim     1026028\n",
       "refseq    4062675\n",
       "eskape    4426800\n",
       "string      48267\n",
       "dtype: int64"
      ]
     },
     "execution_count": 8,
     "metadata": {},
     "output_type": "execute_result"
    }
   ],
   "source": [
    "edges_prediction.count() # the data is sparse, about half has gosim socre."
   ]
  },
  {
   "cell_type": "markdown",
   "metadata": {},
   "source": [
    "# observe the tradeoff of score and gosim"
   ]
  },
  {
   "cell_type": "code",
   "execution_count": 9,
   "metadata": {},
   "outputs": [
    {
     "data": {
      "image/png": "[encoded data removed]",
      "text/plain": [
       "<Figure size 432x288 with 1 Axes>"
      ]
     },
     "metadata": {},
     "output_type": "display_data"
    }
   ],
   "source": [
    "edges_prediction['gosim'].hist()\n",
    "plt.xlabel('GO Sim')\n",
    "plt.ylabel('# edges')\n",
    "plt.savefig(os.path.join(fig_path,'gosim_dist.svg'), format = 'svg', dpi = 300, )"
   ]
  },
  {
   "cell_type": "markdown",
   "metadata": {},
   "source": [
    "# Plot PPV curve to display that each network has some predictive power"
   ]
  },
  {
   "cell_type": "code",
   "execution_count": 10,
   "metadata": {},
   "outputs": [],
   "source": [
    "annotation_df = os.path.join(base_path, 'gold_anno.csv')\n",
    "gold_anno = pd.read_csv(annotation_df)\n",
    "def PPV(computable, subset = None):\n",
    "    if subset:\n",
    "        subcomputable = computable.loc[(computable['target'].isin(subset))|(computable['source'].isin(subset))]\n",
    "    else:\n",
    "        subcomputable = computable.copy()\n",
    "    grouped = subcomputable.groupby(by = ['goldstandard', 'prediction']).count()['target']\n",
    "    \n",
    "    try:\n",
    "        tp = grouped[True, True]\n",
    "        fp = grouped[False, True]\n",
    "        PPV = tp/(tp+fp)\n",
    "        \n",
    "       \n",
    "    except KeyError:\n",
    "        PPV = 0\n",
    "        \n",
    "    return PPV\n",
    "\n",
    "def coverage(computable, all_nodes):\n",
    "    net = computable.loc[computable['prediction']]\n",
    "    covered_nodes = set(net['source']).union(net['target']).intersection(all_nodes)\n",
    "    \n",
    "    return len(covered_nodes)/len(all_nodes)\n",
    "    \n",
    "def PPV_coverage(df, score_col, score_thres, gold_col = 'gosim', gold_thres = 0.6):\n",
    "    ''' define goldstandard_score > gold_thres as Positive. d'''\n",
    "    \n",
    "    # write prediction\n",
    "    computable = df.loc[(df[score_col].notnull())&(df[gold_col].notnull())]\n",
    "    computable['prediction'] = df[score_col]>score_thres\n",
    "    computable['goldstandard'] = df[gold_col]>gold_thres\n",
    "\n",
    "    \n",
    "    # total\n",
    "    ppv = PPV(computable)\n",
    "    cov = coverage(computable, set(gold_anno['gene_id']))\n",
    "    \n",
    "    # core\n",
    "    core_genes = set(gold_anno.loc[gold_anno['core'], 'gene_id'])\n",
    "    core_ppv = PPV(computable, subset = core_genes)\n",
    "    core_cov = coverage(computable, core_genes)\n",
    "    \n",
    "    # acc\n",
    "    acc_genes = set(gold_anno.loc[~gold_anno['core'], 'gene_id'])\n",
    "    acc_ppv = PPV(computable, subset = acc_genes)\n",
    "    acc_cov = coverage(computable, acc_genes)\n",
    "    \n",
    "    return ppv, core_ppv, acc_ppv, cov, core_cov, acc_cov\n",
    "\n",
    "def try_thres(df, col, q = 300, interval = 10):\n",
    "    tradeoff = []\n",
    "\n",
    "    _, bins = pd.qcut(df[col], q = q, retbins = True, duplicates = 'drop')\n",
    "    \n",
    "    for bi in range(0, len(bins), interval):\n",
    "        \n",
    "        b = bins[bi]\n",
    "        scores = PPV_coverage(df, col, b)\n",
    "        tradeoff.append([b]+list(scores))\n",
    "    return pd.DataFrame(tradeoff, columns = ['{}_score'.format(col), 'ppv', 'core_ppv', 'acc_ppv', 'cov', 'core_cov', 'acc_cov'])\n",
    "    "
   ]
  },
  {
   "cell_type": "code",
   "execution_count": 11,
   "metadata": {},
   "outputs": [
    {
     "name": "stderr",
     "output_type": "stream",
     "text": [
      "/home/hermuba/miniconda3/lib/python3.6/site-packages/ipykernel_launcher.py:32: SettingWithCopyWarning: \n",
      "A value is trying to be set on a copy of a slice from a DataFrame.\n",
      "Try using .loc[row_indexer,col_indexer] = value instead\n",
      "\n",
      "See the caveats in the documentation: https://pandas.pydata.org/pandas-docs/stable/user_guide/indexing.html#returning-a-view-versus-a-copy\n",
      "/home/hermuba/miniconda3/lib/python3.6/site-packages/ipykernel_launcher.py:33: SettingWithCopyWarning: \n",
      "A value is trying to be set on a copy of a slice from a DataFrame.\n",
      "Try using .loc[row_indexer,col_indexer] = value instead\n",
      "\n",
      "See the caveats in the documentation: https://pandas.pydata.org/pandas-docs/stable/user_guide/indexing.html#returning-a-view-versus-a-copy\n"
     ]
    }
   ],
   "source": [
    "import numpy as np\n",
    "for net in ['string', 'refseq', 'eskape', 'domain']:\n",
    "    # predicting those with gosim > 0.6\n",
    "    d = try_thres(edges_prediction, net)\n",
    "    d.to_csv(os.path.join(base_path, 'preformance', '{}.ppv_cov.csv'.format(net)))"
   ]
  },
  {
   "cell_type": "code",
   "execution_count": 12,
   "metadata": {},
   "outputs": [],
   "source": [
    "def lls(all_df, score, gold_col = 'gosim', gold_thres = 0.3, bins = 300):\n",
    "    '''\n",
    "    lls calculator for domain-weighted net, using qcut, bin = 250 (optimized)\n",
    "    input:\n",
    "    all_df: joined dataframe with goldstandard and \"score\"\n",
    "    score: the name of \"score\"; in this case: \"weighted_mutual\"\n",
    "\n",
    "    '''\n",
    "    #drop = ['gene_one', 'gene_two', 'goldstandard']\n",
    "    #score = list(set(all_df.columns) - set(drop))[0] # context has two kinds of scores\n",
    "\n",
    "    all_df = all_df.loc[all_df[score].notnull()]\n",
    "    all_df['cut_mutual'] = pd.qcut(all_df[score],  bins, duplicates = 'drop')\n",
    "    all_df['goldstandard'] = all_df[gold_col]>gold_thres\n",
    "\n",
    "\n",
    "    grouped = all_df.groupby(by = ['goldstandard', 'cut_mutual']).count()['target']\n",
    "    grouped = grouped.fillna(0)\n",
    "    \n",
    "     # pseudocount\n",
    "    L_E = grouped[1] + 1\n",
    "    not_L_E = grouped[0] + 1\n",
    "    L = grouped[1].sum()+1\n",
    "    not_L = grouped[0].sum()+1\n",
    "    \n",
    "    \n",
    "    lls_score = np.log((L_E/not_L_E)/(L/not_L))\n",
    "\n",
    "\n",
    "    return lls_score"
   ]
  },
  {
   "cell_type": "code",
   "execution_count": 13,
   "metadata": {},
   "outputs": [],
   "source": [
    "def fitting_LLS(all_chunk, bins = 100, lls_function = lls,  score = 'mutual_info'):\n",
    "\n",
    "    \n",
    "    lls_score = lls(all_chunk, score, bins = bins)\n",
    "\n",
    "    # do OLD METHOD: linear regression when LLS > threshold; try different inflection point\n",
    "    linear = {}\n",
    "    linear_mse = {}\n",
    "    for lls_thres in [0,1,2,3]:\n",
    "        try:\n",
    "            true_thres, slope, intercept = lls_regress_thres(lls_score, lls_thres = lls_thres)\n",
    "            linear_lls = map_lls(lls_score, true_thres, slope, intercept)\n",
    "            linear[lls_thres] = linear_lls\n",
    "    \n",
    "            # calculate MSE\n",
    "            mse = np.sum((linear_lls.values - lls_score.values)**2) # we only care about data points with good signal\n",
    "            linear_mse[lls_thres] = mse\n",
    "        except:\n",
    "            print('no bin has LLS greater than {}'.format(lls_thres))\n",
    "\n",
    "\n",
    "    # new method, exponential\n",
    "    subset = lls_score.copy()\n",
    "\n",
    "    # exp can't have <=0 zero values\n",
    "    \n",
    "    #smallest_nonneg = subset[subset>0].min()\n",
    "    #subset.loc[subset<0] = smallest_nonneg\n",
    "    x = np.array(range(len(subset)))\n",
    "    sub_x = x[np.where(subset.values>0)]\n",
    "\n",
    "    subset = subset.loc[subset>0]\n",
    "    y = subset.values\n",
    "    \n",
    "\n",
    "    # Try different params\n",
    "    expo_curves = {}\n",
    "    expo_mse = {}\n",
    "    \n",
    "    from math import ceil\n",
    "    for top_bins in range(5, 50, 5):\n",
    "        expo_param = np.polyfit(sub_x[-top_bins:], np.log(y[-top_bins:]), 1) #y = Ae*bx\n",
    "        fitted = np.exp(expo_param[1]) * np.exp(expo_param[0]*np.array(x))\n",
    "        expo_curves[top_bins]=fitted\n",
    "    \n",
    "        mse = np.sum((fitted - lls_score.values)**2)\n",
    "        expo_mse[top_bins] = mse\n",
    "    return lls_score, linear, linear_mse, expo_curves, expo_mse\n"
   ]
  },
  {
   "cell_type": "code",
   "execution_count": 14,
   "metadata": {},
   "outputs": [
    {
     "name": "stderr",
     "output_type": "stream",
     "text": [
      "/home/hermuba/miniconda3/lib/python3.6/site-packages/ipykernel_launcher.py:13: SettingWithCopyWarning: \n",
      "A value is trying to be set on a copy of a slice from a DataFrame.\n",
      "Try using .loc[row_indexer,col_indexer] = value instead\n",
      "\n",
      "See the caveats in the documentation: https://pandas.pydata.org/pandas-docs/stable/user_guide/indexing.html#returning-a-view-versus-a-copy\n",
      "  del sys.path[0]\n",
      "/home/hermuba/miniconda3/lib/python3.6/site-packages/ipykernel_launcher.py:14: SettingWithCopyWarning: \n",
      "A value is trying to be set on a copy of a slice from a DataFrame.\n",
      "Try using .loc[row_indexer,col_indexer] = value instead\n",
      "\n",
      "See the caveats in the documentation: https://pandas.pydata.org/pandas-docs/stable/user_guide/indexing.html#returning-a-view-versus-a-copy\n",
      "  \n"
     ]
    },
    {
     "name": "stdout",
     "output_type": "stream",
     "text": [
      "no bin has LLS greater than 0\n",
      "no bin has LLS greater than 1\n",
      "no bin has LLS greater than 2\n",
      "no bin has LLS greater than 3\n",
      "no bin has LLS greater than 0\n",
      "no bin has LLS greater than 1\n",
      "no bin has LLS greater than 2\n",
      "no bin has LLS greater than 3\n",
      "no bin has LLS greater than 0\n",
      "no bin has LLS greater than 1\n",
      "no bin has LLS greater than 2\n",
      "no bin has LLS greater than 3\n",
      "no bin has LLS greater than 0\n",
      "no bin has LLS greater than 1\n",
      "no bin has LLS greater than 2\n",
      "no bin has LLS greater than 3\n"
     ]
    },
    {
     "data": {
      "image/png": "[encoded data removed]",
      "text/plain": [
       "<Figure size 432x288 with 4 Axes>"
      ]
     },
     "metadata": {},
     "output_type": "display_data"
    }
   ],
   "source": [
    "import matplotlib.pyplot as plt\n",
    "f, axes = plt.subplots(1,4, figsize = (6,4), sharey = True)\n",
    "best_fit_for_net = {}\n",
    "for net, ax in zip(['string', 'refseq', 'eskape', 'domain'], axes):\n",
    "    if net == 'string': \n",
    "        bins = 100\n",
    "    else:\n",
    "        bins = 300\n",
    "    lls_score, linear, linear_mse, expo_curves, expo_mse = fitting_LLS(edges_prediction, score = net, bins = bins)\n",
    "    \n",
    "    #plt.figure()\n",
    "    ax.plot(lls_score, '.', label = 'original data', color = 'grey')\n",
    "    \n",
    "    ## find best fit\n",
    "    min_mse = min(list(expo_mse.values()))\n",
    "    \n",
    "    # best_fit\n",
    "    best_fit = [k for k in expo_mse.keys() if expo_mse[k] == min_mse][0]\n",
    "    \n",
    "    #plt.plot(expo_curves[best_fit], label = '{} bins, MSE={}'.format(best_fit, expo_mse[best_fit]))\n",
    "    \n",
    "    #for t in linear.keys():\n",
    "    #    plt.plot(linear[t], label = 'LLS_thres={}, MSE = {}'.format(t, linear_mse[t]))\n",
    "    \n",
    "    # save the best lls fitting\n",
    "    best_fit_for_net[net] = pd.Series(expo_curves[best_fit], index = lls_score.index)\n",
    "    #plt.text(0.5, 1, '{0:e} *exp({1:2f}  x)'.format(np.exp(new[1]), np.exp(new[0])))\n",
    "    ax.set_xlabel('percentile')\n",
    "    ax.set_title(net.upper())\n",
    "    ax.set_xticks(range(0,bins+1, int(bins/3)))\n",
    "    ax.set_xticklabels([0,33,66,100])\n",
    "axes[0].set_ylabel('LLS(GOsim>0.6)')\n",
    "    \n",
    "\n",
    "    #plt.legend(bbox_to_anchor = (1.5, 1))\n",
    "    #plt.title('Curve Fitting for {}'.format(net.upper()))\n",
    "    #edges_prediction['{}_lls'.format(net)] = edges_prediction[net].map(lls_score)\n",
    "f.savefig(os.path.join(fig_path,'LLS_score.svg'), format = 'svg', dpi = 300, )"
   ]
  },
  {
   "cell_type": "code",
   "execution_count": 15,
   "metadata": {},
   "outputs": [],
   "source": [
    "import numpy as np\n",
    "def bayesian_integration(lls_scores, D = 1):\n",
    "    ''' Bayesian Integration to integrate many networks\n",
    "    D is a constant, please see the original paper'''\n",
    "    sorted_lls = np.sort(np.array(lls_scores))[::-1]  #descending\n",
    "    rank = D*np.arange(len(sorted_lls))+1 # rank 1,2,3,4\n",
    "    \n",
    "    ans = np.sum(sorted_lls/rank)\n",
    "    \n",
    "    \n",
    "    return ans\n"
   ]
  },
  {
   "cell_type": "code",
   "execution_count": 16,
   "metadata": {},
   "outputs": [],
   "source": [
    "# map LLS to the edge\n",
    "for net in best_fit_for_net.keys():\n",
    "    edges_prediction[net+'_lls'] = edges_prediction[net].map(best_fit_for_net[net])"
   ]
  },
  {
   "cell_type": "code",
   "execution_count": 17,
   "metadata": {},
   "outputs": [
    {
     "data": {
      "text/html": [
       "<div>\n",
       "<style scoped>\n",
       "    .dataframe tbody tr th:only-of-type {\n",
       "        vertical-align: middle;\n",
       "    }\n",
       "\n",
       "    .dataframe tbody tr th {\n",
       "        vertical-align: top;\n",
       "    }\n",
       "\n",
       "    .dataframe thead th {\n",
       "        text-align: right;\n",
       "    }\n",
       "</style>\n",
       "<table border=\"1\" class=\"dataframe\">\n",
       "  <thead>\n",
       "    <tr style=\"text-align: right;\">\n",
       "      <th></th>\n",
       "      <th>source</th>\n",
       "      <th>target</th>\n",
       "      <th>domain</th>\n",
       "      <th>gosim</th>\n",
       "      <th>refseq</th>\n",
       "      <th>eskape</th>\n",
       "      <th>string</th>\n",
       "      <th>string_lls</th>\n",
       "      <th>refseq_lls</th>\n",
       "      <th>eskape_lls</th>\n",
       "      <th>domain_lls</th>\n",
       "    </tr>\n",
       "  </thead>\n",
       "  <tbody>\n",
       "    <tr>\n",
       "      <th>0</th>\n",
       "      <td>3005</td>\n",
       "      <td>120</td>\n",
       "      <td>7.141992e-07</td>\n",
       "      <td>NaN</td>\n",
       "      <td>1.002549</td>\n",
       "      <td>1.290155</td>\n",
       "      <td>195.0</td>\n",
       "      <td>1.669792e-07</td>\n",
       "      <td>1.058576</td>\n",
       "      <td>1.044754</td>\n",
       "      <td>5.500844e-14</td>\n",
       "    </tr>\n",
       "    <tr>\n",
       "      <th>1</th>\n",
       "      <td>3005</td>\n",
       "      <td>343</td>\n",
       "      <td>3.845063e-07</td>\n",
       "      <td>NaN</td>\n",
       "      <td>1.309979</td>\n",
       "      <td>1.695580</td>\n",
       "      <td>184.0</td>\n",
       "      <td>2.416068e-08</td>\n",
       "      <td>1.293912</td>\n",
       "      <td>1.506386</td>\n",
       "      <td>2.140233e-23</td>\n",
       "    </tr>\n",
       "    <tr>\n",
       "      <th>2</th>\n",
       "      <td>3005</td>\n",
       "      <td>2747</td>\n",
       "      <td>1.905649e-06</td>\n",
       "      <td>0.015</td>\n",
       "      <td>2.209623</td>\n",
       "      <td>1.698512</td>\n",
       "      <td>251.0</td>\n",
       "      <td>7.265381e-05</td>\n",
       "      <td>1.581566</td>\n",
       "      <td>1.506386</td>\n",
       "      <td>7.821495e-04</td>\n",
       "    </tr>\n",
       "    <tr>\n",
       "      <th>3</th>\n",
       "      <td>3005</td>\n",
       "      <td>1483</td>\n",
       "      <td>1.554340e-06</td>\n",
       "      <td>0.052</td>\n",
       "      <td>1.152129</td>\n",
       "      <td>1.548399</td>\n",
       "      <td>206.0</td>\n",
       "      <td>8.755470e-07</td>\n",
       "      <td>1.170343</td>\n",
       "      <td>1.345975</td>\n",
       "      <td>4.519975e-05</td>\n",
       "    </tr>\n",
       "    <tr>\n",
       "      <th>4</th>\n",
       "      <td>3005</td>\n",
       "      <td>3005</td>\n",
       "      <td>NaN</td>\n",
       "      <td>NaN</td>\n",
       "      <td>NaN</td>\n",
       "      <td>NaN</td>\n",
       "      <td>662.0</td>\n",
       "      <td>3.795596e-01</td>\n",
       "      <td>0.037611</td>\n",
       "      <td>0.022091</td>\n",
       "      <td>1.607059e-36</td>\n",
       "    </tr>\n",
       "  </tbody>\n",
       "</table>\n",
       "</div>"
      ],
      "text/plain": [
       "   source  target        domain  gosim    refseq    eskape  string  \\\n",
       "0    3005     120  7.141992e-07    NaN  1.002549  1.290155   195.0   \n",
       "1    3005     343  3.845063e-07    NaN  1.309979  1.695580   184.0   \n",
       "2    3005    2747  1.905649e-06  0.015  2.209623  1.698512   251.0   \n",
       "3    3005    1483  1.554340e-06  0.052  1.152129  1.548399   206.0   \n",
       "4    3005    3005           NaN    NaN       NaN       NaN   662.0   \n",
       "\n",
       "     string_lls  refseq_lls  eskape_lls    domain_lls  \n",
       "0  1.669792e-07    1.058576    1.044754  5.500844e-14  \n",
       "1  2.416068e-08    1.293912    1.506386  2.140233e-23  \n",
       "2  7.265381e-05    1.581566    1.506386  7.821495e-04  \n",
       "3  8.755470e-07    1.170343    1.345975  4.519975e-05  \n",
       "4  3.795596e-01    0.037611    0.022091  1.607059e-36  "
      ]
     },
     "execution_count": 17,
     "metadata": {},
     "output_type": "execute_result"
    }
   ],
   "source": [
    "edges_prediction.head()"
   ]
  },
  {
   "cell_type": "code",
   "execution_count": 18,
   "metadata": {},
   "outputs": [
    {
     "name": "stdout",
     "output_type": "stream",
     "text": [
      "[1.6697920971928102e-07, 1.0585757743635484, 1.0447542655053537, 5.5008439179314654e-14]\n",
      "[2.4160679159532922e-08, 1.2939115604355167, 1.5063857125556808, 2.140233235202871e-23]\n",
      "[7.265380618480717e-05, 1.5815656911620366, 1.5063857125556808, 0.0007821494939851707]\n",
      "[8.755470396306658e-07, 1.1703432966638359, 1.3459753310526783, 4.5199752390965915e-05]\n",
      "[0.3795595864362858, 0.03761062274539714, 0.02209125555895157, 1.6070587228201715e-36]\n",
      "[1.3907106398498602e-08, 1.2000824985941116, 1.236980303743552, 3.954084132200664e-25]\n"
     ]
    }
   ],
   "source": [
    "for t in edges_prediction.loc[:5, ['string_lls', 'refseq_lls', 'eskape_lls', 'domain_lls']].values.tolist():\n",
    "    print(t)"
   ]
  },
  {
   "cell_type": "code",
   "execution_count": 19,
   "metadata": {},
   "outputs": [],
   "source": [
    "\n",
    "lls_cols = ['string_lls', 'refseq_lls', 'eskape_lls', 'domain_lls']\n",
    "# select positive edges that has some lls at least,\n",
    "positive_edge = edges_prediction.loc[edges_prediction[lls_cols].sum(axis = 1)>1]"
   ]
  },
  {
   "cell_type": "code",
   "execution_count": 20,
   "metadata": {},
   "outputs": [
    {
     "name": "stderr",
     "output_type": "stream",
     "text": [
      "/home/hermuba/miniconda3/lib/python3.6/site-packages/ipykernel_launcher.py:1: SettingWithCopyWarning: \n",
      "A value is trying to be set on a copy of a slice from a DataFrame.\n",
      "Try using .loc[row_indexer,col_indexer] = value instead\n",
      "\n",
      "See the caveats in the documentation: https://pandas.pydata.org/pandas-docs/stable/user_guide/indexing.html#returning-a-view-versus-a-copy\n",
      "  \"\"\"Entry point for launching an IPython kernel.\n"
     ]
    }
   ],
   "source": [
    "positive_edge['baye_score'] = positive_edge[lls_cols].apply(bayesian_integration, axis = 1)"
   ]
  },
  {
   "cell_type": "code",
   "execution_count": 21,
   "metadata": {},
   "outputs": [],
   "source": [
    "\n",
    "edges_prediction.to_csv(os.path.join('/home/hermuba/nas2/integrate_net/baye.csv'))\n",
    "\n",
    "positive_edge.to_csv(os.path.join('/home/hermuba/nas2/integrate_net/baye_pos.csv'))"
   ]
  },
  {
   "cell_type": "code",
   "execution_count": 22,
   "metadata": {},
   "outputs": [
    {
     "name": "stderr",
     "output_type": "stream",
     "text": [
      "/home/hermuba/miniconda3/lib/python3.6/site-packages/ipykernel_launcher.py:32: SettingWithCopyWarning: \n",
      "A value is trying to be set on a copy of a slice from a DataFrame.\n",
      "Try using .loc[row_indexer,col_indexer] = value instead\n",
      "\n",
      "See the caveats in the documentation: https://pandas.pydata.org/pandas-docs/stable/user_guide/indexing.html#returning-a-view-versus-a-copy\n",
      "/home/hermuba/miniconda3/lib/python3.6/site-packages/ipykernel_launcher.py:33: SettingWithCopyWarning: \n",
      "A value is trying to be set on a copy of a slice from a DataFrame.\n",
      "Try using .loc[row_indexer,col_indexer] = value instead\n",
      "\n",
      "See the caveats in the documentation: https://pandas.pydata.org/pandas-docs/stable/user_guide/indexing.html#returning-a-view-versus-a-copy\n"
     ]
    }
   ],
   "source": [
    "\n",
    "net = 'baye_score'\n",
    "d = try_thres(positive_edge, net)\n",
    "d.to_csv(os.path.join(base_path, 'preformance', '{}.ppv_cov.csv'.format(net)))"
   ]
  },
  {
   "cell_type": "code",
   "execution_count": 23,
   "metadata": {},
   "outputs": [
    {
     "data": {
      "text/plain": [
       "<AxesSubplot:xlabel='baye_score', ylabel='gosim'>"
      ]
     },
     "execution_count": 23,
     "metadata": {},
     "output_type": "execute_result"
    },
    {
     "data": {
      "image/png": "[encoded data removed]",
      "text/plain": [
       "<Figure size 432x288 with 1 Axes>"
      ]
     },
     "metadata": {},
     "output_type": "display_data"
    }
   ],
   "source": [
    "positive_edge.plot.scatter(x = 'baye_score', y = 'gosim')"
   ]
  },
  {
   "cell_type": "code",
   "execution_count": 24,
   "metadata": {},
   "outputs": [],
   "source": [
    "positive_edge.loc[positive_edge['baye_score']>1].to_csv('/home/hermuba/nas2/integrate_net/baye_pos_greater_1.csv')"
   ]
  },
  {
   "cell_type": "code",
   "execution_count": 25,
   "metadata": {},
   "outputs": [
    {
     "data": {
      "text/plain": [
       "cut_mutual\n",
       "(4.162906958300002e-13, 7.8051831076e-10]    False\n",
       "(7.8051831076e-10, 1.26564416239e-09]        False\n",
       "(1.26564416239e-09, 1.80773472797e-09]       False\n",
       "(1.80773472797e-09, 2.33661580926e-09]       False\n",
       "(2.33661580926e-09, 2.80932694057e-09]       False\n",
       "                                             ...  \n",
       "(3.90973434496e-06, 4.56558162909e-06]       False\n",
       "(4.56558162909e-06, 6.01006792468e-06]       False\n",
       "(6.01006792468e-06, 1.32273266585e-05]       False\n",
       "(1.32273266585e-05, 8.37713456242e-05]       False\n",
       "(8.37713456242e-05, 0.0223022210078]          True\n",
       "Length: 294, dtype: bool"
      ]
     },
     "execution_count": 25,
     "metadata": {},
     "output_type": "execute_result"
    }
   ],
   "source": [
    "best_fit_for_net['domain']>4"
   ]
  },
  {
   "cell_type": "markdown",
   "metadata": {},
   "source": [
    "# core genes"
   ]
  },
  {
   "cell_type": "code",
   "execution_count": 26,
   "metadata": {},
   "outputs": [],
   "source": [
    "core_ids = gold_anno.loc[gold_anno['core'], 'gene_id']\n",
    "acc_ids = gold_anno.loc[~gold_anno['core'], 'gene_id']"
   ]
  },
  {
   "cell_type": "code",
   "execution_count": 27,
   "metadata": {},
   "outputs": [],
   "source": [
    "core_core_itxn = edges_prediction.loc[(edges_prediction['target'].isin(core_ids)) & (edges_prediction['source'].isin(core_ids))]\n",
    "acc_acc_itxn = edges_prediction.loc[(edges_prediction['target'].isin(acc_ids)) & (edges_prediction['source'].isin(acc_ids))]"
   ]
  },
  {
   "cell_type": "code",
   "execution_count": 28,
   "metadata": {},
   "outputs": [],
   "source": [
    "def plot_cdf(values, ax, name):\n",
    "    x = np.sort(values)\n",
    "    y = np.linspace(0,1,len(x))\n",
    "    ax.plot(x,y, label = name)"
   ]
  },
  {
   "cell_type": "code",
   "execution_count": 29,
   "metadata": {},
   "outputs": [
    {
     "data": {
      "image/png": "[encoded data removed]",
      "text/plain": [
       "<Figure size 432x288 with 1 Axes>"
      ]
     },
     "metadata": {},
     "output_type": "display_data"
    }
   ],
   "source": [
    "f, ax = plt.subplots()\n",
    "plot_cdf(core_core_itxn['gosim'].dropna(), ax = ax, name = 'core-core')\n",
    "plot_cdf(acc_acc_itxn['gosim'].dropna(), ax = ax, name = 'acc-acc')\n",
    "plt.legend()\n",
    "plt.xlabel('GO sim')\n",
    "plt.ylabel('CDF')\n",
    "plt.savefig(os.path.join(fig_path,'gosim_dist_acc_core.svg'), format = 'svg', dpi = 300, )"
   ]
  },
  {
   "cell_type": "code",
   "execution_count": null,
   "metadata": {},
   "outputs": [],
   "source": []
  }
 ],
 "metadata": {
  "kernelspec": {
   "display_name": "Python 3",
   "language": "python",
   "name": "python3"
  },
  "language_info": {
   "codemirror_mode": {
    "name": "ipython",
    "version": 3
   },
   "file_extension": ".py",
   "mimetype": "text/x-python",
   "name": "python",
   "nbconvert_exporter": "python",
   "pygments_lexer": "ipython3",
   "version": "3.6.12"
  }
 },
 "nbformat": 4,
 "nbformat_minor": 4
}
