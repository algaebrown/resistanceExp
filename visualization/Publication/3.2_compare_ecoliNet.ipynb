{
 "cells": [
  {
   "cell_type": "code",
   "execution_count": 1,
   "metadata": {},
   "outputs": [],
   "source": [
    "# import module written for processing our gene mapping to gene ID, filter with e-value, pident\n",
    "from network_analysis.map_string_to_ID import *\n",
    "\n",
    "# node_path referes to diamond blastp --in REPRESENTING GENE --db string.dmnd\n",
    "node_path = '/home/hermuba/nas2/resist_subnet/ecolinet/node_mapper.blast'\n",
    "node = read_node_to_df(node_path)\n",
    "\n",
    "# read the edge\n",
    "edge_path = '/home/hermuba/data0118/map_to_exist_net/EcoliNet/EcoliNet.v1.txt'\n",
    "\n"
   ]
  },
  {
   "cell_type": "code",
   "execution_count": 2,
   "metadata": {},
   "outputs": [
    {
     "name": "stderr",
     "output_type": "stream",
     "text": [
      "/home/hermuba/resistanceExp/network_analysis/map_string_to_ID.py:28: SettingWithCopyWarning: \n",
      "A value is trying to be set on a copy of a slice from a DataFrame\n",
      "\n",
      "See the caveats in the documentation: https://pandas.pydata.org/pandas-docs/stable/user_guide/indexing.html#returning-a-view-versus-a-copy\n",
      "  selected_nodes.drop_duplicates(subset = ['sseqid'], inplace = True)\n"
     ]
    }
   ],
   "source": [
    "# select nodes with high bitscore with string 511145 proteins\n",
    "selected_nodes = filter_node(node)"
   ]
  },
  {
   "cell_type": "code",
   "execution_count": 3,
   "metadata": {},
   "outputs": [
    {
     "data": {
      "text/plain": [
       "(2614, 3)"
      ]
     },
     "execution_count": 3,
     "metadata": {},
     "output_type": "execute_result"
    }
   ],
   "source": [
    "selected_nodes.shape"
   ]
  },
  {
   "cell_type": "code",
   "execution_count": 4,
   "metadata": {},
   "outputs": [],
   "source": [
    "\n",
    "edge = pd.read_csv(edge_path, sep = '\\t', header = None, names = ['Protein A', 'Protein B', 'Score'])"
   ]
  },
  {
   "cell_type": "code",
   "execution_count": 5,
   "metadata": {},
   "outputs": [
    {
     "data": {
      "text/html": [
       "<div>\n",
       "<style scoped>\n",
       "    .dataframe tbody tr th:only-of-type {\n",
       "        vertical-align: middle;\n",
       "    }\n",
       "\n",
       "    .dataframe tbody tr th {\n",
       "        vertical-align: top;\n",
       "    }\n",
       "\n",
       "    .dataframe thead th {\n",
       "        text-align: right;\n",
       "    }\n",
       "</style>\n",
       "<table border=\"1\" class=\"dataframe\">\n",
       "  <thead>\n",
       "    <tr style=\"text-align: right;\">\n",
       "      <th></th>\n",
       "      <th>Protein A</th>\n",
       "      <th>Protein B</th>\n",
       "      <th>Score</th>\n",
       "    </tr>\n",
       "  </thead>\n",
       "  <tbody>\n",
       "    <tr>\n",
       "      <th>0</th>\n",
       "      <td>b0723</td>\n",
       "      <td>b0724</td>\n",
       "      <td>6.255638</td>\n",
       "    </tr>\n",
       "    <tr>\n",
       "      <th>1</th>\n",
       "      <td>b0032</td>\n",
       "      <td>b0033</td>\n",
       "      <td>6.254619</td>\n",
       "    </tr>\n",
       "    <tr>\n",
       "      <th>2</th>\n",
       "      <td>b0722</td>\n",
       "      <td>b0723</td>\n",
       "      <td>6.254266</td>\n",
       "    </tr>\n",
       "    <tr>\n",
       "      <th>3</th>\n",
       "      <td>b0726</td>\n",
       "      <td>b0727</td>\n",
       "      <td>6.207392</td>\n",
       "    </tr>\n",
       "    <tr>\n",
       "      <th>4</th>\n",
       "      <td>b2751</td>\n",
       "      <td>b2752</td>\n",
       "      <td>6.204997</td>\n",
       "    </tr>\n",
       "  </tbody>\n",
       "</table>\n",
       "</div>"
      ],
      "text/plain": [
       "  Protein A Protein B     Score\n",
       "0     b0723     b0724  6.255638\n",
       "1     b0032     b0033  6.254619\n",
       "2     b0722     b0723  6.254266\n",
       "3     b0726     b0727  6.207392\n",
       "4     b2751     b2752  6.204997"
      ]
     },
     "execution_count": 5,
     "metadata": {},
     "output_type": "execute_result"
    }
   ],
   "source": [
    "edge.head()"
   ]
  },
  {
   "cell_type": "code",
   "execution_count": 6,
   "metadata": {},
   "outputs": [],
   "source": [
    "# map selected nodes to b number\n",
    "root_dir = '/home/hermuba/data0118/map_to_exist_net/EcoliNet/'\n",
    "b_number = pd.read_csv(root_dir+'ecoli_proteome.tab', sep = '\\t')"
   ]
  },
  {
   "cell_type": "code",
   "execution_count": 7,
   "metadata": {},
   "outputs": [
    {
     "data": {
      "text/html": [
       "<div>\n",
       "<style scoped>\n",
       "    .dataframe tbody tr th:only-of-type {\n",
       "        vertical-align: middle;\n",
       "    }\n",
       "\n",
       "    .dataframe tbody tr th {\n",
       "        vertical-align: top;\n",
       "    }\n",
       "\n",
       "    .dataframe thead th {\n",
       "        text-align: right;\n",
       "    }\n",
       "</style>\n",
       "<table border=\"1\" class=\"dataframe\">\n",
       "  <thead>\n",
       "    <tr style=\"text-align: right;\">\n",
       "      <th></th>\n",
       "      <th>Entry</th>\n",
       "      <th>Entry name</th>\n",
       "      <th>Status</th>\n",
       "      <th>Protein names</th>\n",
       "      <th>Gene names</th>\n",
       "      <th>Organism</th>\n",
       "      <th>Length</th>\n",
       "      <th>Gene names  (ordered locus )</th>\n",
       "      <th>Gene names  (ORF )</th>\n",
       "      <th>Gene names  (primary )</th>\n",
       "      <th>Gene names  (synonym )</th>\n",
       "    </tr>\n",
       "  </thead>\n",
       "  <tbody>\n",
       "    <tr>\n",
       "      <th>0</th>\n",
       "      <td>P21515</td>\n",
       "      <td>ACPH_ECOLI</td>\n",
       "      <td>reviewed</td>\n",
       "      <td>Acyl carrier protein phosphodiesterase (ACP ph...</td>\n",
       "      <td>acpH yajB b0404 JW0394</td>\n",
       "      <td>Escherichia coli (strain K12)</td>\n",
       "      <td>193</td>\n",
       "      <td>b0404 JW0394</td>\n",
       "      <td>NaN</td>\n",
       "      <td>acpH</td>\n",
       "      <td>yajB</td>\n",
       "    </tr>\n",
       "    <tr>\n",
       "      <th>1</th>\n",
       "      <td>P00509</td>\n",
       "      <td>AAT_ECOLI</td>\n",
       "      <td>reviewed</td>\n",
       "      <td>Aspartate aminotransferase (AspAT) (EC 2.6.1.1...</td>\n",
       "      <td>aspC b0928 JW0911</td>\n",
       "      <td>Escherichia coli (strain K12)</td>\n",
       "      <td>396</td>\n",
       "      <td>b0928 JW0911</td>\n",
       "      <td>NaN</td>\n",
       "      <td>aspC</td>\n",
       "      <td>NaN</td>\n",
       "    </tr>\n",
       "    <tr>\n",
       "      <th>2</th>\n",
       "      <td>P0ABD5</td>\n",
       "      <td>ACCA_ECOLI</td>\n",
       "      <td>reviewed</td>\n",
       "      <td>Acetyl-coenzyme A carboxylase carboxyl transfe...</td>\n",
       "      <td>accA b0185 JW0180</td>\n",
       "      <td>Escherichia coli (strain K12)</td>\n",
       "      <td>319</td>\n",
       "      <td>b0185 JW0180</td>\n",
       "      <td>NaN</td>\n",
       "      <td>accA</td>\n",
       "      <td>NaN</td>\n",
       "    </tr>\n",
       "    <tr>\n",
       "      <th>3</th>\n",
       "      <td>P26459</td>\n",
       "      <td>APPC_ECOLI</td>\n",
       "      <td>reviewed</td>\n",
       "      <td>Cytochrome bd-II ubiquinol oxidase subunit 1 (...</td>\n",
       "      <td>appC cbdA cyxA b0978 JW0960</td>\n",
       "      <td>Escherichia coli (strain K12)</td>\n",
       "      <td>514</td>\n",
       "      <td>b0978 JW0960</td>\n",
       "      <td>NaN</td>\n",
       "      <td>appC</td>\n",
       "      <td>cbdA cyxA</td>\n",
       "    </tr>\n",
       "    <tr>\n",
       "      <th>4</th>\n",
       "      <td>P77398</td>\n",
       "      <td>ARNA_ECOLI</td>\n",
       "      <td>reviewed</td>\n",
       "      <td>Bifunctional polymyxin resistance protein ArnA...</td>\n",
       "      <td>arnA pmrI yfbG b2255 JW2249</td>\n",
       "      <td>Escherichia coli (strain K12)</td>\n",
       "      <td>660</td>\n",
       "      <td>b2255 JW2249</td>\n",
       "      <td>NaN</td>\n",
       "      <td>arnA</td>\n",
       "      <td>pmrI yfbG</td>\n",
       "    </tr>\n",
       "  </tbody>\n",
       "</table>\n",
       "</div>"
      ],
      "text/plain": [
       "    Entry  Entry name    Status  \\\n",
       "0  P21515  ACPH_ECOLI  reviewed   \n",
       "1  P00509   AAT_ECOLI  reviewed   \n",
       "2  P0ABD5  ACCA_ECOLI  reviewed   \n",
       "3  P26459  APPC_ECOLI  reviewed   \n",
       "4  P77398  ARNA_ECOLI  reviewed   \n",
       "\n",
       "                                       Protein names  \\\n",
       "0  Acyl carrier protein phosphodiesterase (ACP ph...   \n",
       "1  Aspartate aminotransferase (AspAT) (EC 2.6.1.1...   \n",
       "2  Acetyl-coenzyme A carboxylase carboxyl transfe...   \n",
       "3  Cytochrome bd-II ubiquinol oxidase subunit 1 (...   \n",
       "4  Bifunctional polymyxin resistance protein ArnA...   \n",
       "\n",
       "                    Gene names                       Organism  Length  \\\n",
       "0       acpH yajB b0404 JW0394  Escherichia coli (strain K12)     193   \n",
       "1            aspC b0928 JW0911  Escherichia coli (strain K12)     396   \n",
       "2            accA b0185 JW0180  Escherichia coli (strain K12)     319   \n",
       "3  appC cbdA cyxA b0978 JW0960  Escherichia coli (strain K12)     514   \n",
       "4  arnA pmrI yfbG b2255 JW2249  Escherichia coli (strain K12)     660   \n",
       "\n",
       "  Gene names  (ordered locus ) Gene names  (ORF ) Gene names  (primary )  \\\n",
       "0                 b0404 JW0394                NaN                   acpH   \n",
       "1                 b0928 JW0911                NaN                   aspC   \n",
       "2                 b0185 JW0180                NaN                   accA   \n",
       "3                 b0978 JW0960                NaN                   appC   \n",
       "4                 b2255 JW2249                NaN                   arnA   \n",
       "\n",
       "  Gene names  (synonym )  \n",
       "0                   yajB  \n",
       "1                    NaN  \n",
       "2                    NaN  \n",
       "3              cbdA cyxA  \n",
       "4              pmrI yfbG  "
      ]
     },
     "execution_count": 7,
     "metadata": {},
     "output_type": "execute_result"
    }
   ],
   "source": [
    "b_number.head()"
   ]
  },
  {
   "cell_type": "code",
   "execution_count": 8,
   "metadata": {},
   "outputs": [],
   "source": [
    "def get_bnumber(gene_names):\n",
    "    \n",
    "    if type(gene_names) == str:\n",
    "        gene_names = gene_names.split(' ')\n",
    "        for name in gene_names:\n",
    "            if name[0] == 'b' and len(name) == 5:\n",
    "                return name\n",
    "\n",
    "\n",
    "b_number['EcoliNet_id'] = b_number['Gene names'].map(lambda x:get_bnumber(x))"
   ]
  },
  {
   "cell_type": "code",
   "execution_count": 9,
   "metadata": {},
   "outputs": [],
   "source": [
    "selected_nodes.reset_index(inplace = True)"
   ]
  },
  {
   "cell_type": "code",
   "execution_count": 10,
   "metadata": {},
   "outputs": [],
   "source": [
    "selected_nodes['sseqid'] = selected_nodes['sseqid'].str.split('|', expand = True)[2] # Entry Name\n",
    "selected_nodes['EcoliNet-id'] = selected_nodes['sseqid'].map(b_number.set_index('Entry name')['EcoliNet_id'])\n",
    "\n",
    "\n"
   ]
  },
  {
   "cell_type": "code",
   "execution_count": 11,
   "metadata": {},
   "outputs": [],
   "source": [
    "selected_nodes.dropna(inplace = True)\n",
    "selected_nodes = selected_nodes.drop_duplicates('EcoliNet-id')"
   ]
  },
  {
   "cell_type": "code",
   "execution_count": 12,
   "metadata": {},
   "outputs": [
    {
     "data": {
      "text/html": [
       "<div>\n",
       "<style scoped>\n",
       "    .dataframe tbody tr th:only-of-type {\n",
       "        vertical-align: middle;\n",
       "    }\n",
       "\n",
       "    .dataframe tbody tr th {\n",
       "        vertical-align: top;\n",
       "    }\n",
       "\n",
       "    .dataframe thead th {\n",
       "        text-align: right;\n",
       "    }\n",
       "</style>\n",
       "<table border=\"1\" class=\"dataframe\">\n",
       "  <thead>\n",
       "    <tr style=\"text-align: right;\">\n",
       "      <th></th>\n",
       "      <th>sseqid</th>\n",
       "      <th>qseqid</th>\n",
       "      <th>pident</th>\n",
       "      <th>evalue</th>\n",
       "      <th>EcoliNet-id</th>\n",
       "    </tr>\n",
       "  </thead>\n",
       "  <tbody>\n",
       "    <tr>\n",
       "      <th>0</th>\n",
       "      <td>YAAI_ECOLI</td>\n",
       "      <td>AYIO01000001_12|1328432.3</td>\n",
       "      <td>99.3</td>\n",
       "      <td>3.600000e-70</td>\n",
       "      <td>b0013</td>\n",
       "    </tr>\n",
       "    <tr>\n",
       "      <th>2</th>\n",
       "      <td>RS20_ECOLI</td>\n",
       "      <td>AYIO01000001_27|1328432.3</td>\n",
       "      <td>100.0</td>\n",
       "      <td>1.100000e-40</td>\n",
       "      <td>b0023</td>\n",
       "    </tr>\n",
       "    <tr>\n",
       "      <th>4</th>\n",
       "      <td>SYI_ECOLI</td>\n",
       "      <td>AYIO01000001_29|1328432.3</td>\n",
       "      <td>99.7</td>\n",
       "      <td>0.000000e+00</td>\n",
       "      <td>b0026</td>\n",
       "    </tr>\n",
       "    <tr>\n",
       "      <th>6</th>\n",
       "      <td>FKBX_ECOLI</td>\n",
       "      <td>AYIO01000001_31|1328432.3</td>\n",
       "      <td>100.0</td>\n",
       "      <td>4.600000e-82</td>\n",
       "      <td>b0028</td>\n",
       "    </tr>\n",
       "    <tr>\n",
       "      <th>8</th>\n",
       "      <td>CAID_ECOLI</td>\n",
       "      <td>AYIO01000001_39|1328432.3</td>\n",
       "      <td>99.6</td>\n",
       "      <td>1.400000e-147</td>\n",
       "      <td>b0036</td>\n",
       "    </tr>\n",
       "    <tr>\n",
       "      <th>...</th>\n",
       "      <td>...</td>\n",
       "      <td>...</td>\n",
       "      <td>...</td>\n",
       "      <td>...</td>\n",
       "      <td>...</td>\n",
       "    </tr>\n",
       "    <tr>\n",
       "      <th>2606</th>\n",
       "      <td>YBFL_ECOLI</td>\n",
       "      <td>CYGI01000001_438|562.7784</td>\n",
       "      <td>97.7</td>\n",
       "      <td>2.900000e-174</td>\n",
       "      <td>b0705</td>\n",
       "    </tr>\n",
       "    <tr>\n",
       "      <th>2607</th>\n",
       "      <td>YHHI_ECOLI</td>\n",
       "      <td>CYGI01000001_438|562.7784</td>\n",
       "      <td>97.7</td>\n",
       "      <td>8.400000e-174</td>\n",
       "      <td>b3484</td>\n",
       "    </tr>\n",
       "    <tr>\n",
       "      <th>2609</th>\n",
       "      <td>YDCC_ECOLI</td>\n",
       "      <td>CYGI01000001_438|562.7784</td>\n",
       "      <td>97.0</td>\n",
       "      <td>2.700000e-172</td>\n",
       "      <td>b1460</td>\n",
       "    </tr>\n",
       "    <tr>\n",
       "      <th>2610</th>\n",
       "      <td>YBFD_ECOLI</td>\n",
       "      <td>CYGI01000001_438|562.7784</td>\n",
       "      <td>93.9</td>\n",
       "      <td>2.900000e-94</td>\n",
       "      <td>b0706</td>\n",
       "    </tr>\n",
       "    <tr>\n",
       "      <th>2611</th>\n",
       "      <td>YAFF_ECOLI</td>\n",
       "      <td>CYGI01000001_438|562.7784</td>\n",
       "      <td>96.8</td>\n",
       "      <td>2.400000e-27</td>\n",
       "      <td>b4503</td>\n",
       "    </tr>\n",
       "  </tbody>\n",
       "</table>\n",
       "<p>1242 rows × 5 columns</p>\n",
       "</div>"
      ],
      "text/plain": [
       "          sseqid                     qseqid  pident         evalue EcoliNet-id\n",
       "0     YAAI_ECOLI  AYIO01000001_12|1328432.3    99.3   3.600000e-70       b0013\n",
       "2     RS20_ECOLI  AYIO01000001_27|1328432.3   100.0   1.100000e-40       b0023\n",
       "4      SYI_ECOLI  AYIO01000001_29|1328432.3    99.7   0.000000e+00       b0026\n",
       "6     FKBX_ECOLI  AYIO01000001_31|1328432.3   100.0   4.600000e-82       b0028\n",
       "8     CAID_ECOLI  AYIO01000001_39|1328432.3    99.6  1.400000e-147       b0036\n",
       "...          ...                        ...     ...            ...         ...\n",
       "2606  YBFL_ECOLI  CYGI01000001_438|562.7784    97.7  2.900000e-174       b0705\n",
       "2607  YHHI_ECOLI  CYGI01000001_438|562.7784    97.7  8.400000e-174       b3484\n",
       "2609  YDCC_ECOLI  CYGI01000001_438|562.7784    97.0  2.700000e-172       b1460\n",
       "2610  YBFD_ECOLI  CYGI01000001_438|562.7784    93.9   2.900000e-94       b0706\n",
       "2611  YAFF_ECOLI  CYGI01000001_438|562.7784    96.8   2.400000e-27       b4503\n",
       "\n",
       "[1242 rows x 5 columns]"
      ]
     },
     "execution_count": 12,
     "metadata": {},
     "output_type": "execute_result"
    }
   ],
   "source": [
    "selected_nodes"
   ]
  },
  {
   "cell_type": "code",
   "execution_count": 13,
   "metadata": {},
   "outputs": [],
   "source": [
    "selected_nodes.set_index('EcoliNet-id', inplace = True)"
   ]
  },
  {
   "cell_type": "code",
   "execution_count": 14,
   "metadata": {},
   "outputs": [
    {
     "data": {
      "text/plain": [
       "EcoliNet-id\n",
       "b0013    AYIO01000001_12|1328432.3\n",
       "b0023    AYIO01000001_27|1328432.3\n",
       "b0026    AYIO01000001_29|1328432.3\n",
       "b0028    AYIO01000001_31|1328432.3\n",
       "b0036    AYIO01000001_39|1328432.3\n",
       "                   ...            \n",
       "b0705    CYGI01000001_438|562.7784\n",
       "b3484    CYGI01000001_438|562.7784\n",
       "b1460    CYGI01000001_438|562.7784\n",
       "b0706    CYGI01000001_438|562.7784\n",
       "b4503    CYGI01000001_438|562.7784\n",
       "Name: qseqid, Length: 1242, dtype: object"
      ]
     },
     "execution_count": 14,
     "metadata": {},
     "output_type": "execute_result"
    }
   ],
   "source": [
    "selected_nodes['qseqid']"
   ]
  },
  {
   "cell_type": "code",
   "execution_count": 15,
   "metadata": {},
   "outputs": [],
   "source": [
    "edge['gene_one'] = edge['Protein A'].map(selected_nodes['qseqid'])\n",
    "edge['gene_two'] = edge['Protein B'].map(selected_nodes['qseqid'])\n",
    "\n",
    "edge.dropna(how = 'any', inplace = True) # we do not need interaction between genes that does not exist in our net\n",
    "\n",
    "# drop useless columns\n",
    "edge.drop(labels = ['Protein A', 'Protein B'], axis = 1, inplace = True)\n"
   ]
  },
  {
   "cell_type": "code",
   "execution_count": 16,
   "metadata": {},
   "outputs": [
    {
     "data": {
      "text/plain": [
       "(9224, 3)"
      ]
     },
     "execution_count": 16,
     "metadata": {},
     "output_type": "execute_result"
    }
   ],
   "source": [
    "edge.shape"
   ]
  },
  {
   "cell_type": "code",
   "execution_count": 17,
   "metadata": {},
   "outputs": [
    {
     "data": {
      "text/html": [
       "<div>\n",
       "<style scoped>\n",
       "    .dataframe tbody tr th:only-of-type {\n",
       "        vertical-align: middle;\n",
       "    }\n",
       "\n",
       "    .dataframe tbody tr th {\n",
       "        vertical-align: top;\n",
       "    }\n",
       "\n",
       "    .dataframe thead th {\n",
       "        text-align: right;\n",
       "    }\n",
       "</style>\n",
       "<table border=\"1\" class=\"dataframe\">\n",
       "  <thead>\n",
       "    <tr style=\"text-align: right;\">\n",
       "      <th></th>\n",
       "      <th>Score</th>\n",
       "      <th>gene_one</th>\n",
       "      <th>gene_two</th>\n",
       "    </tr>\n",
       "  </thead>\n",
       "  <tbody>\n",
       "    <tr>\n",
       "      <th>21</th>\n",
       "      <td>6.078073</td>\n",
       "      <td>562.23305.con.0020_38|562.23305</td>\n",
       "      <td>562.58642.con.0075_7|562.58642</td>\n",
       "    </tr>\n",
       "    <tr>\n",
       "      <th>24</th>\n",
       "      <td>6.055138</td>\n",
       "      <td>AYIO01000009_414|1328432.3</td>\n",
       "      <td>AYIO01000009_415|1328432.3</td>\n",
       "    </tr>\n",
       "    <tr>\n",
       "      <th>29</th>\n",
       "      <td>6.033299</td>\n",
       "      <td>AYIO01000013_9|1328432.3</td>\n",
       "      <td>AYIO01000013_10|1328432.3</td>\n",
       "    </tr>\n",
       "    <tr>\n",
       "      <th>38</th>\n",
       "      <td>6.000272</td>\n",
       "      <td>AYIO01000025_77|1328432.3</td>\n",
       "      <td>AYIO01000025_78|1328432.3</td>\n",
       "    </tr>\n",
       "    <tr>\n",
       "      <th>44</th>\n",
       "      <td>5.973902</td>\n",
       "      <td>AYIO01000025_70|1328432.3</td>\n",
       "      <td>AYIO01000025_71|1328432.3</td>\n",
       "    </tr>\n",
       "  </tbody>\n",
       "</table>\n",
       "</div>"
      ],
      "text/plain": [
       "       Score                         gene_one                        gene_two\n",
       "21  6.078073  562.23305.con.0020_38|562.23305  562.58642.con.0075_7|562.58642\n",
       "24  6.055138       AYIO01000009_414|1328432.3      AYIO01000009_415|1328432.3\n",
       "29  6.033299         AYIO01000013_9|1328432.3       AYIO01000013_10|1328432.3\n",
       "38  6.000272        AYIO01000025_77|1328432.3       AYIO01000025_78|1328432.3\n",
       "44  5.973902        AYIO01000025_70|1328432.3       AYIO01000025_71|1328432.3"
      ]
     },
     "execution_count": 17,
     "metadata": {},
     "output_type": "execute_result"
    }
   ],
   "source": [
    "edge.head()"
   ]
  },
  {
   "cell_type": "code",
   "execution_count": 18,
   "metadata": {},
   "outputs": [],
   "source": [
    "edge.to_csv('/home/hermuba/nas2/resist_subnet/ecolinet/ecolinet.mapped.csv')"
   ]
  },
  {
   "cell_type": "code",
   "execution_count": 19,
   "metadata": {},
   "outputs": [
    {
     "data": {
      "text/html": [
       "<div>\n",
       "<style scoped>\n",
       "    .dataframe tbody tr th:only-of-type {\n",
       "        vertical-align: middle;\n",
       "    }\n",
       "\n",
       "    .dataframe tbody tr th {\n",
       "        vertical-align: top;\n",
       "    }\n",
       "\n",
       "    .dataframe thead th {\n",
       "        text-align: right;\n",
       "    }\n",
       "</style>\n",
       "<table border=\"1\" class=\"dataframe\">\n",
       "  <thead>\n",
       "    <tr style=\"text-align: right;\">\n",
       "      <th></th>\n",
       "      <th>Score</th>\n",
       "      <th>gene_one</th>\n",
       "      <th>gene_two</th>\n",
       "    </tr>\n",
       "  </thead>\n",
       "  <tbody>\n",
       "    <tr>\n",
       "      <th>21</th>\n",
       "      <td>6.078073</td>\n",
       "      <td>562.23305.con.0020_38|562.23305</td>\n",
       "      <td>562.58642.con.0075_7|562.58642</td>\n",
       "    </tr>\n",
       "    <tr>\n",
       "      <th>24</th>\n",
       "      <td>6.055138</td>\n",
       "      <td>AYIO01000009_414|1328432.3</td>\n",
       "      <td>AYIO01000009_415|1328432.3</td>\n",
       "    </tr>\n",
       "    <tr>\n",
       "      <th>29</th>\n",
       "      <td>6.033299</td>\n",
       "      <td>AYIO01000013_9|1328432.3</td>\n",
       "      <td>AYIO01000013_10|1328432.3</td>\n",
       "    </tr>\n",
       "    <tr>\n",
       "      <th>38</th>\n",
       "      <td>6.000272</td>\n",
       "      <td>AYIO01000025_77|1328432.3</td>\n",
       "      <td>AYIO01000025_78|1328432.3</td>\n",
       "    </tr>\n",
       "    <tr>\n",
       "      <th>44</th>\n",
       "      <td>5.973902</td>\n",
       "      <td>AYIO01000025_70|1328432.3</td>\n",
       "      <td>AYIO01000025_71|1328432.3</td>\n",
       "    </tr>\n",
       "    <tr>\n",
       "      <th>...</th>\n",
       "      <td>...</td>\n",
       "      <td>...</td>\n",
       "      <td>...</td>\n",
       "    </tr>\n",
       "    <tr>\n",
       "      <th>95424</th>\n",
       "      <td>0.782926</td>\n",
       "      <td>562.65258.con.0004_105|562.65258</td>\n",
       "      <td>562.22664.con.0024_28|562.22664</td>\n",
       "    </tr>\n",
       "    <tr>\n",
       "      <th>95451</th>\n",
       "      <td>0.782577</td>\n",
       "      <td>AYIO01000009_125|1328432.3</td>\n",
       "      <td>FLWH01000020_32|562.12962</td>\n",
       "    </tr>\n",
       "    <tr>\n",
       "      <th>95492</th>\n",
       "      <td>0.781689</td>\n",
       "      <td>AYIO01000008_178|1328432.3</td>\n",
       "      <td>AYIO01000022_6|1328432.3</td>\n",
       "    </tr>\n",
       "    <tr>\n",
       "      <th>95506</th>\n",
       "      <td>0.781362</td>\n",
       "      <td>AYIO01000009_121|1328432.3</td>\n",
       "      <td>562.22449.con.0001_181|562.22449</td>\n",
       "    </tr>\n",
       "    <tr>\n",
       "      <th>95509</th>\n",
       "      <td>0.781336</td>\n",
       "      <td>AYIO01000008_279|1328432.3</td>\n",
       "      <td>RZFI01000011_23|562.50238</td>\n",
       "    </tr>\n",
       "  </tbody>\n",
       "</table>\n",
       "<p>9224 rows × 3 columns</p>\n",
       "</div>"
      ],
      "text/plain": [
       "          Score                          gene_one  \\\n",
       "21     6.078073   562.23305.con.0020_38|562.23305   \n",
       "24     6.055138        AYIO01000009_414|1328432.3   \n",
       "29     6.033299          AYIO01000013_9|1328432.3   \n",
       "38     6.000272         AYIO01000025_77|1328432.3   \n",
       "44     5.973902         AYIO01000025_70|1328432.3   \n",
       "...         ...                               ...   \n",
       "95424  0.782926  562.65258.con.0004_105|562.65258   \n",
       "95451  0.782577        AYIO01000009_125|1328432.3   \n",
       "95492  0.781689        AYIO01000008_178|1328432.3   \n",
       "95506  0.781362        AYIO01000009_121|1328432.3   \n",
       "95509  0.781336        AYIO01000008_279|1328432.3   \n",
       "\n",
       "                               gene_two  \n",
       "21       562.58642.con.0075_7|562.58642  \n",
       "24           AYIO01000009_415|1328432.3  \n",
       "29            AYIO01000013_10|1328432.3  \n",
       "38            AYIO01000025_78|1328432.3  \n",
       "44            AYIO01000025_71|1328432.3  \n",
       "...                                 ...  \n",
       "95424   562.22664.con.0024_28|562.22664  \n",
       "95451         FLWH01000020_32|562.12962  \n",
       "95492          AYIO01000022_6|1328432.3  \n",
       "95506  562.22449.con.0001_181|562.22449  \n",
       "95509         RZFI01000011_23|562.50238  \n",
       "\n",
       "[9224 rows x 3 columns]"
      ]
     },
     "execution_count": 19,
     "metadata": {},
     "output_type": "execute_result"
    }
   ],
   "source": [
    "edge"
   ]
  },
  {
   "cell_type": "code",
   "execution_count": 20,
   "metadata": {},
   "outputs": [],
   "source": [
    "import os\n",
    "base_path = '/home/hermuba/nas2/resist_subnet/'\n",
    "annotation_df = os.path.join(base_path, 'gold_anno.csv')\n",
    "gold_anno = pd.read_csv(annotation_df, index_col = 0)\n",
    "def PPV(computable, subset = None):\n",
    "    if subset:\n",
    "        subcomputable = computable.loc[(computable['target'].isin(subset))|(computable['source'].isin(subset))]\n",
    "    else:\n",
    "        subcomputable = computable.copy()\n",
    "    grouped = subcomputable.groupby(by = ['goldstandard', 'prediction']).count()['target']\n",
    "    \n",
    "    try:\n",
    "        tp = grouped[True, True]\n",
    "        fp = grouped[False, True]\n",
    "        PPV = tp/(tp+fp)\n",
    "        \n",
    "       \n",
    "    except KeyError:\n",
    "        PPV = 0\n",
    "        \n",
    "    return PPV\n",
    "\n",
    "def coverage(computable, all_nodes):\n",
    "    net = computable.loc[computable['prediction']]\n",
    "    covered_nodes = set(net['source']).union(net['target']).intersection(all_nodes)\n",
    "    \n",
    "    return len(covered_nodes)/len(all_nodes)\n",
    "    \n",
    "def PPV_coverage(df, score_col, score_thres, gold_col = 'gosim', gold_thres = 0.6):\n",
    "    ''' define goldstandard_score > gold_thres as Positive. d'''\n",
    "    \n",
    "    # write prediction\n",
    "    computable = df.loc[(df[score_col].notnull())&(df[gold_col].notnull())]\n",
    "    computable['prediction'] = df[score_col]>score_thres\n",
    "    computable['goldstandard'] = df[gold_col]>gold_thres\n",
    "\n",
    "    \n",
    "    # total\n",
    "    ppv = PPV(computable)\n",
    "    cov = coverage(computable, set(gold_anno['gene_id']))\n",
    "    \n",
    "    # core\n",
    "    core_genes = set(gold_anno.loc[gold_anno['core'], 'gene_id'])\n",
    "    core_ppv = PPV(computable, subset = core_genes)\n",
    "    core_cov = coverage(computable, core_genes)\n",
    "    \n",
    "    # acc\n",
    "    acc_genes = set(gold_anno.loc[~gold_anno['core'], 'gene_id'])\n",
    "    acc_ppv = PPV(computable, subset = acc_genes)\n",
    "    acc_cov = coverage(computable, acc_genes)\n",
    "    \n",
    "    return ppv, core_ppv, acc_ppv, cov, core_cov, acc_cov\n",
    "\n",
    "def try_thres(df, col, q = 300, interval = 10):\n",
    "    tradeoff = []\n",
    "\n",
    "    _, bins = pd.qcut(df[col], q = q, retbins = True, duplicates = 'drop')\n",
    "    \n",
    "    for bi in range(0, len(bins), interval):\n",
    "        \n",
    "        b = bins[bi]\n",
    "        scores = PPV_coverage(df, col, b)\n",
    "        tradeoff.append([b]+list(scores))\n",
    "    return pd.DataFrame(tradeoff, columns = ['{}_score'.format(col), 'ppv', 'core_ppv', 'acc_ppv', 'cov', 'core_cov', 'acc_cov'])\n",
    "    "
   ]
  },
  {
   "cell_type": "code",
   "execution_count": 21,
   "metadata": {},
   "outputs": [],
   "source": [
    "# map edge to gene_id\n",
    "edge['source'] = edge['gene_one'].map(gold_anno['gene_id'])\n",
    "edge['target'] = edge['gene_two'].map(gold_anno['gene_id'])\n",
    "edge['ecolinet'] = edge['Score']"
   ]
  },
  {
   "cell_type": "code",
   "execution_count": 22,
   "metadata": {},
   "outputs": [],
   "source": [
    "# join gosim\n",
    "gosim_df = pd.read_csv(os.path.join(base_path, 'gosim.csv'), sep = ' ', names = ['gene_id1', 'gene_id2', 'gosim'], skiprows = 1 )"
   ]
  },
  {
   "cell_type": "code",
   "execution_count": 23,
   "metadata": {},
   "outputs": [],
   "source": [
    "import networkx as nx\n",
    "gosim = nx.from_pandas_edgelist(gosim_df, source = 'gene_id1', target = 'gene_id2',  edge_attr='gosim')\n",
    "ecolinet = nx.from_pandas_edgelist(edge, edge_attr='ecolinet')\n",
    "combined = nx.compose(ecolinet, gosim)"
   ]
  },
  {
   "cell_type": "code",
   "execution_count": 24,
   "metadata": {},
   "outputs": [],
   "source": [
    "edges_prediction = nx.to_pandas_edgelist(combined)"
   ]
  },
  {
   "cell_type": "code",
   "execution_count": 25,
   "metadata": {},
   "outputs": [
    {
     "name": "stderr",
     "output_type": "stream",
     "text": [
      "/home/hermuba/miniconda3/lib/python3.6/site-packages/ipykernel_launcher.py:34: SettingWithCopyWarning: \n",
      "A value is trying to be set on a copy of a slice from a DataFrame.\n",
      "Try using .loc[row_indexer,col_indexer] = value instead\n",
      "\n",
      "See the caveats in the documentation: https://pandas.pydata.org/pandas-docs/stable/user_guide/indexing.html#returning-a-view-versus-a-copy\n",
      "/home/hermuba/miniconda3/lib/python3.6/site-packages/ipykernel_launcher.py:35: SettingWithCopyWarning: \n",
      "A value is trying to be set on a copy of a slice from a DataFrame.\n",
      "Try using .loc[row_indexer,col_indexer] = value instead\n",
      "\n",
      "See the caveats in the documentation: https://pandas.pydata.org/pandas-docs/stable/user_guide/indexing.html#returning-a-view-versus-a-copy\n"
     ]
    }
   ],
   "source": [
    "net='ecolinet'\n",
    "d = try_thres(edges_prediction, net)\n",
    "d.to_csv(os.path.join(base_path, 'preformance', '{}.ppv_cov.csv'.format(net)))"
   ]
  },
  {
   "cell_type": "code",
   "execution_count": 26,
   "metadata": {},
   "outputs": [],
   "source": [
    "core_genes = gold_anno.loc[gold_anno['core'] == True]\n",
    "def net_stat(G):\n",
    "    # core\n",
    "    number_of_core = len(set(G.nodes()).intersection(gold_anno.loc[gold_anno['core'] == True]['gene_id']))\n",
    "    # accessory\n",
    "    number_of_acc = G.number_of_nodes() - number_of_core\n",
    "    # hypothetical\n",
    "    number_of_hypo = len(set(G.nodes()).intersection(gold_anno.loc[gold_anno['hypo_nr'] == True].index))\n",
    "    # mobile\n",
    "    number_of_mobile = len(set(G.nodes()).intersection(gold_anno.loc[gold_anno['is_aclame'] == True].index))\n",
    "    # CARD genes\n",
    "    number_of_card = len(set(G.nodes()).intersection(gold_anno.loc[gold_anno['is_card'] == True].index))\n",
    "    # COG annotation\n",
    "    number_of_cog = len(set(G.nodes()).intersection(gold_anno.loc[gold_anno['cog_ID'].notna()].index))\n",
    "    return [G.number_of_nodes(), \n",
    "            G.number_of_edges(), \n",
    "            nx.algorithms.components.number_connected_components(G),\n",
    "           number_of_core,\n",
    "           number_of_acc,\n",
    "           number_of_hypo,\n",
    "           number_of_mobile,\n",
    "           number_of_card,\n",
    "           number_of_cog] \n",
    "\n"
   ]
  },
  {
   "cell_type": "code",
   "execution_count": 27,
   "metadata": {},
   "outputs": [
    {
     "data": {
      "text/plain": [
       "[1095, 8854, 5, 964, 131, 0, 0, 0, 0]"
      ]
     },
     "execution_count": 27,
     "metadata": {},
     "output_type": "execute_result"
    }
   ],
   "source": [
    "net_stat(ecolinet)"
   ]
  },
  {
   "cell_type": "code",
   "execution_count": null,
   "metadata": {},
   "outputs": [],
   "source": []
  }
 ],
 "metadata": {
  "kernelspec": {
   "display_name": "Python 3",
   "language": "python",
   "name": "python3"
  },
  "language_info": {
   "codemirror_mode": {
    "name": "ipython",
    "version": 3
   },
   "file_extension": ".py",
   "mimetype": "text/x-python",
   "name": "python",
   "nbconvert_exporter": "python",
   "pygments_lexer": "ipython3",
   "version": "3.6.13"
  }
 },
 "nbformat": 4,
 "nbformat_minor": 4
}
