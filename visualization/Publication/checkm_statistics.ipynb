{
 "cells": [
  {
   "cell_type": "markdown",
   "id": "11573aa2",
   "metadata": {},
   "source": [
    "# This notebook is to examine the checkM statistics\n",
    "- join the tsv from different batch\n",
    "- display the removed genomes\n",
    "- write into genome_stats.tsv"
   ]
  },
  {
   "cell_type": "code",
   "execution_count": 15,
   "id": "7dd4b281",
   "metadata": {},
   "outputs": [],
   "source": [
    "import pandas as pd\n",
    "import os\n",
    "\n",
    "indir='/home/hermuba/nas2/prodigal_out/'\n",
    "stats=[]\n",
    "for n in range(0,10):\n",
    "    df=pd.read_csv(os.path.join(indir, f'batch{n}', 'summary.tsv'), \n",
    "                  sep = '\\t',\n",
    "                  header = 0,\n",
    "                  )\n",
    "    stats.append(df)\n",
    "\n",
    "all_stat = pd.concat(stats, axis = 0)\n",
    "all_stat.set_index('Bin Id', inplace = True)\n",
    "\n",
    "#### OUTPUT #####\n",
    "fig_path = '/nas2/users/hermuba/fig'"
   ]
  },
  {
   "cell_type": "code",
   "execution_count": 2,
   "id": "87662e17",
   "metadata": {},
   "outputs": [
    {
     "data": {
      "text/html": [
       "<div>\n",
       "<style scoped>\n",
       "    .dataframe tbody tr th:only-of-type {\n",
       "        vertical-align: middle;\n",
       "    }\n",
       "\n",
       "    .dataframe tbody tr th {\n",
       "        vertical-align: top;\n",
       "    }\n",
       "\n",
       "    .dataframe thead th {\n",
       "        text-align: right;\n",
       "    }\n",
       "</style>\n",
       "<table border=\"1\" class=\"dataframe\">\n",
       "  <thead>\n",
       "    <tr style=\"text-align: right;\">\n",
       "      <th></th>\n",
       "      <th>Marker lineage</th>\n",
       "      <th># genomes</th>\n",
       "      <th># markers</th>\n",
       "      <th># marker sets</th>\n",
       "      <th>0</th>\n",
       "      <th>1</th>\n",
       "      <th>2</th>\n",
       "      <th>3</th>\n",
       "      <th>4</th>\n",
       "      <th>5+</th>\n",
       "      <th>Completeness</th>\n",
       "      <th>Contamination</th>\n",
       "      <th>Strain heterogeneity</th>\n",
       "    </tr>\n",
       "    <tr>\n",
       "      <th>Bin Id</th>\n",
       "      <th></th>\n",
       "      <th></th>\n",
       "      <th></th>\n",
       "      <th></th>\n",
       "      <th></th>\n",
       "      <th></th>\n",
       "      <th></th>\n",
       "      <th></th>\n",
       "      <th></th>\n",
       "      <th></th>\n",
       "      <th></th>\n",
       "      <th></th>\n",
       "      <th></th>\n",
       "    </tr>\n",
       "  </thead>\n",
       "  <tbody>\n",
       "    <tr>\n",
       "      <th>1328432.3</th>\n",
       "      <td>f__Enterobacteriaceae (UID5103)</td>\n",
       "      <td>157</td>\n",
       "      <td>1005</td>\n",
       "      <td>324</td>\n",
       "      <td>1</td>\n",
       "      <td>1003</td>\n",
       "      <td>1</td>\n",
       "      <td>0</td>\n",
       "      <td>0</td>\n",
       "      <td>0</td>\n",
       "      <td>99.96</td>\n",
       "      <td>0.08</td>\n",
       "      <td>0.00</td>\n",
       "    </tr>\n",
       "    <tr>\n",
       "      <th>1328433.3</th>\n",
       "      <td>f__Enterobacteriaceae (UID5103)</td>\n",
       "      <td>157</td>\n",
       "      <td>1005</td>\n",
       "      <td>324</td>\n",
       "      <td>1</td>\n",
       "      <td>995</td>\n",
       "      <td>9</td>\n",
       "      <td>0</td>\n",
       "      <td>0</td>\n",
       "      <td>0</td>\n",
       "      <td>99.96</td>\n",
       "      <td>0.81</td>\n",
       "      <td>11.11</td>\n",
       "    </tr>\n",
       "    <tr>\n",
       "      <th>1328434.3</th>\n",
       "      <td>f__Enterobacteriaceae (UID5103)</td>\n",
       "      <td>157</td>\n",
       "      <td>1005</td>\n",
       "      <td>324</td>\n",
       "      <td>1</td>\n",
       "      <td>999</td>\n",
       "      <td>5</td>\n",
       "      <td>0</td>\n",
       "      <td>0</td>\n",
       "      <td>0</td>\n",
       "      <td>99.96</td>\n",
       "      <td>0.62</td>\n",
       "      <td>0.00</td>\n",
       "    </tr>\n",
       "    <tr>\n",
       "      <th>1328436.3</th>\n",
       "      <td>f__Enterobacteriaceae (UID5103)</td>\n",
       "      <td>157</td>\n",
       "      <td>1005</td>\n",
       "      <td>324</td>\n",
       "      <td>1</td>\n",
       "      <td>999</td>\n",
       "      <td>4</td>\n",
       "      <td>1</td>\n",
       "      <td>0</td>\n",
       "      <td>0</td>\n",
       "      <td>99.96</td>\n",
       "      <td>0.51</td>\n",
       "      <td>14.29</td>\n",
       "    </tr>\n",
       "    <tr>\n",
       "      <th>1328437.3</th>\n",
       "      <td>f__Enterobacteriaceae (UID5103)</td>\n",
       "      <td>157</td>\n",
       "      <td>1005</td>\n",
       "      <td>324</td>\n",
       "      <td>1</td>\n",
       "      <td>999</td>\n",
       "      <td>4</td>\n",
       "      <td>1</td>\n",
       "      <td>0</td>\n",
       "      <td>0</td>\n",
       "      <td>99.96</td>\n",
       "      <td>0.51</td>\n",
       "      <td>14.29</td>\n",
       "    </tr>\n",
       "  </tbody>\n",
       "</table>\n",
       "</div>"
      ],
      "text/plain": [
       "                            Marker lineage  # genomes  # markers  \\\n",
       "Bin Id                                                             \n",
       "1328432.3  f__Enterobacteriaceae (UID5103)        157       1005   \n",
       "1328433.3  f__Enterobacteriaceae (UID5103)        157       1005   \n",
       "1328434.3  f__Enterobacteriaceae (UID5103)        157       1005   \n",
       "1328436.3  f__Enterobacteriaceae (UID5103)        157       1005   \n",
       "1328437.3  f__Enterobacteriaceae (UID5103)        157       1005   \n",
       "\n",
       "           # marker sets  0     1  2  3  4  5+  Completeness  Contamination  \\\n",
       "Bin Id                                                                        \n",
       "1328432.3            324  1  1003  1  0  0   0         99.96           0.08   \n",
       "1328433.3            324  1   995  9  0  0   0         99.96           0.81   \n",
       "1328434.3            324  1   999  5  0  0   0         99.96           0.62   \n",
       "1328436.3            324  1   999  4  1  0   0         99.96           0.51   \n",
       "1328437.3            324  1   999  4  1  0   0         99.96           0.51   \n",
       "\n",
       "           Strain heterogeneity  \n",
       "Bin Id                           \n",
       "1328432.3                  0.00  \n",
       "1328433.3                 11.11  \n",
       "1328434.3                  0.00  \n",
       "1328436.3                 14.29  \n",
       "1328437.3                 14.29  "
      ]
     },
     "execution_count": 2,
     "metadata": {},
     "output_type": "execute_result"
    }
   ],
   "source": [
    "all_stat.head()"
   ]
  },
  {
   "cell_type": "code",
   "execution_count": 3,
   "id": "b8f2b698",
   "metadata": {},
   "outputs": [
    {
     "data": {
      "text/plain": [
       "32.05"
      ]
     },
     "execution_count": 3,
     "metadata": {},
     "output_type": "execute_result"
    }
   ],
   "source": [
    "all_stat['Contamination'].max()"
   ]
  },
  {
   "cell_type": "code",
   "execution_count": 4,
   "id": "5f4db2b7",
   "metadata": {},
   "outputs": [
    {
     "data": {
      "text/plain": [
       "(2948, 13)"
      ]
     },
     "execution_count": 4,
     "metadata": {},
     "output_type": "execute_result"
    }
   ],
   "source": [
    "all_stat.shape"
   ]
  },
  {
   "cell_type": "code",
   "execution_count": 5,
   "id": "5f5bb1e1",
   "metadata": {},
   "outputs": [],
   "source": [
    "genome_stat = pd.read_csv('~/nas2/genome_stat/genome_stat.csv', index_col = 0)\n"
   ]
  },
  {
   "cell_type": "code",
   "execution_count": 6,
   "id": "b0f5c58b",
   "metadata": {},
   "outputs": [
    {
     "data": {
      "text/html": [
       "<div>\n",
       "<style scoped>\n",
       "    .dataframe tbody tr th:only-of-type {\n",
       "        vertical-align: middle;\n",
       "    }\n",
       "\n",
       "    .dataframe tbody tr th {\n",
       "        vertical-align: top;\n",
       "    }\n",
       "\n",
       "    .dataframe thead th {\n",
       "        text-align: right;\n",
       "    }\n",
       "</style>\n",
       "<table border=\"1\" class=\"dataframe\">\n",
       "  <thead>\n",
       "    <tr style=\"text-align: right;\">\n",
       "      <th></th>\n",
       "      <th># contigs (&gt;= 0 bp)</th>\n",
       "      <th># contigs (&gt;= 1000 bp)</th>\n",
       "      <th># contigs (&gt;= 5000 bp)</th>\n",
       "      <th># contigs (&gt;= 10000 bp)</th>\n",
       "      <th># contigs (&gt;= 25000 bp)</th>\n",
       "      <th># contigs (&gt;= 50000 bp)</th>\n",
       "      <th>Total length (&gt;= 0 bp)</th>\n",
       "      <th>Total length (&gt;= 1000 bp)</th>\n",
       "      <th>Total length (&gt;= 5000 bp)</th>\n",
       "      <th>Total length (&gt;= 10000 bp)</th>\n",
       "      <th>...</th>\n",
       "      <th>L75</th>\n",
       "      <th># N's per 100 kbp</th>\n",
       "      <th>Sequencing Status</th>\n",
       "      <th>Contigs</th>\n",
       "      <th>Genome Length</th>\n",
       "      <th>GC Content</th>\n",
       "      <th>PATRIC CDS</th>\n",
       "      <th>RefSeq CDS</th>\n",
       "      <th>prodigal_CDS</th>\n",
       "      <th>include</th>\n",
       "    </tr>\n",
       "  </thead>\n",
       "  <tbody>\n",
       "    <tr>\n",
       "      <th>1328432.3</th>\n",
       "      <td>47</td>\n",
       "      <td>47</td>\n",
       "      <td>29</td>\n",
       "      <td>25</td>\n",
       "      <td>22</td>\n",
       "      <td>19</td>\n",
       "      <td>5087927</td>\n",
       "      <td>5087927</td>\n",
       "      <td>5048907</td>\n",
       "      <td>5026633</td>\n",
       "      <td>...</td>\n",
       "      <td>8</td>\n",
       "      <td>0.00</td>\n",
       "      <td>WGS</td>\n",
       "      <td>47</td>\n",
       "      <td>5087927</td>\n",
       "      <td>50.5</td>\n",
       "      <td>4907</td>\n",
       "      <td>4683.0</td>\n",
       "      <td>4686</td>\n",
       "      <td>True</td>\n",
       "    </tr>\n",
       "    <tr>\n",
       "      <th>1328433.3</th>\n",
       "      <td>5</td>\n",
       "      <td>5</td>\n",
       "      <td>5</td>\n",
       "      <td>5</td>\n",
       "      <td>4</td>\n",
       "      <td>4</td>\n",
       "      <td>5410353</td>\n",
       "      <td>5410353</td>\n",
       "      <td>5410353</td>\n",
       "      <td>5410353</td>\n",
       "      <td>...</td>\n",
       "      <td>1</td>\n",
       "      <td>0.00</td>\n",
       "      <td>WGS</td>\n",
       "      <td>5</td>\n",
       "      <td>5410353</td>\n",
       "      <td>50.6</td>\n",
       "      <td>5410</td>\n",
       "      <td>5134.0</td>\n",
       "      <td>5144</td>\n",
       "      <td>True</td>\n",
       "    </tr>\n",
       "    <tr>\n",
       "      <th>1328434.3</th>\n",
       "      <td>23</td>\n",
       "      <td>22</td>\n",
       "      <td>19</td>\n",
       "      <td>19</td>\n",
       "      <td>18</td>\n",
       "      <td>17</td>\n",
       "      <td>5288563</td>\n",
       "      <td>5288021</td>\n",
       "      <td>5277955</td>\n",
       "      <td>5277955</td>\n",
       "      <td>...</td>\n",
       "      <td>8</td>\n",
       "      <td>0.00</td>\n",
       "      <td>WGS</td>\n",
       "      <td>23</td>\n",
       "      <td>5288563</td>\n",
       "      <td>50.7</td>\n",
       "      <td>5171</td>\n",
       "      <td>4941.0</td>\n",
       "      <td>4948</td>\n",
       "      <td>True</td>\n",
       "    </tr>\n",
       "    <tr>\n",
       "      <th>1328436.3</th>\n",
       "      <td>11</td>\n",
       "      <td>11</td>\n",
       "      <td>9</td>\n",
       "      <td>9</td>\n",
       "      <td>8</td>\n",
       "      <td>6</td>\n",
       "      <td>5503383</td>\n",
       "      <td>5503383</td>\n",
       "      <td>5497928</td>\n",
       "      <td>5497928</td>\n",
       "      <td>...</td>\n",
       "      <td>2</td>\n",
       "      <td>0.02</td>\n",
       "      <td>WGS</td>\n",
       "      <td>11</td>\n",
       "      <td>5503383</td>\n",
       "      <td>50.4</td>\n",
       "      <td>5425</td>\n",
       "      <td>5187.0</td>\n",
       "      <td>5196</td>\n",
       "      <td>True</td>\n",
       "    </tr>\n",
       "    <tr>\n",
       "      <th>1328437.3</th>\n",
       "      <td>18</td>\n",
       "      <td>18</td>\n",
       "      <td>16</td>\n",
       "      <td>16</td>\n",
       "      <td>15</td>\n",
       "      <td>12</td>\n",
       "      <td>5479839</td>\n",
       "      <td>5479839</td>\n",
       "      <td>5474299</td>\n",
       "      <td>5474299</td>\n",
       "      <td>...</td>\n",
       "      <td>7</td>\n",
       "      <td>0.00</td>\n",
       "      <td>WGS</td>\n",
       "      <td>18</td>\n",
       "      <td>5479839</td>\n",
       "      <td>50.4</td>\n",
       "      <td>5436</td>\n",
       "      <td>5190.0</td>\n",
       "      <td>5193</td>\n",
       "      <td>True</td>\n",
       "    </tr>\n",
       "  </tbody>\n",
       "</table>\n",
       "<p>5 rows × 29 columns</p>\n",
       "</div>"
      ],
      "text/plain": [
       "           # contigs (>= 0 bp)  # contigs (>= 1000 bp)  \\\n",
       "1328432.3                   47                      47   \n",
       "1328433.3                    5                       5   \n",
       "1328434.3                   23                      22   \n",
       "1328436.3                   11                      11   \n",
       "1328437.3                   18                      18   \n",
       "\n",
       "           # contigs (>= 5000 bp)  # contigs (>= 10000 bp)  \\\n",
       "1328432.3                      29                       25   \n",
       "1328433.3                       5                        5   \n",
       "1328434.3                      19                       19   \n",
       "1328436.3                       9                        9   \n",
       "1328437.3                      16                       16   \n",
       "\n",
       "           # contigs (>= 25000 bp)  # contigs (>= 50000 bp)  \\\n",
       "1328432.3                       22                       19   \n",
       "1328433.3                        4                        4   \n",
       "1328434.3                       18                       17   \n",
       "1328436.3                        8                        6   \n",
       "1328437.3                       15                       12   \n",
       "\n",
       "           Total length (>= 0 bp)  Total length (>= 1000 bp)  \\\n",
       "1328432.3                 5087927                    5087927   \n",
       "1328433.3                 5410353                    5410353   \n",
       "1328434.3                 5288563                    5288021   \n",
       "1328436.3                 5503383                    5503383   \n",
       "1328437.3                 5479839                    5479839   \n",
       "\n",
       "           Total length (>= 5000 bp)  Total length (>= 10000 bp)  ...  L75  \\\n",
       "1328432.3                    5048907                     5026633  ...    8   \n",
       "1328433.3                    5410353                     5410353  ...    1   \n",
       "1328434.3                    5277955                     5277955  ...    8   \n",
       "1328436.3                    5497928                     5497928  ...    2   \n",
       "1328437.3                    5474299                     5474299  ...    7   \n",
       "\n",
       "           # N's per 100 kbp  Sequencing Status  Contigs  Genome Length  \\\n",
       "1328432.3               0.00                WGS       47        5087927   \n",
       "1328433.3               0.00                WGS        5        5410353   \n",
       "1328434.3               0.00                WGS       23        5288563   \n",
       "1328436.3               0.02                WGS       11        5503383   \n",
       "1328437.3               0.00                WGS       18        5479839   \n",
       "\n",
       "           GC Content  PATRIC CDS  RefSeq CDS  prodigal_CDS  include  \n",
       "1328432.3        50.5        4907      4683.0          4686     True  \n",
       "1328433.3        50.6        5410      5134.0          5144     True  \n",
       "1328434.3        50.7        5171      4941.0          4948     True  \n",
       "1328436.3        50.4        5425      5187.0          5196     True  \n",
       "1328437.3        50.4        5436      5190.0          5193     True  \n",
       "\n",
       "[5 rows x 29 columns]"
      ]
     },
     "execution_count": 6,
     "metadata": {},
     "output_type": "execute_result"
    }
   ],
   "source": [
    "genome_stat.head()"
   ]
  },
  {
   "cell_type": "code",
   "execution_count": 7,
   "id": "5634b696",
   "metadata": {},
   "outputs": [
    {
     "data": {
      "text/plain": [
       "(2947, 29)"
      ]
     },
     "execution_count": 7,
     "metadata": {},
     "output_type": "execute_result"
    }
   ],
   "source": [
    "genome_stat.shape"
   ]
  },
  {
   "cell_type": "code",
   "execution_count": 8,
   "id": "ffe77133",
   "metadata": {},
   "outputs": [],
   "source": [
    "merged=all_stat.merge(genome_stat, left_index = True, right_index = True)"
   ]
  },
  {
   "cell_type": "code",
   "execution_count": 9,
   "id": "ecb6b574",
   "metadata": {},
   "outputs": [
    {
     "data": {
      "text/plain": [
       "Index(['Marker lineage', '# genomes', '# markers', '# marker sets', '0', '1',\n",
       "       '2', '3', '4', '5+', 'Completeness', 'Contamination',\n",
       "       'Strain heterogeneity'],\n",
       "      dtype='object')"
      ]
     },
     "execution_count": 9,
     "metadata": {},
     "output_type": "execute_result"
    }
   ],
   "source": [
    "all_stat.columns"
   ]
  },
  {
   "cell_type": "code",
   "execution_count": 10,
   "id": "90283940",
   "metadata": {},
   "outputs": [
    {
     "data": {
      "text/html": [
       "<div>\n",
       "<style scoped>\n",
       "    .dataframe tbody tr th:only-of-type {\n",
       "        vertical-align: middle;\n",
       "    }\n",
       "\n",
       "    .dataframe tbody tr th {\n",
       "        vertical-align: top;\n",
       "    }\n",
       "\n",
       "    .dataframe thead th {\n",
       "        text-align: right;\n",
       "    }\n",
       "</style>\n",
       "<table border=\"1\" class=\"dataframe\">\n",
       "  <thead>\n",
       "    <tr style=\"text-align: right;\">\n",
       "      <th></th>\n",
       "      <th>Completeness</th>\n",
       "      <th>Contamination</th>\n",
       "      <th>Strain heterogeneity</th>\n",
       "    </tr>\n",
       "    <tr>\n",
       "      <th>include</th>\n",
       "      <th></th>\n",
       "      <th></th>\n",
       "      <th></th>\n",
       "    </tr>\n",
       "  </thead>\n",
       "  <tbody>\n",
       "    <tr>\n",
       "      <th>False</th>\n",
       "      <td>26.880000</td>\n",
       "      <td>0.005000</td>\n",
       "      <td>0.000000</td>\n",
       "    </tr>\n",
       "    <tr>\n",
       "      <th>True</th>\n",
       "      <td>99.882487</td>\n",
       "      <td>0.273381</td>\n",
       "      <td>2.432054</td>\n",
       "    </tr>\n",
       "  </tbody>\n",
       "</table>\n",
       "</div>"
      ],
      "text/plain": [
       "         Completeness  Contamination  Strain heterogeneity\n",
       "include                                                   \n",
       "False       26.880000       0.005000              0.000000\n",
       "True        99.882487       0.273381              2.432054"
      ]
     },
     "execution_count": 10,
     "metadata": {},
     "output_type": "execute_result"
    }
   ],
   "source": [
    "merged.groupby(by = 'include').mean()[all_stat.columns[-3:]]"
   ]
  },
  {
   "cell_type": "code",
   "execution_count": 11,
   "id": "04f4fa1a",
   "metadata": {},
   "outputs": [
    {
     "data": {
      "text/html": [
       "<div>\n",
       "<style scoped>\n",
       "    .dataframe tbody tr th:only-of-type {\n",
       "        vertical-align: middle;\n",
       "    }\n",
       "\n",
       "    .dataframe tbody tr th {\n",
       "        vertical-align: top;\n",
       "    }\n",
       "\n",
       "    .dataframe thead th {\n",
       "        text-align: right;\n",
       "    }\n",
       "</style>\n",
       "<table border=\"1\" class=\"dataframe\">\n",
       "  <thead>\n",
       "    <tr style=\"text-align: right;\">\n",
       "      <th></th>\n",
       "      <th>Completeness</th>\n",
       "      <th>Contamination</th>\n",
       "      <th>Strain heterogeneity</th>\n",
       "    </tr>\n",
       "    <tr>\n",
       "      <th>include</th>\n",
       "      <th></th>\n",
       "      <th></th>\n",
       "      <th></th>\n",
       "    </tr>\n",
       "  </thead>\n",
       "  <tbody>\n",
       "    <tr>\n",
       "      <th>False</th>\n",
       "      <td>19.383174</td>\n",
       "      <td>0.020000</td>\n",
       "      <td>0.000000</td>\n",
       "    </tr>\n",
       "    <tr>\n",
       "      <th>True</th>\n",
       "      <td>0.967282</td>\n",
       "      <td>0.658423</td>\n",
       "      <td>9.374842</td>\n",
       "    </tr>\n",
       "  </tbody>\n",
       "</table>\n",
       "</div>"
      ],
      "text/plain": [
       "         Completeness  Contamination  Strain heterogeneity\n",
       "include                                                   \n",
       "False       19.383174       0.020000              0.000000\n",
       "True         0.967282       0.658423              9.374842"
      ]
     },
     "execution_count": 11,
     "metadata": {},
     "output_type": "execute_result"
    }
   ],
   "source": [
    "merged.groupby(by = 'include').std()[all_stat.columns[-3:]]"
   ]
  },
  {
   "cell_type": "code",
   "execution_count": 12,
   "id": "82f3f3e2",
   "metadata": {},
   "outputs": [
    {
     "data": {
      "text/plain": [
       "Index(['Marker lineage', '# genomes', '# markers', '# marker sets', '0', '1',\n",
       "       '2', '3', '4', '5+', 'Completeness', 'Contamination',\n",
       "       'Strain heterogeneity', '# contigs (>= 0 bp)', '# contigs (>= 1000 bp)',\n",
       "       '# contigs (>= 5000 bp)', '# contigs (>= 10000 bp)',\n",
       "       '# contigs (>= 25000 bp)', '# contigs (>= 50000 bp)',\n",
       "       'Total length (>= 0 bp)', 'Total length (>= 1000 bp)',\n",
       "       'Total length (>= 5000 bp)', 'Total length (>= 10000 bp)',\n",
       "       'Total length (>= 25000 bp)', 'Total length (>= 50000 bp)', '# contigs',\n",
       "       'Largest contig', 'Total length', 'GC (%)', 'N50', 'N75', 'L50', 'L75',\n",
       "       '# N's per 100 kbp', 'Sequencing Status', 'Contigs', 'Genome Length',\n",
       "       'GC Content', 'PATRIC CDS', 'RefSeq CDS', 'prodigal_CDS', 'include'],\n",
       "      dtype='object')"
      ]
     },
     "execution_count": 12,
     "metadata": {},
     "output_type": "execute_result"
    }
   ],
   "source": [
    "merged.columns"
   ]
  },
  {
   "cell_type": "code",
   "execution_count": 13,
   "id": "d82e413a",
   "metadata": {},
   "outputs": [
    {
     "data": {
      "text/plain": [
       "Text(0.5, 0.98, 'Genome statistics')"
      ]
     },
     "execution_count": 13,
     "metadata": {},
     "output_type": "execute_result"
    },
    {
     "data": {
      "image/png": "[encoded data removed]",
      "text/plain": [
       "<Figure size 432x288 with 6 Axes>"
      ]
     },
     "metadata": {},
     "output_type": "display_data"
    }
   ],
   "source": [
    "%matplotlib inline\n",
    "import matplotlib.pyplot as plt\n",
    "plt.style.use('seaborn-white')\n",
    "import seaborn as sns\n",
    "#sns.violinplot(data = merged, y = 'Completeness', x = 'include')\n",
    "\n",
    "f, ax = plt.subplots(2,3)\n",
    "merged.boxplot(by = 'include', column = ['Completeness'], ax = ax[0,0], showfliers=False)\n",
    "merged.boxplot(by = 'include', column = ['Contamination'], ax = ax[0,1], showfliers=False)\n",
    "merged.boxplot(by = 'include', column = ['Strain heterogeneity'], ax = ax[0,2], showfliers=False)\n",
    "\n",
    "merged.boxplot(by = 'include', column = ['Total length'], ax = ax[1,0], showfliers=False)\n",
    "merged.boxplot(by = 'include', column = ['prodigal_CDS'], ax = ax[1,1], showfliers=False)\n",
    "merged.boxplot(by = 'include', column = ['N50'], ax = ax[1,2], showfliers=False)\n",
    "\n",
    "plt.tight_layout()\n",
    "plt.suptitle('Genome statistics')"
   ]
  },
  {
   "cell_type": "code",
   "execution_count": 16,
   "id": "484c763e",
   "metadata": {},
   "outputs": [
    {
     "data": {
      "image/png": "[encoded data removed]",
      "text/plain": [
       "<Figure size 432x288 with 2 Axes>"
      ]
     },
     "metadata": {},
     "output_type": "display_data"
    }
   ],
   "source": [
    "%matplotlib inline\n",
    "import matplotlib.pyplot as plt\n",
    "plt.style.use('seaborn-white')\n",
    "import seaborn as sns\n",
    "#sns.violinplot(data = merged, y = 'Completeness', x = 'include')\n",
    "\n",
    "f, ax = plt.subplots(1,2)\n",
    "merged.boxplot(by = 'include', column = ['Completeness'], ax = ax[0], showfliers=False)\n",
    "merged.boxplot(by = 'include', column = ['Contamination'], ax = ax[1], showfliers=False)\n",
    "# merged.boxplot(by = 'include', column = ['Strain heterogeneity'], ax = ax[0,2], showfliers=False)\n",
    "\n",
    "# merged.boxplot(by = 'include', column = ['Total length'], ax = ax[1,0], showfliers=False)\n",
    "# merged.boxplot(by = 'include', column = ['prodigal_CDS'], ax = ax[1,1], showfliers=False)\n",
    "# merged.boxplot(by = 'include', column = ['N50'], ax = ax[1,2], showfliers=False)\n",
    "\n",
    "plt.tight_layout()\n",
    "plt.suptitle('Genome statistics')\n",
    "\n",
    "plt.savefig(os.path.join(fig_path,'checkmstat.svg'), format = 'svg', dpi = 300, pad_inches = 1, bbox_inches='tight')\n",
    "plt.show()"
   ]
  },
  {
   "cell_type": "code",
   "execution_count": null,
   "id": "ba443117",
   "metadata": {},
   "outputs": [],
   "source": []
  }
 ],
 "metadata": {
  "kernelspec": {
   "display_name": "Python 3",
   "language": "python",
   "name": "python3"
  },
  "language_info": {
   "codemirror_mode": {
    "name": "ipython",
    "version": 3
   },
   "file_extension": ".py",
   "mimetype": "text/x-python",
   "name": "python",
   "nbconvert_exporter": "python",
   "pygments_lexer": "ipython3",
   "version": "3.6.13"
  }
 },
 "nbformat": 4,
 "nbformat_minor": 5
}
