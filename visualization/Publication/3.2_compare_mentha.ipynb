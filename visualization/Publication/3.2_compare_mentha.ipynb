{
 "cells": [
  {
   "cell_type": "code",
   "execution_count": 1,
   "metadata": {},
   "outputs": [],
   "source": [
    "# import module written for processing our gene mapping to gene ID, filter with e-value, pident\n",
    "from network_analysis.map_string_to_ID import *\n",
    "\n",
    "# node_path referes to diamond blastp --in REPRESENTING GENE --db string.dmnd\n",
    "node_path = '/home/hermuba/nas2/resist_subnet/mentha/node_mapper.blast'\n",
    "node = read_node_to_df(node_path)\n",
    "\n"
   ]
  },
  {
   "cell_type": "code",
   "execution_count": 2,
   "metadata": {},
   "outputs": [
    {
     "name": "stderr",
     "output_type": "stream",
     "text": [
      "/home/hermuba/resistanceExp/network_analysis/map_string_to_ID.py:28: SettingWithCopyWarning: \n",
      "A value is trying to be set on a copy of a slice from a DataFrame\n",
      "\n",
      "See the caveats in the documentation: https://pandas.pydata.org/pandas-docs/stable/user_guide/indexing.html#returning-a-view-versus-a-copy\n",
      "  selected_nodes.drop_duplicates(subset = ['sseqid'], inplace = True)\n"
     ]
    }
   ],
   "source": [
    "# select nodes with high bitscore with string 511145 proteins\n",
    "selected_nodes = filter_node(node)"
   ]
  },
  {
   "cell_type": "code",
   "execution_count": 3,
   "metadata": {},
   "outputs": [
    {
     "data": {
      "text/plain": [
       "(1563, 3)"
      ]
     },
     "execution_count": 3,
     "metadata": {},
     "output_type": "execute_result"
    }
   ],
   "source": [
    "selected_nodes.shape"
   ]
  },
  {
   "cell_type": "code",
   "execution_count": 4,
   "metadata": {},
   "outputs": [],
   "source": [
    "selected_nodes.reset_index(inplace = True)"
   ]
  },
  {
   "cell_type": "code",
   "execution_count": 5,
   "metadata": {},
   "outputs": [],
   "source": [
    "selected_nodes = selected_nodes.drop_duplicates('sseqid')"
   ]
  },
  {
   "cell_type": "code",
   "execution_count": 6,
   "metadata": {},
   "outputs": [],
   "source": [
    "# read the edge\n",
    "edge_path = '/home/hermuba/data0118/map_to_exist_net/mentha_ecoli'\n",
    "edge = pd.read_csv(edge_path, sep = ';')"
   ]
  },
  {
   "cell_type": "code",
   "execution_count": 7,
   "metadata": {},
   "outputs": [
    {
     "data": {
      "text/html": [
       "<div>\n",
       "<style scoped>\n",
       "    .dataframe tbody tr th:only-of-type {\n",
       "        vertical-align: middle;\n",
       "    }\n",
       "\n",
       "    .dataframe tbody tr th {\n",
       "        vertical-align: top;\n",
       "    }\n",
       "\n",
       "    .dataframe thead th {\n",
       "        text-align: right;\n",
       "    }\n",
       "</style>\n",
       "<table border=\"1\" class=\"dataframe\">\n",
       "  <thead>\n",
       "    <tr style=\"text-align: right;\">\n",
       "      <th></th>\n",
       "      <th>Protein A</th>\n",
       "      <th>Gene A</th>\n",
       "      <th>Protein B</th>\n",
       "      <th>Gene B</th>\n",
       "      <th>Score</th>\n",
       "      <th>PMID</th>\n",
       "    </tr>\n",
       "  </thead>\n",
       "  <tbody>\n",
       "    <tr>\n",
       "      <th>0</th>\n",
       "      <td>P26607</td>\n",
       "      <td>P26607</td>\n",
       "      <td>P07027</td>\n",
       "      <td>UVRY</td>\n",
       "      <td>0.332</td>\n",
       "      <td>15522865 11022030</td>\n",
       "    </tr>\n",
       "    <tr>\n",
       "      <th>1</th>\n",
       "      <td>P26602</td>\n",
       "      <td>UBIC</td>\n",
       "      <td>P26602</td>\n",
       "      <td>UBIC</td>\n",
       "      <td>0.210</td>\n",
       "      <td>15690043 24561554</td>\n",
       "    </tr>\n",
       "    <tr>\n",
       "      <th>2</th>\n",
       "      <td>P76316</td>\n",
       "      <td>DCYD</td>\n",
       "      <td>P60422</td>\n",
       "      <td>RPLB</td>\n",
       "      <td>0.236</td>\n",
       "      <td>19402753</td>\n",
       "    </tr>\n",
       "    <tr>\n",
       "      <th>3</th>\n",
       "      <td>P60422</td>\n",
       "      <td>RPLB</td>\n",
       "      <td>P0A8M6</td>\n",
       "      <td>YEEX</td>\n",
       "      <td>0.236</td>\n",
       "      <td>19402753</td>\n",
       "    </tr>\n",
       "    <tr>\n",
       "      <th>4</th>\n",
       "      <td>P60422</td>\n",
       "      <td>RPLB</td>\n",
       "      <td>P02918</td>\n",
       "      <td>MRCA</td>\n",
       "      <td>0.236</td>\n",
       "      <td>19402753</td>\n",
       "    </tr>\n",
       "  </tbody>\n",
       "</table>\n",
       "</div>"
      ],
      "text/plain": [
       "  Protein A  Gene A Protein B Gene B  Score                PMID\n",
       "0    P26607  P26607    P07027   UVRY  0.332  15522865 11022030 \n",
       "1    P26602    UBIC    P26602   UBIC  0.210  15690043 24561554 \n",
       "2    P76316    DCYD    P60422   RPLB  0.236           19402753 \n",
       "3    P60422    RPLB    P0A8M6   YEEX  0.236           19402753 \n",
       "4    P60422    RPLB    P02918   MRCA  0.236           19402753 "
      ]
     },
     "execution_count": 7,
     "metadata": {},
     "output_type": "execute_result"
    }
   ],
   "source": [
    "edge.head()"
   ]
  },
  {
   "cell_type": "code",
   "execution_count": 8,
   "metadata": {},
   "outputs": [],
   "source": [
    "selected_nodes['sseqid'] = selected_nodes['sseqid'].str.split('|', expand = True)[1]\n",
    "selected_nodes.set_index('sseqid', inplace = True)\n"
   ]
  },
  {
   "cell_type": "code",
   "execution_count": 9,
   "metadata": {},
   "outputs": [],
   "source": [
    "edge['gene_one'] = edge['Protein A'].map(selected_nodes['qseqid'])\n",
    "edge['gene_two'] = edge['Protein B'].map(selected_nodes['qseqid'])\n",
    "\n",
    "edge.dropna(how = 'any', inplace = True) # we do not need interaction between genes that does not exist in our net\n",
    "\n",
    "# drop useless columns\n",
    "edge.drop(labels = ['Protein A', 'Protein B'], axis = 1, inplace = True)\n"
   ]
  },
  {
   "cell_type": "code",
   "execution_count": 10,
   "metadata": {},
   "outputs": [
    {
     "data": {
      "text/plain": [
       "(2059, 6)"
      ]
     },
     "execution_count": 10,
     "metadata": {},
     "output_type": "execute_result"
    }
   ],
   "source": [
    "edge.shape"
   ]
  },
  {
   "cell_type": "code",
   "execution_count": 11,
   "metadata": {},
   "outputs": [
    {
     "data": {
      "text/html": [
       "<div>\n",
       "<style scoped>\n",
       "    .dataframe tbody tr th:only-of-type {\n",
       "        vertical-align: middle;\n",
       "    }\n",
       "\n",
       "    .dataframe tbody tr th {\n",
       "        vertical-align: top;\n",
       "    }\n",
       "\n",
       "    .dataframe thead th {\n",
       "        text-align: right;\n",
       "    }\n",
       "</style>\n",
       "<table border=\"1\" class=\"dataframe\">\n",
       "  <thead>\n",
       "    <tr style=\"text-align: right;\">\n",
       "      <th></th>\n",
       "      <th>Gene A</th>\n",
       "      <th>Gene B</th>\n",
       "      <th>Score</th>\n",
       "      <th>PMID</th>\n",
       "      <th>gene_one</th>\n",
       "      <th>gene_two</th>\n",
       "    </tr>\n",
       "  </thead>\n",
       "  <tbody>\n",
       "    <tr>\n",
       "      <th>85</th>\n",
       "      <td>Q46731</td>\n",
       "      <td>Q46731</td>\n",
       "      <td>0.554</td>\n",
       "      <td>10207011 10884228</td>\n",
       "      <td>562.57367.con.0062_15|562.57367</td>\n",
       "      <td>562.57367.con.0062_15|562.57367</td>\n",
       "    </tr>\n",
       "    <tr>\n",
       "      <th>99</th>\n",
       "      <td>UACT</td>\n",
       "      <td>RPSL</td>\n",
       "      <td>0.236</td>\n",
       "      <td>19402753</td>\n",
       "      <td>AYIO01000011_261|1328432.3</td>\n",
       "      <td>AYIO01000014_51|1328432.3</td>\n",
       "    </tr>\n",
       "    <tr>\n",
       "      <th>134</th>\n",
       "      <td>EMRA</td>\n",
       "      <td>EMRA</td>\n",
       "      <td>0.623</td>\n",
       "      <td>19805313 24561554</td>\n",
       "      <td>562.65030.con.0015_51|562.65030</td>\n",
       "      <td>562.65030.con.0015_51|562.65030</td>\n",
       "    </tr>\n",
       "    <tr>\n",
       "      <th>169</th>\n",
       "      <td>MUKB</td>\n",
       "      <td>RPSG</td>\n",
       "      <td>0.261</td>\n",
       "      <td>15690043</td>\n",
       "      <td>AYIO01000007_657|1328432.3</td>\n",
       "      <td>AYIO01000014_50|1328432.3</td>\n",
       "    </tr>\n",
       "    <tr>\n",
       "      <th>173</th>\n",
       "      <td>MURI</td>\n",
       "      <td>MURI</td>\n",
       "      <td>0.332</td>\n",
       "      <td>15690043 24627523 24561554</td>\n",
       "      <td>562.22860.con.0039_1|562.22860</td>\n",
       "      <td>562.22860.con.0039_1|562.22860</td>\n",
       "    </tr>\n",
       "  </tbody>\n",
       "</table>\n",
       "</div>"
      ],
      "text/plain": [
       "     Gene A  Gene B  Score                         PMID  \\\n",
       "85   Q46731  Q46731  0.554           10207011 10884228    \n",
       "99     UACT    RPSL  0.236                    19402753    \n",
       "134    EMRA    EMRA  0.623           19805313 24561554    \n",
       "169    MUKB    RPSG  0.261                    15690043    \n",
       "173    MURI    MURI  0.332  15690043 24627523 24561554    \n",
       "\n",
       "                            gene_one                         gene_two  \n",
       "85   562.57367.con.0062_15|562.57367  562.57367.con.0062_15|562.57367  \n",
       "99        AYIO01000011_261|1328432.3        AYIO01000014_51|1328432.3  \n",
       "134  562.65030.con.0015_51|562.65030  562.65030.con.0015_51|562.65030  \n",
       "169       AYIO01000007_657|1328432.3        AYIO01000014_50|1328432.3  \n",
       "173   562.22860.con.0039_1|562.22860   562.22860.con.0039_1|562.22860  "
      ]
     },
     "execution_count": 11,
     "metadata": {},
     "output_type": "execute_result"
    }
   ],
   "source": [
    "edge.head()"
   ]
  },
  {
   "cell_type": "code",
   "execution_count": 12,
   "metadata": {},
   "outputs": [],
   "source": [
    "edge.to_csv('/home/hermuba/nas2/resist_subnet/mentha/mentha.mapped.csv')"
   ]
  },
  {
   "cell_type": "code",
   "execution_count": 13,
   "metadata": {},
   "outputs": [],
   "source": [
    "import os\n",
    "base_path = '/home/hermuba/nas2/resist_subnet/'\n",
    "annotation_df = os.path.join(base_path, 'gold_anno.csv')\n",
    "gold_anno = pd.read_csv(annotation_df, index_col = 0)\n",
    "def PPV(computable, subset = None):\n",
    "    if subset:\n",
    "        subcomputable = computable.loc[(computable['target'].isin(subset))|(computable['source'].isin(subset))]\n",
    "    else:\n",
    "        subcomputable = computable.copy()\n",
    "    grouped = subcomputable.groupby(by = ['goldstandard', 'prediction']).count()['target']\n",
    "    \n",
    "    try:\n",
    "        tp = grouped[True, True]\n",
    "        fp = grouped[False, True]\n",
    "        PPV = tp/(tp+fp)\n",
    "        \n",
    "       \n",
    "    except KeyError:\n",
    "        PPV = 0\n",
    "        \n",
    "    return PPV\n",
    "\n",
    "def coverage(computable, all_nodes):\n",
    "    net = computable.loc[computable['prediction']]\n",
    "    covered_nodes = set(net['source']).union(net['target']).intersection(all_nodes)\n",
    "    \n",
    "    return len(covered_nodes)/len(all_nodes)\n",
    "    \n",
    "def PPV_coverage(df, score_col, score_thres, gold_col = 'gosim', gold_thres = 0.6):\n",
    "    ''' define goldstandard_score > gold_thres as Positive. d'''\n",
    "    \n",
    "    # write prediction\n",
    "    computable = df.loc[(df[score_col].notnull())&(df[gold_col].notnull())]\n",
    "    computable['prediction'] = df[score_col]>score_thres\n",
    "    computable['goldstandard'] = df[gold_col]>gold_thres\n",
    "\n",
    "    \n",
    "    # total\n",
    "    ppv = PPV(computable)\n",
    "    cov = coverage(computable, set(gold_anno['gene_id']))\n",
    "    \n",
    "    # core\n",
    "    core_genes = set(gold_anno.loc[gold_anno['core'], 'gene_id'])\n",
    "    core_ppv = PPV(computable, subset = core_genes)\n",
    "    core_cov = coverage(computable, core_genes)\n",
    "    \n",
    "    # acc\n",
    "    acc_genes = set(gold_anno.loc[~gold_anno['core'], 'gene_id'])\n",
    "    acc_ppv = PPV(computable, subset = acc_genes)\n",
    "    acc_cov = coverage(computable, acc_genes)\n",
    "    \n",
    "    return ppv, core_ppv, acc_ppv, cov, core_cov, acc_cov\n",
    "\n",
    "def try_thres(df, col, q = 300, interval = 10):\n",
    "    tradeoff = []\n",
    "\n",
    "    _, bins = pd.qcut(df[col], q = q, retbins = True, duplicates = 'drop')\n",
    "    \n",
    "    for bi in range(0, len(bins), interval):\n",
    "        \n",
    "        b = bins[bi]\n",
    "        scores = PPV_coverage(df, col, b)\n",
    "        tradeoff.append([b]+list(scores))\n",
    "    return pd.DataFrame(tradeoff, columns = ['{}_score'.format(col), 'ppv', 'core_ppv', 'acc_ppv', 'cov', 'core_cov', 'acc_cov'])\n",
    "    "
   ]
  },
  {
   "cell_type": "code",
   "execution_count": 14,
   "metadata": {},
   "outputs": [],
   "source": [
    "# map edge to gene_id\n",
    "edge['source'] = edge['gene_one'].map(gold_anno['gene_id'])\n",
    "edge['target'] = edge['gene_two'].map(gold_anno['gene_id'])\n",
    "edge['mentha'] = edge['Score']"
   ]
  },
  {
   "cell_type": "code",
   "execution_count": 15,
   "metadata": {},
   "outputs": [],
   "source": [
    "# join gosim\n",
    "gosim_df = pd.read_csv(os.path.join(base_path, 'gosim.csv'), sep = ' ', names = ['gene_id1', 'gene_id2', 'gosim'], skiprows = 1 )"
   ]
  },
  {
   "cell_type": "code",
   "execution_count": null,
   "metadata": {},
   "outputs": [],
   "source": [
    "import networkx as nx\n",
    "gosim = nx.from_pandas_edgelist(gosim_df, source = 'gene_id1', target = 'gene_id2',  edge_attr='gosim')\n",
    "mentha = nx.from_pandas_edgelist(edge, edge_attr='mentha')\n",
    "combined = nx.compose(mentha, gosim)\n",
    "edges_prediction = nx.to_pandas_edgelist(combined)"
   ]
  },
  {
   "cell_type": "code",
   "execution_count": null,
   "metadata": {},
   "outputs": [],
   "source": [
    "edges_prediction.head()"
   ]
  },
  {
   "cell_type": "code",
   "execution_count": null,
   "metadata": {},
   "outputs": [],
   "source": [
    "net='mentha'\n",
    "d = try_thres(edges_prediction, net)\n",
    "d.to_csv(os.path.join(base_path, 'preformance', '{}.ppv_cov.csv'.format(net)))"
   ]
  },
  {
   "cell_type": "code",
   "execution_count": null,
   "metadata": {},
   "outputs": [],
   "source": [
    "core_genes = gold_anno.loc[gold_anno['core'] == True]\n",
    "def net_stat(G):\n",
    "    # core\n",
    "    number_of_core = len(set(G.nodes()).intersection(gold_anno.loc[gold_anno['core'] == True].index))\n",
    "    # accessory\n",
    "    number_of_acc = G.number_of_nodes() - number_of_core\n",
    "    # hypothetical\n",
    "    number_of_hypo = len(set(G.nodes()).intersection(gold_anno.loc[gold_anno['hypo_nr'] == True].index))\n",
    "    # mobile\n",
    "    number_of_mobile = len(set(G.nodes()).intersection(gold_anno.loc[gold_anno['is_aclame'] == True].index))\n",
    "    # CARD genes\n",
    "    number_of_card = len(set(G.nodes()).intersection(gold_anno.loc[gold_anno['is_card'] == True].index))\n",
    "    # COG annotation\n",
    "    number_of_cog = len(set(G.nodes()).intersection(gold_anno.loc[gold_anno['cog_ID'].notna()].index))\n",
    "    return([G.number_of_nodes(), \n",
    "            G.number_of_edges(), \n",
    "            nx.algorithms.components.number_connected_components(G),\n",
    "           number_of_core,\n",
    "           number_of_acc,\n",
    "           number_of_hypo,\n",
    "           number_of_mobile,\n",
    "           number_of_card,\n",
    "           number_of_cog])\n",
    "\n"
   ]
  },
  {
   "cell_type": "code",
   "execution_count": null,
   "metadata": {},
   "outputs": [],
   "source": [
    "net_stat(mentha)"
   ]
  },
  {
   "cell_type": "code",
   "execution_count": null,
   "metadata": {},
   "outputs": [],
   "source": []
  }
 ],
 "metadata": {
  "kernelspec": {
   "display_name": "Python 3",
   "language": "python",
   "name": "python3"
  },
  "language_info": {
   "codemirror_mode": {
    "name": "ipython",
    "version": 3
   },
   "file_extension": ".py",
   "mimetype": "text/x-python",
   "name": "python",
   "nbconvert_exporter": "python",
   "pygments_lexer": "ipython3",
   "version": "3.6.12"
  }
 },
 "nbformat": 4,
 "nbformat_minor": 4
}
