{
 "cells": [
  {
   "cell_type": "markdown",
   "metadata": {},
   "source": [
    "# Count how many genes are identified with any gene prediction algorithms\n",
    "use bioPython module: Bio.seqIO.parse"
   ]
  },
  {
   "cell_type": "code",
   "execution_count": 13,
   "metadata": {},
   "outputs": [],
   "source": [
    "# import biopython\n",
    "from Bio import SeqIO\n",
    "\n"
   ]
  },
  {
   "cell_type": "code",
   "execution_count": 8,
   "metadata": {
    "collapsed": true
   },
   "outputs": [],
   "source": [
    "def geneCount (filename):\n",
    "    return(len(list(SeqIO.parse(filename, \"fasta\"))))"
   ]
  },
  {
   "cell_type": "code",
   "execution_count": 16,
   "metadata": {},
   "outputs": [],
   "source": [
    "# apply gene Count to all files in each folder\n",
    "methodList = [\"genemark\", \"glimmer\", \"prodigal\"] #list of methods (identical to folder name)\n",
    "returnList = []\n",
    "from os import listdir\n",
    "from os.path import isfile, join\n",
    "for a in methodList:\n",
    "    onlyfiles = [f for f in listdir(a) if isfile(join(a, f))]\n",
    "    count = {}\n",
    "    for b in onlyfiles:\n",
    "        count[b] = geneCount(a + '\\\\' + b)\n",
    "    returnList.append(count)\n",
    "\n",
    "\n"
   ]
  },
  {
   "cell_type": "code",
   "execution_count": 17,
   "metadata": {},
   "outputs": [
    {
     "data": {
      "text/plain": [
       "[{'1304918.4.faa': 5546,\n",
       "  '1402497.3.faa': 6267,\n",
       "  '1439316.7.faa': 3768,\n",
       "  '1439318.3.faa': 5493,\n",
       "  '1439320.3.faa': 5054},\n",
       " {'1304918.4.PATRIC.faa': 5389,\n",
       "  '1328440.3.PATRIC.faa': 5337,\n",
       "  '1402497.3.PATRIC.faa': 6286,\n",
       "  '1439316.7.PATRIC.faa': 3737,\n",
       "  '1439318.3.PATRIC.faa': 5372,\n",
       "  '1439320.3.PATRIC.faa': 4934},\n",
       " {'1304918.4.faa': 5378,\n",
       "  '1328440.3.faa': 5139,\n",
       "  '1402497.3.faa': 6191,\n",
       "  '1439316.7.faa': 3706,\n",
       "  '1439318.3.faa': 5383,\n",
       "  '1439320.3.faa': 4920}]"
      ]
     },
     "execution_count": 17,
     "metadata": {},
     "output_type": "execute_result"
    }
   ],
   "source": [
    "returnList"
   ]
  },
  {
   "cell_type": "code",
   "execution_count": 2,
   "metadata": {},
   "outputs": [],
   "source": []
  },
  {
   "cell_type": "code",
   "execution_count": null,
   "metadata": {
    "collapsed": true
   },
   "outputs": [],
   "source": []
  }
 ],
 "metadata": {
  "kernelspec": {
   "display_name": "Python 3",
   "language": "python",
   "name": "python3"
  },
  "language_info": {
   "codemirror_mode": {
    "name": "ipython",
    "version": 3
   },
   "file_extension": ".py",
   "mimetype": "text/x-python",
   "name": "python",
   "nbconvert_exporter": "python",
   "pygments_lexer": "ipython3",
   "version": "3.6.4"
  }
 },
 "nbformat": 4,
 "nbformat_minor": 1
}
