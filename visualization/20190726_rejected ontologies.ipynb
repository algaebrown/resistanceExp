{
 "cells": [
  {
   "cell_type": "code",
   "execution_count": 1,
   "metadata": {},
   "outputs": [],
   "source": [
    "import pandas as pd\n",
    "p_pearson = pd.read_csv('/home/hermuba/data0118/ontologies/ontotype_pearson_more.csv', index_col = 0)\n",
    "signi_pearson = pd.read_csv('/home/hermuba/data0118/ontologies/ontotype_pearson_reject_more.csv', index_col = 0)\n",
    "pearson_df = pd.read_csv('/home/hermuba/data0118/ontologies/ontotype_pearson_corr_more.csv', index_col = 0)"
   ]
  },
  {
   "cell_type": "code",
   "execution_count": 2,
   "metadata": {},
   "outputs": [],
   "source": [
    "reject_stack = signi_pearson.stack()\n",
    "rejected = reject_stack[reject_stack == True]"
   ]
  },
  {
   "cell_type": "code",
   "execution_count": 3,
   "metadata": {},
   "outputs": [
    {
     "data": {
      "text/plain": [
       "S:551  trimethoprim-sulfamethoxazole    True\n",
       "       imipenem                         True\n",
       "S:559  ampicillin                       True\n",
       "S:562  amoxicillin-clavunate            True\n",
       "S:564  cefoxitin                        True\n",
       "S:566  ampicillin-sulbactam             True\n",
       "       trimethoprim-sulfamethoxazole    True\n",
       "S:571  ceftriaxone                      True\n",
       "       imipenem                         True\n",
       "S:573  levofloxacin                     True\n",
       "S:575  trimethoprim-sulfamethoxazole    True\n",
       "S:580  cefoxitin                        True\n",
       "S:581  gentamicin                       True\n",
       "S:589  amikacin                         True\n",
       "       cefepime                         True\n",
       "       amoxicillin-clavunate            True\n",
       "       ceftazidime                      True\n",
       "S:595  levofloxacin                     True\n",
       "       ceftriaxone                      True\n",
       "S:597  imipenem                         True\n",
       "S:601  amoxicillin-clavunate            True\n",
       "S:603  amoxicillin-clavunate            True\n",
       "S:618  ertapenem                        True\n",
       "       ceftazidime                      True\n",
       "S:619  trimethoprim-sulfamethoxazole    True\n",
       "       imipenem                         True\n",
       "       tigecycline                      True\n",
       "S:620  cefuroxime                       True\n",
       "S:625  aztreonam                        True\n",
       "       amoxicillin-clavunate            True\n",
       "                                        ... \n",
       "S:695  amoxicillin-clavunate            True\n",
       "S:700  ceftriaxone                      True\n",
       "S:704  imipenem                         True\n",
       "S:713  trimethoprim-sulfamethoxazole    True\n",
       "S:716  tobramycin                       True\n",
       "       ampicillin                       True\n",
       "S:743  tobramycin                       True\n",
       "       ampicillin                       True\n",
       "       amoxicillin-clavunate            True\n",
       "S:747  ampicillin-sulbactam             True\n",
       "       ceftriaxone                      True\n",
       "       tobramycin                       True\n",
       "       ampicillin                       True\n",
       "       imipenem                         True\n",
       "       ciprofloxacin                    True\n",
       "S:750  ampicillin                       True\n",
       "       meropenem                        True\n",
       "       imipenem                         True\n",
       "       cefotaxime                       True\n",
       "       ciprofloxacin                    True\n",
       "S:752  levofloxacin                     True\n",
       "       ampicillin-sulbactam             True\n",
       "S:753  tobramycin                       True\n",
       "       tigecycline                      True\n",
       "S:754  levofloxacin                     True\n",
       "S:770  ceftriaxone                      True\n",
       "S:771  ampicillin                       True\n",
       "       imipenem                         True\n",
       "S:774  ceftriaxone                      True\n",
       "       cefuroxime                       True\n",
       "Length: 105, dtype: object"
      ]
     },
     "execution_count": 3,
     "metadata": {},
     "output_type": "execute_result"
    }
   ],
   "source": [
    "rejected"
   ]
  },
  {
   "cell_type": "code",
   "execution_count": 5,
   "metadata": {},
   "outputs": [
    {
     "name": "stderr",
     "output_type": "stream",
     "text": [
      "/home/hermuba/miniconda3/envs/ddot/lib/python3.6/site-packages/ipykernel_launcher.py:1: FutureWarning: The signature of `Series.to_csv` was aligned to that of `DataFrame.to_csv`, and argument 'header' will change its default value from False to True: please pass an explicit value to suppress this warning.\n",
      "  \"\"\"Entry point for launching an IPython kernel.\n"
     ]
    }
   ],
   "source": [
    "rejected.to_csv('/home/hermuba/data0118/network1122/rejected_ontology.csv')"
   ]
  },
  {
   "cell_type": "code",
   "execution_count": 11,
   "metadata": {},
   "outputs": [],
   "source": [
    "# import drug category\n",
    "drug_df = pd.read_pickle('/home/hermuba/data0118/drug_category')"
   ]
  },
  {
   "cell_type": "code",
   "execution_count": 50,
   "metadata": {},
   "outputs": [
    {
     "data": {
      "text/plain": [
       "cephems               26\n",
       "quinolones            16\n",
       "b_lactam_inhibitor    12\n",
       "aminoglycosides        8\n",
       "folate_path            6\n",
       "penicillins            6\n",
       "tetracyclines          6\n",
       "carbapenems            4\n",
       "lipopeptides           3\n",
       "macrolides             3\n",
       "phenicols              2\n",
       "fosfomycins            1\n",
       "licosamide             1\n",
       "nitrofurans            1\n",
       "pleuromutilin          1\n",
       "monobactams            1\n",
       "Name: category, dtype: int64"
      ]
     },
     "execution_count": 50,
     "metadata": {},
     "output_type": "execute_result"
    }
   ],
   "source": [
    "drug_df['category'].value_counts()"
   ]
  },
  {
   "cell_type": "code",
   "execution_count": 56,
   "metadata": {},
   "outputs": [],
   "source": [
    "def anno_to_pheno(drug_cat, resfam_class_list):\n",
    "    '''\n",
    "    drug_cat = drug category in drug_df\n",
    "    \n",
    "    '''\n",
    "\n",
    "    # find genes based on phenotype\n",
    "    drug_names = drug_df.loc[drug_df['category'] == drug_cat]['drug']\n",
    "    pheno_genes = rejected.loc[slice(None), drug_names].index.get_level_values(0)\n",
    "    \n",
    "    print(len(pheno_genes), ' number of genes with phenotypic significance')\n",
    "    \n",
    "    # see if they fit the annotation\n",
    "    for anno in resfam_class_list:\n",
    "              \n",
    "        # within all pheno predicted\n",
    "        count_value = resfam_abx.loc[pheno_genes, anno].value_counts()\n",
    "        fp = count_value[False]\n",
    "        \n",
    "        if True in count_value.index:\n",
    "            tp = count_value[True]\n",
    "        else:\n",
    "            tp = 0\n",
    "        \n",
    "        nan = len(pheno_genes) - tp - fp\n",
    "        \n",
    "        # within all annotated\n",
    "        fn = resfam_abx.loc[resfam_abx[anno] == True].shape[0] - tp\n",
    "        \n",
    "        print(tp/len(pheno_genes), fp/len(pheno_genes), nan/len(pheno_genes), fn/resfam_abx.loc[resfam_abx[anno] == True].shape[0])"
   ]
  },
  {
   "cell_type": "code",
   "execution_count": 57,
   "metadata": {},
   "outputs": [
    {
     "name": "stdout",
     "output_type": "stream",
     "text": [
      "80  number of genes with phenotypic significance\n",
      "0.0 0.7625 0.2375 1.0\n"
     ]
    }
   ],
   "source": [
    "anno_to_pheno('quinolones', ['Quinolone Resistance'])"
   ]
  },
  {
   "cell_type": "code",
   "execution_count": 61,
   "metadata": {},
   "outputs": [
    {
     "name": "stdout",
     "output_type": "stream",
     "text": [
      "236  number of genes with phenotypic significance\n",
      "0.11440677966101695 0.6101694915254238 0.2754237288135593 0.5573770491803278\n"
     ]
    }
   ],
   "source": [
    "anno_to_pheno('cephems', ['Beta-Lactamase'])"
   ]
  },
  {
   "cell_type": "code",
   "execution_count": 64,
   "metadata": {},
   "outputs": [
    {
     "name": "stdout",
     "output_type": "stream",
     "text": [
      "45  number of genes with phenotypic significance\n",
      "0.1111111111111111 0.6888888888888889 0.2 0.9180327868852459\n"
     ]
    }
   ],
   "source": [
    "anno_to_pheno('penicillins', ['Beta-Lactamase'])"
   ]
  },
  {
   "cell_type": "code",
   "execution_count": 62,
   "metadata": {},
   "outputs": [
    {
     "name": "stdout",
     "output_type": "stream",
     "text": [
      "84  number of genes with phenotypic significance\n",
      "0.11904761904761904 0.6547619047619048 0.2261904761904762 0.8360655737704918\n"
     ]
    }
   ],
   "source": [
    "anno_to_pheno('b_lactam_inhibitor', ['Beta-Lactamase'])"
   ]
  },
  {
   "cell_type": "code",
   "execution_count": 63,
   "metadata": {},
   "outputs": [
    {
     "name": "stdout",
     "output_type": "stream",
     "text": [
      "153  number of genes with phenotypic significance\n",
      "0.11764705882352941 0.673202614379085 0.20915032679738563 0.7049180327868853\n"
     ]
    }
   ],
   "source": [
    "anno_to_pheno('carbapenems', ['Beta-Lactamase'])"
   ]
  },
  {
   "cell_type": "code",
   "execution_count": 65,
   "metadata": {},
   "outputs": [
    {
     "name": "stdout",
     "output_type": "stream",
     "text": [
      "105  number of genes with phenotypic significance\n",
      "0.17142857142857143 0.6190476190476191 0.20952380952380953 0.6949152542372882\n",
      "0.02857142857142857 0.7619047619047619 0.20952380952380953 0.5714285714285714\n",
      "0.02857142857142857 0.7619047619047619 0.20952380952380953 0.9032258064516129\n"
     ]
    }
   ],
   "source": [
    "anno_to_pheno('aminoglycosides', ['Aminoglycoside Modifying Enzyme', 'Aminoglycoside Resistance', 'rRNA Methyltransferase'])"
   ]
  },
  {
   "cell_type": "code",
   "execution_count": null,
   "metadata": {},
   "outputs": [],
   "source": []
  }
 ],
 "metadata": {
  "kernelspec": {
   "display_name": "Python 3",
   "language": "python",
   "name": "python3"
  },
  "language_info": {
   "codemirror_mode": {
    "name": "ipython",
    "version": 3
   },
   "file_extension": ".py",
   "mimetype": "text/x-python",
   "name": "python",
   "nbconvert_exporter": "python",
   "pygments_lexer": "ipython3",
   "version": "3.6.7"
  }
 },
 "nbformat": 4,
 "nbformat_minor": 2
}
