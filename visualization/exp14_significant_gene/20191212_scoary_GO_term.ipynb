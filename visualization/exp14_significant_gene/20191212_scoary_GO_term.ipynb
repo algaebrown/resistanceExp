{
 "cells": [
  {
   "cell_type": "code",
   "execution_count": 1,
   "metadata": {},
   "outputs": [],
   "source": [
    "import pandas as pd\n",
    "resist = pd.read_csv('~/data0118/scoary_summary/resist.csv', index_col = 0, header = 0)\n",
    "gold_anno = pd.read_csv('/home/hermuba/data0118/goldstandard/ec_rmplasmid_node_anno.csv', header = 0, index_col = 0) "
   ]
  },
  {
   "cell_type": "code",
   "execution_count": 2,
   "metadata": {},
   "outputs": [
    {
     "data": {
      "text/html": [
       "<div>\n",
       "<style scoped>\n",
       "    .dataframe tbody tr th:only-of-type {\n",
       "        vertical-align: middle;\n",
       "    }\n",
       "\n",
       "    .dataframe tbody tr th {\n",
       "        vertical-align: top;\n",
       "    }\n",
       "\n",
       "    .dataframe thead th {\n",
       "        text-align: right;\n",
       "    }\n",
       "</style>\n",
       "<table border=\"1\" class=\"dataframe\">\n",
       "  <thead>\n",
       "    <tr style=\"text-align: right;\">\n",
       "      <th></th>\n",
       "      <th>Cluster 15458</th>\n",
       "      <th>Cluster 11267</th>\n",
       "      <th>Cluster 21370</th>\n",
       "      <th>Cluster 30220</th>\n",
       "      <th>Cluster 22150</th>\n",
       "      <th>Cluster 2710</th>\n",
       "      <th>Cluster 25640</th>\n",
       "      <th>Cluster 3083</th>\n",
       "      <th>Cluster 19104</th>\n",
       "      <th>Cluster 20333</th>\n",
       "      <th>...</th>\n",
       "      <th>Cluster 3510</th>\n",
       "      <th>Cluster 19943</th>\n",
       "      <th>Cluster 5686</th>\n",
       "      <th>Cluster 17920</th>\n",
       "      <th>Cluster 18729</th>\n",
       "      <th>Cluster 30331</th>\n",
       "      <th>Cluster 29515</th>\n",
       "      <th>Cluster 13557</th>\n",
       "      <th>Cluster 8839</th>\n",
       "      <th>Cluster 3483</th>\n",
       "    </tr>\n",
       "  </thead>\n",
       "  <tbody>\n",
       "    <tr>\n",
       "      <th>ceftazidime</th>\n",
       "      <td>0</td>\n",
       "      <td>1</td>\n",
       "      <td>1</td>\n",
       "      <td>0</td>\n",
       "      <td>1</td>\n",
       "      <td>1</td>\n",
       "      <td>0</td>\n",
       "      <td>0</td>\n",
       "      <td>0</td>\n",
       "      <td>1</td>\n",
       "      <td>...</td>\n",
       "      <td>1</td>\n",
       "      <td>0</td>\n",
       "      <td>1</td>\n",
       "      <td>1</td>\n",
       "      <td>1</td>\n",
       "      <td>0</td>\n",
       "      <td>0</td>\n",
       "      <td>0</td>\n",
       "      <td>1</td>\n",
       "      <td>1</td>\n",
       "    </tr>\n",
       "    <tr>\n",
       "      <th>ciprofloxacin</th>\n",
       "      <td>0</td>\n",
       "      <td>0</td>\n",
       "      <td>0</td>\n",
       "      <td>0</td>\n",
       "      <td>0</td>\n",
       "      <td>1</td>\n",
       "      <td>0</td>\n",
       "      <td>1</td>\n",
       "      <td>0</td>\n",
       "      <td>0</td>\n",
       "      <td>...</td>\n",
       "      <td>1</td>\n",
       "      <td>1</td>\n",
       "      <td>1</td>\n",
       "      <td>1</td>\n",
       "      <td>1</td>\n",
       "      <td>1</td>\n",
       "      <td>0</td>\n",
       "      <td>1</td>\n",
       "      <td>1</td>\n",
       "      <td>0</td>\n",
       "    </tr>\n",
       "    <tr>\n",
       "      <th>cefuroxime</th>\n",
       "      <td>0</td>\n",
       "      <td>0</td>\n",
       "      <td>0</td>\n",
       "      <td>0</td>\n",
       "      <td>0</td>\n",
       "      <td>0</td>\n",
       "      <td>0</td>\n",
       "      <td>0</td>\n",
       "      <td>0</td>\n",
       "      <td>0</td>\n",
       "      <td>...</td>\n",
       "      <td>1</td>\n",
       "      <td>0</td>\n",
       "      <td>1</td>\n",
       "      <td>1</td>\n",
       "      <td>0</td>\n",
       "      <td>0</td>\n",
       "      <td>0</td>\n",
       "      <td>0</td>\n",
       "      <td>1</td>\n",
       "      <td>1</td>\n",
       "    </tr>\n",
       "    <tr>\n",
       "      <th>meropenem</th>\n",
       "      <td>0</td>\n",
       "      <td>1</td>\n",
       "      <td>1</td>\n",
       "      <td>0</td>\n",
       "      <td>1</td>\n",
       "      <td>0</td>\n",
       "      <td>0</td>\n",
       "      <td>1</td>\n",
       "      <td>0</td>\n",
       "      <td>1</td>\n",
       "      <td>...</td>\n",
       "      <td>0</td>\n",
       "      <td>0</td>\n",
       "      <td>0</td>\n",
       "      <td>0</td>\n",
       "      <td>0</td>\n",
       "      <td>0</td>\n",
       "      <td>0</td>\n",
       "      <td>0</td>\n",
       "      <td>1</td>\n",
       "      <td>0</td>\n",
       "    </tr>\n",
       "    <tr>\n",
       "      <th>cefotaxime</th>\n",
       "      <td>0</td>\n",
       "      <td>0</td>\n",
       "      <td>0</td>\n",
       "      <td>0</td>\n",
       "      <td>0</td>\n",
       "      <td>1</td>\n",
       "      <td>0</td>\n",
       "      <td>0</td>\n",
       "      <td>0</td>\n",
       "      <td>0</td>\n",
       "      <td>...</td>\n",
       "      <td>1</td>\n",
       "      <td>0</td>\n",
       "      <td>1</td>\n",
       "      <td>1</td>\n",
       "      <td>1</td>\n",
       "      <td>1</td>\n",
       "      <td>1</td>\n",
       "      <td>1</td>\n",
       "      <td>1</td>\n",
       "      <td>0</td>\n",
       "    </tr>\n",
       "  </tbody>\n",
       "</table>\n",
       "<p>5 rows × 5340 columns</p>\n",
       "</div>"
      ],
      "text/plain": [
       "               Cluster 15458  Cluster 11267  Cluster 21370  Cluster 30220  \\\n",
       "ceftazidime                0              1              1              0   \n",
       "ciprofloxacin              0              0              0              0   \n",
       "cefuroxime                 0              0              0              0   \n",
       "meropenem                  0              1              1              0   \n",
       "cefotaxime                 0              0              0              0   \n",
       "\n",
       "               Cluster 22150  Cluster 2710  Cluster 25640  Cluster 3083  \\\n",
       "ceftazidime                1             1              0             0   \n",
       "ciprofloxacin              0             1              0             1   \n",
       "cefuroxime                 0             0              0             0   \n",
       "meropenem                  1             0              0             1   \n",
       "cefotaxime                 0             1              0             0   \n",
       "\n",
       "               Cluster 19104  Cluster 20333  ...  Cluster 3510  Cluster 19943  \\\n",
       "ceftazidime                0              1  ...             1              0   \n",
       "ciprofloxacin              0              0  ...             1              1   \n",
       "cefuroxime                 0              0  ...             1              0   \n",
       "meropenem                  0              1  ...             0              0   \n",
       "cefotaxime                 0              0  ...             1              0   \n",
       "\n",
       "               Cluster 5686  Cluster 17920  Cluster 18729  Cluster 30331  \\\n",
       "ceftazidime               1              1              1              0   \n",
       "ciprofloxacin             1              1              1              1   \n",
       "cefuroxime                1              1              0              0   \n",
       "meropenem                 0              0              0              0   \n",
       "cefotaxime                1              1              1              1   \n",
       "\n",
       "               Cluster 29515  Cluster 13557  Cluster 8839  Cluster 3483  \n",
       "ceftazidime                0              0             1             1  \n",
       "ciprofloxacin              0              1             1             0  \n",
       "cefuroxime                 0              0             1             1  \n",
       "meropenem                  0              0             1             0  \n",
       "cefotaxime                 1              1             1             0  \n",
       "\n",
       "[5 rows x 5340 columns]"
      ]
     },
     "execution_count": 2,
     "metadata": {},
     "output_type": "execute_result"
    }
   ],
   "source": [
    "resist.head()"
   ]
  },
  {
   "cell_type": "code",
   "execution_count": 3,
   "metadata": {},
   "outputs": [],
   "source": [
    "resist_clusters = resist.columns.tolist()"
   ]
  },
  {
   "cell_type": "code",
   "execution_count": 4,
   "metadata": {},
   "outputs": [
    {
     "data": {
      "text/html": [
       "<div>\n",
       "<style scoped>\n",
       "    .dataframe tbody tr th:only-of-type {\n",
       "        vertical-align: middle;\n",
       "    }\n",
       "\n",
       "    .dataframe tbody tr th {\n",
       "        vertical-align: top;\n",
       "    }\n",
       "\n",
       "    .dataframe thead th {\n",
       "        text-align: right;\n",
       "    }\n",
       "</style>\n",
       "<table border=\"1\" class=\"dataframe\">\n",
       "  <thead>\n",
       "    <tr style=\"text-align: right;\">\n",
       "      <th></th>\n",
       "      <th>cog_ID</th>\n",
       "      <th>cog_category</th>\n",
       "      <th>cluster</th>\n",
       "      <th>count</th>\n",
       "      <th>core</th>\n",
       "      <th>loose_best_ARO</th>\n",
       "      <th>loose_ARO</th>\n",
       "      <th>strict_best_ARO</th>\n",
       "      <th>strict_ARO</th>\n",
       "      <th>is_card</th>\n",
       "      <th>resfam</th>\n",
       "      <th>aclame_title</th>\n",
       "      <th>is_aclame</th>\n",
       "      <th>nr</th>\n",
       "      <th>hypo_nr</th>\n",
       "      <th>drug_target</th>\n",
       "      <th>is_drug_target</th>\n",
       "      <th>GO</th>\n",
       "      <th>pathway</th>\n",
       "      <th>domain</th>\n",
       "    </tr>\n",
       "  </thead>\n",
       "  <tbody>\n",
       "    <tr>\n",
       "      <th>562.10576.con.0001_191|562.10576</th>\n",
       "      <td>NaN</td>\n",
       "      <td>NaN</td>\n",
       "      <td>Cluster 21552</td>\n",
       "      <td>4.0</td>\n",
       "      <td>False</td>\n",
       "      <td>NaN</td>\n",
       "      <td>NaN</td>\n",
       "      <td>NaN</td>\n",
       "      <td>NaN</td>\n",
       "      <td>False</td>\n",
       "      <td>NaN</td>\n",
       "      <td>NaN</td>\n",
       "      <td>False</td>\n",
       "      <td>WP_029490538.1 XRE family transcriptional regu...</td>\n",
       "      <td>NaN</td>\n",
       "      <td>NaN</td>\n",
       "      <td>False</td>\n",
       "      <td>{'GO:0003677'}</td>\n",
       "      <td>NaN</td>\n",
       "      <td>{'IPR010982', 'IPR001387'}</td>\n",
       "    </tr>\n",
       "    <tr>\n",
       "      <th>562.10576.con.0001_340|562.10576</th>\n",
       "      <td>NaN</td>\n",
       "      <td>NaN</td>\n",
       "      <td>Cluster 25881</td>\n",
       "      <td>2.0</td>\n",
       "      <td>False</td>\n",
       "      <td>NaN</td>\n",
       "      <td>NaN</td>\n",
       "      <td>NaN</td>\n",
       "      <td>NaN</td>\n",
       "      <td>False</td>\n",
       "      <td>NaN</td>\n",
       "      <td>NaN</td>\n",
       "      <td>False</td>\n",
       "      <td>BAX17271.1 mannitol-specific cryptic phosphotr...</td>\n",
       "      <td>NaN</td>\n",
       "      <td>NaN</td>\n",
       "      <td>False</td>\n",
       "      <td>NaN</td>\n",
       "      <td>{'Reactome: R-HSA-425381'}</td>\n",
       "      <td>{'IPR016152'}</td>\n",
       "    </tr>\n",
       "    <tr>\n",
       "      <th>562.10576.con.0001_510|562.10576</th>\n",
       "      <td>COG3025</td>\n",
       "      <td>S</td>\n",
       "      <td>Cluster 4549</td>\n",
       "      <td>1577.0</td>\n",
       "      <td>True</td>\n",
       "      <td>NaN</td>\n",
       "      <td>NaN</td>\n",
       "      <td>NaN</td>\n",
       "      <td>NaN</td>\n",
       "      <td>False</td>\n",
       "      <td>NaN</td>\n",
       "      <td>NaN</td>\n",
       "      <td>False</td>\n",
       "      <td>WP_000046247.1 MULTISPECIES: inorganic triphos...</td>\n",
       "      <td>NaN</td>\n",
       "      <td>NaN</td>\n",
       "      <td>False</td>\n",
       "      <td>NaN</td>\n",
       "      <td>{'Reactome: R-HSA-196819'}</td>\n",
       "      <td>{'IPR033469', 'IPR007899', 'IPR023577'}</td>\n",
       "    </tr>\n",
       "    <tr>\n",
       "      <th>562.10576.con.0001_61|562.10576</th>\n",
       "      <td>NaN</td>\n",
       "      <td>NaN</td>\n",
       "      <td>Cluster 9352</td>\n",
       "      <td>808.0</td>\n",
       "      <td>False</td>\n",
       "      <td>NaN</td>\n",
       "      <td>NaN</td>\n",
       "      <td>NaN</td>\n",
       "      <td>NaN</td>\n",
       "      <td>False</td>\n",
       "      <td>NaN</td>\n",
       "      <td>NaN</td>\n",
       "      <td>False</td>\n",
       "      <td>RDQ34329.1 hypothetical protein C4A40_03306 [E...</td>\n",
       "      <td>True</td>\n",
       "      <td>NaN</td>\n",
       "      <td>False</td>\n",
       "      <td>NaN</td>\n",
       "      <td>NaN</td>\n",
       "      <td>NaN</td>\n",
       "    </tr>\n",
       "    <tr>\n",
       "      <th>562.10576.con.0002_214|562.10576</th>\n",
       "      <td>COG1309</td>\n",
       "      <td>K</td>\n",
       "      <td>Cluster 14599</td>\n",
       "      <td>1579.0</td>\n",
       "      <td>True</td>\n",
       "      <td>NaN</td>\n",
       "      <td>NaN</td>\n",
       "      <td>NaN</td>\n",
       "      <td>NaN</td>\n",
       "      <td>False</td>\n",
       "      <td>NaN</td>\n",
       "      <td>NaN</td>\n",
       "      <td>False</td>\n",
       "      <td>EHO00211.1 HTH-type transcriptional repressor ...</td>\n",
       "      <td>NaN</td>\n",
       "      <td>NaN</td>\n",
       "      <td>False</td>\n",
       "      <td>{'GO:0003677'}</td>\n",
       "      <td>NaN</td>\n",
       "      <td>{'IPR001647', 'IPR009057', 'IPR011075', 'IPR03...</td>\n",
       "    </tr>\n",
       "  </tbody>\n",
       "</table>\n",
       "</div>"
      ],
      "text/plain": [
       "                                   cog_ID cog_category        cluster   count  \\\n",
       "562.10576.con.0001_191|562.10576      NaN          NaN  Cluster 21552     4.0   \n",
       "562.10576.con.0001_340|562.10576      NaN          NaN  Cluster 25881     2.0   \n",
       "562.10576.con.0001_510|562.10576  COG3025            S   Cluster 4549  1577.0   \n",
       "562.10576.con.0001_61|562.10576       NaN          NaN   Cluster 9352   808.0   \n",
       "562.10576.con.0002_214|562.10576  COG1309            K  Cluster 14599  1579.0   \n",
       "\n",
       "                                   core loose_best_ARO loose_ARO  \\\n",
       "562.10576.con.0001_191|562.10576  False            NaN       NaN   \n",
       "562.10576.con.0001_340|562.10576  False            NaN       NaN   \n",
       "562.10576.con.0001_510|562.10576   True            NaN       NaN   \n",
       "562.10576.con.0001_61|562.10576   False            NaN       NaN   \n",
       "562.10576.con.0002_214|562.10576   True            NaN       NaN   \n",
       "\n",
       "                                 strict_best_ARO strict_ARO  is_card resfam  \\\n",
       "562.10576.con.0001_191|562.10576             NaN        NaN    False    NaN   \n",
       "562.10576.con.0001_340|562.10576             NaN        NaN    False    NaN   \n",
       "562.10576.con.0001_510|562.10576             NaN        NaN    False    NaN   \n",
       "562.10576.con.0001_61|562.10576              NaN        NaN    False    NaN   \n",
       "562.10576.con.0002_214|562.10576             NaN        NaN    False    NaN   \n",
       "\n",
       "                                 aclame_title  is_aclame  \\\n",
       "562.10576.con.0001_191|562.10576          NaN      False   \n",
       "562.10576.con.0001_340|562.10576          NaN      False   \n",
       "562.10576.con.0001_510|562.10576          NaN      False   \n",
       "562.10576.con.0001_61|562.10576           NaN      False   \n",
       "562.10576.con.0002_214|562.10576          NaN      False   \n",
       "\n",
       "                                                                                 nr  \\\n",
       "562.10576.con.0001_191|562.10576  WP_029490538.1 XRE family transcriptional regu...   \n",
       "562.10576.con.0001_340|562.10576  BAX17271.1 mannitol-specific cryptic phosphotr...   \n",
       "562.10576.con.0001_510|562.10576  WP_000046247.1 MULTISPECIES: inorganic triphos...   \n",
       "562.10576.con.0001_61|562.10576   RDQ34329.1 hypothetical protein C4A40_03306 [E...   \n",
       "562.10576.con.0002_214|562.10576  EHO00211.1 HTH-type transcriptional repressor ...   \n",
       "\n",
       "                                 hypo_nr drug_target  is_drug_target  \\\n",
       "562.10576.con.0001_191|562.10576     NaN         NaN           False   \n",
       "562.10576.con.0001_340|562.10576     NaN         NaN           False   \n",
       "562.10576.con.0001_510|562.10576     NaN         NaN           False   \n",
       "562.10576.con.0001_61|562.10576     True         NaN           False   \n",
       "562.10576.con.0002_214|562.10576     NaN         NaN           False   \n",
       "\n",
       "                                              GO                     pathway  \\\n",
       "562.10576.con.0001_191|562.10576  {'GO:0003677'}                         NaN   \n",
       "562.10576.con.0001_340|562.10576             NaN  {'Reactome: R-HSA-425381'}   \n",
       "562.10576.con.0001_510|562.10576             NaN  {'Reactome: R-HSA-196819'}   \n",
       "562.10576.con.0001_61|562.10576              NaN                         NaN   \n",
       "562.10576.con.0002_214|562.10576  {'GO:0003677'}                         NaN   \n",
       "\n",
       "                                                                             domain  \n",
       "562.10576.con.0001_191|562.10576                         {'IPR010982', 'IPR001387'}  \n",
       "562.10576.con.0001_340|562.10576                                      {'IPR016152'}  \n",
       "562.10576.con.0001_510|562.10576            {'IPR033469', 'IPR007899', 'IPR023577'}  \n",
       "562.10576.con.0001_61|562.10576                                                 NaN  \n",
       "562.10576.con.0002_214|562.10576  {'IPR001647', 'IPR009057', 'IPR011075', 'IPR03...  "
      ]
     },
     "execution_count": 4,
     "metadata": {},
     "output_type": "execute_result"
    }
   ],
   "source": [
    "gold_anno.head()"
   ]
  },
  {
   "cell_type": "code",
   "execution_count": 5,
   "metadata": {},
   "outputs": [],
   "source": [
    "resist_subset = gold_anno.loc[gold_anno['cluster'].isin(resist_clusters)]"
   ]
  },
  {
   "cell_type": "code",
   "execution_count": 6,
   "metadata": {},
   "outputs": [
    {
     "data": {
      "text/plain": [
       "(5340, 20)"
      ]
     },
     "execution_count": 6,
     "metadata": {},
     "output_type": "execute_result"
    }
   ],
   "source": [
    "resist_subset.shape"
   ]
  },
  {
   "cell_type": "code",
   "execution_count": 8,
   "metadata": {},
   "outputs": [
    {
     "data": {
      "text/plain": [
       "0.31104868913857681"
      ]
     },
     "execution_count": 8,
     "metadata": {},
     "output_type": "execute_result"
    }
   ],
   "source": [
    "resist_subset['GO'].count()/resist_subset.shape[0]"
   ]
  },
  {
   "cell_type": "code",
   "execution_count": 9,
   "metadata": {},
   "outputs": [],
   "source": [
    "def all_go_term(series):\n",
    "    # remove nan\n",
    "    series.dropna(inplace = True)\n",
    "    \n",
    "    all_go_terms = set()\n",
    "    for sid in series.index:\n",
    "        go = series[sid]\n",
    "        #go = go.split(',')\n",
    "        #go = [g.replace('{','').replace('}','').replace('\\'','').replace('\\\"','') for g in go]\n",
    "        #series[sid] = go\n",
    "        all_go_terms = all_go_terms.union(go)\n",
    "        #print(all_go_terms)\n",
    "    # make into table\n",
    "    df = pd.DataFrame(index = series.index, columns = all_go_terms)\n",
    "    for sid in series.index:\n",
    "        df.loc[sid, list(series[sid])] = True\n",
    "    df.fillna(False, inplace =True)\n",
    "    \n",
    "    return(df)\n",
    "        \n",
    "        \n"
   ]
  },
  {
   "cell_type": "code",
   "execution_count": 10,
   "metadata": {},
   "outputs": [
    {
     "name": "stderr",
     "output_type": "stream",
     "text": [
      "/home/hermuba/miniconda3/lib/python3.6/site-packages/pandas/core/series.py:4303: SettingWithCopyWarning: \n",
      "A value is trying to be set on a copy of a slice from a DataFrame\n",
      "\n",
      "See the caveats in the documentation: http://pandas.pydata.org/pandas-docs/stable/indexing.html#indexing-view-versus-copy\n",
      "  self._update_inplace(result)\n"
     ]
    }
   ],
   "source": [
    "d = all_go_term(resist_subset['GO'])"
   ]
  },
  {
   "cell_type": "code",
   "execution_count": 11,
   "metadata": {},
   "outputs": [
    {
     "data": {
      "text/plain": [
       "Index([''', '}', '0', ':', 'O', 'G', '{', '6', ',', ' ', '7', '1', '5', '3',\n",
       "       '4', '2', '8', '9'],\n",
       "      dtype='object')"
      ]
     },
     "execution_count": 11,
     "metadata": {},
     "output_type": "execute_result"
    }
   ],
   "source": [
    "d.sum().sort_values(ascending = False).index[:20]"
   ]
  },
  {
   "cell_type": "markdown",
   "metadata": {},
   "source": [
    "[Tutorial on GOATTOOL](https://github.com/tanghaibao/goatools/blob/master/notebooks/goea_nbt3102.ipynb)"
   ]
  },
  {
   "cell_type": "code",
   "execution_count": 13,
   "metadata": {},
   "outputs": [
    {
     "name": "stdout",
     "output_type": "stream",
     "text": [
      "  EXISTS: go-basic.obo\n"
     ]
    }
   ],
   "source": [
    "# Get http://geneontology.org/ontology/go-basic.obo\n",
    "from goatools.base import download_go_basic_obo\n",
    "obo_fname = download_go_basic_obo()"
   ]
  },
  {
   "cell_type": "code",
   "execution_count": 14,
   "metadata": {},
   "outputs": [
    {
     "name": "stdout",
     "output_type": "stream",
     "text": [
      "  EXISTS: gene2go\n"
     ]
    }
   ],
   "source": [
    "# Get ftp://ftp.ncbi.nlm.nih.gov/gene/DATA/gene2go.gz\n",
    "from goatools.base import download_ncbi_associations\n",
    "fin_gene2go = download_ncbi_associations()"
   ]
  },
  {
   "cell_type": "code",
   "execution_count": 15,
   "metadata": {},
   "outputs": [
    {
     "name": "stdout",
     "output_type": "stream",
     "text": [
      "go-basic.obo: fmt(1.2) rel(2020-01-01) 47,337 GO Terms\n"
     ]
    }
   ],
   "source": [
    "from goatools.obo_parser import GODag\n",
    "\n",
    "obodag = GODag(\"go-basic.obo\")"
   ]
  },
  {
   "cell_type": "code",
   "execution_count": null,
   "metadata": {},
   "outputs": [],
   "source": [
    "from __future__ import print_function\n",
    "from goatools.anno.genetogo_reader import Gene2GoReader\n",
    "\n",
    "# Read NCBI's gene2go. Store annotations in a list of namedtuples\n",
    "objanno = Gene2GoReader(fin_gene2go, taxids=[10090])\n",
    "\n",
    "# Get namespace2association where:\n",
    "#    namespace is:\n",
    "#        BP: biological_process               \n",
    "#        MF: molecular_function\n",
    "#        CC: cellular_component\n",
    "#    assocation is a dict:\n",
    "#        key: NCBI GeneID\n",
    "#        value: A set of GO IDs associated with that gene\n",
    "ns2assoc = objanno.get_ns2assc()\n",
    "\n",
    "for nspc, id2gos in ns2assoc.items():\n",
    "    print(\"{NS} {N:,} annotated mouse genes\".format(NS=nspc, N=len(id2gos)))"
   ]
  },
  {
   "cell_type": "code",
   "execution_count": 21,
   "metadata": {},
   "outputs": [
    {
     "name": "stdout",
     "output_type": "stream",
     "text": [
      "HMS:0:00:00.084108  26,164 annotations READ: /home/hermuba/data0118/goldstandard/ec_rmplasmid.id2go \n",
      "**ERROR get_id2gos: GODAG NOT LOADED. IGNORING namespace(BP)\n",
      "10044 IDs in all associations\n"
     ]
    }
   ],
   "source": [
    "from goatools.associations import read_associations\n",
    "ns2assoc = read_associations('/home/hermuba/data0118/goldstandard/ec_rmplasmid.id2go', anno_type='id2gos', namespace = 'BP', no_top=True)"
   ]
  },
  {
   "cell_type": "code",
   "execution_count": 19,
   "metadata": {},
   "outputs": [
    {
     "name": "stdout",
     "output_type": "stream",
     "text": [
      "Help on class GOEnrichmentStudyNS in module goatools.goea.go_enrichment_ns:\n",
      "\n",
      "class GOEnrichmentStudyNS(builtins.object)\n",
      " |  Runs Fisher's exact test, as well as multiple corrections for each of: BP MF CC\n",
      " |  \n",
      " |  Methods defined here:\n",
      " |  \n",
      " |  __init__(self, pop, ns2assoc, godag, propagate_counts=True, alpha=0.05, methods=None, **kws)\n",
      " |      Initialize self.  See help(type(self)) for accurate signature.\n",
      " |  \n",
      " |  get_list_gosets(self)\n",
      " |      Get a list of all GO sets in all (BP, MF, CC) associations\n",
      " |  \n",
      " |  run_study(self, study_ids)\n",
      " |      Run GOEAs for each namespace, BP MF CC\n",
      " |  \n",
      " |  wr_tsv(self, fout_tsv, goea_results, **kws)\n",
      " |      Write to spreadsheet format\n",
      " |  \n",
      " |  wr_txt(self, fout_tsv, goea_results, **kws)\n",
      " |      Write to spreadsheet format\n",
      " |  \n",
      " |  wr_xlsx(self, fout_xlsx, goea_results, **kws)\n",
      " |      Write to spreadsheet format\n",
      " |  \n",
      " |  ----------------------------------------------------------------------\n",
      " |  Data descriptors defined here:\n",
      " |  \n",
      " |  __dict__\n",
      " |      dictionary for instance variables (if defined)\n",
      " |  \n",
      " |  __weakref__\n",
      " |      list of weak references to the object (if defined)\n",
      "\n"
     ]
    }
   ],
   "source": [
    "help(GOEnrichmentStudyNS)"
   ]
  },
  {
   "cell_type": "code",
   "execution_count": 38,
   "metadata": {},
   "outputs": [
    {
     "name": "stdout",
     "output_type": "stream",
     "text": [
      "\n",
      "Load GOEA Gene Ontology Analysis ...\n",
      "fisher module not installed.  Falling back on scipy.stats.fisher_exact\n",
      " 32% 10,044 of 31,621 population items found in association\n"
     ]
    }
   ],
   "source": [
    "from goatools.go_enrichment import GOEnrichmentStudy \n",
    "goea = GOEnrichmentStudy(gold_anno.index.tolist(), ns2assoc, obodag, propagate_counts = False,\n",
    "        alpha = 0.05, # default significance cut-off\n",
    "        methods = ['fdr_bh'])"
   ]
  },
  {
   "cell_type": "code",
   "execution_count": 39,
   "metadata": {},
   "outputs": [
    {
     "name": "stdout",
     "output_type": "stream",
     "text": [
      "\n",
      "Run GOEA Gene Ontology Analysis: current study set of 5340 IDs ...\n",
      " 31%  1,661 of  5,340 study items found in association\n",
      "100%  5,340 of  5,340 study items found in population(31621)\n",
      "Calculating 3,426 uncorrected p-values using fisher_scipy_stats\n",
      "   3,426 GO terms are associated with 10,044 of 31,621 population items\n",
      "   1,386 GO terms are associated with  1,661 of  5,340 study items\n",
      "  METHOD fdr_bh:\n",
      "      90 GO terms found significant (< 0.05=alpha) ( 43 enriched +  47 purified): statsmodels fdr_bh\n",
      "     761 study items associated with significant GO IDs (enriched)\n",
      "     781 study items associated with significant GO IDs (purified)\n"
     ]
    }
   ],
   "source": [
    "results_nt = goea.run_study(resist_subset.index.tolist())"
   ]
  },
  {
   "cell_type": "code",
   "execution_count": 40,
   "metadata": {},
   "outputs": [],
   "source": [
    "goea_results_sig = [r for r in results_nt if r.p_fdr_bh < 0.05]"
   ]
  },
  {
   "cell_type": "code",
   "execution_count": 43,
   "metadata": {},
   "outputs": [
    {
     "name": "stdout",
     "output_type": "stream",
     "text": [
      "   71 usr 116 GOs  WROTE: nbt3102_BP.png\n",
      "   15 usr  28 GOs  WROTE: nbt3102_MF.png\n",
      "    4 usr  10 GOs  WROTE: nbt3102_CC.png\n"
     ]
    }
   ],
   "source": [
    "# plotting\n",
    "from goatools.godag_plot import plot_gos, plot_results, plot_goid2goobj\n",
    "\n",
    "plot_results(\"nbt3102_{NS}.png\", goea_results_sig)"
   ]
  },
  {
   "cell_type": "code",
   "execution_count": 52,
   "metadata": {},
   "outputs": [
    {
     "data": {
      "text/plain": [
       "'GO:0006259'"
      ]
     },
     "execution_count": 52,
     "metadata": {},
     "output_type": "execute_result"
    }
   ],
   "source": [
    "goea_results_sig[0].GO"
   ]
  },
  {
   "cell_type": "markdown",
   "metadata": {},
   "source": [
    "# Print all enriched GO term"
   ]
  },
  {
   "cell_type": "code",
   "execution_count": 55,
   "metadata": {},
   "outputs": [],
   "source": [
    "go_id = [g.GO for g in goea_results_sig]\n",
    "bp = [obodag[gid].name for gid in go_id if obodag[gid].namespace == 'biological_process']\n",
    "cc = [obodag[gid].name for gid in go_id if obodag[gid].namespace == 'cellular_component']\n",
    "mf = [obodag[gid].name for gid in go_id if obodag[gid].namespace == 'molecular_function']"
   ]
  },
  {
   "cell_type": "code",
   "execution_count": 56,
   "metadata": {},
   "outputs": [
    {
     "data": {
      "text/plain": [
       "['protein-containing complex',\n",
       " 'ribosome',\n",
       " 'cellular_component',\n",
       " 'plasma membrane']"
      ]
     },
     "execution_count": 56,
     "metadata": {},
     "output_type": "execute_result"
    }
   ],
   "source": [
    "cc"
   ]
  },
  {
   "cell_type": "code",
   "execution_count": 57,
   "metadata": {},
   "outputs": [
    {
     "data": {
      "text/plain": [
       "['DNA metabolic process',\n",
       " 'transposition, DNA-mediated',\n",
       " 'transposition',\n",
       " 'DNA recombination',\n",
       " 'nucleic acid metabolic process',\n",
       " 'cellular macromolecule metabolic process',\n",
       " 'response to antibiotic',\n",
       " 'response to chemical',\n",
       " 'xenobiotic metabolic process',\n",
       " 'xenobiotic catabolic process',\n",
       " 'cellular aromatic compound metabolic process',\n",
       " 'hormone metabolic process',\n",
       " 'toxin catabolic process',\n",
       " 'hormone catabolic process',\n",
       " 'phenylacetate catabolic process',\n",
       " 'auxin catabolic process',\n",
       " 'auxin metabolic process',\n",
       " 'regulation of hormone levels',\n",
       " 'DNA integration',\n",
       " 'nucleobase-containing compound metabolic process',\n",
       " 'detoxification',\n",
       " 'organic cyclic compound metabolic process',\n",
       " 'benzene-containing compound metabolic process',\n",
       " 'aromatic compound catabolic process',\n",
       " 'heterocycle metabolic process',\n",
       " 'macromolecule metabolic process',\n",
       " 'DNA replication initiation',\n",
       " 'bacterial-type flagellum-dependent cell motility',\n",
       " 'movement of cell or subcellular component',\n",
       " 'archaeal or bacterial-type flagellum-dependent cell motility',\n",
       " 'cilium or flagellum-dependent cell motility',\n",
       " 'cell motility',\n",
       " 'intein-mediated protein splicing',\n",
       " 'protein splicing',\n",
       " 'response to mercury ion',\n",
       " 'cellular nitrogen compound metabolic process',\n",
       " 'organonitrogen compound biosynthetic process',\n",
       " 'biosynthetic process',\n",
       " 'organic substance biosynthetic process',\n",
       " 'organonitrogen compound metabolic process',\n",
       " 'cellular biosynthetic process',\n",
       " 'phosphorus metabolic process',\n",
       " 'organophosphate metabolic process',\n",
       " 'small molecule metabolic process',\n",
       " 'phosphate-containing compound metabolic process',\n",
       " 'ncRNA metabolic process',\n",
       " 'tRNA metabolic process',\n",
       " 'organophosphate biosynthetic process',\n",
       " 'RNA metabolic process',\n",
       " 'cellular nitrogen compound biosynthetic process',\n",
       " 'translation',\n",
       " 'transmembrane transport',\n",
       " 'small molecule biosynthetic process',\n",
       " 'cellular protein metabolic process',\n",
       " 'nucleobase-containing small molecule metabolic process',\n",
       " 'cellular amino acid metabolic process',\n",
       " 'carbohydrate derivative metabolic process',\n",
       " 'RNA processing',\n",
       " 'ncRNA processing',\n",
       " 'peptide biosynthetic process',\n",
       " 'organic cyclic compound biosynthetic process',\n",
       " 'tRNA processing',\n",
       " 'nucleoside phosphate metabolic process',\n",
       " 'localization',\n",
       " 'establishment of localization',\n",
       " 'transport',\n",
       " 'amino acid transport',\n",
       " 'heterocycle biosynthetic process',\n",
       " 'alpha-amino acid metabolic process',\n",
       " 'nucleotide metabolic process',\n",
       " 'protein-containing complex subunit organization']"
      ]
     },
     "execution_count": 57,
     "metadata": {},
     "output_type": "execute_result"
    }
   ],
   "source": [
    "bp"
   ]
  },
  {
   "cell_type": "markdown",
   "metadata": {},
   "source": [
    "![Alt Text](./nbt3102_BP.png)"
   ]
  },
  {
   "cell_type": "code",
   "execution_count": 58,
   "metadata": {},
   "outputs": [
    {
     "data": {
      "text/plain": [
       "['catalytic activity, acting on DNA',\n",
       " 'transposase activity',\n",
       " 'nucleic acid binding',\n",
       " 'DNA binding',\n",
       " 'mRNA binding',\n",
       " 'DNA-directed DNA polymerase activity',\n",
       " 'DNA polymerase activity',\n",
       " 'cofactor binding',\n",
       " 'coenzyme binding',\n",
       " 'structural constituent of ribosome',\n",
       " 'catalytic activity, acting on a tRNA',\n",
       " 'ligase activity',\n",
       " 'ion binding',\n",
       " 'small molecule binding',\n",
       " 'hydrolase activity, acting on carbon-nitrogen (but not peptide) bonds, in linear amides']"
      ]
     },
     "execution_count": 58,
     "metadata": {},
     "output_type": "execute_result"
    }
   ],
   "source": [
    "mf"
   ]
  },
  {
   "cell_type": "markdown",
   "metadata": {},
   "source": [
    "![molecular component](nbt3102_MF.png)"
   ]
  },
  {
   "cell_type": "code",
   "execution_count": null,
   "metadata": {},
   "outputs": [],
   "source": []
  }
 ],
 "metadata": {
  "kernelspec": {
   "display_name": "Python 3",
   "language": "python",
   "name": "python3"
  },
  "language_info": {
   "codemirror_mode": {
    "name": "ipython",
    "version": 3
   },
   "file_extension": ".py",
   "mimetype": "text/x-python",
   "name": "python",
   "nbconvert_exporter": "python",
   "pygments_lexer": "ipython3",
   "version": "3.6.7"
  }
 },
 "nbformat": 4,
 "nbformat_minor": 2
}
