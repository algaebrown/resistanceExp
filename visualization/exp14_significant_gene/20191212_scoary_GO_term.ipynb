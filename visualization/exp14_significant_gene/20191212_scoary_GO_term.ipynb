{
 "cells": [
  {
   "cell_type": "markdown",
   "metadata": {},
   "source": [
    "# Show Scoary genes has a lot of hypothetical genes that are not annotated by GO term"
   ]
  },
  {
   "cell_type": "code",
   "execution_count": 4,
   "metadata": {},
   "outputs": [],
   "source": [
    "import pandas as pd\n",
    "resist = pd.read_csv('~/data0118/scoary_summary/resist.csv', index_col = 0, header = 0)\n",
    "combine_value = pd.read_csv('~/data0118/scoary_summary/combine_value.csv', index_col = 0, header = 0)\n",
    "combine = pd.read_csv('~/data0118/scoary_summary/combine.csv', index_col = 0, header = 0)\n",
    "gold_anno = pd.read_csv('/home/hermuba/data0118/goldstandard/ec_rmplasmid_node_anno.csv', header = 0, index_col = 0) "
   ]
  },
  {
   "cell_type": "code",
   "execution_count": 5,
   "metadata": {},
   "outputs": [
    {
     "data": {
      "text/html": [
       "<div>\n",
       "<style scoped>\n",
       "    .dataframe tbody tr th:only-of-type {\n",
       "        vertical-align: middle;\n",
       "    }\n",
       "\n",
       "    .dataframe tbody tr th {\n",
       "        vertical-align: top;\n",
       "    }\n",
       "\n",
       "    .dataframe thead th {\n",
       "        text-align: right;\n",
       "    }\n",
       "</style>\n",
       "<table border=\"1\" class=\"dataframe\">\n",
       "  <thead>\n",
       "    <tr style=\"text-align: right;\">\n",
       "      <th></th>\n",
       "      <th>Cluster 4549</th>\n",
       "      <th>Cluster 9352</th>\n",
       "      <th>Cluster 14599</th>\n",
       "      <th>Cluster 8059</th>\n",
       "      <th>Cluster 9353</th>\n",
       "      <th>Cluster 7673</th>\n",
       "      <th>Cluster 5152</th>\n",
       "      <th>Cluster 4741</th>\n",
       "      <th>Cluster 15458</th>\n",
       "      <th>Cluster 11213</th>\n",
       "      <th>...</th>\n",
       "      <th>Cluster 5686</th>\n",
       "      <th>Cluster 17920</th>\n",
       "      <th>Cluster 18729</th>\n",
       "      <th>Cluster 30331</th>\n",
       "      <th>Cluster 29515</th>\n",
       "      <th>Cluster 13557</th>\n",
       "      <th>Cluster 8839</th>\n",
       "      <th>Cluster 17008</th>\n",
       "      <th>Cluster 3483</th>\n",
       "      <th>Cluster 27671</th>\n",
       "    </tr>\n",
       "  </thead>\n",
       "  <tbody>\n",
       "    <tr>\n",
       "      <th>ceftazidime</th>\n",
       "      <td>-1</td>\n",
       "      <td>0</td>\n",
       "      <td>0</td>\n",
       "      <td>0</td>\n",
       "      <td>0</td>\n",
       "      <td>0</td>\n",
       "      <td>0</td>\n",
       "      <td>0</td>\n",
       "      <td>0</td>\n",
       "      <td>-1</td>\n",
       "      <td>...</td>\n",
       "      <td>1</td>\n",
       "      <td>1</td>\n",
       "      <td>1</td>\n",
       "      <td>0</td>\n",
       "      <td>0</td>\n",
       "      <td>0</td>\n",
       "      <td>1</td>\n",
       "      <td>-1</td>\n",
       "      <td>1</td>\n",
       "      <td>0</td>\n",
       "    </tr>\n",
       "    <tr>\n",
       "      <th>ciprofloxacin</th>\n",
       "      <td>0</td>\n",
       "      <td>0</td>\n",
       "      <td>0</td>\n",
       "      <td>-1</td>\n",
       "      <td>-1</td>\n",
       "      <td>-1</td>\n",
       "      <td>0</td>\n",
       "      <td>0</td>\n",
       "      <td>0</td>\n",
       "      <td>-1</td>\n",
       "      <td>...</td>\n",
       "      <td>1</td>\n",
       "      <td>1</td>\n",
       "      <td>1</td>\n",
       "      <td>1</td>\n",
       "      <td>0</td>\n",
       "      <td>1</td>\n",
       "      <td>1</td>\n",
       "      <td>-1</td>\n",
       "      <td>0</td>\n",
       "      <td>0</td>\n",
       "    </tr>\n",
       "    <tr>\n",
       "      <th>cefuroxime</th>\n",
       "      <td>0</td>\n",
       "      <td>1</td>\n",
       "      <td>0</td>\n",
       "      <td>0</td>\n",
       "      <td>0</td>\n",
       "      <td>0</td>\n",
       "      <td>0</td>\n",
       "      <td>0</td>\n",
       "      <td>0</td>\n",
       "      <td>-1</td>\n",
       "      <td>...</td>\n",
       "      <td>1</td>\n",
       "      <td>1</td>\n",
       "      <td>0</td>\n",
       "      <td>0</td>\n",
       "      <td>0</td>\n",
       "      <td>0</td>\n",
       "      <td>1</td>\n",
       "      <td>-1</td>\n",
       "      <td>1</td>\n",
       "      <td>0</td>\n",
       "    </tr>\n",
       "    <tr>\n",
       "      <th>meropenem</th>\n",
       "      <td>0</td>\n",
       "      <td>0</td>\n",
       "      <td>0</td>\n",
       "      <td>0</td>\n",
       "      <td>0</td>\n",
       "      <td>0</td>\n",
       "      <td>0</td>\n",
       "      <td>0</td>\n",
       "      <td>-1</td>\n",
       "      <td>0</td>\n",
       "      <td>...</td>\n",
       "      <td>0</td>\n",
       "      <td>0</td>\n",
       "      <td>0</td>\n",
       "      <td>0</td>\n",
       "      <td>0</td>\n",
       "      <td>0</td>\n",
       "      <td>1</td>\n",
       "      <td>-1</td>\n",
       "      <td>0</td>\n",
       "      <td>0</td>\n",
       "    </tr>\n",
       "    <tr>\n",
       "      <th>cefotaxime</th>\n",
       "      <td>-1</td>\n",
       "      <td>0</td>\n",
       "      <td>0</td>\n",
       "      <td>0</td>\n",
       "      <td>0</td>\n",
       "      <td>0</td>\n",
       "      <td>0</td>\n",
       "      <td>0</td>\n",
       "      <td>0</td>\n",
       "      <td>-1</td>\n",
       "      <td>...</td>\n",
       "      <td>1</td>\n",
       "      <td>1</td>\n",
       "      <td>1</td>\n",
       "      <td>1</td>\n",
       "      <td>1</td>\n",
       "      <td>1</td>\n",
       "      <td>1</td>\n",
       "      <td>-1</td>\n",
       "      <td>0</td>\n",
       "      <td>0</td>\n",
       "    </tr>\n",
       "  </tbody>\n",
       "</table>\n",
       "<p>5 rows × 10588 columns</p>\n",
       "</div>"
      ],
      "text/plain": [
       "               Cluster 4549  Cluster 9352  Cluster 14599  Cluster 8059  \\\n",
       "ceftazidime              -1             0              0             0   \n",
       "ciprofloxacin             0             0              0            -1   \n",
       "cefuroxime                0             1              0             0   \n",
       "meropenem                 0             0              0             0   \n",
       "cefotaxime               -1             0              0             0   \n",
       "\n",
       "               Cluster 9353  Cluster 7673  Cluster 5152  Cluster 4741  \\\n",
       "ceftazidime               0             0             0             0   \n",
       "ciprofloxacin            -1            -1             0             0   \n",
       "cefuroxime                0             0             0             0   \n",
       "meropenem                 0             0             0             0   \n",
       "cefotaxime                0             0             0             0   \n",
       "\n",
       "               Cluster 15458  Cluster 11213  ...  Cluster 5686  Cluster 17920  \\\n",
       "ceftazidime                0             -1  ...             1              1   \n",
       "ciprofloxacin              0             -1  ...             1              1   \n",
       "cefuroxime                 0             -1  ...             1              1   \n",
       "meropenem                 -1              0  ...             0              0   \n",
       "cefotaxime                 0             -1  ...             1              1   \n",
       "\n",
       "               Cluster 18729  Cluster 30331  Cluster 29515  Cluster 13557  \\\n",
       "ceftazidime                1              0              0              0   \n",
       "ciprofloxacin              1              1              0              1   \n",
       "cefuroxime                 0              0              0              0   \n",
       "meropenem                  0              0              0              0   \n",
       "cefotaxime                 1              1              1              1   \n",
       "\n",
       "               Cluster 8839  Cluster 17008  Cluster 3483  Cluster 27671  \n",
       "ceftazidime               1             -1             1              0  \n",
       "ciprofloxacin             1             -1             0              0  \n",
       "cefuroxime                1             -1             1              0  \n",
       "meropenem                 1             -1             0              0  \n",
       "cefotaxime                1             -1             0              0  \n",
       "\n",
       "[5 rows x 10588 columns]"
      ]
     },
     "execution_count": 5,
     "metadata": {},
     "output_type": "execute_result"
    }
   ],
   "source": [
    "combine.head()"
   ]
  },
  {
   "cell_type": "code",
   "execution_count": 3,
   "metadata": {},
   "outputs": [
    {
     "data": {
      "text/html": [
       "<div>\n",
       "<style scoped>\n",
       "    .dataframe tbody tr th:only-of-type {\n",
       "        vertical-align: middle;\n",
       "    }\n",
       "\n",
       "    .dataframe tbody tr th {\n",
       "        vertical-align: top;\n",
       "    }\n",
       "\n",
       "    .dataframe thead th {\n",
       "        text-align: right;\n",
       "    }\n",
       "</style>\n",
       "<table border=\"1\" class=\"dataframe\">\n",
       "  <thead>\n",
       "    <tr style=\"text-align: right;\">\n",
       "      <th></th>\n",
       "      <th>Cluster 4549</th>\n",
       "      <th>Cluster 9352</th>\n",
       "      <th>Cluster 14599</th>\n",
       "      <th>Cluster 8059</th>\n",
       "      <th>Cluster 9353</th>\n",
       "      <th>Cluster 7673</th>\n",
       "      <th>Cluster 5152</th>\n",
       "      <th>Cluster 4741</th>\n",
       "      <th>Cluster 15458</th>\n",
       "      <th>Cluster 11213</th>\n",
       "      <th>...</th>\n",
       "      <th>Cluster 5686</th>\n",
       "      <th>Cluster 17920</th>\n",
       "      <th>Cluster 18729</th>\n",
       "      <th>Cluster 30331</th>\n",
       "      <th>Cluster 29515</th>\n",
       "      <th>Cluster 13557</th>\n",
       "      <th>Cluster 8839</th>\n",
       "      <th>Cluster 17008</th>\n",
       "      <th>Cluster 3483</th>\n",
       "      <th>Cluster 27671</th>\n",
       "    </tr>\n",
       "  </thead>\n",
       "  <tbody>\n",
       "    <tr>\n",
       "      <th>ceftazidime</th>\n",
       "      <td>0.039278</td>\n",
       "      <td>1.00000</td>\n",
       "      <td>1.0</td>\n",
       "      <td>1.0</td>\n",
       "      <td>1.0</td>\n",
       "      <td>1.0</td>\n",
       "      <td>1.0</td>\n",
       "      <td>1.0</td>\n",
       "      <td>1.000000</td>\n",
       "      <td>0.378935</td>\n",
       "      <td>...</td>\n",
       "      <td>8.474474</td>\n",
       "      <td>8.474474</td>\n",
       "      <td>8.611621</td>\n",
       "      <td>1.0</td>\n",
       "      <td>1.000000</td>\n",
       "      <td>1.0</td>\n",
       "      <td>14.756938</td>\n",
       "      <td>0.055040</td>\n",
       "      <td>2.138287</td>\n",
       "      <td>1.0</td>\n",
       "    </tr>\n",
       "    <tr>\n",
       "      <th>ciprofloxacin</th>\n",
       "      <td>1.000000</td>\n",
       "      <td>1.00000</td>\n",
       "      <td>1.0</td>\n",
       "      <td>1.0</td>\n",
       "      <td>1.0</td>\n",
       "      <td>1.0</td>\n",
       "      <td>1.0</td>\n",
       "      <td>1.0</td>\n",
       "      <td>1.000000</td>\n",
       "      <td>0.404684</td>\n",
       "      <td>...</td>\n",
       "      <td>8.574394</td>\n",
       "      <td>8.574394</td>\n",
       "      <td>3.573495</td>\n",
       "      <td>1000.0</td>\n",
       "      <td>1.000000</td>\n",
       "      <td>1000.0</td>\n",
       "      <td>14.652105</td>\n",
       "      <td>0.070140</td>\n",
       "      <td>1.000000</td>\n",
       "      <td>1.0</td>\n",
       "    </tr>\n",
       "    <tr>\n",
       "      <th>cefuroxime</th>\n",
       "      <td>1.000000</td>\n",
       "      <td>1.58044</td>\n",
       "      <td>1.0</td>\n",
       "      <td>1.0</td>\n",
       "      <td>1.0</td>\n",
       "      <td>1.0</td>\n",
       "      <td>1.0</td>\n",
       "      <td>1.0</td>\n",
       "      <td>1.000000</td>\n",
       "      <td>0.470522</td>\n",
       "      <td>...</td>\n",
       "      <td>7.993671</td>\n",
       "      <td>7.993671</td>\n",
       "      <td>1.000000</td>\n",
       "      <td>1.0</td>\n",
       "      <td>1.000000</td>\n",
       "      <td>1.0</td>\n",
       "      <td>4.986476</td>\n",
       "      <td>0.280755</td>\n",
       "      <td>1.936508</td>\n",
       "      <td>1.0</td>\n",
       "    </tr>\n",
       "    <tr>\n",
       "      <th>meropenem</th>\n",
       "      <td>1.000000</td>\n",
       "      <td>1.00000</td>\n",
       "      <td>1.0</td>\n",
       "      <td>1.0</td>\n",
       "      <td>1.0</td>\n",
       "      <td>1.0</td>\n",
       "      <td>1.0</td>\n",
       "      <td>1.0</td>\n",
       "      <td>0.406417</td>\n",
       "      <td>1.000000</td>\n",
       "      <td>...</td>\n",
       "      <td>1.000000</td>\n",
       "      <td>1.000000</td>\n",
       "      <td>1.000000</td>\n",
       "      <td>1.0</td>\n",
       "      <td>1.000000</td>\n",
       "      <td>1.0</td>\n",
       "      <td>9.338983</td>\n",
       "      <td>0.036756</td>\n",
       "      <td>1.000000</td>\n",
       "      <td>1.0</td>\n",
       "    </tr>\n",
       "    <tr>\n",
       "      <th>cefotaxime</th>\n",
       "      <td>1.000000</td>\n",
       "      <td>1.00000</td>\n",
       "      <td>1.0</td>\n",
       "      <td>1.0</td>\n",
       "      <td>1.0</td>\n",
       "      <td>1.0</td>\n",
       "      <td>1.0</td>\n",
       "      <td>1.0</td>\n",
       "      <td>1.000000</td>\n",
       "      <td>0.254149</td>\n",
       "      <td>...</td>\n",
       "      <td>9.083333</td>\n",
       "      <td>9.083333</td>\n",
       "      <td>5.210789</td>\n",
       "      <td>1000.0</td>\n",
       "      <td>18.068966</td>\n",
       "      <td>1000.0</td>\n",
       "      <td>19.067919</td>\n",
       "      <td>0.101525</td>\n",
       "      <td>1.000000</td>\n",
       "      <td>1.0</td>\n",
       "    </tr>\n",
       "  </tbody>\n",
       "</table>\n",
       "<p>5 rows × 10588 columns</p>\n",
       "</div>"
      ],
      "text/plain": [
       "               Cluster 4549  Cluster 9352  Cluster 14599  Cluster 8059  \\\n",
       "ceftazidime        0.039278       1.00000            1.0           1.0   \n",
       "ciprofloxacin      1.000000       1.00000            1.0           1.0   \n",
       "cefuroxime         1.000000       1.58044            1.0           1.0   \n",
       "meropenem          1.000000       1.00000            1.0           1.0   \n",
       "cefotaxime         1.000000       1.00000            1.0           1.0   \n",
       "\n",
       "               Cluster 9353  Cluster 7673  Cluster 5152  Cluster 4741  \\\n",
       "ceftazidime             1.0           1.0           1.0           1.0   \n",
       "ciprofloxacin           1.0           1.0           1.0           1.0   \n",
       "cefuroxime              1.0           1.0           1.0           1.0   \n",
       "meropenem               1.0           1.0           1.0           1.0   \n",
       "cefotaxime              1.0           1.0           1.0           1.0   \n",
       "\n",
       "               Cluster 15458  Cluster 11213  ...  Cluster 5686  Cluster 17920  \\\n",
       "ceftazidime         1.000000       0.378935  ...      8.474474       8.474474   \n",
       "ciprofloxacin       1.000000       0.404684  ...      8.574394       8.574394   \n",
       "cefuroxime          1.000000       0.470522  ...      7.993671       7.993671   \n",
       "meropenem           0.406417       1.000000  ...      1.000000       1.000000   \n",
       "cefotaxime          1.000000       0.254149  ...      9.083333       9.083333   \n",
       "\n",
       "               Cluster 18729  Cluster 30331  Cluster 29515  Cluster 13557  \\\n",
       "ceftazidime         8.611621            1.0       1.000000            1.0   \n",
       "ciprofloxacin       3.573495         1000.0       1.000000         1000.0   \n",
       "cefuroxime          1.000000            1.0       1.000000            1.0   \n",
       "meropenem           1.000000            1.0       1.000000            1.0   \n",
       "cefotaxime          5.210789         1000.0      18.068966         1000.0   \n",
       "\n",
       "               Cluster 8839  Cluster 17008  Cluster 3483  Cluster 27671  \n",
       "ceftazidime       14.756938       0.055040      2.138287            1.0  \n",
       "ciprofloxacin     14.652105       0.070140      1.000000            1.0  \n",
       "cefuroxime         4.986476       0.280755      1.936508            1.0  \n",
       "meropenem          9.338983       0.036756      1.000000            1.0  \n",
       "cefotaxime        19.067919       0.101525      1.000000            1.0  \n",
       "\n",
       "[5 rows x 10588 columns]"
      ]
     },
     "execution_count": 3,
     "metadata": {},
     "output_type": "execute_result"
    }
   ],
   "source": [
    "combine_value.head()"
   ]
  },
  {
   "cell_type": "markdown",
   "metadata": {},
   "source": [
    "# Three types of resistance-associated genes\n",
    "1. cause resistant to many drugs\n",
    "2. cause susceptible to many drugs\n",
    "3. drug specific resist\n",
    "4. drug specific suscept\n",
    "5. bivalent (tradeoff)"
   ]
  },
  {
   "cell_type": "code",
   "execution_count": 8,
   "metadata": {},
   "outputs": [],
   "source": [
    "df = pd.DataFrame()\n",
    "for clus in combine.columns:\n",
    "    df = df.append(combine[clus].value_counts())"
   ]
  },
  {
   "cell_type": "code",
   "execution_count": 10,
   "metadata": {},
   "outputs": [],
   "source": [
    "df.fillna(0, inplace = True)"
   ]
  },
  {
   "cell_type": "code",
   "execution_count": 14,
   "metadata": {},
   "outputs": [],
   "source": [
    "df.columns = df.columns.map({0:'Neutral', 1:'Resist', -1:'Suscept'})"
   ]
  },
  {
   "cell_type": "code",
   "execution_count": 39,
   "metadata": {},
   "outputs": [
    {
     "name": "stderr",
     "output_type": "stream",
     "text": [
      "/home/hermuba/miniconda3/lib/python3.6/site-packages/ipykernel_launcher.py:6: DeprecationWarning: The default dtype for empty Series will be 'object' instead of 'float64' in a future version. Specify a dtype explicitly to silence this warning.\n",
      "  \n"
     ]
    }
   ],
   "source": [
    "\n",
    "L = g.dendrogram_row.linkage\n",
    "# 0.2 can be modified to retrieve more stringent or relaxed clusters\n",
    "clusters = sch.fcluster(L, 5, 'distance')\n",
    "\n",
    "# clusters indicices correspond to incides of original df\n",
    "cluster_lbl = pd.Series()\n",
    "for i,cluster in enumerate(clusters):\n",
    "    cluster_lbl[df.index[i]]=cluster"
   ]
  },
  {
   "cell_type": "code",
   "execution_count": 35,
   "metadata": {},
   "outputs": [
    {
     "data": {
      "text/plain": [
       "array([[0.00000000e+00, 7.00000000e+01, 0.00000000e+00, 2.00000000e+00],\n",
       "       [1.00000000e+00, 3.11000000e+02, 0.00000000e+00, 2.00000000e+00],\n",
       "       [2.00000000e+00, 6.00000000e+00, 0.00000000e+00, 2.00000000e+00],\n",
       "       ...,\n",
       "       [2.11580000e+04, 2.11700000e+04, 6.93102280e+00, 7.90100000e+03],\n",
       "       [2.11710000e+04, 2.11720000e+04, 1.12510130e+01, 9.59400000e+03],\n",
       "       [2.11690000e+04, 2.11730000e+04, 1.32650929e+01, 1.05880000e+04]])"
      ]
     },
     "execution_count": 35,
     "metadata": {},
     "output_type": "execute_result"
    }
   ],
   "source": [
    "np.unique(cluster_lbl)"
   ]
  },
  {
   "cell_type": "code",
   "execution_count": 42,
   "metadata": {},
   "outputs": [
    {
     "data": {
      "text/html": [
       "<div>\n",
       "<style scoped>\n",
       "    .dataframe tbody tr th:only-of-type {\n",
       "        vertical-align: middle;\n",
       "    }\n",
       "\n",
       "    .dataframe tbody tr th {\n",
       "        vertical-align: top;\n",
       "    }\n",
       "\n",
       "    .dataframe thead th {\n",
       "        text-align: right;\n",
       "    }\n",
       "</style>\n",
       "<table border=\"1\" class=\"dataframe\">\n",
       "  <thead>\n",
       "    <tr style=\"text-align: right;\">\n",
       "      <th></th>\n",
       "      <th>Suscept</th>\n",
       "      <th>Neutral</th>\n",
       "      <th>Resist</th>\n",
       "    </tr>\n",
       "  </thead>\n",
       "  <tbody>\n",
       "    <tr>\n",
       "      <th>Cluster 4549</th>\n",
       "      <td>4.0</td>\n",
       "      <td>17.0</td>\n",
       "      <td>0.0</td>\n",
       "    </tr>\n",
       "    <tr>\n",
       "      <th>Cluster 18483</th>\n",
       "      <td>2.0</td>\n",
       "      <td>19.0</td>\n",
       "      <td>0.0</td>\n",
       "    </tr>\n",
       "    <tr>\n",
       "      <th>Cluster 5688</th>\n",
       "      <td>2.0</td>\n",
       "      <td>19.0</td>\n",
       "      <td>0.0</td>\n",
       "    </tr>\n",
       "    <tr>\n",
       "      <th>Cluster 5179</th>\n",
       "      <td>2.0</td>\n",
       "      <td>19.0</td>\n",
       "      <td>0.0</td>\n",
       "    </tr>\n",
       "    <tr>\n",
       "      <th>Cluster 4811</th>\n",
       "      <td>2.0</td>\n",
       "      <td>19.0</td>\n",
       "      <td>0.0</td>\n",
       "    </tr>\n",
       "    <tr>\n",
       "      <th>...</th>\n",
       "      <td>...</td>\n",
       "      <td>...</td>\n",
       "      <td>...</td>\n",
       "    </tr>\n",
       "    <tr>\n",
       "      <th>Cluster 6669</th>\n",
       "      <td>0.0</td>\n",
       "      <td>1.0</td>\n",
       "      <td>20.0</td>\n",
       "    </tr>\n",
       "    <tr>\n",
       "      <th>Cluster 26909</th>\n",
       "      <td>0.0</td>\n",
       "      <td>1.0</td>\n",
       "      <td>20.0</td>\n",
       "    </tr>\n",
       "    <tr>\n",
       "      <th>Cluster 2936</th>\n",
       "      <td>0.0</td>\n",
       "      <td>1.0</td>\n",
       "      <td>20.0</td>\n",
       "    </tr>\n",
       "    <tr>\n",
       "      <th>Cluster 21586</th>\n",
       "      <td>0.0</td>\n",
       "      <td>1.0</td>\n",
       "      <td>20.0</td>\n",
       "    </tr>\n",
       "    <tr>\n",
       "      <th>Cluster 11664</th>\n",
       "      <td>0.0</td>\n",
       "      <td>1.0</td>\n",
       "      <td>20.0</td>\n",
       "    </tr>\n",
       "  </tbody>\n",
       "</table>\n",
       "<p>10588 rows × 3 columns</p>\n",
       "</div>"
      ],
      "text/plain": [
       "               Suscept  Neutral  Resist\n",
       "Cluster 4549       4.0     17.0     0.0\n",
       "Cluster 18483      2.0     19.0     0.0\n",
       "Cluster 5688       2.0     19.0     0.0\n",
       "Cluster 5179       2.0     19.0     0.0\n",
       "Cluster 4811       2.0     19.0     0.0\n",
       "...                ...      ...     ...\n",
       "Cluster 6669       0.0      1.0    20.0\n",
       "Cluster 26909      0.0      1.0    20.0\n",
       "Cluster 2936       0.0      1.0    20.0\n",
       "Cluster 21586      0.0      1.0    20.0\n",
       "Cluster 11664      0.0      1.0    20.0\n",
       "\n",
       "[10588 rows x 3 columns]"
      ]
     },
     "execution_count": 42,
     "metadata": {},
     "output_type": "execute_result"
    }
   ],
   "source": [
    "df.sort_values(by = 'Resist')"
   ]
  },
  {
   "cell_type": "code",
   "execution_count": 63,
   "metadata": {},
   "outputs": [
    {
     "data": {
      "text/plain": [
       "<matplotlib.axes._subplots.AxesSubplot at 0x7f22ce59cb70>"
      ]
     },
     "execution_count": 63,
     "metadata": {},
     "output_type": "execute_result"
    },
    {
     "data": {
      "image/png": "[encoded data removed]",
      "text/plain": [
       "<Figure size 432x288 with 1 Axes>"
      ]
     },
     "metadata": {
      "needs_background": "light"
     },
     "output_type": "display_data"
    }
   ],
   "source": [
    "df.plot(kind = 'hist')"
   ]
  },
  {
   "cell_type": "code",
   "execution_count": 81,
   "metadata": {},
   "outputs": [],
   "source": [
    "general_purpose_resist = df.loc[(df['Resist'] > 10) & (df['Suscept'] == 0)]\n",
    "general_purpose_suscept = df.loc[df['Suscept'] > 10 & (df['Resist'] == 0)]\n",
    "specific_purpose_resist = df.loc[(df['Resist'] <= 3) & (df['Suscept'] == 0)]\n",
    "specific_purpose_suscept = df.loc[(df['Suscept'] <= 3) & (df['Resist'] == 0)]\n",
    "tradeoff = df.loc[(df['Suscept'] >= 4) & (df['Resist'] >= 4)]\n",
    "\n",
    "five_groups = {'General Resist': general_purpose_resist,\n",
    "              'General Suscept': general_purpose_suscept,\n",
    "              'Specific Resist': specific_purpose_resist,\n",
    "              'Specific Suscept': specific_purpose_suscept,\n",
    "              'Tradeoff': tradeoff}"
   ]
  },
  {
   "cell_type": "code",
   "execution_count": 49,
   "metadata": {},
   "outputs": [
    {
     "data": {
      "text/plain": [
       "(1441, 3)"
      ]
     },
     "execution_count": 49,
     "metadata": {},
     "output_type": "execute_result"
    }
   ],
   "source": [
    "general_purpose_resist.shape"
   ]
  },
  {
   "cell_type": "code",
   "execution_count": 50,
   "metadata": {},
   "outputs": [
    {
     "data": {
      "text/plain": [
       "(6080, 3)"
      ]
     },
     "execution_count": 50,
     "metadata": {},
     "output_type": "execute_result"
    }
   ],
   "source": [
    "general_purpose_suscept.shape"
   ]
  },
  {
   "cell_type": "code",
   "execution_count": 79,
   "metadata": {},
   "outputs": [
    {
     "data": {
      "text/plain": [
       "(53, 3)"
      ]
     },
     "execution_count": 79,
     "metadata": {},
     "output_type": "execute_result"
    }
   ],
   "source": [
    "tradeoff.shape"
   ]
  },
  {
   "cell_type": "code",
   "execution_count": 40,
   "metadata": {},
   "outputs": [
    {
     "data": {
      "image/png": "[encoded data removed]",
      "text/plain": [
       "<Figure size 720x720 with 5 Axes>"
      ]
     },
     "metadata": {
      "needs_background": "light"
     },
     "output_type": "display_data"
    }
   ],
   "source": [
    "import seaborn as sns\n",
    "labels = cluster_lbl.values\n",
    "lut = dict(zip(set(labels), sns.hls_palette(len(set(labels)), l=0.5, s=0.8)))\n",
    "g = sns.clustermap(df[['Resist', 'Suscept']], cbar_kws={'label': '# Drugs'}, row_colors = cluster_lbl.map(lut))"
   ]
  },
  {
   "cell_type": "markdown",
   "metadata": {},
   "source": [
    "# Gene Ontology Analysis"
   ]
  },
  {
   "cell_type": "code",
   "execution_count": 93,
   "metadata": {},
   "outputs": [],
   "source": [
    "def extract_anno(df):\n",
    "    ''' return percentage to GO annotations'''\n",
    "    clus_name = df.index.tolist()\n",
    "    anno_subset = gold_anno.loc[gold_anno['cluster'].isin(clus_name)]\n",
    "    \n",
    "    return anno_subset\n",
    "def anno_stat(anno_subset):\n",
    "    go_perc = anno_subset['GO'].count()/anno_subset.shape[0]\n",
    "    hypo_perc = anno_subset['hypo_nr'].count()/anno_subset.shape[0]\n",
    "    card_perc = anno_subset['is_card'].sum()/anno_subset.shape[0]\n",
    "    resfam_perc = anno_subset['resfam'].count()/anno_subset.shape[0]\n",
    "    \n",
    "    return [go_perc, hypo_perc, card_perc, resfam_perc, anno_subset.shape[0]]\n",
    "def extract_go_term(series):\n",
    "    ''' extract all go term'''\n",
    "    # remove nan\n",
    "    series.dropna(inplace = True)\n",
    "    \n",
    "    all_go_terms = set()\n",
    "    for sid in series.index:\n",
    "        go = series[sid]\n",
    "        #go = go.split(',')\n",
    "        #go = [g.replace('{','').replace('}','').replace('\\'','').replace('\\\"','') for g in go]\n",
    "        #series[sid] = go\n",
    "        all_go_terms = all_go_terms.union(go)\n",
    "        #print(all_go_terms)\n",
    "    # make into table\n",
    "    df = pd.DataFrame(index = series.index, columns = all_go_terms)\n",
    "    for sid in series.index:\n",
    "        df.loc[sid, list(series[sid])] = True\n",
    "    df.fillna(False, inplace =True)\n",
    "    \n",
    "    return(df)    "
   ]
  },
  {
   "cell_type": "code",
   "execution_count": 94,
   "metadata": {},
   "outputs": [],
   "source": [
    "five_groups_anno = {}\n",
    "five_groups_stat = pd.DataFrame(index = five_groups.keys(), columns = ['%GO', '%hypo', '%CARD', '%Resfam', '#Gene'])\n",
    "for g in five_groups.keys():\n",
    "    anno = extract_anno(five_groups[g])\n",
    "    five_groups_anno[g] = anno\n",
    "    five_groups_stat.loc[g] = anno_stat(anno)\n",
    "    "
   ]
  },
  {
   "cell_type": "code",
   "execution_count": 95,
   "metadata": {},
   "outputs": [
    {
     "data": {
      "text/html": [
       "<div>\n",
       "<style scoped>\n",
       "    .dataframe tbody tr th:only-of-type {\n",
       "        vertical-align: middle;\n",
       "    }\n",
       "\n",
       "    .dataframe tbody tr th {\n",
       "        vertical-align: top;\n",
       "    }\n",
       "\n",
       "    .dataframe thead th {\n",
       "        text-align: right;\n",
       "    }\n",
       "</style>\n",
       "<table border=\"1\" class=\"dataframe\">\n",
       "  <thead>\n",
       "    <tr style=\"text-align: right;\">\n",
       "      <th></th>\n",
       "      <th>%GO</th>\n",
       "      <th>%hypo</th>\n",
       "      <th>%CARD</th>\n",
       "      <th>%Resfam</th>\n",
       "      <th>#Gene</th>\n",
       "    </tr>\n",
       "  </thead>\n",
       "  <tbody>\n",
       "    <tr>\n",
       "      <th>General Resist</th>\n",
       "      <td>0.357391</td>\n",
       "      <td>0.447606</td>\n",
       "      <td>0.0138793</td>\n",
       "      <td>0.0346981</td>\n",
       "      <td>1441</td>\n",
       "    </tr>\n",
       "    <tr>\n",
       "      <th>General Suscept</th>\n",
       "      <td>0.566612</td>\n",
       "      <td>0.272039</td>\n",
       "      <td>0.00542763</td>\n",
       "      <td>0.0664474</td>\n",
       "      <td>6080</td>\n",
       "    </tr>\n",
       "    <tr>\n",
       "      <th>Specific Resist</th>\n",
       "      <td>0.244681</td>\n",
       "      <td>0.566285</td>\n",
       "      <td>0.00490998</td>\n",
       "      <td>0.0302782</td>\n",
       "      <td>1222</td>\n",
       "    </tr>\n",
       "    <tr>\n",
       "      <th>Specific Suscept</th>\n",
       "      <td>0.711553</td>\n",
       "      <td>0.15894</td>\n",
       "      <td>0.00956586</td>\n",
       "      <td>0.0835173</td>\n",
       "      <td>2718</td>\n",
       "    </tr>\n",
       "    <tr>\n",
       "      <th>Tradeoff</th>\n",
       "      <td>0.226415</td>\n",
       "      <td>0.716981</td>\n",
       "      <td>0</td>\n",
       "      <td>0.0566038</td>\n",
       "      <td>53</td>\n",
       "    </tr>\n",
       "  </tbody>\n",
       "</table>\n",
       "</div>"
      ],
      "text/plain": [
       "                       %GO     %hypo       %CARD    %Resfam #Gene\n",
       "General Resist    0.357391  0.447606   0.0138793  0.0346981  1441\n",
       "General Suscept   0.566612  0.272039  0.00542763  0.0664474  6080\n",
       "Specific Resist   0.244681  0.566285  0.00490998  0.0302782  1222\n",
       "Specific Suscept  0.711553   0.15894  0.00956586  0.0835173  2718\n",
       "Tradeoff          0.226415  0.716981           0  0.0566038    53"
      ]
     },
     "execution_count": 95,
     "metadata": {},
     "output_type": "execute_result"
    }
   ],
   "source": [
    "five_groups_stat.head()"
   ]
  },
  {
   "cell_type": "code",
   "execution_count": 113,
   "metadata": {},
   "outputs": [],
   "source": [
    "five_groups_stat.to_csv('/home/hermuba/data0118/fig/scoary_groups/stats.csv')"
   ]
  },
  {
   "cell_type": "code",
   "execution_count": 115,
   "metadata": {},
   "outputs": [
    {
     "data": {
      "text/plain": [
       "<matplotlib.axes._subplots.AxesSubplot at 0x7f22bf976a58>"
      ]
     },
     "execution_count": 115,
     "metadata": {},
     "output_type": "execute_result"
    },
    {
     "data": {
      "image/png": "[encoded data removed]",
      "text/plain": [
       "<Figure size 432x288 with 1 Axes>"
      ]
     },
     "metadata": {
      "needs_background": "light"
     },
     "output_type": "display_data"
    }
   ],
   "source": [
    "five_groups_stat.iloc[:, :-1].plot(kind = 'bar')"
   ]
  },
  {
   "cell_type": "markdown",
   "metadata": {},
   "source": [
    "# Run GO enrichment"
   ]
  },
  {
   "cell_type": "markdown",
   "metadata": {},
   "source": [
    "[Tutorial on GOATTOOL](https://github.com/tanghaibao/goatools/blob/master/notebooks/goea_nbt3102.ipynb)"
   ]
  },
  {
   "cell_type": "code",
   "execution_count": 98,
   "metadata": {},
   "outputs": [
    {
     "name": "stdout",
     "output_type": "stream",
     "text": [
      "/home/hermuba/data0118/ontologies/go-basic.obo: fmt(1.2) rel(2019-07-01) 47,413 GO Terms\n",
      "HMS:0:00:00.973503  26,164 annotations READ: /home/hermuba/data0118/ontologies/ec_rmplasmid.id2go \n",
      "**ERROR IdToGosReader(..., godag=None).get_id2gos: GODAG is None. IGNORING namespace(BP)\n",
      "\n",
      "10044 IDs in all associations"
     ]
    }
   ],
   "source": [
    "onto_root = '/home/hermuba/data0118/ontologies/'\n",
    "from goatools.obo_parser import GODag\n",
    "obodag = GODag(onto_root + \"go-basic.obo\")\n",
    "\n",
    "from goatools.associations import read_associations\n",
    "ns2assoc = read_associations('/home/hermuba/data0118/ontologies/ec_rmplasmid.id2go', anno_type='id2gos', namespace = 'BP', no_top=True)"
   ]
  },
  {
   "cell_type": "code",
   "execution_count": 103,
   "metadata": {},
   "outputs": [
    {
     "name": "stdout",
     "output_type": "stream",
     "text": [
      "\n",
      "Load GOEA Gene Ontology Analysis ...\n",
      "fisher module not installed.  Falling back on scipy.stats.fisher_exact\n",
      " 32% 10,044 of 31,621 population items found in association\n",
      "\n",
      "Run GOEA Gene Ontology Analysis: current study set of 1441 IDs ... 36%    515 of  1,441 study items found in association\n",
      "100%  1,441 of  1,441 study items found in population(31621)\n",
      "Calculating 2,067 uncorrected p-values using fisher_scipy_stats\n",
      "   2,067 GO terms are associated with 10,044 of 31,621 population items\n",
      "     286 GO terms are associated with    515 of  1,441 study items\n",
      "  METHOD fdr_bh:\n",
      "       8 GO terms found significant (< 0.05=alpha) (  8 enriched +   0 purified): statsmodels fdr_bh\n",
      "     191 study items associated with significant GO IDs (enriched)\n",
      "       0 study items associated with significant GO IDs (purified)\n",
      "    4 usr  29 GOs  WROTE: /home/hermuba/data0118/fig/goenrich/General Resist_BP.png\n",
      "    4 usr  18 GOs  WROTE: /home/hermuba/data0118/fig/goenrich/General Resist_MF.png\n",
      "\n",
      "Load GOEA Gene Ontology Analysis ...\n",
      "fisher module not installed.  Falling back on scipy.stats.fisher_exact\n",
      " 32% 10,044 of 31,621 population items found in association\n",
      "\n",
      "Run GOEA Gene Ontology Analysis: current study set of 6080 IDs ... 57%  3,445 of  6,080 study items found in association\n",
      "100%  6,080 of  6,080 study items found in population(31621)\n",
      "Calculating 2,067 uncorrected p-values using fisher_scipy_stats\n",
      "   2,067 GO terms are associated with 10,044 of 31,621 population items\n",
      "   1,759 GO terms are associated with  3,445 of  6,080 study items\n",
      "  METHOD fdr_bh:\n",
      "     239 GO terms found significant (< 0.05=alpha) (236 enriched +   3 purified): statsmodels fdr_bh\n",
      "   3,127 study items associated with significant GO IDs (enriched)\n",
      "      25 study items associated with significant GO IDs (purified)\n",
      "  112 usr 445 GOs  WROTE: /home/hermuba/data0118/fig/goenrich/General Suscept_BP.png\n",
      "   18 usr  49 GOs  WROTE: /home/hermuba/data0118/fig/goenrich/General Suscept_CC.png\n",
      "  109 usr 225 GOs  WROTE: /home/hermuba/data0118/fig/goenrich/General Suscept_MF.png\n",
      "\n",
      "Load GOEA Gene Ontology Analysis ...\n",
      "fisher module not installed.  Falling back on scipy.stats.fisher_exact\n",
      " 32% 10,044 of 31,621 population items found in association\n",
      "\n",
      "Run GOEA Gene Ontology Analysis: current study set of 1222 IDs ... 24%    299 of  1,222 study items found in association\n",
      "100%  1,222 of  1,222 study items found in population(31621)\n",
      "Calculating 2,067 uncorrected p-values using fisher_scipy_stats\n",
      "   2,067 GO terms are associated with 10,044 of 31,621 population items\n",
      "     210 GO terms are associated with    299 of  1,222 study items\n",
      "  METHOD fdr_bh:\n",
      "       0 GO terms found significant (< 0.05=alpha) (  0 enriched +   0 purified): statsmodels fdr_bh\n",
      "       0 study items associated with significant GO IDs (enriched)\n",
      "       0 study items associated with significant GO IDs (purified)\n",
      "\n",
      "Load GOEA Gene Ontology Analysis ...\n",
      "fisher module not installed.  Falling back on scipy.stats.fisher_exact\n",
      " 32% 10,044 of 31,621 population items found in association\n",
      "\n",
      "Run GOEA Gene Ontology Analysis: current study set of 2718 IDs ... 71%  1,934 of  2,718 study items found in association\n",
      "100%  2,718 of  2,718 study items found in population(31621)\n",
      "Calculating 2,067 uncorrected p-values using fisher_scipy_stats\n",
      "   2,067 GO terms are associated with 10,044 of 31,621 population items\n",
      "   1,531 GO terms are associated with  1,934 of  2,718 study items\n",
      "  METHOD fdr_bh:\n",
      "     375 GO terms found significant (< 0.05=alpha) (367 enriched +   8 purified): statsmodels fdr_bh\n",
      "   1,737 study items associated with significant GO IDs (enriched)\n",
      "      27 study items associated with significant GO IDs (purified)\n",
      "  178 usr 606 GOs  WROTE: /home/hermuba/data0118/fig/goenrich/Specific Suscept_BP.png\n",
      "   23 usr  63 GOs  WROTE: /home/hermuba/data0118/fig/goenrich/Specific Suscept_CC.png\n",
      "  174 usr 328 GOs  WROTE: /home/hermuba/data0118/fig/goenrich/Specific Suscept_MF.png\n",
      "\n",
      "Load GOEA Gene Ontology Analysis ...\n",
      "fisher module not installed.  Falling back on scipy.stats.fisher_exact\n",
      " 32% 10,044 of 31,621 population items found in association\n",
      "\n",
      "Run GOEA Gene Ontology Analysis: current study set of 53 IDs ... 23%     12 of     53 study items found in association\n",
      "100%     53 of     53 study items found in population(31621)\n",
      "Calculating 2,067 uncorrected p-values using fisher_scipy_stats\n",
      "   2,067 GO terms are associated with 10,044 of 31,621 population items\n",
      "      17 GO terms are associated with     12 of     53 study items\n",
      "  METHOD fdr_bh:\n",
      "       0 GO terms found significant (< 0.05=alpha) (  0 enriched +   0 purified): statsmodels fdr_bh\n",
      "       0 study items associated with significant GO IDs (enriched)\n",
      "       0 study items associated with significant GO IDs (purified)\n"
     ]
    }
   ],
   "source": [
    "# run for all \n",
    "outdir = '/home/hermuba/data0118/fig/goenrich/'\n",
    "from goatools.go_enrichment import GOEnrichmentStudy \n",
    "from goatools.godag_plot import plot_gos, plot_results, plot_goid2goobj\n",
    "\n",
    "\n",
    "for g in five_groups_anno.keys():\n",
    "    \n",
    "    # start new study object\n",
    "    goea = GOEnrichmentStudy(gold_anno.index.tolist(), ns2assoc, obodag, propagate_counts = False,\n",
    "        alpha = 0.05, # default significance cut-off\n",
    "        methods = ['fdr_bh'])\n",
    "    \n",
    "    # run\n",
    "    results_nt = goea.run_study(five_groups_anno[g].index.tolist())\n",
    "    \n",
    "    # filter to significant \n",
    "    goea_results_sig = [r for r in results_nt if r.p_fdr_bh < 0.05]\n",
    "    \n",
    "    # plot it\n",
    "    plot_results(outdir+g+\"_{NS}.png\", goea_results_sig)\n",
    "    \n",
    "    # write text to file\n",
    "    go_id = [g.GO for g in goea_results_sig]\n",
    "    goresult_df = pd.DataFrame([[obodag[gid].name, obodag[gid].namespace, gid] for gid in go_id], columns = ['Name', 'Namespace', 'ID'])\n",
    "    goresult_df.to_csv(outdir+g+'.csv')\n",
    "    "
   ]
  },
  {
   "cell_type": "markdown",
   "metadata": {},
   "source": [
    "# output genes"
   ]
  },
  {
   "cell_type": "code",
   "execution_count": 112,
   "metadata": {},
   "outputs": [],
   "source": [
    "for g in five_groups_anno:\n",
    "    five_groups_anno[g].to_csv('/home/hermuba/data0118/fig/scoary_groups/{}_anno.csv'.format(g.replace(' ', '_')))"
   ]
  },
  {
   "cell_type": "code",
   "execution_count": 135,
   "metadata": {},
   "outputs": [
    {
     "data": {
      "text/plain": [
       "Index(['cog_ID', 'cog_category', 'cluster', 'count', 'core', 'loose_best_ARO',\n",
       "       'loose_ARO', 'strict_best_ARO', 'strict_ARO', 'is_card', 'resfam',\n",
       "       'aclame_title', 'is_aclame', 'nr', 'hypo_nr', 'drug_target',\n",
       "       'is_drug_target', 'GO', 'pathway', 'domain'],\n",
       "      dtype='object')"
      ]
     },
     "execution_count": 135,
     "metadata": {},
     "output_type": "execute_result"
    }
   ],
   "source": [
    "five_groups_anno[g].columns"
   ]
  },
  {
   "cell_type": "code",
   "execution_count": null,
   "metadata": {},
   "outputs": [],
   "source": []
  }
 ],
 "metadata": {
  "kernelspec": {
   "display_name": "Python 3",
   "language": "python",
   "name": "python3"
  },
  "language_info": {
   "codemirror_mode": {
    "name": "ipython",
    "version": 3
   },
   "file_extension": ".py",
   "mimetype": "text/x-python",
   "name": "python",
   "nbconvert_exporter": "python",
   "pygments_lexer": "ipython3",
   "version": "3.6.10"
  }
 },
 "nbformat": 4,
 "nbformat_minor": 4
}
