{
 "cells": [
  {
   "cell_type": "markdown",
   "metadata": {},
   "source": [
    "- Created: 2018-12-08\n",
    "- Last modified: 2018-12-08\n",
    "- Purpose: to compare existing network `refseq90` to string data base E.coli PPI\n",
    "\n",
    "- Steps:\n",
    "1. ran diamond blastp --query REPRESENTING-GENES-ECOLI --db STRING-DB-SEQUENCES\n",
    "2. extract max `pident`, identity for each **STRING DB ID** (ex: 511145.b0002)\n",
    "3. remove all matches with less than 70% pident; 70% becuase we built pan-genome based on 70% threshold\n",
    "4. compare the links predicted by our net (refseq90) and STRING DB\n",
    "\n",
    "- Results: very few overlap\n",
    "\n",
    "- Interpretation\n",
    "1. There might be some problems with our net\n",
    "2. Our Net is trained based on GO-term sharing for functional prediction. Not all PPI has GO-term sharing (but expect many of them should have)"
   ]
  },
  {
   "cell_type": "code",
   "execution_count": 1,
   "metadata": {},
   "outputs": [],
   "source": [
    "node_path = '/home/hermuba/data0118/cdhit/map_to_exist_net/ec70_string'\n",
    "import pandas as pd\n",
    "node = pd.read_csv(node_path, sep = '\\t', header = None)"
   ]
  },
  {
   "cell_type": "code",
   "execution_count": 2,
   "metadata": {},
   "outputs": [],
   "source": [
    "node = node[[0,1,2,10]] "
   ]
  },
  {
   "cell_type": "code",
   "execution_count": 3,
   "metadata": {},
   "outputs": [],
   "source": [
    "node = node.rename(columns = {0:'qseqid', 1:'sseqid', 2:'pident', 10:'evalue'})"
   ]
  },
  {
   "cell_type": "code",
   "execution_count": 4,
   "metadata": {},
   "outputs": [
    {
     "data": {
      "text/plain": [
       "<matplotlib.axes._subplots.AxesSubplot at 0x7f5e79334710>"
      ]
     },
     "execution_count": 4,
     "metadata": {},
     "output_type": "execute_result"
    },
    {
     "data": {
      "image/png": "[encoded data removed]",
      "text/plain": [
       "<matplotlib.figure.Figure at 0x7f5ea29eee10>"
      ]
     },
     "metadata": {
      "needs_background": "light"
     },
     "output_type": "display_data"
    }
   ],
   "source": [
    "%matplotlib inline\n",
    "node['pident'].plot(kind = 'hist')"
   ]
  },
  {
   "cell_type": "code",
   "execution_count": 5,
   "metadata": {},
   "outputs": [],
   "source": [
    "node = node.groupby(by = 'sseqid').max(level = 'pident')"
   ]
  },
  {
   "cell_type": "code",
   "execution_count": 6,
   "metadata": {},
   "outputs": [
    {
     "data": {
      "text/plain": [
       "(4092, 3)"
      ]
     },
     "execution_count": 6,
     "metadata": {},
     "output_type": "execute_result"
    }
   ],
   "source": [
    "node.shape"
   ]
  },
  {
   "cell_type": "code",
   "execution_count": 7,
   "metadata": {},
   "outputs": [
    {
     "data": {
      "text/html": [
       "<div>\n",
       "<style scoped>\n",
       "    .dataframe tbody tr th:only-of-type {\n",
       "        vertical-align: middle;\n",
       "    }\n",
       "\n",
       "    .dataframe tbody tr th {\n",
       "        vertical-align: top;\n",
       "    }\n",
       "\n",
       "    .dataframe thead th {\n",
       "        text-align: right;\n",
       "    }\n",
       "</style>\n",
       "<table border=\"1\" class=\"dataframe\">\n",
       "  <thead>\n",
       "    <tr style=\"text-align: right;\">\n",
       "      <th></th>\n",
       "      <th>qseqid</th>\n",
       "      <th>pident</th>\n",
       "      <th>evalue</th>\n",
       "    </tr>\n",
       "    <tr>\n",
       "      <th>sseqid</th>\n",
       "      <th></th>\n",
       "      <th></th>\n",
       "      <th></th>\n",
       "    </tr>\n",
       "  </thead>\n",
       "  <tbody>\n",
       "    <tr>\n",
       "      <th>511145.b0002</th>\n",
       "      <td>JMUY01000009_5|1438670.3</td>\n",
       "      <td>100.0</td>\n",
       "      <td>1.400000e-44</td>\n",
       "    </tr>\n",
       "    <tr>\n",
       "      <th>511145.b0003</th>\n",
       "      <td>JMUY01000009_6|1438670.3</td>\n",
       "      <td>99.4</td>\n",
       "      <td>2.400000e-181</td>\n",
       "    </tr>\n",
       "    <tr>\n",
       "      <th>511145.b0004</th>\n",
       "      <td>JMUY01000009_7|1438670.3</td>\n",
       "      <td>99.5</td>\n",
       "      <td>2.800000e-249</td>\n",
       "    </tr>\n",
       "    <tr>\n",
       "      <th>511145.b0005</th>\n",
       "      <td>FLWH01000009_163|562.12962</td>\n",
       "      <td>100.0</td>\n",
       "      <td>2.800000e-09</td>\n",
       "    </tr>\n",
       "    <tr>\n",
       "      <th>511145.b0006</th>\n",
       "      <td>JMUY01000009_9|1438670.3</td>\n",
       "      <td>98.8</td>\n",
       "      <td>1.000000e-145</td>\n",
       "    </tr>\n",
       "  </tbody>\n",
       "</table>\n",
       "</div>"
      ],
      "text/plain": [
       "                                  qseqid  pident         evalue\n",
       "sseqid                                                         \n",
       "511145.b0002    JMUY01000009_5|1438670.3   100.0   1.400000e-44\n",
       "511145.b0003    JMUY01000009_6|1438670.3    99.4  2.400000e-181\n",
       "511145.b0004    JMUY01000009_7|1438670.3    99.5  2.800000e-249\n",
       "511145.b0005  FLWH01000009_163|562.12962   100.0   2.800000e-09\n",
       "511145.b0006    JMUY01000009_9|1438670.3    98.8  1.000000e-145"
      ]
     },
     "execution_count": 7,
     "metadata": {},
     "output_type": "execute_result"
    }
   ],
   "source": [
    "node.head()"
   ]
  },
  {
   "cell_type": "code",
   "execution_count": 8,
   "metadata": {},
   "outputs": [],
   "source": [
    "selected_nodes = node.loc[node['pident']>= 70] # select high identity ones"
   ]
  },
  {
   "cell_type": "code",
   "execution_count": 9,
   "metadata": {},
   "outputs": [
    {
     "data": {
      "text/plain": [
       "(4079, 3)"
      ]
     },
     "execution_count": 9,
     "metadata": {},
     "output_type": "execute_result"
    }
   ],
   "source": [
    "selected_nodes.shape"
   ]
  },
  {
   "cell_type": "code",
   "execution_count": 10,
   "metadata": {},
   "outputs": [],
   "source": [
    "edge_path = '/home/hermuba/data0118/cdhit/map_to_exist_net/511145.protein.links.v10.5.txt'"
   ]
  },
  {
   "cell_type": "code",
   "execution_count": 11,
   "metadata": {},
   "outputs": [],
   "source": [
    "edge = pd.read_csv(edge_path, sep = ' ')"
   ]
  },
  {
   "cell_type": "code",
   "execution_count": 12,
   "metadata": {},
   "outputs": [
    {
     "data": {
      "text/html": [
       "<div>\n",
       "<style scoped>\n",
       "    .dataframe tbody tr th:only-of-type {\n",
       "        vertical-align: middle;\n",
       "    }\n",
       "\n",
       "    .dataframe tbody tr th {\n",
       "        vertical-align: top;\n",
       "    }\n",
       "\n",
       "    .dataframe thead th {\n",
       "        text-align: right;\n",
       "    }\n",
       "</style>\n",
       "<table border=\"1\" class=\"dataframe\">\n",
       "  <thead>\n",
       "    <tr style=\"text-align: right;\">\n",
       "      <th></th>\n",
       "      <th>protein1</th>\n",
       "      <th>protein2</th>\n",
       "      <th>combined_score</th>\n",
       "    </tr>\n",
       "  </thead>\n",
       "  <tbody>\n",
       "    <tr>\n",
       "      <th>0</th>\n",
       "      <td>511145.b0001</td>\n",
       "      <td>511145.b0075</td>\n",
       "      <td>379</td>\n",
       "    </tr>\n",
       "    <tr>\n",
       "      <th>1</th>\n",
       "      <td>511145.b0001</td>\n",
       "      <td>511145.b2018</td>\n",
       "      <td>519</td>\n",
       "    </tr>\n",
       "    <tr>\n",
       "      <th>2</th>\n",
       "      <td>511145.b0001</td>\n",
       "      <td>511145.b0273</td>\n",
       "      <td>202</td>\n",
       "    </tr>\n",
       "    <tr>\n",
       "      <th>3</th>\n",
       "      <td>511145.b0001</td>\n",
       "      <td>511145.b2011</td>\n",
       "      <td>214</td>\n",
       "    </tr>\n",
       "    <tr>\n",
       "      <th>4</th>\n",
       "      <td>511145.b0001</td>\n",
       "      <td>511145.b3863</td>\n",
       "      <td>167</td>\n",
       "    </tr>\n",
       "  </tbody>\n",
       "</table>\n",
       "</div>"
      ],
      "text/plain": [
       "       protein1      protein2  combined_score\n",
       "0  511145.b0001  511145.b0075             379\n",
       "1  511145.b0001  511145.b2018             519\n",
       "2  511145.b0001  511145.b0273             202\n",
       "3  511145.b0001  511145.b2011             214\n",
       "4  511145.b0001  511145.b3863             167"
      ]
     },
     "execution_count": 12,
     "metadata": {},
     "output_type": "execute_result"
    }
   ],
   "source": [
    "edge.head()"
   ]
  },
  {
   "cell_type": "code",
   "execution_count": 13,
   "metadata": {},
   "outputs": [],
   "source": [
    "edge['prt1'] = edge['protein1'].map(selected_nodes['qseqid'])"
   ]
  },
  {
   "cell_type": "code",
   "execution_count": 14,
   "metadata": {},
   "outputs": [],
   "source": [
    "edge['prt2'] = edge['protein2'].map(selected_nodes['qseqid'])"
   ]
  },
  {
   "cell_type": "code",
   "execution_count": 15,
   "metadata": {},
   "outputs": [
    {
     "data": {
      "text/html": [
       "<div>\n",
       "<style scoped>\n",
       "    .dataframe tbody tr th:only-of-type {\n",
       "        vertical-align: middle;\n",
       "    }\n",
       "\n",
       "    .dataframe tbody tr th {\n",
       "        vertical-align: top;\n",
       "    }\n",
       "\n",
       "    .dataframe thead th {\n",
       "        text-align: right;\n",
       "    }\n",
       "</style>\n",
       "<table border=\"1\" class=\"dataframe\">\n",
       "  <thead>\n",
       "    <tr style=\"text-align: right;\">\n",
       "      <th></th>\n",
       "      <th>protein1</th>\n",
       "      <th>protein2</th>\n",
       "      <th>combined_score</th>\n",
       "      <th>prt1</th>\n",
       "      <th>prt2</th>\n",
       "    </tr>\n",
       "  </thead>\n",
       "  <tbody>\n",
       "    <tr>\n",
       "      <th>0</th>\n",
       "      <td>511145.b0001</td>\n",
       "      <td>511145.b0075</td>\n",
       "      <td>379</td>\n",
       "      <td>NaN</td>\n",
       "      <td>NaN</td>\n",
       "    </tr>\n",
       "    <tr>\n",
       "      <th>1</th>\n",
       "      <td>511145.b0001</td>\n",
       "      <td>511145.b2018</td>\n",
       "      <td>519</td>\n",
       "      <td>NaN</td>\n",
       "      <td>NaN</td>\n",
       "    </tr>\n",
       "    <tr>\n",
       "      <th>2</th>\n",
       "      <td>511145.b0001</td>\n",
       "      <td>511145.b0273</td>\n",
       "      <td>202</td>\n",
       "      <td>NaN</td>\n",
       "      <td>562.23090.con.0017_29|562.23090</td>\n",
       "    </tr>\n",
       "    <tr>\n",
       "      <th>3</th>\n",
       "      <td>511145.b0001</td>\n",
       "      <td>511145.b2011</td>\n",
       "      <td>214</td>\n",
       "      <td>NaN</td>\n",
       "      <td>562.23756.con.0091_9|562.23756</td>\n",
       "    </tr>\n",
       "    <tr>\n",
       "      <th>4</th>\n",
       "      <td>511145.b0001</td>\n",
       "      <td>511145.b3863</td>\n",
       "      <td>167</td>\n",
       "      <td>NaN</td>\n",
       "      <td>FLWH01000014_83|562.12962</td>\n",
       "    </tr>\n",
       "  </tbody>\n",
       "</table>\n",
       "</div>"
      ],
      "text/plain": [
       "       protein1      protein2  combined_score prt1  \\\n",
       "0  511145.b0001  511145.b0075             379  NaN   \n",
       "1  511145.b0001  511145.b2018             519  NaN   \n",
       "2  511145.b0001  511145.b0273             202  NaN   \n",
       "3  511145.b0001  511145.b2011             214  NaN   \n",
       "4  511145.b0001  511145.b3863             167  NaN   \n",
       "\n",
       "                              prt2  \n",
       "0                              NaN  \n",
       "1                              NaN  \n",
       "2  562.23090.con.0017_29|562.23090  \n",
       "3   562.23756.con.0091_9|562.23756  \n",
       "4        FLWH01000014_83|562.12962  "
      ]
     },
     "execution_count": 15,
     "metadata": {},
     "output_type": "execute_result"
    }
   ],
   "source": [
    "edge.head()"
   ]
  },
  {
   "cell_type": "code",
   "execution_count": 16,
   "metadata": {},
   "outputs": [],
   "source": [
    "edge_no_na = edge.dropna()"
   ]
  },
  {
   "cell_type": "code",
   "execution_count": 44,
   "metadata": {},
   "outputs": [
    {
     "data": {
      "text/plain": [
       "(1159522, 5)"
      ]
     },
     "execution_count": 44,
     "metadata": {},
     "output_type": "execute_result"
    }
   ],
   "source": [
    "edge_no_na.shape"
   ]
  },
  {
   "cell_type": "code",
   "execution_count": 45,
   "metadata": {},
   "outputs": [],
   "source": [
    "edge_no_na.to_csv('/home/hermuba/data0118/goldstandard/refseq_90_string')"
   ]
  },
  {
   "cell_type": "code",
   "execution_count": 23,
   "metadata": {},
   "outputs": [],
   "source": [
    "# merge with refseq90\n",
    "refseq = '/home/hermuba/data0118/network1122/refseq_mu_high_90.csv'\n",
    "refseq = pd.read_csv(refseq, sep = ',', header = 0)"
   ]
  },
  {
   "cell_type": "code",
   "execution_count": 39,
   "metadata": {},
   "outputs": [
    {
     "data": {
      "text/html": [
       "<div>\n",
       "<style scoped>\n",
       "    .dataframe tbody tr th:only-of-type {\n",
       "        vertical-align: middle;\n",
       "    }\n",
       "\n",
       "    .dataframe tbody tr th {\n",
       "        vertical-align: top;\n",
       "    }\n",
       "\n",
       "    .dataframe thead th {\n",
       "        text-align: right;\n",
       "    }\n",
       "</style>\n",
       "<table border=\"1\" class=\"dataframe\">\n",
       "  <thead>\n",
       "    <tr style=\"text-align: right;\">\n",
       "      <th></th>\n",
       "      <th>mutual_info</th>\n",
       "      <th>nrm_mutual</th>\n",
       "      <th>gene_one</th>\n",
       "      <th>gene_two</th>\n",
       "      <th>goldstandard</th>\n",
       "    </tr>\n",
       "  </thead>\n",
       "  <tbody>\n",
       "    <tr>\n",
       "      <th>0</th>\n",
       "      <td>0.074130</td>\n",
       "      <td>0.919936</td>\n",
       "      <td>562.22859.con.0026_36|562.22859</td>\n",
       "      <td>562.22697.con.0023_36|562.22697</td>\n",
       "      <td>NaN</td>\n",
       "    </tr>\n",
       "    <tr>\n",
       "      <th>1</th>\n",
       "      <td>0.079719</td>\n",
       "      <td>0.965408</td>\n",
       "      <td>562.22859.con.0026_36|562.22859</td>\n",
       "      <td>562.22477.con.0024_24|562.22477</td>\n",
       "      <td>NaN</td>\n",
       "    </tr>\n",
       "    <tr>\n",
       "      <th>2</th>\n",
       "      <td>0.142044</td>\n",
       "      <td>0.926829</td>\n",
       "      <td>562.22661.con.0008_31|562.22661</td>\n",
       "      <td>562.23589.con.0042_6|562.23589</td>\n",
       "      <td>NaN</td>\n",
       "    </tr>\n",
       "    <tr>\n",
       "      <th>3</th>\n",
       "      <td>0.012491</td>\n",
       "      <td>0.953753</td>\n",
       "      <td>562.23935.con.0006_1|562.23935</td>\n",
       "      <td>562.22874.con.0095_1|562.22874</td>\n",
       "      <td>NaN</td>\n",
       "    </tr>\n",
       "    <tr>\n",
       "      <th>4</th>\n",
       "      <td>0.102658</td>\n",
       "      <td>0.895509</td>\n",
       "      <td>562.22614.con.0044_2|562.22614</td>\n",
       "      <td>562.22614.con.0044_5|562.22614</td>\n",
       "      <td>NaN</td>\n",
       "    </tr>\n",
       "  </tbody>\n",
       "</table>\n",
       "</div>"
      ],
      "text/plain": [
       "   mutual_info  nrm_mutual                         gene_one  \\\n",
       "0     0.074130    0.919936  562.22859.con.0026_36|562.22859   \n",
       "1     0.079719    0.965408  562.22859.con.0026_36|562.22859   \n",
       "2     0.142044    0.926829  562.22661.con.0008_31|562.22661   \n",
       "3     0.012491    0.953753   562.23935.con.0006_1|562.23935   \n",
       "4     0.102658    0.895509   562.22614.con.0044_2|562.22614   \n",
       "\n",
       "                          gene_two goldstandard  \n",
       "0  562.22697.con.0023_36|562.22697          NaN  \n",
       "1  562.22477.con.0024_24|562.22477          NaN  \n",
       "2   562.23589.con.0042_6|562.23589          NaN  \n",
       "3   562.22874.con.0095_1|562.22874          NaN  \n",
       "4   562.22614.con.0044_5|562.22614          NaN  "
      ]
     },
     "execution_count": 39,
     "metadata": {},
     "output_type": "execute_result"
    }
   ],
   "source": [
    "refseq.head()"
   ]
  },
  {
   "cell_type": "code",
   "execution_count": 48,
   "metadata": {},
   "outputs": [],
   "source": [
    "refseq_string = refseq.merge(edge_no_na, left_on = ['gene_one', 'gene_two'], right_on = ['prt1', 'prt2'], how = 'outer')"
   ]
  },
  {
   "cell_type": "code",
   "execution_count": 46,
   "metadata": {},
   "outputs": [],
   "source": [
    "refseq_string = refseq.merge(edge_no_na, left_on = ['gene_one', 'gene_two'], right_on = ['prt2', 'prt1'], how = 'outer')"
   ]
  },
  {
   "cell_type": "code",
   "execution_count": 49,
   "metadata": {},
   "outputs": [
    {
     "data": {
      "text/html": [
       "<div>\n",
       "<style scoped>\n",
       "    .dataframe tbody tr th:only-of-type {\n",
       "        vertical-align: middle;\n",
       "    }\n",
       "\n",
       "    .dataframe tbody tr th {\n",
       "        vertical-align: top;\n",
       "    }\n",
       "\n",
       "    .dataframe thead th {\n",
       "        text-align: right;\n",
       "    }\n",
       "</style>\n",
       "<table border=\"1\" class=\"dataframe\">\n",
       "  <thead>\n",
       "    <tr style=\"text-align: right;\">\n",
       "      <th></th>\n",
       "      <th>mutual_info</th>\n",
       "      <th>nrm_mutual</th>\n",
       "      <th>gene_one</th>\n",
       "      <th>gene_two</th>\n",
       "      <th>goldstandard</th>\n",
       "      <th>protein1</th>\n",
       "      <th>protein2</th>\n",
       "      <th>combined_score</th>\n",
       "      <th>prt1</th>\n",
       "      <th>prt2</th>\n",
       "    </tr>\n",
       "  </thead>\n",
       "  <tbody>\n",
       "    <tr>\n",
       "      <th>0</th>\n",
       "      <td>0.074130</td>\n",
       "      <td>0.919936</td>\n",
       "      <td>562.22859.con.0026_36|562.22859</td>\n",
       "      <td>562.22697.con.0023_36|562.22697</td>\n",
       "      <td>NaN</td>\n",
       "      <td>NaN</td>\n",
       "      <td>NaN</td>\n",
       "      <td>NaN</td>\n",
       "      <td>NaN</td>\n",
       "      <td>NaN</td>\n",
       "    </tr>\n",
       "    <tr>\n",
       "      <th>1</th>\n",
       "      <td>0.079719</td>\n",
       "      <td>0.965408</td>\n",
       "      <td>562.22859.con.0026_36|562.22859</td>\n",
       "      <td>562.22477.con.0024_24|562.22477</td>\n",
       "      <td>NaN</td>\n",
       "      <td>NaN</td>\n",
       "      <td>NaN</td>\n",
       "      <td>NaN</td>\n",
       "      <td>NaN</td>\n",
       "      <td>NaN</td>\n",
       "    </tr>\n",
       "    <tr>\n",
       "      <th>2</th>\n",
       "      <td>0.142044</td>\n",
       "      <td>0.926829</td>\n",
       "      <td>562.22661.con.0008_31|562.22661</td>\n",
       "      <td>562.23589.con.0042_6|562.23589</td>\n",
       "      <td>NaN</td>\n",
       "      <td>NaN</td>\n",
       "      <td>NaN</td>\n",
       "      <td>NaN</td>\n",
       "      <td>NaN</td>\n",
       "      <td>NaN</td>\n",
       "    </tr>\n",
       "    <tr>\n",
       "      <th>3</th>\n",
       "      <td>0.012491</td>\n",
       "      <td>0.953753</td>\n",
       "      <td>562.23935.con.0006_1|562.23935</td>\n",
       "      <td>562.22874.con.0095_1|562.22874</td>\n",
       "      <td>NaN</td>\n",
       "      <td>NaN</td>\n",
       "      <td>NaN</td>\n",
       "      <td>NaN</td>\n",
       "      <td>NaN</td>\n",
       "      <td>NaN</td>\n",
       "    </tr>\n",
       "    <tr>\n",
       "      <th>4</th>\n",
       "      <td>0.102658</td>\n",
       "      <td>0.895509</td>\n",
       "      <td>562.22614.con.0044_2|562.22614</td>\n",
       "      <td>562.22614.con.0044_5|562.22614</td>\n",
       "      <td>NaN</td>\n",
       "      <td>NaN</td>\n",
       "      <td>NaN</td>\n",
       "      <td>NaN</td>\n",
       "      <td>NaN</td>\n",
       "      <td>NaN</td>\n",
       "    </tr>\n",
       "  </tbody>\n",
       "</table>\n",
       "</div>"
      ],
      "text/plain": [
       "   mutual_info  nrm_mutual                         gene_one  \\\n",
       "0     0.074130    0.919936  562.22859.con.0026_36|562.22859   \n",
       "1     0.079719    0.965408  562.22859.con.0026_36|562.22859   \n",
       "2     0.142044    0.926829  562.22661.con.0008_31|562.22661   \n",
       "3     0.012491    0.953753   562.23935.con.0006_1|562.23935   \n",
       "4     0.102658    0.895509   562.22614.con.0044_2|562.22614   \n",
       "\n",
       "                          gene_two goldstandard protein1 protein2  \\\n",
       "0  562.22697.con.0023_36|562.22697          NaN      NaN      NaN   \n",
       "1  562.22477.con.0024_24|562.22477          NaN      NaN      NaN   \n",
       "2   562.23589.con.0042_6|562.23589          NaN      NaN      NaN   \n",
       "3   562.22874.con.0095_1|562.22874          NaN      NaN      NaN   \n",
       "4   562.22614.con.0044_5|562.22614          NaN      NaN      NaN   \n",
       "\n",
       "   combined_score prt1 prt2  \n",
       "0             NaN  NaN  NaN  \n",
       "1             NaN  NaN  NaN  \n",
       "2             NaN  NaN  NaN  \n",
       "3             NaN  NaN  NaN  \n",
       "4             NaN  NaN  NaN  "
      ]
     },
     "execution_count": 49,
     "metadata": {},
     "output_type": "execute_result"
    }
   ],
   "source": [
    "refseq_string.head()"
   ]
  },
  {
   "cell_type": "code",
   "execution_count": 47,
   "metadata": {},
   "outputs": [
    {
     "data": {
      "text/plain": [
       "(1169736, 10)"
      ]
     },
     "execution_count": 47,
     "metadata": {},
     "output_type": "execute_result"
    }
   ],
   "source": [
    "refseq_string.shape"
   ]
  },
  {
   "cell_type": "code",
   "execution_count": 50,
   "metadata": {},
   "outputs": [
    {
     "data": {
      "text/plain": [
       "1159522"
      ]
     },
     "execution_count": 50,
     "metadata": {},
     "output_type": "execute_result"
    }
   ],
   "source": [
    "refseq_string['combined_score'].notnull().sum()\n",
    "# very few of GO-based prediction of our network predicts PPI :-O"
   ]
  },
  {
   "cell_type": "code",
   "execution_count": 52,
   "metadata": {},
   "outputs": [],
   "source": [
    "refseq_string['string'] = refseq_string['combined_score'].notnull()"
   ]
  },
  {
   "cell_type": "code",
   "execution_count": 60,
   "metadata": {},
   "outputs": [],
   "source": [
    "refseq_string.loc[refseq_string.loc[refseq_string['goldstandard'] == 't'].index, 'GO'] = True"
   ]
  },
  {
   "cell_type": "code",
   "execution_count": 62,
   "metadata": {},
   "outputs": [],
   "source": [
    "refseq_string['predicted'] = refseq_string['nrm_mutual'].notnull()"
   ]
  },
  {
   "cell_type": "code",
   "execution_count": 61,
   "metadata": {},
   "outputs": [
    {
     "data": {
      "text/html": [
       "<div>\n",
       "<style scoped>\n",
       "    .dataframe tbody tr th:only-of-type {\n",
       "        vertical-align: middle;\n",
       "    }\n",
       "\n",
       "    .dataframe tbody tr th {\n",
       "        vertical-align: top;\n",
       "    }\n",
       "\n",
       "    .dataframe thead th {\n",
       "        text-align: right;\n",
       "    }\n",
       "</style>\n",
       "<table border=\"1\" class=\"dataframe\">\n",
       "  <thead>\n",
       "    <tr style=\"text-align: right;\">\n",
       "      <th></th>\n",
       "      <th>mutual_info</th>\n",
       "      <th>nrm_mutual</th>\n",
       "      <th>gene_one</th>\n",
       "      <th>gene_two</th>\n",
       "      <th>goldstandard</th>\n",
       "      <th>protein1</th>\n",
       "      <th>protein2</th>\n",
       "      <th>combined_score</th>\n",
       "      <th>prt1</th>\n",
       "      <th>prt2</th>\n",
       "      <th>string</th>\n",
       "      <th>GO</th>\n",
       "    </tr>\n",
       "  </thead>\n",
       "  <tbody>\n",
       "    <tr>\n",
       "      <th>0</th>\n",
       "      <td>0.074130</td>\n",
       "      <td>0.919936</td>\n",
       "      <td>562.22859.con.0026_36|562.22859</td>\n",
       "      <td>562.22697.con.0023_36|562.22697</td>\n",
       "      <td>NaN</td>\n",
       "      <td>NaN</td>\n",
       "      <td>NaN</td>\n",
       "      <td>NaN</td>\n",
       "      <td>NaN</td>\n",
       "      <td>NaN</td>\n",
       "      <td>False</td>\n",
       "      <td>NaN</td>\n",
       "    </tr>\n",
       "    <tr>\n",
       "      <th>1</th>\n",
       "      <td>0.079719</td>\n",
       "      <td>0.965408</td>\n",
       "      <td>562.22859.con.0026_36|562.22859</td>\n",
       "      <td>562.22477.con.0024_24|562.22477</td>\n",
       "      <td>NaN</td>\n",
       "      <td>NaN</td>\n",
       "      <td>NaN</td>\n",
       "      <td>NaN</td>\n",
       "      <td>NaN</td>\n",
       "      <td>NaN</td>\n",
       "      <td>False</td>\n",
       "      <td>NaN</td>\n",
       "    </tr>\n",
       "    <tr>\n",
       "      <th>2</th>\n",
       "      <td>0.142044</td>\n",
       "      <td>0.926829</td>\n",
       "      <td>562.22661.con.0008_31|562.22661</td>\n",
       "      <td>562.23589.con.0042_6|562.23589</td>\n",
       "      <td>NaN</td>\n",
       "      <td>NaN</td>\n",
       "      <td>NaN</td>\n",
       "      <td>NaN</td>\n",
       "      <td>NaN</td>\n",
       "      <td>NaN</td>\n",
       "      <td>False</td>\n",
       "      <td>NaN</td>\n",
       "    </tr>\n",
       "    <tr>\n",
       "      <th>3</th>\n",
       "      <td>0.012491</td>\n",
       "      <td>0.953753</td>\n",
       "      <td>562.23935.con.0006_1|562.23935</td>\n",
       "      <td>562.22874.con.0095_1|562.22874</td>\n",
       "      <td>NaN</td>\n",
       "      <td>NaN</td>\n",
       "      <td>NaN</td>\n",
       "      <td>NaN</td>\n",
       "      <td>NaN</td>\n",
       "      <td>NaN</td>\n",
       "      <td>False</td>\n",
       "      <td>NaN</td>\n",
       "    </tr>\n",
       "    <tr>\n",
       "      <th>4</th>\n",
       "      <td>0.102658</td>\n",
       "      <td>0.895509</td>\n",
       "      <td>562.22614.con.0044_2|562.22614</td>\n",
       "      <td>562.22614.con.0044_5|562.22614</td>\n",
       "      <td>NaN</td>\n",
       "      <td>NaN</td>\n",
       "      <td>NaN</td>\n",
       "      <td>NaN</td>\n",
       "      <td>NaN</td>\n",
       "      <td>NaN</td>\n",
       "      <td>False</td>\n",
       "      <td>NaN</td>\n",
       "    </tr>\n",
       "  </tbody>\n",
       "</table>\n",
       "</div>"
      ],
      "text/plain": [
       "   mutual_info  nrm_mutual                         gene_one  \\\n",
       "0     0.074130    0.919936  562.22859.con.0026_36|562.22859   \n",
       "1     0.079719    0.965408  562.22859.con.0026_36|562.22859   \n",
       "2     0.142044    0.926829  562.22661.con.0008_31|562.22661   \n",
       "3     0.012491    0.953753   562.23935.con.0006_1|562.23935   \n",
       "4     0.102658    0.895509   562.22614.con.0044_2|562.22614   \n",
       "\n",
       "                          gene_two goldstandard protein1 protein2  \\\n",
       "0  562.22697.con.0023_36|562.22697          NaN      NaN      NaN   \n",
       "1  562.22477.con.0024_24|562.22477          NaN      NaN      NaN   \n",
       "2   562.23589.con.0042_6|562.23589          NaN      NaN      NaN   \n",
       "3   562.22874.con.0095_1|562.22874          NaN      NaN      NaN   \n",
       "4   562.22614.con.0044_5|562.22614          NaN      NaN      NaN   \n",
       "\n",
       "   combined_score prt1 prt2  string   GO  \n",
       "0             NaN  NaN  NaN   False  NaN  \n",
       "1             NaN  NaN  NaN   False  NaN  \n",
       "2             NaN  NaN  NaN   False  NaN  \n",
       "3             NaN  NaN  NaN   False  NaN  \n",
       "4             NaN  NaN  NaN   False  NaN  "
      ]
     },
     "execution_count": 61,
     "metadata": {},
     "output_type": "execute_result"
    }
   ],
   "source": [
    "refseq_string.head()"
   ]
  },
  {
   "cell_type": "code",
   "execution_count": 64,
   "metadata": {
    "scrolled": true
   },
   "outputs": [],
   "source": [
    "selected = refseq_string[['gene_one', 'gene_two', 'GO', 'string','predicted']]"
   ]
  },
  {
   "cell_type": "code",
   "execution_count": null,
   "metadata": {},
   "outputs": [],
   "source": []
  }
 ],
 "metadata": {
  "kernelspec": {
   "display_name": "Python 3",
   "language": "python",
   "name": "python3"
  },
  "language_info": {
   "codemirror_mode": {
    "name": "ipython",
    "version": 3
   },
   "file_extension": ".py",
   "mimetype": "text/x-python",
   "name": "python",
   "nbconvert_exporter": "python",
   "pygments_lexer": "ipython3",
   "version": "3.6.7"
  }
 },
 "nbformat": 4,
 "nbformat_minor": 2
}
