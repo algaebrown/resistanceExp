{
 "cells": [
  {
   "cell_type": "code",
   "execution_count": 1,
   "metadata": {},
   "outputs": [],
   "source": [
    "from Genome.goldstandard_pair.lls import *\n",
    "gd = '/home/hermuba/data0118/goldstandard/gosim'\n",
    "net = '/home/hermuba/data0118/map_to_exist_net/mentha_rm_plasmid' #ID has problem\n",
    "gold = read_gold(gd, colnames = ['gene_one', 'gene_two', 'gosim'])\n",
    "all_chunks = read_net_by_chunk(net)\n",
    "all_chunk = merge_net_with_all_chunks(gold,all_chunks, 'mentha')"
   ]
  },
  {
   "cell_type": "code",
   "execution_count": 2,
   "metadata": {},
   "outputs": [
    {
     "data": {
      "text/html": [
       "<div>\n",
       "<style scoped>\n",
       "    .dataframe tbody tr th:only-of-type {\n",
       "        vertical-align: middle;\n",
       "    }\n",
       "\n",
       "    .dataframe tbody tr th {\n",
       "        vertical-align: top;\n",
       "    }\n",
       "\n",
       "    .dataframe thead th {\n",
       "        text-align: right;\n",
       "    }\n",
       "</style>\n",
       "<table border=\"1\" class=\"dataframe\">\n",
       "  <thead>\n",
       "    <tr style=\"text-align: right;\">\n",
       "      <th></th>\n",
       "      <th>gene_one</th>\n",
       "      <th>gene_two</th>\n",
       "      <th>gosim</th>\n",
       "      <th>Gene A</th>\n",
       "      <th>Gene B</th>\n",
       "      <th>Score</th>\n",
       "      <th>PMID</th>\n",
       "    </tr>\n",
       "  </thead>\n",
       "  <tbody>\n",
       "    <tr>\n",
       "      <th>0</th>\n",
       "      <td>562.10576.con.0002_214|562.10576</td>\n",
       "      <td>JMUY01000001_127|1438670.3</td>\n",
       "      <td>0.084</td>\n",
       "      <td>NEMR</td>\n",
       "      <td>KDSB</td>\n",
       "      <td>0.490</td>\n",
       "      <td>15690043 24561554 19402753</td>\n",
       "    </tr>\n",
       "    <tr>\n",
       "      <th>1</th>\n",
       "      <td>562.10576.con.0006_205|562.10576</td>\n",
       "      <td>562.10576.con.0006_205|562.10576</td>\n",
       "      <td>1.000</td>\n",
       "      <td>PNCB</td>\n",
       "      <td>PNCB</td>\n",
       "      <td>0.065</td>\n",
       "      <td>15690043</td>\n",
       "    </tr>\n",
       "    <tr>\n",
       "      <th>2</th>\n",
       "      <td>562.10576.con.0006_205|562.10576</td>\n",
       "      <td>562.22983.con.0033_10|562.22983</td>\n",
       "      <td>0.015</td>\n",
       "      <td>PNCB</td>\n",
       "      <td>GROL</td>\n",
       "      <td>0.126</td>\n",
       "      <td>16606699</td>\n",
       "    </tr>\n",
       "    <tr>\n",
       "      <th>3</th>\n",
       "      <td>562.10576.con.0006_205|562.10576</td>\n",
       "      <td>JMUY01000001_1045|1438670.3</td>\n",
       "      <td>0.125</td>\n",
       "      <td>PNCB</td>\n",
       "      <td>ZWF</td>\n",
       "      <td>0.126</td>\n",
       "      <td>16606699</td>\n",
       "    </tr>\n",
       "    <tr>\n",
       "      <th>4</th>\n",
       "      <td>562.10576.con.0006_205|562.10576</td>\n",
       "      <td>JMUY01000002_260|1438670.3</td>\n",
       "      <td>0.068</td>\n",
       "      <td>PNCB</td>\n",
       "      <td>RPLS</td>\n",
       "      <td>0.236</td>\n",
       "      <td>15690043</td>\n",
       "    </tr>\n",
       "  </tbody>\n",
       "</table>\n",
       "</div>"
      ],
      "text/plain": [
       "                           gene_one                          gene_two  gosim  \\\n",
       "0  562.10576.con.0002_214|562.10576        JMUY01000001_127|1438670.3  0.084   \n",
       "1  562.10576.con.0006_205|562.10576  562.10576.con.0006_205|562.10576  1.000   \n",
       "2  562.10576.con.0006_205|562.10576   562.22983.con.0033_10|562.22983  0.015   \n",
       "3  562.10576.con.0006_205|562.10576       JMUY01000001_1045|1438670.3  0.125   \n",
       "4  562.10576.con.0006_205|562.10576        JMUY01000002_260|1438670.3  0.068   \n",
       "\n",
       "  Gene A Gene B  Score                         PMID  \n",
       "0   NEMR   KDSB  0.490  15690043 24561554 19402753   \n",
       "1   PNCB   PNCB  0.065                    15690043   \n",
       "2   PNCB   GROL  0.126                    16606699   \n",
       "3   PNCB    ZWF  0.126                    16606699   \n",
       "4   PNCB   RPLS  0.236                    15690043   "
      ]
     },
     "execution_count": 2,
     "metadata": {},
     "output_type": "execute_result"
    }
   ],
   "source": [
    "all_chunk.head()"
   ]
  },
  {
   "cell_type": "code",
   "execution_count": 3,
   "metadata": {},
   "outputs": [],
   "source": [
    "all_chunk.to_csv('~/data0118/joined_smpl/mentha_GOsim_rm_plasmid', index = False)"
   ]
  },
  {
   "cell_type": "code",
   "execution_count": 4,
   "metadata": {},
   "outputs": [
    {
     "data": {
      "text/plain": [
       "<matplotlib.axes._subplots.AxesSubplot at 0x7fa2344c6f98>"
      ]
     },
     "execution_count": 4,
     "metadata": {},
     "output_type": "execute_result"
    },
    {
     "data": {
      "image/png": "[encoded data removed]",
      "text/plain": [
       "<Figure size 432x288 with 1 Axes>"
      ]
     },
     "metadata": {
      "needs_background": "light"
     },
     "output_type": "display_data"
    }
   ],
   "source": [
    "all_chunk['Score'].hist( bins = 50)"
   ]
  },
  {
   "cell_type": "code",
   "execution_count": 5,
   "metadata": {},
   "outputs": [
    {
     "data": {
      "text/plain": [
       "<matplotlib.axes._subplots.AxesSubplot at 0x7fa231144b38>"
      ]
     },
     "execution_count": 5,
     "metadata": {},
     "output_type": "execute_result"
    },
    {
     "data": {
      "image/png": "[encoded data removed]",
      "text/plain": [
       "<Figure size 432x288 with 1 Axes>"
      ]
     },
     "metadata": {
      "needs_background": "light"
     },
     "output_type": "display_data"
    }
   ],
   "source": [
    "all_chunk['gosim'].hist( bins = 50)"
   ]
  },
  {
   "cell_type": "code",
   "execution_count": 6,
   "metadata": {},
   "outputs": [
    {
     "data": {
      "text/plain": [
       "Text(0.5, 0.98, 'MENTHA v.s. GO term semantic similarity score')"
      ]
     },
     "execution_count": 6,
     "metadata": {},
     "output_type": "execute_result"
    },
    {
     "data": {
      "image/png": "[encoded data removed]",
      "text/plain": [
       "<Figure size 288x360 with 1 Axes>"
      ]
     },
     "metadata": {
      "needs_background": "light"
     },
     "output_type": "display_data"
    }
   ],
   "source": [
    "import matplotlib.pyplot as plt\n",
    "f, ax = plt.subplots(1,1, sharey = True, figsize = (4,5))\n",
    "ax.plot(all_chunk['Score'], all_chunk['gosim'], '+', alpha = 1)\n",
    "ax.set_xlabel('Mentha Score')\n",
    "ax.set_ylabel('GO term similarity score')\n",
    "\n",
    "plt.suptitle('MENTHA v.s. GO term semantic similarity score')\n"
   ]
  },
  {
   "cell_type": "code",
   "execution_count": null,
   "metadata": {},
   "outputs": [],
   "source": []
  }
 ],
 "metadata": {
  "kernelspec": {
   "display_name": "Python 3",
   "language": "python",
   "name": "python3"
  },
  "language_info": {
   "codemirror_mode": {
    "name": "ipython",
    "version": 3
   },
   "file_extension": ".py",
   "mimetype": "text/x-python",
   "name": "python",
   "nbconvert_exporter": "python",
   "pygments_lexer": "ipython3",
   "version": "3.6.10"
  }
 },
 "nbformat": 4,
 "nbformat_minor": 4
}
