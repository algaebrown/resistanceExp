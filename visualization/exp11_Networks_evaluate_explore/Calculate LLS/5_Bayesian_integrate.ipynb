{
 "cells": [
  {
   "cell_type": "code",
   "execution_count": 1,
   "metadata": {},
   "outputs": [],
   "source": [
    "import pandas as pd\n",
    "import networkx as nx\n",
    "import matplotlib.pyplot as plt\n",
    "\n",
    "\n",
    "def read_edge(net_name):\n",
    "    path = '/home/hermuba/data0118/network1122/'\n",
    "    filename = path + net_name + '_lls_rm_plasmid_edgelist'\n",
    "    \n",
    "    # skip first line header!!\n",
    "    with open(filename, 'rb') as f:\n",
    "      \n",
    "        net = nx.read_edgelist(f, nodetype = str, comments = '#')\n",
    "    return(net)\n",
    "\n"
   ]
  },
  {
   "cell_type": "code",
   "execution_count": 2,
   "metadata": {},
   "outputs": [],
   "source": [
    "string = read_edge('string')\n",
    "refseq = read_edge('refseq')\n",
    "eskape = read_edge('eskape')\n",
    "domain = read_edge('domain')"
   ]
  },
  {
   "cell_type": "code",
   "execution_count": 3,
   "metadata": {},
   "outputs": [],
   "source": [
    "combined = nx.compose(refseq, eskape)\n",
    "combined = nx.compose(combined, string)\n",
    "combined = nx.compose(combined, domain)"
   ]
  },
  {
   "cell_type": "code",
   "execution_count": 4,
   "metadata": {},
   "outputs": [],
   "source": [
    "import numpy as np\n",
    "def bayesian_integration(attr_dict, D = 1):\n",
    "    ''' Bayesian Integration to integrate many networks\n",
    "    D is a constant, please see the original paper'''\n",
    "    sorted_lls = -np.sort(-np.array(list(attr_dict.values())))  #descending\n",
    "    ans = 0\n",
    "    for sorted_index in range(len(sorted_lls)):\n",
    "        ans += sorted_lls[sorted_index]/((sorted_index+1)*D)\n",
    "    return(ans)\n",
    "    "
   ]
  },
  {
   "cell_type": "code",
   "execution_count": 5,
   "metadata": {},
   "outputs": [
    {
     "data": {
      "text/plain": [
       "30.166666666666668"
      ]
     },
     "execution_count": 5,
     "metadata": {},
     "output_type": "execute_result"
    }
   ],
   "source": [
    "test_dict = {'one':9, 'two': 2, 'three': 25}\n",
    "test_ans = 25/1 + 9/2 + 2/3\n",
    "bayesian_integration(test_dict, D = 1)"
   ]
  },
  {
   "cell_type": "code",
   "execution_count": 6,
   "metadata": {},
   "outputs": [
    {
     "data": {
      "text/plain": [
       "30.166666666666668"
      ]
     },
     "execution_count": 6,
     "metadata": {},
     "output_type": "execute_result"
    }
   ],
   "source": [
    "test_ans"
   ]
  },
  {
   "cell_type": "code",
   "execution_count": 8,
   "metadata": {},
   "outputs": [],
   "source": [
    "output_file = '/home/hermuba/data0118/network1122/combined_rm_plasmid_baye'\n",
    "# write header\n",
    "with open(output_file, 'w') as f:\n",
    "    f.write('#gene_one,gene_two,combined_lls\\n')\n",
    "    \n",
    "for e in combined.edges(data = True):\n",
    "    with open(output_file, 'a') as f:\n",
    "            \n",
    "        f.write(e[0]+','+e[1]+','+str(bayesian_integration(e[2]))+'\\n')\n",
    "        "
   ]
  },
  {
   "cell_type": "code",
   "execution_count": 10,
   "metadata": {},
   "outputs": [
    {
     "data": {
      "text/plain": [
       "{'domain_lls': 2.6044016057450023}"
      ]
     },
     "execution_count": 10,
     "metadata": {},
     "output_type": "execute_result"
    }
   ],
   "source": [
    "e[2]"
   ]
  },
  {
   "cell_type": "code",
   "execution_count": null,
   "metadata": {},
   "outputs": [],
   "source": [
    "gold_anno = pd.read_pickle('/home/hermuba/data0118/goldstandard/ec_rmplasmid_node_anno_df')\n",
    "unanno = set(combined.nodes)-set(gold_anno.index) # 319 genes not in gold_anno\n",
    "result = pd.DataFrame(0, columns = ['core-core', 'core-acc', 'acc-acc'], index = ['domain_lls', 'eskape_lls', 'refseq_lls', 'string_lls'])\n",
    "for e in combined.edges(data = True):\n",
    "    node1 = e[0]\n",
    "    node2 = e[1]\n",
    "    edge_supported_by = list(e[2].keys())\n",
    "    \n",
    "    if node1 not in unanno and node2 not in unanno:\n",
    "        if  gold_anno.loc[[node1, node2], 'core'].sum() == 2:\n",
    "            #'edge between core genes'\n",
    "            result.loc[edge_supported_by, 'core-core'] += 1\n",
    "        if  gold_anno.loc[[node1, node2], 'core'].sum() == 1:\n",
    "            #'edge between core acc genes'\n",
    "            result.loc[edge_supported_by, 'core-acc'] += 1\n",
    "        if  gold_anno.loc[[node1, node2], 'core'].sum() == 0:\n",
    "            #'edge between acc genes'\n",
    "            result.loc[edge_supported_by, 'acc-acc'] += 1"
   ]
  },
  {
   "cell_type": "code",
   "execution_count": 40,
   "metadata": {},
   "outputs": [],
   "source": [
    "\n",
    "# unique edge\n",
    "unique_result = pd.DataFrame(0, columns = ['core-core', 'core-acc', 'acc-acc'], index = ['domain_lls', 'eskape_lls', 'refseq_lls', 'string_lls'])\n",
    "for e in combined.edges(data = True):\n",
    "    node1 = e[0]\n",
    "    node2 = e[1]\n",
    "    edge_supported_by = list(e[2].keys())\n",
    "    \n",
    "    if node1 not in unanno and node2 not in unanno and len(edge_supported_by)==1:\n",
    "        if  gold_anno.loc[[node1, node2], 'core'].sum() == 2:\n",
    "            #'edge between core genes'\n",
    "            unique_result.loc[edge_supported_by, 'core-core'] += 1\n",
    "        if  gold_anno.loc[[node1, node2], 'core'].sum() == 1:\n",
    "            #'edge between core acc genes'\n",
    "            unique_result.loc[edge_supported_by, 'core-acc'] += 1\n",
    "        if  gold_anno.loc[[node1, node2], 'core'].sum() == 0:\n",
    "            #'edge between acc genes'\n",
    "            unique_result.loc[edge_supported_by, 'acc-acc'] += 1"
   ]
  },
  {
   "cell_type": "code",
   "execution_count": 14,
   "metadata": {},
   "outputs": [
    {
     "data": {
      "text/plain": [
       "False"
      ]
     },
     "execution_count": 14,
     "metadata": {},
     "output_type": "execute_result"
    }
   ],
   "source": [
    "gold_anno = pd.read_pickle('/home/hermuba/data0118/goldstandard/ec_rmplasmid_node_anno_df')\n",
    "gold_anno.loc[e[0], 'core']"
   ]
  },
  {
   "cell_type": "code",
   "execution_count": 15,
   "metadata": {},
   "outputs": [
    {
     "data": {
      "text/plain": [
       "2"
      ]
     },
     "execution_count": 15,
     "metadata": {},
     "output_type": "execute_result"
    }
   ],
   "source": [
    "True + True"
   ]
  },
  {
   "cell_type": "code",
   "execution_count": 36,
   "metadata": {},
   "outputs": [
    {
     "data": {
      "text/html": [
       "<div>\n",
       "<style scoped>\n",
       "    .dataframe tbody tr th:only-of-type {\n",
       "        vertical-align: middle;\n",
       "    }\n",
       "\n",
       "    .dataframe tbody tr th {\n",
       "        vertical-align: top;\n",
       "    }\n",
       "\n",
       "    .dataframe thead th {\n",
       "        text-align: right;\n",
       "    }\n",
       "</style>\n",
       "<table border=\"1\" class=\"dataframe\">\n",
       "  <thead>\n",
       "    <tr style=\"text-align: right;\">\n",
       "      <th></th>\n",
       "      <th>core-core</th>\n",
       "      <th>core-acc</th>\n",
       "      <th>acc-acc</th>\n",
       "    </tr>\n",
       "  </thead>\n",
       "  <tbody>\n",
       "    <tr>\n",
       "      <th>domain_lls</th>\n",
       "      <td>324376</td>\n",
       "      <td>539009</td>\n",
       "      <td>1207566</td>\n",
       "    </tr>\n",
       "    <tr>\n",
       "      <th>eskape_lls</th>\n",
       "      <td>171065</td>\n",
       "      <td>103029</td>\n",
       "      <td>31850</td>\n",
       "    </tr>\n",
       "    <tr>\n",
       "      <th>refseq_lls</th>\n",
       "      <td>125933</td>\n",
       "      <td>137472</td>\n",
       "      <td>120401</td>\n",
       "    </tr>\n",
       "    <tr>\n",
       "      <th>string_lls</th>\n",
       "      <td>4444</td>\n",
       "      <td>269</td>\n",
       "      <td>216</td>\n",
       "    </tr>\n",
       "  </tbody>\n",
       "</table>\n",
       "</div>"
      ],
      "text/plain": [
       "            core-core  core-acc  acc-acc\n",
       "domain_lls     324376    539009  1207566\n",
       "eskape_lls     171065    103029    31850\n",
       "refseq_lls     125933    137472   120401\n",
       "string_lls       4444       269      216"
      ]
     },
     "execution_count": 36,
     "metadata": {},
     "output_type": "execute_result"
    }
   ],
   "source": [
    "result"
   ]
  },
  {
   "cell_type": "code",
   "execution_count": 42,
   "metadata": {},
   "outputs": [
    {
     "data": {
      "image/png": "[encoded data removed]",
      "text/plain": [
       "<Figure size 432x288 with 1 Axes>"
      ]
     },
     "metadata": {},
     "output_type": "display_data"
    }
   ],
   "source": [
    "import matplotlib as mpl\n",
    "mpl.style.use('seaborn-white')\n",
    "result.plot(kind = 'bar', stacked = True)\n",
    "result.index = [i.capitalize()+'Net' for i in result.index]\n",
    "plt.ylabel('# Edge')\n",
    "plt.title('Edge Contribution')\n",
    "plt.savefig('/home/hermuba/data0118/fig/edge_comp.svg', format = 'svg', dpi = 300, pad_inches = 1, bbox_inches='tight')"
   ]
  },
  {
   "cell_type": "code",
   "execution_count": 45,
   "metadata": {},
   "outputs": [
    {
     "data": {
      "text/html": [
       "<div>\n",
       "<style scoped>\n",
       "    .dataframe tbody tr th:only-of-type {\n",
       "        vertical-align: middle;\n",
       "    }\n",
       "\n",
       "    .dataframe tbody tr th {\n",
       "        vertical-align: top;\n",
       "    }\n",
       "\n",
       "    .dataframe thead th {\n",
       "        text-align: right;\n",
       "    }\n",
       "</style>\n",
       "<table border=\"1\" class=\"dataframe\">\n",
       "  <thead>\n",
       "    <tr style=\"text-align: right;\">\n",
       "      <th></th>\n",
       "      <th>core-core</th>\n",
       "      <th>core-acc</th>\n",
       "      <th>acc-acc</th>\n",
       "    </tr>\n",
       "  </thead>\n",
       "  <tbody>\n",
       "    <tr>\n",
       "      <th>domain_lls</th>\n",
       "      <td>314910</td>\n",
       "      <td>535710</td>\n",
       "      <td>1194740</td>\n",
       "    </tr>\n",
       "    <tr>\n",
       "      <th>eskape_lls</th>\n",
       "      <td>160872</td>\n",
       "      <td>97527</td>\n",
       "      <td>25838</td>\n",
       "    </tr>\n",
       "    <tr>\n",
       "      <th>refseq_lls</th>\n",
       "      <td>120436</td>\n",
       "      <td>132619</td>\n",
       "      <td>108981</td>\n",
       "    </tr>\n",
       "    <tr>\n",
       "      <th>string_lls</th>\n",
       "      <td>2158</td>\n",
       "      <td>242</td>\n",
       "      <td>166</td>\n",
       "    </tr>\n",
       "  </tbody>\n",
       "</table>\n",
       "</div>"
      ],
      "text/plain": [
       "            core-core  core-acc  acc-acc\n",
       "domain_lls     314910    535710  1194740\n",
       "eskape_lls     160872     97527    25838\n",
       "refseq_lls     120436    132619   108981\n",
       "string_lls       2158       242      166"
      ]
     },
     "execution_count": 45,
     "metadata": {},
     "output_type": "execute_result"
    }
   ],
   "source": [
    "unique_result"
   ]
  },
  {
   "cell_type": "code",
   "execution_count": 44,
   "metadata": {},
   "outputs": [
    {
     "data": {
      "image/png": "[encoded data removed]",
      "text/plain": [
       "<Figure size 432x288 with 1 Axes>"
      ]
     },
     "metadata": {},
     "output_type": "display_data"
    }
   ],
   "source": [
    "import matplotlib as mpl\n",
    "mpl.style.use('seaborn-white')\n",
    "unique_result.plot(kind = 'bar', stacked = True)\n",
    "#unique_result.index = [i.capitalize()+'Net' for i in unqiue_result.index]\n",
    "plt.ylabel('# Unique Edge')\n",
    "plt.title('Unique Edge Contribution')\n",
    "plt.savefig('/home/hermuba/data0118/fig/unique_edge_comp.svg', format = 'svg', dpi = 300, pad_inches = 1, bbox_inches='tight')"
   ]
  },
  {
   "cell_type": "code",
   "execution_count": 32,
   "metadata": {},
   "outputs": [
    {
     "data": {
      "text/plain": [
       "(31621, 20)"
      ]
     },
     "execution_count": 32,
     "metadata": {},
     "output_type": "execute_result"
    }
   ],
   "source": [
    "gold_anno.shape"
   ]
  },
  {
   "cell_type": "code",
   "execution_count": null,
   "metadata": {},
   "outputs": [],
   "source": []
  }
 ],
 "metadata": {
  "kernelspec": {
   "display_name": "Python 3",
   "language": "python",
   "name": "python3"
  },
  "language_info": {
   "codemirror_mode": {
    "name": "ipython",
    "version": 3
   },
   "file_extension": ".py",
   "mimetype": "text/x-python",
   "name": "python",
   "nbconvert_exporter": "python",
   "pygments_lexer": "ipython3",
   "version": "3.6.10"
  }
 },
 "nbformat": 4,
 "nbformat_minor": 4
}
