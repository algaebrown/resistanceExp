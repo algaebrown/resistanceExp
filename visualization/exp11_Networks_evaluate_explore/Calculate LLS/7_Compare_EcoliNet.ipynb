{
 "cells": [
  {
   "cell_type": "code",
   "execution_count": 1,
   "metadata": {},
   "outputs": [],
   "source": [
    "from Genome.goldstandard_pair.lls import *\n",
    "root_dir = '/home/hermuba/data0118/map_to_exist_net/EcoliNet/'\n",
    "net = root_dir + 'ecoliNet_rm_plasmid'\n",
    "gd = '/home/hermuba/data0118/goldstandard/tf_intersect_GO_rm_plasmidGO.smpl'"
   ]
  },
  {
   "cell_type": "code",
   "execution_count": 3,
   "metadata": {},
   "outputs": [],
   "source": [
    "gold = read_gold(gd)\n",
    "all_chunks = read_net_by_chunk(net)\n",
    "all_chunk = merge_net_with_all_chunks(gold,all_chunks, 'EcoliNet')"
   ]
  },
  {
   "cell_type": "code",
   "execution_count": 4,
   "metadata": {},
   "outputs": [
    {
     "data": {
      "text/plain": [
       "(1354, 5)"
      ]
     },
     "execution_count": 4,
     "metadata": {},
     "output_type": "execute_result"
    }
   ],
   "source": [
    "all_chunk.shape"
   ]
  },
  {
   "cell_type": "code",
   "execution_count": 5,
   "metadata": {},
   "outputs": [],
   "source": [
    "all_chunk.to_csv('~/data0118/EcoliNet_GO_smpl_rm_plasmid')"
   ]
  },
  {
   "cell_type": "code",
   "execution_count": 4,
   "metadata": {},
   "outputs": [
    {
     "data": {
      "text/html": [
       "<div>\n",
       "<style scoped>\n",
       "    .dataframe tbody tr th:only-of-type {\n",
       "        vertical-align: middle;\n",
       "    }\n",
       "\n",
       "    .dataframe tbody tr th {\n",
       "        vertical-align: top;\n",
       "    }\n",
       "\n",
       "    .dataframe thead th {\n",
       "        text-align: right;\n",
       "    }\n",
       "</style>\n",
       "<table border=\"1\" class=\"dataframe\">\n",
       "  <thead>\n",
       "    <tr style=\"text-align: right;\">\n",
       "      <th></th>\n",
       "      <th>gene_one</th>\n",
       "      <th>gene_two</th>\n",
       "      <th>goldstandard</th>\n",
       "      <th>Unnamed: 0</th>\n",
       "      <th>Score</th>\n",
       "    </tr>\n",
       "  </thead>\n",
       "  <tbody>\n",
       "    <tr>\n",
       "      <th>0</th>\n",
       "      <td>562.10576.con.0006_205|562.10576</td>\n",
       "      <td>562.22928.con.0007_120|562.22928</td>\n",
       "      <td>0</td>\n",
       "      <td>94559</td>\n",
       "      <td>0.801385</td>\n",
       "    </tr>\n",
       "    <tr>\n",
       "      <th>1</th>\n",
       "      <td>562.10576.con.0006_205|562.10576</td>\n",
       "      <td>562.23769.con.0004_161|562.23769</td>\n",
       "      <td>0</td>\n",
       "      <td>33871</td>\n",
       "      <td>2.346128</td>\n",
       "    </tr>\n",
       "    <tr>\n",
       "      <th>2</th>\n",
       "      <td>562.10576.con.0006_205|562.10576</td>\n",
       "      <td>FLWH01000015_58|562.12962</td>\n",
       "      <td>0</td>\n",
       "      <td>77800</td>\n",
       "      <td>1.210427</td>\n",
       "    </tr>\n",
       "    <tr>\n",
       "      <th>3</th>\n",
       "      <td>562.10576.con.0006_205|562.10576</td>\n",
       "      <td>JMUY01000004_30|1438670.3</td>\n",
       "      <td>0</td>\n",
       "      <td>52792</td>\n",
       "      <td>1.767220</td>\n",
       "    </tr>\n",
       "    <tr>\n",
       "      <th>4</th>\n",
       "      <td>562.10576.con.0006_205|562.10576</td>\n",
       "      <td>JMUY01000004_440|1438670.3</td>\n",
       "      <td>0</td>\n",
       "      <td>87615</td>\n",
       "      <td>0.958035</td>\n",
       "    </tr>\n",
       "  </tbody>\n",
       "</table>\n",
       "</div>"
      ],
      "text/plain": [
       "                           gene_one                          gene_two  \\\n",
       "0  562.10576.con.0006_205|562.10576  562.22928.con.0007_120|562.22928   \n",
       "1  562.10576.con.0006_205|562.10576  562.23769.con.0004_161|562.23769   \n",
       "2  562.10576.con.0006_205|562.10576         FLWH01000015_58|562.12962   \n",
       "3  562.10576.con.0006_205|562.10576         JMUY01000004_30|1438670.3   \n",
       "4  562.10576.con.0006_205|562.10576        JMUY01000004_440|1438670.3   \n",
       "\n",
       "   goldstandard  Unnamed: 0     Score  \n",
       "0             0       94559  0.801385  \n",
       "1             0       33871  2.346128  \n",
       "2             0       77800  1.210427  \n",
       "3             0       52792  1.767220  \n",
       "4             0       87615  0.958035  "
      ]
     },
     "execution_count": 4,
     "metadata": {},
     "output_type": "execute_result"
    }
   ],
   "source": [
    "all_chunk.head()"
   ]
  },
  {
   "cell_type": "code",
   "execution_count": 5,
   "metadata": {},
   "outputs": [],
   "source": [
    "gold_anno = pd.read_pickle('/home/hermuba/data0118/goldstandard/ec_rmplasmid_node_anno_df')"
   ]
  },
  {
   "cell_type": "code",
   "execution_count": 6,
   "metadata": {},
   "outputs": [],
   "source": [
    "# don't need to calculate LLS cause it's done.We need to change LLS threshold and calculate PPV and coverage\n",
    "def PPV_coverage(lls_thres, all_df, total_nodes = gold_anno.shape[0]):\n",
    "    '''\n",
    "    calculate PPV, coverage using different threshold of LLS cutoff\n",
    "    input: lls_thres: the LLS cutoff to consider interaction as True\n",
    "    all_df: dataframe containing goldstandard and lls\n",
    "    '''\n",
    "    all_df['ans'] = all_df['Score'].map(lambda x: True if x > lls_thres else False)\n",
    "\n",
    "    # calculate coverage\n",
    "    total_nodes = set(all_df['gene_one']).union(set(all_df['gene_two']))\n",
    "    net = all_df.loc[all_df['ans'] == True]\n",
    "    \n",
    "   \n",
    "    covered_nodes = set(net['gene_one']).union(set(net['gene_two']))\n",
    "    coverage = len(covered_nodes)/len(total_nodes)\n",
    "\n",
    "    # calculate PPV\n",
    "    grouped = all_df.groupby(by = ['goldstandard', 'ans']).count()['gene_one']\n",
    "\n",
    "    try:\n",
    "        tp = grouped[1, True]\n",
    "        fp = grouped[0, True]\n",
    "        PPV = tp/(tp+fp)\n",
    "    except KeyError:\n",
    "        PPV = 0\n",
    "        \n",
    "    return(coverage, PPV)\n",
    "\n",
    "def try_diff_lls_thres(all_df):\n",
    "    '''\n",
    "    try different LLS threshold to see the tradeoffs between coverage and PPV\n",
    "    LLS threshold as df['lls'].unique values\n",
    "    all_df: dataframe containing goldstandard and lls\n",
    "    '''\n",
    "    tradeoff = pd.DataFrame(columns = ['thres', 'coverage', 'PPV'])\n",
    "    \n",
    "    max_score = all_chunk['Score'].max()\n",
    "    min_score = all_chunk['Score'].min()\n",
    "    try_list = np.linspace(start = min_score, stop = max_score, num = 50)\n",
    "    \n",
    "    for t in try_list:\n",
    "        \n",
    "        cov, PPV = PPV_coverage(t, all_df)\n",
    "        tradeoff.loc[t] = [t, cov, PPV]\n",
    "    return(tradeoff)\n"
   ]
  },
  {
   "cell_type": "code",
   "execution_count": 7,
   "metadata": {},
   "outputs": [],
   "source": [
    "tradeoff = try_diff_lls_thres(all_chunk)"
   ]
  },
  {
   "cell_type": "code",
   "execution_count": 8,
   "metadata": {},
   "outputs": [
    {
     "data": {
      "text/plain": [
       "Text(0, 0.5, 'PPV')"
      ]
     },
     "execution_count": 8,
     "metadata": {},
     "output_type": "execute_result"
    },
    {
     "data": {
      "image/png": "[encoded data removed]",
      "text/plain": [
       "<Figure size 432x288 with 1 Axes>"
      ]
     },
     "metadata": {
      "needs_background": "light"
     },
     "output_type": "display_data"
    }
   ],
   "source": [
    "%matplotlib inline\n",
    "import matplotlib.pyplot as plt\n",
    "plt.plot(tradeoff['coverage'], tradeoff['PPV'], '-')\n",
    "plt.plot(tradeoff['coverage'], tradeoff['PPV'], '+')\n",
    "plt.xlabel('coverage')\n",
    "plt.ylabel('PPV')"
   ]
  },
  {
   "cell_type": "code",
   "execution_count": 9,
   "metadata": {},
   "outputs": [],
   "source": [
    "tradeoff.to_csv('~/data0118/PPV_coverage/EcoliNet')"
   ]
  },
  {
   "cell_type": "markdown",
   "metadata": {},
   "source": [
    "# calculate statistic"
   ]
  },
  {
   "cell_type": "code",
   "execution_count": 10,
   "metadata": {},
   "outputs": [],
   "source": [
    "core_genes = gold_anno.loc[gold_anno['core'] == True]\n",
    "def net_stat(G):\n",
    "    # core\n",
    "    number_of_core = len(set(G.nodes()).intersection(gold_anno.loc[gold_anno['core'] == True].index))\n",
    "    # accessory\n",
    "    number_of_acc = G.number_of_nodes() - number_of_core\n",
    "    # hypothetical\n",
    "    number_of_hypo = len(set(G.nodes()).intersection(gold_anno.loc[gold_anno['hypo_nr'] == True].index))\n",
    "    # mobile\n",
    "    number_of_mobile = len(set(G.nodes()).intersection(gold_anno.loc[gold_anno['is_aclame'] == True].index))\n",
    "    # CARD genes\n",
    "    number_of_card = len(set(G.nodes()).intersection(gold_anno.loc[gold_anno['is_card'] == True].index))\n",
    "    # COG annotation\n",
    "    number_of_cog = len(set(G.nodes()).intersection(gold_anno.loc[gold_anno['cog_ID'].notna()].index))\n",
    "    return([G.number_of_nodes(), \n",
    "            G.number_of_edges(), \n",
    "            nx.algorithms.components.number_connected_components(G),\n",
    "           number_of_core,\n",
    "           number_of_acc,\n",
    "           number_of_hypo,\n",
    "           number_of_mobile,\n",
    "           number_of_card,\n",
    "           number_of_cog])\n",
    "\n"
   ]
  },
  {
   "cell_type": "code",
   "execution_count": 11,
   "metadata": {},
   "outputs": [
    {
     "ename": "TypeError",
     "evalue": "string indices must be integers",
     "output_type": "error",
     "traceback": [
      "\u001b[0;31m---------------------------------------------------------------------------\u001b[0m",
      "\u001b[0;31mTypeError\u001b[0m                                 Traceback (most recent call last)",
      "\u001b[0;32m<ipython-input-11-8f1568b54f7b>\u001b[0m in \u001b[0;36m<module>\u001b[0;34m\u001b[0m\n\u001b[1;32m      1\u001b[0m \u001b[0;32mimport\u001b[0m \u001b[0mnetworkx\u001b[0m \u001b[0;32mas\u001b[0m \u001b[0mnx\u001b[0m\u001b[0;34m\u001b[0m\u001b[0;34m\u001b[0m\u001b[0m\n\u001b[0;32m----> 2\u001b[0;31m \u001b[0mG\u001b[0m \u001b[0;34m=\u001b[0m \u001b[0mnx\u001b[0m\u001b[0;34m.\u001b[0m\u001b[0mconvert_matrix\u001b[0m\u001b[0;34m.\u001b[0m\u001b[0mfrom_pandas_edgelist\u001b[0m\u001b[0;34m(\u001b[0m\u001b[0mnet\u001b[0m\u001b[0;34m,\u001b[0m \u001b[0msource\u001b[0m \u001b[0;34m=\u001b[0m \u001b[0;34m'gene_one'\u001b[0m\u001b[0;34m,\u001b[0m \u001b[0mtarget\u001b[0m \u001b[0;34m=\u001b[0m \u001b[0;34m'gene_two'\u001b[0m\u001b[0;34m)\u001b[0m\u001b[0;34m\u001b[0m\u001b[0;34m\u001b[0m\u001b[0m\n\u001b[0m",
      "\u001b[0;32m~/miniconda3/lib/python3.6/site-packages/networkx/convert_matrix.py\u001b[0m in \u001b[0;36mfrom_pandas_edgelist\u001b[0;34m(df, source, target, edge_attr, create_using)\u001b[0m\n\u001b[1;32m    324\u001b[0m \u001b[0;34m\u001b[0m\u001b[0m\n\u001b[1;32m    325\u001b[0m     \u001b[0;32mif\u001b[0m \u001b[0medge_attr\u001b[0m \u001b[0;32mis\u001b[0m \u001b[0;32mNone\u001b[0m\u001b[0;34m:\u001b[0m\u001b[0;34m\u001b[0m\u001b[0;34m\u001b[0m\u001b[0m\n\u001b[0;32m--> 326\u001b[0;31m         \u001b[0mg\u001b[0m\u001b[0;34m.\u001b[0m\u001b[0madd_edges_from\u001b[0m\u001b[0;34m(\u001b[0m\u001b[0mzip\u001b[0m\u001b[0;34m(\u001b[0m\u001b[0mdf\u001b[0m\u001b[0;34m[\u001b[0m\u001b[0msource\u001b[0m\u001b[0;34m]\u001b[0m\u001b[0;34m,\u001b[0m \u001b[0mdf\u001b[0m\u001b[0;34m[\u001b[0m\u001b[0mtarget\u001b[0m\u001b[0;34m]\u001b[0m\u001b[0;34m)\u001b[0m\u001b[0;34m)\u001b[0m\u001b[0;34m\u001b[0m\u001b[0;34m\u001b[0m\u001b[0m\n\u001b[0m\u001b[1;32m    327\u001b[0m         \u001b[0;32mreturn\u001b[0m \u001b[0mg\u001b[0m\u001b[0;34m\u001b[0m\u001b[0;34m\u001b[0m\u001b[0m\n\u001b[1;32m    328\u001b[0m \u001b[0;34m\u001b[0m\u001b[0m\n",
      "\u001b[0;31mTypeError\u001b[0m: string indices must be integers"
     ]
    }
   ],
   "source": [
    "import networkx as nx\n",
    "G = nx.convert_matrix.from_pandas_edgelist(net, source = 'gene_one', target = 'gene_two')"
   ]
  },
  {
   "cell_type": "code",
   "execution_count": null,
   "metadata": {},
   "outputs": [],
   "source": [
    "net_stat(G)"
   ]
  },
  {
   "cell_type": "code",
   "execution_count": null,
   "metadata": {},
   "outputs": [],
   "source": []
  }
 ],
 "metadata": {
  "kernelspec": {
   "display_name": "Python 3",
   "language": "python",
   "name": "python3"
  },
  "language_info": {
   "codemirror_mode": {
    "name": "ipython",
    "version": 3
   },
   "file_extension": ".py",
   "mimetype": "text/x-python",
   "name": "python",
   "nbconvert_exporter": "python",
   "pygments_lexer": "ipython3",
   "version": "3.6.10"
  }
 },
 "nbformat": 4,
 "nbformat_minor": 4
}
