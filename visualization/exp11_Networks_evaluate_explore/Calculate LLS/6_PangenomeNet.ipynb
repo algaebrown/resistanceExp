{
 "cells": [
  {
   "cell_type": "code",
   "execution_count": 2,
   "metadata": {},
   "outputs": [],
   "source": [
    "from Genome.goldstandard_pair.lls import *\n",
    "# read net\n",
    "gd = '/home/hermuba/data0118/goldstandard/tf_intersect_GO_rm_plasmidGO.smpl'\n",
    "net = '/home/hermuba/data0118/network1122/combined_rm_plasmid_baye'\n",
    "gold = read_gold(gd)\n",
    "all_chunks = read_net_by_chunk(net, names = ['gene_one', 'gene_two', 'combined_score'])\n",
    "all_chunk = merge_net_with_all_chunks(gold,all_chunks, 'PangenomeNet')"
   ]
  },
  {
   "cell_type": "code",
   "execution_count": 3,
   "metadata": {},
   "outputs": [
    {
     "data": {
      "text/html": [
       "<div>\n",
       "<style scoped>\n",
       "    .dataframe tbody tr th:only-of-type {\n",
       "        vertical-align: middle;\n",
       "    }\n",
       "\n",
       "    .dataframe tbody tr th {\n",
       "        vertical-align: top;\n",
       "    }\n",
       "\n",
       "    .dataframe thead th {\n",
       "        text-align: right;\n",
       "    }\n",
       "</style>\n",
       "<table border=\"1\" class=\"dataframe\">\n",
       "  <thead>\n",
       "    <tr style=\"text-align: right;\">\n",
       "      <th></th>\n",
       "      <th>gene_one</th>\n",
       "      <th>gene_two</th>\n",
       "      <th>goldstandard</th>\n",
       "      <th>combined_lls</th>\n",
       "    </tr>\n",
       "  </thead>\n",
       "  <tbody>\n",
       "    <tr>\n",
       "      <th>0</th>\n",
       "      <td>562.10576.con.0002_214|562.10576</td>\n",
       "      <td>562.22520.con.0081_4|562.22520</td>\n",
       "      <td>0</td>\n",
       "      <td>305.53</td>\n",
       "    </tr>\n",
       "    <tr>\n",
       "      <th>1</th>\n",
       "      <td>562.10576.con.0002_214|562.10576</td>\n",
       "      <td>562.22588.con.0052_3|562.22588</td>\n",
       "      <td>0</td>\n",
       "      <td>305.53</td>\n",
       "    </tr>\n",
       "    <tr>\n",
       "      <th>2</th>\n",
       "      <td>562.10576.con.0002_214|562.10576</td>\n",
       "      <td>562.22931.con.0021_54|562.22931</td>\n",
       "      <td>0</td>\n",
       "      <td>12.2169</td>\n",
       "    </tr>\n",
       "    <tr>\n",
       "      <th>3</th>\n",
       "      <td>562.10576.con.0002_214|562.10576</td>\n",
       "      <td>562.23214.con.0013_144|562.23214</td>\n",
       "      <td>0</td>\n",
       "      <td>3.24758</td>\n",
       "    </tr>\n",
       "    <tr>\n",
       "      <th>4</th>\n",
       "      <td>562.10576.con.0002_214|562.10576</td>\n",
       "      <td>562.23322.con.0003_100|562.23322</td>\n",
       "      <td>0</td>\n",
       "      <td>12.2169</td>\n",
       "    </tr>\n",
       "  </tbody>\n",
       "</table>\n",
       "</div>"
      ],
      "text/plain": [
       "                           gene_one                          gene_two  \\\n",
       "0  562.10576.con.0002_214|562.10576    562.22520.con.0081_4|562.22520   \n",
       "1  562.10576.con.0002_214|562.10576    562.22588.con.0052_3|562.22588   \n",
       "2  562.10576.con.0002_214|562.10576   562.22931.con.0021_54|562.22931   \n",
       "3  562.10576.con.0002_214|562.10576  562.23214.con.0013_144|562.23214   \n",
       "4  562.10576.con.0002_214|562.10576  562.23322.con.0003_100|562.23322   \n",
       "\n",
       "   goldstandard combined_lls  \n",
       "0             0       305.53  \n",
       "1             0       305.53  \n",
       "2             0      12.2169  \n",
       "3             0      3.24758  \n",
       "4             0      12.2169  "
      ]
     },
     "execution_count": 3,
     "metadata": {},
     "output_type": "execute_result"
    }
   ],
   "source": [
    "all_chunk.head()"
   ]
  },
  {
   "cell_type": "code",
   "execution_count": 3,
   "metadata": {},
   "outputs": [],
   "source": [
    "all_chunk.to_csv('~/data0118/joined_smpl/pangenomeNet_GO_smpl_rm_plasmid')"
   ]
  },
  {
   "cell_type": "code",
   "execution_count": 16,
   "metadata": {},
   "outputs": [],
   "source": [
    "# don't need to calculate LLS cause it's done.We need to change LLS threshold and calculate PPV and coverage\n",
    "def PPV_coverage(lls_thres, all_df):\n",
    "    '''\n",
    "    calculate PPV, coverage using different threshold of LLS cutoff\n",
    "    input: lls_thres: the LLS cutoff to consider interaction as True\n",
    "    all_df: dataframe containing goldstandard and lls\n",
    "    '''\n",
    "    all_df['ans'] = all_df['combined_lls'].map(lambda x: True if x > lls_thres else False)\n",
    "\n",
    "    # calculate coverage\n",
    "    total_nodes = set(all_df['gene_one']).union(set(all_df['gene_two']))\n",
    "    net = all_df.loc[all_df['ans'] == True]\n",
    "    \n",
    "   \n",
    "    covered_nodes = set(net['gene_one']).union(set(net['gene_two']))\n",
    "    coverage = len(covered_nodes)/len(total_nodes)\n",
    "\n",
    "    # calculate PPV\n",
    "    grouped = all_df.groupby(by = ['goldstandard', 'ans']).count()['gene_one']\n",
    "\n",
    "    try:\n",
    "        tp = grouped[1, True]\n",
    "        fp = grouped[0, True]\n",
    "        PPV = tp/(tp+fp)\n",
    "    except KeyError:\n",
    "        PPV = 0\n",
    "        \n",
    "    return(coverage, PPV)\n",
    "\n",
    "def try_diff_lls_thres(all_df):\n",
    "    '''\n",
    "    try different LLS threshold to see the tradeoffs between coverage and PPV\n",
    "    LLS threshold as df['lls'].unique values\n",
    "    all_df: dataframe containing goldstandard and lls\n",
    "    '''\n",
    "    tradeoff = pd.DataFrame(columns = ['thres', 'coverage', 'PPV'])\n",
    "\n",
    "    #max_score = all_df['combined_lls'].max()\n",
    "    #min_score = all_df['combined_lls'].min()\n",
    "    #try_list = np.linspace(start = min_score, stop = max_score, num = 1000)\n",
    "    try_list = np.sort(all_chunk['combined_lls'].unique())\n",
    "    \n",
    "    for t in try_list:\n",
    "        \n",
    "        cov, PPV = PPV_coverage(t, all_df)\n",
    "        tradeoff.loc[t] = [t, cov, PPV]\n",
    "    return(tradeoff)\n"
   ]
  },
  {
   "cell_type": "code",
   "execution_count": 15,
   "metadata": {},
   "outputs": [
    {
     "data": {
      "text/plain": [
       "array([305.53025573,  12.21686447,   3.24758461, ...,  23.06215175,\n",
       "        12.74183845,  11.82323593])"
      ]
     },
     "execution_count": 15,
     "metadata": {},
     "output_type": "execute_result"
    }
   ],
   "source": [
    "all_chunk['combined_lls'].unique()"
   ]
  },
  {
   "cell_type": "code",
   "execution_count": 17,
   "metadata": {},
   "outputs": [],
   "source": [
    "tradeoff = try_diff_lls_thres(all_chunk)"
   ]
  },
  {
   "cell_type": "code",
   "execution_count": 19,
   "metadata": {},
   "outputs": [],
   "source": [
    "tradeoff.to_csv('~/data0118/PPV_coverage/combined_rm_plasmid')"
   ]
  },
  {
   "cell_type": "code",
   "execution_count": 18,
   "metadata": {},
   "outputs": [
    {
     "data": {
      "text/plain": [
       "Text(0, 0.5, 'PPV')"
      ]
     },
     "execution_count": 18,
     "metadata": {},
     "output_type": "execute_result"
    },
    {
     "data": {
      "image/png": "[encoded data removed]",
      "text/plain": [
       "<Figure size 432x288 with 1 Axes>"
      ]
     },
     "metadata": {
      "needs_background": "light"
     },
     "output_type": "display_data"
    }
   ],
   "source": [
    "%matplotlib inline\n",
    "import matplotlib.pyplot as plt\n",
    "plt.plot(tradeoff['coverage'], tradeoff['PPV'], '-')\n",
    "plt.plot(tradeoff['coverage'], tradeoff['PPV'], '+')\n",
    "plt.xlabel('coverage')\n",
    "plt.ylabel('PPV')"
   ]
  },
  {
   "cell_type": "code",
   "execution_count": null,
   "metadata": {},
   "outputs": [],
   "source": []
  }
 ],
 "metadata": {
  "kernelspec": {
   "display_name": "Python 3",
   "language": "python",
   "name": "python3"
  },
  "language_info": {
   "codemirror_mode": {
    "name": "ipython",
    "version": 3
   },
   "file_extension": ".py",
   "mimetype": "text/x-python",
   "name": "python",
   "nbconvert_exporter": "python",
   "pygments_lexer": "ipython3",
   "version": "3.6.10"
  }
 },
 "nbformat": 4,
 "nbformat_minor": 4
}
