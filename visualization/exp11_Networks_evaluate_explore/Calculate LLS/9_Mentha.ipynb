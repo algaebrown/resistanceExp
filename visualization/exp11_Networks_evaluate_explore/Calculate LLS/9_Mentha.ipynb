{
 "cells": [
  {
   "cell_type": "code",
   "execution_count": 10,
   "metadata": {},
   "outputs": [],
   "source": [
    "from Genome.goldstandard_pair.lls import *\n",
    "gd = '/home/hermuba/data0118/goldstandard/tf_intersect_GO_rm_plasmidGO'\n",
    "net = '/home/hermuba/data0118/map_to_exist_net/mentha_rm_plasmid' #ID has problem"
   ]
  },
  {
   "cell_type": "code",
   "execution_count": 11,
   "metadata": {
    "scrolled": true
   },
   "outputs": [],
   "source": [
    "gold = read_gold(gd)\n",
    "all_chunks = read_net_by_chunk(net)\n",
    "all_chunk = merge_net_with_all_chunks(gold,all_chunks)"
   ]
  },
  {
   "cell_type": "code",
   "execution_count": 12,
   "metadata": {},
   "outputs": [],
   "source": [
    "all_chunk.to_csv('~/data0118/joined_smpl/mentha_GO_full_rm_plasmid')"
   ]
  },
  {
   "cell_type": "code",
   "execution_count": 5,
   "metadata": {},
   "outputs": [],
   "source": [
    "%matplotlib inline\n",
    "def wrap_for_diff_score(score, all_chunk):\n",
    "    lls_score = lls_for_other(all_chunk, score, bins = 10)\n",
    "    true_thres, slope, intercept = lls_regress_thres(lls_score)\n",
    "    new_lls = map_lls(lls_score, true_thres, slope, intercept)\n",
    "    all_chunk = map_score_to_lls(all_chunk, new_lls, score)\n",
    "    tradeoff = try_diff_lls_thres(all_chunk)\n",
    "    return(new_lls, all_chunk,lls_score, tradeoff, true_thres)"
   ]
  },
  {
   "cell_type": "code",
   "execution_count": 9,
   "metadata": {},
   "outputs": [],
   "source": [
    "lls_score = lls_for_other(all_chunk, 'Score', bins = 10)"
   ]
  },
  {
   "cell_type": "code",
   "execution_count": 6,
   "metadata": {},
   "outputs": [
    {
     "ename": "StopIteration",
     "evalue": "",
     "output_type": "error",
     "traceback": [
      "\u001b[0;31m---------------------------------------------------------------------------\u001b[0m",
      "\u001b[0;31mStopIteration\u001b[0m                             Traceback (most recent call last)",
      "\u001b[0;32m<ipython-input-6-14f16bbd5fe4>\u001b[0m in \u001b[0;36m<module>\u001b[0;34m\u001b[0m\n\u001b[0;32m----> 1\u001b[0;31m \u001b[0mnew_lls\u001b[0m\u001b[0;34m,\u001b[0m \u001b[0mall_chunk\u001b[0m\u001b[0;34m,\u001b[0m\u001b[0mlls_score\u001b[0m\u001b[0;34m,\u001b[0m \u001b[0mtradeoff\u001b[0m\u001b[0;34m,\u001b[0m \u001b[0mtrue_thres\u001b[0m \u001b[0;34m=\u001b[0m \u001b[0mwrap_for_diff_score\u001b[0m\u001b[0;34m(\u001b[0m\u001b[0;34m'Score'\u001b[0m\u001b[0;34m,\u001b[0m \u001b[0mall_chunk\u001b[0m\u001b[0;34m)\u001b[0m\u001b[0;34m\u001b[0m\u001b[0;34m\u001b[0m\u001b[0m\n\u001b[0m",
      "\u001b[0;32m<ipython-input-5-d0253dc890f5>\u001b[0m in \u001b[0;36mwrap_for_diff_score\u001b[0;34m(score, all_chunk)\u001b[0m\n\u001b[1;32m      2\u001b[0m \u001b[0;32mdef\u001b[0m \u001b[0mwrap_for_diff_score\u001b[0m\u001b[0;34m(\u001b[0m\u001b[0mscore\u001b[0m\u001b[0;34m,\u001b[0m \u001b[0mall_chunk\u001b[0m\u001b[0;34m)\u001b[0m\u001b[0;34m:\u001b[0m\u001b[0;34m\u001b[0m\u001b[0;34m\u001b[0m\u001b[0m\n\u001b[1;32m      3\u001b[0m     \u001b[0mlls_score\u001b[0m \u001b[0;34m=\u001b[0m \u001b[0mlls_for_other\u001b[0m\u001b[0;34m(\u001b[0m\u001b[0mall_chunk\u001b[0m\u001b[0;34m,\u001b[0m \u001b[0mscore\u001b[0m\u001b[0;34m,\u001b[0m \u001b[0mbins\u001b[0m \u001b[0;34m=\u001b[0m \u001b[0;36m10\u001b[0m\u001b[0;34m)\u001b[0m\u001b[0;34m\u001b[0m\u001b[0;34m\u001b[0m\u001b[0m\n\u001b[0;32m----> 4\u001b[0;31m     \u001b[0mtrue_thres\u001b[0m\u001b[0;34m,\u001b[0m \u001b[0mslope\u001b[0m\u001b[0;34m,\u001b[0m \u001b[0mintercept\u001b[0m \u001b[0;34m=\u001b[0m \u001b[0mlls_regress_thres\u001b[0m\u001b[0;34m(\u001b[0m\u001b[0mlls_score\u001b[0m\u001b[0;34m)\u001b[0m\u001b[0;34m\u001b[0m\u001b[0;34m\u001b[0m\u001b[0m\n\u001b[0m\u001b[1;32m      5\u001b[0m     \u001b[0mnew_lls\u001b[0m \u001b[0;34m=\u001b[0m \u001b[0mmap_lls\u001b[0m\u001b[0;34m(\u001b[0m\u001b[0mlls_score\u001b[0m\u001b[0;34m,\u001b[0m \u001b[0mtrue_thres\u001b[0m\u001b[0;34m,\u001b[0m \u001b[0mslope\u001b[0m\u001b[0;34m,\u001b[0m \u001b[0mintercept\u001b[0m\u001b[0;34m)\u001b[0m\u001b[0;34m\u001b[0m\u001b[0;34m\u001b[0m\u001b[0m\n\u001b[1;32m      6\u001b[0m     \u001b[0mall_chunk\u001b[0m \u001b[0;34m=\u001b[0m \u001b[0mmap_score_to_lls\u001b[0m\u001b[0;34m(\u001b[0m\u001b[0mall_chunk\u001b[0m\u001b[0;34m,\u001b[0m \u001b[0mnew_lls\u001b[0m\u001b[0;34m,\u001b[0m \u001b[0mscore\u001b[0m\u001b[0;34m)\u001b[0m\u001b[0;34m\u001b[0m\u001b[0;34m\u001b[0m\u001b[0m\n",
      "\u001b[0;32m~/resistanceExp/Genome/goldstandard_pair/lls.py\u001b[0m in \u001b[0;36mlls_regress_thres\u001b[0;34m(lls_score)\u001b[0m\n\u001b[1;32m    133\u001b[0m \u001b[0;34m\u001b[0m\u001b[0m\n\u001b[1;32m    134\u001b[0m     \u001b[0;31m# find the smallest interval that is > 3\u001b[0m\u001b[0;34m\u001b[0m\u001b[0;34m\u001b[0m\u001b[0;34m\u001b[0m\u001b[0m\n\u001b[0;32m--> 135\u001b[0;31m     \u001b[0mthres\u001b[0m \u001b[0;34m=\u001b[0m \u001b[0mnext\u001b[0m\u001b[0;34m(\u001b[0m\u001b[0mx\u001b[0m\u001b[0;34m[\u001b[0m\u001b[0;36m0\u001b[0m\u001b[0;34m]\u001b[0m \u001b[0;32mfor\u001b[0m \u001b[0mx\u001b[0m \u001b[0;32min\u001b[0m \u001b[0menumerate\u001b[0m\u001b[0;34m(\u001b[0m\u001b[0mlls_score\u001b[0m\u001b[0;34m)\u001b[0m \u001b[0;32mif\u001b[0m \u001b[0mx\u001b[0m\u001b[0;34m[\u001b[0m\u001b[0;36m1\u001b[0m\u001b[0;34m]\u001b[0m \u001b[0;34m>\u001b[0m \u001b[0;36m3\u001b[0m\u001b[0;34m)\u001b[0m\u001b[0;34m\u001b[0m\u001b[0;34m\u001b[0m\u001b[0m\n\u001b[0m\u001b[1;32m    136\u001b[0m     \u001b[0mtrue_thres\u001b[0m \u001b[0;34m=\u001b[0m \u001b[0mlls_score\u001b[0m\u001b[0;34m.\u001b[0m\u001b[0mindex\u001b[0m\u001b[0;34m[\u001b[0m\u001b[0mthres\u001b[0m\u001b[0;34m-\u001b[0m\u001b[0;36m1\u001b[0m\u001b[0;34m]\u001b[0m\u001b[0;34m\u001b[0m\u001b[0;34m\u001b[0m\u001b[0m\n\u001b[1;32m    137\u001b[0m \u001b[0;34m\u001b[0m\u001b[0m\n",
      "\u001b[0;31mStopIteration\u001b[0m: "
     ]
    }
   ],
   "source": [
    "new_lls, all_chunk,lls_score, tradeoff, true_thres = wrap_for_diff_score('Score', all_chunk)"
   ]
  },
  {
   "cell_type": "code",
   "execution_count": null,
   "metadata": {},
   "outputs": [],
   "source": [
    "lls_score.plot()\n",
    "new_lls.plot()"
   ]
  },
  {
   "cell_type": "code",
   "execution_count": null,
   "metadata": {},
   "outputs": [],
   "source": [
    "import matplotlib.pyplot as plt\n",
    "plt.plot(tradeoff['coverage'], tradeoff['PPV'], '-')\n",
    "plt.plot(tradeoff['coverage'], tradeoff['PPV'], '+')\n",
    "plt.xlabel('coverage')\n",
    "plt.ylabel('PPV')"
   ]
  },
  {
   "cell_type": "code",
   "execution_count": null,
   "metadata": {},
   "outputs": [],
   "source": [
    "tradeoff.to_csv('~/data0118/PPV_coverage/mentha_300_rm_plasmid')"
   ]
  },
  {
   "cell_type": "code",
   "execution_count": null,
   "metadata": {},
   "outputs": [],
   "source": [
    "output = '/home/hermuba/data0118/network1122/mentha_rm_plasmid_edgelist'\n",
    "map_lls_to_whole_data(net, new_lls, 'Score', true_thres, output, 'mentha')"
   ]
  },
  {
   "cell_type": "code",
   "execution_count": null,
   "metadata": {},
   "outputs": [],
   "source": []
  }
 ],
 "metadata": {
  "kernelspec": {
   "display_name": "Python 3",
   "language": "python",
   "name": "python3"
  },
  "language_info": {
   "codemirror_mode": {
    "name": "ipython",
    "version": 3
   },
   "file_extension": ".py",
   "mimetype": "text/x-python",
   "name": "python",
   "nbconvert_exporter": "python",
   "pygments_lexer": "ipython3",
   "version": "3.6.10"
  }
 },
 "nbformat": 4,
 "nbformat_minor": 4
}
