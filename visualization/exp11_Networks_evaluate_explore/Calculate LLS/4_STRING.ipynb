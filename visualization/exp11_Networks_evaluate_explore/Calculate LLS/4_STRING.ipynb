{
 "cells": [
  {
   "cell_type": "code",
   "execution_count": 2,
   "metadata": {},
   "outputs": [],
   "source": [
    "# import module written for processing our gene mapping to gene ID, filter with e-value, pident\n",
    "from network_analysis.map_string_to_ID import *\n",
    "\n",
    "# node_path referes to diamond blastp --in REPRESENTING GENE --db string.dmnd\n",
    "node_path = '/home/hermuba/data0118/map_to_exist_net/ec70_string'\n",
    "node = read_node_to_df(node_path)\n",
    "node.drop_duplicates(subset = ['sseqid'], inplace = True)\n",
    "node.set_index('sseqid', inplace = True)\n",
    "\n",
    "\n",
    "# select nodes with high bitscore with string 511145 proteins\n",
    "selected_nodes = filter_node(node)\n",
    "\n",
    "# read the edge\n",
    "edge_path = '/home/hermuba/data0118/map_to_exist_net/511145.protein.links.full.v11.0.txt'\n",
    "edge = pd.read_csv(edge_path, sep = ' ')\n",
    "\n",
    "\n",
    "# select edge with experiments != 0\n",
    "#edge = edge.loc[edge['experiments']>0]\n",
    "\n",
    "\n",
    "# filter edge with both representing genes\n",
    "output_path = '/home/hermuba/data0118/map_to_exist_net/string_rm_plasmid'\n",
    "selected_edge = map_string_to_repr(edge, selected_nodes, output_path)\n"
   ]
  },
  {
   "cell_type": "code",
   "execution_count": 3,
   "metadata": {},
   "outputs": [
    {
     "data": {
      "text/plain": [
       "(582078, 16)"
      ]
     },
     "execution_count": 3,
     "metadata": {},
     "output_type": "execute_result"
    }
   ],
   "source": [
    "selected_edge.shape"
   ]
  },
  {
   "cell_type": "code",
   "execution_count": 4,
   "metadata": {},
   "outputs": [],
   "source": [
    "from Genome.goldstandard_pair.lls import *\n",
    "gd = '/home/hermuba/data0118/goldstandard/tf_intersect_GO_rm_plasmidGO.smpl'\n",
    "net = '/home/hermuba/data0118/map_to_exist_net/string_rm_plasmid' #ID has problem"
   ]
  },
  {
   "cell_type": "code",
   "execution_count": 5,
   "metadata": {
    "scrolled": true
   },
   "outputs": [],
   "source": [
    "gold = read_gold(gd)\n",
    "all_chunks = read_net_by_chunk(net)\n",
    "all_chunk = merge_net_with_all_chunks(gold,all_chunks, 'string')"
   ]
  },
  {
   "cell_type": "code",
   "execution_count": 6,
   "metadata": {},
   "outputs": [
    {
     "data": {
      "text/plain": [
       "(4540, 17)"
      ]
     },
     "execution_count": 6,
     "metadata": {},
     "output_type": "execute_result"
    }
   ],
   "source": [
    "all_chunk.shape"
   ]
  },
  {
   "cell_type": "code",
   "execution_count": 7,
   "metadata": {},
   "outputs": [],
   "source": [
    "\n",
    "all_chunk.to_csv('~/data0118/joined_smpl/string_GO_smpl_rm_plasmid')"
   ]
  },
  {
   "cell_type": "code",
   "execution_count": 9,
   "metadata": {},
   "outputs": [
    {
     "data": {
      "text/plain": [
       "Text(0.5, 0, 'bins')"
      ]
     },
     "execution_count": 9,
     "metadata": {},
     "output_type": "execute_result"
    },
    {
     "data": {
      "image/png": "[encoded data removed]",
      "text/plain": [
       "<Figure size 432x288 with 1 Axes>"
      ]
     },
     "metadata": {
      "needs_background": "light"
     },
     "output_type": "display_data"
    }
   ],
   "source": [
    "lls_score = lls_for_other(all_chunk, 'combined_score', bins = 20)\n",
    "top_bins = 8\n",
    "subset = lls_score.copy()\n",
    "\n",
    "smallest_nonneg = subset[subset>0].min()\n",
    "subset.loc[subset<0] = smallest_nonneg\n",
    "y = subset.values\n",
    "x = np.array(range(len(y)))\n",
    "import numpy as np\n",
    "\n",
    "new = np.polyfit(x[-top_bins:], np.log(y[-top_bins:]), 1) #y = Ae*bx\n",
    "\n",
    "import matplotlib.pyplot as plt\n",
    "plt.plot(lls_score, '.')\n",
    "plt.plot(np.exp(new[1]) * np.exp(new[0]*np.array(x)))\n",
    "plt.text(0.5, 1, '{0:e} *exp({1:2f}  x)'.format(np.exp(new[1]), np.exp(new[0])))\n",
    "plt.ylabel('LLS')\n",
    "plt.xlabel('bins')"
   ]
  },
  {
   "cell_type": "code",
   "execution_count": 11,
   "metadata": {},
   "outputs": [],
   "source": [
    "def fitting_LLS_exp(all_chunk, bins = 250, lls_function = lls_for_other, score = 'mutual_info', top_bins = 175):\n",
    "\n",
    "    \n",
    "    lls_score = lls_function(all_chunk, score, bins = bins)\n",
    "\n",
    "    # new method, exponential\n",
    "    subset = lls_score.copy()\n",
    "\n",
    "    # exp can't have <=0 zero values\n",
    "    smallest_nonneg = subset[subset>0].min()\n",
    "    subset.loc[subset<0] = smallest_nonneg\n",
    "    y = subset.values\n",
    "    x = np.array(range(len(y)))\n",
    "\n",
    "    \n",
    "    \n",
    "    \n",
    "    expo_param = np.polyfit(x[-top_bins:], np.log(y[-top_bins:]), 1) #y = Ae*bx\n",
    "    fitted = np.exp(expo_param[1]) * np.exp(expo_param[0]*np.array(x))\n",
    "    \n",
    "    fitted_lls = pd.Series(fitted, index = lls_score.index)\n",
    "    return fitted_lls\n"
   ]
  },
  {
   "cell_type": "code",
   "execution_count": 16,
   "metadata": {},
   "outputs": [
    {
     "name": "stdout",
     "output_type": "stream",
     "text": [
      "at 0 chunk, we have 1740 edges with lls > 1\n"
     ]
    },
    {
     "name": "stderr",
     "output_type": "stream",
     "text": [
      "/home/hermuba/miniconda3/lib/python3.6/site-packages/pandas/core/frame.py:4133: SettingWithCopyWarning: \n",
      "A value is trying to be set on a copy of a slice from a DataFrame\n",
      "\n",
      "See the caveats in the documentation: https://pandas.pydata.org/pandas-docs/stable/user_guide/indexing.html#returning-a-view-versus-a-copy\n",
      "  errors=errors,\n"
     ]
    },
    {
     "name": "stdout",
     "output_type": "stream",
     "text": [
      "done with string\n"
     ]
    }
   ],
   "source": [
    "new_lls = fitting_LLS_exp(all_chunk, bins = 20, lls_function = lls_for_other, score = 'combined_score', top_bins = 8)\n",
    "net = '/home/hermuba/data0118/map_to_exist_net/string_rm_plasmid' \n",
    "output = '/home/hermuba/data0118/network1122/string_lls_rm_plasmid_edgelist'\n",
    "# map LLS_reg back to each \"whole\" network\n",
    "map_lls_to_whole_data(net, new_lls, 'combined_score', output, 'string', lls_thres = 1) # use mutual info\n"
   ]
  },
  {
   "cell_type": "code",
   "execution_count": null,
   "metadata": {},
   "outputs": [],
   "source": []
  }
 ],
 "metadata": {
  "kernelspec": {
   "display_name": "Python 3",
   "language": "python",
   "name": "python3"
  },
  "language_info": {
   "codemirror_mode": {
    "name": "ipython",
    "version": 3
   },
   "file_extension": ".py",
   "mimetype": "text/x-python",
   "name": "python",
   "nbconvert_exporter": "python",
   "pygments_lexer": "ipython3",
   "version": "3.6.10"
  }
 },
 "nbformat": 4,
 "nbformat_minor": 4
}
