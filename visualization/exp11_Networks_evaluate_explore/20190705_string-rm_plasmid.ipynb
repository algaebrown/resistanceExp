{
 "cells": [
  {
   "cell_type": "code",
   "execution_count": 1,
   "metadata": {},
   "outputs": [],
   "source": [
    "from Genome.goldstandard_pair.lls import *\n",
    "gd = '/home/hermuba/data0118/goldstandard/tf_intersect_GO_rm_plasmidGO.smpl'\n",
    "net = '/home/hermuba/data0118/map_to_exist_net/string_rm_plasmid' #ID has problem"
   ]
  },
  {
   "cell_type": "code",
   "execution_count": 2,
   "metadata": {
    "scrolled": true
   },
   "outputs": [
    {
     "name": "stderr",
     "output_type": "stream",
     "text": [
      "/home/hermuba/resistanceExp/Genome/goldstandard_pair/lls.py:26: FutureWarning: Sorting because non-concatenation axis is not aligned. A future version\n",
      "of pandas will change to not sort by default.\n",
      "\n",
      "To accept the future behavior, pass 'sort=False'.\n",
      "\n",
      "To retain the current behavior and silence the warning, pass 'sort=True'.\n",
      "\n",
      "  total = pd.concat([d1, d2])\n"
     ]
    }
   ],
   "source": [
    "gold = read_gold(gd)\n",
    "all_chunks = read_net_by_chunk(net)\n",
    "all_chunk = merge_net_with_all_chunks(gold,all_chunks)"
   ]
  },
  {
   "cell_type": "code",
   "execution_count": 3,
   "metadata": {},
   "outputs": [
    {
     "data": {
      "text/html": [
       "<div>\n",
       "<style scoped>\n",
       "    .dataframe tbody tr th:only-of-type {\n",
       "        vertical-align: middle;\n",
       "    }\n",
       "\n",
       "    .dataframe tbody tr th {\n",
       "        vertical-align: top;\n",
       "    }\n",
       "\n",
       "    .dataframe thead th {\n",
       "        text-align: right;\n",
       "    }\n",
       "</style>\n",
       "<table border=\"1\" class=\"dataframe\">\n",
       "  <thead>\n",
       "    <tr style=\"text-align: right;\">\n",
       "      <th></th>\n",
       "      <th>coexpression</th>\n",
       "      <th>coexpression_transferred</th>\n",
       "      <th>combined_score</th>\n",
       "      <th>cooccurence</th>\n",
       "      <th>database</th>\n",
       "      <th>database_transferred</th>\n",
       "      <th>experiments</th>\n",
       "      <th>experiments_transferred</th>\n",
       "      <th>fusion</th>\n",
       "      <th>gene_one</th>\n",
       "      <th>gene_two</th>\n",
       "      <th>goldstandard</th>\n",
       "      <th>homology</th>\n",
       "      <th>neighborhood</th>\n",
       "      <th>neighborhood_transferred</th>\n",
       "      <th>textmining</th>\n",
       "      <th>textmining_transferred</th>\n",
       "    </tr>\n",
       "  </thead>\n",
       "  <tbody>\n",
       "    <tr>\n",
       "      <th>0</th>\n",
       "      <td>0</td>\n",
       "      <td>57</td>\n",
       "      <td>351</td>\n",
       "      <td>298</td>\n",
       "      <td>0</td>\n",
       "      <td>0</td>\n",
       "      <td>0</td>\n",
       "      <td>99</td>\n",
       "      <td>0</td>\n",
       "      <td>562.22480.con.0007_141|562.22480</td>\n",
       "      <td>JMUY01000005_496|1438670.3</td>\n",
       "      <td>0</td>\n",
       "      <td>0</td>\n",
       "      <td>0</td>\n",
       "      <td>0</td>\n",
       "      <td>0</td>\n",
       "      <td>0</td>\n",
       "    </tr>\n",
       "    <tr>\n",
       "      <th>1</th>\n",
       "      <td>0</td>\n",
       "      <td>0</td>\n",
       "      <td>325</td>\n",
       "      <td>0</td>\n",
       "      <td>0</td>\n",
       "      <td>0</td>\n",
       "      <td>0</td>\n",
       "      <td>0</td>\n",
       "      <td>0</td>\n",
       "      <td>562.22480.con.0007_141|562.22480</td>\n",
       "      <td>JMUY01000008_114|1438670.3</td>\n",
       "      <td>0</td>\n",
       "      <td>0</td>\n",
       "      <td>0</td>\n",
       "      <td>326</td>\n",
       "      <td>0</td>\n",
       "      <td>0</td>\n",
       "    </tr>\n",
       "    <tr>\n",
       "      <th>2</th>\n",
       "      <td>114</td>\n",
       "      <td>0</td>\n",
       "      <td>283</td>\n",
       "      <td>158</td>\n",
       "      <td>0</td>\n",
       "      <td>0</td>\n",
       "      <td>0</td>\n",
       "      <td>0</td>\n",
       "      <td>0</td>\n",
       "      <td>562.22738.con.0013_68|562.22738</td>\n",
       "      <td>JMUY01000004_441|1438670.3</td>\n",
       "      <td>0</td>\n",
       "      <td>0</td>\n",
       "      <td>0</td>\n",
       "      <td>117</td>\n",
       "      <td>0</td>\n",
       "      <td>0</td>\n",
       "    </tr>\n",
       "    <tr>\n",
       "      <th>3</th>\n",
       "      <td>0</td>\n",
       "      <td>0</td>\n",
       "      <td>245</td>\n",
       "      <td>245</td>\n",
       "      <td>0</td>\n",
       "      <td>0</td>\n",
       "      <td>0</td>\n",
       "      <td>0</td>\n",
       "      <td>0</td>\n",
       "      <td>562.22972.con.0003_152|562.22972</td>\n",
       "      <td>JMUY01000001_164|1438670.3</td>\n",
       "      <td>0</td>\n",
       "      <td>0</td>\n",
       "      <td>0</td>\n",
       "      <td>0</td>\n",
       "      <td>0</td>\n",
       "      <td>0</td>\n",
       "    </tr>\n",
       "    <tr>\n",
       "      <th>4</th>\n",
       "      <td>0</td>\n",
       "      <td>0</td>\n",
       "      <td>900</td>\n",
       "      <td>0</td>\n",
       "      <td>900</td>\n",
       "      <td>0</td>\n",
       "      <td>0</td>\n",
       "      <td>0</td>\n",
       "      <td>0</td>\n",
       "      <td>562.23017.con.0030_6|562.23017</td>\n",
       "      <td>562.23767.con.0004_175|562.23767</td>\n",
       "      <td>1</td>\n",
       "      <td>0</td>\n",
       "      <td>0</td>\n",
       "      <td>0</td>\n",
       "      <td>0</td>\n",
       "      <td>0</td>\n",
       "    </tr>\n",
       "  </tbody>\n",
       "</table>\n",
       "</div>"
      ],
      "text/plain": [
       "   coexpression  coexpression_transferred  combined_score  cooccurence  \\\n",
       "0             0                        57             351          298   \n",
       "1             0                         0             325            0   \n",
       "2           114                         0             283          158   \n",
       "3             0                         0             245          245   \n",
       "4             0                         0             900            0   \n",
       "\n",
       "   database  database_transferred  experiments  experiments_transferred  \\\n",
       "0         0                     0            0                       99   \n",
       "1         0                     0            0                        0   \n",
       "2         0                     0            0                        0   \n",
       "3         0                     0            0                        0   \n",
       "4       900                     0            0                        0   \n",
       "\n",
       "   fusion                          gene_one                          gene_two  \\\n",
       "0       0  562.22480.con.0007_141|562.22480        JMUY01000005_496|1438670.3   \n",
       "1       0  562.22480.con.0007_141|562.22480        JMUY01000008_114|1438670.3   \n",
       "2       0   562.22738.con.0013_68|562.22738        JMUY01000004_441|1438670.3   \n",
       "3       0  562.22972.con.0003_152|562.22972        JMUY01000001_164|1438670.3   \n",
       "4       0    562.23017.con.0030_6|562.23017  562.23767.con.0004_175|562.23767   \n",
       "\n",
       "   goldstandard  homology  neighborhood  neighborhood_transferred  textmining  \\\n",
       "0             0         0             0                         0           0   \n",
       "1             0         0             0                       326           0   \n",
       "2             0         0             0                       117           0   \n",
       "3             0         0             0                         0           0   \n",
       "4             1         0             0                         0           0   \n",
       "\n",
       "   textmining_transferred  \n",
       "0                       0  \n",
       "1                       0  \n",
       "2                       0  \n",
       "3                       0  \n",
       "4                       0  "
      ]
     },
     "execution_count": 3,
     "metadata": {},
     "output_type": "execute_result"
    }
   ],
   "source": [
    "all_chunk.head()"
   ]
  },
  {
   "cell_type": "code",
   "execution_count": 4,
   "metadata": {},
   "outputs": [
    {
     "data": {
      "text/plain": [
       "(1190, 17)"
      ]
     },
     "execution_count": 4,
     "metadata": {},
     "output_type": "execute_result"
    }
   ],
   "source": [
    "all_chunk.shape"
   ]
  },
  {
   "cell_type": "code",
   "execution_count": 5,
   "metadata": {},
   "outputs": [],
   "source": [
    "all_chunk.to_csv('~/data0118/joined_smpl/string_GO_smpl_rm_plasmid')"
   ]
  },
  {
   "cell_type": "code",
   "execution_count": 6,
   "metadata": {},
   "outputs": [],
   "source": [
    "%matplotlib inline\n",
    "def wrap_for_diff_score(score, all_chunk):\n",
    "    lls_score = lls_for_other(all_chunk, score)\n",
    "    true_thres, slope, intercept = lls_regress_thres(lls_score)\n",
    "    new_lls = map_lls(lls_score, true_thres, slope, intercept)\n",
    "    all_chunk = map_score_to_lls(all_chunk, new_lls, score)\n",
    "    tradeoff = try_diff_lls_thres(all_chunk)\n",
    "    return(new_lls, all_chunk,lls_score, tradeoff, true_thres)"
   ]
  },
  {
   "cell_type": "code",
   "execution_count": 7,
   "metadata": {},
   "outputs": [],
   "source": [
    "new_lls, all_chunk,lls_score, tradeoff, true_thres = wrap_for_diff_score('combined_score', all_chunk)"
   ]
  },
  {
   "cell_type": "code",
   "execution_count": 8,
   "metadata": {},
   "outputs": [
    {
     "data": {
      "text/plain": [
       "<matplotlib.axes._subplots.AxesSubplot at 0x7fd91762a198>"
      ]
     },
     "execution_count": 8,
     "metadata": {},
     "output_type": "execute_result"
    },
    {
     "data": {
      "image/png": "[encoded data removed]",
      "text/plain": [
       "<Figure size 432x288 with 1 Axes>"
      ]
     },
     "metadata": {
      "needs_background": "light"
     },
     "output_type": "display_data"
    }
   ],
   "source": [
    "lls_score.plot()\n",
    "new_lls.plot()"
   ]
  },
  {
   "cell_type": "code",
   "execution_count": 9,
   "metadata": {},
   "outputs": [
    {
     "data": {
      "text/plain": [
       "Text(0, 0.5, 'PPV')"
      ]
     },
     "execution_count": 9,
     "metadata": {},
     "output_type": "execute_result"
    },
    {
     "data": {
      "image/png": "[encoded data removed]",
      "text/plain": [
       "<Figure size 432x288 with 1 Axes>"
      ]
     },
     "metadata": {
      "needs_background": "light"
     },
     "output_type": "display_data"
    }
   ],
   "source": [
    "import matplotlib.pyplot as plt\n",
    "plt.plot(tradeoff['coverage'], tradeoff['PPV'], '-')\n",
    "plt.plot(tradeoff['coverage'], tradeoff['PPV'], '+')\n",
    "plt.xlabel('coverage')\n",
    "plt.ylabel('PPV')"
   ]
  },
  {
   "cell_type": "code",
   "execution_count": 10,
   "metadata": {},
   "outputs": [],
   "source": [
    "tradeoff.to_csv('~/data0118/PPV_coverage/string_300_rm_plasmid')"
   ]
  },
  {
   "cell_type": "code",
   "execution_count": 12,
   "metadata": {},
   "outputs": [
    {
     "name": "stderr",
     "output_type": "stream",
     "text": [
      "/home/hermuba/resistanceExp/Genome/goldstandard_pair/lls.py:152: SettingWithCopyWarning: \n",
      "A value is trying to be set on a copy of a slice from a DataFrame.\n",
      "Try using .loc[row_indexer,col_indexer] = value instead\n",
      "\n",
      "See the caveats in the documentation: http://pandas.pydata.org/pandas-docs/stable/indexing.html#indexing-view-versus-copy\n",
      "  all_df['lls'] = all_df[score].map(new_lls)\n",
      "/home/hermuba/miniconda3/lib/python3.6/site-packages/pandas/core/frame.py:4034: SettingWithCopyWarning: \n",
      "A value is trying to be set on a copy of a slice from a DataFrame\n",
      "\n",
      "See the caveats in the documentation: http://pandas.pydata.org/pandas-docs/stable/indexing.html#indexing-view-versus-copy\n",
      "  downcast=downcast, **kwargs)\n"
     ]
    },
    {
     "name": "stdout",
     "output_type": "stream",
     "text": [
      "(59900, 17)\n",
      "11.945448875778641\n",
      "(59900, 17)\n",
      "(57887, 17)\n",
      "11.945448875778641\n",
      "(57887, 17)\n",
      "(59898, 17)\n",
      "11.945448875778641\n",
      "(59898, 17)\n",
      "(58034, 17)\n",
      "11.945448875778641\n",
      "(58034, 17)\n",
      "(57462, 17)\n",
      "11.945448875778641\n",
      "(57462, 17)\n",
      "(59491, 17)\n",
      "11.945448875778641\n",
      "(59491, 17)\n",
      "(59633, 17)\n",
      "11.945448875778641\n",
      "(59633, 17)\n",
      "(62867, 17)\n",
      "11.945448875778641\n",
      "(62867, 17)\n",
      "(58952, 17)\n",
      "11.945448875778641\n",
      "(58952, 17)\n",
      "(60771, 17)\n",
      "11.945448875778641\n",
      "(60771, 17)\n",
      "(29757, 17)\n",
      "11.945448875778641\n",
      "(29757, 17)\n",
      "done with string\n"
     ]
    }
   ],
   "source": [
    "output = '/home/hermuba/data0118/network1122/string_rm_plasmid_edgelist'\n",
    "map_lls_to_whole_data(net, new_lls, 'combined_score', true_thres, output, 'string')"
   ]
  },
  {
   "cell_type": "code",
   "execution_count": null,
   "metadata": {},
   "outputs": [],
   "source": []
  }
 ],
 "metadata": {
  "kernelspec": {
   "display_name": "Python 3",
   "language": "python",
   "name": "python3"
  },
  "language_info": {
   "codemirror_mode": {
    "name": "ipython",
    "version": 3
   },
   "file_extension": ".py",
   "mimetype": "text/x-python",
   "name": "python",
   "nbconvert_exporter": "python",
   "pygments_lexer": "ipython3",
   "version": "3.6.7"
  }
 },
 "nbformat": 4,
 "nbformat_minor": 2
}
