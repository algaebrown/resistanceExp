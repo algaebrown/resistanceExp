{
 "cells": [
  {
   "cell_type": "markdown",
   "metadata": {},
   "source": [
    "Author: Hsuan-lin Her\n",
    "Created: 12-06-2018\n",
    "Last Modified: 12-06-2018\n",
    "\n",
    "Purpose: To calculate \n",
    "- Sequence identity within clusters in network\n",
    "- Domain identity (pfam) within clusters\n",
    "- nr annotation consistency\n",
    "- CARD consistency\n",
    "- COG consistency\n",
    "\n",
    "Input: networks (LLS > threshold) file at ~/data0118/network1122\n",
    "\n",
    "Annotations:\n",
    "- pfam: ~/data0118/cdhit/pfam/df/Escherichia0.70\n",
    "- nr: ~/data0118/network1122/ecoli70_simple.xlsx"
   ]
  },
  {
   "cell_type": "code",
   "execution_count": 1,
   "metadata": {},
   "outputs": [],
   "source": [
    "# identify clusters\n",
    "import pandas as pd\n",
    "import networkx as nx\n",
    "import matplotlib.pyplot as plt\n"
   ]
  },
  {
   "cell_type": "code",
   "execution_count": 2,
   "metadata": {},
   "outputs": [],
   "source": [
    "# load from edge list\n",
    "path = '/home/hermuba/data0118/network1122/'\n",
    "def edge_list(fname):\n",
    "    \n",
    "    file = path + fname\n",
    "    edge = pd.read_csv(file)\n",
    "    edge[['gene_one', 'gene_two', 'goldstandard']].to_csv(path + fname + '_edgelist', index = False, header = False, na_rep = 'nan')\n",
    "def to_net(fname):\n",
    "    # generate edge_list\n",
    "    edge_list(fname)\n",
    "    \n",
    "    net = nx.read_edgelist(path + fname + '_edgelist', delimiter = ',', nodetype = str, data=(('goldstandard',str),))\n",
    "    return(net)\n"
   ]
  },
  {
   "cell_type": "code",
   "execution_count": 3,
   "metadata": {},
   "outputs": [],
   "source": [
    "file_e = 'refseq_mu_high_75.csv'\n",
    "net = to_net(file_e)"
   ]
  },
  {
   "cell_type": "code",
   "execution_count": 4,
   "metadata": {},
   "outputs": [
    {
     "data": {
      "text/plain": [
       "13234"
      ]
     },
     "execution_count": 4,
     "metadata": {},
     "output_type": "execute_result"
    }
   ],
   "source": [
    "# playing with the net\n",
    "net.number_of_nodes()"
   ]
  },
  {
   "cell_type": "code",
   "execution_count": 5,
   "metadata": {},
   "outputs": [
    {
     "data": {
      "text/plain": [
       "113811"
      ]
     },
     "execution_count": 5,
     "metadata": {},
     "output_type": "execute_result"
    }
   ],
   "source": [
    "net.number_of_edges()"
   ]
  },
  {
   "cell_type": "code",
   "execution_count": 6,
   "metadata": {},
   "outputs": [],
   "source": [
    "# nodes adjacent to node '562.23416.con.0004_267|562.23416'\n",
    "#for i in net.neighbors('562.23416.con.0004_267|562.23416'):\n",
    "#    print(i)"
   ]
  },
  {
   "cell_type": "code",
   "execution_count": 7,
   "metadata": {},
   "outputs": [
    {
     "data": {
      "text/plain": [
       "{'562.22741.con.0052_21|562.22741', '562.23635.con.0049_2|562.23635'}"
      ]
     },
     "execution_count": 7,
     "metadata": {},
     "output_type": "execute_result"
    }
   ],
   "source": [
    "# analyzing them: connected components = all connected nodes in one component\n",
    "clus = nx.connected_components(net)\n",
    "# save to list\n",
    "subcluster_list = list(clus)\n",
    "# to show 1 subcluster\n",
    "subcluster_list[7]"
   ]
  },
  {
   "cell_type": "code",
   "execution_count": 8,
   "metadata": {},
   "outputs": [
    {
     "data": {
      "text/html": [
       "<div>\n",
       "<style scoped>\n",
       "    .dataframe tbody tr th:only-of-type {\n",
       "        vertical-align: middle;\n",
       "    }\n",
       "\n",
       "    .dataframe tbody tr th {\n",
       "        vertical-align: top;\n",
       "    }\n",
       "\n",
       "    .dataframe thead th {\n",
       "        text-align: right;\n",
       "    }\n",
       "</style>\n",
       "<table border=\"1\" class=\"dataframe\">\n",
       "  <thead>\n",
       "    <tr style=\"text-align: right;\">\n",
       "      <th></th>\n",
       "      <th>seq id</th>\n",
       "      <th>alignment start</th>\n",
       "      <th>alignment end</th>\n",
       "      <th>envelope start</th>\n",
       "      <th>envelope end</th>\n",
       "      <th>hmm acc</th>\n",
       "      <th>hmm name</th>\n",
       "      <th>type</th>\n",
       "      <th>hmm start</th>\n",
       "      <th>hmm end</th>\n",
       "      <th>hmm length</th>\n",
       "      <th>bit score</th>\n",
       "      <th>E-value</th>\n",
       "      <th>significance</th>\n",
       "      <th>clan</th>\n",
       "    </tr>\n",
       "  </thead>\n",
       "  <tbody>\n",
       "    <tr>\n",
       "      <th>0</th>\n",
       "      <td>JMUY01000001_3|1438670.3</td>\n",
       "      <td>39</td>\n",
       "      <td>177</td>\n",
       "      <td>39</td>\n",
       "      <td>177</td>\n",
       "      <td>PF02413.16</td>\n",
       "      <td>Caudo_TAP</td>\n",
       "      <td>Family</td>\n",
       "      <td>1</td>\n",
       "      <td>130</td>\n",
       "      <td>130</td>\n",
       "      <td>127.3</td>\n",
       "      <td>4.000000e-37</td>\n",
       "      <td>1</td>\n",
       "      <td>CL0348</td>\n",
       "    </tr>\n",
       "    <tr>\n",
       "      <th>1</th>\n",
       "      <td>JMUY01000001_5|1438670.3</td>\n",
       "      <td>6</td>\n",
       "      <td>153</td>\n",
       "      <td>4</td>\n",
       "      <td>154</td>\n",
       "      <td>PF12571.7</td>\n",
       "      <td>DUF3751</td>\n",
       "      <td>Family</td>\n",
       "      <td>3</td>\n",
       "      <td>149</td>\n",
       "      <td>150</td>\n",
       "      <td>179.2</td>\n",
       "      <td>4.600000e-53</td>\n",
       "      <td>1</td>\n",
       "      <td>No_clan</td>\n",
       "    </tr>\n",
       "    <tr>\n",
       "      <th>2</th>\n",
       "      <td>JMUY01000001_5|1438670.3</td>\n",
       "      <td>173</td>\n",
       "      <td>213</td>\n",
       "      <td>173</td>\n",
       "      <td>214</td>\n",
       "      <td>PF03406.12</td>\n",
       "      <td>Phage_fiber_2</td>\n",
       "      <td>Repeat</td>\n",
       "      <td>1</td>\n",
       "      <td>41</td>\n",
       "      <td>42</td>\n",
       "      <td>69.6</td>\n",
       "      <td>1.100000e-19</td>\n",
       "      <td>1</td>\n",
       "      <td>No_clan</td>\n",
       "    </tr>\n",
       "    <tr>\n",
       "      <th>3</th>\n",
       "      <td>JMUY01000001_5|1438670.3</td>\n",
       "      <td>217</td>\n",
       "      <td>257</td>\n",
       "      <td>217</td>\n",
       "      <td>258</td>\n",
       "      <td>PF03406.12</td>\n",
       "      <td>Phage_fiber_2</td>\n",
       "      <td>Repeat</td>\n",
       "      <td>1</td>\n",
       "      <td>41</td>\n",
       "      <td>42</td>\n",
       "      <td>70.4</td>\n",
       "      <td>6.200000e-20</td>\n",
       "      <td>1</td>\n",
       "      <td>No_clan</td>\n",
       "    </tr>\n",
       "    <tr>\n",
       "      <th>4</th>\n",
       "      <td>JMUY01000001_5|1438670.3</td>\n",
       "      <td>261</td>\n",
       "      <td>300</td>\n",
       "      <td>261</td>\n",
       "      <td>302</td>\n",
       "      <td>PF03406.12</td>\n",
       "      <td>Phage_fiber_2</td>\n",
       "      <td>Repeat</td>\n",
       "      <td>1</td>\n",
       "      <td>40</td>\n",
       "      <td>42</td>\n",
       "      <td>63.2</td>\n",
       "      <td>1.100000e-17</td>\n",
       "      <td>1</td>\n",
       "      <td>No_clan</td>\n",
       "    </tr>\n",
       "  </tbody>\n",
       "</table>\n",
       "</div>"
      ],
      "text/plain": [
       "                     seq id  alignment start  alignment end  envelope start  \\\n",
       "0  JMUY01000001_3|1438670.3               39            177              39   \n",
       "1  JMUY01000001_5|1438670.3                6            153               4   \n",
       "2  JMUY01000001_5|1438670.3              173            213             173   \n",
       "3  JMUY01000001_5|1438670.3              217            257             217   \n",
       "4  JMUY01000001_5|1438670.3              261            300             261   \n",
       "\n",
       "   envelope end     hmm acc       hmm name    type  hmm start  hmm end  \\\n",
       "0           177  PF02413.16      Caudo_TAP  Family          1      130   \n",
       "1           154   PF12571.7        DUF3751  Family          3      149   \n",
       "2           214  PF03406.12  Phage_fiber_2  Repeat          1       41   \n",
       "3           258  PF03406.12  Phage_fiber_2  Repeat          1       41   \n",
       "4           302  PF03406.12  Phage_fiber_2  Repeat          1       40   \n",
       "\n",
       "   hmm length  bit score       E-value  significance     clan  \n",
       "0         130      127.3  4.000000e-37             1   CL0348  \n",
       "1         150      179.2  4.600000e-53             1  No_clan  \n",
       "2          42       69.6  1.100000e-19             1  No_clan  \n",
       "3          42       70.4  6.200000e-20             1  No_clan  \n",
       "4          42       63.2  1.100000e-17             1  No_clan  "
      ]
     },
     "execution_count": 8,
     "metadata": {},
     "output_type": "execute_result"
    }
   ],
   "source": [
    "# inputting pfam information\n",
    "pfam_df = pd.read_pickle('/home/hermuba/data0118/cdhit/pfam/df/Escherichia0.70')\n",
    "pfam_df.head()"
   ]
  },
  {
   "cell_type": "code",
   "execution_count": 9,
   "metadata": {},
   "outputs": [
    {
     "data": {
      "text/plain": [
       "(24386, 15)"
      ]
     },
     "execution_count": 9,
     "metadata": {},
     "output_type": "execute_result"
    }
   ],
   "source": [
    "pfam_df.shape"
   ]
  },
  {
   "cell_type": "code",
   "execution_count": 10,
   "metadata": {},
   "outputs": [],
   "source": [
    "# each protein may have more than one pfam result, representing multiple domain protein. We aggregate it with ','\n",
    "domain_list = pfam_df.groupby(by = 'seq id')['hmm name'].agg(','.join)"
   ]
  },
  {
   "cell_type": "code",
   "execution_count": 11,
   "metadata": {},
   "outputs": [],
   "source": [
    "def global_domain_similarity(subgraph):\n",
    "    all_exist_dm = set()\n",
    "    intersect_dm = set()\n",
    "    no_pfam = []\n",
    "    for node in subgraph:\n",
    "        if node in domain_list.index:\n",
    "            node_domain = set(domain_list[node].split(','))\n",
    "            all_exist_dm = all_exist_dm.union(node_domain)\n",
    "            intersect_dm = intersect_dm.intersection(node_domain)\n",
    "        else: \n",
    "            no_pfam.append(node)\n",
    "    return(len(all_exist_dm), len(intersect_dm), len(no_pfam), len(subgraph))\n",
    "        "
   ]
  },
  {
   "cell_type": "code",
   "execution_count": 12,
   "metadata": {},
   "outputs": [],
   "source": [
    "# clus_char returns No. of all domains in one cluster; common_domains in one cluster; number of nodes without pfam information; the size of the cluster (how many nodes)\n",
    "clus_char = pd.DataFrame(columns = ['all_domain', 'common_domain', 'no_pfam', 'cluster_size'])\n",
    "i = 0\n",
    "for s in subcluster_list:\n",
    "    all_dm, common_df, no_pfam, clus_size = global_domain_similarity(s)\n",
    "    clus_char.loc[i]= [all_dm, common_df, no_pfam, clus_size]\n",
    "    i += 1"
   ]
  },
  {
   "cell_type": "code",
   "execution_count": 13,
   "metadata": {},
   "outputs": [
    {
     "data": {
      "text/html": [
       "<div>\n",
       "<style scoped>\n",
       "    .dataframe tbody tr th:only-of-type {\n",
       "        vertical-align: middle;\n",
       "    }\n",
       "\n",
       "    .dataframe tbody tr th {\n",
       "        vertical-align: top;\n",
       "    }\n",
       "\n",
       "    .dataframe thead th {\n",
       "        text-align: right;\n",
       "    }\n",
       "</style>\n",
       "<table border=\"1\" class=\"dataframe\">\n",
       "  <thead>\n",
       "    <tr style=\"text-align: right;\">\n",
       "      <th></th>\n",
       "      <th>all_domain</th>\n",
       "      <th>common_domain</th>\n",
       "      <th>no_pfam</th>\n",
       "      <th>cluster_size</th>\n",
       "    </tr>\n",
       "  </thead>\n",
       "  <tbody>\n",
       "    <tr>\n",
       "      <th>0</th>\n",
       "      <td>12</td>\n",
       "      <td>0</td>\n",
       "      <td>31</td>\n",
       "      <td>84</td>\n",
       "    </tr>\n",
       "    <tr>\n",
       "      <th>1</th>\n",
       "      <td>8</td>\n",
       "      <td>0</td>\n",
       "      <td>68</td>\n",
       "      <td>90</td>\n",
       "    </tr>\n",
       "    <tr>\n",
       "      <th>2</th>\n",
       "      <td>9</td>\n",
       "      <td>0</td>\n",
       "      <td>59</td>\n",
       "      <td>68</td>\n",
       "    </tr>\n",
       "    <tr>\n",
       "      <th>3</th>\n",
       "      <td>2</td>\n",
       "      <td>0</td>\n",
       "      <td>8</td>\n",
       "      <td>93</td>\n",
       "    </tr>\n",
       "    <tr>\n",
       "      <th>4</th>\n",
       "      <td>0</td>\n",
       "      <td>0</td>\n",
       "      <td>4</td>\n",
       "      <td>4</td>\n",
       "    </tr>\n",
       "  </tbody>\n",
       "</table>\n",
       "</div>"
      ],
      "text/plain": [
       "  all_domain common_domain no_pfam cluster_size\n",
       "0         12             0      31           84\n",
       "1          8             0      68           90\n",
       "2          9             0      59           68\n",
       "3          2             0       8           93\n",
       "4          0             0       4            4"
      ]
     },
     "execution_count": 13,
     "metadata": {},
     "output_type": "execute_result"
    }
   ],
   "source": [
    "clus_char.head()"
   ]
  },
  {
   "cell_type": "code",
   "execution_count": 14,
   "metadata": {},
   "outputs": [
    {
     "data": {
      "text/plain": [
       "(2820, 4)"
      ]
     },
     "execution_count": 14,
     "metadata": {},
     "output_type": "execute_result"
    }
   ],
   "source": [
    "# how many clusters in that network\n",
    "clus_char.shape"
   ]
  },
  {
   "cell_type": "code",
   "execution_count": 15,
   "metadata": {},
   "outputs": [
    {
     "data": {
      "text/plain": [
       "1374"
      ]
     },
     "execution_count": 15,
     "metadata": {},
     "output_type": "execute_result"
    }
   ],
   "source": [
    "# largest cluster\n",
    "clus_char['cluster_size'].max()"
   ]
  },
  {
   "cell_type": "code",
   "execution_count": 16,
   "metadata": {},
   "outputs": [
    {
     "data": {
      "text/plain": [
       "<matplotlib.axes._subplots.AxesSubplot at 0x7ffab7642668>"
      ]
     },
     "execution_count": 16,
     "metadata": {},
     "output_type": "execute_result"
    },
    {
     "data": {
      "image/png": "[encoded data removed]",
      "text/plain": [
       "<Figure size 432x288 with 1 Axes>"
      ]
     },
     "metadata": {
      "needs_background": "light"
     },
     "output_type": "display_data"
    }
   ],
   "source": [
    "# distribution of cluster size\n",
    "clus_char['cluster_size'].plot(kind = 'hist')"
   ]
  },
  {
   "cell_type": "code",
   "execution_count": 17,
   "metadata": {},
   "outputs": [
    {
     "data": {
      "text/plain": [
       "<matplotlib.collections.PathCollection at 0x7ffab72948d0>"
      ]
     },
     "execution_count": 17,
     "metadata": {},
     "output_type": "execute_result"
    },
    {
     "data": {
      "image/png": "[encoded data removed]",
      "text/plain": [
       "<Figure size 432x288 with 1 Axes>"
      ]
     },
     "metadata": {
      "needs_background": "light"
     },
     "output_type": "display_data"
    }
   ],
   "source": [
    "plt.scatter(clus_char['cluster_size'], clus_char['all_domain'])"
   ]
  },
  {
   "cell_type": "code",
   "execution_count": 18,
   "metadata": {},
   "outputs": [
    {
     "data": {
      "text/plain": [
       "<matplotlib.collections.PathCollection at 0x7ffab72059b0>"
      ]
     },
     "execution_count": 18,
     "metadata": {},
     "output_type": "execute_result"
    },
    {
     "data": {
      "image/png": "[encoded data removed]",
      "text/plain": [
       "<Figure size 432x288 with 1 Axes>"
      ]
     },
     "metadata": {
      "needs_background": "light"
     },
     "output_type": "display_data"
    }
   ],
   "source": [
    "plt.scatter(clus_char['cluster_size'], clus_char['common_domain'])\n",
    "# no cluster with all the same domain components"
   ]
  },
  {
   "cell_type": "code",
   "execution_count": 19,
   "metadata": {},
   "outputs": [],
   "source": [
    "# local domain cosistency\n",
    "def edges(fname):\n",
    "    path = '/home/hermuba/data0118/network1122/'    \n",
    "    file = path + fname\n",
    "    edge = pd.read_csv(file)\n",
    "    return(edge)\n",
    "e = edges(file_e)"
   ]
  },
  {
   "cell_type": "code",
   "execution_count": 20,
   "metadata": {},
   "outputs": [
    {
     "data": {
      "text/plain": [
       "(113811, 5)"
      ]
     },
     "execution_count": 20,
     "metadata": {},
     "output_type": "execute_result"
    }
   ],
   "source": [
    "e.shape"
   ]
  },
  {
   "cell_type": "code",
   "execution_count": 21,
   "metadata": {},
   "outputs": [
    {
     "data": {
      "text/html": [
       "<div>\n",
       "<style scoped>\n",
       "    .dataframe tbody tr th:only-of-type {\n",
       "        vertical-align: middle;\n",
       "    }\n",
       "\n",
       "    .dataframe tbody tr th {\n",
       "        vertical-align: top;\n",
       "    }\n",
       "\n",
       "    .dataframe thead th {\n",
       "        text-align: right;\n",
       "    }\n",
       "</style>\n",
       "<table border=\"1\" class=\"dataframe\">\n",
       "  <thead>\n",
       "    <tr style=\"text-align: right;\">\n",
       "      <th></th>\n",
       "      <th>mutual_info</th>\n",
       "      <th>nrm_mutual</th>\n",
       "      <th>gene_one</th>\n",
       "      <th>gene_two</th>\n",
       "      <th>goldstandard</th>\n",
       "    </tr>\n",
       "  </thead>\n",
       "  <tbody>\n",
       "    <tr>\n",
       "      <th>0</th>\n",
       "      <td>0.419584</td>\n",
       "      <td>0.787639</td>\n",
       "      <td>562.23304.con.0006_192|562.23304</td>\n",
       "      <td>562.22658.con.0002_220|562.22658</td>\n",
       "      <td>NaN</td>\n",
       "    </tr>\n",
       "    <tr>\n",
       "      <th>1</th>\n",
       "      <td>0.391253</td>\n",
       "      <td>0.773301</td>\n",
       "      <td>562.23304.con.0006_192|562.23304</td>\n",
       "      <td>562.22909.con.0002_319|562.22909</td>\n",
       "      <td>NaN</td>\n",
       "    </tr>\n",
       "    <tr>\n",
       "      <th>2</th>\n",
       "      <td>0.074130</td>\n",
       "      <td>0.919936</td>\n",
       "      <td>562.22859.con.0026_36|562.22859</td>\n",
       "      <td>562.22697.con.0023_36|562.22697</td>\n",
       "      <td>NaN</td>\n",
       "    </tr>\n",
       "    <tr>\n",
       "      <th>3</th>\n",
       "      <td>0.409849</td>\n",
       "      <td>0.815928</td>\n",
       "      <td>562.23304.con.0006_192|562.23304</td>\n",
       "      <td>562.23416.con.0004_246|562.23416</td>\n",
       "      <td>NaN</td>\n",
       "    </tr>\n",
       "    <tr>\n",
       "      <th>4</th>\n",
       "      <td>0.077508</td>\n",
       "      <td>0.871718</td>\n",
       "      <td>562.22859.con.0026_36|562.22859</td>\n",
       "      <td>562.22859.con.0026_30|562.22859</td>\n",
       "      <td>NaN</td>\n",
       "    </tr>\n",
       "  </tbody>\n",
       "</table>\n",
       "</div>"
      ],
      "text/plain": [
       "   mutual_info  nrm_mutual                          gene_one  \\\n",
       "0     0.419584    0.787639  562.23304.con.0006_192|562.23304   \n",
       "1     0.391253    0.773301  562.23304.con.0006_192|562.23304   \n",
       "2     0.074130    0.919936   562.22859.con.0026_36|562.22859   \n",
       "3     0.409849    0.815928  562.23304.con.0006_192|562.23304   \n",
       "4     0.077508    0.871718   562.22859.con.0026_36|562.22859   \n",
       "\n",
       "                           gene_two goldstandard  \n",
       "0  562.22658.con.0002_220|562.22658          NaN  \n",
       "1  562.22909.con.0002_319|562.22909          NaN  \n",
       "2   562.22697.con.0023_36|562.22697          NaN  \n",
       "3  562.23416.con.0004_246|562.23416          NaN  \n",
       "4   562.22859.con.0026_30|562.22859          NaN  "
      ]
     },
     "execution_count": 21,
     "metadata": {},
     "output_type": "execute_result"
    }
   ],
   "source": [
    "e.head()"
   ]
  },
  {
   "cell_type": "code",
   "execution_count": 22,
   "metadata": {},
   "outputs": [],
   "source": [
    "def local_domain_similarity(p1, p2):\n",
    "    if p1 in domain_list.index and p2 in domain_list:\n",
    "        \n",
    "        pd1 = set(domain_list[p1].split(','))\n",
    "        pd2 = set(domain_list[p2].split(','))\n",
    "        \n",
    "        return(len(pd1.intersection(pd2)), len(pd1.union(pd2)))\n",
    "    else: \n",
    "        return('nan', 'nan')"
   ]
  },
  {
   "cell_type": "code",
   "execution_count": 23,
   "metadata": {},
   "outputs": [
    {
     "name": "stdout",
     "output_type": "stream",
     "text": [
      "Ead_Ea22 Ead_Ea22 (1, 1)\n"
     ]
    }
   ],
   "source": [
    "# testing\n",
    "print(domain_list['562.23260.con.0008_59|562.23260'],domain_list['562.23583.con.0046_4|562.23583'],local_domain_similarity('562.23260.con.0008_59|562.23260', '562.23583.con.0046_4|562.23583'))"
   ]
  },
  {
   "cell_type": "code",
   "execution_count": 24,
   "metadata": {},
   "outputs": [
    {
     "data": {
      "text/plain": [
       "('nan', 'nan')"
      ]
     },
     "execution_count": 24,
     "metadata": {},
     "output_type": "execute_result"
    }
   ],
   "source": [
    "local_domain_similarity('562.23304.con.0006_192|562.23304', '562.22658.con.0002_220|562.22658')"
   ]
  },
  {
   "cell_type": "code",
   "execution_count": 25,
   "metadata": {},
   "outputs": [],
   "source": [
    "e['all_domain'] = ''\n",
    "e['common_domain'] = ''\n",
    "\n",
    "for index, row in e.iterrows():\n",
    "    common, all_domain = local_domain_similarity(row['gene_one'], row['gene_two'])\n",
    "    if all_domain != 'nan':\n",
    "        e.loc[index, ['all_domain', 'common_domain']] = [all_domain, common]"
   ]
  },
  {
   "cell_type": "code",
   "execution_count": 26,
   "metadata": {},
   "outputs": [],
   "source": [
    "not_empty_e = e.loc[e['all_domain'] != '']"
   ]
  },
  {
   "cell_type": "code",
   "execution_count": 27,
   "metadata": {},
   "outputs": [],
   "source": [
    "percent_shared = not_empty_e['common_domain']/not_empty_e['all_domain']"
   ]
  },
  {
   "cell_type": "code",
   "execution_count": 28,
   "metadata": {},
   "outputs": [
    {
     "data": {
      "text/plain": [
       "<matplotlib.axes._subplots.AxesSubplot at 0x7ffab7233438>"
      ]
     },
     "execution_count": 28,
     "metadata": {},
     "output_type": "execute_result"
    },
    {
     "data": {
      "image/png": "[encoded data removed]",
      "text/plain": [
       "<Figure size 432x288 with 1 Axes>"
      ]
     },
     "metadata": {
      "needs_background": "light"
     },
     "output_type": "display_data"
    }
   ],
   "source": [
    "percent_shared.plot(kind = 'hist') # most do not share domains ya-ay"
   ]
  },
  {
   "cell_type": "code",
   "execution_count": 29,
   "metadata": {},
   "outputs": [
    {
     "data": {
      "text/plain": [
       "<matplotlib.collections.PathCollection at 0x7ffab75cad30>"
      ]
     },
     "execution_count": 29,
     "metadata": {},
     "output_type": "execute_result"
    },
    {
     "data": {
      "image/png": "[encoded data removed]",
      "text/plain": [
       "<Figure size 432x288 with 1 Axes>"
      ]
     },
     "metadata": {
      "needs_background": "light"
     },
     "output_type": "display_data"
    }
   ],
   "source": [
    "plt.scatter(not_empty_e['nrm_mutual'], percent_shared) # the level of mutual information is independent to domain sharing"
   ]
  },
  {
   "cell_type": "code",
   "execution_count": 30,
   "metadata": {},
   "outputs": [
    {
     "data": {
      "text/html": [
       "<div>\n",
       "<style scoped>\n",
       "    .dataframe tbody tr th:only-of-type {\n",
       "        vertical-align: middle;\n",
       "    }\n",
       "\n",
       "    .dataframe tbody tr th {\n",
       "        vertical-align: top;\n",
       "    }\n",
       "\n",
       "    .dataframe thead th {\n",
       "        text-align: right;\n",
       "    }\n",
       "</style>\n",
       "<table border=\"1\" class=\"dataframe\">\n",
       "  <thead>\n",
       "    <tr style=\"text-align: right;\">\n",
       "      <th></th>\n",
       "      <th>qseqid</th>\n",
       "      <th>sseqid</th>\n",
       "      <th>pident</th>\n",
       "      <th>length</th>\n",
       "      <th>mismatch</th>\n",
       "      <th>gapopen</th>\n",
       "      <th>qstart</th>\n",
       "      <th>qend</th>\n",
       "      <th>sstart</th>\n",
       "      <th>send</th>\n",
       "      <th>evalue</th>\n",
       "      <th>bitscore</th>\n",
       "    </tr>\n",
       "  </thead>\n",
       "  <tbody>\n",
       "    <tr>\n",
       "      <th>0</th>\n",
       "      <td>JMUY01000001_1|1438670.3</td>\n",
       "      <td>JMUY01000001_1|1438670.3</td>\n",
       "      <td>100.0</td>\n",
       "      <td>43</td>\n",
       "      <td>0</td>\n",
       "      <td>0</td>\n",
       "      <td>1</td>\n",
       "      <td>43</td>\n",
       "      <td>1</td>\n",
       "      <td>43</td>\n",
       "      <td>3.200000e-17</td>\n",
       "      <td>83.2</td>\n",
       "    </tr>\n",
       "    <tr>\n",
       "      <th>1</th>\n",
       "      <td>JMUY01000001_3|1438670.3</td>\n",
       "      <td>JMUY01000001_3|1438670.3</td>\n",
       "      <td>100.0</td>\n",
       "      <td>178</td>\n",
       "      <td>0</td>\n",
       "      <td>0</td>\n",
       "      <td>1</td>\n",
       "      <td>178</td>\n",
       "      <td>1</td>\n",
       "      <td>178</td>\n",
       "      <td>2.100000e-99</td>\n",
       "      <td>358.2</td>\n",
       "    </tr>\n",
       "    <tr>\n",
       "      <th>2</th>\n",
       "      <td>JMUY01000001_3|1438670.3</td>\n",
       "      <td>JMUY01000001_572|1438670.3</td>\n",
       "      <td>69.7</td>\n",
       "      <td>178</td>\n",
       "      <td>54</td>\n",
       "      <td>0</td>\n",
       "      <td>1</td>\n",
       "      <td>178</td>\n",
       "      <td>1</td>\n",
       "      <td>178</td>\n",
       "      <td>1.800000e-69</td>\n",
       "      <td>258.8</td>\n",
       "    </tr>\n",
       "    <tr>\n",
       "      <th>3</th>\n",
       "      <td>JMUY01000001_3|1438670.3</td>\n",
       "      <td>562.23660.con.0023_22|562.23660</td>\n",
       "      <td>54.2</td>\n",
       "      <td>190</td>\n",
       "      <td>73</td>\n",
       "      <td>2</td>\n",
       "      <td>1</td>\n",
       "      <td>178</td>\n",
       "      <td>2</td>\n",
       "      <td>189</td>\n",
       "      <td>8.200000e-51</td>\n",
       "      <td>196.8</td>\n",
       "    </tr>\n",
       "    <tr>\n",
       "      <th>4</th>\n",
       "      <td>JMUY01000001_3|1438670.3</td>\n",
       "      <td>562.23709.con.0004_192|562.23709</td>\n",
       "      <td>48.8</td>\n",
       "      <td>168</td>\n",
       "      <td>80</td>\n",
       "      <td>1</td>\n",
       "      <td>1</td>\n",
       "      <td>168</td>\n",
       "      <td>1</td>\n",
       "      <td>162</td>\n",
       "      <td>1.400000e-42</td>\n",
       "      <td>169.5</td>\n",
       "    </tr>\n",
       "  </tbody>\n",
       "</table>\n",
       "</div>"
      ],
      "text/plain": [
       "                     qseqid                            sseqid  pident  length  \\\n",
       "0  JMUY01000001_1|1438670.3          JMUY01000001_1|1438670.3   100.0      43   \n",
       "1  JMUY01000001_3|1438670.3          JMUY01000001_3|1438670.3   100.0     178   \n",
       "2  JMUY01000001_3|1438670.3        JMUY01000001_572|1438670.3    69.7     178   \n",
       "3  JMUY01000001_3|1438670.3   562.23660.con.0023_22|562.23660    54.2     190   \n",
       "4  JMUY01000001_3|1438670.3  562.23709.con.0004_192|562.23709    48.8     168   \n",
       "\n",
       "   mismatch  gapopen  qstart  qend  sstart  send        evalue  bitscore  \n",
       "0         0        0       1    43       1    43  3.200000e-17      83.2  \n",
       "1         0        0       1   178       1   178  2.100000e-99     358.2  \n",
       "2        54        0       1   178       1   178  1.800000e-69     258.8  \n",
       "3        73        2       1   178       2   189  8.200000e-51     196.8  \n",
       "4        80        1       1   168       1   162  1.400000e-42     169.5  "
      ]
     },
     "execution_count": 30,
     "metadata": {},
     "output_type": "execute_result"
    }
   ],
   "source": [
    "seq_iden = pd.read_pickle('/home/hermuba/data0118/cdhit/blast_two/EC70_self_df')\n",
    "seq_iden.head()"
   ]
  },
  {
   "cell_type": "code",
   "execution_count": 31,
   "metadata": {},
   "outputs": [
    {
     "data": {
      "text/html": [
       "<div>\n",
       "<style scoped>\n",
       "    .dataframe tbody tr th:only-of-type {\n",
       "        vertical-align: middle;\n",
       "    }\n",
       "\n",
       "    .dataframe tbody tr th {\n",
       "        vertical-align: top;\n",
       "    }\n",
       "\n",
       "    .dataframe thead th {\n",
       "        text-align: right;\n",
       "    }\n",
       "</style>\n",
       "<table border=\"1\" class=\"dataframe\">\n",
       "  <thead>\n",
       "    <tr style=\"text-align: right;\">\n",
       "      <th></th>\n",
       "      <th>mutual_info</th>\n",
       "      <th>nrm_mutual</th>\n",
       "      <th>gene_one</th>\n",
       "      <th>gene_two</th>\n",
       "      <th>goldstandard</th>\n",
       "      <th>all_domain</th>\n",
       "      <th>common_domain</th>\n",
       "    </tr>\n",
       "  </thead>\n",
       "  <tbody>\n",
       "    <tr>\n",
       "      <th>0</th>\n",
       "      <td>0.419584</td>\n",
       "      <td>0.787639</td>\n",
       "      <td>562.23304.con.0006_192|562.23304</td>\n",
       "      <td>562.22658.con.0002_220|562.22658</td>\n",
       "      <td>NaN</td>\n",
       "      <td></td>\n",
       "      <td></td>\n",
       "    </tr>\n",
       "    <tr>\n",
       "      <th>1</th>\n",
       "      <td>0.391253</td>\n",
       "      <td>0.773301</td>\n",
       "      <td>562.23304.con.0006_192|562.23304</td>\n",
       "      <td>562.22909.con.0002_319|562.22909</td>\n",
       "      <td>NaN</td>\n",
       "      <td></td>\n",
       "      <td></td>\n",
       "    </tr>\n",
       "    <tr>\n",
       "      <th>2</th>\n",
       "      <td>0.074130</td>\n",
       "      <td>0.919936</td>\n",
       "      <td>562.22859.con.0026_36|562.22859</td>\n",
       "      <td>562.22697.con.0023_36|562.22697</td>\n",
       "      <td>NaN</td>\n",
       "      <td></td>\n",
       "      <td></td>\n",
       "    </tr>\n",
       "    <tr>\n",
       "      <th>3</th>\n",
       "      <td>0.409849</td>\n",
       "      <td>0.815928</td>\n",
       "      <td>562.23304.con.0006_192|562.23304</td>\n",
       "      <td>562.23416.con.0004_246|562.23416</td>\n",
       "      <td>NaN</td>\n",
       "      <td></td>\n",
       "      <td></td>\n",
       "    </tr>\n",
       "    <tr>\n",
       "      <th>4</th>\n",
       "      <td>0.077508</td>\n",
       "      <td>0.871718</td>\n",
       "      <td>562.22859.con.0026_36|562.22859</td>\n",
       "      <td>562.22859.con.0026_30|562.22859</td>\n",
       "      <td>NaN</td>\n",
       "      <td></td>\n",
       "      <td></td>\n",
       "    </tr>\n",
       "  </tbody>\n",
       "</table>\n",
       "</div>"
      ],
      "text/plain": [
       "   mutual_info  nrm_mutual                          gene_one  \\\n",
       "0     0.419584    0.787639  562.23304.con.0006_192|562.23304   \n",
       "1     0.391253    0.773301  562.23304.con.0006_192|562.23304   \n",
       "2     0.074130    0.919936   562.22859.con.0026_36|562.22859   \n",
       "3     0.409849    0.815928  562.23304.con.0006_192|562.23304   \n",
       "4     0.077508    0.871718   562.22859.con.0026_36|562.22859   \n",
       "\n",
       "                           gene_two goldstandard all_domain common_domain  \n",
       "0  562.22658.con.0002_220|562.22658          NaN                           \n",
       "1  562.22909.con.0002_319|562.22909          NaN                           \n",
       "2   562.22697.con.0023_36|562.22697          NaN                           \n",
       "3  562.23416.con.0004_246|562.23416          NaN                           \n",
       "4   562.22859.con.0026_30|562.22859          NaN                           "
      ]
     },
     "execution_count": 31,
     "metadata": {},
     "output_type": "execute_result"
    }
   ],
   "source": [
    "e.head()"
   ]
  },
  {
   "cell_type": "code",
   "execution_count": 32,
   "metadata": {},
   "outputs": [],
   "source": [
    "new_df = pd.merge(e, seq_iden,  how='inner', left_on=['gene_one','gene_two'], right_on = ['qseqid','sseqid'])"
   ]
  },
  {
   "cell_type": "code",
   "execution_count": 33,
   "metadata": {},
   "outputs": [
    {
     "data": {
      "text/html": [
       "<div>\n",
       "<style scoped>\n",
       "    .dataframe tbody tr th:only-of-type {\n",
       "        vertical-align: middle;\n",
       "    }\n",
       "\n",
       "    .dataframe tbody tr th {\n",
       "        vertical-align: top;\n",
       "    }\n",
       "\n",
       "    .dataframe thead th {\n",
       "        text-align: right;\n",
       "    }\n",
       "</style>\n",
       "<table border=\"1\" class=\"dataframe\">\n",
       "  <thead>\n",
       "    <tr style=\"text-align: right;\">\n",
       "      <th></th>\n",
       "      <th>mutual_info</th>\n",
       "      <th>nrm_mutual</th>\n",
       "      <th>gene_one</th>\n",
       "      <th>gene_two</th>\n",
       "      <th>goldstandard</th>\n",
       "      <th>all_domain</th>\n",
       "      <th>common_domain</th>\n",
       "      <th>qseqid</th>\n",
       "      <th>sseqid</th>\n",
       "      <th>pident</th>\n",
       "      <th>length</th>\n",
       "      <th>mismatch</th>\n",
       "      <th>gapopen</th>\n",
       "      <th>qstart</th>\n",
       "      <th>qend</th>\n",
       "      <th>sstart</th>\n",
       "      <th>send</th>\n",
       "      <th>evalue</th>\n",
       "      <th>bitscore</th>\n",
       "    </tr>\n",
       "  </thead>\n",
       "  <tbody>\n",
       "    <tr>\n",
       "      <th>0</th>\n",
       "      <td>0.012270</td>\n",
       "      <td>0.877352</td>\n",
       "      <td>562.23935.con.0006_1|562.23935</td>\n",
       "      <td>562.23781.con.0198_1|562.23781</td>\n",
       "      <td>NaN</td>\n",
       "      <td></td>\n",
       "      <td></td>\n",
       "      <td>562.23935.con.0006_1|562.23935</td>\n",
       "      <td>562.23781.con.0198_1|562.23781</td>\n",
       "      <td>90.0</td>\n",
       "      <td>20</td>\n",
       "      <td>2</td>\n",
       "      <td>0</td>\n",
       "      <td>22</td>\n",
       "      <td>41</td>\n",
       "      <td>34</td>\n",
       "      <td>53</td>\n",
       "      <td>6.000000e-05</td>\n",
       "      <td>42.4</td>\n",
       "    </tr>\n",
       "    <tr>\n",
       "      <th>1</th>\n",
       "      <td>0.079719</td>\n",
       "      <td>0.965408</td>\n",
       "      <td>562.22859.con.0026_36|562.22859</td>\n",
       "      <td>562.22477.con.0024_24|562.22477</td>\n",
       "      <td>NaN</td>\n",
       "      <td></td>\n",
       "      <td></td>\n",
       "      <td>562.22859.con.0026_36|562.22859</td>\n",
       "      <td>562.22477.con.0024_24|562.22477</td>\n",
       "      <td>67.4</td>\n",
       "      <td>43</td>\n",
       "      <td>14</td>\n",
       "      <td>0</td>\n",
       "      <td>9</td>\n",
       "      <td>51</td>\n",
       "      <td>10</td>\n",
       "      <td>52</td>\n",
       "      <td>9.700000e-10</td>\n",
       "      <td>59.3</td>\n",
       "    </tr>\n",
       "    <tr>\n",
       "      <th>2</th>\n",
       "      <td>0.142044</td>\n",
       "      <td>0.926829</td>\n",
       "      <td>562.22661.con.0008_31|562.22661</td>\n",
       "      <td>562.23589.con.0042_6|562.23589</td>\n",
       "      <td>NaN</td>\n",
       "      <td></td>\n",
       "      <td></td>\n",
       "      <td>562.22661.con.0008_31|562.22661</td>\n",
       "      <td>562.23589.con.0042_6|562.23589</td>\n",
       "      <td>72.5</td>\n",
       "      <td>51</td>\n",
       "      <td>14</td>\n",
       "      <td>0</td>\n",
       "      <td>1</td>\n",
       "      <td>51</td>\n",
       "      <td>13</td>\n",
       "      <td>63</td>\n",
       "      <td>1.400000e-16</td>\n",
       "      <td>81.6</td>\n",
       "    </tr>\n",
       "    <tr>\n",
       "      <th>3</th>\n",
       "      <td>0.058916</td>\n",
       "      <td>0.862452</td>\n",
       "      <td>562.23288.con.0012_1|562.23288</td>\n",
       "      <td>562.23165.con.0020_1|562.23165</td>\n",
       "      <td>NaN</td>\n",
       "      <td></td>\n",
       "      <td></td>\n",
       "      <td>562.23288.con.0012_1|562.23288</td>\n",
       "      <td>562.23165.con.0020_1|562.23165</td>\n",
       "      <td>100.0</td>\n",
       "      <td>17</td>\n",
       "      <td>0</td>\n",
       "      <td>0</td>\n",
       "      <td>2</td>\n",
       "      <td>18</td>\n",
       "      <td>1</td>\n",
       "      <td>17</td>\n",
       "      <td>4.400000e-04</td>\n",
       "      <td>39.7</td>\n",
       "    </tr>\n",
       "    <tr>\n",
       "      <th>4</th>\n",
       "      <td>0.002872</td>\n",
       "      <td>0.767374</td>\n",
       "      <td>562.23635.con.0049_2|562.23635</td>\n",
       "      <td>562.22741.con.0052_21|562.22741</td>\n",
       "      <td>NaN</td>\n",
       "      <td></td>\n",
       "      <td></td>\n",
       "      <td>562.23635.con.0049_2|562.23635</td>\n",
       "      <td>562.22741.con.0052_21|562.22741</td>\n",
       "      <td>63.2</td>\n",
       "      <td>117</td>\n",
       "      <td>42</td>\n",
       "      <td>1</td>\n",
       "      <td>1</td>\n",
       "      <td>116</td>\n",
       "      <td>1</td>\n",
       "      <td>117</td>\n",
       "      <td>1.200000e-37</td>\n",
       "      <td>152.5</td>\n",
       "    </tr>\n",
       "  </tbody>\n",
       "</table>\n",
       "</div>"
      ],
      "text/plain": [
       "   mutual_info  nrm_mutual                         gene_one  \\\n",
       "0     0.012270    0.877352   562.23935.con.0006_1|562.23935   \n",
       "1     0.079719    0.965408  562.22859.con.0026_36|562.22859   \n",
       "2     0.142044    0.926829  562.22661.con.0008_31|562.22661   \n",
       "3     0.058916    0.862452   562.23288.con.0012_1|562.23288   \n",
       "4     0.002872    0.767374   562.23635.con.0049_2|562.23635   \n",
       "\n",
       "                          gene_two goldstandard all_domain common_domain  \\\n",
       "0   562.23781.con.0198_1|562.23781          NaN                            \n",
       "1  562.22477.con.0024_24|562.22477          NaN                            \n",
       "2   562.23589.con.0042_6|562.23589          NaN                            \n",
       "3   562.23165.con.0020_1|562.23165          NaN                            \n",
       "4  562.22741.con.0052_21|562.22741          NaN                            \n",
       "\n",
       "                            qseqid                           sseqid  pident  \\\n",
       "0   562.23935.con.0006_1|562.23935   562.23781.con.0198_1|562.23781    90.0   \n",
       "1  562.22859.con.0026_36|562.22859  562.22477.con.0024_24|562.22477    67.4   \n",
       "2  562.22661.con.0008_31|562.22661   562.23589.con.0042_6|562.23589    72.5   \n",
       "3   562.23288.con.0012_1|562.23288   562.23165.con.0020_1|562.23165   100.0   \n",
       "4   562.23635.con.0049_2|562.23635  562.22741.con.0052_21|562.22741    63.2   \n",
       "\n",
       "   length  mismatch  gapopen  qstart  qend  sstart  send        evalue  \\\n",
       "0      20         2        0      22    41      34    53  6.000000e-05   \n",
       "1      43        14        0       9    51      10    52  9.700000e-10   \n",
       "2      51        14        0       1    51      13    63  1.400000e-16   \n",
       "3      17         0        0       2    18       1    17  4.400000e-04   \n",
       "4     117        42        1       1   116       1   117  1.200000e-37   \n",
       "\n",
       "   bitscore  \n",
       "0      42.4  \n",
       "1      59.3  \n",
       "2      81.6  \n",
       "3      39.7  \n",
       "4     152.5  "
      ]
     },
     "execution_count": 33,
     "metadata": {},
     "output_type": "execute_result"
    }
   ],
   "source": [
    "new_df.head()"
   ]
  },
  {
   "cell_type": "code",
   "execution_count": 34,
   "metadata": {},
   "outputs": [
    {
     "data": {
      "text/plain": [
       "(13644, 19)"
      ]
     },
     "execution_count": 34,
     "metadata": {},
     "output_type": "execute_result"
    }
   ],
   "source": [
    "new_df.shape"
   ]
  },
  {
   "cell_type": "code",
   "execution_count": 36,
   "metadata": {},
   "outputs": [
    {
     "data": {
      "text/plain": [
       "count    13644.000000\n",
       "mean        59.344173\n",
       "std         17.774844\n",
       "min         19.700000\n",
       "25%         46.300000\n",
       "50%         57.200000\n",
       "75%         68.700000\n",
       "max        100.000000\n",
       "Name: pident, dtype: float64"
      ]
     },
     "execution_count": 36,
     "metadata": {},
     "output_type": "execute_result"
    }
   ],
   "source": [
    "new_df['pident'].describe() # high sequence identity mean = 60%"
   ]
  },
  {
   "cell_type": "code",
   "execution_count": 37,
   "metadata": {},
   "outputs": [
    {
     "data": {
      "text/plain": [
       "<matplotlib.axes._subplots.AxesSubplot at 0x7ffab726c8d0>"
      ]
     },
     "execution_count": 37,
     "metadata": {},
     "output_type": "execute_result"
    },
    {
     "data": {
      "image/png": "[encoded data removed]",
      "text/plain": [
       "<Figure size 432x288 with 1 Axes>"
      ]
     },
     "metadata": {
      "needs_background": "light"
     },
     "output_type": "display_data"
    }
   ],
   "source": [
    "new_df['pident'].plot(kind = 'hist', bins = 100)"
   ]
  },
  {
   "cell_type": "code",
   "execution_count": 38,
   "metadata": {},
   "outputs": [
    {
     "name": "stderr",
     "output_type": "stream",
     "text": [
      "/home/hermuba/miniconda3/lib/python3.6/site-packages/scipy/stats/stats.py:1713: FutureWarning: Using a non-tuple sequence for multidimensional indexing is deprecated; use `arr[tuple(seq)]` instead of `arr[seq]`. In the future this will be interpreted as an array index, `arr[np.array(seq)]`, which will result either in an error or a different result.\n",
      "  return np.add.reduce(sorted[indexer] * weights, axis=axis) / sumval\n"
     ]
    },
    {
     "data": {
      "text/plain": [
       "<seaborn.axisgrid.JointGrid at 0x7ffab59a2048>"
      ]
     },
     "execution_count": 38,
     "metadata": {},
     "output_type": "execute_result"
    },
    {
     "data": {
      "image/png": "[encoded data removed]",
      "text/plain": [
       "<Figure size 432x432 with 3 Axes>"
      ]
     },
     "metadata": {
      "needs_background": "light"
     },
     "output_type": "display_data"
    }
   ],
   "source": [
    "import seaborn as sns\n",
    "sns.jointplot(new_df['pident'], new_df['nrm_mutual'], kind = 'kde')"
   ]
  },
  {
   "cell_type": "markdown",
   "metadata": {},
   "source": [
    "# Degree distribution"
   ]
  },
  {
   "cell_type": "code",
   "execution_count": 42,
   "metadata": {},
   "outputs": [],
   "source": [
    "# degree distribution\n",
    "degree_sequence = [d for n, d in net.degree()]\n",
    "\n",
    "import numpy as np\n",
    "degree_sequence = np.asarray(degree_sequence)\n",
    "\n",
    "hist, bins = np.histogram(degree_sequence, bins = 50)"
   ]
  },
  {
   "cell_type": "code",
   "execution_count": 64,
   "metadata": {},
   "outputs": [
    {
     "data": {
      "text/plain": [
       "494"
      ]
     },
     "execution_count": 64,
     "metadata": {},
     "output_type": "execute_result"
    }
   ],
   "source": [
    "np.max(degree_sequence)"
   ]
  },
  {
   "cell_type": "code",
   "execution_count": 53,
   "metadata": {},
   "outputs": [
    {
     "data": {
      "text/plain": [
       "<matplotlib.collections.PathCollection at 0x7ffab24b6240>"
      ]
     },
     "execution_count": 53,
     "metadata": {},
     "output_type": "execute_result"
    },
    {
     "data": {
      "image/png": "[encoded data removed]",
      "text/plain": [
       "<Figure size 432x288 with 1 Axes>"
      ]
     },
     "metadata": {
      "needs_background": "light"
     },
     "output_type": "display_data"
    }
   ],
   "source": [
    "import matplotlib.pyplot as plt\n",
    "plt.title('Degree distribution')\n",
    "plt.xlabel('Degree')\n",
    "plt.ylabel('Frequency')\n",
    "plt.scatter(bins[:-1], hist)"
   ]
  },
  {
   "cell_type": "code",
   "execution_count": 63,
   "metadata": {},
   "outputs": [
    {
     "data": {
      "text/plain": [
       "Text(3, 3, 'r=-1.3571057409721665')"
      ]
     },
     "execution_count": 63,
     "metadata": {},
     "output_type": "execute_result"
    },
    {
     "data": {
      "image/png": "[encoded data removed]",
      "text/plain": [
       "<Figure size 432x288 with 1 Axes>"
      ]
     },
     "metadata": {
      "needs_background": "light"
     },
     "output_type": "display_data"
    }
   ],
   "source": [
    "from scipy import stats\n",
    "logx = np.log10(bins[:-1])\n",
    "logy = np.log10(hist)\n",
    "\n",
    "slope, intercept, r_value, p_value, std_err = stats.linregress(logx, logy)\n",
    "line = slope*logx+ intercept\n",
    "\n",
    "\n",
    "plt.title('Degree distribution')\n",
    "plt.xlabel('Log 10 Degree')\n",
    "plt.ylabel('Log 10 Frequency')\n",
    "plt.plot(logx, logy, 'o',logx, line)\n",
    "plt.text(3,3,'r='+str(slope))"
   ]
  },
  {
   "cell_type": "code",
   "execution_count": 58,
   "metadata": {},
   "outputs": [
    {
     "data": {
      "text/plain": [
       "[<matplotlib.lines.Line2D at 0x7ffab23feb70>]"
      ]
     },
     "execution_count": 58,
     "metadata": {},
     "output_type": "execute_result"
    },
    {
     "data": {
      "image/png": "[encoded data removed]",
      "text/plain": [
       "<Figure size 432x288 with 1 Axes>"
      ]
     },
     "metadata": {
      "needs_background": "light"
     },
     "output_type": "display_data"
    }
   ],
   "source": [
    "from collections import Counter\n",
    "c = Counter(degree_sequence)\n",
    "sorted(c.items())\n",
    "plt.plot(*zip(*sorted(c.items())))"
   ]
  }
 ],
 "metadata": {
  "kernelspec": {
   "display_name": "Python 3",
   "language": "python",
   "name": "python3"
  },
  "language_info": {
   "codemirror_mode": {
    "name": "ipython",
    "version": 3
   },
   "file_extension": ".py",
   "mimetype": "text/x-python",
   "name": "python",
   "nbconvert_exporter": "python",
   "pygments_lexer": "ipython3",
   "version": "3.6.10"
  }
 },
 "nbformat": 4,
 "nbformat_minor": 4
}
