{
 "cells": [
  {
   "cell_type": "code",
   "execution_count": 1,
   "metadata": {},
   "outputs": [],
   "source": [
    "import pandas as pd\n",
    "import networkx as nx\n",
    "import matplotlib.pyplot as plt\n",
    "\n",
    "\n",
    "def read_edge(net_name):\n",
    "    path = '/home/hermuba/data0118/network1122/'\n",
    "    filename = path + net_name + '_lls_edgelist'\n",
    "    \n",
    "    # skip first line header!!\n",
    "    with open(filename, 'rb') as f:\n",
    "      \n",
    "        net = nx.read_edgelist(f, nodetype = str, comments = '#')\n",
    "    return(net)\n",
    "\n"
   ]
  },
  {
   "cell_type": "code",
   "execution_count": 3,
   "metadata": {},
   "outputs": [],
   "source": [
    "string = read_edge('string_rm_plasmid')\n",
    "refseq = read_edge('refseq_rm_plasmid')\n",
    "eskape = read_edge('eskape_rm_plasmid')\n",
    "domain = read_edge('domain_rm_plasmid')"
   ]
  },
  {
   "cell_type": "code",
   "execution_count": 8,
   "metadata": {},
   "outputs": [],
   "source": [
    "combined = nx.compose(refseq, eskape)\n",
    "combined = nx.compose(combined, string)\n",
    "combined = nx.compose(combined, domain)"
   ]
  },
  {
   "cell_type": "code",
   "execution_count": 11,
   "metadata": {},
   "outputs": [],
   "source": [
    "import numpy as np\n",
    "def bayesian_integration(attr_dict):\n",
    "    sorted_lls = -np.sort(-np.array(list(attr_dict.values())))  #descending\n",
    "    ans = 0\n",
    "    for sorted_index in range(len(sorted_lls)):\n",
    "        ans += sorted_lls[sorted_index]/(sorted_index+1)\n",
    "    return(ans)\n",
    "    "
   ]
  },
  {
   "cell_type": "code",
   "execution_count": 12,
   "metadata": {},
   "outputs": [
    {
     "data": {
      "text/plain": [
       "30.166666666666668"
      ]
     },
     "execution_count": 12,
     "metadata": {},
     "output_type": "execute_result"
    }
   ],
   "source": [
    "test_dict = {'one':9, 'two': 2, 'three': 25}\n",
    "test_ans = 25/1 + 9/2 + 2/3\n",
    "bayesian_integration(test_dict)"
   ]
  },
  {
   "cell_type": "code",
   "execution_count": 13,
   "metadata": {},
   "outputs": [
    {
     "data": {
      "text/plain": [
       "30.166666666666668"
      ]
     },
     "execution_count": 13,
     "metadata": {},
     "output_type": "execute_result"
    }
   ],
   "source": [
    "test_ans"
   ]
  },
  {
   "cell_type": "code",
   "execution_count": 14,
   "metadata": {},
   "outputs": [],
   "source": [
    "i = 0\n",
    "output_file = '/home/hermuba/data0118/network1122/combined_rm_plasmid_baye'\n",
    "for e in combined.edges(data = True):\n",
    "    with open(output_file, 'a') as f:\n",
    "        if i == 0:\n",
    "            f.write('gene_one,gene_two,combined_lls\\n')\n",
    "        f.write(e[0]+','+e[1]+','+str(bayesian_integration(e[2]))+'\\n')\n",
    "        i += 1"
   ]
  }
 ],
 "metadata": {
  "kernelspec": {
   "display_name": "Python 3",
   "language": "python",
   "name": "python3"
  },
  "language_info": {
   "codemirror_mode": {
    "name": "ipython",
    "version": 3
   },
   "file_extension": ".py",
   "mimetype": "text/x-python",
   "name": "python",
   "nbconvert_exporter": "python",
   "pygments_lexer": "ipython3",
   "version": "3.6.7"
  }
 },
 "nbformat": 4,
 "nbformat_minor": 2
}
