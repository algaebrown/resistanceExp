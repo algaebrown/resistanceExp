{
 "cells": [
  {
   "cell_type": "markdown",
   "metadata": {},
   "source": [
    "# To determine goldstandard pairs\n",
    "1. Which GO terms should be removed?\n",
    "2. Which Reactome terms should be removed?\n",
    "\n",
    "Approach please see [This paper](https://journals.plos.org/plosone/article?id=10.1371/journal.pone.0000988), Figure 1A, Figure 1B\n",
    "\n",
    "1. Histogram of gene per term, link per term\n",
    "2. How LLS change upon removing several largest terms."
   ]
  },
  {
   "cell_type": "code",
   "execution_count": 1,
   "metadata": {},
   "outputs": [],
   "source": [
    "import pandas as pd\n",
    "gold_anno = pd.read_pickle('/home/hermuba/data0118/goldstandard/ec_rmplasmid_node_anno_df')"
   ]
  },
  {
   "cell_type": "code",
   "execution_count": 2,
   "metadata": {},
   "outputs": [
    {
     "data": {
      "text/plain": [
       "(31621, 20)"
      ]
     },
     "execution_count": 2,
     "metadata": {},
     "output_type": "execute_result"
    }
   ],
   "source": [
    "gold_anno.shape"
   ]
  },
  {
   "cell_type": "code",
   "execution_count": 3,
   "metadata": {},
   "outputs": [
    {
     "data": {
      "text/plain": [
       "cog_ID             12667\n",
       "cog_category       12667\n",
       "cluster            31621\n",
       "count              31621\n",
       "core               31621\n",
       "loose_best_ARO       941\n",
       "loose_ARO            941\n",
       "strict_best_ARO      101\n",
       "strict_ARO           101\n",
       "is_card            31621\n",
       "resfam              1159\n",
       "aclame_title       15680\n",
       "is_aclame          31621\n",
       "nr                 30923\n",
       "hypo_nr            15626\n",
       "drug_target           78\n",
       "is_drug_target     31621\n",
       "GO                 10044\n",
       "pathway             3003\n",
       "domain             18601\n",
       "dtype: int64"
      ]
     },
     "execution_count": 3,
     "metadata": {},
     "output_type": "execute_result"
    }
   ],
   "source": [
    "gold_anno.count()"
   ]
  },
  {
   "cell_type": "markdown",
   "metadata": {},
   "source": [
    "# Gene per term, Link per term"
   ]
  },
  {
   "cell_type": "code",
   "execution_count": 4,
   "metadata": {},
   "outputs": [],
   "source": [
    "from collections import Counter\n",
    "def count_gene_per_term(df, annotation):\n",
    "    '''\n",
    "    Count gene per term\n",
    "    df: gold_anno\n",
    "    annotaiton: 'GO' or 'Pathway'\n",
    "    '''\n",
    "    total_list = []\n",
    "    for i in df[annotation]:\n",
    "        if type(i) != float: # do not count nan\n",
    "            total_list += list(i)\n",
    "    #return(total_list)\n",
    "    counting = pd.DataFrame.from_dict(dict(Counter(total_list)), orient = 'index', columns = ['gene_per_term'])\n",
    "    return(counting)\n",
    "def count_link_per_term(counting):\n",
    "    '''\n",
    "    count how many positive links will be generated from a single term. Combination(n, 2) = (n)(n-1)/2\n",
    "    '''\n",
    "    counting['link_per_term'] = counting['gene_per_term'].map(lambda x: x*(x-1)/2)\n"
   ]
  },
  {
   "cell_type": "code",
   "execution_count": 5,
   "metadata": {},
   "outputs": [],
   "source": [
    "GO_count = count_gene_per_term(gold_anno, 'GO')\n",
    "count_link_per_term(GO_count)\n",
    "GO_count.sort_values(by = 'gene_per_term', ascending = False, inplace = True)"
   ]
  },
  {
   "cell_type": "code",
   "execution_count": 6,
   "metadata": {},
   "outputs": [
    {
     "data": {
      "text/html": [
       "<div>\n",
       "<style scoped>\n",
       "    .dataframe tbody tr th:only-of-type {\n",
       "        vertical-align: middle;\n",
       "    }\n",
       "\n",
       "    .dataframe tbody tr th {\n",
       "        vertical-align: top;\n",
       "    }\n",
       "\n",
       "    .dataframe thead th {\n",
       "        text-align: right;\n",
       "    }\n",
       "</style>\n",
       "<table border=\"1\" class=\"dataframe\">\n",
       "  <thead>\n",
       "    <tr style=\"text-align: right;\">\n",
       "      <th></th>\n",
       "      <th>gene_per_term</th>\n",
       "      <th>link_per_term</th>\n",
       "    </tr>\n",
       "  </thead>\n",
       "  <tbody>\n",
       "    <tr>\n",
       "      <th>GO:0003677</th>\n",
       "      <td>2141</td>\n",
       "      <td>2290870.0</td>\n",
       "    </tr>\n",
       "    <tr>\n",
       "      <th>GO:0016020</th>\n",
       "      <td>1016</td>\n",
       "      <td>515620.0</td>\n",
       "    </tr>\n",
       "    <tr>\n",
       "      <th>GO:0006355</th>\n",
       "      <td>973</td>\n",
       "      <td>472878.0</td>\n",
       "    </tr>\n",
       "    <tr>\n",
       "      <th>GO:0016021</th>\n",
       "      <td>832</td>\n",
       "      <td>345696.0</td>\n",
       "    </tr>\n",
       "    <tr>\n",
       "      <th>GO:0005524</th>\n",
       "      <td>794</td>\n",
       "      <td>314821.0</td>\n",
       "    </tr>\n",
       "  </tbody>\n",
       "</table>\n",
       "</div>"
      ],
      "text/plain": [
       "            gene_per_term  link_per_term\n",
       "GO:0003677           2141      2290870.0\n",
       "GO:0016020           1016       515620.0\n",
       "GO:0006355            973       472878.0\n",
       "GO:0016021            832       345696.0\n",
       "GO:0005524            794       314821.0"
      ]
     },
     "execution_count": 6,
     "metadata": {},
     "output_type": "execute_result"
    }
   ],
   "source": [
    "GO_count.head()"
   ]
  },
  {
   "cell_type": "code",
   "execution_count": 7,
   "metadata": {},
   "outputs": [],
   "source": [
    "largest_go = GO_count.iloc[:3].index"
   ]
  },
  {
   "cell_type": "code",
   "execution_count": 8,
   "metadata": {},
   "outputs": [],
   "source": [
    "pathway_count = count_gene_per_term(gold_anno, 'pathway')\n",
    "count_link_per_term(pathway_count)\n",
    "pathway_count.sort_values(by = 'gene_per_term', ascending = False, inplace = True)"
   ]
  },
  {
   "cell_type": "code",
   "execution_count": 9,
   "metadata": {},
   "outputs": [],
   "source": [
    "largest_pathway = pathway_count.iloc[:3].index"
   ]
  },
  {
   "cell_type": "markdown",
   "metadata": {},
   "source": [
    "# Show how the distribution of LLS will change after we remove the 1st, 2nd and 3rd GO term.\n",
    "\n",
    "Show no significant between 2 and 3.\n",
    "\n"
   ]
  },
  {
   "cell_type": "code",
   "execution_count": 112,
   "metadata": {},
   "outputs": [],
   "source": [
    "# sample 100 genes that has all annotations and in string\n",
    "net = '/home/hermuba/data0118/map_to_exist_net/string' #ID has problem\n",
    "string = pd.read_csv(net)\n",
    "all_string_genes = set(list(string['gene_one'])+ list(string['gene_two']))\n",
    "sampled_gene = gold_anno[['GO', 'pathway']].dropna()\n",
    "sampled_gene = sampled_gene.loc[sampled_gene.index.isin(all_string_genes)]"
   ]
  },
  {
   "cell_type": "code",
   "execution_count": 113,
   "metadata": {},
   "outputs": [],
   "source": [
    "from Genome.goldstandard_pair.make_gold_file import gold_standard\n",
    "# generate goldstandard for everyone, remove 1,2,3 of largest pairs\n",
    "large = {'GO': largest_go, 'pathway': largest_pathway}\n",
    "for anno in ['GO', 'pathway']:\n",
    "    for i in range(3):\n",
    "        \n",
    "        gold_standard(sampled_gene, anno, 'sample100_{}'.format(i), large_term_to_remove = large[anno][:i])"
   ]
  },
  {
   "cell_type": "code",
   "execution_count": 134,
   "metadata": {},
   "outputs": [
    {
     "name": "stdout",
     "output_type": "stream",
     "text": [
      "32639\n"
     ]
    },
    {
     "name": "stderr",
     "output_type": "stream",
     "text": [
      "/home/hermuba/resistanceExp/Genome/goldstandard_pair/lls.py:26: FutureWarning: Sorting because non-concatenation axis is not aligned. A future version\n",
      "of pandas will change to not sort by default.\n",
      "\n",
      "To accept the future behavior, pass 'sort=False'.\n",
      "\n",
      "To retain the current behavior and silence the warning, pass 'sort=True'.\n",
      "\n",
      "  total = pd.concat([d1, d2])\n"
     ]
    },
    {
     "name": "stdout",
     "output_type": "stream",
     "text": [
      "32509\n"
     ]
    },
    {
     "name": "stderr",
     "output_type": "stream",
     "text": [
      "/home/hermuba/resistanceExp/Genome/goldstandard_pair/lls.py:26: FutureWarning: Sorting because non-concatenation axis is not aligned. A future version\n",
      "of pandas will change to not sort by default.\n",
      "\n",
      "To accept the future behavior, pass 'sort=False'.\n",
      "\n",
      "To retain the current behavior and silence the warning, pass 'sort=True'.\n",
      "\n",
      "  total = pd.concat([d1, d2])\n"
     ]
    },
    {
     "name": "stdout",
     "output_type": "stream",
     "text": [
      "31436\n"
     ]
    },
    {
     "name": "stderr",
     "output_type": "stream",
     "text": [
      "/home/hermuba/resistanceExp/Genome/goldstandard_pair/lls.py:26: FutureWarning: Sorting because non-concatenation axis is not aligned. A future version\n",
      "of pandas will change to not sort by default.\n",
      "\n",
      "To accept the future behavior, pass 'sort=False'.\n",
      "\n",
      "To retain the current behavior and silence the warning, pass 'sort=True'.\n",
      "\n",
      "  total = pd.concat([d1, d2])\n"
     ]
    },
    {
     "name": "stdout",
     "output_type": "stream",
     "text": [
      "4057\n"
     ]
    },
    {
     "name": "stderr",
     "output_type": "stream",
     "text": [
      "/home/hermuba/resistanceExp/Genome/goldstandard_pair/lls.py:26: FutureWarning: Sorting because non-concatenation axis is not aligned. A future version\n",
      "of pandas will change to not sort by default.\n",
      "\n",
      "To accept the future behavior, pass 'sort=False'.\n",
      "\n",
      "To retain the current behavior and silence the warning, pass 'sort=True'.\n",
      "\n",
      "  total = pd.concat([d1, d2])\n"
     ]
    },
    {
     "name": "stdout",
     "output_type": "stream",
     "text": [
      "4054\n"
     ]
    },
    {
     "name": "stderr",
     "output_type": "stream",
     "text": [
      "/home/hermuba/resistanceExp/Genome/goldstandard_pair/lls.py:26: FutureWarning: Sorting because non-concatenation axis is not aligned. A future version\n",
      "of pandas will change to not sort by default.\n",
      "\n",
      "To accept the future behavior, pass 'sort=False'.\n",
      "\n",
      "To retain the current behavior and silence the warning, pass 'sort=True'.\n",
      "\n",
      "  total = pd.concat([d1, d2])\n"
     ]
    },
    {
     "name": "stdout",
     "output_type": "stream",
     "text": [
      "4054\n"
     ]
    },
    {
     "name": "stderr",
     "output_type": "stream",
     "text": [
      "/home/hermuba/resistanceExp/Genome/goldstandard_pair/lls.py:26: FutureWarning: Sorting because non-concatenation axis is not aligned. A future version\n",
      "of pandas will change to not sort by default.\n",
      "\n",
      "To accept the future behavior, pass 'sort=False'.\n",
      "\n",
      "To retain the current behavior and silence the warning, pass 'sort=True'.\n",
      "\n",
      "  total = pd.concat([d1, d2])\n"
     ]
    }
   ],
   "source": [
    "# now calculate LLS score for all goldstandards\n",
    "from Genome.goldstandard_pair.lls import *\n",
    "\n",
    "dist = []\n",
    "lls_score_all = []\n",
    "\n",
    "for anno in ['GO', 'pathway']:\n",
    "    for i in range(3):\n",
    "        all_chunks = read_net_by_chunk(net)\n",
    "\n",
    "        gd = 'sample100_{}{}'.format(i, anno)\n",
    "\n",
    "        gold = read_gold(gd)\n",
    "        print(gold['goldstandard'].sum())\n",
    "        all_chunk = merge_net_with_all_chunks(gold,all_chunks)\n",
    "        lls_score = lls_for_other(all_chunk, 'combined_score')\n",
    "        lls_score_all.append(lls_score)\n",
    "        lls_distribution = all_chunk['cut_mutual'].map(lls_score)\n",
    "        \n",
    "        second_largest = lls_distribution.unique()\n",
    "        second_largest.sort()\n",
    "        \n",
    "        lls_distribution.replace([np.inf], second_largest[-2], inplace = True)\n",
    "        dist.append(lls_distribution)\n",
    "        "
   ]
  },
  {
   "cell_type": "code",
   "execution_count": 149,
   "metadata": {},
   "outputs": [
    {
     "data": {
      "text/plain": [
       "Text(0.5, 1.0, 'GO term')"
      ]
     },
     "execution_count": 149,
     "metadata": {},
     "output_type": "execute_result"
    },
    {
     "data": {
      "image/png": "[encoded data removed]",
      "text/plain": [
       "<Figure size 432x288 with 1 Axes>"
      ]
     },
     "metadata": {
      "needs_background": "light"
     },
     "output_type": "display_data"
    }
   ],
   "source": [
    "import seaborn as sns\n",
    "plt.boxplot(dist[:3])\n",
    "plt.xticks(np.arange(1,4),['remove 0 term', 'remove 1 term', 'remove 2 terms'], rotation = 90)\n",
    "plt.ylabel('LLS distribution')\n",
    "plt.title('GO term')"
   ]
  },
  {
   "cell_type": "code",
   "execution_count": 150,
   "metadata": {},
   "outputs": [
    {
     "data": {
      "text/plain": [
       "Text(0.5, 1.0, 'pathway')"
      ]
     },
     "execution_count": 150,
     "metadata": {},
     "output_type": "execute_result"
    },
    {
     "data": {
      "image/png": "[encoded data removed]",
      "text/plain": [
       "<Figure size 432x288 with 1 Axes>"
      ]
     },
     "metadata": {
      "needs_background": "light"
     },
     "output_type": "display_data"
    }
   ],
   "source": [
    "import seaborn as sns\n",
    "plt.boxplot(dist[3:])\n",
    "import seaborn as sns\n",
    "plt.boxplot(dist[:3])\n",
    "plt.xticks(np.arange(1,4),['remove 0 term', 'remove 1 term', 'remove 2 terms'], rotation = 90)\n",
    "plt.ylabel('LLS distribution')\n",
    "plt.title('pathway')"
   ]
  },
  {
   "cell_type": "code",
   "execution_count": 162,
   "metadata": {},
   "outputs": [
    {
     "data": {
      "text/plain": [
       "Text(0, 0.5, 'LLS')"
      ]
     },
     "execution_count": 162,
     "metadata": {},
     "output_type": "execute_result"
    },
    {
     "data": {
      "image/png": "[encoded data removed]",
      "text/plain": [
       "<Figure size 432x288 with 1 Axes>"
      ]
     },
     "metadata": {
      "needs_background": "light"
     },
     "output_type": "display_data"
    }
   ],
   "source": [
    "labels = ['remove 0 term', 'remove 1 term', 'remove 2 terms']\n",
    "n  = 0\n",
    "for i in lls_score_all[:3]:\n",
    "    plt.scatter(np.arange(len(i)), i.values, alpha = 0.3, label = labels[n])\n",
    "    n+=1\n",
    "plt.title('LLS per bin after GO term removal')\n",
    "plt.legend()\n",
    "plt.xlabel('bins of STRING combined socre')\n",
    "plt.ylabel('LLS')"
   ]
  },
  {
   "cell_type": "code",
   "execution_count": 163,
   "metadata": {},
   "outputs": [
    {
     "data": {
      "text/plain": [
       "Text(0, 0.5, 'LLS')"
      ]
     },
     "execution_count": 163,
     "metadata": {},
     "output_type": "execute_result"
    },
    {
     "data": {
      "image/png": "[encoded data removed]",
      "text/plain": [
       "<Figure size 432x288 with 1 Axes>"
      ]
     },
     "metadata": {
      "needs_background": "light"
     },
     "output_type": "display_data"
    }
   ],
   "source": [
    "labels = ['remove 0 term', 'remove 1 term', 'remove 2 terms']\n",
    "n  = 0\n",
    "for i in lls_score_all[3:]:\n",
    "    plt.scatter(np.arange(len(i)), i.values, alpha = 0.3, label = labels[n])\n",
    "    n+=1\n",
    "plt.title('LLS per bin after pathway term removal')\n",
    "plt.legend()\n",
    "plt.xlabel('bins of STRING combined socre')\n",
    "plt.ylabel('LLS')"
   ]
  },
  {
   "cell_type": "code",
   "execution_count": 130,
   "metadata": {},
   "outputs": [
    {
     "data": {
      "text/plain": [
       "[1.2656282290526228,\n",
       " 1.2672043448498114,\n",
       " 1.2644925006464116,\n",
       " 1.3502339066143134,\n",
       " 1.3502339066143134,\n",
       " 1.3502339066143134]"
      ]
     },
     "execution_count": 130,
     "metadata": {},
     "output_type": "execute_result"
    }
   ],
   "source": [
    "[i.mean() for i in dist]"
   ]
  },
  {
   "cell_type": "markdown",
   "metadata": {},
   "source": [
    "## LLS don't change!"
   ]
  },
  {
   "cell_type": "code",
   "execution_count": 142,
   "metadata": {},
   "outputs": [
    {
     "data": {
      "image/png": "[encoded data removed]",
      "text/plain": [
       "<Figure size 720x216 with 2 Axes>"
      ]
     },
     "metadata": {
      "needs_background": "light"
     },
     "output_type": "display_data"
    },
    {
     "data": {
      "text/plain": [
       "<Figure size 432x288 with 0 Axes>"
      ]
     },
     "metadata": {},
     "output_type": "display_data"
    }
   ],
   "source": [
    "%matplotlib inline\n",
    "import matplotlib.pyplot as plt\n",
    "import matplotlib as mpl\n",
    "\n",
    "import numpy as np\n",
    "mpl.style.use('seaborn-colorblind')\n",
    "import matplotlib.ticker as mtick\n",
    "\n",
    "\n",
    "f,ax = plt.subplots(1,2, figsize = (10,3))\n",
    "ax[1].bar(np.arange(20), GO_count['link_per_term'].iloc[:20], label = 'Link per term')\n",
    "ax[0].bar(np.arange(20), GO_count['gene_per_term'].iloc[:20], label = 'Gene per term')\n",
    "for i in range(2):\n",
    "    ax[i].set_xticks(np.arange(20))\n",
    "    ax[i].set_xticklabels(GO_count['link_per_term'].iloc[:20].index, rotation = 90)\n",
    "    ax[i].yaxis.set_major_formatter(mtick.FormatStrFormatter('%.0e'))\n",
    "\n",
    "ax[1].set_title('goldstandard link per term')\n",
    "ax[0].set_title('gene per term')\n",
    "\n",
    "plt.show()\n",
    "plt.tight_layout()\n",
    "plt.savefig('/home/hermuba/figures/remove_large_GO.pdf', dpi = 300)"
   ]
  },
  {
   "cell_type": "code",
   "execution_count": 151,
   "metadata": {},
   "outputs": [
    {
     "data": {
      "image/png": "[encoded data removed]",
      "text/plain": [
       "<Figure size 720x216 with 2 Axes>"
      ]
     },
     "metadata": {
      "needs_background": "light"
     },
     "output_type": "display_data"
    },
    {
     "data": {
      "text/plain": [
       "<Figure size 432x288 with 0 Axes>"
      ]
     },
     "metadata": {},
     "output_type": "display_data"
    }
   ],
   "source": [
    "f,ax = plt.subplots(1,2, figsize = (10,3))\n",
    "ax[1].bar(np.arange(20), pathway_count['link_per_term'].iloc[:20], label = 'Link per term')\n",
    "ax[0].bar(np.arange(20), pathway_count['gene_per_term'].iloc[:20], label = 'Gene per term')\n",
    "for i in range(2):\n",
    "    ax[i].set_xticks(np.arange(20))\n",
    "    ax[i].set_xticklabels(pathway_count['link_per_term'].iloc[:20].index, rotation = 90)\n",
    "    ax[i].yaxis.set_major_formatter(mtick.FormatStrFormatter('%.0e'))\n",
    "\n",
    "ax[1].set_title('goldstandard link per term')\n",
    "ax[0].set_title('gene per term')\n",
    "\n",
    "plt.show()\n",
    "plt.tight_layout()\n",
    "plt.savefig('/home/hermuba/figures/remove_large_pathway.pdf', dpi = 300)"
   ]
  },
  {
   "cell_type": "code",
   "execution_count": 13,
   "metadata": {},
   "outputs": [
    {
     "ename": "AttributeError",
     "evalue": "'DataFrame' object has no attribute 'value_counts'",
     "output_type": "error",
     "traceback": [
      "\u001b[0;31m---------------------------------------------------------------------------\u001b[0m",
      "\u001b[0;31mAttributeError\u001b[0m                            Traceback (most recent call last)",
      "\u001b[0;32m<ipython-input-13-cd92c8cca009>\u001b[0m in \u001b[0;36m<module>\u001b[0;34m\u001b[0m\n\u001b[0;32m----> 1\u001b[0;31m \u001b[0mGO_count\u001b[0m\u001b[0;34m.\u001b[0m\u001b[0mvalue_counts\u001b[0m\u001b[0;34m(\u001b[0m\u001b[0;34m)\u001b[0m\u001b[0;34m[\u001b[0m\u001b[0;34m:\u001b[0m\u001b[0;36m10\u001b[0m\u001b[0;34m]\u001b[0m\u001b[0;34m\u001b[0m\u001b[0;34m\u001b[0m\u001b[0m\n\u001b[0m\u001b[1;32m      2\u001b[0m \u001b[0;31m# DNA binding\u001b[0m\u001b[0;34m\u001b[0m\u001b[0;34m\u001b[0m\u001b[0;34m\u001b[0m\u001b[0m\n\u001b[1;32m      3\u001b[0m \u001b[0;31m# membrane\u001b[0m\u001b[0;34m\u001b[0m\u001b[0;34m\u001b[0m\u001b[0;34m\u001b[0m\u001b[0m\n\u001b[1;32m      4\u001b[0m \u001b[0;31m# regulation of transcription, DNA-templated\u001b[0m\u001b[0;34m\u001b[0m\u001b[0;34m\u001b[0m\u001b[0;34m\u001b[0m\u001b[0m\n\u001b[1;32m      5\u001b[0m \u001b[0;31m# integral component of membrane\u001b[0m\u001b[0;34m\u001b[0m\u001b[0;34m\u001b[0m\u001b[0;34m\u001b[0m\u001b[0m\n",
      "\u001b[0;32m~/miniconda3/lib/python3.6/site-packages/pandas/core/generic.py\u001b[0m in \u001b[0;36m__getattr__\u001b[0;34m(self, name)\u001b[0m\n\u001b[1;32m   5065\u001b[0m             \u001b[0;32mif\u001b[0m \u001b[0mself\u001b[0m\u001b[0;34m.\u001b[0m\u001b[0m_info_axis\u001b[0m\u001b[0;34m.\u001b[0m\u001b[0m_can_hold_identifiers_and_holds_name\u001b[0m\u001b[0;34m(\u001b[0m\u001b[0mname\u001b[0m\u001b[0;34m)\u001b[0m\u001b[0;34m:\u001b[0m\u001b[0;34m\u001b[0m\u001b[0;34m\u001b[0m\u001b[0m\n\u001b[1;32m   5066\u001b[0m                 \u001b[0;32mreturn\u001b[0m \u001b[0mself\u001b[0m\u001b[0;34m[\u001b[0m\u001b[0mname\u001b[0m\u001b[0;34m]\u001b[0m\u001b[0;34m\u001b[0m\u001b[0;34m\u001b[0m\u001b[0m\n\u001b[0;32m-> 5067\u001b[0;31m             \u001b[0;32mreturn\u001b[0m \u001b[0mobject\u001b[0m\u001b[0;34m.\u001b[0m\u001b[0m__getattribute__\u001b[0m\u001b[0;34m(\u001b[0m\u001b[0mself\u001b[0m\u001b[0;34m,\u001b[0m \u001b[0mname\u001b[0m\u001b[0;34m)\u001b[0m\u001b[0;34m\u001b[0m\u001b[0;34m\u001b[0m\u001b[0m\n\u001b[0m\u001b[1;32m   5068\u001b[0m \u001b[0;34m\u001b[0m\u001b[0m\n\u001b[1;32m   5069\u001b[0m     \u001b[0;32mdef\u001b[0m \u001b[0m__setattr__\u001b[0m\u001b[0;34m(\u001b[0m\u001b[0mself\u001b[0m\u001b[0;34m,\u001b[0m \u001b[0mname\u001b[0m\u001b[0;34m,\u001b[0m \u001b[0mvalue\u001b[0m\u001b[0;34m)\u001b[0m\u001b[0;34m:\u001b[0m\u001b[0;34m\u001b[0m\u001b[0;34m\u001b[0m\u001b[0m\n",
      "\u001b[0;31mAttributeError\u001b[0m: 'DataFrame' object has no attribute 'value_counts'"
     ]
    }
   ],
   "source": [
    "GO_count.value_counts()[:10]\n",
    "# DNA binding\n",
    "# membrane \n",
    "# regulation of transcription, DNA-templated\n",
    "# integral component of membrane\n",
    "# ATP binding\n",
    "# catalytic activity\n",
    "# transmembrane transport \n",
    "# oxidation-reduction process\n",
    "# DNA-binding transcription factor activity \n",
    "# sequence-specific DNA binding "
   ]
  },
  {
   "cell_type": "code",
   "execution_count": null,
   "metadata": {},
   "outputs": [],
   "source": [
    "pa_count = count_term(gold_anno, 'pathway')"
   ]
  },
  {
   "cell_type": "code",
   "execution_count": null,
   "metadata": {},
   "outputs": [],
   "source": [
    "pa_count.value_counts()[:100].plot(kind = 'bar', figsize = (20,2))"
   ]
  },
  {
   "cell_type": "code",
   "execution_count": null,
   "metadata": {},
   "outputs": [],
   "source": [
    "pa_count.value_counts()[:5] \n",
    "# O-linked glycosylation of mucins R-HSA-913709\n",
    "# Biosynthesis of the N-glycan precursor\n",
    "# Respiratory electron transport\n",
    "# Defective ALG2 causes ALG2-CDG (CDG-1i) \n",
    "# Transcriptional activation of mitochondrial biogenesis"
   ]
  },
  {
   "cell_type": "code",
   "execution_count": null,
   "metadata": {},
   "outputs": [],
   "source": [
    "da_count = count_term(gold_anno, 'domain')"
   ]
  },
  {
   "cell_type": "code",
   "execution_count": null,
   "metadata": {},
   "outputs": [],
   "source": [
    "da_count.value_counts()[:100].plot(kind = 'bar', figsize = (20,2))"
   ]
  },
  {
   "cell_type": "code",
   "execution_count": null,
   "metadata": {},
   "outputs": [],
   "source": [
    "da_count.value_counts()[:5]\n",
    "# P-loop containing nucleoside triphosphate hydrolase\n",
    "# Winged helix-like DNA-binding domain superfamily \n",
    "# Winged helix DNA-binding domain superfamily \n",
    "# Lambda repressor-like, DNA-binding domain superfamily\n",
    "# Homeobox-like domain superfamily "
   ]
  },
  {
   "cell_type": "code",
   "execution_count": null,
   "metadata": {},
   "outputs": [],
   "source": [
    "from Genome.goldstandard_pair.parse_interpro_out import *"
   ]
  },
  {
   "cell_type": "code",
   "execution_count": null,
   "metadata": {},
   "outputs": [],
   "source": [
    "gold = gold_anno[['pathway', 'GO', 'nr', 'domain']].dropna()# sample from the ones with all the annotation\n",
    "gold.to_pickle('/home/hermuba/data0118/bench_set/all_gold')\n",
    "#gold = pd.read_pickle('/home/hermuba/data0118/bench_set/sampled_gold_200')"
   ]
  },
  {
   "cell_type": "code",
   "execution_count": null,
   "metadata": {},
   "outputs": [],
   "source": [
    "n1, n2, g_gold = gold_standard(gold, 'GO', '/home/hermuba/data0118/bench_set/all_gold_go') # I removed the most popular GO term"
   ]
  },
  {
   "cell_type": "code",
   "execution_count": null,
   "metadata": {},
   "outputs": [],
   "source": [
    "gold_itxn = pd.DataFrame(data = {'gene1':n1, 'gene2':n2, 'GO_inter':g_gold})"
   ]
  },
  {
   "cell_type": "code",
   "execution_count": null,
   "metadata": {},
   "outputs": [],
   "source": [
    "gold_itxn['GO_inter'].sum() # 1760/19900 = true;"
   ]
  },
  {
   "cell_type": "code",
   "execution_count": null,
   "metadata": {},
   "outputs": [],
   "source": [
    "n1, n2, p_gold = gold_standard(gold, 'pathway') # I removed the most popular GO term"
   ]
  },
  {
   "cell_type": "code",
   "execution_count": null,
   "metadata": {},
   "outputs": [],
   "source": [
    "itxn = pd.DataFrame(data = {'gene1':n1, 'gene2':n2, 'path_inter':p_gold})"
   ]
  },
  {
   "cell_type": "code",
   "execution_count": null,
   "metadata": {},
   "outputs": [],
   "source": [
    "gold_itxn = gold_itxn.merge(itxn, on = ['gene1', 'gene2'])"
   ]
  },
  {
   "cell_type": "code",
   "execution_count": null,
   "metadata": {},
   "outputs": [],
   "source": [
    "n1, n2, d_gold = gold_standard(gold, 'domain')\n",
    "itxn = pd.DataFrame(data = {'gene1':n1, 'gene2':n2, 'domain_inter':d_gold})\n",
    "gold_itxn = gold_itxn.merge(itxn, on = ['gene1', 'gene2'])"
   ]
  },
  {
   "cell_type": "code",
   "execution_count": null,
   "metadata": {},
   "outputs": [],
   "source": [
    "gold_itxn.sum()"
   ]
  },
  {
   "cell_type": "code",
   "execution_count": null,
   "metadata": {},
   "outputs": [],
   "source": [
    "gold_itxn.to_pickle('/home/hermuba/data0118/bench_set/sampled_200_itxn')"
   ]
  },
  {
   "cell_type": "code",
   "execution_count": null,
   "metadata": {},
   "outputs": [],
   "source": []
  }
 ],
 "metadata": {
  "kernelspec": {
   "display_name": "Python 3",
   "language": "python",
   "name": "python3"
  },
  "language_info": {
   "codemirror_mode": {
    "name": "ipython",
    "version": 3
   },
   "file_extension": ".py",
   "mimetype": "text/x-python",
   "name": "python",
   "nbconvert_exporter": "python",
   "pygments_lexer": "ipython3",
   "version": "3.6.10"
  }
 },
 "nbformat": 4,
 "nbformat_minor": 4
}
