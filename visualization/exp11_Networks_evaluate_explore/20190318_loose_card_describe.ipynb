{
 "cells": [
  {
   "cell_type": "code",
   "execution_count": 29,
   "metadata": {},
   "outputs": [],
   "source": [
    "import pandas as pd\n",
    "loose_card = pd.read_pickle('/home/hermuba/data0118/cdhit/EC70_loose_card_df')\n",
    "loose_card.set_index('ORF_ID', inplace = True)"
   ]
  },
  {
   "cell_type": "code",
   "execution_count": 26,
   "metadata": {},
   "outputs": [
    {
     "data": {
      "text/plain": [
       "(1043, 25)"
      ]
     },
     "execution_count": 26,
     "metadata": {},
     "output_type": "execute_result"
    }
   ],
   "source": [
    "loose_card.shape"
   ]
  },
  {
   "cell_type": "code",
   "execution_count": 25,
   "metadata": {},
   "outputs": [
    {
     "data": {
      "text/plain": [
       "1043"
      ]
     },
     "execution_count": 25,
     "metadata": {},
     "output_type": "execute_result"
    }
   ],
   "source": [
    "len(loose_card['ORF_ID'].unique())"
   ]
  },
  {
   "cell_type": "code",
   "execution_count": 3,
   "metadata": {},
   "outputs": [
    {
     "data": {
      "text/plain": [
       "ORF_ID                   562.23635.con.0032_14|562.23635 562.23635.con....\n",
       "CONTIG                   ID=32_14;partial=00;start_type=ATG;rbs_motif=G...\n",
       "START                                                                10880\n",
       "STOP                                                                 12184\n",
       "ORIENTATION                                                              +\n",
       "CUT_OFF                                                              Loose\n",
       "PASS_EVALUE                                                            NaN\n",
       "Best_Hit_evalue                                                5.92086e-07\n",
       "Best_Hit_ARO                                                          norA\n",
       "Best_Identities                                                      28.91\n",
       "ARO                      ARO:3003006, ARO:3002702, ARO:3002704, ARO:300...\n",
       "ARO_name                 emrY, mefC, lrfA, rosA, norB, norA, qacB, qacA...\n",
       "Model_type                                           protein homolog model\n",
       "SNP                                                                    NaN\n",
       "Best_Hit_ARO_category    efflux pump complex or subunit conferring anti...\n",
       "ARO_category             determinant of elfamycin resistance; efflux pu...\n",
       "PASS_bitscore                                                          990\n",
       "Best_Hit_bitscore                                                  47.3654\n",
       "bit_score                36.1946, 25.0238, 31.9574, 31.9574, 24.6386, 4...\n",
       "Predicted_DNA                                                          NaN\n",
       "Predicted_Protein        MHARSAREINQCYRTLRPRLLMCMIIGYAAFYLTRKSVNYVLPALQ...\n",
       "CARD_Protein_Sequence    MKKQLFILYFNIFLIFLGIGLVIPVLPVYLKDLGLKGSDLGMLVAA...\n",
       "LABEL                    562.23635.con.0032_14|562.23635 562.23635.con....\n",
       "ID                                             gnl|BL_ORD_ID|463|hsp_num:0\n",
       "Model_id                                                              1554\n",
       "Name: 23, dtype: object"
      ]
     },
     "execution_count": 3,
     "metadata": {},
     "output_type": "execute_result"
    }
   ],
   "source": [
    "loose_card.iloc[1]"
   ]
  },
  {
   "cell_type": "code",
   "execution_count": 4,
   "metadata": {},
   "outputs": [
    {
     "data": {
      "text/plain": [
       "0"
      ]
     },
     "execution_count": 4,
     "metadata": {},
     "output_type": "execute_result"
    }
   ],
   "source": [
    "# Do any of them contain antibiotic targets?\n",
    "loose_card['ARO'].str.contains('ARO:3000708').sum() #antibiotic target "
   ]
  },
  {
   "cell_type": "code",
   "execution_count": 5,
   "metadata": {},
   "outputs": [
    {
     "data": {
      "text/plain": [
       "0"
      ]
     },
     "execution_count": 5,
     "metadata": {},
     "output_type": "execute_result"
    }
   ],
   "source": [
    "loose_card['ARO'].str.contains('ARO:3000709').sum() # subterm: cell wall synthesis enzyme targeted by antibiotic"
   ]
  },
  {
   "cell_type": "code",
   "execution_count": 6,
   "metadata": {},
   "outputs": [
    {
     "data": {
      "text/plain": [
       "0"
      ]
     },
     "execution_count": 6,
     "metadata": {},
     "output_type": "execute_result"
    }
   ],
   "source": [
    "loose_card['ARO'].str.contains('ARO:3000749').sum() # subterm: beta-lactam sensitive penicillin-binding protein"
   ]
  },
  {
   "cell_type": "code",
   "execution_count": 7,
   "metadata": {},
   "outputs": [
    {
     "data": {
      "text/plain": [
       "0"
      ]
     },
     "execution_count": 7,
     "metadata": {},
     "output_type": "execute_result"
    }
   ],
   "source": [
    "loose_card['ARO'].str.contains('ARO:3003040').sum() # beta-lactam resistant penicillin-binding proteins"
   ]
  },
  {
   "cell_type": "code",
   "execution_count": 15,
   "metadata": {},
   "outputs": [
    {
     "data": {
      "text/plain": [
       "Series([], Name: ARO_name, dtype: object)"
      ]
     },
     "execution_count": 15,
     "metadata": {},
     "output_type": "execute_result"
    }
   ],
   "source": [
    "loose_card.loc[loose_card['ARO_category'].str.contains('penicillin-binding')]['ARO_name']"
   ]
  },
  {
   "cell_type": "code",
   "execution_count": 16,
   "metadata": {},
   "outputs": [
    {
     "data": {
      "text/plain": [
       "0"
      ]
     },
     "execution_count": 16,
     "metadata": {},
     "output_type": "execute_result"
    }
   ],
   "source": [
    "# Do any of them contain antibiotic targets?\n",
    "loose_card['ARO'].str.contains('ARO:3000711').sum() #protein synthesis"
   ]
  },
  {
   "cell_type": "code",
   "execution_count": 23,
   "metadata": {},
   "outputs": [
    {
     "data": {
      "text/plain": [
       "Best_Hit_ARO_category\n",
       "antibiotic inactivation enzyme; determinant of aminoglycoside resistance                                                                                                                                                             21\n",
       "antibiotic inactivation enzyme; determinant of aminoglycoside resistance; determinant of fluoroquinolone resistance                                                                                                                   2\n",
       "antibiotic inactivation enzyme; determinant of beta-lactam resistance                                                                                                                                                                21\n",
       "antibiotic inactivation enzyme; determinant of beta-lactam resistance; gene modulating beta-lactam resistance                                                                                                                        26\n",
       "antibiotic inactivation enzyme; determinant of fosfomycin resistance                                                                                                                                                                  5\n",
       "antibiotic inactivation enzyme; determinant of macrolide resistance                                                                                                                                                                   5\n",
       "antibiotic inactivation enzyme; determinant of streptogramin resistance                                                                                                                                                              31\n",
       "antibiotic inactivation enzyme; determinant of tetracycline resistance                                                                                                                                                                2\n",
       "antibiotic resistance gene cluster, cassette, or operon; determinant of beta-lactam resistance; antibiotic target replacement protein                                                                                                 1\n",
       "antibiotic resistant gene variant or mutant; determinant of beta-lactam resistance                                                                                                                                                    2\n",
       "antibiotic resistant gene variant or mutant; determinant of elfamycin resistance                                                                                                                                                      1\n",
       "antibiotic resistant gene variant or mutant; determinant of fluoroquinolone resistance                                                                                                                                                2\n",
       "antibiotic resistant gene variant or mutant; determinant of isoniazid resistance                                                                                                                                                      6\n",
       "antibiotic resistant gene variant or mutant; determinant of isoniazid resistance; determinant of triclosan resistance                                                                                                                 1\n",
       "antibiotic resistant gene variant or mutant; determinant of pyrazinamide resistance                                                                                                                                                   1\n",
       "antibiotic resistant gene variant or mutant; determinant of resistance to lipopeptide antibiotics                                                                                                                                     1\n",
       "antibiotic target modifying enzyme                                                                                                                                                                                                    1\n",
       "antibiotic target modifying enzyme; determinant of aminoglycoside resistance                                                                                                                                                          1\n",
       "antibiotic target modifying enzyme; determinant of lincosamide resistance; determinant of macrolide resistance; determinant of streptogramin resistance                                                                               3\n",
       "antibiotic target modifying enzyme; determinant of resistance to peptide antibiotics                                                                                                                                                  4\n",
       "antibiotic target modifying enzyme; determinant of resistance to peptide antibiotics; gene altering cell wall charge                                                                                                                  1\n",
       "antibiotic target modifying enzyme; gene involved in self-resistance to antibiotic; determinant of macrolide resistance                                                                                                               1\n",
       "antibiotic target protection protein; determinant of fluoroquinolone resistance                                                                                                                                                      13\n",
       "antibiotic target protection protein; determinant of tetracycline resistance                                                                                                                                                          4\n",
       "antibiotic target replacement protein; determinant of diaminopyrimidine resistance                                                                                                                                                   12\n",
       "antibiotic target replacement protein; determinant of sulfonamide resistance                                                                                                                                                          4\n",
       "determinant of aminoglycoside resistance; protein(s) and two-component regulatory system modulating antibiotic efflux                                                                                                                 4\n",
       "determinant of fosfomycin resistance; antibiotic resistant gene variant or mutant                                                                                                                                                     2\n",
       "determinant of lincosamide resistance; antibiotic inactivation enzyme                                                                                                                                                                 2\n",
       "determinant of linezolid resistance; determinant of macrolide resistance; antibiotic target modifying enzyme; determinant of phenicol resistance; determinant of lincosamide resistance; determinant of streptogramin resistance      1\n",
       "determinant of macrolide resistance; antibiotic inactivation enzyme                                                                                                                                                                   1\n",
       "determinant of mupirocin resistance; antibiotic resistant gene variant or mutant                                                                                                                                                      4\n",
       "determinant of phenicol resistance; antibiotic inactivation enzyme                                                                                                                                                                   36\n",
       "determinant of polymyxin resistance; gene altering cell wall charge                                                                                                                                                                  65\n",
       "determinant of resistance to glycopeptide antibiotics; antibiotic resistance gene cluster, cassette, or operon; protein(s) conferring antibiotic resistance via molecular bypass                                                     23\n",
       "determinant of resistance to glycopeptide antibiotics; gene involved in antibiotic sequestration                                                                                                                                      1\n",
       "determinant of resistance to glycopeptide antibiotics; protein(s) conferring antibiotic resistance via molecular bypass; antibiotic resistance gene cluster, cassette, or operon                                                     25\n",
       "determinant of resistance to nucleoside antibiotics; antibiotic inactivation enzyme                                                                                                                                                   3\n",
       "determinant of resistance to peptide antibiotics; protein(s) conferring antibiotic resistance via molecular bypass                                                                                                                    1\n",
       "determinant of rifamycin resistance; antibiotic inactivation enzyme                                                                                                                                                                   3\n",
       "efflux pump complex or subunit conferring antibiotic resistance                                                                                                                                                                     401\n",
       "efflux pump complex or subunit conferring antibiotic resistance; antibiotic resistant gene variant or mutant; protein(s) and two-component regulatory system modulating antibiotic efflux                                             6\n",
       "efflux pump complex or subunit conferring antibiotic resistance; determinant of elfamycin resistance                                                                                                                                  2\n",
       "efflux pump complex or subunit conferring antibiotic resistance; determinant of sulfonamide resistance; protein(s) and two-component regulatory system modulating antibiotic efflux                                                  21\n",
       "efflux pump complex or subunit conferring antibiotic resistance; protein modulating permeability to antibiotic; protein(s) and two-component regulatory system modulating antibiotic efflux                                           9\n",
       "efflux pump complex or subunit conferring antibiotic resistance; protein(s) and two-component regulatory system modulating antibiotic efflux                                                                                        227\n",
       "gene conferring resistance via absence; protein modulating permeability to antibiotic                                                                                                                                                 3\n",
       "gene involved in self-resistance to antibiotic; antibiotic resistant gene variant or mutant; determinant of elfamycin resistance                                                                                                      5\n",
       "gene involved in self-resistance to antibiotic; antibiotic resistant gene variant or mutant; determinant of fluoroquinolone resistance                                                                                                1\n",
       "gene involved in self-resistance to antibiotic; determinant of aminocoumarin resistance; antibiotic resistant gene variant or mutant                                                                                                  1\n",
       "protein modulating permeability to antibiotic                                                                                                                                                                                        16\n",
       "protein(s) and two-component regulatory system modulating antibiotic efflux                                                                                                                                                           7\n",
       "protein(s) conferring antibiotic resistance via molecular bypass; determinant of tetracycline resistance                                                                                                                              1\n",
       "Name: ORF_ID, dtype: int64"
      ]
     },
     "execution_count": 23,
     "metadata": {},
     "output_type": "execute_result"
    }
   ],
   "source": [
    "# see category\n",
    "%matplotlib inline\n",
    "loose_card.groupby(by = 'Best_Hit_ARO_category').count()['ORF_ID']"
   ]
  },
  {
   "cell_type": "code",
   "execution_count": 39,
   "metadata": {},
   "outputs": [],
   "source": [
    "parsed_category = loose_card['Best_Hit_ARO_category'].apply(lambda x: x.split('; '))\n",
    "flattened_list = [y for x in parsed_category for y in x]\n",
    "all_category = pd.DataFrame(index = loose_card.index, columns = list(set(flattened_list)))\n",
    "n = 0\n",
    "for p in parsed_category:\n",
    "    i = loose_card.index[n]\n",
    "    all_category.loc[i, p] = True\n",
    "    \n",
    "    n += 1\n",
    "            "
   ]
  },
  {
   "cell_type": "code",
   "execution_count": 42,
   "metadata": {},
   "outputs": [],
   "source": [
    "all_category.fillna(False, inplace = True)"
   ]
  },
  {
   "cell_type": "code",
   "execution_count": 46,
   "metadata": {},
   "outputs": [
    {
     "data": {
      "text/plain": [
       "determinant of isoniazid resistance                       7\n",
       "determinant of pyrazinamide resistance                    1\n",
       "determinant of resistance to nucleoside antibiotics       3\n",
       "determinant of triclosan resistance                       1\n",
       "determinant of tetracycline resistance                    7\n",
       "determinant of resistance to peptide antibiotics          6\n",
       "determinant of lincosamide resistance                     6\n",
       "determinant of resistance to lipopeptide antibiotics      1\n",
       "determinant of beta-lactam resistance                    50\n",
       "determinant of fosfomycin resistance                      7\n",
       "determinant of linezolid resistance                       1\n",
       "determinant of macrolide resistance                      11\n",
       "determinant of aminocoumarin resistance                   1\n",
       "determinant of fluoroquinolone resistance                18\n",
       "determinant of aminoglycoside resistance                 28\n",
       "determinant of streptogramin resistance                  35\n",
       "determinant of mupirocin resistance                       4\n",
       "determinant of phenicol resistance                       37\n",
       "determinant of rifamycin resistance                       3\n",
       "determinant of elfamycin resistance                       8\n",
       "determinant of polymyxin resistance                      65\n",
       "determinant of sulfonamide resistance                    25\n",
       "determinant of diaminopyrimidine resistance              12\n",
       "determinant of resistance to glycopeptide antibiotics    49\n",
       "dtype: int64"
      ]
     },
     "execution_count": 46,
     "metadata": {},
     "output_type": "execute_result"
    }
   ],
   "source": [
    "all_category.loc[:, all_category.columns.str.contains('determinant')].sum()"
   ]
  },
  {
   "cell_type": "code",
   "execution_count": 48,
   "metadata": {},
   "outputs": [
    {
     "data": {
      "text/plain": [
       "7"
      ]
     },
     "execution_count": 48,
     "metadata": {},
     "output_type": "execute_result"
    }
   ],
   "source": [
    "sum(all_category.loc[:, all_category.columns.str.contains('determinant')].sum(axis = 1)>1)"
   ]
  },
  {
   "cell_type": "code",
   "execution_count": null,
   "metadata": {},
   "outputs": [],
   "source": []
  }
 ],
 "metadata": {
  "kernelspec": {
   "display_name": "Python 3",
   "language": "python",
   "name": "python3"
  },
  "language_info": {
   "codemirror_mode": {
    "name": "ipython",
    "version": 3
   },
   "file_extension": ".py",
   "mimetype": "text/x-python",
   "name": "python",
   "nbconvert_exporter": "python",
   "pygments_lexer": "ipython3",
   "version": "3.6.7"
  }
 },
 "nbformat": 4,
 "nbformat_minor": 2
}
