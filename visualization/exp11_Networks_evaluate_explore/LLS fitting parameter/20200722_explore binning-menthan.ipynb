{
 "cells": [
  {
   "cell_type": "markdown",
   "metadata": {},
   "source": [
    "# Choosing optimal number of bins by MSE"
   ]
  },
  {
   "cell_type": "code",
   "execution_count": 4,
   "metadata": {},
   "outputs": [],
   "source": [
    "import pandas as pd\n",
    "import matplotlib.pyplot as plt\n",
    "all_chunk = pd.read_csv('~/data0118/joined_smpl/eskape_GO_smpl_rm_plasmid')\n",
    "score = 'Score'"
   ]
  },
  {
   "cell_type": "code",
   "execution_count": 2,
   "metadata": {},
   "outputs": [
    {
     "data": {
      "text/plain": [
       "(13552, 8)"
      ]
     },
     "execution_count": 2,
     "metadata": {},
     "output_type": "execute_result"
    }
   ],
   "source": [
    "all_chunk.shape"
   ]
  },
  {
   "cell_type": "code",
   "execution_count": 5,
   "metadata": {},
   "outputs": [
    {
     "data": {
      "text/html": [
       "<div>\n",
       "<style scoped>\n",
       "    .dataframe tbody tr th:only-of-type {\n",
       "        vertical-align: middle;\n",
       "    }\n",
       "\n",
       "    .dataframe tbody tr th {\n",
       "        vertical-align: top;\n",
       "    }\n",
       "\n",
       "    .dataframe thead th {\n",
       "        text-align: right;\n",
       "    }\n",
       "</style>\n",
       "<table border=\"1\" class=\"dataframe\">\n",
       "  <thead>\n",
       "    <tr style=\"text-align: right;\">\n",
       "      <th></th>\n",
       "      <th>Unnamed: 0</th>\n",
       "      <th>gene_one</th>\n",
       "      <th>gene_two</th>\n",
       "      <th>goldstandard</th>\n",
       "      <th>mutual_info</th>\n",
       "      <th>nrm_mutual</th>\n",
       "    </tr>\n",
       "  </thead>\n",
       "  <tbody>\n",
       "    <tr>\n",
       "      <th>0</th>\n",
       "      <td>0</td>\n",
       "      <td>562.22861.con.0021_43|562.22861</td>\n",
       "      <td>562.22936.con.0029_47|562.22936</td>\n",
       "      <td>0</td>\n",
       "      <td>0.009989</td>\n",
       "      <td>0.051208</td>\n",
       "    </tr>\n",
       "    <tr>\n",
       "      <th>1</th>\n",
       "      <td>1</td>\n",
       "      <td>562.22861.con.0021_43|562.22861</td>\n",
       "      <td>562.23178.con.0026_54|562.23178</td>\n",
       "      <td>0</td>\n",
       "      <td>0.020734</td>\n",
       "      <td>0.025990</td>\n",
       "    </tr>\n",
       "    <tr>\n",
       "      <th>2</th>\n",
       "      <td>2</td>\n",
       "      <td>562.22861.con.0021_43|562.22861</td>\n",
       "      <td>562.23184.con.0019_75|562.23184</td>\n",
       "      <td>0</td>\n",
       "      <td>0.048448</td>\n",
       "      <td>0.061330</td>\n",
       "    </tr>\n",
       "    <tr>\n",
       "      <th>3</th>\n",
       "      <td>3</td>\n",
       "      <td>562.22861.con.0021_43|562.22861</td>\n",
       "      <td>562.23283.con.0052_14|562.23283</td>\n",
       "      <td>0</td>\n",
       "      <td>0.003881</td>\n",
       "      <td>0.009851</td>\n",
       "    </tr>\n",
       "    <tr>\n",
       "      <th>4</th>\n",
       "      <td>4</td>\n",
       "      <td>562.22861.con.0021_43|562.22861</td>\n",
       "      <td>562.23366.con.0034_15|562.23366</td>\n",
       "      <td>0</td>\n",
       "      <td>0.036965</td>\n",
       "      <td>0.049828</td>\n",
       "    </tr>\n",
       "  </tbody>\n",
       "</table>\n",
       "</div>"
      ],
      "text/plain": [
       "   Unnamed: 0                         gene_one  \\\n",
       "0           0  562.22861.con.0021_43|562.22861   \n",
       "1           1  562.22861.con.0021_43|562.22861   \n",
       "2           2  562.22861.con.0021_43|562.22861   \n",
       "3           3  562.22861.con.0021_43|562.22861   \n",
       "4           4  562.22861.con.0021_43|562.22861   \n",
       "\n",
       "                          gene_two  goldstandard  mutual_info  nrm_mutual  \n",
       "0  562.22936.con.0029_47|562.22936             0     0.009989    0.051208  \n",
       "1  562.23178.con.0026_54|562.23178             0     0.020734    0.025990  \n",
       "2  562.23184.con.0019_75|562.23184             0     0.048448    0.061330  \n",
       "3  562.23283.con.0052_14|562.23283             0     0.003881    0.009851  \n",
       "4  562.23366.con.0034_15|562.23366             0     0.036965    0.049828  "
      ]
     },
     "execution_count": 5,
     "metadata": {},
     "output_type": "execute_result"
    }
   ],
   "source": [
    "all_chunk.head()"
   ]
  },
  {
   "cell_type": "code",
   "execution_count": 5,
   "metadata": {},
   "outputs": [
    {
     "data": {
      "text/plain": [
       "Text(0.5, 1.0, 'Mentha score distribution')"
      ]
     },
     "execution_count": 5,
     "metadata": {},
     "output_type": "execute_result"
    },
    {
     "data": {
      "image/png": "[encoded data removed]",
      "text/plain": [
       "<Figure size 432x288 with 1 Axes>"
      ]
     },
     "metadata": {
      "needs_background": "light"
     },
     "output_type": "display_data"
    }
   ],
   "source": [
    "all_chunk[score].hist(bins = 100)\n",
    "plt.xlabel('mentha score')\n",
    "plt.ylabel('# edges')\n",
    "plt.title('Mentha score distribution')"
   ]
  },
  {
   "cell_type": "code",
   "execution_count": 6,
   "metadata": {},
   "outputs": [
    {
     "data": {
      "text/plain": [
       "73"
      ]
     },
     "execution_count": 6,
     "metadata": {},
     "output_type": "execute_result"
    }
   ],
   "source": [
    "len(all_chunk[score].unique())"
   ]
  },
  {
   "cell_type": "code",
   "execution_count": 7,
   "metadata": {},
   "outputs": [
    {
     "data": {
      "text/plain": [
       "0.997"
      ]
     },
     "execution_count": 7,
     "metadata": {},
     "output_type": "execute_result"
    }
   ],
   "source": [
    "all_chunk[score].max()"
   ]
  },
  {
   "cell_type": "code",
   "execution_count": 8,
   "metadata": {},
   "outputs": [],
   "source": [
    "def evaluate_fitting(lls_score, new_lls):\n",
    "    ''' return MSE between fit and original score'''\n",
    "    return np.sum((lls_score.values - new_lls.values)**2)/len(lls_score)"
   ]
  },
  {
   "cell_type": "code",
   "execution_count": 9,
   "metadata": {},
   "outputs": [
    {
     "name": "stdout",
     "output_type": "stream",
     "text": [
      "2.0099350566921363\n",
      "2.2818687721757778\n",
      "2.2818687721757778\n",
      "3.485841576501714\n",
      "3.485841576501714\n",
      "3.2626980251875044\n",
      "3.2626980251875044\n",
      "3.2626980251875044\n",
      "3.2626980251875044\n",
      "3.2626980251875044\n",
      "3.2626980251875044\n",
      "3.2626980251875044\n",
      "3.2626980251875044\n",
      "3.2626980251875044\n",
      "3.2626980251875044\n",
      "3.2626980251875044\n",
      "3.2626980251875044\n",
      "3.2626980251875044\n",
      "3.2626980251875044\n",
      "3.2626980251875044\n",
      "3.2626980251875044\n",
      "3.2626980251875044\n",
      "3.2626980251875044\n",
      "3.2626980251875044\n",
      "3.2626980251875044\n",
      "3.2626980251875044\n",
      "3.2626980251875044\n",
      "3.2626980251875044\n",
      "3.2626980251875044\n",
      "3.2626980251875044\n",
      "3.2626980251875044\n",
      "3.2626980251875044\n",
      "3.2626980251875044\n",
      "3.2626980251875044\n",
      "3.2626980251875044\n",
      "3.2626980251875044\n",
      "3.2626980251875044\n",
      "3.2626980251875044\n",
      "3.2626980251875044\n",
      "3.2626980251875044\n",
      "3.2626980251875044\n",
      "3.2626980251875044\n",
      "3.2626980251875044\n",
      "3.2626980251875044\n",
      "3.2626980251875044\n",
      "3.2626980251875044\n",
      "3.2626980251875044\n",
      "3.2626980251875044\n",
      "3.2626980251875044\n",
      "3.2626980251875044\n",
      "3.2626980251875044\n",
      "3.2626980251875044\n",
      "3.2626980251875044\n",
      "3.2626980251875044\n",
      "3.2626980251875044\n",
      "3.2626980251875044\n",
      "3.2626980251875044\n",
      "3.2626980251875044\n",
      "3.2626980251875044\n"
     ]
    },
    {
     "data": {
      "text/plain": [
       "Text(0.5, 1.0, 'Determine optimal number of bins')"
      ]
     },
     "execution_count": 9,
     "metadata": {},
     "output_type": "execute_result"
    },
    {
     "data": {
      "image/png": "[encoded data removed]",
      "text/plain": [
       "<Figure size 432x288 with 1 Axes>"
      ]
     },
     "metadata": {
      "needs_background": "light"
     },
     "output_type": "display_data"
    }
   ],
   "source": [
    "from Genome.goldstandard_pair.lls import *\n",
    "import numpy as np\n",
    "import matplotlib.pyplot as plt\n",
    "bin_to_try = list(np.arange(5,300, 5))\n",
    "mse = []\n",
    "for b in bin_to_try:\n",
    "    \n",
    "    lls_score = lls_for_other(all_chunk, score, bins = b)\n",
    "    \n",
    "    print(lls_score.max())\n",
    "    \n",
    "    if lls_score.max()>=3:\n",
    "    \n",
    "        true_thres, slope, intercept = lls_regress_thres(lls_score)\n",
    "    \n",
    "        new_lls = map_lls(lls_score, true_thres, slope, intercept)\n",
    "        mse.append(evaluate_fitting(lls_score, new_lls))\n",
    "    else:\n",
    "        mse.append(None)\n",
    "    \n",
    "plt.plot(bin_to_try, mse, '-o')\n",
    "plt.xlabel('# bins')\n",
    "plt.ylabel('MSE')\n",
    "plt.title('Determine optimal number of bins')"
   ]
  },
  {
   "cell_type": "code",
   "execution_count": 10,
   "metadata": {},
   "outputs": [],
   "source": [
    "%matplotlib inline\n",
    "\n",
    "def wrap_for_diff_score(score, all_chunk, bins = 20):\n",
    "    lls_score = lls_for_other(all_chunk, score, bins = bins)\n",
    "    print(lls_score.max())\n",
    "    true_thres, slope, intercept = lls_regress_thres(lls_score)\n",
    "    new_lls = map_lls(lls_score, true_thres, slope, intercept)\n",
    "    all_chunk = map_score_to_lls(all_chunk, new_lls, score)\n",
    "    tradeoff = try_diff_lls_thres(all_chunk)\n",
    "    return(new_lls, all_chunk,lls_score, tradeoff, true_thres)"
   ]
  },
  {
   "cell_type": "code",
   "execution_count": 11,
   "metadata": {},
   "outputs": [
    {
     "name": "stdout",
     "output_type": "stream",
     "text": [
      "3.485841576501714\n"
     ]
    }
   ],
   "source": [
    "new_lls, all_chunk,lls_score, tradeoff, true_thres = wrap_for_diff_score(score, all_chunk, bins = 20)"
   ]
  },
  {
   "cell_type": "code",
   "execution_count": 12,
   "metadata": {},
   "outputs": [
    {
     "data": {
      "text/plain": [
       "<matplotlib.legend.Legend at 0x7f9a555b06d8>"
      ]
     },
     "execution_count": 12,
     "metadata": {},
     "output_type": "execute_result"
    },
    {
     "data": {
      "image/png": "[encoded data removed]",
      "text/plain": [
       "<Figure size 432x288 with 1 Axes>"
      ]
     },
     "metadata": {
      "needs_background": "light"
     },
     "output_type": "display_data"
    }
   ],
   "source": [
    "plt.plot(lls_score, '+', label = 'binned LLS', color = 'grey')\n",
    "plt.plot(new_lls, '-', label = 'fitted LLS', color = 'navy', alpha = 0.6)\n",
    "\n",
    "plt.title('Mentha')\n",
    "plt.xlabel('Mentha score bins')\n",
    "plt.ylabel('LLS')\n",
    "plt.legend()"
   ]
  },
  {
   "cell_type": "code",
   "execution_count": 19,
   "metadata": {},
   "outputs": [
    {
     "data": {
      "text/plain": [
       "3343"
      ]
     },
     "execution_count": 19,
     "metadata": {},
     "output_type": "execute_result"
    }
   ],
   "source": [
    "sum(all_chunk['lls']>3)"
   ]
  },
  {
   "cell_type": "code",
   "execution_count": null,
   "metadata": {},
   "outputs": [],
   "source": []
  }
 ],
 "metadata": {
  "kernelspec": {
   "display_name": "Python 3",
   "language": "python",
   "name": "python3"
  },
  "language_info": {
   "codemirror_mode": {
    "name": "ipython",
    "version": 3
   },
   "file_extension": ".py",
   "mimetype": "text/x-python",
   "name": "python",
   "nbconvert_exporter": "python",
   "pygments_lexer": "ipython3",
   "version": "3.6.10"
  }
 },
 "nbformat": 4,
 "nbformat_minor": 4
}
