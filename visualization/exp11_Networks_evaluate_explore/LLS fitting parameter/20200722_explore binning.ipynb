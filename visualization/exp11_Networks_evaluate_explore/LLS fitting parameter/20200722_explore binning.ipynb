{
 "cells": [
  {
   "cell_type": "markdown",
   "metadata": {},
   "source": [
    "# Choosing optimal number of bins by MSE"
   ]
  },
  {
   "cell_type": "code",
   "execution_count": 1,
   "metadata": {},
   "outputs": [],
   "source": [
    "import pandas as pd\n",
    "all_chunk = pd.read_csv('~/data0118/joined_smpl/domain_GO_smpl_rm_plasmid')\n",
    "score = 'weighted_mutual'"
   ]
  },
  {
   "cell_type": "code",
   "execution_count": 2,
   "metadata": {},
   "outputs": [
    {
     "data": {
      "text/plain": [
       "(1000000, 5)"
      ]
     },
     "execution_count": 2,
     "metadata": {},
     "output_type": "execute_result"
    }
   ],
   "source": [
    "all_chunk.shape"
   ]
  },
  {
   "cell_type": "code",
   "execution_count": 3,
   "metadata": {},
   "outputs": [
    {
     "data": {
      "text/plain": [
       "<matplotlib.axes._subplots.AxesSubplot at 0x7f739d338ac8>"
      ]
     },
     "execution_count": 3,
     "metadata": {},
     "output_type": "execute_result"
    },
    {
     "data": {
      "image/png": "[encoded data removed]",
      "text/plain": [
       "<Figure size 432x288 with 1 Axes>"
      ]
     },
     "metadata": {
      "needs_background": "light"
     },
     "output_type": "display_data"
    }
   ],
   "source": [
    "all_chunk[score].hist(bins = 100)"
   ]
  },
  {
   "cell_type": "code",
   "execution_count": 4,
   "metadata": {},
   "outputs": [
    {
     "data": {
      "text/plain": [
       "0.0059620640476961435"
      ]
     },
     "execution_count": 4,
     "metadata": {},
     "output_type": "execute_result"
    }
   ],
   "source": [
    "all_chunk[score].max()"
   ]
  },
  {
   "cell_type": "code",
   "execution_count": 5,
   "metadata": {},
   "outputs": [],
   "source": [
    "# drop bottom values\n",
    "bottom = all_chunk[score].min() + (all_chunk[score].max() - all_chunk['weighted_mutual'].min())*0.05\n",
    "drop_bottom_two_bins = (all_chunk.loc[all_chunk[score]>bottom])"
   ]
  },
  {
   "cell_type": "code",
   "execution_count": 6,
   "metadata": {},
   "outputs": [
    {
     "data": {
      "text/plain": [
       "(380, 5)"
      ]
     },
     "execution_count": 6,
     "metadata": {},
     "output_type": "execute_result"
    }
   ],
   "source": [
    "drop_bottom_two_bins.shape"
   ]
  },
  {
   "cell_type": "code",
   "execution_count": 7,
   "metadata": {},
   "outputs": [
    {
     "data": {
      "text/plain": [
       "<matplotlib.axes._subplots.AxesSubplot at 0x7f739b14be10>"
      ]
     },
     "execution_count": 7,
     "metadata": {},
     "output_type": "execute_result"
    },
    {
     "data": {
      "image/png": "[encoded data removed]",
      "text/plain": [
       "<Figure size 432x288 with 1 Axes>"
      ]
     },
     "metadata": {
      "needs_background": "light"
     },
     "output_type": "display_data"
    }
   ],
   "source": [
    "drop_bottom_two_bins[score].hist(bins = 100)"
   ]
  },
  {
   "cell_type": "code",
   "execution_count": 8,
   "metadata": {},
   "outputs": [],
   "source": [
    "def evaluate_fitting(lls_score, new_lls):\n",
    "    ''' return MSE between fit and original score'''\n",
    "    return np.sum((lls_score.values - new_lls.values)**2)/len(lls_score)"
   ]
  },
  {
   "cell_type": "code",
   "execution_count": 31,
   "metadata": {},
   "outputs": [
    {
     "name": "stdout",
     "output_type": "stream",
     "text": [
      "3.5181242566124613\n"
     ]
    },
    {
     "name": "stderr",
     "output_type": "stream",
     "text": [
      "/home/hermuba/miniconda3/lib/python3.6/site-packages/scipy/stats/_stats_mstats_common.py:130: RuntimeWarning: invalid value encountered in double_scalars\n",
      "  slope = r_num / ssxm\n",
      "/home/hermuba/miniconda3/lib/python3.6/site-packages/scipy/stats/_stats_mstats_common.py:140: RuntimeWarning: invalid value encountered in sqrt\n",
      "  t = r * np.sqrt(df / ((1.0 - r + TINY)*(1.0 + r + TINY)))\n",
      "/home/hermuba/miniconda3/lib/python3.6/site-packages/scipy/stats/_stats_mstats_common.py:142: RuntimeWarning: invalid value encountered in double_scalars\n",
      "  sterrest = np.sqrt((1 - r**2) * ssym / ssxm / df)\n"
     ]
    },
    {
     "name": "stdout",
     "output_type": "stream",
     "text": [
      "3.8193870889323756\n",
      "4.081544060358606\n",
      "4.45527739121649\n",
      "4.939284228207673\n",
      "5.5195970883787915\n",
      "5.5377726722102825\n",
      "5.565295911097788\n",
      "5.5718276687912915\n",
      "5.562095436361588\n",
      "5.582802442264155\n",
      "5.552901243005603\n",
      "5.453301101547727\n",
      "5.598047105191355\n",
      "5.605392859885262\n",
      "5.640970876656172\n",
      "5.602468233348996\n"
     ]
    },
    {
     "data": {
      "text/plain": [
       "Text(0.5, 1.0, 'Determine optimal number of bins')"
      ]
     },
     "execution_count": 31,
     "metadata": {},
     "output_type": "execute_result"
    },
    {
     "data": {
      "image/png": "[encoded data removed]",
      "text/plain": [
       "<Figure size 432x288 with 1 Axes>"
      ]
     },
     "metadata": {
      "needs_background": "light"
     },
     "output_type": "display_data"
    }
   ],
   "source": [
    "from Genome.goldstandard_pair.lls import *\n",
    "import numpy as np\n",
    "import matplotlib.pyplot as plt\n",
    "bin_to_try = list(np.arange(100,525, 25))\n",
    "mse = []\n",
    "for b in bin_to_try:\n",
    "    \n",
    "    lls_score = lls_for_domain(all_chunk, score, bins = b)\n",
    "    \n",
    "    print(lls_score.max())\n",
    "    \n",
    "    if lls_score.max()>=3:\n",
    "    \n",
    "        true_thres, slope, intercept = lls_regress_thres(lls_score)\n",
    "    \n",
    "        new_lls = map_lls(lls_score, true_thres, slope, intercept)\n",
    "        mse.append(evaluate_fitting(lls_score, new_lls))\n",
    "    else:\n",
    "        mse.append(None)\n",
    "    \n",
    "plt.plot(bin_to_try, mse, '-o')\n",
    "plt.xlabel('# bins')\n",
    "plt.ylabel('MSE')\n",
    "\n",
    "\n",
    "plt.title('Determine optimal number of bins')"
   ]
  },
  {
   "cell_type": "code",
   "execution_count": 10,
   "metadata": {},
   "outputs": [],
   "source": [
    "%matplotlib inline\n",
    "\n",
    "def wrap_for_diff_score(score, all_chunk, bins = 300):\n",
    "    lls_score = lls_for_domain(all_chunk, score, bins = bins)\n",
    "    print(lls_score.max())\n",
    "    true_thres, slope, intercept = lls_regress_thres(lls_score)\n",
    "    new_lls = map_lls(lls_score, true_thres, slope, intercept)\n",
    "    all_chunk = map_score_to_lls(all_chunk, new_lls, score)\n",
    "    tradeoff = try_diff_lls_thres(all_chunk)\n",
    "    return(new_lls, all_chunk,lls_score, tradeoff, true_thres)"
   ]
  },
  {
   "cell_type": "code",
   "execution_count": 11,
   "metadata": {},
   "outputs": [
    {
     "name": "stdout",
     "output_type": "stream",
     "text": [
      "5.5718276687912915\n"
     ]
    }
   ],
   "source": [
    "new_lls, all_chunk,lls_score, tradeoff, true_thres = wrap_for_diff_score(score, all_chunk)"
   ]
  },
  {
   "cell_type": "code",
   "execution_count": 30,
   "metadata": {},
   "outputs": [
    {
     "data": {
      "text/plain": [
       "<matplotlib.legend.Legend at 0x7f739a1a0240>"
      ]
     },
     "execution_count": 30,
     "metadata": {},
     "output_type": "execute_result"
    },
    {
     "data": {
      "image/png": "[encoded data removed]",
      "text/plain": [
       "<Figure size 432x288 with 1 Axes>"
      ]
     },
     "metadata": {
      "needs_background": "light"
     },
     "output_type": "display_data"
    }
   ],
   "source": [
    "plt.plot(lls_score, '+', label = 'binned LLS', color = 'grey')\n",
    "plt.plot(new_lls, '-', label = 'fitted LLS', color = 'navy', alpha = 0.6)\n",
    "\n",
    "plt.title('Domain Net')\n",
    "plt.xlabel('weighted mutual information bins')\n",
    "plt.ylabel('LLS')\n",
    "plt.legend()"
   ]
  },
  {
   "cell_type": "code",
   "execution_count": 21,
   "metadata": {},
   "outputs": [
    {
     "data": {
      "text/html": [
       "<div>\n",
       "<style scoped>\n",
       "    .dataframe tbody tr th:only-of-type {\n",
       "        vertical-align: middle;\n",
       "    }\n",
       "\n",
       "    .dataframe tbody tr th {\n",
       "        vertical-align: top;\n",
       "    }\n",
       "\n",
       "    .dataframe thead th {\n",
       "        text-align: right;\n",
       "    }\n",
       "</style>\n",
       "<table border=\"1\" class=\"dataframe\">\n",
       "  <thead>\n",
       "    <tr style=\"text-align: right;\">\n",
       "      <th></th>\n",
       "      <th>Unnamed: 0</th>\n",
       "      <th>gene_one</th>\n",
       "      <th>gene_two</th>\n",
       "      <th>goldstandard</th>\n",
       "      <th>weighted_mutual</th>\n",
       "      <th>cut_mutual</th>\n",
       "      <th>lls</th>\n",
       "      <th>ans</th>\n",
       "    </tr>\n",
       "  </thead>\n",
       "  <tbody>\n",
       "    <tr>\n",
       "      <th>24</th>\n",
       "      <td>24</td>\n",
       "      <td>562.10576.con.0002_214|562.10576</td>\n",
       "      <td>562.22520.con.0081_4|562.22520</td>\n",
       "      <td>0</td>\n",
       "      <td>0.000122</td>\n",
       "      <td>(3.74e-05, 0.00596]</td>\n",
       "      <td>5.573402</td>\n",
       "      <td>False</td>\n",
       "    </tr>\n",
       "    <tr>\n",
       "      <th>29</th>\n",
       "      <td>29</td>\n",
       "      <td>562.10576.con.0002_214|562.10576</td>\n",
       "      <td>562.22588.con.0052_3|562.22588</td>\n",
       "      <td>0</td>\n",
       "      <td>0.000057</td>\n",
       "      <td>(3.74e-05, 0.00596]</td>\n",
       "      <td>5.573402</td>\n",
       "      <td>False</td>\n",
       "    </tr>\n",
       "    <tr>\n",
       "      <th>809</th>\n",
       "      <td>317</td>\n",
       "      <td>562.10576.con.0005_122|562.10576</td>\n",
       "      <td>562.22715.con.0018_65|562.22715</td>\n",
       "      <td>1</td>\n",
       "      <td>0.000214</td>\n",
       "      <td>(3.74e-05, 0.00596]</td>\n",
       "      <td>5.573402</td>\n",
       "      <td>False</td>\n",
       "    </tr>\n",
       "    <tr>\n",
       "      <th>1711</th>\n",
       "      <td>287</td>\n",
       "      <td>562.10576.con.0005_118|562.10576</td>\n",
       "      <td>562.23322.con.0003_75|562.23322</td>\n",
       "      <td>1</td>\n",
       "      <td>0.000086</td>\n",
       "      <td>(3.74e-05, 0.00596]</td>\n",
       "      <td>5.573402</td>\n",
       "      <td>False</td>\n",
       "    </tr>\n",
       "    <tr>\n",
       "      <th>1770</th>\n",
       "      <td>346</td>\n",
       "      <td>562.10576.con.0005_122|562.10576</td>\n",
       "      <td>562.23322.con.0003_75|562.23322</td>\n",
       "      <td>1</td>\n",
       "      <td>0.000352</td>\n",
       "      <td>(3.74e-05, 0.00596]</td>\n",
       "      <td>5.573402</td>\n",
       "      <td>False</td>\n",
       "    </tr>\n",
       "    <tr>\n",
       "      <th>...</th>\n",
       "      <td>...</td>\n",
       "      <td>...</td>\n",
       "      <td>...</td>\n",
       "      <td>...</td>\n",
       "      <td>...</td>\n",
       "      <td>...</td>\n",
       "      <td>...</td>\n",
       "      <td>...</td>\n",
       "    </tr>\n",
       "    <tr>\n",
       "      <th>999157</th>\n",
       "      <td>66</td>\n",
       "      <td>JMUY01000009_5|1438670.3</td>\n",
       "      <td>JMVW01000033_15|1438696.3</td>\n",
       "      <td>0</td>\n",
       "      <td>0.000222</td>\n",
       "      <td>(3.74e-05, 0.00596]</td>\n",
       "      <td>5.573402</td>\n",
       "      <td>False</td>\n",
       "    </tr>\n",
       "    <tr>\n",
       "      <th>999350</th>\n",
       "      <td>259</td>\n",
       "      <td>JMUY01000015_3|1438670.3</td>\n",
       "      <td>JMUY01000019_16|1438670.3</td>\n",
       "      <td>1</td>\n",
       "      <td>0.000131</td>\n",
       "      <td>(3.74e-05, 0.00596]</td>\n",
       "      <td>5.573402</td>\n",
       "      <td>False</td>\n",
       "    </tr>\n",
       "    <tr>\n",
       "      <th>999751</th>\n",
       "      <td>146</td>\n",
       "      <td>JMVP01000027_274|1438687.3</td>\n",
       "      <td>MPCP01000004_129|562.12959</td>\n",
       "      <td>1</td>\n",
       "      <td>0.000053</td>\n",
       "      <td>(3.74e-05, 0.00596]</td>\n",
       "      <td>5.573402</td>\n",
       "      <td>False</td>\n",
       "    </tr>\n",
       "    <tr>\n",
       "      <th>999873</th>\n",
       "      <td>268</td>\n",
       "      <td>JMVW01000011_13|1438696.3</td>\n",
       "      <td>MPCO01000001_2180|562.12960</td>\n",
       "      <td>1</td>\n",
       "      <td>0.000179</td>\n",
       "      <td>(3.74e-05, 0.00596]</td>\n",
       "      <td>5.573402</td>\n",
       "      <td>False</td>\n",
       "    </tr>\n",
       "    <tr>\n",
       "      <th>999888</th>\n",
       "      <td>283</td>\n",
       "      <td>JMVW01000026_22|1438696.3</td>\n",
       "      <td>MJAL01000225_3|562.13502</td>\n",
       "      <td>1</td>\n",
       "      <td>0.000078</td>\n",
       "      <td>(3.74e-05, 0.00596]</td>\n",
       "      <td>5.573402</td>\n",
       "      <td>False</td>\n",
       "    </tr>\n",
       "  </tbody>\n",
       "</table>\n",
       "<p>3343 rows × 8 columns</p>\n",
       "</div>"
      ],
      "text/plain": [
       "        Unnamed: 0                          gene_one  \\\n",
       "24              24  562.10576.con.0002_214|562.10576   \n",
       "29              29  562.10576.con.0002_214|562.10576   \n",
       "809            317  562.10576.con.0005_122|562.10576   \n",
       "1711           287  562.10576.con.0005_118|562.10576   \n",
       "1770           346  562.10576.con.0005_122|562.10576   \n",
       "...            ...                               ...   \n",
       "999157          66          JMUY01000009_5|1438670.3   \n",
       "999350         259          JMUY01000015_3|1438670.3   \n",
       "999751         146        JMVP01000027_274|1438687.3   \n",
       "999873         268         JMVW01000011_13|1438696.3   \n",
       "999888         283         JMVW01000026_22|1438696.3   \n",
       "\n",
       "                               gene_two  goldstandard  weighted_mutual  \\\n",
       "24       562.22520.con.0081_4|562.22520             0         0.000122   \n",
       "29       562.22588.con.0052_3|562.22588             0         0.000057   \n",
       "809     562.22715.con.0018_65|562.22715             1         0.000214   \n",
       "1711    562.23322.con.0003_75|562.23322             1         0.000086   \n",
       "1770    562.23322.con.0003_75|562.23322             1         0.000352   \n",
       "...                                 ...           ...              ...   \n",
       "999157        JMVW01000033_15|1438696.3             0         0.000222   \n",
       "999350        JMUY01000019_16|1438670.3             1         0.000131   \n",
       "999751       MPCP01000004_129|562.12959             1         0.000053   \n",
       "999873      MPCO01000001_2180|562.12960             1         0.000179   \n",
       "999888         MJAL01000225_3|562.13502             1         0.000078   \n",
       "\n",
       "                 cut_mutual       lls    ans  \n",
       "24      (3.74e-05, 0.00596]  5.573402  False  \n",
       "29      (3.74e-05, 0.00596]  5.573402  False  \n",
       "809     (3.74e-05, 0.00596]  5.573402  False  \n",
       "1711    (3.74e-05, 0.00596]  5.573402  False  \n",
       "1770    (3.74e-05, 0.00596]  5.573402  False  \n",
       "...                     ...       ...    ...  \n",
       "999157  (3.74e-05, 0.00596]  5.573402  False  \n",
       "999350  (3.74e-05, 0.00596]  5.573402  False  \n",
       "999751  (3.74e-05, 0.00596]  5.573402  False  \n",
       "999873  (3.74e-05, 0.00596]  5.573402  False  \n",
       "999888  (3.74e-05, 0.00596]  5.573402  False  \n",
       "\n",
       "[3343 rows x 8 columns]"
      ]
     },
     "execution_count": 21,
     "metadata": {},
     "output_type": "execute_result"
    }
   ],
   "source": [
    "all_chunk.loc[all_chunk['lls']>3]"
   ]
  },
  {
   "cell_type": "code",
   "execution_count": 19,
   "metadata": {},
   "outputs": [
    {
     "data": {
      "text/plain": [
       "3343"
      ]
     },
     "execution_count": 19,
     "metadata": {},
     "output_type": "execute_result"
    }
   ],
   "source": [
    "sum(all_chunk['lls']>3)"
   ]
  },
  {
   "cell_type": "code",
   "execution_count": null,
   "metadata": {},
   "outputs": [],
   "source": []
  }
 ],
 "metadata": {
  "kernelspec": {
   "display_name": "Python 3",
   "language": "python",
   "name": "python3"
  },
  "language_info": {
   "codemirror_mode": {
    "name": "ipython",
    "version": 3
   },
   "file_extension": ".py",
   "mimetype": "text/x-python",
   "name": "python",
   "nbconvert_exporter": "python",
   "pygments_lexer": "ipython3",
   "version": "3.6.10"
  }
 },
 "nbformat": 4,
 "nbformat_minor": 4
}
