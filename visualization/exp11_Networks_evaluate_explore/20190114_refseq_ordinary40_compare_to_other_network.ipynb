{
 "cells": [
  {
   "cell_type": "markdown",
   "metadata": {},
   "source": [
    "- Created: 2018-12-08\n",
    "- Last modified: 2018-12-08\n",
    "- Purpose: to compare existing network `refseq75` to string data base E.coli PPI\n",
    "\n",
    "- Steps:\n",
    "1. ran diamond blastp --query REPRESENTING-GENES-ECOLI --db STRING-DB-SEQUENCES\n",
    "2. extract max `pident`, identity for each **STRING DB ID** (ex: 511145.b0002)\n",
    "3. remove all matches with less than 70% pident; 70% becuase we built pan-genome based on 70% threshold\n",
    "4. compare the links predicted by our net (refseq90) and STRING DB\n",
    "\n",
    "- Results: very few overlap\n",
    "\n",
    "- Interpretation\n",
    "1. There might be some problems with our net\n",
    "2. Our Net is trained based on GO-term sharing for functional prediction. Not all PPI has GO-term sharing (but expect many of them should have)"
   ]
  },
  {
   "cell_type": "code",
   "execution_count": 1,
   "metadata": {},
   "outputs": [],
   "source": [
    "import pandas as pd\n",
    "selected_edge = pd.read_csv('/home/hermuba/data0118/goldstandard/EC70_string_edges')"
   ]
  },
  {
   "cell_type": "code",
   "execution_count": 12,
   "metadata": {},
   "outputs": [
    {
     "data": {
      "text/plain": [
       "(1159522, 6)"
      ]
     },
     "execution_count": 12,
     "metadata": {},
     "output_type": "execute_result"
    }
   ],
   "source": [
    "selected_edge.shape"
   ]
  },
  {
   "cell_type": "code",
   "execution_count": 35,
   "metadata": {},
   "outputs": [
    {
     "data": {
      "text/html": [
       "<div>\n",
       "<style scoped>\n",
       "    .dataframe tbody tr th:only-of-type {\n",
       "        vertical-align: middle;\n",
       "    }\n",
       "\n",
       "    .dataframe tbody tr th {\n",
       "        vertical-align: top;\n",
       "    }\n",
       "\n",
       "    .dataframe thead th {\n",
       "        text-align: right;\n",
       "    }\n",
       "</style>\n",
       "<table border=\"1\" class=\"dataframe\">\n",
       "  <thead>\n",
       "    <tr style=\"text-align: right;\">\n",
       "      <th></th>\n",
       "      <th>Unnamed: 0</th>\n",
       "      <th>protein1</th>\n",
       "      <th>protein2</th>\n",
       "      <th>combined_score</th>\n",
       "      <th>gene_one</th>\n",
       "      <th>gene_two</th>\n",
       "    </tr>\n",
       "  </thead>\n",
       "  <tbody>\n",
       "    <tr>\n",
       "      <th>0</th>\n",
       "      <td>26</td>\n",
       "      <td>511145.b0002</td>\n",
       "      <td>511145.b3397</td>\n",
       "      <td>449</td>\n",
       "      <td>JMUY01000009_514386703</td>\n",
       "      <td>FLXF01000003_9056212961</td>\n",
       "    </tr>\n",
       "    <tr>\n",
       "      <th>1</th>\n",
       "      <td>27</td>\n",
       "      <td>511145.b0002</td>\n",
       "      <td>511145.b1338</td>\n",
       "      <td>453</td>\n",
       "      <td>JMUY01000009_514386703</td>\n",
       "      <td>JMVB01000033_11114386733</td>\n",
       "    </tr>\n",
       "    <tr>\n",
       "      <th>2</th>\n",
       "      <td>28</td>\n",
       "      <td>511145.b0002</td>\n",
       "      <td>511145.b1686</td>\n",
       "      <td>214</td>\n",
       "      <td>JMUY01000009_514386703</td>\n",
       "      <td>JMUY01000001_88514386703</td>\n",
       "    </tr>\n",
       "    <tr>\n",
       "      <th>3</th>\n",
       "      <td>29</td>\n",
       "      <td>511145.b0002</td>\n",
       "      <td>511145.b1341</td>\n",
       "      <td>167</td>\n",
       "      <td>JMUY01000009_514386703</td>\n",
       "      <td>NIPT01000031_756217733</td>\n",
       "    </tr>\n",
       "    <tr>\n",
       "      <th>4</th>\n",
       "      <td>30</td>\n",
       "      <td>511145.b0002</td>\n",
       "      <td>511145.b0060</td>\n",
       "      <td>180</td>\n",
       "      <td>JMUY01000009_514386703</td>\n",
       "      <td>FLWH01000007_15756212962</td>\n",
       "    </tr>\n",
       "  </tbody>\n",
       "</table>\n",
       "</div>"
      ],
      "text/plain": [
       "   Unnamed: 0      protein1      protein2  combined_score  \\\n",
       "0          26  511145.b0002  511145.b3397             449   \n",
       "1          27  511145.b0002  511145.b1338             453   \n",
       "2          28  511145.b0002  511145.b1686             214   \n",
       "3          29  511145.b0002  511145.b1341             167   \n",
       "4          30  511145.b0002  511145.b0060             180   \n",
       "\n",
       "                 gene_one                  gene_two  \n",
       "0  JMUY01000009_514386703   FLXF01000003_9056212961  \n",
       "1  JMUY01000009_514386703  JMVB01000033_11114386733  \n",
       "2  JMUY01000009_514386703  JMUY01000001_88514386703  \n",
       "3  JMUY01000009_514386703    NIPT01000031_756217733  \n",
       "4  JMUY01000009_514386703  FLWH01000007_15756212962  "
      ]
     },
     "execution_count": 35,
     "metadata": {},
     "output_type": "execute_result"
    }
   ],
   "source": [
    "selected_edge.head()"
   ]
  },
  {
   "cell_type": "code",
   "execution_count": 14,
   "metadata": {},
   "outputs": [],
   "source": [
    "selected_edge['gene_one']=selected_edge['gene_one'].str.replace('|', '').str.replace('.', '')\n",
    "selected_edge['gene_two']=selected_edge['gene_two'].str.replace('|', '').str.replace('.', '')"
   ]
  },
  {
   "cell_type": "markdown",
   "metadata": {},
   "source": [
    "# INPUT our net `eskape` and `refseq`"
   ]
  },
  {
   "cell_type": "code",
   "execution_count": 8,
   "metadata": {},
   "outputs": [],
   "source": [
    "def our_net_to_df(fname):\n",
    "    our_net = pd.read_csv(fname, sep = ',', names = ['gene_one', 'gene_two','mutual_info', 'nrm_mutual'])\n",
    "    return(our_net)"
   ]
  },
  {
   "cell_type": "code",
   "execution_count": 9,
   "metadata": {},
   "outputs": [],
   "source": [
    "# merge with refseq90\n",
    "refseq_path = '/home/hermuba/data0118/network1122/refseq_ordinary_40'\n",
    "refseq = our_net_to_df(refseq_path)"
   ]
  },
  {
   "cell_type": "code",
   "execution_count": 10,
   "metadata": {},
   "outputs": [
    {
     "data": {
      "text/html": [
       "<div>\n",
       "<style scoped>\n",
       "    .dataframe tbody tr th:only-of-type {\n",
       "        vertical-align: middle;\n",
       "    }\n",
       "\n",
       "    .dataframe tbody tr th {\n",
       "        vertical-align: top;\n",
       "    }\n",
       "\n",
       "    .dataframe thead th {\n",
       "        text-align: right;\n",
       "    }\n",
       "</style>\n",
       "<table border=\"1\" class=\"dataframe\">\n",
       "  <thead>\n",
       "    <tr style=\"text-align: right;\">\n",
       "      <th></th>\n",
       "      <th>gene_one</th>\n",
       "      <th>gene_two</th>\n",
       "      <th>mutual_info</th>\n",
       "      <th>nrm_mutual</th>\n",
       "    </tr>\n",
       "  </thead>\n",
       "  <tbody>\n",
       "    <tr>\n",
       "      <th>2281</th>\n",
       "      <td>JAPE01000025_10014001573</td>\n",
       "      <td>56223530con0006_18756223530</td>\n",
       "      <td>0.030776</td>\n",
       "      <td>0.705562</td>\n",
       "    </tr>\n",
       "    <tr>\n",
       "      <th>2329</th>\n",
       "      <td>JAPE01000025_10014001573</td>\n",
       "      <td>JAPE01000025_9414001573</td>\n",
       "      <td>0.046902</td>\n",
       "      <td>0.898091</td>\n",
       "    </tr>\n",
       "    <tr>\n",
       "      <th>5147</th>\n",
       "      <td>56222862con0019_156222862</td>\n",
       "      <td>JMUY01000005_55714386703</td>\n",
       "      <td>0.451230</td>\n",
       "      <td>0.760022</td>\n",
       "    </tr>\n",
       "    <tr>\n",
       "      <th>5485</th>\n",
       "      <td>56222862con0019_156222862</td>\n",
       "      <td>JMUY01000002_18614386703</td>\n",
       "      <td>0.468346</td>\n",
       "      <td>0.681487</td>\n",
       "    </tr>\n",
       "    <tr>\n",
       "      <th>5544</th>\n",
       "      <td>56222862con0019_156222862</td>\n",
       "      <td>56222549con0008_156222549</td>\n",
       "      <td>0.411484</td>\n",
       "      <td>0.659049</td>\n",
       "    </tr>\n",
       "  </tbody>\n",
       "</table>\n",
       "</div>"
      ],
      "text/plain": [
       "                       gene_one                     gene_two  mutual_info  \\\n",
       "2281   JAPE01000025_10014001573  56223530con0006_18756223530     0.030776   \n",
       "2329   JAPE01000025_10014001573      JAPE01000025_9414001573     0.046902   \n",
       "5147  56222862con0019_156222862     JMUY01000005_55714386703     0.451230   \n",
       "5485  56222862con0019_156222862     JMUY01000002_18614386703     0.468346   \n",
       "5544  56222862con0019_156222862    56222549con0008_156222549     0.411484   \n",
       "\n",
       "      nrm_mutual  \n",
       "2281    0.705562  \n",
       "2329    0.898091  \n",
       "5147    0.760022  \n",
       "5485    0.681487  \n",
       "5544    0.659049  "
      ]
     },
     "execution_count": 10,
     "metadata": {},
     "output_type": "execute_result"
    }
   ],
   "source": [
    "refseq.head()"
   ]
  },
  {
   "cell_type": "code",
   "execution_count": 11,
   "metadata": {},
   "outputs": [
    {
     "data": {
      "text/plain": [
       "(478627, 4)"
      ]
     },
     "execution_count": 11,
     "metadata": {},
     "output_type": "execute_result"
    }
   ],
   "source": [
    "refseq.shape #significantly less than string"
   ]
  },
  {
   "cell_type": "markdown",
   "metadata": {},
   "source": [
    "# compare interaction between `our net` and `STRING`"
   ]
  },
  {
   "cell_type": "code",
   "execution_count": 15,
   "metadata": {},
   "outputs": [],
   "source": [
    "def compare_net(our_net, string):\n",
    "    \n",
    "    our_links = [frozenset(x) for x in our_net[['gene_one', 'gene_two']].values]\n",
    "    string_links = [frozenset(x) for x in string[['gene_one', 'gene_two']].values]\n",
    "    \n",
    "    print(type(our_links))\n",
    "    ours = set(our_links)\n",
    "    strs = set(string_links)\n",
    "    \n",
    "    \n",
    "    return(len(ours.intersection(strs)), ours, strs)"
   ]
  },
  {
   "cell_type": "code",
   "execution_count": 16,
   "metadata": {},
   "outputs": [
    {
     "name": "stdout",
     "output_type": "stream",
     "text": [
      "<class 'list'>\n"
     ]
    }
   ],
   "source": [
    "common, ours, strs = compare_net(refseq, selected_edge)"
   ]
  },
  {
   "cell_type": "code",
   "execution_count": 20,
   "metadata": {},
   "outputs": [
    {
     "data": {
      "text/plain": [
       "43253"
      ]
     },
     "execution_count": 20,
     "metadata": {},
     "output_type": "execute_result"
    }
   ],
   "source": [
    "common #refseq hits 43253/1460960"
   ]
  },
  {
   "cell_type": "code",
   "execution_count": 18,
   "metadata": {},
   "outputs": [
    {
     "data": {
      "text/plain": [
       "460960"
      ]
     },
     "execution_count": 18,
     "metadata": {},
     "output_type": "execute_result"
    }
   ],
   "source": [
    "len(strs)"
   ]
  },
  {
   "cell_type": "code",
   "execution_count": 19,
   "metadata": {},
   "outputs": [
    {
     "data": {
      "text/plain": [
       "478627"
      ]
     },
     "execution_count": 19,
     "metadata": {},
     "output_type": "execute_result"
    }
   ],
   "source": [
    "len(ours) # 1/10 is supported by STRING"
   ]
  },
  {
   "cell_type": "code",
   "execution_count": 22,
   "metadata": {},
   "outputs": [],
   "source": [
    "# merging network\n",
    "path = '/home/hermuba/data0118/network1122/'\n",
    "fname = 'refseq_ordinary_40'\n",
    "import networkx as nx\n",
    "net = nx.read_edgelist(path + fname + '_edgelist', delimiter = ',', nodetype = str,)"
   ]
  },
  {
   "cell_type": "code",
   "execution_count": 23,
   "metadata": {},
   "outputs": [],
   "source": [
    "selected_edge[['gene_one', 'gene_two']].to_csv(path + 'string_edgelist', index = False, header = False, na_rep = 'nan')"
   ]
  },
  {
   "cell_type": "code",
   "execution_count": 40,
   "metadata": {},
   "outputs": [],
   "source": [
    "str_net = nx.read_edgelist(path + 'string_edgelist', delimiter = ',', nodetype = str,)"
   ]
  },
  {
   "cell_type": "code",
   "execution_count": 27,
   "metadata": {},
   "outputs": [],
   "source": [
    "import numpy as np\n",
    "def degree_dis(net):\n",
    "    degree_sequence = [d for n, d in net.degree()]\n",
    "\n",
    "\n",
    "    degree_sequence = np.asarray(degree_sequence)\n",
    "    return(degree_sequence)\n"
   ]
  },
  {
   "cell_type": "code",
   "execution_count": 42,
   "metadata": {},
   "outputs": [],
   "source": [
    "d = degree_dis(str_net)\n",
    "hist, bins = np.histogram(d, bins = 50)"
   ]
  },
  {
   "cell_type": "code",
   "execution_count": 44,
   "metadata": {},
   "outputs": [
    {
     "data": {
      "text/plain": [
       "<matplotlib.collections.PathCollection at 0x7fe2a060bc18>"
      ]
     },
     "execution_count": 44,
     "metadata": {},
     "output_type": "execute_result"
    },
    {
     "data": {
      "image/png": "[encoded data removed]",
      "text/plain": [
       "<Figure size 432x288 with 1 Axes>"
      ]
     },
     "metadata": {
      "needs_background": "light"
     },
     "output_type": "display_data"
    }
   ],
   "source": [
    "%matplotlib inline\n",
    "import matplotlib.pyplot as plt\n",
    "plt.title('Degree distribution')\n",
    "plt.xlabel('Degree')\n",
    "plt.ylabel('Frequency')\n",
    "plt.scatter(bins[:-1], hist)"
   ]
  },
  {
   "cell_type": "code",
   "execution_count": 45,
   "metadata": {},
   "outputs": [
    {
     "name": "stderr",
     "output_type": "stream",
     "text": [
      "/home/hermuba/miniconda3/lib/python3.6/site-packages/ipykernel_launcher.py:3: RuntimeWarning: divide by zero encountered in log10\n",
      "  This is separate from the ipykernel package so we can avoid doing imports until\n",
      "/home/hermuba/miniconda3/lib/python3.6/site-packages/numpy/lib/function_base.py:2320: RuntimeWarning: invalid value encountered in subtract\n",
      "  X -= avg[:, None]\n"
     ]
    },
    {
     "data": {
      "text/plain": [
       "Text(3, 3, 'r=nan')"
      ]
     },
     "execution_count": 45,
     "metadata": {},
     "output_type": "execute_result"
    },
    {
     "data": {
      "image/png": "[encoded data removed]",
      "text/plain": [
       "<Figure size 432x288 with 1 Axes>"
      ]
     },
     "metadata": {
      "needs_background": "light"
     },
     "output_type": "display_data"
    }
   ],
   "source": [
    "from scipy import stats\n",
    "logx = np.log10(bins[:-1])\n",
    "logy = np.log10(hist)\n",
    "\n",
    "slope, intercept, r_value, p_value, std_err = stats.linregress(logx, logy)\n",
    "line = slope*logx+ intercept\n",
    "\n",
    "\n",
    "plt.title('Degree distribution')\n",
    "plt.xlabel('Log 10 Degree')\n",
    "plt.ylabel('Log 10 Frequency')\n",
    "plt.plot(logx, logy, 'o',logx, line)\n",
    "plt.text(3,3,'r='+str(slope))"
   ]
  },
  {
   "cell_type": "code",
   "execution_count": 50,
   "metadata": {},
   "outputs": [],
   "source": [
    "combined = nx.compose(net, str_net)"
   ]
  },
  {
   "cell_type": "code",
   "execution_count": 51,
   "metadata": {},
   "outputs": [
    {
     "data": {
      "text/plain": [
       "896334"
      ]
     },
     "execution_count": 51,
     "metadata": {},
     "output_type": "execute_result"
    }
   ],
   "source": [
    "combined.number_of_edges()"
   ]
  },
  {
   "cell_type": "code",
   "execution_count": 53,
   "metadata": {},
   "outputs": [
    {
     "data": {
      "text/plain": [
       "18500"
      ]
     },
     "execution_count": 53,
     "metadata": {},
     "output_type": "execute_result"
    }
   ],
   "source": [
    "combined.number_of_nodes()"
   ]
  },
  {
   "cell_type": "code",
   "execution_count": 55,
   "metadata": {},
   "outputs": [
    {
     "data": {
      "text/plain": [
       "array([13541,   814,   410,   401,   451,   354,   305,   254,   226,\n",
       "         193,   193,   140,   124,   119,    64,    67,    66,    61,\n",
       "          54,    58,    61,    46,    53,    48,    47,    46,    40,\n",
       "          50,    34,    31,    37,    26,    19,    22,    22,     7,\n",
       "           7,     3,     1,     1,     2,     0,     0,     1,     0,\n",
       "           0,     0,     0,     0,     1])"
      ]
     },
     "execution_count": 55,
     "metadata": {},
     "output_type": "execute_result"
    }
   ],
   "source": [
    "hist"
   ]
  },
  {
   "cell_type": "code",
   "execution_count": 52,
   "metadata": {},
   "outputs": [
    {
     "name": "stderr",
     "output_type": "stream",
     "text": [
      "/home/hermuba/miniconda3/lib/python3.6/site-packages/ipykernel_launcher.py:5: RuntimeWarning: divide by zero encountered in log10\n",
      "  \"\"\"\n",
      "/home/hermuba/miniconda3/lib/python3.6/site-packages/numpy/lib/function_base.py:2320: RuntimeWarning: invalid value encountered in subtract\n",
      "  X -= avg[:, None]\n"
     ]
    },
    {
     "data": {
      "text/plain": [
       "Text(3, 3, 'r=nan')"
      ]
     },
     "execution_count": 52,
     "metadata": {},
     "output_type": "execute_result"
    },
    {
     "data": {
      "image/png": "[encoded data removed]",
      "text/plain": [
       "<Figure size 432x288 with 1 Axes>"
      ]
     },
     "metadata": {
      "needs_background": "light"
     },
     "output_type": "display_data"
    }
   ],
   "source": [
    "d = degree_dis(combined)\n",
    "hist, bins = np.histogram(d, bins = 50)\n",
    "from scipy import stats\n",
    "logx = np.log10(bins[:-1])\n",
    "logy = np.log10(hist)\n",
    "\n",
    "slope, intercept, r_value, p_value, std_err = stats.linregress(logx, logy)\n",
    "line = slope*logx+ intercept\n",
    "\n",
    "\n",
    "plt.title('Degree distribution')\n",
    "plt.xlabel('Log 10 Degree')\n",
    "plt.ylabel('Log 10 Frequency')\n",
    "plt.plot(logx, logy, 'o',logx, line)\n",
    "plt.text(3,3,'r='+str(slope))"
   ]
  },
  {
   "cell_type": "code",
   "execution_count": 56,
   "metadata": {},
   "outputs": [
    {
     "data": {
      "text/plain": [
       "17097"
      ]
     },
     "execution_count": 56,
     "metadata": {},
     "output_type": "execute_result"
    }
   ],
   "source": [
    "net.number_of_nodes()"
   ]
  },
  {
   "cell_type": "code",
   "execution_count": 57,
   "metadata": {},
   "outputs": [
    {
     "data": {
      "text/plain": [
       "3244"
      ]
     },
     "execution_count": 57,
     "metadata": {},
     "output_type": "execute_result"
    }
   ],
   "source": [
    "str_net.number_of_nodes()"
   ]
  },
  {
   "cell_type": "code",
   "execution_count": null,
   "metadata": {},
   "outputs": [],
   "source": []
  }
 ],
 "metadata": {
  "kernelspec": {
   "display_name": "Python 3",
   "language": "python",
   "name": "python3"
  },
  "language_info": {
   "codemirror_mode": {
    "name": "ipython",
    "version": 3
   },
   "file_extension": ".py",
   "mimetype": "text/x-python",
   "name": "python",
   "nbconvert_exporter": "python",
   "pygments_lexer": "ipython3",
   "version": "3.6.7"
  }
 },
 "nbformat": 4,
 "nbformat_minor": 2
}
