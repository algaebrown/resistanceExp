{
 "cells": [
  {
   "cell_type": "code",
   "execution_count": 2,
   "metadata": {},
   "outputs": [
    {
     "name": "stderr",
     "output_type": "stream",
     "text": [
      "/home/hermuba/anaconda3/lib/python3.6/site-packages/matplotlib/font_manager.py:279: UserWarning: Matplotlib is building the font cache using fc-list. This may take a moment.\n",
      "  'Matplotlib is building the font cache using fc-list. '\n"
     ]
    }
   ],
   "source": [
    "import pandas as pd\n",
    "import numpy as np\n",
    "import matplotlib as mpl\n",
    "import matplotlib.pyplot as plt\n",
    "\n",
    "### import data\n",
    "\n",
    "def txt_to_df(filename):\n",
    "    \n",
    "    path = \"/home/hermuba/res/data/data_from_dr_wu/\"\n",
    "    i = 0\n",
    "    with open(path + filename) as f:\n",
    "        for line in f:\n",
    "            l = line.replace('\\n', '').split('\\t')\n",
    "            if i == 0:\n",
    "                l[0] = \"Genome ID\"\n",
    "                l[1] = \"Resistant Phenotype\"\n",
    "                df = pd.DataFrame(columns = l)\n",
    " \n",
    "            else:\n",
    "                ID = l[0]\n",
    "                \n",
    "                df.loc[i-1, :] = l\n",
    "            i += 1\n",
    "    return(df)"
   ]
  },
  {
   "cell_type": "code",
   "execution_count": 3,
   "metadata": {},
   "outputs": [],
   "source": [
    "#those drugs have nearly 50 data, therefore their data are selected for training\n",
    "train_drug = ['meropenem','cefepime','ceftazidime' 'gentamicin', 'ciprofloxacin',\n",
    "              'trimethoprim_sulfamethoxaole', 'ampicillin', 'cefazolin', 'ampicillin_sulbactam']\n",
    "prefix = ['card_pattern', 'gene_pattern', 'acc_pattern', 'acc_card_pattern']"
   ]
  },
  {
   "cell_type": "code",
   "execution_count": 21,
   "metadata": {},
   "outputs": [],
   "source": [
    "def random_split(df, portion):\n",
    "    arr = np.arange(len(df.index))\n",
    "    np.random.shuffle(arr)\n",
    "    shuffle_index = arr\n",
    "    train_size = round(len(df.index)*portion)\n",
    "    \n",
    "    return(shuffle_index[:train_size], shuffle_index[train_size:])\n"
   ]
  },
  {
   "cell_type": "code",
   "execution_count": 14,
   "metadata": {},
   "outputs": [],
   "source": [
    "# throw into naive bayes\n",
    "from sklearn.naive_bayes import BernoulliNB\n",
    "from sklearn.model_selection import ShuffleSplit\n",
    "from sklearn.model_selection import train_test_split\n",
    "from sklearn.model_selection import cross_val_score\n",
    "from sklearn.model_selection import StratifiedKFold\n",
    "from sklearn.model_selection import RepeatedStratifiedKFold\n",
    "from sklearn.metrics import accuracy_score     \n",
    "def train_nb(df_ris, portion):\n",
    "    # hold out test set\n",
    "    train_index, test_index = random_split(df_ris, portion)\n",
    "    X = df_ris.drop([\"Genome ID\", \"Resistant Phenotype\"], axis = 1)\n",
    "    y = df_ris['Resistant Phenotype']\n",
    "    X_train = X.loc[train_index, :]\n",
    "    X_test = X.loc[test_index, :]\n",
    "    y_train = y[train_index]\n",
    "    y_test = y[test_index]\n",
    "        \n",
    "        #X_train, X_test, y_train, y_test = train_test_split(\n",
    "        #df_ris.drop([\"Genome ID\", \"Resistant Phenotype\"], axis = 1)\n",
    "        #, df_ris['Resistant Phenotype']\n",
    "        #, test_size=0.2 \n",
    "        #, random_state = 1\n",
    "        #, startify = df_ris['Resistant Phenotype']) \n",
    "    # test if random\n",
    "    print(y_test)\n",
    "    ### i dont really know pseudo random status mean (please read about it), random status 20 yields best result?? 0.7\n",
    "    ### it saids it is \"random sampling test set but it is not (WTF)\n",
    "    \n",
    "    X_train.reset_index(inplace = True, drop = True)\n",
    "    y_train.reset_index(inplace = True, drop = True)\n",
    "    \n",
    "    # seperate train and test into k fold\n",
    "    n=10\n",
    "    cv = ShuffleSplit(n_splits=n, test_size=0.3, random_state = 0)\n",
    "    ### n_split = 10, test_size, does not change result; random_state yeilds best result 0.75\n",
    "    \n",
    "    \n",
    "    # bnb.fit\n",
    "    bnb = BernoulliNB()\n",
    "    val_score = 0\n",
    "    for train_index, test_index in cv.split(X_train, y_train):      \n",
    "        bnb.fit(X_train.iloc[train_index,:], y_train[train_index])\n",
    "        val = bnb.predict(X_train.iloc[test_index])\n",
    "        score = accuracy_score(y_train[test_index], val)\n",
    "        val_score = val_score + score\n",
    "    \n",
    "    v = val_score/n\n",
    "    \n",
    "    # model.predict()\n",
    "    \n",
    "    test = accuracy_score(y_test, bnb.predict(X_test))\n",
    "    \n",
    "    return([v,test])\n",
    "   "
   ]
  },
  {
   "cell_type": "code",
   "execution_count": 24,
   "metadata": {},
   "outputs": [],
   "source": [
    "from sklearn import svm\n",
    "from sklearn.model_selection import cross_val_predict\n",
    "from sklearn.model_selection import train_test_split\n",
    "from sklearn.model_selection import GridSearchCV\n",
    "from sklearn.model_selection import learning_curve\n",
    "from sklearn.model_selection import StratifiedKFold # this is the problem!!\n",
    "\n",
    "    \n",
    "def train_SVM(df, portion):\n",
    "    \n",
    "    # split test, train\n",
    "    train_index, test_index = random_split(df_ris, p)\n",
    "    X = df_ris.drop([\"Genome ID\", \"Resistant Phenotype\"], axis = 1)\n",
    "    y = df_ris['Resistant Phenotype']\n",
    "    X_train = X.loc[train_index, :]\n",
    "    X_test = X.loc[test_index, :]\n",
    "    y_train = y[train_index]\n",
    "    y_test = y[test_index]\n",
    "    \n",
    "    # choose estimator (our model)\n",
    "    clf = svm.SVC(kernel='linear', C=1).fit(X_train, y_train)\n",
    "    \n",
    "    # cross validation\n",
    "    skf = StratifiedKFold(n_splits=3, random_state=None, shuffle=False)\n",
    "    cv = skf.split(X_train, y_train)\n",
    "   \n",
    "    # tune hyperparameters\n",
    "    gammas = np.logspace(-6, -1, 10)\n",
    "    tuned_parameters = [{'kernel': ['rbf'], 'gamma': gammas,\n",
    "                     'C': [1, 10, 100, 1000]},\n",
    "                    {'kernel': ['linear'], 'C': [1, 10, 100, 1000]}]\n",
    "    classifier = GridSearchCV(estimator=clf, cv=cv, param_grid=tuned_parameters)\n",
    "    classifier.fit(X_train.values, np.asarray(y_train))\n",
    "    \n",
    "    v = classifier.cv_results_['mean_test_score'][classifier.best_index_]\n",
    "    param = classifier.best_params_\n",
    "    print(param)\n",
    "    test = classifier.score(X_test, y_test)\n",
    "    \n",
    "    return([v,test])"
   ]
  },
  {
   "cell_type": "code",
   "execution_count": 23,
   "metadata": {},
   "outputs": [
    {
     "name": "stdout",
     "output_type": "stream",
     "text": [
      "3       Resistant\n",
      "5       Resistant\n",
      "11    Susceptible\n",
      "24    Susceptible\n",
      "25      Resistant\n",
      "0     Susceptible\n",
      "19      Resistant\n",
      "28      Resistant\n",
      "Name: Resistant Phenotype, dtype: object\n"
     ]
    },
    {
     "data": {
      "text/plain": [
       "[0.70909090909090911, 0.625]"
      ]
     },
     "execution_count": 23,
     "metadata": {},
     "output_type": "execute_result"
    }
   ],
   "source": [
    "train_nb(txt_to_df(\"gene_pattern.trimethoprim_sulfamethoxazole\"))"
   ]
  },
  {
   "cell_type": "code",
   "execution_count": 18,
   "metadata": {},
   "outputs": [
    {
     "name": "stdout",
     "output_type": "stream",
     "text": [
      "None\n"
     ]
    }
   ],
   "source": [
    "print(np.random.shuffle([1,2,3,4,5]))"
   ]
  },
  {
   "cell_type": "code",
   "execution_count": null,
   "metadata": {
    "collapsed": true
   },
   "outputs": [],
   "source": []
  }
 ],
 "metadata": {
  "kernelspec": {
   "display_name": "Python 3",
   "language": "python",
   "name": "python3"
  },
  "language_info": {
   "codemirror_mode": {
    "name": "ipython",
    "version": 3
   },
   "file_extension": ".py",
   "mimetype": "text/x-python",
   "name": "python",
   "nbconvert_exporter": "python",
   "pygments_lexer": "ipython3",
   "version": "3.6.3"
  }
 },
 "nbformat": 4,
 "nbformat_minor": 2
}
