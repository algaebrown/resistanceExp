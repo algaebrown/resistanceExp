{
 "cells": [
  {
   "cell_type": "code",
   "execution_count": 30,
   "metadata": {
    "collapsed": false
   },
   "outputs": [],
   "source": [
    "import pandas as pd\n",
    "import numpy as np\n",
    "import matplotlib as mpl\n",
    "import matplotlib.pyplot as plt\n",
    "\n",
    "### import data\n",
    "\n",
    "# ris contain RIS data: Genome_ID - Drug - RIS\n",
    "ris = pd.read_pickle(\"/home/hermuba/resistanceExp/data/anno_sps_df\")\n",
    "ris = ris.loc[ris['Species'] == 'Escherichia']\n",
    "# df contain Genome_ID - cdhit(0101010)\n",
    "df = pd.read_pickle(\"/home/hermuba/resistanceExp/EcoliGenomes/cdhitResult/ec0913_df\")\n",
    "# card contain Genome_ID - card_ARO(0101010)\n",
    "card = pd.read_pickle('/home/hermuba/resistanceExp/data/aro_pattern_df')\n",
    "# cluster_detail contain cdhit - prevalance - card\n",
    "cluster_detail = pd.read_pickle(\"../../cdhitResult/cluster_detail_tmp1010\")"
   ]
  },
  {
   "cell_type": "code",
   "execution_count": 31,
   "metadata": {
    "collapsed": false
   },
   "outputs": [],
   "source": [
    "#those drugs have nearly 50 data, therefore their data are selected for training\n",
    "train_drug = ['meropenem', 'gentamicin', 'ciprofloxacin', 'trimethoprim/sulfamethoxaole', 'ampicillin', 'cefazolin']\n",
    "                                                \n",
    "### Function to join X with y\n",
    "# Input: X(dataframe with Genome ID, 01010); y(Genome ID, RIS), abx(drug name)\n",
    "    # X can be df(all genes), acc(accessory only), card(card AROs), card AND acc, card merge with acc\n",
    "# Output: df(aligned Genome_ID - X - y)\n",
    "\n",
    "def join_df(X, y, abx):\n",
    "    # subset y\n",
    "    ris_need = ris.loc[ris['Antibiotic'] == abx][['Genome ID', 'Resistant Phenotype']] \n",
    "    # join X with y\n",
    "    df_ris = pd.merge(X, ris_need, left_index = True, right_on = \"Genome ID\")\n",
    "    # reset_index to prevent problems with cross validation and train/test split. Drop the old index\n",
    "    df_ris = df_ris.reset_index(drop = True)\n",
    "    return(df_ris)\n",
    "\n",
    "### Feature selection with existing knowledge\n",
    "# select accessory genes\n",
    "acc_index = cluster_detail.loc[cluster_detail['prevalance'] < 1].index\n",
    "# select gene clusters that are identified by card\n",
    "card_index = cluster_detail.loc[cluster_detail['card_portion'] > 0].index\n",
    "#\n",
    "acc_card_intersect_index = list(set(card_index) & set(acc_index))\n",
    "\n",
    "### adding feature: merging two X dataframe\n",
    "card_and_acc_X = pd.merge(card,df[acc_index], left_index = True, right_index = True)\n"
   ]
  },
  {
   "cell_type": "code",
   "execution_count": 32,
   "metadata": {
    "collapsed": false
   },
   "outputs": [],
   "source": [
    "# throw into naive bayes\n",
    "from sklearn.naive_bayes import BernoulliNB\n",
    "from sklearn.model_selection import ShuffleSplit\n",
    "from sklearn.model_selection import train_test_split\n",
    "from sklearn.model_selection import cross_val_score\n",
    "from sklearn.model_selection import StratifiedKFold\n",
    "from sklearn.model_selection import RepeatedStratifiedKFold\n",
    "from sklearn.metrics import accuracy_score     \n",
    "def train_nb(df_ris):\n",
    "    # hold out test set\n",
    "    \n",
    "    X_train, X_test, y_train, y_test = train_test_split(\n",
    "        df_ris.drop([\"Genome ID\", \"Resistant Phenotype\"], axis = 1)\n",
    "        , df_ris['Resistant Phenotype']\n",
    "        , test_size=0.4 \n",
    "        , random_state = 0) \n",
    "    ### i dont really know pseudo random status mean (please read about it), random status 20 yields best result?? 0.7\n",
    "    ### it saids it is \"random sampling test set but it is not (WTF)\n",
    "    \n",
    "    X_train.reset_index(inplace = True, drop = True)\n",
    "    y_train.reset_index(inplace = True, drop = True)\n",
    "    \n",
    "    # seperate train and test into k fold\n",
    "    n=10\n",
    "    cv = ShuffleSplit(n_splits=n, test_size=0.3, random_state = 0)\n",
    "    ### n_split = 10, test_size, does not change result; random_state yeilds best result 0.75\n",
    "    \n",
    "    \n",
    "    # bnb.fit\n",
    "    bnb = BernoulliNB()\n",
    "    val_score = 0\n",
    "    for train_index, test_index in cv.split(X_train, y_train):      \n",
    "        bnb.fit(X_train.iloc[train_index,:], y_train[train_index])\n",
    "        val = bnb.predict(X_train.iloc[test_index])\n",
    "        score = accuracy_score(y_train[test_index], val)\n",
    "        val_score = val_score + score\n",
    "    \n",
    "    v = val_score/n\n",
    "    \n",
    "    # model.predict()\n",
    "    \n",
    "    test = accuracy_score(y_test, bnb.predict(X_test))\n",
    "    \n",
    "    return([v,test])\n",
    "   "
   ]
  },
  {
   "cell_type": "code",
   "execution_count": 33,
   "metadata": {
    "collapsed": false
   },
   "outputs": [],
   "source": [
    "from sklearn import svm\n",
    "from sklearn.model_selection import cross_val_predict\n",
    "from sklearn.model_selection import train_test_split\n",
    "from sklearn.model_selection import GridSearchCV\n",
    "from sklearn.model_selection import learning_curve\n",
    "from sklearn.model_selection import StratifiedKFold # this is the problem!!\n",
    "\n",
    "    \n",
    "def train_SVM(df):\n",
    "    \n",
    "    # split test, train\n",
    "    X_train, X_test, y_train, y_test = train_test_split(\n",
    "        df.drop([\"Genome ID\", \"Resistant Phenotype\"], axis = 1)\n",
    "        , df['Resistant Phenotype']\n",
    "        , test_size=0.4 \n",
    "        , random_state = 0)\n",
    "    \n",
    "    # choose estimator (our model)\n",
    "    clf = svm.SVC(kernel='linear', C=1).fit(X_train, y_train)\n",
    "    \n",
    "    # cross validation\n",
    "    skf = StratifiedKFold(n_splits=3, random_state=None, shuffle=False)\n",
    "    cv = skf.split(X_train, y_train)\n",
    "   \n",
    "    # tune hyperparameters\n",
    "    gammas = np.logspace(-6, -1, 10)\n",
    "    tuned_parameters = [{'kernel': ['rbf'], 'gamma': gammas,\n",
    "                     'C': [1, 10, 100, 1000]},\n",
    "                    {'kernel': ['linear'], 'C': [1, 10, 100, 1000]}]\n",
    "    classifier = GridSearchCV(estimator=clf, cv=cv, param_grid=tuned_parameters)\n",
    "    classifier.fit(X_train.values, np.asarray(y_train))\n",
    "    \n",
    "    v = classifier.cv_results_['mean_test_score'][classifier.best_index_]\n",
    "    param = classifier.best_params_\n",
    "    print(param)\n",
    "    test = classifier.score(X_test, y_test)\n",
    "    \n",
    "    return([v,test])"
   ]
  },
  {
   "cell_type": "code",
   "execution_count": 91,
   "metadata": {
    "collapsed": false
   },
   "outputs": [],
   "source": [
    "# feature selection using pvalue\n",
    "from scipy import stats\n",
    "def p_value_list(df):\n",
    "    r = df.loc[df['Resistant Phenotype'] == \"Resistant\"]\n",
    "    not_r = df.loc[df['Resistant Phenotype'] != \"Resistant\"]\n",
    "    \n",
    "    p_value_ma = []\n",
    "    for cluster_name in df.columns[:-2]:\n",
    "        p_value = stats.ttest_ind(r[cluster_name], not_r[cluster_name])[1]\n",
    "        p_value_ma.append(p_value)\n",
    "    p = pd.Series(data = p_value_ma, index = df.columns[:-2])\n",
    "    return(p.sort_values(ascending = True).index) # p value small are in the front\n",
    "\n",
    "def p_feature_selection(complete_set, model):\n",
    "    \n",
    "    p = p_value_list(complete_set)\n",
    "    t_matrix = []\n",
    "    v_matrix = []\n",
    "    feature = range(round(len(complete_set)/10),len(complete_set),round(len(complete_set)/10))\n",
    "    print(feature)\n",
    "    for a in feature:\n",
    "        list_of_feature = list(p[0:a])\n",
    "        list_of_col_name = list_of_feature + ['Resistant Phenotype', 'Genome ID']\n",
    "        v, test = model(complete_set[list_of_col_name])\n",
    "        t_matrix.append(test)\n",
    "        v_matrix.append(v)\n",
    "    plt.plot(feature,v_matrix,'r--',label = \"val\")\n",
    "    plt.plot(feature,t_matrix,'b--', label = \"test\")\n",
    "    plt.legend()\n",
    "    plt.show()"
   ]
  },
  {
   "cell_type": "code",
   "execution_count": 92,
   "metadata": {
    "collapsed": false
   },
   "outputs": [
    {
     "name": "stdout",
     "output_type": "stream",
     "text": [
      "range(6, 58, 6)\n"
     ]
    },
    {
     "data": {
      "image/png": "[encoded data removed]",
      "text/plain": [
       "<matplotlib.figure.Figure at 0x7f1c3a437438>"
      ]
     },
     "metadata": {},
     "output_type": "display_data"
    }
   ],
   "source": [
    "p_feature_selection(join_df(df,ris,'meropenem'), train_nb)"
   ]
  },
  {
   "cell_type": "code",
   "execution_count": 93,
   "metadata": {
    "collapsed": false
   },
   "outputs": [
    {
     "name": "stdout",
     "output_type": "stream",
     "text": [
      "range(6, 58, 6)\n",
      "{'C': 1, 'gamma': 0.02782559402207126, 'kernel': 'rbf'}\n",
      "{'C': 1, 'gamma': 0.02782559402207126, 'kernel': 'rbf'}\n",
      "{'C': 1, 'gamma': 0.10000000000000001, 'kernel': 'rbf'}\n",
      "{'C': 1, 'gamma': 0.10000000000000001, 'kernel': 'rbf'}\n",
      "{'C': 1, 'gamma': 0.10000000000000001, 'kernel': 'rbf'}\n",
      "{'C': 1, 'gamma': 0.10000000000000001, 'kernel': 'rbf'}\n",
      "{'C': 1, 'gamma': 0.10000000000000001, 'kernel': 'rbf'}\n",
      "{'C': 10, 'gamma': 0.02782559402207126, 'kernel': 'rbf'}\n",
      "{'C': 1, 'gamma': 0.10000000000000001, 'kernel': 'rbf'}\n"
     ]
    },
    {
     "data": {
      "image/png": "[encoded data removed]",
      "text/plain": [
       "<matplotlib.figure.Figure at 0x7f1bf9e99f60>"
      ]
     },
     "metadata": {},
     "output_type": "display_data"
    }
   ],
   "source": [
    "p_feature_selection(join_df(df,ris,'meropenem'), train_SVM)"
   ]
  },
  {
   "cell_type": "code",
   "execution_count": 73,
   "metadata": {
    "collapsed": false
   },
   "outputs": [
    {
     "data": {
      "text/plain": [
       "[<matplotlib.lines.Line2D at 0x7f1bfa919240>]"
      ]
     },
     "execution_count": 73,
     "metadata": {},
     "output_type": "execute_result"
    }
   ],
   "source": [
    "plt.plot(t)"
   ]
  },
  {
   "cell_type": "code",
   "execution_count": 67,
   "metadata": {
    "collapsed": false
   },
   "outputs": [],
   "source": [
    "def run_all_condition(abx):\n",
    "    result = pd.DataFrame(columns = ['model','feature','val', 'test'])\n",
    "    model = {'naive-bayes':train_nb,\n",
    "             'SVM':train_SVM}\n",
    "    for i in range(len(model)):\n",
    "        print(i)\n",
    "        model_name = list(model.keys())[i]\n",
    "        \n",
    "        m = list(model.values())[i]\n",
    "        # accessory\n",
    "        result.loc[result.shape[0]+1] = [model_name,'accessory']+m(join_df(df[acc_index],ris,abx))\n",
    "        # accessory intersect with card\n",
    "        result.loc[result.shape[0]+1] = [model_name,'acc intersect aro']+m(join_df(df[acc_card_intersect_index],ris,abx))\n",
    "        # card ARO\n",
    "        result.loc[result.shape[0]+1] = [model_name,'card aro']+m(join_df(card,ris,abx))\n",
    "    return(result)\n",
    "\n",
    "    "
   ]
  },
  {
   "cell_type": "code",
   "execution_count": 68,
   "metadata": {
    "collapsed": false
   },
   "outputs": [
    {
     "name": "stdout",
     "output_type": "stream",
     "text": [
      "0\n",
      "1\n",
      "{'C': 1, 'gamma': 0.0077426368268112772, 'kernel': 'rbf'}\n",
      "{'C': 100, 'gamma': 0.00059948425031894088, 'kernel': 'rbf'}\n"
     ]
    },
    {
     "name": "stderr",
     "output_type": "stream",
     "text": [
      "/home/hermuba/anaconda3/lib/python3.6/site-packages/sklearn/model_selection/_split.py:597: Warning: The least populated class in y has only 1 members, which is too few. The minimum number of members in any class cannot be less than n_splits=3.\n",
      "  % (min_groups, self.n_splits)), Warning)\n"
     ]
    },
    {
     "name": "stdout",
     "output_type": "stream",
     "text": [
      "{'C': 10, 'gamma': 0.02782559402207126, 'kernel': 'rbf'}\n"
     ]
    },
    {
     "data": {
      "text/html": [
       "<div>\n",
       "<style>\n",
       "    .dataframe thead tr:only-child th {\n",
       "        text-align: right;\n",
       "    }\n",
       "\n",
       "    .dataframe thead th {\n",
       "        text-align: left;\n",
       "    }\n",
       "\n",
       "    .dataframe tbody tr th {\n",
       "        vertical-align: top;\n",
       "    }\n",
       "</style>\n",
       "<table border=\"1\" class=\"dataframe\">\n",
       "  <thead>\n",
       "    <tr style=\"text-align: right;\">\n",
       "      <th></th>\n",
       "      <th>model</th>\n",
       "      <th>feature</th>\n",
       "      <th>val</th>\n",
       "      <th>test</th>\n",
       "    </tr>\n",
       "  </thead>\n",
       "  <tbody>\n",
       "    <tr>\n",
       "      <th>1</th>\n",
       "      <td>naive-bayes</td>\n",
       "      <td>accessory</td>\n",
       "      <td>0.736364</td>\n",
       "      <td>0.541667</td>\n",
       "    </tr>\n",
       "    <tr>\n",
       "      <th>2</th>\n",
       "      <td>naive-bayes</td>\n",
       "      <td>acc intersect aro</td>\n",
       "      <td>0.654545</td>\n",
       "      <td>0.708333</td>\n",
       "    </tr>\n",
       "    <tr>\n",
       "      <th>3</th>\n",
       "      <td>naive-bayes</td>\n",
       "      <td>card aro</td>\n",
       "      <td>0.654545</td>\n",
       "      <td>0.416667</td>\n",
       "    </tr>\n",
       "    <tr>\n",
       "      <th>4</th>\n",
       "      <td>SVM</td>\n",
       "      <td>accessory</td>\n",
       "      <td>0.794118</td>\n",
       "      <td>0.708333</td>\n",
       "    </tr>\n",
       "    <tr>\n",
       "      <th>5</th>\n",
       "      <td>SVM</td>\n",
       "      <td>acc intersect aro</td>\n",
       "      <td>0.823529</td>\n",
       "      <td>0.750000</td>\n",
       "    </tr>\n",
       "    <tr>\n",
       "      <th>6</th>\n",
       "      <td>SVM</td>\n",
       "      <td>card aro</td>\n",
       "      <td>0.823529</td>\n",
       "      <td>0.791667</td>\n",
       "    </tr>\n",
       "  </tbody>\n",
       "</table>\n",
       "</div>"
      ],
      "text/plain": [
       "         model            feature       val      test\n",
       "1  naive-bayes          accessory  0.736364  0.541667\n",
       "2  naive-bayes  acc intersect aro  0.654545  0.708333\n",
       "3  naive-bayes           card aro  0.654545  0.416667\n",
       "4          SVM          accessory  0.794118  0.708333\n",
       "5          SVM  acc intersect aro  0.823529  0.750000\n",
       "6          SVM           card aro  0.823529  0.791667"
      ]
     },
     "execution_count": 68,
     "metadata": {},
     "output_type": "execute_result"
    }
   ],
   "source": [
    "run_all_condition('meropenem')"
   ]
  },
  {
   "cell_type": "code",
   "execution_count": null,
   "metadata": {
    "collapsed": true
   },
   "outputs": [],
   "source": []
  }
 ],
 "metadata": {
  "kernelspec": {
   "display_name": "Python 3",
   "language": "python",
   "name": "python3"
  },
  "language_info": {
   "codemirror_mode": {
    "name": "ipython",
    "version": 3
   },
   "file_extension": ".py",
   "mimetype": "text/x-python",
   "name": "python",
   "nbconvert_exporter": "python",
   "pygments_lexer": "ipython3",
   "version": "3.6.0"
  }
 },
 "nbformat": 4,
 "nbformat_minor": 2
}
