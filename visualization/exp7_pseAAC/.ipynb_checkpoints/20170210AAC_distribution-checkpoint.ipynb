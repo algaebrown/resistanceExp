{
 "cells": [
  {
   "cell_type": "code",
   "execution_count": null,
   "metadata": {},
   "outputs": [],
   "source": [
    "# similarity within a cluster --> multiple alignment with 10 core genes; 10 accessaory genes\n",
    "# need to parse each file\n",
    "# input representing gene; cluster_detail\n",
    "# aac for every representing gene, compare COG\n",
    "# pseudoAAC for every representing gene\n",
    "# 2-mer for every cluster\n",
    "# "
   ]
  },
  {
   "cell_type": "code",
   "execution_count": null,
   "metadata": {},
   "outputs": [],
   "source": [
    "import pandas as pd\n",
    "cluster_detail = pd.read_pickle(\"/home/hermuba/data/genePredicted/cdhit/cluster_detail_df\")\n",
    "\n",
    "blast = pd.read_pickle(\"/home/hermuba/data/blast/blastp_gi_1022\")\n",
    "lactamase = blast.loc[blast['title'].str.contains('lactamase')]\n",
    "efflux_pump = blast.loc[blast['title'].str.contains('efflux')]\n",
    "\n",
    "cogq = cluster_detail.loc[cluster_detail['cog'] == 'Q']"
   ]
  },
  {
   "cell_type": "code",
   "execution_count": null,
   "metadata": {},
   "outputs": [],
   "source": [
    "p = \"/home/hermuba/data/genePredicted/cdhit/cluster_seq/\"\n",
    "from Bio import AlignIO\n",
    "alignment = AlignIO.read(p+\"align_9.faa\", \"clustal\")"
   ]
  },
  {
   "cell_type": "code",
   "execution_count": null,
   "metadata": {},
   "outputs": [],
   "source": [
    "print(alignment)"
   ]
  },
  {
   "cell_type": "code",
   "execution_count": null,
   "metadata": {},
   "outputs": [],
   "source": [
    "ref = pd.read_pickle(\"/home/hermuba/data/genePredicted/cdhit/ec0102_df\")"
   ]
  },
  {
   "cell_type": "code",
   "execution_count": null,
   "metadata": {},
   "outputs": [],
   "source": [
    "from Bio import SeqIO\n",
    "clus_9 = SeqIO.parse(\"/home/hermuba/data/genePredicted/cdhit/cluster_seq/Cluster 9.faa\", \"fasta\")\n",
    "intra_seq = [str(seq_record.seq) for seq_record in clus_9]\n",
    "repr_seq = SeqIO.parse(\"/home/hermuba/data/genePredicted/cdhit/cdhit.faa\", \"fasta\")\n",
    "# rep: dictionary geneID: seqeunce record\n",
    "rep = SeqIO.to_dict(repr_seq)"
   ]
  },
  {
   "cell_type": "code",
   "execution_count": null,
   "metadata": {},
   "outputs": [],
   "source": [
    "# a def input sequence list, return array of AAC for each sequence\n",
    "from Bio.SeqUtils.ProtParam import ProteinAnalysis\n",
    "import numpy as np\n",
    "def cal_comp(list_with_seq):\n",
    "    a= []\n",
    "    for seq in list_with_seq:\n",
    "        analysed_seq = ProteinAnalysis(seq)\n",
    "        port = analysed_seq.get_amino_acids_percent()\n",
    "        a= a + list(port.values())\n",
    "    col = int(len(a)/20)\n",
    "    return(np.array(a).reshape(col,20))"
   ]
  },
  {
   "cell_type": "code",
   "execution_count": null,
   "metadata": {},
   "outputs": [],
   "source": [
    "# a: within one cluster\n",
    "a = cal_comp(intra_seq)\n",
    "# randomrep: randomly selected 100 representing genes\n",
    "randomerep = cal_comp(rep_seq[:100]) # randomly selected representing genes\n",
    "# b_lact:\n",
    "b_lact = [str(rep[x].seq) for x in lactamase.index]\n",
    "b = cal_comp(b)\n",
    "# all representing gene within COG Q\n",
    "q = cal_comp([str(rep[x].seq) for x in cogq['representing gene header']])\n",
    "# all efflux pump\n",
    "pump = [str(rep[x].seq) for x in efflux_pump.index]\n",
    "p = cal_comp(pump)\n",
    "# Bcr family pump\n",
    "Bcr_id = ['JMUY01000001_617|1438670.3', 'JMVT01000002_704|1438693.3', 'JMUY01000001_1467|1438670.3', 'JMUY01000001_863|1438670.3']\n",
    "bcr = cal_comp([str(rep[x].seq) for x in Bcr_id])"
   ]
  },
  {
   "cell_type": "code",
   "execution_count": null,
   "metadata": {},
   "outputs": [],
   "source": [
    "import matplotlib as mpl\n",
    "%matplotlib inline \n",
    "import matplotlib.pyplot as plt\n",
    "plt.style.use('ggplot')\n",
    "\n",
    "plt.figure(figsize=(30,10))\n",
    "ax = plt.subplot(321)\n",
    "plt.title(\"random 100 protein\")\n",
    "plt.boxplot(randomerep)\n",
    "plt.subplot(sarey = ax)\n",
    "plt.title(\"within a cluster\")\n",
    "plt.boxplot(a)\n",
    "plt.subplot(143, sharey = ax)\n",
    "plt.title(\"cog Q\")\n",
    "plt.boxplot(q)\n",
    "plt.subplot(144, sharey = ax)\n",
    "plt.title(\"beta-lactamases such as TEM, SHV...\")\n",
    "plt.boxplot(b)\n",
    "ax = plt.subplot(121)\n",
    "plt.title(\"efflux pump\")\n",
    "plt.boxplot(cal_comp(pump))\n",
    "ax = plt.subplot(122)\n",
    "plt.title(\"Bcr family efflux pump\")\n",
    "plt.boxplot(cal_comp(b))\n",
    "plt.show()\n"
   ]
  },
  {
   "cell_type": "code",
   "execution_count": null,
   "metadata": {},
   "outputs": [],
   "source": [
    "\n",
    "plt.figure(figsize=(20,10))\n",
    "\n",
    "plt.show()"
   ]
  },
  {
   "cell_type": "code",
   "execution_count": null,
   "metadata": {},
   "outputs": [],
   "source": [
    "\n"
   ]
  },
  {
   "cell_type": "code",
   "execution_count": null,
   "metadata": {},
   "outputs": [],
   "source": []
  }
 ],
 "metadata": {
  "kernelspec": {
   "display_name": "Python 3",
   "language": "python",
   "name": "python3"
  },
  "language_info": {
   "codemirror_mode": {
    "name": "ipython",
    "version": 3
   },
   "file_extension": ".py",
   "mimetype": "text/x-python",
   "name": "python",
   "nbconvert_exporter": "python",
   "pygments_lexer": "ipython3",
   "version": "3.6.4"
  }
 },
 "nbformat": 4,
 "nbformat_minor": 2
}
