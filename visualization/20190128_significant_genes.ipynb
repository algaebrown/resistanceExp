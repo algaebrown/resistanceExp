{
 "cells": [
  {
   "cell_type": "code",
   "execution_count": 1,
   "metadata": {},
   "outputs": [],
   "source": [
    "# import data\n",
    "import pandas as pd\n",
    "pheno = pd.read_csv('/home/hermuba/data0118/annotated_RIS/RIS_pivot_ecoli.csv', dtype = {'Genome ID': str})\n",
    "# absense presence\n",
    "pangenome = pd.read_csv('/home/hermuba/data0118/cdhit/clstr/pangenome_df/Escherichia0.70rm_plasmid.clstr.csv', index_col = 0)\n",
    "\n",
    "# select E.coli phenotype data\n",
    "pheno = pheno.loc[pheno['Genome ID'].isin(pangenome.columns)]\n",
    "pheno.set_index('Genome ID', inplace = True)\n",
    "pheno.shape # 39 drugs, 1580 genomes\n",
    "\n",
    "# select drug with abundant data\n",
    "drugs = pheno.count().sort_values()[-25:].index \n",
    "\n",
    "# read annotation file\n",
    "gold_anno = pd.read_pickle('/home/hermuba/data0118/goldstandard/ec_rmplasmid_node_anno_df')"
   ]
  },
  {
   "cell_type": "code",
   "execution_count": 2,
   "metadata": {},
   "outputs": [],
   "source": [
    "# cluster number --> gene IDx\n",
    "cluster_no = gold_anno['cluster']\n",
    "mapper_fun = pd.Series(cluster_no.index, index = cluster_no.values)\n",
    "\n",
    "# transpose\n",
    "pangenome = pangenome.transpose(copy = False)\n",
    "\n",
    "# rename cluster by gene ID and then transform data type\n",
    "can_pan = pangenome.rename(columns = mapper_fun)\n",
    "can_pan = can_pan.astype('bool')"
   ]
  },
  {
   "cell_type": "code",
   "execution_count": 3,
   "metadata": {},
   "outputs": [],
   "source": [
    "# finding significant genes within pangenome\n",
    "def preprocessing(df, ris, abx):\n",
    "    y= ris[abx].dropna()\n",
    "    X = df.loc[y.index]\n",
    "    # at least one genome having that gene gaurentee it to worth examine\n",
    "    X = X.loc[:,X.sum()>0]\n",
    "    # not core genes\n",
    "    X = X.loc[:,X.sum() < X.shape[0]]\n",
    "    return(X, y)\n",
    "\n",
    "# perform fisher and FDR corretion\n",
    "import scipy.stats as stats\n",
    "from statsmodels.stats.multitest import fdrcorrection\n",
    "def test_all_drug_fisher(drugs, df, ris):\n",
    "    corr_p_values = pd.DataFrame(index = df.columns, columns = drugs) # index = genes, column = drug, value = uncorrected p value\n",
    "    significant = pd.DataFrame(index = df.columns, columns = drugs)\n",
    "    odds_df = pd.DataFrame(index = df.columns, columns = drugs)\n",
    "    for d in drugs:\n",
    "        print(d)\n",
    "        X, y = preprocessing(df, ris, d)\n",
    "        odds_list = []\n",
    "        uncorrected_pvalues = []\n",
    "        for column in X.columns: \n",
    "            if pd.crosstab(X[column], y).shape != (2,2):\n",
    "                print(d, column)\n",
    "            c = pd.crosstab(X[column], y) # contingency\n",
    "            if c.eq(0).any().any(): # if any 0 in contingency table\n",
    "                c = c + 0.5 # perform Haldane-Anscombe correction\n",
    "                \n",
    "            odds, p = stats.fisher_exact(c) \n",
    "            odds = c.loc[False,0]*c.loc[True,1]/c.loc[False,1]/c.loc[True, 0] # weird that the original fisher returns uncorreted odds\n",
    "            odds_list.append(odds)\n",
    "            uncorrected_pvalues.append(p)\n",
    "        rejected, p_corrected = fdrcorrection(uncorrected_pvalues, alpha=0.05)\n",
    "        corr_p_values.loc[X.columns, d] = p_corrected\n",
    "        significant.loc[X.columns, d] = rejected\n",
    "        odds_df.loc[X.columns, d] = odds_list\n",
    "    return(corr_p_values, significant, odds_df)"
   ]
  },
  {
   "cell_type": "code",
   "execution_count": 9,
   "metadata": {},
   "outputs": [
    {
     "name": "stdout",
     "output_type": "stream",
     "text": [
      "amoxicillin\n"
     ]
    }
   ],
   "source": [
    "genotype_p_fisher, genotype_reject_fisher, genotype_odds = test_all_drug_fisher(['amoxicillin'], can_pan, pheno)"
   ]
  },
  {
   "cell_type": "code",
   "execution_count": 73,
   "metadata": {},
   "outputs": [
    {
     "data": {
      "image/png": "[encoded data removed]",
      "text/plain": [
       "<Figure size 460.8x316.8 with 1 Axes>"
      ]
     },
     "metadata": {},
     "output_type": "display_data"
    }
   ],
   "source": [
    "import matplotlib.pyplot as plt\n",
    "import matplotlib as mpl\n",
    "plt.style.use('seaborn-white')\n",
    "\n",
    "genotype_p_fisher['hypo_nr'] = gold_anno.loc[genotype_p_fisher.index[:-1], 'hypo_nr']\n",
    "genotype_p_fisher['is_card'] = gold_anno.loc[genotype_p_fisher.index[:-1], 'is_card']\n",
    "\n",
    "plt.hist([genotype_p_fisher.loc[genotype_p_fisher['hypo_nr'] == True, 'amoxicillin'],\n",
    "         genotype_p_fisher.loc[genotype_p_fisher['is_card'] == True, 'amoxicillin'],\n",
    "          genotype_p_fisher.loc[genotype_p_fisher['hypo_nr'].isnull(), 'amoxicillin']],\n",
    "         bins=100, stacked=True, color = ['salmon','turquoise','grey'], label = ['hypothetical','CARD','the rest'])\n",
    "\n",
    "plt.xlabel('p-value')\n",
    "plt.ylabel('gene count')\n",
    "\n",
    "plt.legend()\n",
    "\n",
    "\n",
    "plt.savefig('/home/hermuba/data0118/fig/significant_genes.pdf', dpi = 300, format = 'pdf')\n",
    "\n"
   ]
  },
  {
   "cell_type": "code",
   "execution_count": 74,
   "metadata": {},
   "outputs": [
    {
     "data": {
      "image/png": "[encoded data removed]",
      "text/plain": [
       "<Figure size 460.8x316.8 with 1 Axes>"
      ]
     },
     "metadata": {},
     "output_type": "display_data"
    }
   ],
   "source": [
    "import matplotlib.pyplot as plt\n",
    "import matplotlib as mpl\n",
    "plt.style.use('seaborn-white')\n",
    "\n",
    "genotype_odds['hypo_nr'] = gold_anno.loc[genotype_odds.index[:-1], 'hypo_nr']\n",
    "genotype_odds['is_card'] = gold_anno.loc[genotype_odds.index[:-1], 'is_card']\n",
    "\n",
    "plt.hist([genotype_odds.loc[genotype_odds['hypo_nr'] == True, 'amoxicillin'],\n",
    "          genotype_odds.loc[genotype_odds['is_card'] == True, 'amoxicillin'],\n",
    "          genotype_odds.loc[genotype_odds['hypo_nr'].isnull(), 'amoxicillin']],\n",
    "         bins=100, stacked=True, color = ['salmon','turquoise','grey'], label = ['hypothetical','CARD','the rest'])\n",
    "\n",
    "plt.xlabel('odds ratio')\n",
    "plt.ylabel('gene count')\n",
    "\n",
    "plt.legend()\n",
    "\n",
    "plt.yscale('log')\n",
    "\n",
    "plt.savefig('/home/hermuba/data0118/fig/significant_genes_odds.pdf', dpi = 300, format = 'pdf')"
   ]
  },
  {
   "cell_type": "code",
   "execution_count": 20,
   "metadata": {},
   "outputs": [],
   "source": [
    "#genotype_p_fisher.to_csv(\"/home/hermuba/data0118/significant_amox.csv\")"
   ]
  },
  {
   "cell_type": "code",
   "execution_count": 75,
   "metadata": {},
   "outputs": [],
   "source": [
    "#genotype_odds.to_csv(\"/home/hermuba/data0118/significant_amox_odds.csv\")"
   ]
  },
  {
   "cell_type": "code",
   "execution_count": 22,
   "metadata": {},
   "outputs": [
    {
     "data": {
      "text/plain": [
       "amoxicillin    2428.0\n",
       "dtype: float64"
      ]
     },
     "execution_count": 22,
     "metadata": {},
     "output_type": "execute_result"
    }
   ],
   "source": [
    "genotype_reject_fisher.loc"
   ]
  },
  {
   "cell_type": "code",
   "execution_count": 25,
   "metadata": {},
   "outputs": [
    {
     "data": {
      "text/plain": [
       "772"
      ]
     },
     "execution_count": 25,
     "metadata": {},
     "output_type": "execute_result"
    }
   ],
   "source": [
    "gold_anno.loc[genotype_p_fisher.loc[genotype_p_fisher['amoxicillin'] < 0.05].index]['hypo_nr'].sum()"
   ]
  },
  {
   "cell_type": "code",
   "execution_count": null,
   "metadata": {},
   "outputs": [],
   "source": []
  }
 ],
 "metadata": {
  "kernelspec": {
   "display_name": "Python 3",
   "language": "python",
   "name": "python3"
  },
  "language_info": {
   "codemirror_mode": {
    "name": "ipython",
    "version": 3
   },
   "file_extension": ".py",
   "mimetype": "text/x-python",
   "name": "python",
   "nbconvert_exporter": "python",
   "pygments_lexer": "ipython3",
   "version": "3.6.7"
  }
 },
 "nbformat": 4,
 "nbformat_minor": 2
}
