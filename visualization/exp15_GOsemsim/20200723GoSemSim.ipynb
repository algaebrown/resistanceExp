{
 "cells": [
  {
   "cell_type": "code",
   "execution_count": 1,
   "metadata": {},
   "outputs": [],
   "source": [
    "library(ggplot2)"
   ]
  },
  {
   "cell_type": "code",
   "execution_count": 3,
   "metadata": {},
   "outputs": [],
   "source": [
    "gold_anno = read.csv('/home/hermuba/data0118/goldstandard/ec_rmplasmid_node_anno.csv', sep = ',', header = TRUE)"
   ]
  },
  {
   "cell_type": "code",
   "execution_count": 11,
   "metadata": {},
   "outputs": [],
   "source": [
    "go_nonempty = gold_anno[gold_anno$GO !='',]"
   ]
  },
  {
   "cell_type": "code",
   "execution_count": 13,
   "metadata": {},
   "outputs": [
    {
     "data": {
      "text/html": [
       "<style>\n",
       ".list-inline {list-style: none; margin:0; padding: 0}\n",
       ".list-inline>li {display: inline-block}\n",
       ".list-inline>li:not(:last-child)::after {content: \"\\00b7\"; padding: 0 .5ex}\n",
       "</style>\n",
       "<ol class=list-inline><li>10044</li><li>21</li></ol>\n"
      ],
      "text/latex": [
       "\\begin{enumerate*}\n",
       "\\item 10044\n",
       "\\item 21\n",
       "\\end{enumerate*}\n"
      ],
      "text/markdown": [
       "1. 10044\n",
       "2. 21\n",
       "\n",
       "\n"
      ],
      "text/plain": [
       "[1] 10044    21"
      ]
     },
     "metadata": {},
     "output_type": "display_data"
    }
   ],
   "source": [
    "dim(go_nonempty)"
   ]
  },
  {
   "cell_type": "code",
   "execution_count": 15,
   "metadata": {},
   "outputs": [
    {
     "name": "stderr",
     "output_type": "stream",
     "text": [
      "Loading required package: org.Hs.eg.db\n",
      "Loading required package: AnnotationDbi\n",
      "Loading required package: stats4\n",
      "Loading required package: BiocGenerics\n",
      "Loading required package: parallel\n",
      "\n",
      "Attaching package: ‘BiocGenerics’\n",
      "\n",
      "The following objects are masked from ‘package:parallel’:\n",
      "\n",
      "    clusterApply, clusterApplyLB, clusterCall, clusterEvalQ,\n",
      "    clusterExport, clusterMap, parApply, parCapply, parLapply,\n",
      "    parLapplyLB, parRapply, parSapply, parSapplyLB\n",
      "\n",
      "The following objects are masked from ‘package:stats’:\n",
      "\n",
      "    IQR, mad, sd, var, xtabs\n",
      "\n",
      "The following objects are masked from ‘package:base’:\n",
      "\n",
      "    anyDuplicated, append, as.data.frame, basename, cbind, colnames,\n",
      "    dirname, do.call, duplicated, eval, evalq, Filter, Find, get, grep,\n",
      "    grepl, intersect, is.unsorted, lapply, Map, mapply, match, mget,\n",
      "    order, paste, pmax, pmax.int, pmin, pmin.int, Position, rank,\n",
      "    rbind, Reduce, rownames, sapply, setdiff, sort, table, tapply,\n",
      "    union, unique, unsplit, which, which.max, which.min\n",
      "\n",
      "Loading required package: Biobase\n",
      "Welcome to Bioconductor\n",
      "\n",
      "    Vignettes contain introductory material; view with\n",
      "    'browseVignettes()'. To cite Bioconductor, see\n",
      "    'citation(\"Biobase\")', and for packages 'citation(\"pkgname\")'.\n",
      "\n",
      "Loading required package: IRanges\n",
      "Loading required package: S4Vectors\n",
      "\n",
      "Attaching package: ‘S4Vectors’\n",
      "\n",
      "The following object is masked from ‘package:base’:\n",
      "\n",
      "    expand.grid\n",
      "\n",
      "\n",
      "preparing gene to GO mapping data...\n",
      "preparing IC data...\n"
     ]
    }
   ],
   "source": [
    "library(GOSemSim)\n",
    "hsGO <- godata('org.Hs.eg.db', ont=\"MF\")"
   ]
  },
  {
   "cell_type": "markdown",
   "metadata": {},
   "source": [
    "# Go term similarity score between genes \n",
    "[see doc](https://www.bioconductor.org/packages/release/bioc/vignettes/GOSemSim/inst/doc/GOSemSim.html)"
   ]
  },
  {
   "cell_type": "code",
   "execution_count": 17,
   "metadata": {},
   "outputs": [
    {
     "data": {
      "text/html": [
       "0.192"
      ],
      "text/latex": [
       "0.192"
      ],
      "text/markdown": [
       "0.192"
      ],
      "text/plain": [
       "[1] 0.192"
      ]
     },
     "metadata": {},
     "output_type": "display_data"
    }
   ],
   "source": [
    "go1 = c(\"GO:0004022\",\"GO:0004024\",\"GO:0004174\")\n",
    "go2 = c(\"GO:0009055\",\"GO:0005515\")\n",
    "mgoSim(go1, go2, semData=hsGO, measure=\"Wang\", combine=\"BMA\")"
   ]
  },
  {
   "cell_type": "code",
   "execution_count": 54,
   "metadata": {},
   "outputs": [],
   "source": [
    "split_go <-function(string){\n",
    "    vec = unlist(strsplit(string, \"\\'\"))\n",
    "    \n",
    "    # remove unused\n",
    "    vec = vec[vec !='}' & vec != ', ' & vec !='{']\n",
    "    return(vec)\n",
    "}"
   ]
  },
  {
   "cell_type": "code",
   "execution_count": 55,
   "metadata": {},
   "outputs": [],
   "source": [
    "vec = split_go(as.character(go_nonempty[3, \"GO\"]))"
   ]
  },
  {
   "cell_type": "code",
   "execution_count": 62,
   "metadata": {},
   "outputs": [
    {
     "data": {
      "text/html": [
       "'562.10576.con.0001_191|562.10576'"
      ],
      "text/latex": [
       "'562.10576.con.0001\\_191\\textbar{}562.10576'"
      ],
      "text/markdown": [
       "'562.10576.con.0001_191|562.10576'"
      ],
      "text/plain": [
       "[1] \"562.10576.con.0001_191|562.10576\""
      ]
     },
     "metadata": {},
     "output_type": "display_data"
    }
   ],
   "source": [
    "as.character((go_nonempty[1,\"X\"]))"
   ]
  },
  {
   "cell_type": "code",
   "execution_count": null,
   "metadata": {},
   "outputs": [],
   "source": [
    "fileConn<-file(\"/home/hermuba/data0118/goldstandard/gosim\", 'a')\n",
    "for (row1 in 1:nrow(go_nonempty)) {\n",
    "    for (row2 in row1:nrow(go_nonempty)) {\n",
    "        gostr1 <- as.character(go_nonempty[row1, \"GO\"])\n",
    "        gostr2  <- as.character(go_nonempty[row2, \"GO\"])\n",
    "        \n",
    "        go1 = split_go(gostr1)\n",
    "        go2 = split_go(gostr2)\n",
    "        \n",
    "        sim = mgoSim(go1, go2, semData=hsGO, measure=\"Wang\", combine=\"BMA\")\n",
    "        \n",
    "        name1 = as.character(go_nonempty[row1,\"X\"])\n",
    "        name2 = as.character(go_nonempty[row2,\"X\"])\n",
    "        \n",
    "        output_str = paste(name1, name2, sim, sep = ',')\n",
    "        \n",
    "\n",
    "        \n",
    "        writeLines(output_str, fileConn)\n",
    "        }\n",
    "    }\n",
    "close(fileConn)\n",
    "\n",
    "\n"
   ]
  }
 ],
 "metadata": {
  "kernelspec": {
   "display_name": "R",
   "language": "R",
   "name": "ir"
  },
  "language_info": {
   "codemirror_mode": "r",
   "file_extension": ".r",
   "mimetype": "text/x-r-source",
   "name": "R",
   "pygments_lexer": "r",
   "version": "3.6.3"
  }
 },
 "nbformat": 4,
 "nbformat_minor": 4
}
