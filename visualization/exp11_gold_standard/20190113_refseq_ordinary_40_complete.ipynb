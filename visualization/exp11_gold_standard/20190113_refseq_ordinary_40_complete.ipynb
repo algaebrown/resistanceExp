{
 "cells": [
  {
   "cell_type": "code",
   "execution_count": 21,
   "metadata": {},
   "outputs": [],
   "source": [
    "# gold_standard, problems with id!\n",
    "import pandas as pd\n",
    "def gold(gd):\n",
    "\n",
    "    gold = pd.read_csv(gd, header = 0)\n",
    "    gold['gene_one']=gold['gene1'].str.replace('|', '').str.replace('.', '')\n",
    "    gold['gene_two']=gold['gene2'].str.replace('|', '').str.replace('.', '')\n",
    "    \n",
    "    return(gold)"
   ]
  },
  {
   "cell_type": "code",
   "execution_count": 4,
   "metadata": {},
   "outputs": [],
   "source": [
    "gd = '/home/hermuba/data0118/goldstandard/tf_intersectpathway'\n",
    "gold_path = gold(gd)"
   ]
  },
  {
   "cell_type": "code",
   "execution_count": 5,
   "metadata": {},
   "outputs": [],
   "source": [
    "go = '/home/hermuba/data0118/goldstandard/tf_intersectGO'\n",
    "gold_go = gold(go)"
   ]
  },
  {
   "cell_type": "code",
   "execution_count": 6,
   "metadata": {},
   "outputs": [],
   "source": [
    "# selected connections > threshold\n",
    "d = pd.read_csv('/home/hermuba/data0118/network1122/refseq_ordinary_40', names = ['gene_one', 'gene_two', 'mutual_info', 'nrm_mutual'])"
   ]
  },
  {
   "cell_type": "code",
   "execution_count": 22,
   "metadata": {},
   "outputs": [],
   "source": [
    "# merging network with goldstandard\n",
    "def merge_gold(gold,d):\n",
    "    d1 = d.merge(gold, on= ['gene_one', 'gene_two'], sort = True)\n",
    "    d2 = d.merge(gold, left_on= ['gene_one', 'gene_two'], right_on= ['gene_two', 'gene_one'])\n",
    "    total = pd.concat([d1,d2])\n",
    "    total = total.drop(['gene_one_x','gene_one_y', 'gene_two_x', 'gene_two_y', 'gene_one', 'gene_two'], axis = 1)\n",
    "    return(d1)\n"
   ]
  },
  {
   "cell_type": "code",
   "execution_count": 9,
   "metadata": {},
   "outputs": [],
   "source": [
    "def net_property(total):\n",
    "    total_links = total.count()['gene1']\n",
    "    supported_links = total['goldstandard'].sum()\n",
    "    coverage = total['gene_one'].append(total['gene_two']).unique()\n",
    "    PPV = supported_links/total_links\n",
    "    return(len(coverage), PPV)"
   ]
  },
  {
   "cell_type": "code",
   "execution_count": 23,
   "metadata": {},
   "outputs": [
    {
     "data": {
      "text/plain": [
       "(669, 0.20624085811799123)"
      ]
     },
     "execution_count": 23,
     "metadata": {},
     "output_type": "execute_result"
    }
   ],
   "source": [
    "total_path = merge_gold(gold_path, d)\n",
    "net_property(total_path) #669 genes captured, PPV = 20%"
   ]
  },
  {
   "cell_type": "code",
   "execution_count": 25,
   "metadata": {},
   "outputs": [
    {
     "data": {
      "text/plain": [
       "(3432, 0.15679745620350372)"
      ]
     },
     "execution_count": 25,
     "metadata": {},
     "output_type": "execute_result"
    }
   ],
   "source": [
    "total_go = merge_gold(gold_go, d)\n",
    "net_property(total_go) #3432 genes captured, PPV = 15%"
   ]
  },
  {
   "cell_type": "code",
   "execution_count": 27,
   "metadata": {},
   "outputs": [
    {
     "data": {
      "text/plain": [
       "17097"
      ]
     },
     "execution_count": 27,
     "metadata": {},
     "output_type": "execute_result"
    }
   ],
   "source": [
    "len(d['gene_one'].append(d['gene_two']).unique()) # coverage 17097 genes"
   ]
  },
  {
   "cell_type": "code",
   "execution_count": null,
   "metadata": {},
   "outputs": [],
   "source": []
  }
 ],
 "metadata": {
  "kernelspec": {
   "display_name": "Python 3",
   "language": "python",
   "name": "python3"
  },
  "language_info": {
   "codemirror_mode": {
    "name": "ipython",
    "version": 3
   },
   "file_extension": ".py",
   "mimetype": "text/x-python",
   "name": "python",
   "nbconvert_exporter": "python",
   "pygments_lexer": "ipython3",
   "version": "3.6.7"
  }
 },
 "nbformat": 4,
 "nbformat_minor": 2
}
