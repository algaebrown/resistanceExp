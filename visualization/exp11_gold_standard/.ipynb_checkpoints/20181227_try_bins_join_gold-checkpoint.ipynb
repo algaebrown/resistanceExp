{
 "cells": [
  {
   "cell_type": "code",
   "execution_count": 2,
   "metadata": {},
   "outputs": [],
   "source": [
    "# in path + _mutual\n",
    "path = '/home/hermuba/data0118/mutual_info/blastp_out_max_evalue_pivot.smpl_ordinary'\n",
    "bins = ['5', '10', '20', '40', '80', '160']\n",
    "\n",
    "# out\n",
    "outfile = '/home/hermuba/data0118/goldstandard_context/'\n",
    "\n",
    "# gold_standard\n",
    "gd = '/home/hermuba/data0118/bench_set/sampled_200_itxn'\n",
    "import pandas as pd\n",
    "gold = pd.read_pickle(gd)"
   ]
  },
  {
   "cell_type": "code",
   "execution_count": 9,
   "metadata": {},
   "outputs": [],
   "source": [
    "gold['gene_one']=gold['gene1'].str.replace('|', '').str.replace('.', '')\n",
    "gold['gene_two']=gold['gene2'].str.replace('|', '').str.replace('.', '')"
   ]
  },
  {
   "cell_type": "code",
   "execution_count": 31,
   "metadata": {},
   "outputs": [
    {
     "data": {
      "text/plain": [
       "Index(['GO_inter', 'gene1', 'gene2', 'path_inter', 'domain_inter', 'gene_one',\n",
       "       'gene_two'],\n",
       "      dtype='object')"
      ]
     },
     "execution_count": 31,
     "metadata": {},
     "output_type": "execute_result"
    }
   ],
   "source": [
    "gold.columns"
   ]
  },
  {
   "cell_type": "code",
   "execution_count": 4,
   "metadata": {},
   "outputs": [],
   "source": [
    "def to_df(fname):\n",
    "    d = pd.read_csv(fname, header = 0)\n",
    "    return(d)"
   ]
  },
  {
   "cell_type": "code",
   "execution_count": 183,
   "metadata": {},
   "outputs": [],
   "source": [
    "t_list = [join_gold(path + b + '_mutual', gold) for b in bins]"
   ]
  },
  {
   "cell_type": "code",
   "execution_count": 1,
   "metadata": {},
   "outputs": [],
   "source": [
    "def join_gold(path, gold):\n",
    "    d = to_df(path)\n",
    "    d1 = d.merge(gold, on= ['gene_one', 'gene_two'], sort = True)\n",
    "    d2 = d.merge(gold, left_on= ['gene_one', 'gene_two'], right_on= ['gene_two', 'gene_one'])\n",
    "    total = pd.concat([d1,d2])\n",
    "    total = total.drop(['gene_one_x','gene_one_y', 'gene_two_x', 'gene_two_y', 'gene_one', 'gene_two'], axis = 1)\n",
    "    return(total)"
   ]
  },
  {
   "cell_type": "code",
   "execution_count": 187,
   "metadata": {},
   "outputs": [],
   "source": [
    "import matplotlib.pyplot as plt\n",
    "%matplotlib inline\n",
    "def return_stats(d, term):\n",
    "    '''\n",
    "    input: dataframe from `to_df`\n",
    "    output: stats representing true and false interacting pairs\n",
    "    '''\n",
    "    \n",
    "    d.boxplot(column = ['mutual_info', 'nrm_mutual'], by = term)\n",
    "    group_d = d.groupby(by = term)\n",
    "    \n",
    "    return(group_d[['mutual_info', 'nrm_mutual']].describe())\n",
    "def kde_d(d, term):\n",
    "    \n",
    "    group_d = d.groupby(by = term)\n",
    "    plt.subplot(211) \n",
    "    group_d['mutual_info'].plot(kind = 'kde', legend = True, title = 'mutual '+term)\n",
    "    plt.subplot(212)\n",
    "    group_d['nrm_mutual'].plot(kind = 'kde', legend = True, title = 'normalized_mutual '+term)\n",
    "\n",
    "def LLS(d, score, term):\n",
    "    # seperate mutual info score into 100 categories\n",
    "    d['cut_mutual'] = pd.cut(d[score], 100)\n",
    "    \n",
    "    grouped = d.groupby(by = [term, 'cut_mutual']).count()['gene1']\n",
    "    \n",
    "    lls = grouped[1]/grouped[0]/(grouped[1].sum()/grouped[0].sum())\n",
    "    \n",
    "    \n",
    "    return(lls)\n",
    "\n",
    "def cutpoint(lls):\n",
    "    return(lls.diff().idxmax().left)\n",
    "\n",
    "def matrix(d, term, score):\n",
    "    lls = LLS(d, score, term)\n",
    "    c = cutpoint(lls)\n",
    "    #c = 0.6\n",
    "    print(c)\n",
    "    d['net_class'] = d[score].map(lambda x: True if x> c else False)\n",
    "    grouped = d.groupby(by = [term, 'net_class']).count()['gene1']\n",
    "    \n",
    "    tp = grouped[1, True]\n",
    "    fp = grouped[0, True]\n",
    "    tn = grouped[0, False]\n",
    "    fn = grouped[1, False]\n",
    "    \n",
    "    sen = tp/(tp+fn)\n",
    "    spec = tn/(tn+fp)\n",
    "    ppv = tp/(tp+fp)\n",
    "    npv = tn/(tn+fn)\n",
    "    return(sen, spec, ppv, npv)"
   ]
  },
  {
   "cell_type": "code",
   "execution_count": 164,
   "metadata": {},
   "outputs": [
    {
     "name": "stdout",
     "output_type": "stream",
     "text": [
      "0.618\n",
      "0.658\n",
      "0.592\n",
      "0.658\n",
      "0.607\n",
      "0.592\n"
     ]
    },
    {
     "data": {
      "text/html": [
       "<div>\n",
       "<style scoped>\n",
       "    .dataframe tbody tr th:only-of-type {\n",
       "        vertical-align: middle;\n",
       "    }\n",
       "\n",
       "    .dataframe tbody tr th {\n",
       "        vertical-align: top;\n",
       "    }\n",
       "\n",
       "    .dataframe thead th {\n",
       "        text-align: right;\n",
       "    }\n",
       "</style>\n",
       "<table border=\"1\" class=\"dataframe\">\n",
       "  <thead>\n",
       "    <tr style=\"text-align: right;\">\n",
       "      <th></th>\n",
       "      <th>sensitivity</th>\n",
       "      <th>specificity</th>\n",
       "      <th>PPV</th>\n",
       "      <th>NPV</th>\n",
       "    </tr>\n",
       "  </thead>\n",
       "  <tbody>\n",
       "    <tr>\n",
       "      <th>0</th>\n",
       "      <td>0.107570</td>\n",
       "      <td>0.992773</td>\n",
       "      <td>0.159763</td>\n",
       "      <td>0.988647</td>\n",
       "    </tr>\n",
       "    <tr>\n",
       "      <th>1</th>\n",
       "      <td>0.047809</td>\n",
       "      <td>0.998982</td>\n",
       "      <td>0.375000</td>\n",
       "      <td>0.987971</td>\n",
       "    </tr>\n",
       "    <tr>\n",
       "      <th>2</th>\n",
       "      <td>0.059761</td>\n",
       "      <td>0.997404</td>\n",
       "      <td>0.227273</td>\n",
       "      <td>0.988101</td>\n",
       "    </tr>\n",
       "    <tr>\n",
       "      <th>3</th>\n",
       "      <td>0.039841</td>\n",
       "      <td>0.999847</td>\n",
       "      <td>0.769231</td>\n",
       "      <td>0.987882</td>\n",
       "    </tr>\n",
       "    <tr>\n",
       "      <th>4</th>\n",
       "      <td>0.055777</td>\n",
       "      <td>0.999135</td>\n",
       "      <td>0.451613</td>\n",
       "      <td>0.988072</td>\n",
       "    </tr>\n",
       "    <tr>\n",
       "      <th>5</th>\n",
       "      <td>0.063745</td>\n",
       "      <td>0.998626</td>\n",
       "      <td>0.372093</td>\n",
       "      <td>0.988165</td>\n",
       "    </tr>\n",
       "  </tbody>\n",
       "</table>\n",
       "</div>"
      ],
      "text/plain": [
       "   sensitivity  specificity       PPV       NPV\n",
       "0     0.107570     0.992773  0.159763  0.988647\n",
       "1     0.047809     0.998982  0.375000  0.987971\n",
       "2     0.059761     0.997404  0.227273  0.988101\n",
       "3     0.039841     0.999847  0.769231  0.987882\n",
       "4     0.055777     0.999135  0.451613  0.988072\n",
       "5     0.063745     0.998626  0.372093  0.988165"
      ]
     },
     "execution_count": 164,
     "metadata": {},
     "output_type": "execute_result"
    }
   ],
   "source": [
    "m = pd.DataFrame(columns = ['sensitivity', 'specificity', 'PPV', 'NPV'])\n",
    "for i, t in enumerate(t_list):\n",
    "    m.loc[i] = matrix(t, 'path_inter', 'nrm_mutual')\n",
    "m"
   ]
  },
  {
   "cell_type": "code",
   "execution_count": 162,
   "metadata": {
    "scrolled": true
   },
   "outputs": [
    {
     "name": "stdout",
     "output_type": "stream",
     "text": [
      "0.746\n",
      "0.658\n",
      "0.559\n",
      "0.658\n",
      "0.607\n",
      "0.6\n"
     ]
    },
    {
     "data": {
      "text/html": [
       "<div>\n",
       "<style scoped>\n",
       "    .dataframe tbody tr th:only-of-type {\n",
       "        vertical-align: middle;\n",
       "    }\n",
       "\n",
       "    .dataframe tbody tr th {\n",
       "        vertical-align: top;\n",
       "    }\n",
       "\n",
       "    .dataframe thead th {\n",
       "        text-align: right;\n",
       "    }\n",
       "</style>\n",
       "<table border=\"1\" class=\"dataframe\">\n",
       "  <thead>\n",
       "    <tr style=\"text-align: right;\">\n",
       "      <th></th>\n",
       "      <th>sensitivity</th>\n",
       "      <th>specificity</th>\n",
       "      <th>PPV</th>\n",
       "      <th>NPV</th>\n",
       "    </tr>\n",
       "  </thead>\n",
       "  <tbody>\n",
       "    <tr>\n",
       "      <th>0</th>\n",
       "      <td>0.004545</td>\n",
       "      <td>0.999283</td>\n",
       "      <td>0.380952</td>\n",
       "      <td>0.911867</td>\n",
       "    </tr>\n",
       "    <tr>\n",
       "      <th>1</th>\n",
       "      <td>0.006818</td>\n",
       "      <td>0.998897</td>\n",
       "      <td>0.375000</td>\n",
       "      <td>0.912019</td>\n",
       "    </tr>\n",
       "    <tr>\n",
       "      <th>2</th>\n",
       "      <td>0.014773</td>\n",
       "      <td>0.993330</td>\n",
       "      <td>0.176871</td>\n",
       "      <td>0.912216</td>\n",
       "    </tr>\n",
       "    <tr>\n",
       "      <th>3</th>\n",
       "      <td>0.005682</td>\n",
       "      <td>0.999835</td>\n",
       "      <td>0.769231</td>\n",
       "      <td>0.912003</td>\n",
       "    </tr>\n",
       "    <tr>\n",
       "      <th>4</th>\n",
       "      <td>0.007955</td>\n",
       "      <td>0.999063</td>\n",
       "      <td>0.451613</td>\n",
       "      <td>0.912124</td>\n",
       "    </tr>\n",
       "    <tr>\n",
       "      <th>5</th>\n",
       "      <td>0.008523</td>\n",
       "      <td>0.998953</td>\n",
       "      <td>0.441176</td>\n",
       "      <td>0.912161</td>\n",
       "    </tr>\n",
       "  </tbody>\n",
       "</table>\n",
       "</div>"
      ],
      "text/plain": [
       "   sensitivity  specificity       PPV       NPV\n",
       "0     0.004545     0.999283  0.380952  0.911867\n",
       "1     0.006818     0.998897  0.375000  0.912019\n",
       "2     0.014773     0.993330  0.176871  0.912216\n",
       "3     0.005682     0.999835  0.769231  0.912003\n",
       "4     0.007955     0.999063  0.451613  0.912124\n",
       "5     0.008523     0.998953  0.441176  0.912161"
      ]
     },
     "execution_count": 162,
     "metadata": {},
     "output_type": "execute_result"
    }
   ],
   "source": [
    "m = pd.DataFrame(columns = ['sensitivity', 'specificity', 'PPV', 'NPV'])\n",
    "for i, t in enumerate(t_list):\n",
    "    m.loc[i] = matrix(t, 'GO_inter', 'nrm_mutual')\n",
    "m # 3 is the best 40 bins"
   ]
  },
  {
   "cell_type": "code",
   "execution_count": 199,
   "metadata": {},
   "outputs": [
    {
     "data": {
      "text/plain": [
       "<matplotlib.axes._subplots.AxesSubplot at 0x7f0c404c67f0>"
      ]
     },
     "execution_count": 199,
     "metadata": {},
     "output_type": "execute_result"
    },
    {
     "data": {
      "image/png": "[encoded data removed]",
      "text/plain": [
       "<Figure size 432x288 with 1 Axes>"
      ]
     },
     "metadata": {
      "needs_background": "light"
     },
     "output_type": "display_data"
    }
   ],
   "source": [
    "m['PPV'].plot()"
   ]
  },
  {
   "cell_type": "code",
   "execution_count": 163,
   "metadata": {},
   "outputs": [
    {
     "name": "stdout",
     "output_type": "stream",
     "text": [
      "0.727\n",
      "0.658\n",
      "0.592\n",
      "0.587\n",
      "0.607\n",
      "0.00852\n"
     ]
    },
    {
     "data": {
      "text/html": [
       "<div>\n",
       "<style scoped>\n",
       "    .dataframe tbody tr th:only-of-type {\n",
       "        vertical-align: middle;\n",
       "    }\n",
       "\n",
       "    .dataframe tbody tr th {\n",
       "        vertical-align: top;\n",
       "    }\n",
       "\n",
       "    .dataframe thead th {\n",
       "        text-align: right;\n",
       "    }\n",
       "</style>\n",
       "<table border=\"1\" class=\"dataframe\">\n",
       "  <thead>\n",
       "    <tr style=\"text-align: right;\">\n",
       "      <th></th>\n",
       "      <th>sensitivity</th>\n",
       "      <th>specificity</th>\n",
       "      <th>PPV</th>\n",
       "      <th>NPV</th>\n",
       "    </tr>\n",
       "  </thead>\n",
       "  <tbody>\n",
       "    <tr>\n",
       "      <th>0</th>\n",
       "      <td>0.026549</td>\n",
       "      <td>0.998875</td>\n",
       "      <td>0.290323</td>\n",
       "      <td>0.983391</td>\n",
       "    </tr>\n",
       "    <tr>\n",
       "      <th>1</th>\n",
       "      <td>0.035398</td>\n",
       "      <td>0.998978</td>\n",
       "      <td>0.375000</td>\n",
       "      <td>0.983541</td>\n",
       "    </tr>\n",
       "    <tr>\n",
       "      <th>2</th>\n",
       "      <td>0.041298</td>\n",
       "      <td>0.997342</td>\n",
       "      <td>0.212121</td>\n",
       "      <td>0.983614</td>\n",
       "    </tr>\n",
       "    <tr>\n",
       "      <th>3</th>\n",
       "      <td>0.041298</td>\n",
       "      <td>0.997751</td>\n",
       "      <td>0.241379</td>\n",
       "      <td>0.983621</td>\n",
       "    </tr>\n",
       "    <tr>\n",
       "      <th>4</th>\n",
       "      <td>0.038348</td>\n",
       "      <td>0.999080</td>\n",
       "      <td>0.419355</td>\n",
       "      <td>0.983593</td>\n",
       "    </tr>\n",
       "    <tr>\n",
       "      <th>5</th>\n",
       "      <td>0.997050</td>\n",
       "      <td>0.003374</td>\n",
       "      <td>0.017042</td>\n",
       "      <td>0.985075</td>\n",
       "    </tr>\n",
       "  </tbody>\n",
       "</table>\n",
       "</div>"
      ],
      "text/plain": [
       "   sensitivity  specificity       PPV       NPV\n",
       "0     0.026549     0.998875  0.290323  0.983391\n",
       "1     0.035398     0.998978  0.375000  0.983541\n",
       "2     0.041298     0.997342  0.212121  0.983614\n",
       "3     0.041298     0.997751  0.241379  0.983621\n",
       "4     0.038348     0.999080  0.419355  0.983593\n",
       "5     0.997050     0.003374  0.017042  0.985075"
      ]
     },
     "execution_count": 163,
     "metadata": {},
     "output_type": "execute_result"
    }
   ],
   "source": [
    "m = pd.DataFrame(columns = ['sensitivity', 'specificity', 'PPV', 'NPV'])\n",
    "for i, t in enumerate(t_list):\n",
    "    m.loc[i] = matrix(t, 'domain_inter', 'nrm_mutual')\n",
    "m # 40 bins"
   ]
  },
  {
   "cell_type": "code",
   "execution_count": 169,
   "metadata": {},
   "outputs": [
    {
     "data": {
      "text/plain": [
       "<matplotlib.axes._subplots.AxesSubplot at 0x7f0c3e414438>"
      ]
     },
     "execution_count": 169,
     "metadata": {},
     "output_type": "execute_result"
    },
    {
     "data": {
      "image/png": "[encoded data removed]",
      "text/plain": [
       "<Figure size 432x288 with 1 Axes>"
      ]
     },
     "metadata": {
      "needs_background": "light"
     },
     "output_type": "display_data"
    }
   ],
   "source": [
    "LLS(t_list[5], 'nrm_mutual', 'domain_inter').plot()"
   ]
  },
  {
   "cell_type": "code",
   "execution_count": 81,
   "metadata": {},
   "outputs": [],
   "source": [
    "def report(d, term):\n",
    "    \n",
    "    group_d = d.groupby(by = term)\n",
    "    plt.subplot(221)\n",
    "    group_d['mutual_info'].plot(kind = 'kde', legend = True, title = 'mutual'+term)\n",
    "    plt.subplot(222)\n",
    "    group_d['nrm_mutual'].plot(kind = 'kde', legend = True, title = 'normalized_mutual'+term)\n",
    "    \n",
    "    plt.subplot(223)\n",
    "    LLS(d, 'mutual_info', term).plot()\n",
    "    \n",
    "    plt.subplot(224)\n",
    "    LLS(d, 'nrm_mutual', term).plot()\n",
    "    d.boxplot(column = ['mutual_info', 'nrm_mutual'], by = term)\n",
    "    "
   ]
  },
  {
   "cell_type": "code",
   "execution_count": 171,
   "metadata": {},
   "outputs": [
    {
     "data": {
      "image/png": "[encoded data removed]",
      "text/plain": [
       "<Figure size 432x288 with 4 Axes>"
      ]
     },
     "metadata": {
      "needs_background": "light"
     },
     "output_type": "display_data"
    },
    {
     "data": {
      "image/png": "[encoded data removed]",
      "text/plain": [
       "<Figure size 432x288 with 2 Axes>"
      ]
     },
     "metadata": {
      "needs_background": "light"
     },
     "output_type": "display_data"
    }
   ],
   "source": [
    "report(t_list[3], 'GO_inter') # best bin to now is 40"
   ]
  },
  {
   "cell_type": "code",
   "execution_count": 170,
   "metadata": {},
   "outputs": [
    {
     "data": {
      "image/png": "[encoded data removed]",
      "text/plain": [
       "<Figure size 432x288 with 4 Axes>"
      ]
     },
     "metadata": {
      "needs_background": "light"
     },
     "output_type": "display_data"
    },
    {
     "data": {
      "image/png": "[encoded data removed]",
      "text/plain": [
       "<Figure size 432x288 with 2 Axes>"
      ]
     },
     "metadata": {
      "needs_background": "light"
     },
     "output_type": "display_data"
    }
   ],
   "source": [
    "report(t_list[3], 'path_inter')"
   ]
  },
  {
   "cell_type": "code",
   "execution_count": 184,
   "metadata": {},
   "outputs": [
    {
     "name": "stdout",
     "output_type": "stream",
     "text": [
      "0.559\n",
      "0.593\n",
      "0.658\n",
      "0.561\n",
      "0.578\n",
      "0.571\n",
      "0.607\n"
     ]
    },
    {
     "data": {
      "text/html": [
       "<div>\n",
       "<style scoped>\n",
       "    .dataframe tbody tr th:only-of-type {\n",
       "        vertical-align: middle;\n",
       "    }\n",
       "\n",
       "    .dataframe tbody tr th {\n",
       "        vertical-align: top;\n",
       "    }\n",
       "\n",
       "    .dataframe thead th {\n",
       "        text-align: right;\n",
       "    }\n",
       "</style>\n",
       "<table border=\"1\" class=\"dataframe\">\n",
       "  <thead>\n",
       "    <tr style=\"text-align: right;\">\n",
       "      <th></th>\n",
       "      <th>sensitivity</th>\n",
       "      <th>specificity</th>\n",
       "      <th>PPV</th>\n",
       "      <th>NPV</th>\n",
       "      <th>bin</th>\n",
       "    </tr>\n",
       "  </thead>\n",
       "  <tbody>\n",
       "    <tr>\n",
       "      <th>0</th>\n",
       "      <td>0.014773</td>\n",
       "      <td>0.993330</td>\n",
       "      <td>0.176871</td>\n",
       "      <td>0.912216</td>\n",
       "      <td>20</td>\n",
       "    </tr>\n",
       "    <tr>\n",
       "      <th>1</th>\n",
       "      <td>0.009659</td>\n",
       "      <td>0.997299</td>\n",
       "      <td>0.257576</td>\n",
       "      <td>0.912121</td>\n",
       "      <td>30</td>\n",
       "    </tr>\n",
       "    <tr>\n",
       "      <th>2</th>\n",
       "      <td>0.005682</td>\n",
       "      <td>0.999835</td>\n",
       "      <td>0.769231</td>\n",
       "      <td>0.912003</td>\n",
       "      <td>40</td>\n",
       "    </tr>\n",
       "    <tr>\n",
       "      <th>3</th>\n",
       "      <td>0.014205</td>\n",
       "      <td>0.995480</td>\n",
       "      <td>0.233645</td>\n",
       "      <td>0.912343</td>\n",
       "      <td>50</td>\n",
       "    </tr>\n",
       "    <tr>\n",
       "      <th>4</th>\n",
       "      <td>0.010227</td>\n",
       "      <td>0.997464</td>\n",
       "      <td>0.281250</td>\n",
       "      <td>0.912180</td>\n",
       "      <td>60</td>\n",
       "    </tr>\n",
       "    <tr>\n",
       "      <th>5</th>\n",
       "      <td>0.011364</td>\n",
       "      <td>0.996913</td>\n",
       "      <td>0.263158</td>\n",
       "      <td>0.912228</td>\n",
       "      <td>70</td>\n",
       "    </tr>\n",
       "    <tr>\n",
       "      <th>6</th>\n",
       "      <td>0.007955</td>\n",
       "      <td>0.999063</td>\n",
       "      <td>0.451613</td>\n",
       "      <td>0.912124</td>\n",
       "      <td>80</td>\n",
       "    </tr>\n",
       "  </tbody>\n",
       "</table>\n",
       "</div>"
      ],
      "text/plain": [
       "   sensitivity  specificity       PPV       NPV bin\n",
       "0     0.014773     0.993330  0.176871  0.912216  20\n",
       "1     0.009659     0.997299  0.257576  0.912121  30\n",
       "2     0.005682     0.999835  0.769231  0.912003  40\n",
       "3     0.014205     0.995480  0.233645  0.912343  50\n",
       "4     0.010227     0.997464  0.281250  0.912180  60\n",
       "5     0.011364     0.996913  0.263158  0.912228  70\n",
       "6     0.007955     0.999063  0.451613  0.912124  80"
      ]
     },
     "execution_count": 184,
     "metadata": {},
     "output_type": "execute_result"
    }
   ],
   "source": [
    "bins = ['20','30', '40', '50', '60', '70', '80']# to further optimize\n",
    "t_list = [join_gold(path + b + '_mutual', gold) for b in bins]\n",
    "m = pd.DataFrame(columns = ['sensitivity', 'specificity', 'PPV', 'NPV'])\n",
    "for i, t in enumerate(t_list):\n",
    "    m.loc[i] = matrix(t, 'GO_inter', 'nrm_mutual')\n",
    "m['bin'] = bins # 3 is the best 40 bins\n",
    "m"
   ]
  },
  {
   "cell_type": "code",
   "execution_count": 198,
   "metadata": {},
   "outputs": [
    {
     "data": {
      "text/plain": [
       "<matplotlib.axes._subplots.AxesSubplot at 0x7f0c3e3b5320>"
      ]
     },
     "execution_count": 198,
     "metadata": {},
     "output_type": "execute_result"
    },
    {
     "data": {
      "image/png": "[encoded data removed]",
      "text/plain": [
       "<Figure size 432x288 with 1 Axes>"
      ]
     },
     "metadata": {
      "needs_background": "light"
     },
     "output_type": "display_data"
    }
   ],
   "source": [
    "m['PPV'].plot()"
   ]
  },
  {
   "cell_type": "code",
   "execution_count": 188,
   "metadata": {},
   "outputs": [
    {
     "name": "stdout",
     "output_type": "stream",
     "text": [
      "0.592\n",
      "0.568\n",
      "0.658\n",
      "0.514\n",
      "0.602\n",
      "0.602\n",
      "0.607\n"
     ]
    },
    {
     "data": {
      "text/html": [
       "<div>\n",
       "<style scoped>\n",
       "    .dataframe tbody tr th:only-of-type {\n",
       "        vertical-align: middle;\n",
       "    }\n",
       "\n",
       "    .dataframe tbody tr th {\n",
       "        vertical-align: top;\n",
       "    }\n",
       "\n",
       "    .dataframe thead th {\n",
       "        text-align: right;\n",
       "    }\n",
       "</style>\n",
       "<table border=\"1\" class=\"dataframe\">\n",
       "  <thead>\n",
       "    <tr style=\"text-align: right;\">\n",
       "      <th></th>\n",
       "      <th>sensitivity</th>\n",
       "      <th>specificity</th>\n",
       "      <th>PPV</th>\n",
       "      <th>NPV</th>\n",
       "      <th>bin</th>\n",
       "    </tr>\n",
       "  </thead>\n",
       "  <tbody>\n",
       "    <tr>\n",
       "      <th>0</th>\n",
       "      <td>0.059761</td>\n",
       "      <td>0.997404</td>\n",
       "      <td>0.227273</td>\n",
       "      <td>0.988101</td>\n",
       "      <td>20</td>\n",
       "    </tr>\n",
       "    <tr>\n",
       "      <th>1</th>\n",
       "      <td>0.071713</td>\n",
       "      <td>0.995471</td>\n",
       "      <td>0.168224</td>\n",
       "      <td>0.988228</td>\n",
       "      <td>30</td>\n",
       "    </tr>\n",
       "    <tr>\n",
       "      <th>2</th>\n",
       "      <td>0.039841</td>\n",
       "      <td>0.999847</td>\n",
       "      <td>0.769231</td>\n",
       "      <td>0.987882</td>\n",
       "      <td>40</td>\n",
       "    </tr>\n",
       "    <tr>\n",
       "      <th>3</th>\n",
       "      <td>0.103586</td>\n",
       "      <td>0.984885</td>\n",
       "      <td>0.080495</td>\n",
       "      <td>0.988507</td>\n",
       "      <td>50</td>\n",
       "    </tr>\n",
       "    <tr>\n",
       "      <th>4</th>\n",
       "      <td>0.055777</td>\n",
       "      <td>0.998982</td>\n",
       "      <td>0.411765</td>\n",
       "      <td>0.988070</td>\n",
       "      <td>60</td>\n",
       "    </tr>\n",
       "    <tr>\n",
       "      <th>5</th>\n",
       "      <td>0.055777</td>\n",
       "      <td>0.998728</td>\n",
       "      <td>0.358974</td>\n",
       "      <td>0.988067</td>\n",
       "      <td>70</td>\n",
       "    </tr>\n",
       "    <tr>\n",
       "      <th>6</th>\n",
       "      <td>0.055777</td>\n",
       "      <td>0.999135</td>\n",
       "      <td>0.451613</td>\n",
       "      <td>0.988072</td>\n",
       "      <td>80</td>\n",
       "    </tr>\n",
       "  </tbody>\n",
       "</table>\n",
       "</div>"
      ],
      "text/plain": [
       "   sensitivity  specificity       PPV       NPV bin\n",
       "0     0.059761     0.997404  0.227273  0.988101  20\n",
       "1     0.071713     0.995471  0.168224  0.988228  30\n",
       "2     0.039841     0.999847  0.769231  0.987882  40\n",
       "3     0.103586     0.984885  0.080495  0.988507  50\n",
       "4     0.055777     0.998982  0.411765  0.988070  60\n",
       "5     0.055777     0.998728  0.358974  0.988067  70\n",
       "6     0.055777     0.999135  0.451613  0.988072  80"
      ]
     },
     "execution_count": 188,
     "metadata": {},
     "output_type": "execute_result"
    }
   ],
   "source": [
    "m = pd.DataFrame(columns = ['sensitivity', 'specificity', 'PPV', 'NPV'])\n",
    "for i, t in enumerate(t_list):\n",
    "    m.loc[i] = matrix(t, 'path_inter', 'nrm_mutual')\n",
    "m['bin'] = bins # 3 is the best 40 bins\n",
    "m"
   ]
  },
  {
   "cell_type": "code",
   "execution_count": 191,
   "metadata": {},
   "outputs": [
    {
     "data": {
      "image/png": "[encoded data removed]",
      "text/plain": [
       "<Figure size 432x288 with 1 Axes>"
      ]
     },
     "metadata": {
      "needs_background": "light"
     },
     "output_type": "display_data"
    }
   ],
   "source": [
    "# is the problem from lls threshold?\n",
    "for t in t_list:\n",
    "    LLS(t, 'nrm_mutual','GO_inter').plot(legend = True)"
   ]
  },
  {
   "cell_type": "code",
   "execution_count": 192,
   "metadata": {
    "scrolled": true
   },
   "outputs": [
    {
     "data": {
      "image/png": "[encoded data removed]",
      "text/plain": [
       "<Figure size 432x288 with 1 Axes>"
      ]
     },
     "metadata": {
      "needs_background": "light"
     },
     "output_type": "display_data"
    }
   ],
   "source": [
    "for t in t_list:\n",
    "    LLS(t, 'nrm_mutual','path_inter').plot(legend = True)"
   ]
  },
  {
   "cell_type": "code",
   "execution_count": 200,
   "metadata": {},
   "outputs": [
    {
     "name": "stdout",
     "output_type": "stream",
     "text": [
      "0.593\n",
      "0.644\n",
      "0.658\n",
      "0.577\n",
      "0.561\n",
      "0.578\n"
     ]
    },
    {
     "data": {
      "text/html": [
       "<div>\n",
       "<style scoped>\n",
       "    .dataframe tbody tr th:only-of-type {\n",
       "        vertical-align: middle;\n",
       "    }\n",
       "\n",
       "    .dataframe tbody tr th {\n",
       "        vertical-align: top;\n",
       "    }\n",
       "\n",
       "    .dataframe thead th {\n",
       "        text-align: right;\n",
       "    }\n",
       "</style>\n",
       "<table border=\"1\" class=\"dataframe\">\n",
       "  <thead>\n",
       "    <tr style=\"text-align: right;\">\n",
       "      <th></th>\n",
       "      <th>sensitivity</th>\n",
       "      <th>specificity</th>\n",
       "      <th>PPV</th>\n",
       "      <th>NPV</th>\n",
       "      <th>bin</th>\n",
       "    </tr>\n",
       "  </thead>\n",
       "  <tbody>\n",
       "    <tr>\n",
       "      <th>0</th>\n",
       "      <td>0.009659</td>\n",
       "      <td>0.997299</td>\n",
       "      <td>0.257576</td>\n",
       "      <td>0.912121</td>\n",
       "      <td>30</td>\n",
       "    </tr>\n",
       "    <tr>\n",
       "      <th>1</th>\n",
       "      <td>0.006818</td>\n",
       "      <td>0.999614</td>\n",
       "      <td>0.631579</td>\n",
       "      <td>0.912077</td>\n",
       "      <td>35</td>\n",
       "    </tr>\n",
       "    <tr>\n",
       "      <th>2</th>\n",
       "      <td>0.005682</td>\n",
       "      <td>0.999835</td>\n",
       "      <td>0.769231</td>\n",
       "      <td>0.912003</td>\n",
       "      <td>40</td>\n",
       "    </tr>\n",
       "    <tr>\n",
       "      <th>3</th>\n",
       "      <td>0.010227</td>\n",
       "      <td>0.997354</td>\n",
       "      <td>0.272727</td>\n",
       "      <td>0.912171</td>\n",
       "      <td>45</td>\n",
       "    </tr>\n",
       "    <tr>\n",
       "      <th>4</th>\n",
       "      <td>0.014205</td>\n",
       "      <td>0.995480</td>\n",
       "      <td>0.233645</td>\n",
       "      <td>0.912343</td>\n",
       "      <td>50</td>\n",
       "    </tr>\n",
       "    <tr>\n",
       "      <th>5</th>\n",
       "      <td>0.010227</td>\n",
       "      <td>0.997464</td>\n",
       "      <td>0.281250</td>\n",
       "      <td>0.912180</td>\n",
       "      <td>60</td>\n",
       "    </tr>\n",
       "  </tbody>\n",
       "</table>\n",
       "</div>"
      ],
      "text/plain": [
       "   sensitivity  specificity       PPV       NPV bin\n",
       "0     0.009659     0.997299  0.257576  0.912121  30\n",
       "1     0.006818     0.999614  0.631579  0.912077  35\n",
       "2     0.005682     0.999835  0.769231  0.912003  40\n",
       "3     0.010227     0.997354  0.272727  0.912171  45\n",
       "4     0.014205     0.995480  0.233645  0.912343  50\n",
       "5     0.010227     0.997464  0.281250  0.912180  60"
      ]
     },
     "execution_count": 200,
     "metadata": {},
     "output_type": "execute_result"
    }
   ],
   "source": [
    "# further\n",
    "bins = ['30','35','40','45','50', '60']# to further optimize\n",
    "t_list = [join_gold(path + b + '_mutual', gold) for b in bins]\n",
    "m = pd.DataFrame(columns = ['sensitivity', 'specificity', 'PPV', 'NPV'])\n",
    "for i, t in enumerate(t_list):\n",
    "    m.loc[i] = matrix(t, 'GO_inter', 'nrm_mutual')\n",
    "m['bin'] = bins # 3 is the best 40 bins\n",
    "m"
   ]
  },
  {
   "cell_type": "code",
   "execution_count": 201,
   "metadata": {},
   "outputs": [
    {
     "name": "stdout",
     "output_type": "stream",
     "text": [
      "0.568\n",
      "0.573\n",
      "0.658\n",
      "0.609\n",
      "0.514\n",
      "0.602\n"
     ]
    },
    {
     "data": {
      "text/html": [
       "<div>\n",
       "<style scoped>\n",
       "    .dataframe tbody tr th:only-of-type {\n",
       "        vertical-align: middle;\n",
       "    }\n",
       "\n",
       "    .dataframe tbody tr th {\n",
       "        vertical-align: top;\n",
       "    }\n",
       "\n",
       "    .dataframe thead th {\n",
       "        text-align: right;\n",
       "    }\n",
       "</style>\n",
       "<table border=\"1\" class=\"dataframe\">\n",
       "  <thead>\n",
       "    <tr style=\"text-align: right;\">\n",
       "      <th></th>\n",
       "      <th>sensitivity</th>\n",
       "      <th>specificity</th>\n",
       "      <th>PPV</th>\n",
       "      <th>NPV</th>\n",
       "      <th>bin</th>\n",
       "    </tr>\n",
       "  </thead>\n",
       "  <tbody>\n",
       "    <tr>\n",
       "      <th>0</th>\n",
       "      <td>0.071713</td>\n",
       "      <td>0.995471</td>\n",
       "      <td>0.168224</td>\n",
       "      <td>0.988228</td>\n",
       "      <td>30</td>\n",
       "    </tr>\n",
       "    <tr>\n",
       "      <th>1</th>\n",
       "      <td>0.075697</td>\n",
       "      <td>0.996234</td>\n",
       "      <td>0.204301</td>\n",
       "      <td>0.988287</td>\n",
       "      <td>35</td>\n",
       "    </tr>\n",
       "    <tr>\n",
       "      <th>2</th>\n",
       "      <td>0.039841</td>\n",
       "      <td>0.999847</td>\n",
       "      <td>0.769231</td>\n",
       "      <td>0.987882</td>\n",
       "      <td>40</td>\n",
       "    </tr>\n",
       "    <tr>\n",
       "      <th>3</th>\n",
       "      <td>0.051793</td>\n",
       "      <td>0.999033</td>\n",
       "      <td>0.406250</td>\n",
       "      <td>0.988021</td>\n",
       "      <td>45</td>\n",
       "    </tr>\n",
       "    <tr>\n",
       "      <th>4</th>\n",
       "      <td>0.103586</td>\n",
       "      <td>0.984885</td>\n",
       "      <td>0.080495</td>\n",
       "      <td>0.988507</td>\n",
       "      <td>50</td>\n",
       "    </tr>\n",
       "    <tr>\n",
       "      <th>5</th>\n",
       "      <td>0.055777</td>\n",
       "      <td>0.998982</td>\n",
       "      <td>0.411765</td>\n",
       "      <td>0.988070</td>\n",
       "      <td>60</td>\n",
       "    </tr>\n",
       "  </tbody>\n",
       "</table>\n",
       "</div>"
      ],
      "text/plain": [
       "   sensitivity  specificity       PPV       NPV bin\n",
       "0     0.071713     0.995471  0.168224  0.988228  30\n",
       "1     0.075697     0.996234  0.204301  0.988287  35\n",
       "2     0.039841     0.999847  0.769231  0.987882  40\n",
       "3     0.051793     0.999033  0.406250  0.988021  45\n",
       "4     0.103586     0.984885  0.080495  0.988507  50\n",
       "5     0.055777     0.998982  0.411765  0.988070  60"
      ]
     },
     "execution_count": 201,
     "metadata": {},
     "output_type": "execute_result"
    }
   ],
   "source": [
    "# further\n",
    "m = pd.DataFrame(columns = ['sensitivity', 'specificity', 'PPV', 'NPV'])\n",
    "for i, t in enumerate(t_list):\n",
    "    m.loc[i] = matrix(t, 'path_inter', 'nrm_mutual')\n",
    "m['bin'] = bins # 3 is the best 40 bins\n",
    "m"
   ]
  },
  {
   "cell_type": "code",
   "execution_count": 202,
   "metadata": {},
   "outputs": [
    {
     "data": {
      "image/png": "[encoded data removed]",
      "text/plain": [
       "<Figure size 432x288 with 1 Axes>"
      ]
     },
     "metadata": {
      "needs_background": "light"
     },
     "output_type": "display_data"
    }
   ],
   "source": [
    "for t in t_list:\n",
    "    LLS(t, 'nrm_mutual','GO_inter').plot(legend = True)"
   ]
  },
  {
   "cell_type": "code",
   "execution_count": 203,
   "metadata": {},
   "outputs": [
    {
     "data": {
      "image/png": "[encoded data removed]",
      "text/plain": [
       "<Figure size 432x288 with 1 Axes>"
      ]
     },
     "metadata": {
      "needs_background": "light"
     },
     "output_type": "display_data"
    }
   ],
   "source": [
    "for t in t_list:\n",
    "    LLS(t, 'nrm_mutual','path_inter').plot(legend = True)"
   ]
  },
  {
   "cell_type": "code",
   "execution_count": null,
   "metadata": {},
   "outputs": [],
   "source": []
  }
 ],
 "metadata": {
  "kernelspec": {
   "display_name": "Python 3",
   "language": "python",
   "name": "python3"
  },
  "language_info": {
   "codemirror_mode": {
    "name": "ipython",
    "version": 3
   },
   "file_extension": ".py",
   "mimetype": "text/x-python",
   "name": "python",
   "nbconvert_exporter": "python",
   "pygments_lexer": "ipython3",
   "version": "3.6.7"
  }
 },
 "nbformat": 4,
 "nbformat_minor": 2
}
