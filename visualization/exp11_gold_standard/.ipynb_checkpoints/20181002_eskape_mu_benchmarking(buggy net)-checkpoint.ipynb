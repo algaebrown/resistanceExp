{
 "cells": [
  {
   "cell_type": "code",
   "execution_count": 12,
   "metadata": {},
   "outputs": [],
   "source": [
    "test_data = '/home/hermuba/data0118/test_bench_data.csv'\n",
    "import pandas as pd\n",
    "d = pd.read_csv(test_data, header = 0)"
   ]
  },
  {
   "cell_type": "code",
   "execution_count": 5,
   "metadata": {},
   "outputs": [
    {
     "data": {
      "text/html": [
       "<div>\n",
       "<style scoped>\n",
       "    .dataframe tbody tr th:only-of-type {\n",
       "        vertical-align: middle;\n",
       "    }\n",
       "\n",
       "    .dataframe tbody tr th {\n",
       "        vertical-align: top;\n",
       "    }\n",
       "\n",
       "    .dataframe thead th {\n",
       "        text-align: right;\n",
       "    }\n",
       "</style>\n",
       "<table border=\"1\" class=\"dataframe\">\n",
       "  <thead>\n",
       "    <tr style=\"text-align: right;\">\n",
       "      <th></th>\n",
       "      <th>gene_one</th>\n",
       "      <th>gene_two</th>\n",
       "      <th>goldstandard</th>\n",
       "      <th>mutual_info</th>\n",
       "      <th>nrm_mutual</th>\n",
       "    </tr>\n",
       "  </thead>\n",
       "  <tbody>\n",
       "    <tr>\n",
       "      <th>0</th>\n",
       "      <td>562.23928.con.0005_77|562.23928</td>\n",
       "      <td>JMUY01000001_100|1438670.3</td>\n",
       "      <td>f</td>\n",
       "      <td>0.152272</td>\n",
       "      <td>0.257234</td>\n",
       "    </tr>\n",
       "    <tr>\n",
       "      <th>1</th>\n",
       "      <td>562.23473.con.0031_49|562.23473</td>\n",
       "      <td>562.23928.con.0005_77|562.23928</td>\n",
       "      <td>f</td>\n",
       "      <td>0.702284</td>\n",
       "      <td>0.448444</td>\n",
       "    </tr>\n",
       "    <tr>\n",
       "      <th>2</th>\n",
       "      <td>562.23589.con.0078_4|562.23589</td>\n",
       "      <td>562.23928.con.0005_77|562.23928</td>\n",
       "      <td>f</td>\n",
       "      <td>0.320820</td>\n",
       "      <td>0.201470</td>\n",
       "    </tr>\n",
       "    <tr>\n",
       "      <th>3</th>\n",
       "      <td>562.23429.con.0026_46|562.23429</td>\n",
       "      <td>562.23928.con.0005_77|562.23928</td>\n",
       "      <td>f</td>\n",
       "      <td>0.073381</td>\n",
       "      <td>0.087401</td>\n",
       "    </tr>\n",
       "    <tr>\n",
       "      <th>4</th>\n",
       "      <td>562.23530.con.0006_49|562.23530</td>\n",
       "      <td>562.23928.con.0005_77|562.23928</td>\n",
       "      <td>f</td>\n",
       "      <td>0.016757</td>\n",
       "      <td>0.037682</td>\n",
       "    </tr>\n",
       "  </tbody>\n",
       "</table>\n",
       "</div>"
      ],
      "text/plain": [
       "                          gene_one                         gene_two  \\\n",
       "0  562.23928.con.0005_77|562.23928       JMUY01000001_100|1438670.3   \n",
       "1  562.23473.con.0031_49|562.23473  562.23928.con.0005_77|562.23928   \n",
       "2   562.23589.con.0078_4|562.23589  562.23928.con.0005_77|562.23928   \n",
       "3  562.23429.con.0026_46|562.23429  562.23928.con.0005_77|562.23928   \n",
       "4  562.23530.con.0006_49|562.23530  562.23928.con.0005_77|562.23928   \n",
       "\n",
       "  goldstandard  mutual_info  nrm_mutual  \n",
       "0            f     0.152272    0.257234  \n",
       "1            f     0.702284    0.448444  \n",
       "2            f     0.320820    0.201470  \n",
       "3            f     0.073381    0.087401  \n",
       "4            f     0.016757    0.037682  "
      ]
     },
     "execution_count": 5,
     "metadata": {},
     "output_type": "execute_result"
    }
   ],
   "source": [
    "d.head()"
   ]
  },
  {
   "cell_type": "code",
   "execution_count": 7,
   "metadata": {},
   "outputs": [
    {
     "data": {
      "text/plain": [
       "gene_one         object\n",
       "gene_two         object\n",
       "goldstandard     object\n",
       "mutual_info     float64\n",
       "nrm_mutual      float64\n",
       "dtype: object"
      ]
     },
     "execution_count": 7,
     "metadata": {},
     "output_type": "execute_result"
    }
   ],
   "source": [
    "d.dtypes"
   ]
  },
  {
   "cell_type": "code",
   "execution_count": 13,
   "metadata": {},
   "outputs": [],
   "source": [
    "d['goldstandard'] = d['goldstandard'].map({'f':False, 't':True})"
   ]
  },
  {
   "cell_type": "code",
   "execution_count": 14,
   "metadata": {},
   "outputs": [
    {
     "data": {
      "text/html": [
       "<div>\n",
       "<style scoped>\n",
       "    .dataframe tbody tr th:only-of-type {\n",
       "        vertical-align: middle;\n",
       "    }\n",
       "\n",
       "    .dataframe tbody tr th {\n",
       "        vertical-align: top;\n",
       "    }\n",
       "\n",
       "    .dataframe thead th {\n",
       "        text-align: right;\n",
       "    }\n",
       "</style>\n",
       "<table border=\"1\" class=\"dataframe\">\n",
       "  <thead>\n",
       "    <tr style=\"text-align: right;\">\n",
       "      <th></th>\n",
       "      <th>gene_one</th>\n",
       "      <th>gene_two</th>\n",
       "      <th>goldstandard</th>\n",
       "      <th>mutual_info</th>\n",
       "      <th>nrm_mutual</th>\n",
       "    </tr>\n",
       "  </thead>\n",
       "  <tbody>\n",
       "    <tr>\n",
       "      <th>0</th>\n",
       "      <td>562.23928.con.0005_77|562.23928</td>\n",
       "      <td>JMUY01000001_100|1438670.3</td>\n",
       "      <td>False</td>\n",
       "      <td>0.152272</td>\n",
       "      <td>0.257234</td>\n",
       "    </tr>\n",
       "    <tr>\n",
       "      <th>1</th>\n",
       "      <td>562.23473.con.0031_49|562.23473</td>\n",
       "      <td>562.23928.con.0005_77|562.23928</td>\n",
       "      <td>False</td>\n",
       "      <td>0.702284</td>\n",
       "      <td>0.448444</td>\n",
       "    </tr>\n",
       "    <tr>\n",
       "      <th>2</th>\n",
       "      <td>562.23589.con.0078_4|562.23589</td>\n",
       "      <td>562.23928.con.0005_77|562.23928</td>\n",
       "      <td>False</td>\n",
       "      <td>0.320820</td>\n",
       "      <td>0.201470</td>\n",
       "    </tr>\n",
       "    <tr>\n",
       "      <th>3</th>\n",
       "      <td>562.23429.con.0026_46|562.23429</td>\n",
       "      <td>562.23928.con.0005_77|562.23928</td>\n",
       "      <td>False</td>\n",
       "      <td>0.073381</td>\n",
       "      <td>0.087401</td>\n",
       "    </tr>\n",
       "    <tr>\n",
       "      <th>4</th>\n",
       "      <td>562.23530.con.0006_49|562.23530</td>\n",
       "      <td>562.23928.con.0005_77|562.23928</td>\n",
       "      <td>False</td>\n",
       "      <td>0.016757</td>\n",
       "      <td>0.037682</td>\n",
       "    </tr>\n",
       "  </tbody>\n",
       "</table>\n",
       "</div>"
      ],
      "text/plain": [
       "                          gene_one                         gene_two  \\\n",
       "0  562.23928.con.0005_77|562.23928       JMUY01000001_100|1438670.3   \n",
       "1  562.23473.con.0031_49|562.23473  562.23928.con.0005_77|562.23928   \n",
       "2   562.23589.con.0078_4|562.23589  562.23928.con.0005_77|562.23928   \n",
       "3  562.23429.con.0026_46|562.23429  562.23928.con.0005_77|562.23928   \n",
       "4  562.23530.con.0006_49|562.23530  562.23928.con.0005_77|562.23928   \n",
       "\n",
       "   goldstandard  mutual_info  nrm_mutual  \n",
       "0         False     0.152272    0.257234  \n",
       "1         False     0.702284    0.448444  \n",
       "2         False     0.320820    0.201470  \n",
       "3         False     0.073381    0.087401  \n",
       "4         False     0.016757    0.037682  "
      ]
     },
     "execution_count": 14,
     "metadata": {},
     "output_type": "execute_result"
    }
   ],
   "source": [
    "d.head()"
   ]
  },
  {
   "cell_type": "code",
   "execution_count": 15,
   "metadata": {},
   "outputs": [
    {
     "data": {
      "text/html": [
       "<div>\n",
       "<style scoped>\n",
       "    .dataframe tbody tr th:only-of-type {\n",
       "        vertical-align: middle;\n",
       "    }\n",
       "\n",
       "    .dataframe tbody tr th {\n",
       "        vertical-align: top;\n",
       "    }\n",
       "\n",
       "    .dataframe thead tr th {\n",
       "        text-align: left;\n",
       "    }\n",
       "\n",
       "    .dataframe thead tr:last-of-type th {\n",
       "        text-align: right;\n",
       "    }\n",
       "</style>\n",
       "<table border=\"1\" class=\"dataframe\">\n",
       "  <thead>\n",
       "    <tr>\n",
       "      <th></th>\n",
       "      <th colspan=\"8\" halign=\"left\">mutual_info</th>\n",
       "      <th colspan=\"8\" halign=\"left\">nrm_mutual</th>\n",
       "    </tr>\n",
       "    <tr>\n",
       "      <th></th>\n",
       "      <th>count</th>\n",
       "      <th>mean</th>\n",
       "      <th>std</th>\n",
       "      <th>min</th>\n",
       "      <th>25%</th>\n",
       "      <th>50%</th>\n",
       "      <th>75%</th>\n",
       "      <th>max</th>\n",
       "      <th>count</th>\n",
       "      <th>mean</th>\n",
       "      <th>std</th>\n",
       "      <th>min</th>\n",
       "      <th>25%</th>\n",
       "      <th>50%</th>\n",
       "      <th>75%</th>\n",
       "      <th>max</th>\n",
       "    </tr>\n",
       "    <tr>\n",
       "      <th>goldstandard</th>\n",
       "      <th></th>\n",
       "      <th></th>\n",
       "      <th></th>\n",
       "      <th></th>\n",
       "      <th></th>\n",
       "      <th></th>\n",
       "      <th></th>\n",
       "      <th></th>\n",
       "      <th></th>\n",
       "      <th></th>\n",
       "      <th></th>\n",
       "      <th></th>\n",
       "      <th></th>\n",
       "      <th></th>\n",
       "      <th></th>\n",
       "      <th></th>\n",
       "    </tr>\n",
       "  </thead>\n",
       "  <tbody>\n",
       "    <tr>\n",
       "      <th>False</th>\n",
       "      <td>51533.0</td>\n",
       "      <td>0.435710</td>\n",
       "      <td>0.501563</td>\n",
       "      <td>-9.367507e-17</td>\n",
       "      <td>0.027432</td>\n",
       "      <td>0.181046</td>\n",
       "      <td>0.715074</td>\n",
       "      <td>2.013015</td>\n",
       "      <td>51533.0</td>\n",
       "      <td>0.264905</td>\n",
       "      <td>0.234952</td>\n",
       "      <td>-9.367507e-07</td>\n",
       "      <td>0.053478</td>\n",
       "      <td>0.174722</td>\n",
       "      <td>0.449063</td>\n",
       "      <td>0.874043</td>\n",
       "    </tr>\n",
       "    <tr>\n",
       "      <th>True</th>\n",
       "      <td>4672.0</td>\n",
       "      <td>0.438824</td>\n",
       "      <td>0.537483</td>\n",
       "      <td>-9.367507e-17</td>\n",
       "      <td>0.026625</td>\n",
       "      <td>0.123840</td>\n",
       "      <td>0.711599</td>\n",
       "      <td>1.999024</td>\n",
       "      <td>4672.0</td>\n",
       "      <td>0.277039</td>\n",
       "      <td>0.257269</td>\n",
       "      <td>-9.367507e-07</td>\n",
       "      <td>0.051193</td>\n",
       "      <td>0.155785</td>\n",
       "      <td>0.510187</td>\n",
       "      <td>0.969163</td>\n",
       "    </tr>\n",
       "  </tbody>\n",
       "</table>\n",
       "</div>"
      ],
      "text/plain": [
       "             mutual_info                                              \\\n",
       "                   count      mean       std           min       25%   \n",
       "goldstandard                                                           \n",
       "False            51533.0  0.435710  0.501563 -9.367507e-17  0.027432   \n",
       "True              4672.0  0.438824  0.537483 -9.367507e-17  0.026625   \n",
       "\n",
       "                                           nrm_mutual                      \\\n",
       "                   50%       75%       max      count      mean       std   \n",
       "goldstandard                                                                \n",
       "False         0.181046  0.715074  2.013015    51533.0  0.264905  0.234952   \n",
       "True          0.123840  0.711599  1.999024     4672.0  0.277039  0.257269   \n",
       "\n",
       "                                                                    \n",
       "                       min       25%       50%       75%       max  \n",
       "goldstandard                                                        \n",
       "False        -9.367507e-07  0.053478  0.174722  0.449063  0.874043  \n",
       "True         -9.367507e-07  0.051193  0.155785  0.510187  0.969163  "
      ]
     },
     "execution_count": 15,
     "metadata": {},
     "output_type": "execute_result"
    }
   ],
   "source": [
    "d.groupby(by = 'goldstandard')[['mutual_info', 'nrm_mutual']].describe()"
   ]
  },
  {
   "cell_type": "code",
   "execution_count": 19,
   "metadata": {},
   "outputs": [
    {
     "data": {
      "text/plain": [
       "array([<matplotlib.axes._subplots.AxesSubplot object at 0x7f2fb080be10>,\n",
       "       <matplotlib.axes._subplots.AxesSubplot object at 0x7f2fc16a6390>], dtype=object)"
      ]
     },
     "execution_count": 19,
     "metadata": {},
     "output_type": "execute_result"
    },
    {
     "data": {
      "image/png": "[encoded data removed]",
      "text/plain": [
       "<matplotlib.figure.Figure at 0x7f2fb0851b38>"
      ]
     },
     "metadata": {},
     "output_type": "display_data"
    }
   ],
   "source": [
    "d.boxplot(column = ['mutual_info', 'nrm_mutual'], by = 'goldstandard')"
   ]
  },
  {
   "cell_type": "code",
   "execution_count": 21,
   "metadata": {},
   "outputs": [
    {
     "data": {
      "text/plain": [
       "goldstandard\n",
       "False    AxesSubplot(0.125,0.125;0.775x0.755)\n",
       "True     AxesSubplot(0.125,0.125;0.775x0.755)\n",
       "Name: mutual_info, dtype: object"
      ]
     },
     "execution_count": 21,
     "metadata": {},
     "output_type": "execute_result"
    },
    {
     "data": {
      "image/png": "[encoded data removed]",
      "text/plain": [
       "<matplotlib.figure.Figure at 0x7f2fb07106a0>"
      ]
     },
     "metadata": {},
     "output_type": "display_data"
    }
   ],
   "source": [
    "d.groupby(by = 'goldstandard')['mutual_info'].plot(kind = 'hist')"
   ]
  },
  {
   "cell_type": "code",
   "execution_count": 24,
   "metadata": {},
   "outputs": [
    {
     "data": {
      "text/plain": [
       "goldstandard\n",
       "False    AxesSubplot(0.125,0.125;0.775x0.755)\n",
       "True     AxesSubplot(0.125,0.125;0.775x0.755)\n",
       "Name: mutual_info, dtype: object"
      ]
     },
     "execution_count": 24,
     "metadata": {},
     "output_type": "execute_result"
    },
    {
     "data": {
      "image/png": "[encoded data removed]",
      "text/plain": [
       "<matplotlib.figure.Figure at 0x7f2fa00cb0f0>"
      ]
     },
     "metadata": {},
     "output_type": "display_data"
    }
   ],
   "source": [
    "d.groupby(by = 'goldstandard')['mutual_info'].plot(kind = 'kde', legend = True)"
   ]
  },
  {
   "cell_type": "code",
   "execution_count": 25,
   "metadata": {},
   "outputs": [
    {
     "data": {
      "text/plain": [
       "goldstandard\n",
       "False    AxesSubplot(0.125,0.125;0.775x0.755)\n",
       "True     AxesSubplot(0.125,0.125;0.775x0.755)\n",
       "Name: nrm_mutual, dtype: object"
      ]
     },
     "execution_count": 25,
     "metadata": {},
     "output_type": "execute_result"
    },
    {
     "data": {
      "image/png": "[encoded data removed]",
      "text/plain": [
       "<matplotlib.figure.Figure at 0x7f2fa00373c8>"
      ]
     },
     "metadata": {},
     "output_type": "display_data"
    }
   ],
   "source": [
    "d.groupby(by = 'goldstandard')['nrm_mutual'].plot(kind = 'kde', legend = True)"
   ]
  },
  {
   "cell_type": "code",
   "execution_count": null,
   "metadata": {},
   "outputs": [],
   "source": []
  }
 ],
 "metadata": {
  "kernelspec": {
   "display_name": "Python 3",
   "language": "python",
   "name": "python3"
  },
  "language_info": {
   "codemirror_mode": {
    "name": "ipython",
    "version": 3
   },
   "file_extension": ".py",
   "mimetype": "text/x-python",
   "name": "python",
   "nbconvert_exporter": "python",
   "pygments_lexer": "ipython3",
   "version": "3.6.5"
  }
 },
 "nbformat": 4,
 "nbformat_minor": 2
}
