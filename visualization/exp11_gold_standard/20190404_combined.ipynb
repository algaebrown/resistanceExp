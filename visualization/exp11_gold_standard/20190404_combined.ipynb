{
 "cells": [
  {
   "cell_type": "code",
   "execution_count": 3,
   "metadata": {},
   "outputs": [
    {
     "data": {
      "text/plain": [
       "(3753, 4)"
      ]
     },
     "execution_count": 3,
     "metadata": {},
     "output_type": "execute_result"
    }
   ],
   "source": [
    "from Genome.goldstandard_pair.lls import *\n",
    "# read net\n",
    "gd = '/home/hermuba/data0118/goldstandard/tf_intersectGO.smpl'\n",
    "net = '/home/hermuba/data0118/network1122/combined_baye'\n",
    "gold = read_gold(gd)\n",
    "all_chunks = read_net_by_chunk(net)\n",
    "all_chunk = merge_net_with_all_chunks(gold,all_chunks)\n",
    "all_chunk.shape"
   ]
  },
  {
   "cell_type": "code",
   "execution_count": 5,
   "metadata": {},
   "outputs": [
    {
     "data": {
      "text/html": [
       "<div>\n",
       "<style scoped>\n",
       "    .dataframe tbody tr th:only-of-type {\n",
       "        vertical-align: middle;\n",
       "    }\n",
       "\n",
       "    .dataframe tbody tr th {\n",
       "        vertical-align: top;\n",
       "    }\n",
       "\n",
       "    .dataframe thead th {\n",
       "        text-align: right;\n",
       "    }\n",
       "</style>\n",
       "<table border=\"1\" class=\"dataframe\">\n",
       "  <thead>\n",
       "    <tr style=\"text-align: right;\">\n",
       "      <th></th>\n",
       "      <th>combined_lls</th>\n",
       "      <th>gene_one</th>\n",
       "      <th>gene_two</th>\n",
       "      <th>goldstandard</th>\n",
       "    </tr>\n",
       "  </thead>\n",
       "  <tbody>\n",
       "    <tr>\n",
       "      <th>0</th>\n",
       "      <td>7.262910</td>\n",
       "      <td>562.23301.con.0004_15|562.23301</td>\n",
       "      <td>JAPE01000016_88|1400157.3</td>\n",
       "      <td>0</td>\n",
       "    </tr>\n",
       "    <tr>\n",
       "      <th>1</th>\n",
       "      <td>6.573675</td>\n",
       "      <td>562.23864.con.0080_17|562.23864</td>\n",
       "      <td>562.23286.con.0020_1|562.23286</td>\n",
       "      <td>0</td>\n",
       "    </tr>\n",
       "    <tr>\n",
       "      <th>2</th>\n",
       "      <td>4.202705</td>\n",
       "      <td>FLWH01000003_385|562.12962</td>\n",
       "      <td>FLWH01000011_78|562.12962</td>\n",
       "      <td>1</td>\n",
       "    </tr>\n",
       "    <tr>\n",
       "      <th>3</th>\n",
       "      <td>4.836801</td>\n",
       "      <td>FLWH01000006_253|562.12962</td>\n",
       "      <td>562.23366.con.0009_153|562.23366</td>\n",
       "      <td>0</td>\n",
       "    </tr>\n",
       "    <tr>\n",
       "      <th>4</th>\n",
       "      <td>3.734024</td>\n",
       "      <td>JAPE01000010_366|1400157.3</td>\n",
       "      <td>562.22863.con.0020_19|562.22863</td>\n",
       "      <td>0</td>\n",
       "    </tr>\n",
       "  </tbody>\n",
       "</table>\n",
       "</div>"
      ],
      "text/plain": [
       "   combined_lls                         gene_one  \\\n",
       "0      7.262910  562.23301.con.0004_15|562.23301   \n",
       "1      6.573675  562.23864.con.0080_17|562.23864   \n",
       "2      4.202705       FLWH01000003_385|562.12962   \n",
       "3      4.836801       FLWH01000006_253|562.12962   \n",
       "4      3.734024       JAPE01000010_366|1400157.3   \n",
       "\n",
       "                           gene_two  goldstandard  \n",
       "0         JAPE01000016_88|1400157.3             0  \n",
       "1    562.23286.con.0020_1|562.23286             0  \n",
       "2         FLWH01000011_78|562.12962             1  \n",
       "3  562.23366.con.0009_153|562.23366             0  \n",
       "4   562.22863.con.0020_19|562.22863             0  "
      ]
     },
     "execution_count": 5,
     "metadata": {},
     "output_type": "execute_result"
    }
   ],
   "source": [
    "all_chunk.head()"
   ]
  },
  {
   "cell_type": "code",
   "execution_count": 21,
   "metadata": {},
   "outputs": [],
   "source": [
    "# don't need to calculate LLS cause it's done.We need to change LLS threshold and calculate PPV and coverage\n",
    "def PPV_coverage(lls_thres, all_df):\n",
    "    '''\n",
    "    calculate PPV, coverage using different threshold of LLS cutoff\n",
    "    input: lls_thres: the LLS cutoff to consider interaction as True\n",
    "    all_df: dataframe containing goldstandard and lls\n",
    "    '''\n",
    "    all_df['ans'] = all_df['combined_lls'].map(lambda x: True if x > lls_thres else False)\n",
    "\n",
    "    # calculate coverage\n",
    "    total_nodes = set(all_df['gene_one']).union(set(all_df['gene_two']))\n",
    "    net = all_df.loc[all_df['ans'] == True]\n",
    "    \n",
    "   \n",
    "    covered_nodes = set(net['gene_one']).union(set(net['gene_two']))\n",
    "    coverage = len(covered_nodes)/len(total_nodes)\n",
    "\n",
    "    # calculate PPV\n",
    "    grouped = all_df.groupby(by = ['goldstandard', 'ans']).count()['gene_one']\n",
    "\n",
    "    try:\n",
    "        tp = grouped[1, True]\n",
    "        fp = grouped[0, True]\n",
    "        PPV = tp/(tp+fp)\n",
    "    except KeyError:\n",
    "        PPV = 0\n",
    "        \n",
    "    return(coverage, PPV)\n",
    "\n",
    "def try_diff_lls_thres(all_df):\n",
    "    '''\n",
    "    try different LLS threshold to see the tradeoffs between coverage and PPV\n",
    "    LLS threshold as df['lls'].unique values\n",
    "    all_df: dataframe containing goldstandard and lls\n",
    "    '''\n",
    "    tradeoff = pd.DataFrame(columns = ['thres', 'coverage', 'PPV'])\n",
    "\n",
    "    try_list = np.sort(all_df['combined_lls'].unique())[5:-1]\n",
    "    \n",
    "    for t in try_list:\n",
    "        \n",
    "        cov, PPV = PPV_coverage(t, all_df)\n",
    "        tradeoff.loc[t] = [t, cov, PPV]\n",
    "    return(tradeoff)\n"
   ]
  },
  {
   "cell_type": "code",
   "execution_count": 23,
   "metadata": {},
   "outputs": [],
   "source": [
    "tradeoff = try_diff_lls_thres(all_chunk)"
   ]
  },
  {
   "cell_type": "code",
   "execution_count": 24,
   "metadata": {},
   "outputs": [],
   "source": [
    "tradeoff.to_csv('~/data0118/PPV_coverage/combined')"
   ]
  },
  {
   "cell_type": "code",
   "execution_count": 26,
   "metadata": {},
   "outputs": [
    {
     "data": {
      "text/plain": [
       "Text(0, 0.5, 'PPV')"
      ]
     },
     "execution_count": 26,
     "metadata": {},
     "output_type": "execute_result"
    },
    {
     "data": {
      "image/png": "[encoded data removed]",
      "text/plain": [
       "<Figure size 432x288 with 1 Axes>"
      ]
     },
     "metadata": {
      "needs_background": "light"
     },
     "output_type": "display_data"
    }
   ],
   "source": [
    "%matplotlib inline\n",
    "import matplotlib.pyplot as plt\n",
    "plt.plot(tradeoff['coverage'], tradeoff['PPV'], '-')\n",
    "plt.plot(tradeoff['coverage'], tradeoff['PPV'], '+')\n",
    "plt.xlabel('coverage')\n",
    "plt.ylabel('PPV')"
   ]
  },
  {
   "cell_type": "code",
   "execution_count": 29,
   "metadata": {},
   "outputs": [
    {
     "data": {
      "text/plain": [
       "Text(0, 0.5, 'PPV')"
      ]
     },
     "execution_count": 29,
     "metadata": {},
     "output_type": "execute_result"
    },
    {
     "data": {
      "image/png": "[encoded data removed]",
      "text/plain": [
       "<Figure size 432x288 with 1 Axes>"
      ]
     },
     "metadata": {
      "needs_background": "light"
     },
     "output_type": "display_data"
    }
   ],
   "source": [
    "# plot together!!\n",
    "domain_tradeoff = pd.read_csv('~/data0118/PPV_coverage/domain_250', header = 0)\n",
    "eskape_tradeoff = pd.read_csv('~/data0118/PPV_coverage/eskape_300_nrm_mutual', header = 0)\n",
    "refseq_tradeoff = pd.read_csv('~/data0118/PPV_coverage/refseq_300_nrm_mutual', header = 0)\n",
    "string_tradeoff = pd.read_csv('~/data0118/PPV_coverage/string_300', header = 0)\n",
    "plt.plot(tradeoff['coverage'], tradeoff['PPV'], '+', color = 'black')\n",
    "plt.plot(domain_tradeoff['coverage'], domain_tradeoff['PPV'], '+', color = 'green')\n",
    "plt.plot(eskape_tradeoff['coverage'], eskape_tradeoff['PPV'], '+', color = 'blue')\n",
    "plt.plot(refseq_tradeoff['coverage'], refseq_tradeoff['PPV'], '+', color = 'orange')\n",
    "plt.plot(string_tradeoff['coverage'], string_tradeoff['PPV'], '+', color = 'red')\n",
    "plt.xlabel('coverage')\n",
    "plt.ylabel('PPV')"
   ]
  },
  {
   "cell_type": "code",
   "execution_count": null,
   "metadata": {},
   "outputs": [],
   "source": []
  }
 ],
 "metadata": {
  "kernelspec": {
   "display_name": "Python 3",
   "language": "python",
   "name": "python3"
  },
  "language_info": {
   "codemirror_mode": {
    "name": "ipython",
    "version": 3
   },
   "file_extension": ".py",
   "mimetype": "text/x-python",
   "name": "python",
   "nbconvert_exporter": "python",
   "pygments_lexer": "ipython3",
   "version": "3.6.7"
  }
 },
 "nbformat": 4,
 "nbformat_minor": 2
}
