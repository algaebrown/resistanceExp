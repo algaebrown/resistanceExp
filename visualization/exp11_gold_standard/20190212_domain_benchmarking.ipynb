{
 "cells": [
  {
   "cell_type": "code",
   "execution_count": 1,
   "metadata": {},
   "outputs": [],
   "source": [
    "import pandas as pd\n",
    "from Genome.goldstandard_pair.lls import *"
   ]
  },
  {
   "cell_type": "code",
   "execution_count": 2,
   "metadata": {},
   "outputs": [
    {
     "name": "stdout",
     "output_type": "stream",
     "text": [
      "Help on function read_gold in module Genome.goldstandard_pair.lls:\n",
      "\n",
      "read_gold(gd)\n",
      "    reads goldstandard file, returns dataframe\n",
      "    input: gd = csv file containing goldstandard data, preferably sampled\n",
      "    output: df, header = ['gene_one, 'gene_two', 'goldstandard']\n",
      "\n"
     ]
    }
   ],
   "source": [
    "help(read_gold)"
   ]
  },
  {
   "cell_type": "code",
   "execution_count": 3,
   "metadata": {},
   "outputs": [],
   "source": [
    "gd = '/home/hermuba/data0118/goldstandard/tf_intersectGO.smpl'\n",
    "gold= read_gold(gd)"
   ]
  },
  {
   "cell_type": "code",
   "execution_count": 10,
   "metadata": {},
   "outputs": [
    {
     "data": {
      "text/html": [
       "<div>\n",
       "<style scoped>\n",
       "    .dataframe tbody tr th:only-of-type {\n",
       "        vertical-align: middle;\n",
       "    }\n",
       "\n",
       "    .dataframe tbody tr th {\n",
       "        vertical-align: top;\n",
       "    }\n",
       "\n",
       "    .dataframe thead th {\n",
       "        text-align: right;\n",
       "    }\n",
       "</style>\n",
       "<table border=\"1\" class=\"dataframe\">\n",
       "  <thead>\n",
       "    <tr style=\"text-align: right;\">\n",
       "      <th></th>\n",
       "      <th>gene_one</th>\n",
       "      <th>gene_two</th>\n",
       "      <th>goldstandard</th>\n",
       "    </tr>\n",
       "  </thead>\n",
       "  <tbody>\n",
       "    <tr>\n",
       "      <th>0</th>\n",
       "      <td>562.22936.con.0094_4|562.22936</td>\n",
       "      <td>562.23583.con.0117_6|562.23583</td>\n",
       "      <td>0</td>\n",
       "    </tr>\n",
       "    <tr>\n",
       "      <th>1</th>\n",
       "      <td>562.22913.con.0024_38|562.22913</td>\n",
       "      <td>562.22651.con.0028_42|562.22651</td>\n",
       "      <td>1</td>\n",
       "    </tr>\n",
       "    <tr>\n",
       "      <th>2</th>\n",
       "      <td>562.22936.con.0027_15|562.22936</td>\n",
       "      <td>FLWH01000001_736|562.12962</td>\n",
       "      <td>0</td>\n",
       "    </tr>\n",
       "    <tr>\n",
       "      <th>3</th>\n",
       "      <td>562.23714.con.0031_3|562.23714</td>\n",
       "      <td>JMUY01000008_141|1438670.3</td>\n",
       "      <td>0</td>\n",
       "    </tr>\n",
       "    <tr>\n",
       "      <th>4</th>\n",
       "      <td>562.23205.con.0005_5|562.23205</td>\n",
       "      <td>562.22520.con.0145_5|562.22520</td>\n",
       "      <td>0</td>\n",
       "    </tr>\n",
       "  </tbody>\n",
       "</table>\n",
       "</div>"
      ],
      "text/plain": [
       "                          gene_one                         gene_two  \\\n",
       "0   562.22936.con.0094_4|562.22936   562.23583.con.0117_6|562.23583   \n",
       "1  562.22913.con.0024_38|562.22913  562.22651.con.0028_42|562.22651   \n",
       "2  562.22936.con.0027_15|562.22936       FLWH01000001_736|562.12962   \n",
       "3   562.23714.con.0031_3|562.23714       JMUY01000008_141|1438670.3   \n",
       "4   562.23205.con.0005_5|562.23205   562.22520.con.0145_5|562.22520   \n",
       "\n",
       "   goldstandard  \n",
       "0             0  \n",
       "1             1  \n",
       "2             0  \n",
       "3             0  \n",
       "4             0  "
      ]
     },
     "execution_count": 10,
     "metadata": {},
     "output_type": "execute_result"
    }
   ],
   "source": [
    "gold.head()"
   ]
  },
  {
   "cell_type": "code",
   "execution_count": 11,
   "metadata": {},
   "outputs": [
    {
     "name": "stdout",
     "output_type": "stream",
     "text": [
      "Help on function read_net_by_chunk in module Genome.goldstandard_pair.lls:\n",
      "\n",
      "read_net_by_chunk(net)\n",
      "    read network file chunk by chunk, 100000 lines for a time\n",
      "    input: file path\n",
      "\n"
     ]
    }
   ],
   "source": [
    "help(read_net_by_chunk)"
   ]
  },
  {
   "cell_type": "code",
   "execution_count": 12,
   "metadata": {},
   "outputs": [
    {
     "name": "stdout",
     "output_type": "stream",
     "text": [
      "Help on function merge_net_with_all_chunks in module Genome.goldstandard_pair.lls:\n",
      "\n",
      "merge_net_with_all_chunks(gold, all_chunks)\n",
      "    returns merged goldstardard and score\n",
      "\n"
     ]
    }
   ],
   "source": [
    "help(merge_net_with_all_chunks)"
   ]
  },
  {
   "cell_type": "code",
   "execution_count": 13,
   "metadata": {},
   "outputs": [],
   "source": [
    "all_chunks = read_net_by_chunk('/home/hermuba/data0118/domain_weight_mutual')\n",
    "all_df = merge_net_with_all_chunks(gold, all_chunks)"
   ]
  },
  {
   "cell_type": "code",
   "execution_count": null,
   "metadata": {},
   "outputs": [],
   "source": [
    "all_df.head()"
   ]
  },
  {
   "cell_type": "code",
   "execution_count": null,
   "metadata": {},
   "outputs": [],
   "source": [
    "help(lls)"
   ]
  },
  {
   "cell_type": "code",
   "execution_count": 130,
   "metadata": {},
   "outputs": [
    {
     "ename": "NameError",
     "evalue": "name 'd' is not defined",
     "output_type": "error",
     "traceback": [
      "\u001b[0;31m---------------------------------------------------------------------------\u001b[0m",
      "\u001b[0;31mNameError\u001b[0m                                 Traceback (most recent call last)",
      "\u001b[0;32m<ipython-input-130-d55e878cce83>\u001b[0m in \u001b[0;36m<module>\u001b[0;34m\u001b[0m\n\u001b[0;32m----> 1\u001b[0;31m \u001b[0mlls_score\u001b[0m \u001b[0;34m=\u001b[0m \u001b[0mlls\u001b[0m\u001b[0;34m(\u001b[0m\u001b[0mall_df\u001b[0m\u001b[0;34m)\u001b[0m\u001b[0;34m\u001b[0m\u001b[0;34m\u001b[0m\u001b[0m\n\u001b[0m",
      "\u001b[0;32m~/resistanceExp/Genome/goldstandard_pair/lls.py\u001b[0m in \u001b[0;36mlls\u001b[0;34m(all_df)\u001b[0m\n\u001b[1;32m     46\u001b[0m \u001b[0;31m# discretize network score, infer LLS for each discretized network score\u001b[0m\u001b[0;34m\u001b[0m\u001b[0;34m\u001b[0m\u001b[0;34m\u001b[0m\u001b[0m\n\u001b[1;32m     47\u001b[0m \u001b[0;32mdef\u001b[0m \u001b[0mlls\u001b[0m\u001b[0;34m(\u001b[0m\u001b[0mall_df\u001b[0m\u001b[0;34m)\u001b[0m\u001b[0;34m:\u001b[0m\u001b[0;34m\u001b[0m\u001b[0;34m\u001b[0m\u001b[0m\n\u001b[0;32m---> 48\u001b[0;31m     \u001b[0mdrop\u001b[0m \u001b[0;34m=\u001b[0m \u001b[0;34m[\u001b[0m\u001b[0;34m'gene_one'\u001b[0m\u001b[0;34m,\u001b[0m \u001b[0;34m'gene_two'\u001b[0m\u001b[0;34m,\u001b[0m \u001b[0;34m'goldstandard'\u001b[0m\u001b[0;34m]\u001b[0m\u001b[0;34m\u001b[0m\u001b[0;34m\u001b[0m\u001b[0m\n\u001b[0m\u001b[1;32m     49\u001b[0m     \u001b[0mscore\u001b[0m \u001b[0;34m=\u001b[0m \u001b[0mlist\u001b[0m\u001b[0;34m(\u001b[0m\u001b[0mset\u001b[0m\u001b[0;34m(\u001b[0m\u001b[0mall_df\u001b[0m\u001b[0;34m.\u001b[0m\u001b[0mcolumns\u001b[0m\u001b[0;34m)\u001b[0m \u001b[0;34m-\u001b[0m \u001b[0mset\u001b[0m\u001b[0;34m(\u001b[0m\u001b[0mdrop\u001b[0m\u001b[0;34m)\u001b[0m\u001b[0;34m)\u001b[0m\u001b[0;34m[\u001b[0m\u001b[0;36m0\u001b[0m\u001b[0;34m]\u001b[0m\u001b[0;34m\u001b[0m\u001b[0;34m\u001b[0m\u001b[0m\n\u001b[1;32m     50\u001b[0m \u001b[0;34m\u001b[0m\u001b[0m\n",
      "\u001b[0;31mNameError\u001b[0m: name 'd' is not defined"
     ]
    }
   ],
   "source": [
    "lls_score = lls(all_df)"
   ]
  },
  {
   "cell_type": "code",
   "execution_count": null,
   "metadata": {},
   "outputs": [],
   "source": []
  },
  {
   "cell_type": "code",
   "execution_count": 69,
   "metadata": {},
   "outputs": [],
   "source": [
    "def return_stats(d):\n",
    "    '''\n",
    "    input: dataframe from `to_df`\n",
    "    output: stats representing true and false interacting pairs\n",
    "    '''\n",
    "    \n",
    "    d.boxplot(column = ['weighted_mutual'], by = 'goldstandard')\n",
    "    group_d = d.groupby(by = 'goldstandard')\n",
    "    \n",
    "    return(group_d[['weighted_mutual']].describe())\n",
    "def kde_d(d):\n",
    "    \n",
    "    group_d = d.groupby(by = 'goldstandard')\n",
    "    \n",
    "    group_d['weighted_mutual'].plot(kind = 'kde', legend = True, title = 'weighted_mutual')\n",
    "    \n",
    "\n",
    "def LLS(d, score):\n",
    "    # seperate mutual info score into 100 categories\n",
    "    d['cut_mutual'] = pd.qcut(d[score],  200)\n",
    "    grouped = d.groupby(by = ['goldstandard', 'cut_mutual']).count()['gene_one']\n",
    "    grouped = grouped.fillna(0)\n",
    "    lls = grouped[1]/grouped[0]/(grouped[1].sum()/grouped[0].sum())\n",
    "    lls.plot()\n",
    "    return(lls)\n"
   ]
  },
  {
   "cell_type": "code",
   "execution_count": 26,
   "metadata": {},
   "outputs": [
    {
     "data": {
      "text/html": [
       "<div>\n",
       "<style scoped>\n",
       "    .dataframe tbody tr th:only-of-type {\n",
       "        vertical-align: middle;\n",
       "    }\n",
       "\n",
       "    .dataframe tbody tr th {\n",
       "        vertical-align: top;\n",
       "    }\n",
       "\n",
       "    .dataframe thead tr th {\n",
       "        text-align: left;\n",
       "    }\n",
       "\n",
       "    .dataframe thead tr:last-of-type th {\n",
       "        text-align: right;\n",
       "    }\n",
       "</style>\n",
       "<table border=\"1\" class=\"dataframe\">\n",
       "  <thead>\n",
       "    <tr>\n",
       "      <th></th>\n",
       "      <th colspan=\"8\" halign=\"left\">weighted_mutual</th>\n",
       "    </tr>\n",
       "    <tr>\n",
       "      <th></th>\n",
       "      <th>count</th>\n",
       "      <th>mean</th>\n",
       "      <th>std</th>\n",
       "      <th>min</th>\n",
       "      <th>25%</th>\n",
       "      <th>50%</th>\n",
       "      <th>75%</th>\n",
       "      <th>max</th>\n",
       "    </tr>\n",
       "    <tr>\n",
       "      <th>goldstandard</th>\n",
       "      <th></th>\n",
       "      <th></th>\n",
       "      <th></th>\n",
       "      <th></th>\n",
       "      <th></th>\n",
       "      <th></th>\n",
       "      <th></th>\n",
       "      <th></th>\n",
       "    </tr>\n",
       "  </thead>\n",
       "  <tbody>\n",
       "    <tr>\n",
       "      <th>0</th>\n",
       "      <td>3844.0</td>\n",
       "      <td>0.000001</td>\n",
       "      <td>0.000018</td>\n",
       "      <td>1.454694e-10</td>\n",
       "      <td>3.277658e-08</td>\n",
       "      <td>9.592633e-08</td>\n",
       "      <td>2.109260e-07</td>\n",
       "      <td>0.000767</td>\n",
       "    </tr>\n",
       "    <tr>\n",
       "      <th>1</th>\n",
       "      <td>135.0</td>\n",
       "      <td>0.000734</td>\n",
       "      <td>0.000782</td>\n",
       "      <td>2.967224e-08</td>\n",
       "      <td>5.283995e-05</td>\n",
       "      <td>7.169488e-04</td>\n",
       "      <td>1.006357e-03</td>\n",
       "      <td>0.004082</td>\n",
       "    </tr>\n",
       "  </tbody>\n",
       "</table>\n",
       "</div>"
      ],
      "text/plain": [
       "             weighted_mutual                                                  \\\n",
       "                       count      mean       std           min           25%   \n",
       "goldstandard                                                                   \n",
       "0                     3844.0  0.000001  0.000018  1.454694e-10  3.277658e-08   \n",
       "1                      135.0  0.000734  0.000782  2.967224e-08  5.283995e-05   \n",
       "\n",
       "                                                    \n",
       "                       50%           75%       max  \n",
       "goldstandard                                        \n",
       "0             9.592633e-08  2.109260e-07  0.000767  \n",
       "1             7.169488e-04  1.006357e-03  0.004082  "
      ]
     },
     "execution_count": 26,
     "metadata": {},
     "output_type": "execute_result"
    }
   ],
   "source": [
    "return_stats(total_path)"
   ]
  },
  {
   "cell_type": "code",
   "execution_count": 27,
   "metadata": {},
   "outputs": [
    {
     "data": {
      "image/png": "[encoded data removed]",
      "text/plain": [
       "<Figure size 432x288 with 1 Axes>"
      ]
     },
     "metadata": {
      "needs_background": "light"
     },
     "output_type": "display_data"
    }
   ],
   "source": [
    "kde_d(total_path)"
   ]
  },
  {
   "cell_type": "code",
   "execution_count": 101,
   "metadata": {
    "scrolled": true
   },
   "outputs": [
    {
     "data": {
      "image/png": "[encoded data removed]",
      "text/plain": [
       "<Figure size 432x288 with 1 Axes>"
      ]
     },
     "metadata": {
      "needs_background": "light"
     },
     "output_type": "display_data"
    }
   ],
   "source": [
    "lls = LLS(total_path, 'weighted_mutual')"
   ]
  },
  {
   "cell_type": "code",
   "execution_count": 99,
   "metadata": {},
   "outputs": [
    {
     "data": {
      "text/plain": [
       "[<matplotlib.lines.Line2D at 0x7f67ce88c7b8>]"
      ]
     },
     "execution_count": 99,
     "metadata": {},
     "output_type": "execute_result"
    },
    {
     "data": {
      "image/png": "[encoded data removed]",
      "text/plain": [
       "<Figure size 432x288 with 1 Axes>"
      ]
     },
     "metadata": {
      "needs_background": "light"
     },
     "output_type": "display_data"
    }
   ],
   "source": [
    "# regressing\n",
    "import numpy as np\n",
    "import matplotlib.pyplot as plt\n",
    "%matplotlib inline\n",
    "from scipy.stats import linregress\n",
    "clean_lls = lls.replace([np.inf, -np.inf, 0], np.nan)                                                 \n",
    "clean_lls.dropna(inplace = True)                                                                \n",
    "thres = next(x[0] for x in enumerate(clean_lls) if x[1] > 3)\n",
    "rm_lls = clean_lls[thres:]\n",
    "x = np.array([i.mid for i in rm_lls.index])\n",
    "y = rm_lls.values\n",
    "plt.plot(x,y)\n",
    "\n",
    "slope, intercept, r_value, p_value, std_err = linregress(x,y)\n",
    "plt.plot(x, slope*x+intercept)"
   ]
  },
  {
   "cell_type": "code",
   "execution_count": 104,
   "metadata": {},
   "outputs": [],
   "source": [
    "# compare lls\n",
    "x = np.array([interval.mid for interval in lls.index])\n",
    "new_lls = pd.Series(index = lls.index, data = x*slope + intercept)"
   ]
  },
  {
   "cell_type": "code",
   "execution_count": 107,
   "metadata": {},
   "outputs": [
    {
     "data": {
      "text/plain": [
       "<matplotlib.axes._subplots.AxesSubplot at 0x7f67cd423eb8>"
      ]
     },
     "execution_count": 107,
     "metadata": {},
     "output_type": "execute_result"
    },
    {
     "data": {
      "image/png": "[encoded data removed]",
      "text/plain": [
       "<Figure size 432x288 with 1 Axes>"
      ]
     },
     "metadata": {
      "needs_background": "light"
     },
     "output_type": "display_data"
    }
   ],
   "source": [
    "new_lls.plot()\n",
    "lls.plot()"
   ]
  },
  {
   "cell_type": "code",
   "execution_count": 109,
   "metadata": {},
   "outputs": [],
   "source": [
    "total_path['lls']=total_path['weighted_mutual'].map(new_lls)"
   ]
  },
  {
   "cell_type": "code",
   "execution_count": 110,
   "metadata": {},
   "outputs": [
    {
     "data": {
      "text/html": [
       "<div>\n",
       "<style scoped>\n",
       "    .dataframe tbody tr th:only-of-type {\n",
       "        vertical-align: middle;\n",
       "    }\n",
       "\n",
       "    .dataframe tbody tr th {\n",
       "        vertical-align: top;\n",
       "    }\n",
       "\n",
       "    .dataframe thead th {\n",
       "        text-align: right;\n",
       "    }\n",
       "</style>\n",
       "<table border=\"1\" class=\"dataframe\">\n",
       "  <thead>\n",
       "    <tr style=\"text-align: right;\">\n",
       "      <th></th>\n",
       "      <th>gene_one</th>\n",
       "      <th>gene_two</th>\n",
       "      <th>goldstandard</th>\n",
       "      <th>weighted_mutual</th>\n",
       "      <th>cut_mutual</th>\n",
       "      <th>lls</th>\n",
       "    </tr>\n",
       "  </thead>\n",
       "  <tbody>\n",
       "    <tr>\n",
       "      <th>0</th>\n",
       "      <td>562.22628.con.0001_286|562.22628</td>\n",
       "      <td>562.22434.con.0034_24|562.22434</td>\n",
       "      <td>0</td>\n",
       "      <td>1.713454e-08</td>\n",
       "      <td>(1.71e-08, 1.78e-08]</td>\n",
       "      <td>-29.906439</td>\n",
       "    </tr>\n",
       "    <tr>\n",
       "      <th>1</th>\n",
       "      <td>562.22628.con.0001_286|562.22628</td>\n",
       "      <td>562.22438.con.0003_278|562.22438</td>\n",
       "      <td>0</td>\n",
       "      <td>2.351837e-07</td>\n",
       "      <td>(2.34e-07, 2.42e-07]</td>\n",
       "      <td>-29.745527</td>\n",
       "    </tr>\n",
       "    <tr>\n",
       "      <th>2</th>\n",
       "      <td>562.22628.con.0001_286|562.22628</td>\n",
       "      <td>562.22453.con.0099_8|562.22453</td>\n",
       "      <td>0</td>\n",
       "      <td>6.100460e-08</td>\n",
       "      <td>(6.1e-08, 6.22e-08]</td>\n",
       "      <td>-29.874227</td>\n",
       "    </tr>\n",
       "    <tr>\n",
       "      <th>3</th>\n",
       "      <td>562.22628.con.0001_286|562.22628</td>\n",
       "      <td>562.22453.con.0100_2|562.22453</td>\n",
       "      <td>0</td>\n",
       "      <td>1.541439e-07</td>\n",
       "      <td>(1.53e-07, 1.55e-07]</td>\n",
       "      <td>-29.806813</td>\n",
       "    </tr>\n",
       "    <tr>\n",
       "      <th>4</th>\n",
       "      <td>562.22628.con.0001_286|562.22628</td>\n",
       "      <td>562.22457.con.0021_39|562.22457</td>\n",
       "      <td>0</td>\n",
       "      <td>1.005579e-07</td>\n",
       "      <td>(9.95e-08, 1.01e-07]</td>\n",
       "      <td>-29.846028</td>\n",
       "    </tr>\n",
       "  </tbody>\n",
       "</table>\n",
       "</div>"
      ],
      "text/plain": [
       "                           gene_one                          gene_two  \\\n",
       "0  562.22628.con.0001_286|562.22628   562.22434.con.0034_24|562.22434   \n",
       "1  562.22628.con.0001_286|562.22628  562.22438.con.0003_278|562.22438   \n",
       "2  562.22628.con.0001_286|562.22628    562.22453.con.0099_8|562.22453   \n",
       "3  562.22628.con.0001_286|562.22628    562.22453.con.0100_2|562.22453   \n",
       "4  562.22628.con.0001_286|562.22628   562.22457.con.0021_39|562.22457   \n",
       "\n",
       "   goldstandard  weighted_mutual            cut_mutual        lls  \n",
       "0             0     1.713454e-08  (1.71e-08, 1.78e-08] -29.906439  \n",
       "1             0     2.351837e-07  (2.34e-07, 2.42e-07] -29.745527  \n",
       "2             0     6.100460e-08   (6.1e-08, 6.22e-08] -29.874227  \n",
       "3             0     1.541439e-07  (1.53e-07, 1.55e-07] -29.806813  \n",
       "4             0     1.005579e-07  (9.95e-08, 1.01e-07] -29.846028  "
      ]
     },
     "execution_count": 110,
     "metadata": {},
     "output_type": "execute_result"
    }
   ],
   "source": [
    "total_path.head()"
   ]
  },
  {
   "cell_type": "code",
   "execution_count": null,
   "metadata": {},
   "outputs": [],
   "source": [
    "total_go = merge_gold(gold_go, d)"
   ]
  },
  {
   "cell_type": "code",
   "execution_count": null,
   "metadata": {},
   "outputs": [],
   "source": [
    "return_stats(total_go)"
   ]
  },
  {
   "cell_type": "code",
   "execution_count": null,
   "metadata": {},
   "outputs": [],
   "source": [
    "kde_d(total_go)"
   ]
  },
  {
   "cell_type": "code",
   "execution_count": null,
   "metadata": {},
   "outputs": [],
   "source": [
    "lls = LLS(total_go, 'weighted_mutual')"
   ]
  },
  {
   "cell_type": "code",
   "execution_count": null,
   "metadata": {},
   "outputs": [],
   "source": [
    "lls.plot(kind = 'bar', ylim = (0,30))"
   ]
  },
  {
   "cell_type": "code",
   "execution_count": null,
   "metadata": {},
   "outputs": [],
   "source": [
    "lls.loc[lls>3]"
   ]
  },
  {
   "cell_type": "code",
   "execution_count": null,
   "metadata": {},
   "outputs": [],
   "source": [
    "# set threshold at 5 * 10e-7"
   ]
  },
  {
   "cell_type": "code",
   "execution_count": null,
   "metadata": {},
   "outputs": [],
   "source": [
    "def select_network(infile, outfile, thres):\n",
    "    chunks = pd.read_csv(infile, header = 0, chunksize = 100000)\n",
    "    for chunk in chunks:\n",
    "        selected = chunk.loc[chunk['weighted_mutual'] > thres]\n",
    "        with open(outfile, 'a') as f:\n",
    "            selected.to_csv(f, header = 0, index = False)\n",
    "        print(selected.shape)"
   ]
  },
  {
   "cell_type": "code",
   "execution_count": null,
   "metadata": {},
   "outputs": [],
   "source": [
    "select_network('/home/hermuba/data0118/domain_weight_mutual', '/home/hermuba/data0118/network1122/domain_weight_mutual_select', thres = 0.0000005)"
   ]
  },
  {
   "cell_type": "code",
   "execution_count": null,
   "metadata": {},
   "outputs": [],
   "source": []
  }
 ],
 "metadata": {
  "kernelspec": {
   "display_name": "Python 3",
   "language": "python",
   "name": "python3"
  },
  "language_info": {
   "codemirror_mode": {
    "name": "ipython",
    "version": 3
   },
   "file_extension": ".py",
   "mimetype": "text/x-python",
   "name": "python",
   "nbconvert_exporter": "python",
   "pygments_lexer": "ipython3",
   "version": "3.6.7"
  }
 },
 "nbformat": 4,
 "nbformat_minor": 2
}
