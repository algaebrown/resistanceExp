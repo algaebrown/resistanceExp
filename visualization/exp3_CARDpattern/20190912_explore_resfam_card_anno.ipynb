{
 "cells": [
  {
   "cell_type": "code",
   "execution_count": 1,
   "metadata": {},
   "outputs": [
    {
     "name": "stderr",
     "output_type": "stream",
     "text": [
      "/home/hermuba/miniconda3/lib/python3.6/site-packages/pandas/core/frame.py:4025: SettingWithCopyWarning: \n",
      "A value is trying to be set on a copy of a slice from a DataFrame\n",
      "\n",
      "See the caveats in the documentation: http://pandas.pydata.org/pandas-docs/stable/indexing.html#indexing-view-versus-copy\n",
      "  return super(DataFrame, self).rename(**kwargs)\n"
     ]
    }
   ],
   "source": [
    "# import known prior knowledge\n",
    "from candidate_gene import *\n",
    "card_abx, card_efflux = card()\n",
    "resfam_mech, resfam_abx = resfam()"
   ]
  },
  {
   "cell_type": "code",
   "execution_count": 2,
   "metadata": {},
   "outputs": [
    {
     "data": {
      "text/plain": [
       "[macrolide, beta-lactam, aminoglycoside, polymyxin, lincosamide, ..., peptide antibiotics, streptogramin, fosfomycin, nucleoside antibiotics, glycopeptide antibiotics]\n",
       "Length: 14\n",
       "Categories (14, object): [macrolide, beta-lactam, aminoglycoside, polymyxin, ..., streptogramin, fosfomycin, nucleoside antibiotics, glycopeptide antibiotics]"
      ]
     },
     "execution_count": 2,
     "metadata": {},
     "output_type": "execute_result"
    }
   ],
   "source": [
    "card_abx.unique()"
   ]
  },
  {
   "cell_type": "code",
   "execution_count": 3,
   "metadata": {},
   "outputs": [
    {
     "data": {
      "text/plain": [
       "[rRNA Methyltransferase, Aminoglycoside Resistance, Aminoglycoside Modifying Enzyme, ABC Transporter, RND Antibiotic Efflux, ..., Tetracycline MFS Efflux, Quinolone Resistance, Other, Tetracycline Ribosomal Protection, Tetracycline Inactivation]\n",
       "Length: 16\n",
       "Categories (16, object): [rRNA Methyltransferase, Aminoglycoside Resistance, Aminoglycoside Modifying Enzyme, ABC Transporter, ..., Quinolone Resistance, Other, Tetracycline Ribosomal Protection, Tetracycline Inactivation]"
      ]
     },
     "execution_count": 3,
     "metadata": {},
     "output_type": "execute_result"
    }
   ],
   "source": [
    "resfam_abx.unique()"
   ]
  },
  {
   "cell_type": "code",
   "execution_count": 5,
   "metadata": {},
   "outputs": [
    {
     "data": {
      "text/plain": [
       "61"
      ]
     },
     "execution_count": 5,
     "metadata": {},
     "output_type": "execute_result"
    }
   ],
   "source": [
    "len(card_abx.index.unique())"
   ]
  },
  {
   "cell_type": "code",
   "execution_count": 6,
   "metadata": {},
   "outputs": [
    {
     "data": {
      "text/plain": [
       "64"
      ]
     },
     "execution_count": 6,
     "metadata": {},
     "output_type": "execute_result"
    }
   ],
   "source": [
    "len(card_abx)"
   ]
  },
  {
   "cell_type": "code",
   "execution_count": null,
   "metadata": {},
   "outputs": [],
   "source": []
  }
 ],
 "metadata": {
  "kernelspec": {
   "display_name": "Python 3",
   "language": "python",
   "name": "python3"
  },
  "language_info": {
   "codemirror_mode": {
    "name": "ipython",
    "version": 3
   },
   "file_extension": ".py",
   "mimetype": "text/x-python",
   "name": "python",
   "nbconvert_exporter": "python",
   "pygments_lexer": "ipython3",
   "version": "3.6.7"
  }
 },
 "nbformat": 4,
 "nbformat_minor": 2
}
