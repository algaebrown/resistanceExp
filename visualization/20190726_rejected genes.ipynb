{
 "cells": [
  {
   "cell_type": "code",
   "execution_count": 3,
   "metadata": {},
   "outputs": [],
   "source": [
    "import pandas as pd\n",
    "genotype_p_fisher = pd.read_csv('/home/hermuba/data0118/ontologies/genotype_fisher_corrected.csv', index_col = 0)\n",
    "genotype_reject_fisher = pd.read_csv('/home/hermuba/data0118/ontologies/genotype_fisher_reject_corrected.csv', index_col = 0)"
   ]
  },
  {
   "cell_type": "code",
   "execution_count": 4,
   "metadata": {},
   "outputs": [
    {
     "data": {
      "text/html": [
       "<div>\n",
       "<style scoped>\n",
       "    .dataframe tbody tr th:only-of-type {\n",
       "        vertical-align: middle;\n",
       "    }\n",
       "\n",
       "    .dataframe tbody tr th {\n",
       "        vertical-align: top;\n",
       "    }\n",
       "\n",
       "    .dataframe thead th {\n",
       "        text-align: right;\n",
       "    }\n",
       "</style>\n",
       "<table border=\"1\" class=\"dataframe\">\n",
       "  <thead>\n",
       "    <tr style=\"text-align: right;\">\n",
       "      <th></th>\n",
       "      <th>levofloxacin</th>\n",
       "      <th>cefazolin</th>\n",
       "      <th>ampicillin-sulbactam</th>\n",
       "      <th>ceftriaxone</th>\n",
       "      <th>trimethoprim-sulfamethoxazole</th>\n",
       "      <th>cefalotin</th>\n",
       "      <th>trimethoprim</th>\n",
       "      <th>cefoxitin</th>\n",
       "      <th>aztreonam</th>\n",
       "      <th>amikacin</th>\n",
       "      <th>...</th>\n",
       "      <th>amoxicillin</th>\n",
       "      <th>imipenem</th>\n",
       "      <th>tigecycline</th>\n",
       "      <th>cefotaxime</th>\n",
       "      <th>piperacillin-tazobactam</th>\n",
       "      <th>cefuroxime</th>\n",
       "      <th>amoxicillin-clavunate</th>\n",
       "      <th>ceftazidime</th>\n",
       "      <th>ciprofloxacin</th>\n",
       "      <th>gentamicin</th>\n",
       "    </tr>\n",
       "  </thead>\n",
       "  <tbody>\n",
       "    <tr>\n",
       "      <th>562.10576.con.0008_20|562.10576</th>\n",
       "      <td>NaN</td>\n",
       "      <td>NaN</td>\n",
       "      <td>NaN</td>\n",
       "      <td>1.0</td>\n",
       "      <td>NaN</td>\n",
       "      <td>0.596594</td>\n",
       "      <td>1.000000</td>\n",
       "      <td>1.000000</td>\n",
       "      <td>0.529076</td>\n",
       "      <td>1.0</td>\n",
       "      <td>...</td>\n",
       "      <td>1.000000</td>\n",
       "      <td>1.000000</td>\n",
       "      <td>1.0</td>\n",
       "      <td>1.000000</td>\n",
       "      <td>1.000000</td>\n",
       "      <td>1.0</td>\n",
       "      <td>1.000000</td>\n",
       "      <td>0.568218</td>\n",
       "      <td>1.000000</td>\n",
       "      <td>1.000000</td>\n",
       "    </tr>\n",
       "    <tr>\n",
       "      <th>562.10576.con.0029_46|562.10576</th>\n",
       "      <td>NaN</td>\n",
       "      <td>NaN</td>\n",
       "      <td>NaN</td>\n",
       "      <td>1.0</td>\n",
       "      <td>1.0</td>\n",
       "      <td>NaN</td>\n",
       "      <td>0.871502</td>\n",
       "      <td>0.937371</td>\n",
       "      <td>0.101230</td>\n",
       "      <td>1.0</td>\n",
       "      <td>...</td>\n",
       "      <td>NaN</td>\n",
       "      <td>0.121025</td>\n",
       "      <td>1.0</td>\n",
       "      <td>0.071115</td>\n",
       "      <td>1.000000</td>\n",
       "      <td>NaN</td>\n",
       "      <td>NaN</td>\n",
       "      <td>0.041920</td>\n",
       "      <td>0.183080</td>\n",
       "      <td>0.053541</td>\n",
       "    </tr>\n",
       "    <tr>\n",
       "      <th>562.10576.con.0045_7|562.10576</th>\n",
       "      <td>NaN</td>\n",
       "      <td>NaN</td>\n",
       "      <td>NaN</td>\n",
       "      <td>1.0</td>\n",
       "      <td>NaN</td>\n",
       "      <td>NaN</td>\n",
       "      <td>NaN</td>\n",
       "      <td>NaN</td>\n",
       "      <td>0.221392</td>\n",
       "      <td>1.0</td>\n",
       "      <td>...</td>\n",
       "      <td>1.000000</td>\n",
       "      <td>1.000000</td>\n",
       "      <td>1.0</td>\n",
       "      <td>1.000000</td>\n",
       "      <td>0.412230</td>\n",
       "      <td>1.0</td>\n",
       "      <td>0.739893</td>\n",
       "      <td>0.222590</td>\n",
       "      <td>1.000000</td>\n",
       "      <td>0.352210</td>\n",
       "    </tr>\n",
       "    <tr>\n",
       "      <th>562.10576.con.0045_9|562.10576</th>\n",
       "      <td>NaN</td>\n",
       "      <td>NaN</td>\n",
       "      <td>NaN</td>\n",
       "      <td>1.0</td>\n",
       "      <td>NaN</td>\n",
       "      <td>NaN</td>\n",
       "      <td>NaN</td>\n",
       "      <td>NaN</td>\n",
       "      <td>0.221392</td>\n",
       "      <td>1.0</td>\n",
       "      <td>...</td>\n",
       "      <td>1.000000</td>\n",
       "      <td>1.000000</td>\n",
       "      <td>1.0</td>\n",
       "      <td>1.000000</td>\n",
       "      <td>0.412230</td>\n",
       "      <td>1.0</td>\n",
       "      <td>0.739893</td>\n",
       "      <td>0.222590</td>\n",
       "      <td>1.000000</td>\n",
       "      <td>0.352210</td>\n",
       "    </tr>\n",
       "    <tr>\n",
       "      <th>562.10576.con.0047_4|562.10576</th>\n",
       "      <td>1.0</td>\n",
       "      <td>1.0</td>\n",
       "      <td>1.0</td>\n",
       "      <td>1.0</td>\n",
       "      <td>1.0</td>\n",
       "      <td>NaN</td>\n",
       "      <td>0.871502</td>\n",
       "      <td>0.109845</td>\n",
       "      <td>0.101230</td>\n",
       "      <td>1.0</td>\n",
       "      <td>...</td>\n",
       "      <td>0.834561</td>\n",
       "      <td>0.049791</td>\n",
       "      <td>1.0</td>\n",
       "      <td>0.187144</td>\n",
       "      <td>0.487471</td>\n",
       "      <td>1.0</td>\n",
       "      <td>0.499185</td>\n",
       "      <td>0.031780</td>\n",
       "      <td>0.133736</td>\n",
       "      <td>0.019725</td>\n",
       "    </tr>\n",
       "  </tbody>\n",
       "</table>\n",
       "<p>5 rows × 25 columns</p>\n",
       "</div>"
      ],
      "text/plain": [
       "                                 levofloxacin  cefazolin  \\\n",
       "562.10576.con.0008_20|562.10576           NaN        NaN   \n",
       "562.10576.con.0029_46|562.10576           NaN        NaN   \n",
       "562.10576.con.0045_7|562.10576            NaN        NaN   \n",
       "562.10576.con.0045_9|562.10576            NaN        NaN   \n",
       "562.10576.con.0047_4|562.10576            1.0        1.0   \n",
       "\n",
       "                                 ampicillin-sulbactam  ceftriaxone  \\\n",
       "562.10576.con.0008_20|562.10576                   NaN          1.0   \n",
       "562.10576.con.0029_46|562.10576                   NaN          1.0   \n",
       "562.10576.con.0045_7|562.10576                    NaN          1.0   \n",
       "562.10576.con.0045_9|562.10576                    NaN          1.0   \n",
       "562.10576.con.0047_4|562.10576                    1.0          1.0   \n",
       "\n",
       "                                 trimethoprim-sulfamethoxazole  cefalotin  \\\n",
       "562.10576.con.0008_20|562.10576                            NaN   0.596594   \n",
       "562.10576.con.0029_46|562.10576                            1.0        NaN   \n",
       "562.10576.con.0045_7|562.10576                             NaN        NaN   \n",
       "562.10576.con.0045_9|562.10576                             NaN        NaN   \n",
       "562.10576.con.0047_4|562.10576                             1.0        NaN   \n",
       "\n",
       "                                 trimethoprim  cefoxitin  aztreonam  amikacin  \\\n",
       "562.10576.con.0008_20|562.10576      1.000000   1.000000   0.529076       1.0   \n",
       "562.10576.con.0029_46|562.10576      0.871502   0.937371   0.101230       1.0   \n",
       "562.10576.con.0045_7|562.10576            NaN        NaN   0.221392       1.0   \n",
       "562.10576.con.0045_9|562.10576            NaN        NaN   0.221392       1.0   \n",
       "562.10576.con.0047_4|562.10576       0.871502   0.109845   0.101230       1.0   \n",
       "\n",
       "                                 ...  amoxicillin  imipenem  tigecycline  \\\n",
       "562.10576.con.0008_20|562.10576  ...     1.000000  1.000000          1.0   \n",
       "562.10576.con.0029_46|562.10576  ...          NaN  0.121025          1.0   \n",
       "562.10576.con.0045_7|562.10576   ...     1.000000  1.000000          1.0   \n",
       "562.10576.con.0045_9|562.10576   ...     1.000000  1.000000          1.0   \n",
       "562.10576.con.0047_4|562.10576   ...     0.834561  0.049791          1.0   \n",
       "\n",
       "                                 cefotaxime  piperacillin-tazobactam  \\\n",
       "562.10576.con.0008_20|562.10576    1.000000                 1.000000   \n",
       "562.10576.con.0029_46|562.10576    0.071115                 1.000000   \n",
       "562.10576.con.0045_7|562.10576     1.000000                 0.412230   \n",
       "562.10576.con.0045_9|562.10576     1.000000                 0.412230   \n",
       "562.10576.con.0047_4|562.10576     0.187144                 0.487471   \n",
       "\n",
       "                                 cefuroxime  amoxicillin-clavunate  \\\n",
       "562.10576.con.0008_20|562.10576         1.0               1.000000   \n",
       "562.10576.con.0029_46|562.10576         NaN                    NaN   \n",
       "562.10576.con.0045_7|562.10576          1.0               0.739893   \n",
       "562.10576.con.0045_9|562.10576          1.0               0.739893   \n",
       "562.10576.con.0047_4|562.10576          1.0               0.499185   \n",
       "\n",
       "                                 ceftazidime  ciprofloxacin  gentamicin  \n",
       "562.10576.con.0008_20|562.10576     0.568218       1.000000    1.000000  \n",
       "562.10576.con.0029_46|562.10576     0.041920       0.183080    0.053541  \n",
       "562.10576.con.0045_7|562.10576      0.222590       1.000000    0.352210  \n",
       "562.10576.con.0045_9|562.10576      0.222590       1.000000    0.352210  \n",
       "562.10576.con.0047_4|562.10576      0.031780       0.133736    0.019725  \n",
       "\n",
       "[5 rows x 25 columns]"
      ]
     },
     "execution_count": 4,
     "metadata": {},
     "output_type": "execute_result"
    }
   ],
   "source": [
    "genotype_p_fisher.head()"
   ]
  },
  {
   "cell_type": "code",
   "execution_count": 8,
   "metadata": {},
   "outputs": [],
   "source": [
    "reject_stack = genotype_reject_fisher.stack()\n",
    "rejected = reject_stack[reject_stack == True]"
   ]
  },
  {
   "cell_type": "code",
   "execution_count": 9,
   "metadata": {},
   "outputs": [],
   "source": [
    "# read CARD annotation, resfam\n",
    "card = pd.read_csv('/home/hermuba/data0118/Escherichia0.70rm_plasmid_card.csv', index_col = 0) # loose card\n",
    "resfam = pd.read_csv('/home/hermuba/data0118/resfam_anno.csv', index_col = 0)\n",
    "resfam_abx = pd.read_csv('/home/hermuba/data0118/resfam_anno_abx.csv', index_col = 0)"
   ]
  },
  {
   "cell_type": "code",
   "execution_count": 10,
   "metadata": {},
   "outputs": [
    {
     "data": {
      "text/plain": [
       "rRNA Methyltransferase                31\n",
       "Aminoglycoside Modifying Enzyme       59\n",
       "ABC Transporter                      343\n",
       "RND Antibiotic Efflux                 82\n",
       "Other Efflux                         117\n",
       "Gene Modulating Resistance           260\n",
       "Beta-Lactamase                        61\n",
       "Chloramphenicol Resistance           175\n",
       "MFS Transporter                      169\n",
       "Quinolone Resistance                  20\n",
       "Other                                  3\n",
       "Tetracycline MFS Efflux              122\n",
       "Tetracycline Ribosomal Protection     11\n",
       "Tetracycline Inactivation             21\n",
       "Gylcopeptide Resistance              181\n",
       "Aminoglycoside Resistance              7\n",
       "dtype: int64"
      ]
     },
     "execution_count": 10,
     "metadata": {},
     "output_type": "execute_result"
    }
   ],
   "source": [
    "resfam_abx.sum()"
   ]
  },
  {
   "cell_type": "code",
   "execution_count": 11,
   "metadata": {},
   "outputs": [],
   "source": [
    "# import drug category\n",
    "drug_df = pd.read_pickle('/home/hermuba/data0118/drug_category')"
   ]
  },
  {
   "cell_type": "code",
   "execution_count": 50,
   "metadata": {},
   "outputs": [
    {
     "data": {
      "text/plain": [
       "cephems               26\n",
       "quinolones            16\n",
       "b_lactam_inhibitor    12\n",
       "aminoglycosides        8\n",
       "folate_path            6\n",
       "penicillins            6\n",
       "tetracyclines          6\n",
       "carbapenems            4\n",
       "lipopeptides           3\n",
       "macrolides             3\n",
       "phenicols              2\n",
       "fosfomycins            1\n",
       "licosamide             1\n",
       "nitrofurans            1\n",
       "pleuromutilin          1\n",
       "monobactams            1\n",
       "Name: category, dtype: int64"
      ]
     },
     "execution_count": 50,
     "metadata": {},
     "output_type": "execute_result"
    }
   ],
   "source": [
    "drug_df['category'].value_counts()"
   ]
  },
  {
   "cell_type": "code",
   "execution_count": 56,
   "metadata": {},
   "outputs": [],
   "source": [
    "def anno_to_pheno(drug_cat, resfam_class_list):\n",
    "    '''\n",
    "    drug_cat = drug category in drug_df\n",
    "    \n",
    "    '''\n",
    "\n",
    "    # find genes based on phenotype\n",
    "    drug_names = drug_df.loc[drug_df['category'] == drug_cat]['drug']\n",
    "    pheno_genes = rejected.loc[slice(None), drug_names].index.get_level_values(0)\n",
    "    \n",
    "    print(len(pheno_genes), ' number of genes with phenotypic significance')\n",
    "    \n",
    "    # see if they fit the annotation\n",
    "    for anno in resfam_class_list:\n",
    "              \n",
    "        # within all pheno predicted\n",
    "        count_value = resfam_abx.loc[pheno_genes, anno].value_counts()\n",
    "        fp = count_value[False]\n",
    "        \n",
    "        if True in count_value.index:\n",
    "            tp = count_value[True]\n",
    "        else:\n",
    "            tp = 0\n",
    "        \n",
    "        nan = len(pheno_genes) - tp - fp\n",
    "        \n",
    "        # within all annotated\n",
    "        fn = resfam_abx.loc[resfam_abx[anno] == True].shape[0] - tp\n",
    "        \n",
    "        print(tp/len(pheno_genes), fp/len(pheno_genes), nan/len(pheno_genes), fn/resfam_abx.loc[resfam_abx[anno] == True].shape[0])"
   ]
  },
  {
   "cell_type": "code",
   "execution_count": 57,
   "metadata": {},
   "outputs": [
    {
     "name": "stdout",
     "output_type": "stream",
     "text": [
      "80  number of genes with phenotypic significance\n",
      "0.0 0.7625 0.2375 1.0\n"
     ]
    }
   ],
   "source": [
    "anno_to_pheno('quinolones', ['Quinolone Resistance'])"
   ]
  },
  {
   "cell_type": "code",
   "execution_count": 61,
   "metadata": {},
   "outputs": [
    {
     "name": "stdout",
     "output_type": "stream",
     "text": [
      "236  number of genes with phenotypic significance\n",
      "0.11440677966101695 0.6101694915254238 0.2754237288135593 0.5573770491803278\n"
     ]
    }
   ],
   "source": [
    "anno_to_pheno('cephems', ['Beta-Lactamase'])"
   ]
  },
  {
   "cell_type": "code",
   "execution_count": 64,
   "metadata": {},
   "outputs": [
    {
     "name": "stdout",
     "output_type": "stream",
     "text": [
      "45  number of genes with phenotypic significance\n",
      "0.1111111111111111 0.6888888888888889 0.2 0.9180327868852459\n"
     ]
    }
   ],
   "source": [
    "anno_to_pheno('penicillins', ['Beta-Lactamase'])"
   ]
  },
  {
   "cell_type": "code",
   "execution_count": 62,
   "metadata": {},
   "outputs": [
    {
     "name": "stdout",
     "output_type": "stream",
     "text": [
      "84  number of genes with phenotypic significance\n",
      "0.11904761904761904 0.6547619047619048 0.2261904761904762 0.8360655737704918\n"
     ]
    }
   ],
   "source": [
    "anno_to_pheno('b_lactam_inhibitor', ['Beta-Lactamase'])"
   ]
  },
  {
   "cell_type": "code",
   "execution_count": 63,
   "metadata": {},
   "outputs": [
    {
     "name": "stdout",
     "output_type": "stream",
     "text": [
      "153  number of genes with phenotypic significance\n",
      "0.11764705882352941 0.673202614379085 0.20915032679738563 0.7049180327868853\n"
     ]
    }
   ],
   "source": [
    "anno_to_pheno('carbapenems', ['Beta-Lactamase'])"
   ]
  },
  {
   "cell_type": "code",
   "execution_count": 65,
   "metadata": {},
   "outputs": [
    {
     "name": "stdout",
     "output_type": "stream",
     "text": [
      "105  number of genes with phenotypic significance\n",
      "0.17142857142857143 0.6190476190476191 0.20952380952380953 0.6949152542372882\n",
      "0.02857142857142857 0.7619047619047619 0.20952380952380953 0.5714285714285714\n",
      "0.02857142857142857 0.7619047619047619 0.20952380952380953 0.9032258064516129\n"
     ]
    }
   ],
   "source": [
    "anno_to_pheno('aminoglycosides', ['Aminoglycoside Modifying Enzyme', 'Aminoglycoside Resistance', 'rRNA Methyltransferase'])"
   ]
  },
  {
   "cell_type": "code",
   "execution_count": null,
   "metadata": {},
   "outputs": [],
   "source": []
  }
 ],
 "metadata": {
  "kernelspec": {
   "display_name": "Python 3",
   "language": "python",
   "name": "python3"
  },
  "language_info": {
   "codemirror_mode": {
    "name": "ipython",
    "version": 3
   },
   "file_extension": ".py",
   "mimetype": "text/x-python",
   "name": "python",
   "nbconvert_exporter": "python",
   "pygments_lexer": "ipython3",
   "version": "3.6.7"
  }
 },
 "nbformat": 4,
 "nbformat_minor": 2
}
