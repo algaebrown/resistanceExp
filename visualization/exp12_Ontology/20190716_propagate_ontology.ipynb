{
 "cells": [
  {
   "cell_type": "code",
   "execution_count": 1,
   "metadata": {},
   "outputs": [
    {
     "name": "stderr",
     "output_type": "stream",
     "text": [
      "/home/hermuba/miniconda3/envs/ddot/lib/python3.6/site-packages/ddot/Ontology.py:1606: FutureWarning: read_table is deprecated, use read_csv instead, passing sep='\\t'.\n",
      "  table = pd.read_table(table, comment='#', header=header)\n"
     ]
    }
   ],
   "source": [
    "from ddot import Ontology\n",
    "import ddot\n",
    "ont2 = Ontology.from_table('/home/hermuba/data0118/network1122/candidate_ontologies')"
   ]
  },
  {
   "cell_type": "code",
   "execution_count": 34,
   "metadata": {},
   "outputs": [],
   "source": [
    "# put phenotype here\n",
    "import pandas as pd\n",
    "pheno = pd.read_csv('/home/hermuba/data0118/ontologies/phenotype_cluster.csv', header = None, index_col = 0, names = ['phenotype cluster'])"
   ]
  },
  {
   "cell_type": "code",
   "execution_count": 35,
   "metadata": {},
   "outputs": [],
   "source": [
    "# put gene index of the ontology into pheno\n",
    "i = 0\n",
    "for g_index in ont2.genes:\n",
    "    pheno.loc[g_index, 'gene index'] = i\n",
    "    i+= 1"
   ]
  },
  {
   "cell_type": "code",
   "execution_count": 36,
   "metadata": {},
   "outputs": [],
   "source": [
    "# make gene index\n",
    "pheno.reset_index(inplace = True)\n",
    "pheno.set_index('gene index', inplace = True)"
   ]
  },
  {
   "cell_type": "code",
   "execution_count": 37,
   "metadata": {},
   "outputs": [
    {
     "data": {
      "text/html": [
       "<div>\n",
       "<style scoped>\n",
       "    .dataframe tbody tr th:only-of-type {\n",
       "        vertical-align: middle;\n",
       "    }\n",
       "\n",
       "    .dataframe tbody tr th {\n",
       "        vertical-align: top;\n",
       "    }\n",
       "\n",
       "    .dataframe thead th {\n",
       "        text-align: right;\n",
       "    }\n",
       "</style>\n",
       "<table border=\"1\" class=\"dataframe\">\n",
       "  <thead>\n",
       "    <tr style=\"text-align: right;\">\n",
       "      <th></th>\n",
       "      <th>index</th>\n",
       "      <th>phenotype cluster</th>\n",
       "    </tr>\n",
       "    <tr>\n",
       "      <th>gene index</th>\n",
       "      <th></th>\n",
       "      <th></th>\n",
       "    </tr>\n",
       "  </thead>\n",
       "  <tbody>\n",
       "    <tr>\n",
       "      <th>0.0</th>\n",
       "      <td>562.10576.con.0008_20|562.10576</td>\n",
       "      <td>9</td>\n",
       "    </tr>\n",
       "    <tr>\n",
       "      <th>1.0</th>\n",
       "      <td>562.10576.con.0029_46|562.10576</td>\n",
       "      <td>1</td>\n",
       "    </tr>\n",
       "    <tr>\n",
       "      <th>2.0</th>\n",
       "      <td>562.10576.con.0045_7|562.10576</td>\n",
       "      <td>3</td>\n",
       "    </tr>\n",
       "    <tr>\n",
       "      <th>3.0</th>\n",
       "      <td>562.10576.con.0045_9|562.10576</td>\n",
       "      <td>3</td>\n",
       "    </tr>\n",
       "    <tr>\n",
       "      <th>4.0</th>\n",
       "      <td>562.10576.con.0047_4|562.10576</td>\n",
       "      <td>9</td>\n",
       "    </tr>\n",
       "  </tbody>\n",
       "</table>\n",
       "</div>"
      ],
      "text/plain": [
       "                                      index  phenotype cluster\n",
       "gene index                                                    \n",
       "0.0         562.10576.con.0008_20|562.10576                  9\n",
       "1.0         562.10576.con.0029_46|562.10576                  1\n",
       "2.0          562.10576.con.0045_7|562.10576                  3\n",
       "3.0          562.10576.con.0045_9|562.10576                  3\n",
       "4.0          562.10576.con.0047_4|562.10576                  9"
      ]
     },
     "execution_count": 37,
     "metadata": {},
     "output_type": "execute_result"
    }
   ],
   "source": [
    "pheno.head()"
   ]
  },
  {
   "cell_type": "code",
   "execution_count": 79,
   "metadata": {},
   "outputs": [
    {
     "data": {
      "text/html": [
       "<div>\n",
       "<style scoped>\n",
       "    .dataframe tbody tr th:only-of-type {\n",
       "        vertical-align: middle;\n",
       "    }\n",
       "\n",
       "    .dataframe tbody tr th {\n",
       "        vertical-align: top;\n",
       "    }\n",
       "\n",
       "    .dataframe thead th {\n",
       "        text-align: right;\n",
       "    }\n",
       "</style>\n",
       "<table border=\"1\" class=\"dataframe\">\n",
       "  <thead>\n",
       "    <tr style=\"text-align: right;\">\n",
       "      <th></th>\n",
       "      <th>index</th>\n",
       "    </tr>\n",
       "    <tr>\n",
       "      <th>phenotype cluster</th>\n",
       "      <th></th>\n",
       "    </tr>\n",
       "  </thead>\n",
       "  <tbody>\n",
       "    <tr>\n",
       "      <th>1</th>\n",
       "      <td>2</td>\n",
       "    </tr>\n",
       "    <tr>\n",
       "      <th>2</th>\n",
       "      <td>14</td>\n",
       "    </tr>\n",
       "    <tr>\n",
       "      <th>3</th>\n",
       "      <td>5</td>\n",
       "    </tr>\n",
       "    <tr>\n",
       "      <th>4</th>\n",
       "      <td>75</td>\n",
       "    </tr>\n",
       "    <tr>\n",
       "      <th>5</th>\n",
       "      <td>108</td>\n",
       "    </tr>\n",
       "    <tr>\n",
       "      <th>6</th>\n",
       "      <td>107</td>\n",
       "    </tr>\n",
       "    <tr>\n",
       "      <th>7</th>\n",
       "      <td>3</td>\n",
       "    </tr>\n",
       "    <tr>\n",
       "      <th>8</th>\n",
       "      <td>3</td>\n",
       "    </tr>\n",
       "    <tr>\n",
       "      <th>9</th>\n",
       "      <td>121</td>\n",
       "    </tr>\n",
       "    <tr>\n",
       "      <th>10</th>\n",
       "      <td>6</td>\n",
       "    </tr>\n",
       "    <tr>\n",
       "      <th>11</th>\n",
       "      <td>7</td>\n",
       "    </tr>\n",
       "    <tr>\n",
       "      <th>12</th>\n",
       "      <td>2</td>\n",
       "    </tr>\n",
       "    <tr>\n",
       "      <th>13</th>\n",
       "      <td>94</td>\n",
       "    </tr>\n",
       "    <tr>\n",
       "      <th>14</th>\n",
       "      <td>1</td>\n",
       "    </tr>\n",
       "    <tr>\n",
       "      <th>15</th>\n",
       "      <td>1</td>\n",
       "    </tr>\n",
       "    <tr>\n",
       "      <th>16</th>\n",
       "      <td>1</td>\n",
       "    </tr>\n",
       "  </tbody>\n",
       "</table>\n",
       "</div>"
      ],
      "text/plain": [
       "                   index\n",
       "phenotype cluster       \n",
       "1                      2\n",
       "2                     14\n",
       "3                      5\n",
       "4                     75\n",
       "5                    108\n",
       "6                    107\n",
       "7                      3\n",
       "8                      3\n",
       "9                    121\n",
       "10                     6\n",
       "11                     7\n",
       "12                     2\n",
       "13                    94\n",
       "14                     1\n",
       "15                     1\n",
       "16                     1"
      ]
     },
     "execution_count": 79,
     "metadata": {},
     "output_type": "execute_result"
    }
   ],
   "source": [
    "pheno.groupby(by = 'phenotype cluster').count()"
   ]
  },
  {
   "cell_type": "code",
   "execution_count": 38,
   "metadata": {},
   "outputs": [
    {
     "data": {
      "text/plain": [
       "dict_keys(['S:791', 'S:721', 'S:779', 'S:655', 'S:777', 'S:660', 'S:583', 'S:678', 'S:781', 'S:784', 'S:668', 'S:570', 'S:769', 'S:651', 'S:670', 'S:778', 'S:755', 'S:772', 'S:686', 'S:672', 'S:580', 'S:604', 'S:706', 'S:590', 'S:684', 'S:560', 'S:600', 'S:703', 'S:638', 'S:761', 'S:596', 'S:598', 'S:613', 'S:588', 'S:566', 'S:654', 'S:701', 'S:786', 'S:759', 'S:705', 'S:793', 'S:780', 'S:760', 'S:606', 'S:680', 'S:623', 'S:648', 'S:752', 'S:552', 'S:688', 'S:657', 'S:674', 'S:790', 'S:732', 'S:599', 'S:562', 'S:741', 'S:610', 'S:646', 'S:768', 'S:587', 'S:788', 'S:611', 'S:643', 'S:723', 'S:559', 'S:653', 'S:766', 'S:561', 'S:749', 'S:782', 'S:642', 'S:628', 'S:563', 'S:649', 'S:718', 'S:625', 'S:696', 'S:767', 'S:762', 'S:736', 'S:579', 'S:730', 'S:620', 'S:569', 'S:683', 'S:577', 'S:699', 'S:556', 'S:597', 'S:576', 'S:737', 'S:692', 'S:719', 'S:662', 'S:776', 'S:756', 'S:639', 'S:586', 'S:714', 'S:664', 'S:694', 'S:693', 'S:726', 'S:758', 'S:691', 'S:585', 'S:629', 'S:715', 'S:734', 'S:584', 'S:789', 'S:564', 'S:659', 'S:735', 'S:578', 'S:644', 'S:739', 'S:574', 'S:727', 'S:773', 'S:593', 'S:676', 'S:746', 'S:608', 'S:697', 'S:728', 'S:581', 'S:636', 'S:729', 'S:770', 'S:744', 'S:663', 'S:575', 'S:582', 'S:650', 'S:589', 'S:633', 'S:665', 'S:565', 'S:658', 'S:631', 'S:624', 'S:794', 'S:677', 'S:690', 'S:617', 'S:594', 'S:757', 'S:669', 'S:720', 'S:551', 'S:571', 'S:710', 'S:763', 'S:595', 'S:724', 'S:711', 'S:661', 'S:689', 'S:743', 'S:748', 'S:707', 'S:753', 'S:698', 'S:640', 'S:731', 'S:573', 'S:635', 'S:550', 'S:765', 'S:572', 'S:733', 'S:722', 'S:568', 'S:602', 'S:601', 'S:621', 'S:626', 'S:671', 'S:630', 'S:764', 'S:607', 'S:754', 'S:641', 'S:700', 'S:627', 'S:685', 'S:592', 'S:616', 'S:667', 'S:708', 'S:712', 'S:553', 'S:675', 'S:622', 'S:615', 'S:679', 'S:717', 'S:740', 'S:771', 'S:647', 'S:567', 'S:612', 'S:637', 'S:591', 'S:709', 'S:609', 'S:605', 'S:555', 'S:785', 'S:558', 'S:747', 'S:687', 'S:554', 'S:716', 'S:682', 'S:634', 'S:614', 'S:557', 'S:774', 'S:704', 'S:645', 'S:702', 'S:618', 'S:695', 'S:666', 'S:713', 'S:750', 'S:632', 'S:603', 'S:619', 'S:652', 'S:656', 'S:673', 'S:681', 'S:725', 'S:738', 'S:742', 'S:745', 'S:751', 'S:775', 'S:783', 'S:787', 'S:792', 'S:795'])"
      ]
     },
     "execution_count": 38,
     "metadata": {},
     "output_type": "execute_result"
    }
   ],
   "source": [
    "ont2.term_2_gene.keys() # we can perform enrichment on this? # number is 0 based index in ont.genes; only genes \"directly connect to that term\""
   ]
  },
  {
   "cell_type": "code",
   "execution_count": 67,
   "metadata": {},
   "outputs": [],
   "source": [
    "term_direct_children = ont2.term_2_gene\n",
    "cluster_count_term = pd.DataFrame(index = term_direct_children.keys(), columns = pheno['phenotype cluster'].unique())\n",
    "for term in term_direct_children.keys(): # we can perform enrichment on this? # number is 0 based index in ont.genes; only genes \"directly connect to that term\"\n",
    "    cou = pheno.loc[term_direct_children[term]].groupby(by = 'phenotype cluster').count()\n",
    "    cluster_count_term.loc[term, cou.index]  = cou.transpose().values"
   ]
  },
  {
   "cell_type": "code",
   "execution_count": 75,
   "metadata": {},
   "outputs": [],
   "source": [
    "cluster_count_term = cluster_count_term.loc[cluster_count_term.sum(axis = 1)>0] # remove terms without gene as direct children"
   ]
  },
  {
   "cell_type": "code",
   "execution_count": 88,
   "metadata": {},
   "outputs": [
    {
     "data": {
      "image/png": "[encoded data removed]",
      "text/plain": [
       "<Figure size 720x720 with 4 Axes>"
      ]
     },
     "metadata": {
      "needs_background": "light"
     },
     "output_type": "display_data"
    }
   ],
   "source": [
    "import seaborn as sns; sns.set(color_codes=True)\n",
    "import numpy as np\n",
    "import matplotlib.pyplot as plt\n",
    "import matplotlib as mpl\n",
    "import numpy as np\n",
    "import math\n",
    "mpl.style.use(\"ggplot\")\n",
    "# plot inline\n",
    "%matplotlib inline\n",
    "g = sns.clustermap(cluster_count_term.fillna(0), standard_scale = 0)\n"
   ]
  },
  {
   "cell_type": "code",
   "execution_count": 86,
   "metadata": {},
   "outputs": [],
   "source": [
    "# make connection matrix\n",
    "connection = pd.DataFrame(ont2.connected(), index = ont2.genes + ont2.terms, columns = ont2.genes + ont2.terms)"
   ]
  },
  {
   "cell_type": "code",
   "execution_count": null,
   "metadata": {},
   "outputs": [],
   "source": []
  }
 ],
 "metadata": {
  "kernelspec": {
   "display_name": "Python 3",
   "language": "python",
   "name": "python3"
  },
  "language_info": {
   "codemirror_mode": {
    "name": "ipython",
    "version": 3
   },
   "file_extension": ".py",
   "mimetype": "text/x-python",
   "name": "python",
   "nbconvert_exporter": "python",
   "pygments_lexer": "ipython3",
   "version": "3.6.7"
  }
 },
 "nbformat": 4,
 "nbformat_minor": 2
}
