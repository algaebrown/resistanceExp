{
 "cells": [
  {
   "cell_type": "code",
   "execution_count": 12,
   "metadata": {},
   "outputs": [
    {
     "name": "stderr",
     "output_type": "stream",
     "text": [
      "/home/hermuba/miniconda3/envs/ddot/lib/python3.6/site-packages/ddot/Ontology.py:1606: FutureWarning: read_table is deprecated, use read_csv instead, passing sep='\\t'.\n",
      "  table = pd.read_table(table, comment='#', header=header)\n"
     ]
    }
   ],
   "source": [
    "from ddot import Ontology\n",
    "from ddot.Ontology import parse_obo\n",
    "import pandas as pd\n",
    "import matplotlib.pyplot as plt\n",
    "plt.style.use('seaborn-white')\n",
    "%matplotlib inline\n",
    "root_dir = '/home/hermuba/data0118/fig/'\n",
    "\n",
    "# our ontology\n",
    "ont2 = Ontology.from_table('/home/hermuba/data0118/network1122/candidate_ontologies')\n",
    "# align to aro\n",
    "align_aro = pd.read_csv('~/data0118/network1122/candidate_ontologies_term_anno.csv', header = 0, index_col = 0)\n",
    "align_aro.set_index('index', inplace = True)\n",
    "\n",
    "# load original gene annotation\n",
    "gold_anno = pd.read_pickle('/home/hermuba/data0118/goldstandard/ec_rmplasmid_node_anno_df')"
   ]
  },
  {
   "cell_type": "code",
   "execution_count": 19,
   "metadata": {},
   "outputs": [],
   "source": [
    "onto_root = '/home/hermuba/data0118/ontologies/'\n",
    "from ddot.Ontology import parse_obo\n",
    "parse_obo(onto_root+'go-basic.obo', output_file = onto_root+'go.ddot', id2name_file = onto_root+'go_id2name.ddot', id2namespace_file = onto_root+'go_id2namespace.ddot')\n",
    "\n",
    "# gene term mapping\n",
    "\n"
   ]
  },
  {
   "cell_type": "code",
   "execution_count": 39,
   "metadata": {},
   "outputs": [],
   "source": [
    "geneterm = []\n",
    "gt = gold_anno.loc[ont2.genes, 'GO']\n",
    "for g in gt.index:\n",
    "    if type(gt[g]) == set:\n",
    "        for goterm in list(gt[g]):\n",
    "            geneterm.append([goterm, g])\n",
    "geneterm = pd.DataFrame(geneterm, columns = ['go_term', 'gene'])"
   ]
  },
  {
   "cell_type": "code",
   "execution_count": 40,
   "metadata": {},
   "outputs": [],
   "source": [
    "go = Ontology.from_table(onto_root+'go.ddot', mapping = geneterm, mapping_parent = 'go_term', mapping_child = 'gene', propagate = None)"
   ]
  },
  {
   "cell_type": "code",
   "execution_count": 41,
   "metadata": {},
   "outputs": [
    {
     "data": {
      "text/plain": [
       "511 genes, 44702 terms, 1645 gene-term relations, 91525 term-term relations\n",
       "node_attributes: []\n",
       "edge_attributes: ['biological_process', 'is_a']"
      ]
     },
     "execution_count": 41,
     "metadata": {},
     "output_type": "execute_result"
    }
   ],
   "source": [
    "go"
   ]
  },
  {
   "cell_type": "code",
   "execution_count": 42,
   "metadata": {},
   "outputs": [
    {
     "name": "stdout",
     "output_type": "stream",
     "text": [
      "collapse command: /home/hermuba/miniconda3/envs/ddot/lib/python3.6/site-packages/ddot/alignOntology/collapseRedundantNodes /tmp/tmpnyl_c705\n"
     ]
    },
    {
     "name": "stderr",
     "output_type": "stream",
     "text": [
      "/home/hermuba/miniconda3/envs/ddot/lib/python3.6/site-packages/ddot/Ontology.py:713: FutureWarning: the 'labels' keyword is deprecated, use 'codes' instead\n",
      "  names=['Child', 'Parent'])\n"
     ]
    },
    {
     "name": "stdout",
     "output_type": "stream",
     "text": [
      "collapse command: /home/hermuba/miniconda3/envs/ddot/lib/python3.6/site-packages/ddot/alignOntology/collapseRedundantNodes /tmp/tmpju7y33qe\n",
      "Alignment command: /home/hermuba/miniconda3/envs/ddot/lib/python3.6/site-packages/ddot/alignOntology/calculateFDRs /tmp/tmplzyaet8g /tmp/tmpbhs2qsj8 0.05 criss_cross /tmp/tmpxmytvjpq 100 40 gene\n"
     ]
    },
    {
     "name": "stderr",
     "output_type": "stream",
     "text": [
      "/home/hermuba/miniconda3/envs/ddot/lib/python3.6/site-packages/ddot/Ontology.py:150: FutureWarning: read_table is deprecated, use read_csv instead, passing sep='\\t'.\n",
      "  header=None)\n"
     ]
    }
   ],
   "source": [
    "align_go = ont2.align(go)"
   ]
  },
  {
   "cell_type": "code",
   "execution_count": 44,
   "metadata": {},
   "outputs": [],
   "source": [
    "align_go.columns = [c+'_GO' for c in align_go.columns]\n"
   ]
  },
  {
   "cell_type": "markdown",
   "metadata": {},
   "source": [
    "gold_anno"
   ]
  },
  {
   "cell_type": "code",
   "execution_count": 54,
   "metadata": {},
   "outputs": [],
   "source": [
    "all_node = align_aro.merge(align_go, left_index = True, right_index = True).append(gold_anno.loc[ont2.genes])\n"
   ]
  },
  {
   "cell_type": "code",
   "execution_count": 58,
   "metadata": {},
   "outputs": [],
   "source": [
    "# ndex server cannot take sets\n",
    "all_node['domain'] = all_node['domain'].astype(str)\n",
    "all_node['pathway'] = all_node['pathway'].astype(str)\n",
    "all_node['GO'] = all_node['GO'].astype(str)\n",
    "ont2.update_node_attr(all_node)"
   ]
  },
  {
   "cell_type": "code",
   "execution_count": 59,
   "metadata": {},
   "outputs": [
    {
     "name": "stdout",
     "output_type": "stream",
     "text": [
      "http://public.ndexbio.org/v2/network/83637079-7f73-11ea-aaef-0ac135e8bacf\n"
     ]
    }
   ],
   "source": [
    "ndex_server = 'http://public.ndexbio.org'\n",
    "ndex_user, ndex_pass = 'b101102109', '5mY87$747l'\n",
    "url, _ = ont2.to_ndex(ndex_server=ndex_server, ndex_user=ndex_user, ndex_pass=ndex_pass,  layout=\"bubble-collect\")\n",
    "print(url)"
   ]
  },
  {
   "cell_type": "code",
   "execution_count": null,
   "metadata": {},
   "outputs": [],
   "source": []
  }
 ],
 "metadata": {
  "kernelspec": {
   "display_name": "ddot",
   "language": "python",
   "name": "ddot"
  },
  "language_info": {
   "codemirror_mode": {
    "name": "ipython",
    "version": 3
   },
   "file_extension": ".py",
   "mimetype": "text/x-python",
   "name": "python",
   "nbconvert_exporter": "python",
   "pygments_lexer": "ipython3",
   "version": "3.6.7"
  }
 },
 "nbformat": 4,
 "nbformat_minor": 4
}
