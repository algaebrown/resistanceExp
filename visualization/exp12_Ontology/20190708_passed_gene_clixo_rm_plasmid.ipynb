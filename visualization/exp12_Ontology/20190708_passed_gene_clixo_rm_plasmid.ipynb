{
 "cells": [
  {
   "cell_type": "code",
   "execution_count": 1,
   "metadata": {},
   "outputs": [],
   "source": [
    "import pandas as pd\n",
    "import networkx as nx\n",
    "data = pd.read_csv('/home/hermuba/data0118/network1122/passed_rm_plasmid_edgelist', names = ['gene_one', 'gene_two', 'combined_lls'])"
   ]
  },
  {
   "cell_type": "code",
   "execution_count": 2,
   "metadata": {},
   "outputs": [
    {
     "data": {
      "text/html": [
       "<div>\n",
       "<style scoped>\n",
       "    .dataframe tbody tr th:only-of-type {\n",
       "        vertical-align: middle;\n",
       "    }\n",
       "\n",
       "    .dataframe tbody tr th {\n",
       "        vertical-align: top;\n",
       "    }\n",
       "\n",
       "    .dataframe thead th {\n",
       "        text-align: right;\n",
       "    }\n",
       "</style>\n",
       "<table border=\"1\" class=\"dataframe\">\n",
       "  <thead>\n",
       "    <tr style=\"text-align: right;\">\n",
       "      <th></th>\n",
       "      <th>gene_one</th>\n",
       "      <th>gene_two</th>\n",
       "      <th>combined_lls</th>\n",
       "    </tr>\n",
       "  </thead>\n",
       "  <tbody>\n",
       "    <tr>\n",
       "      <th>0</th>\n",
       "      <td>JAPE01000013_165|1400157.3</td>\n",
       "      <td>562.23210.con.0014_110|562.23210</td>\n",
       "      <td>12.216864</td>\n",
       "    </tr>\n",
       "    <tr>\n",
       "      <th>1</th>\n",
       "      <td>JAPE01000013_165|1400157.3</td>\n",
       "      <td>JMUY01000001_1369|1438670.3</td>\n",
       "      <td>305.530256</td>\n",
       "    </tr>\n",
       "    <tr>\n",
       "      <th>2</th>\n",
       "      <td>JAPE01000013_165|1400157.3</td>\n",
       "      <td>JMUY01000002_298|1438670.3</td>\n",
       "      <td>12.216864</td>\n",
       "    </tr>\n",
       "    <tr>\n",
       "      <th>3</th>\n",
       "      <td>JAPE01000013_165|1400157.3</td>\n",
       "      <td>JMUY01000002_6|1438670.3</td>\n",
       "      <td>22.924662</td>\n",
       "    </tr>\n",
       "    <tr>\n",
       "      <th>4</th>\n",
       "      <td>JAPE01000013_165|1400157.3</td>\n",
       "      <td>JMUY01000004_243|1438670.3</td>\n",
       "      <td>8.913893</td>\n",
       "    </tr>\n",
       "  </tbody>\n",
       "</table>\n",
       "</div>"
      ],
      "text/plain": [
       "                     gene_one                          gene_two  combined_lls\n",
       "0  JAPE01000013_165|1400157.3  562.23210.con.0014_110|562.23210     12.216864\n",
       "1  JAPE01000013_165|1400157.3       JMUY01000001_1369|1438670.3    305.530256\n",
       "2  JAPE01000013_165|1400157.3        JMUY01000002_298|1438670.3     12.216864\n",
       "3  JAPE01000013_165|1400157.3          JMUY01000002_6|1438670.3     22.924662\n",
       "4  JAPE01000013_165|1400157.3        JMUY01000004_243|1438670.3      8.913893"
      ]
     },
     "execution_count": 2,
     "metadata": {},
     "output_type": "execute_result"
    }
   ],
   "source": [
    "data.head()"
   ]
  },
  {
   "cell_type": "code",
   "execution_count": 3,
   "metadata": {},
   "outputs": [
    {
     "name": "stderr",
     "output_type": "stream",
     "text": [
      "/home/hermuba/miniconda3/envs/ddot/lib/python3.6/site-packages/ddot/Ontology.py:1606: FutureWarning: read_table is deprecated, use read_csv instead, passing sep='\\t'.\n",
      "  table = pd.read_table(table, comment='#', header=header)\n"
     ]
    }
   ],
   "source": [
    "from ddot import Ontology\n",
    "import ddot\n",
    "ont2 = Ontology.run_clixo(data,  alpha = 0.05 , beta = 0.5,square=False, output = '/home/hermuba/data0118/network1122/passed_rm_plasmid_clixo')"
   ]
  },
  {
   "cell_type": "code",
   "execution_count": 8,
   "metadata": {},
   "outputs": [
    {
     "name": "stdout",
     "output_type": "stream",
     "text": [
      "550 genes, 246 terms, 906 gene-term relations, 334 term-term relations\n",
      "node_attributes: ['Parent weight']\n",
      "edge_attributes: ['CLIXO_score']\n"
     ]
    }
   ],
   "source": [
    "print(ont2)"
   ]
  },
  {
   "cell_type": "code",
   "execution_count": 3,
   "metadata": {},
   "outputs": [
    {
     "name": "stderr",
     "output_type": "stream",
     "text": [
      "/home/hermuba/miniconda3/envs/ddot/lib/python3.6/site-packages/ddot/Ontology.py:713: FutureWarning: the 'labels' keyword is deprecated, use 'codes' instead\n",
      "  names=['Child', 'Parent'])\n"
     ]
    },
    {
     "name": "stdout",
     "output_type": "stream",
     "text": [
      "\n",
      "http://public.ndexbio.org/v2/network/34b21d84-a793-11e9-8bb4-0ac135e8bacf\n"
     ]
    }
   ],
   "source": [
    "ndex_server = 'http://public.ndexbio.org'\n",
    "ndex_user, ndex_pass = 'b101102109', '5mY87$747l'\n",
    "url, _ = ont2.to_ndex(ndex_server=ndex_server, ndex_user=ndex_user, ndex_pass=ndex_pass,  layout=\"bubble\")\n",
    "print(url)"
   ]
  },
  {
   "cell_type": "code",
   "execution_count": 6,
   "metadata": {},
   "outputs": [],
   "source": [
    "import pandas as pd\n",
    "gold_anno = pd.read_pickle('/home/hermuba/data0118/goldstandard/ec_rmplasmid_node_anno_df')"
   ]
  },
  {
   "cell_type": "code",
   "execution_count": 11,
   "metadata": {},
   "outputs": [],
   "source": [
    "new_res_genes = gold_anno.loc[ont2.genes] # most of them do not have GO term"
   ]
  },
  {
   "cell_type": "code",
   "execution_count": 13,
   "metadata": {},
   "outputs": [
    {
     "data": {
      "text/plain": [
       "cog_ID             500\n",
       "cog_category       500\n",
       "cluster            550\n",
       "count              550\n",
       "core               550\n",
       "loose_best_ARO     238\n",
       "loose_ARO          238\n",
       "strict_best_ARO     96\n",
       "strict_ARO          96\n",
       "is_card            550\n",
       "resfam             391\n",
       "aclame_title       429\n",
       "is_aclame          550\n",
       "nr                 550\n",
       "hypo_nr             31\n",
       "drug_target         20\n",
       "is_drug_target     550\n",
       "GO                 511\n",
       "pathway             87\n",
       "domain             548\n",
       "dtype: int64"
      ]
     },
     "execution_count": 13,
     "metadata": {},
     "output_type": "execute_result"
    }
   ],
   "source": [
    "new_res_genes.count() # total 550 genes, 500 has COG, 96 are card genes, 238 are loose card, 391 are resfam, 31 are hypothetical, 20 are drug target"
   ]
  }
 ],
 "metadata": {
  "kernelspec": {
   "display_name": "Python 3",
   "language": "python",
   "name": "python3"
  },
  "language_info": {
   "codemirror_mode": {
    "name": "ipython",
    "version": 3
   },
   "file_extension": ".py",
   "mimetype": "text/x-python",
   "name": "python",
   "nbconvert_exporter": "python",
   "pygments_lexer": "ipython3",
   "version": "3.6.7"
  }
 },
 "nbformat": 4,
 "nbformat_minor": 2
}
