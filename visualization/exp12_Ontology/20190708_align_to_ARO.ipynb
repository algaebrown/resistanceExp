{
 "cells": [
  {
   "cell_type": "markdown",
   "metadata": {},
   "source": [
    "# Parse Antibiotic Resistance Ontology (ARO)"
   ]
  },
  {
   "cell_type": "code",
   "execution_count": 7,
   "metadata": {},
   "outputs": [
    {
     "name": "stderr",
     "output_type": "stream",
     "text": [
      "/home/hermuba/resistanceExp/visualization/exp12_Ontology/obo_aro.py:116: FutureWarning: The signature of `Series.to_csv` was aligned to that of `DataFrame.to_csv`, and argument 'header' will change its default value from False to True: please pass an explicit value to suppress this warning.\n",
      "  pd.Series(id2name).to_csv(id2name_file, sep='\\t')\n",
      "/home/hermuba/resistanceExp/visualization/exp12_Ontology/obo_aro.py:117: FutureWarning: The signature of `Series.to_csv` was aligned to that of `DataFrame.to_csv`, and argument 'header' will change its default value from False to True: please pass an explicit value to suppress this warning.\n",
      "  pd.Series(id2namespace).to_csv(id2namespace_file, sep='\\t')\n",
      "/home/hermuba/resistanceExp/visualization/exp12_Ontology/obo_aro.py:118: FutureWarning: The signature of `Series.to_csv` was aligned to that of `DataFrame.to_csv`, and argument 'header' will change its default value from False to True: please pass an explicit value to suppress this warning.\n",
      "  pd.Series(dict([(a, c) for a, b in alt_id.items() for c in b])).to_csv(alt_id_file, sep='\\t')\n"
     ]
    }
   ],
   "source": [
    "from ddot import Ontology\n",
    "import ddot\n",
    "from obo_aro import parse_obo\n",
    "import pandas as pd\n",
    "import sys\n",
    "sys.path.append('.')\n",
    "%matplotlib inline\n",
    "\n",
    "# our ontology\n",
    "ont2 = Ontology.from_table('/home/hermuba/data0118/network1122/candidate_ontologies')\n",
    "\n",
    "# parse antibiotic resistance ontology (ARO)\n",
    "parse_obo('/home/hermuba/data0118/ontologies/aro.obo', '/home/hermuba/data0118/ontologies/aro_output')"
   ]
  },
  {
   "cell_type": "markdown",
   "metadata": {},
   "source": [
    "## Create gene-term mapping"
   ]
  },
  {
   "cell_type": "code",
   "execution_count": 9,
   "metadata": {},
   "outputs": [],
   "source": [
    "gold_anno = pd.read_pickle('/home/hermuba/data0118/goldstandard/ec_rmplasmid_node_anno_df')\n",
    "new_res_genes = gold_anno.loc[ont2.genes] "
   ]
  },
  {
   "cell_type": "code",
   "execution_count": 10,
   "metadata": {},
   "outputs": [
    {
     "data": {
      "text/plain": [
       "96"
      ]
     },
     "execution_count": 10,
     "metadata": {},
     "output_type": "execute_result"
    }
   ],
   "source": [
    "# combine loose and strict ARO into Gene-Term Table\n",
    "new_res_genes['strict_ARO'].count()"
   ]
  },
  {
   "cell_type": "code",
   "execution_count": 11,
   "metadata": {},
   "outputs": [
    {
     "data": {
      "text/plain": [
       "238"
      ]
     },
     "execution_count": 11,
     "metadata": {},
     "output_type": "execute_result"
    }
   ],
   "source": [
    "new_res_genes['loose_ARO'].count()"
   ]
  },
  {
   "cell_type": "code",
   "execution_count": 8,
   "metadata": {},
   "outputs": [],
   "source": [
    "def gene_term_table(new_res_genes, term):\n",
    "    term_table = pd.DataFrame()\n",
    "    term_index = 0\n",
    "    \n",
    "        "
   ]
  },
  {
   "cell_type": "code",
   "execution_count": 12,
   "metadata": {},
   "outputs": [],
   "source": [
    "aro = new_res_genes['strict_ARO'].dropna().append(new_res_genes['loose_ARO'].dropna()) # when has strict card, won't have loose card\n",
    "# generate gene_term list: one gene-term per row\n",
    "aro_list = []\n",
    "for gene in aro.index:\n",
    "    aro_many = aro[gene].split(', ')\n",
    "    for aro_term in aro_many:\n",
    "        aro_list.append((gene, aro_term))"
   ]
  },
  {
   "cell_type": "code",
   "execution_count": 13,
   "metadata": {},
   "outputs": [
    {
     "data": {
      "text/html": [
       "<div>\n",
       "<style scoped>\n",
       "    .dataframe tbody tr th:only-of-type {\n",
       "        vertical-align: middle;\n",
       "    }\n",
       "\n",
       "    .dataframe tbody tr th {\n",
       "        vertical-align: top;\n",
       "    }\n",
       "\n",
       "    .dataframe thead th {\n",
       "        text-align: right;\n",
       "    }\n",
       "</style>\n",
       "<table border=\"1\" class=\"dataframe\">\n",
       "  <thead>\n",
       "    <tr style=\"text-align: right;\">\n",
       "      <th></th>\n",
       "      <th>gene</th>\n",
       "      <th>aro_term</th>\n",
       "    </tr>\n",
       "  </thead>\n",
       "  <tbody>\n",
       "    <tr>\n",
       "      <th>0</th>\n",
       "      <td>562.10576.con.0029_46|562.10576</td>\n",
       "      <td>ARO:3003689</td>\n",
       "    </tr>\n",
       "    <tr>\n",
       "      <th>1</th>\n",
       "      <td>562.10576.con.0045_7|562.10576</td>\n",
       "      <td>ARO:3002655</td>\n",
       "    </tr>\n",
       "    <tr>\n",
       "      <th>2</th>\n",
       "      <td>562.10576.con.0045_9|562.10576</td>\n",
       "      <td>ARO:3002539</td>\n",
       "    </tr>\n",
       "    <tr>\n",
       "      <th>3</th>\n",
       "      <td>562.10576.con.0047_4|562.10576</td>\n",
       "      <td>ARO:3002705</td>\n",
       "    </tr>\n",
       "    <tr>\n",
       "      <th>4</th>\n",
       "      <td>562.22437.con.0041_3|562.22437</td>\n",
       "      <td>ARO:3002858</td>\n",
       "    </tr>\n",
       "  </tbody>\n",
       "</table>\n",
       "</div>"
      ],
      "text/plain": [
       "                              gene     aro_term\n",
       "0  562.10576.con.0029_46|562.10576  ARO:3003689\n",
       "1   562.10576.con.0045_7|562.10576  ARO:3002655\n",
       "2   562.10576.con.0045_9|562.10576  ARO:3002539\n",
       "3   562.10576.con.0047_4|562.10576  ARO:3002705\n",
       "4   562.22437.con.0041_3|562.22437  ARO:3002858"
      ]
     },
     "execution_count": 13,
     "metadata": {},
     "output_type": "execute_result"
    }
   ],
   "source": [
    "gene_term_mapping = pd.DataFrame(aro_list, columns = ['gene', 'aro_term'])\n",
    "gene_term_mapping.head()"
   ]
  },
  {
   "cell_type": "markdown",
   "metadata": {},
   "source": [
    "# Construct ARO in ddot"
   ]
  },
  {
   "cell_type": "code",
   "execution_count": 14,
   "metadata": {},
   "outputs": [
    {
     "name": "stderr",
     "output_type": "stream",
     "text": [
      "/home/hermuba/miniconda3/envs/ddot/lib/python3.6/site-packages/ddot/Ontology.py:1606: FutureWarning: read_table is deprecated, use read_csv instead, passing sep='\\t'.\n",
      "  table = pd.read_table(table, comment='#', header=header)\n",
      "/home/hermuba/miniconda3/envs/ddot/lib/python3.6/site-packages/ddot/Ontology.py:1630: FutureWarning: read_table is deprecated, use read_csv instead, passing sep='\\t'.\n",
      "  mapping = pd.read_table(mapping, comment='#', header=header)\n"
     ]
    },
    {
     "name": "stdout",
     "output_type": "stream",
     "text": [
      "WARNING: Dropping 552 duplicate gene-term connections\n"
     ]
    }
   ],
   "source": [
    "aro_ontology = Ontology.from_table('/home/hermuba/data0118/ontologies/aro_output', mapping = gene_term_mapping, mapping_parent = 'aro_term', mapping_child = 'gene')"
   ]
  },
  {
   "cell_type": "code",
   "execution_count": 15,
   "metadata": {},
   "outputs": [
    {
     "data": {
      "text/plain": [
       "334 genes, 4096 terms, 9539 gene-term relations, 7810 term-term relations\n",
       "node_attributes: []\n",
       "edge_attributes: ['antibiotic_resistance', 'is_a']"
      ]
     },
     "execution_count": 15,
     "metadata": {},
     "output_type": "execute_result"
    }
   ],
   "source": [
    "aro_ontology"
   ]
  },
  {
   "cell_type": "markdown",
   "metadata": {},
   "source": [
    "# Align our ontology to ARO"
   ]
  },
  {
   "cell_type": "code",
   "execution_count": 16,
   "metadata": {},
   "outputs": [
    {
     "name": "stdout",
     "output_type": "stream",
     "text": [
      "collapse command: /home/hermuba/miniconda3/envs/ddot/lib/python3.6/site-packages/ddot/alignOntology/collapseRedundantNodes /tmp/tmpfrx9sgb9\n"
     ]
    },
    {
     "name": "stderr",
     "output_type": "stream",
     "text": [
      "/home/hermuba/miniconda3/envs/ddot/lib/python3.6/site-packages/ddot/Ontology.py:713: FutureWarning: the 'labels' keyword is deprecated, use 'codes' instead\n",
      "  names=['Child', 'Parent'])\n"
     ]
    },
    {
     "name": "stdout",
     "output_type": "stream",
     "text": [
      "collapse command: /home/hermuba/miniconda3/envs/ddot/lib/python3.6/site-packages/ddot/alignOntology/collapseRedundantNodes /tmp/tmp9xdr9bem\n",
      "Alignment command: /home/hermuba/miniconda3/envs/ddot/lib/python3.6/site-packages/ddot/alignOntology/calculateFDRs /tmp/tmpnbnzapt_ /tmp/tmp2jc0n3jy 0.05 criss_cross /tmp/tmpnun71ac6 100 40 gene\n"
     ]
    },
    {
     "name": "stderr",
     "output_type": "stream",
     "text": [
      "/home/hermuba/miniconda3/envs/ddot/lib/python3.6/site-packages/ddot/Ontology.py:150: FutureWarning: read_table is deprecated, use read_csv instead, passing sep='\\t'.\n",
      "  header=None)\n"
     ]
    }
   ],
   "source": [
    "# align CliXO to ARO\n",
    "align_aro = ont2.align(aro_ontology)"
   ]
  },
  {
   "cell_type": "code",
   "execution_count": 17,
   "metadata": {},
   "outputs": [
    {
     "data": {
      "text/html": [
       "<div>\n",
       "<style scoped>\n",
       "    .dataframe tbody tr th:only-of-type {\n",
       "        vertical-align: middle;\n",
       "    }\n",
       "\n",
       "    .dataframe tbody tr th {\n",
       "        vertical-align: top;\n",
       "    }\n",
       "\n",
       "    .dataframe thead th {\n",
       "        text-align: right;\n",
       "    }\n",
       "</style>\n",
       "<table border=\"1\" class=\"dataframe\">\n",
       "  <thead>\n",
       "    <tr style=\"text-align: right;\">\n",
       "      <th></th>\n",
       "      <th>Term</th>\n",
       "      <th>Similarity</th>\n",
       "      <th>FDR</th>\n",
       "    </tr>\n",
       "    <tr>\n",
       "      <th>Term</th>\n",
       "      <th></th>\n",
       "      <th></th>\n",
       "      <th></th>\n",
       "    </tr>\n",
       "  </thead>\n",
       "  <tbody>\n",
       "    <tr>\n",
       "      <th>S:582</th>\n",
       "      <td>ARO:3002804</td>\n",
       "      <td>0.905955</td>\n",
       "      <td>0.0</td>\n",
       "    </tr>\n",
       "    <tr>\n",
       "      <th>S:590</th>\n",
       "      <td>ARO:3002594</td>\n",
       "      <td>0.884570</td>\n",
       "      <td>0.0</td>\n",
       "    </tr>\n",
       "    <tr>\n",
       "      <th>S:589</th>\n",
       "      <td>ARO:3002660</td>\n",
       "      <td>0.883425</td>\n",
       "      <td>0.0</td>\n",
       "    </tr>\n",
       "    <tr>\n",
       "      <th>S:608</th>\n",
       "      <td>ARO:3000676</td>\n",
       "      <td>0.879019</td>\n",
       "      <td>0.0</td>\n",
       "    </tr>\n",
       "    <tr>\n",
       "      <th>S:630</th>\n",
       "      <td>ARO:3004126</td>\n",
       "      <td>0.878897</td>\n",
       "      <td>0.0</td>\n",
       "    </tr>\n",
       "  </tbody>\n",
       "</table>\n",
       "</div>"
      ],
      "text/plain": [
       "              Term  Similarity  FDR\n",
       "Term                               \n",
       "S:582  ARO:3002804    0.905955  0.0\n",
       "S:590  ARO:3002594    0.884570  0.0\n",
       "S:589  ARO:3002660    0.883425  0.0\n",
       "S:608  ARO:3000676    0.879019  0.0\n",
       "S:630  ARO:3004126    0.878897  0.0"
      ]
     },
     "execution_count": 17,
     "metadata": {},
     "output_type": "execute_result"
    }
   ],
   "source": [
    "align_aro.head()"
   ]
  },
  {
   "cell_type": "code",
   "execution_count": 18,
   "metadata": {},
   "outputs": [
    {
     "data": {
      "text/plain": [
       "(180, 3)"
      ]
     },
     "execution_count": 18,
     "metadata": {},
     "output_type": "execute_result"
    }
   ],
   "source": [
    "align_aro.shape"
   ]
  },
  {
   "cell_type": "code",
   "execution_count": 19,
   "metadata": {},
   "outputs": [],
   "source": [
    "align_aro.index.name = None"
   ]
  },
  {
   "cell_type": "code",
   "execution_count": 20,
   "metadata": {},
   "outputs": [],
   "source": [
    "align_aro.reset_index(inplace = True)"
   ]
  },
  {
   "cell_type": "markdown",
   "metadata": {},
   "source": [
    "# Statistics of this alignment"
   ]
  },
  {
   "cell_type": "code",
   "execution_count": 21,
   "metadata": {},
   "outputs": [
    {
     "data": {
      "text/plain": [
       "<matplotlib.axes._subplots.AxesSubplot at 0x7f1cf94f8f28>"
      ]
     },
     "execution_count": 21,
     "metadata": {},
     "output_type": "execute_result"
    },
    {
     "data": {
      "image/png": "[encoded data removed]",
      "text/plain": [
       "<Figure size 432x288 with 1 Axes>"
      ]
     },
     "metadata": {
      "needs_background": "light"
     },
     "output_type": "display_data"
    }
   ],
   "source": [
    "align_aro['Similarity'].plot.hist(bins = 20) # most are with low similarity"
   ]
  },
  {
   "cell_type": "code",
   "execution_count": 22,
   "metadata": {},
   "outputs": [
    {
     "data": {
      "text/plain": [
       "0.0"
      ]
     },
     "execution_count": 22,
     "metadata": {},
     "output_type": "execute_result"
    }
   ],
   "source": [
    "align_aro['FDR'].max() #weird"
   ]
  },
  {
   "cell_type": "markdown",
   "metadata": {},
   "source": [
    "# Annotate those Terms with ARO's annotation"
   ]
  },
  {
   "cell_type": "code",
   "execution_count": 23,
   "metadata": {},
   "outputs": [],
   "source": [
    "aro_name = pd.read_csv('~/data0118/ontologies/aro.tsv', header = 0, sep = '\\t')"
   ]
  },
  {
   "cell_type": "code",
   "execution_count": 24,
   "metadata": {},
   "outputs": [
    {
     "data": {
      "text/html": [
       "<div>\n",
       "<style scoped>\n",
       "    .dataframe tbody tr th:only-of-type {\n",
       "        vertical-align: middle;\n",
       "    }\n",
       "\n",
       "    .dataframe tbody tr th {\n",
       "        vertical-align: top;\n",
       "    }\n",
       "\n",
       "    .dataframe thead th {\n",
       "        text-align: right;\n",
       "    }\n",
       "</style>\n",
       "<table border=\"1\" class=\"dataframe\">\n",
       "  <thead>\n",
       "    <tr style=\"text-align: right;\">\n",
       "      <th></th>\n",
       "      <th>Accession</th>\n",
       "      <th>Name</th>\n",
       "      <th>Description</th>\n",
       "    </tr>\n",
       "  </thead>\n",
       "  <tbody>\n",
       "    <tr>\n",
       "      <th>0</th>\n",
       "      <td>ARO:0000000</td>\n",
       "      <td>macrolide antibiotic</td>\n",
       "      <td>Macrolides are a group of drugs (typically ant...</td>\n",
       "    </tr>\n",
       "    <tr>\n",
       "      <th>1</th>\n",
       "      <td>ARO:0000001</td>\n",
       "      <td>fluoroquinolone antibiotic</td>\n",
       "      <td>The fluoroquinolones are a family of synthetic...</td>\n",
       "    </tr>\n",
       "    <tr>\n",
       "      <th>2</th>\n",
       "      <td>ARO:0000002</td>\n",
       "      <td>tetracycline-resistant ribosomal protection pr...</td>\n",
       "      <td>A family of proteins known to bind to the 30S ...</td>\n",
       "    </tr>\n",
       "    <tr>\n",
       "      <th>3</th>\n",
       "      <td>ARO:0000003</td>\n",
       "      <td>astromicin</td>\n",
       "      <td>Astromicin is an aminoglycoside antibiotic use...</td>\n",
       "    </tr>\n",
       "    <tr>\n",
       "      <th>4</th>\n",
       "      <td>ARO:0000004</td>\n",
       "      <td>monobactam</td>\n",
       "      <td>Monobactams are a class of beta-lactam antibio...</td>\n",
       "    </tr>\n",
       "  </tbody>\n",
       "</table>\n",
       "</div>"
      ],
      "text/plain": [
       "     Accession                                               Name  \\\n",
       "0  ARO:0000000                               macrolide antibiotic   \n",
       "1  ARO:0000001                         fluoroquinolone antibiotic   \n",
       "2  ARO:0000002  tetracycline-resistant ribosomal protection pr...   \n",
       "3  ARO:0000003                                         astromicin   \n",
       "4  ARO:0000004                                         monobactam   \n",
       "\n",
       "                                         Description  \n",
       "0  Macrolides are a group of drugs (typically ant...  \n",
       "1  The fluoroquinolones are a family of synthetic...  \n",
       "2  A family of proteins known to bind to the 30S ...  \n",
       "3  Astromicin is an aminoglycoside antibiotic use...  \n",
       "4  Monobactams are a class of beta-lactam antibio...  "
      ]
     },
     "execution_count": 24,
     "metadata": {},
     "output_type": "execute_result"
    }
   ],
   "source": [
    "aro_name.head()"
   ]
  },
  {
   "cell_type": "code",
   "execution_count": 25,
   "metadata": {},
   "outputs": [],
   "source": [
    "align_aro = align_aro.merge(aro_name, left_on = 'Term', right_on = 'Accession', how = 'inner')"
   ]
  },
  {
   "cell_type": "markdown",
   "metadata": {},
   "source": [
    "# use the aligned terms to annotate out ontology"
   ]
  },
  {
   "cell_type": "code",
   "execution_count": 26,
   "metadata": {},
   "outputs": [],
   "source": [
    "align_aro.to_csv('~/data0118/network1122/candidate_ontologies_term_anno.csv')"
   ]
  },
  {
   "cell_type": "markdown",
   "metadata": {},
   "source": [
    "# Show case some ontology"
   ]
  },
  {
   "cell_type": "code",
   "execution_count": 27,
   "metadata": {},
   "outputs": [
    {
     "data": {
      "text/html": [
       "<div>\n",
       "<style scoped>\n",
       "    .dataframe tbody tr th:only-of-type {\n",
       "        vertical-align: middle;\n",
       "    }\n",
       "\n",
       "    .dataframe tbody tr th {\n",
       "        vertical-align: top;\n",
       "    }\n",
       "\n",
       "    .dataframe thead th {\n",
       "        text-align: right;\n",
       "    }\n",
       "</style>\n",
       "<table border=\"1\" class=\"dataframe\">\n",
       "  <thead>\n",
       "    <tr style=\"text-align: right;\">\n",
       "      <th></th>\n",
       "      <th>Term</th>\n",
       "      <th>Similarity</th>\n",
       "      <th>FDR</th>\n",
       "      <th>Accession</th>\n",
       "      <th>Name</th>\n",
       "      <th>Description</th>\n",
       "    </tr>\n",
       "    <tr>\n",
       "      <th>index</th>\n",
       "      <th></th>\n",
       "      <th></th>\n",
       "      <th></th>\n",
       "      <th></th>\n",
       "      <th></th>\n",
       "      <th></th>\n",
       "    </tr>\n",
       "  </thead>\n",
       "  <tbody>\n",
       "    <tr>\n",
       "      <th>S:582</th>\n",
       "      <td>ARO:3002804</td>\n",
       "      <td>0.905955</td>\n",
       "      <td>0.0</td>\n",
       "      <td>ARO:3002804</td>\n",
       "      <td>FosA2</td>\n",
       "      <td>An enzyme that confers resistance to fosfomyci...</td>\n",
       "    </tr>\n",
       "    <tr>\n",
       "      <th>S:590</th>\n",
       "      <td>ARO:3002594</td>\n",
       "      <td>0.884570</td>\n",
       "      <td>0.0</td>\n",
       "      <td>ARO:3002594</td>\n",
       "      <td>AAC(6')-IIa</td>\n",
       "      <td>AAC(6')-IIa is an aminoglycoside acetyltransfe...</td>\n",
       "    </tr>\n",
       "    <tr>\n",
       "      <th>S:589</th>\n",
       "      <td>ARO:3002660</td>\n",
       "      <td>0.883425</td>\n",
       "      <td>0.0</td>\n",
       "      <td>ARO:3002660</td>\n",
       "      <td>APH(6)-Id</td>\n",
       "      <td>APH(6)-Id is an aminoglycoside phosphotransfer...</td>\n",
       "    </tr>\n",
       "    <tr>\n",
       "      <th>S:608</th>\n",
       "      <td>ARO:3000676</td>\n",
       "      <td>0.879019</td>\n",
       "      <td>0.0</td>\n",
       "      <td>ARO:3000676</td>\n",
       "      <td>H-NS</td>\n",
       "      <td>H-NS is a histone-like protein involved in glo...</td>\n",
       "    </tr>\n",
       "    <tr>\n",
       "      <th>S:630</th>\n",
       "      <td>ARO:3004126</td>\n",
       "      <td>0.878897</td>\n",
       "      <td>0.0</td>\n",
       "      <td>ARO:3004126</td>\n",
       "      <td>Escherichia coli LamB</td>\n",
       "      <td>LamB is a negative regulator for antibiotic re...</td>\n",
       "    </tr>\n",
       "  </tbody>\n",
       "</table>\n",
       "</div>"
      ],
      "text/plain": [
       "              Term  Similarity  FDR    Accession                   Name  \\\n",
       "index                                                                     \n",
       "S:582  ARO:3002804    0.905955  0.0  ARO:3002804                  FosA2   \n",
       "S:590  ARO:3002594    0.884570  0.0  ARO:3002594            AAC(6')-IIa   \n",
       "S:589  ARO:3002660    0.883425  0.0  ARO:3002660              APH(6)-Id   \n",
       "S:608  ARO:3000676    0.879019  0.0  ARO:3000676                   H-NS   \n",
       "S:630  ARO:3004126    0.878897  0.0  ARO:3004126  Escherichia coli LamB   \n",
       "\n",
       "                                             Description  \n",
       "index                                                     \n",
       "S:582  An enzyme that confers resistance to fosfomyci...  \n",
       "S:590  AAC(6')-IIa is an aminoglycoside acetyltransfe...  \n",
       "S:589  APH(6)-Id is an aminoglycoside phosphotransfer...  \n",
       "S:608  H-NS is a histone-like protein involved in glo...  \n",
       "S:630  LamB is a negative regulator for antibiotic re...  "
      ]
     },
     "execution_count": 27,
     "metadata": {},
     "output_type": "execute_result"
    }
   ],
   "source": [
    "align_aro.set_index('index', inplace = True)\n",
    "align_aro.head()"
   ]
  },
  {
   "cell_type": "code",
   "execution_count": 26,
   "metadata": {},
   "outputs": [],
   "source": []
  },
  {
   "cell_type": "markdown",
   "metadata": {},
   "source": [
    "# Create some domain statistics for this branch"
   ]
  },
  {
   "cell_type": "markdown",
   "metadata": {},
   "source": [
    "# resfam"
   ]
  },
  {
   "cell_type": "code",
   "execution_count": 37,
   "metadata": {},
   "outputs": [],
   "source": []
  },
  {
   "cell_type": "code",
   "execution_count": 38,
   "metadata": {},
   "outputs": [],
   "source": [
    "resfam_metadata = resfam_metadata.sort_values(by = 'count', ascending = False)"
   ]
  },
  {
   "cell_type": "code",
   "execution_count": 39,
   "metadata": {},
   "outputs": [],
   "source": [
    "resfam_metadata.to_csv(root_dir + 's787_resfam.csv')"
   ]
  }
 ],
 "metadata": {
  "kernelspec": {
   "display_name": "ddot",
   "language": "python",
   "name": "ddot"
  },
  "language_info": {
   "codemirror_mode": {
    "name": "ipython",
    "version": 3
   },
   "file_extension": ".py",
   "mimetype": "text/x-python",
   "name": "python",
   "nbconvert_exporter": "python",
   "pygments_lexer": "ipython3",
   "version": "3.6.7"
  }
 },
 "nbformat": 4,
 "nbformat_minor": 4
}
