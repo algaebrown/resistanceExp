{
 "cells": [
  {
   "cell_type": "markdown",
   "metadata": {},
   "source": [
    "https://academic.oup.com/bioinformatics/article/32/18/2824/1744011"
   ]
  },
  {
   "cell_type": "code",
   "execution_count": 1,
   "metadata": {},
   "outputs": [],
   "source": [
    "import pandas as pd\n",
    "df = pd.read_pickle('/home/hermuba/data0118/goldstandard/node_anno_df')"
   ]
  },
  {
   "cell_type": "code",
   "execution_count": 2,
   "metadata": {},
   "outputs": [
    {
     "data": {
      "text/html": [
       "<div>\n",
       "<style scoped>\n",
       "    .dataframe tbody tr th:only-of-type {\n",
       "        vertical-align: middle;\n",
       "    }\n",
       "\n",
       "    .dataframe tbody tr th {\n",
       "        vertical-align: top;\n",
       "    }\n",
       "\n",
       "    .dataframe thead th {\n",
       "        text-align: right;\n",
       "    }\n",
       "</style>\n",
       "<table border=\"1\" class=\"dataframe\">\n",
       "  <thead>\n",
       "    <tr style=\"text-align: right;\">\n",
       "      <th></th>\n",
       "      <th>pathway</th>\n",
       "      <th>GO</th>\n",
       "      <th>nr</th>\n",
       "      <th>cluster</th>\n",
       "      <th>card</th>\n",
       "      <th>domain</th>\n",
       "      <th>hypo_nr</th>\n",
       "    </tr>\n",
       "    <tr>\n",
       "      <th>representing_gene</th>\n",
       "      <th></th>\n",
       "      <th></th>\n",
       "      <th></th>\n",
       "      <th></th>\n",
       "      <th></th>\n",
       "      <th></th>\n",
       "      <th></th>\n",
       "    </tr>\n",
       "  </thead>\n",
       "  <tbody>\n",
       "    <tr>\n",
       "      <th>562.23904.con.0022_83|562.23904</th>\n",
       "      <td>NaN</td>\n",
       "      <td>NaN</td>\n",
       "      <td>WP_089563092.1 type I secretion C-terminal tar...</td>\n",
       "      <td>Cluster 0</td>\n",
       "      <td>NaN</td>\n",
       "      <td>{IPR022038, IPR011049, IPR019960, IPR013783}</td>\n",
       "      <td>False</td>\n",
       "    </tr>\n",
       "    <tr>\n",
       "      <th>562.23017.con.0015_5|562.23017</th>\n",
       "      <td>NaN</td>\n",
       "      <td>NaN</td>\n",
       "      <td>AEQ11302.1 adhesin for cattle intestine coloni...</td>\n",
       "      <td>Cluster 1</td>\n",
       "      <td>NaN</td>\n",
       "      <td>{IPR022038, IPR013783}</td>\n",
       "      <td>False</td>\n",
       "    </tr>\n",
       "    <tr>\n",
       "      <th>562.22834.con.0008_97|562.22834</th>\n",
       "      <td>NaN</td>\n",
       "      <td>{GO:0007155}</td>\n",
       "      <td>WP_106901749.1 hypothetical protein [Escherich...</td>\n",
       "      <td>Cluster 2</td>\n",
       "      <td>NaN</td>\n",
       "      <td>{IPR038177, IPR015217, IPR024519, IPR013783, I...</td>\n",
       "      <td>True</td>\n",
       "    </tr>\n",
       "    <tr>\n",
       "      <th>562.22653.con.0011_41|562.22653</th>\n",
       "      <td>NaN</td>\n",
       "      <td>{GO:0005515}</td>\n",
       "      <td>WP_078207493.1 DUF1983 domain-containing prote...</td>\n",
       "      <td>Cluster 3</td>\n",
       "      <td>NaN</td>\n",
       "      <td>{IPR032876, IPR039477, IPR015406, IPR008979, I...</td>\n",
       "      <td>False</td>\n",
       "    </tr>\n",
       "    <tr>\n",
       "      <th>562.23583.con.0086_1|562.23583</th>\n",
       "      <td>NaN</td>\n",
       "      <td>NaN</td>\n",
       "      <td>WP_097495638.1 tandem-95 repeat protein [Esche...</td>\n",
       "      <td>Cluster 4</td>\n",
       "      <td>NaN</td>\n",
       "      <td>{IPR025592, IPR039005}</td>\n",
       "      <td>False</td>\n",
       "    </tr>\n",
       "  </tbody>\n",
       "</table>\n",
       "</div>"
      ],
      "text/plain": [
       "                                pathway            GO  \\\n",
       "representing_gene                                       \n",
       "562.23904.con.0022_83|562.23904     NaN           NaN   \n",
       "562.23017.con.0015_5|562.23017      NaN           NaN   \n",
       "562.22834.con.0008_97|562.22834     NaN  {GO:0007155}   \n",
       "562.22653.con.0011_41|562.22653     NaN  {GO:0005515}   \n",
       "562.23583.con.0086_1|562.23583      NaN           NaN   \n",
       "\n",
       "                                                                                nr  \\\n",
       "representing_gene                                                                    \n",
       "562.23904.con.0022_83|562.23904  WP_089563092.1 type I secretion C-terminal tar...   \n",
       "562.23017.con.0015_5|562.23017   AEQ11302.1 adhesin for cattle intestine coloni...   \n",
       "562.22834.con.0008_97|562.22834  WP_106901749.1 hypothetical protein [Escherich...   \n",
       "562.22653.con.0011_41|562.22653  WP_078207493.1 DUF1983 domain-containing prote...   \n",
       "562.23583.con.0086_1|562.23583   WP_097495638.1 tandem-95 repeat protein [Esche...   \n",
       "\n",
       "                                   cluster card  \\\n",
       "representing_gene                                 \n",
       "562.23904.con.0022_83|562.23904  Cluster 0  NaN   \n",
       "562.23017.con.0015_5|562.23017   Cluster 1  NaN   \n",
       "562.22834.con.0008_97|562.22834  Cluster 2  NaN   \n",
       "562.22653.con.0011_41|562.22653  Cluster 3  NaN   \n",
       "562.23583.con.0086_1|562.23583   Cluster 4  NaN   \n",
       "\n",
       "                                                                            domain  \\\n",
       "representing_gene                                                                    \n",
       "562.23904.con.0022_83|562.23904       {IPR022038, IPR011049, IPR019960, IPR013783}   \n",
       "562.23017.con.0015_5|562.23017                              {IPR022038, IPR013783}   \n",
       "562.22834.con.0008_97|562.22834  {IPR038177, IPR015217, IPR024519, IPR013783, I...   \n",
       "562.22653.con.0011_41|562.22653  {IPR032876, IPR039477, IPR015406, IPR008979, I...   \n",
       "562.23583.con.0086_1|562.23583                              {IPR025592, IPR039005}   \n",
       "\n",
       "                                hypo_nr  \n",
       "representing_gene                        \n",
       "562.23904.con.0022_83|562.23904   False  \n",
       "562.23017.con.0015_5|562.23017    False  \n",
       "562.22834.con.0008_97|562.22834    True  \n",
       "562.22653.con.0011_41|562.22653   False  \n",
       "562.23583.con.0086_1|562.23583    False  "
      ]
     },
     "execution_count": 2,
     "metadata": {},
     "output_type": "execute_result"
    }
   ],
   "source": [
    "df.head()"
   ]
  },
  {
   "cell_type": "code",
   "execution_count": 3,
   "metadata": {},
   "outputs": [],
   "source": [
    "domain = df['domain'].dropna()"
   ]
  },
  {
   "cell_type": "code",
   "execution_count": 7,
   "metadata": {},
   "outputs": [],
   "source": [
    "total_set = set()\n",
    "for protein in domain:\n",
    "    total_set = total_set.union(protein)"
   ]
  },
  {
   "cell_type": "code",
   "execution_count": 9,
   "metadata": {},
   "outputs": [
    {
     "data": {
      "text/plain": [
       "8304"
      ]
     },
     "execution_count": 9,
     "metadata": {},
     "output_type": "execute_result"
    }
   ],
   "source": [
    "len(total_set)"
   ]
  },
  {
   "cell_type": "code",
   "execution_count": null,
   "metadata": {},
   "outputs": [],
   "source": [
    "domain_df = pd.DataFrame(index = domain.index, columns = list(total_set))\n",
    "for i, protein in enumerate(domain):\n",
    "    for each_domain in protein:\n",
    "        domain_df.loc[domain.index[i], each_domain] = 1"
   ]
  }
 ],
 "metadata": {
  "kernelspec": {
   "display_name": "Python 3",
   "language": "python",
   "name": "python3"
  },
  "language_info": {
   "codemirror_mode": {
    "name": "ipython",
    "version": 3
   },
   "file_extension": ".py",
   "mimetype": "text/x-python",
   "name": "python",
   "nbconvert_exporter": "python",
   "pygments_lexer": "ipython3",
   "version": "3.6.7"
  }
 },
 "nbformat": 4,
 "nbformat_minor": 2
}
