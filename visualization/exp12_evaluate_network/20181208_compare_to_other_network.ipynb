{
 "cells": [
  {
   "cell_type": "markdown",
   "metadata": {},
   "source": [
    "- Created: 2018-12-08\n",
    "- Last modified: 2018-12-08\n",
    "- Purpose: to compare existing network `refseq75` to string data base E.coli PPI\n",
    "\n",
    "- Steps:\n",
    "1. ran diamond blastp --query REPRESENTING-GENES-ECOLI --db STRING-DB-SEQUENCES\n",
    "2. extract max `pident`, identity for each **STRING DB ID** (ex: 511145.b0002)\n",
    "3. remove all matches with less than 70% pident; 70% becuase we built pan-genome based on 70% threshold\n",
    "4. compare the links predicted by our net (refseq90) and STRING DB\n",
    "\n",
    "- Results: very few overlap\n",
    "\n",
    "- Interpretation\n",
    "1. There might be some problems with our net\n",
    "2. Our Net is trained based on GO-term sharing for functional prediction. Not all PPI has GO-term sharing (but expect many of them should have)"
   ]
  },
  {
   "cell_type": "code",
   "execution_count": 5,
   "metadata": {},
   "outputs": [],
   "source": [
    "import pandas as pd\n",
    "def read_node_to_df(fname):\n",
    "    '''\n",
    "    input: diamond blastp --query REPRESETING_GENE --db STRING.dmnd --outfmt 6\n",
    "    output: dataframe with essential info\n",
    "    '''\n",
    "    node = pd.read_csv(fname, sep = '\\t', header = None)\n",
    "    node = node[[0,1,2,10]]\n",
    "    node = node.rename(columns = {0:'qseqid', 1:'sseqid', 2:'pident', 10:'evalue'})\n",
    "    return(node)\n"
   ]
  },
  {
   "cell_type": "code",
   "execution_count": 6,
   "metadata": {},
   "outputs": [],
   "source": [
    "node_path = '/home/hermuba/data0118/cdhit/map_to_exist_net/ec70_string'\n",
    "node = read_node_to_df(node_path)"
   ]
  },
  {
   "cell_type": "code",
   "execution_count": 7,
   "metadata": {},
   "outputs": [
    {
     "data": {
      "text/plain": [
       "<matplotlib.axes._subplots.AxesSubplot at 0x7f09ade3fc50>"
      ]
     },
     "execution_count": 7,
     "metadata": {},
     "output_type": "execute_result"
    },
    {
     "data": {
      "image/png": "[encoded data removed]",
      "text/plain": [
       "<Figure size 432x288 with 1 Axes>"
      ]
     },
     "metadata": {
      "needs_background": "light"
     },
     "output_type": "display_data"
    }
   ],
   "source": [
    "%matplotlib inline\n",
    "node['pident'].plot(kind = 'hist')"
   ]
  },
  {
   "cell_type": "code",
   "execution_count": 8,
   "metadata": {},
   "outputs": [
    {
     "data": {
      "text/plain": [
       "(19626, 4)"
      ]
     },
     "execution_count": 8,
     "metadata": {},
     "output_type": "execute_result"
    }
   ],
   "source": [
    "# before filtering low pident\n",
    "node.shape"
   ]
  },
  {
   "cell_type": "code",
   "execution_count": 9,
   "metadata": {},
   "outputs": [
    {
     "data": {
      "text/html": [
       "<div>\n",
       "<style scoped>\n",
       "    .dataframe tbody tr th:only-of-type {\n",
       "        vertical-align: middle;\n",
       "    }\n",
       "\n",
       "    .dataframe tbody tr th {\n",
       "        vertical-align: top;\n",
       "    }\n",
       "\n",
       "    .dataframe thead th {\n",
       "        text-align: right;\n",
       "    }\n",
       "</style>\n",
       "<table border=\"1\" class=\"dataframe\">\n",
       "  <thead>\n",
       "    <tr style=\"text-align: right;\">\n",
       "      <th></th>\n",
       "      <th>qseqid</th>\n",
       "      <th>sseqid</th>\n",
       "      <th>pident</th>\n",
       "      <th>evalue</th>\n",
       "    </tr>\n",
       "  </thead>\n",
       "  <tbody>\n",
       "    <tr>\n",
       "      <th>0</th>\n",
       "      <td>JMUY01000001_5|1438670.3</td>\n",
       "      <td>511145.b1372</td>\n",
       "      <td>54.0</td>\n",
       "      <td>3.000000e-33</td>\n",
       "    </tr>\n",
       "    <tr>\n",
       "      <th>1</th>\n",
       "      <td>JMUY01000001_5|1438670.3</td>\n",
       "      <td>511145.b1372</td>\n",
       "      <td>81.1</td>\n",
       "      <td>3.400000e-08</td>\n",
       "    </tr>\n",
       "    <tr>\n",
       "      <th>2</th>\n",
       "      <td>JMUY01000001_53|1438670.3</td>\n",
       "      <td>511145.b0894</td>\n",
       "      <td>99.8</td>\n",
       "      <td>0.000000e+00</td>\n",
       "    </tr>\n",
       "    <tr>\n",
       "      <th>3</th>\n",
       "      <td>JMUY01000001_53|1438670.3</td>\n",
       "      <td>511145.b1587</td>\n",
       "      <td>67.2</td>\n",
       "      <td>0.000000e+00</td>\n",
       "    </tr>\n",
       "    <tr>\n",
       "      <th>4</th>\n",
       "      <td>JMUY01000001_53|1438670.3</td>\n",
       "      <td>511145.b1588</td>\n",
       "      <td>65.5</td>\n",
       "      <td>0.000000e+00</td>\n",
       "    </tr>\n",
       "  </tbody>\n",
       "</table>\n",
       "</div>"
      ],
      "text/plain": [
       "                      qseqid        sseqid  pident        evalue\n",
       "0   JMUY01000001_5|1438670.3  511145.b1372    54.0  3.000000e-33\n",
       "1   JMUY01000001_5|1438670.3  511145.b1372    81.1  3.400000e-08\n",
       "2  JMUY01000001_53|1438670.3  511145.b0894    99.8  0.000000e+00\n",
       "3  JMUY01000001_53|1438670.3  511145.b1587    67.2  0.000000e+00\n",
       "4  JMUY01000001_53|1438670.3  511145.b1588    65.5  0.000000e+00"
      ]
     },
     "execution_count": 9,
     "metadata": {},
     "output_type": "execute_result"
    }
   ],
   "source": [
    "node.head()"
   ]
  },
  {
   "cell_type": "code",
   "execution_count": 10,
   "metadata": {},
   "outputs": [],
   "source": [
    "def filter_node(node):\n",
    "    '''\n",
    "    input: node dataframe from `read_node_to_df\n",
    "    output: filtered net\n",
    "    steps:\n",
    "    1. select max pident for each sseqid(STRING ID)\n",
    "    2. remove all hits with pident < 70\n",
    "    '''\n",
    "    max_node = node.groupby(by = 'sseqid').max(level = 'pident')\n",
    "    selected_nodes = max_node.loc[max_node['pident']>= 70]\n",
    "    return(selected_nodes)"
   ]
  },
  {
   "cell_type": "code",
   "execution_count": 11,
   "metadata": {},
   "outputs": [],
   "source": [
    "selected_nodes = filter_node(node)"
   ]
  },
  {
   "cell_type": "code",
   "execution_count": 12,
   "metadata": {},
   "outputs": [
    {
     "data": {
      "text/plain": [
       "(4079, 3)"
      ]
     },
     "execution_count": 12,
     "metadata": {},
     "output_type": "execute_result"
    }
   ],
   "source": [
    "selected_nodes.shape # selected nodes contain REPRESENTING GENE - STRING id converter"
   ]
  },
  {
   "cell_type": "markdown",
   "metadata": {},
   "source": [
    "# Let's import all connections from STRING"
   ]
  },
  {
   "cell_type": "code",
   "execution_count": 13,
   "metadata": {},
   "outputs": [],
   "source": [
    "def string_edge_to_df(fname):\n",
    "    edge = pd.read_csv(fname, sep = ' ')\n",
    "    return(edge)"
   ]
  },
  {
   "cell_type": "code",
   "execution_count": 14,
   "metadata": {},
   "outputs": [],
   "source": [
    "edge_path = '/home/hermuba/data0118/cdhit/map_to_exist_net/511145.protein.links.v10.5.txt'\n",
    "edge = string_edge_to_df(edge_path)"
   ]
  },
  {
   "cell_type": "code",
   "execution_count": 15,
   "metadata": {},
   "outputs": [
    {
     "data": {
      "text/html": [
       "<div>\n",
       "<style scoped>\n",
       "    .dataframe tbody tr th:only-of-type {\n",
       "        vertical-align: middle;\n",
       "    }\n",
       "\n",
       "    .dataframe tbody tr th {\n",
       "        vertical-align: top;\n",
       "    }\n",
       "\n",
       "    .dataframe thead th {\n",
       "        text-align: right;\n",
       "    }\n",
       "</style>\n",
       "<table border=\"1\" class=\"dataframe\">\n",
       "  <thead>\n",
       "    <tr style=\"text-align: right;\">\n",
       "      <th></th>\n",
       "      <th>protein1</th>\n",
       "      <th>protein2</th>\n",
       "      <th>combined_score</th>\n",
       "    </tr>\n",
       "  </thead>\n",
       "  <tbody>\n",
       "    <tr>\n",
       "      <th>0</th>\n",
       "      <td>511145.b0001</td>\n",
       "      <td>511145.b0075</td>\n",
       "      <td>379</td>\n",
       "    </tr>\n",
       "    <tr>\n",
       "      <th>1</th>\n",
       "      <td>511145.b0001</td>\n",
       "      <td>511145.b2018</td>\n",
       "      <td>519</td>\n",
       "    </tr>\n",
       "    <tr>\n",
       "      <th>2</th>\n",
       "      <td>511145.b0001</td>\n",
       "      <td>511145.b0273</td>\n",
       "      <td>202</td>\n",
       "    </tr>\n",
       "    <tr>\n",
       "      <th>3</th>\n",
       "      <td>511145.b0001</td>\n",
       "      <td>511145.b2011</td>\n",
       "      <td>214</td>\n",
       "    </tr>\n",
       "    <tr>\n",
       "      <th>4</th>\n",
       "      <td>511145.b0001</td>\n",
       "      <td>511145.b3863</td>\n",
       "      <td>167</td>\n",
       "    </tr>\n",
       "  </tbody>\n",
       "</table>\n",
       "</div>"
      ],
      "text/plain": [
       "       protein1      protein2  combined_score\n",
       "0  511145.b0001  511145.b0075             379\n",
       "1  511145.b0001  511145.b2018             519\n",
       "2  511145.b0001  511145.b0273             202\n",
       "3  511145.b0001  511145.b2011             214\n",
       "4  511145.b0001  511145.b3863             167"
      ]
     },
     "execution_count": 15,
     "metadata": {},
     "output_type": "execute_result"
    }
   ],
   "source": [
    "edge.head()"
   ]
  },
  {
   "cell_type": "code",
   "execution_count": 16,
   "metadata": {},
   "outputs": [
    {
     "data": {
      "text/plain": [
       "(1166880, 3)"
      ]
     },
     "execution_count": 16,
     "metadata": {},
     "output_type": "execute_result"
    }
   ],
   "source": [
    "edge.shape # has a lot of duplicates"
   ]
  },
  {
   "cell_type": "code",
   "execution_count": 17,
   "metadata": {},
   "outputs": [
    {
     "data": {
      "text/plain": [
       "<matplotlib.axes._subplots.AxesSubplot at 0x7f09adaf7e10>"
      ]
     },
     "execution_count": 17,
     "metadata": {},
     "output_type": "execute_result"
    },
    {
     "data": {
      "image/png": "[encoded data removed]",
      "text/plain": [
       "<Figure size 432x288 with 1 Axes>"
      ]
     },
     "metadata": {
      "needs_background": "light"
     },
     "output_type": "display_data"
    }
   ],
   "source": [
    "edge.combined_score.plot(kind = 'hist')"
   ]
  },
  {
   "cell_type": "markdown",
   "metadata": {},
   "source": [
    "# Mapping STRING ID to REPRESENTING GENE ID"
   ]
  },
  {
   "cell_type": "code",
   "execution_count": 18,
   "metadata": {},
   "outputs": [],
   "source": [
    "def map_string_to_repr(edge, selected_nodes):\n",
    "    '''\n",
    "    input: edge and node from `read_edge/node_to_df` and subsepquent processing\n",
    "    output: edge table with additional columns gene_one, gene_two; representing gene ids\n",
    "    '''\n",
    "    edge['gene_one'] = edge['protein1'].map(selected_nodes['qseqid'])\n",
    "    edge['gene_two'] = edge['protein2'].map(selected_nodes['qseqid'])\n",
    "    \n",
    "    edge.dropna(how = 'any', inplace = True) # we do not need interaction between genes that does not exist in our net\n",
    "    edge.to_csv('/home/hermuba/data0118/goldstandard/EC70_string_edges')\n",
    "    return(edge)"
   ]
  },
  {
   "cell_type": "code",
   "execution_count": 19,
   "metadata": {},
   "outputs": [],
   "source": [
    "selected_edge = map_string_to_repr(edge, selected_nodes)"
   ]
  },
  {
   "cell_type": "code",
   "execution_count": 20,
   "metadata": {},
   "outputs": [
    {
     "data": {
      "text/plain": [
       "(1159522, 5)"
      ]
     },
     "execution_count": 20,
     "metadata": {},
     "output_type": "execute_result"
    }
   ],
   "source": [
    "edge.shape"
   ]
  },
  {
   "cell_type": "code",
   "execution_count": 21,
   "metadata": {},
   "outputs": [
    {
     "data": {
      "text/plain": [
       "(1159522, 5)"
      ]
     },
     "execution_count": 21,
     "metadata": {},
     "output_type": "execute_result"
    }
   ],
   "source": [
    "selected_edge.shape"
   ]
  },
  {
   "cell_type": "code",
   "execution_count": 22,
   "metadata": {},
   "outputs": [
    {
     "data": {
      "text/html": [
       "<div>\n",
       "<style scoped>\n",
       "    .dataframe tbody tr th:only-of-type {\n",
       "        vertical-align: middle;\n",
       "    }\n",
       "\n",
       "    .dataframe tbody tr th {\n",
       "        vertical-align: top;\n",
       "    }\n",
       "\n",
       "    .dataframe thead th {\n",
       "        text-align: right;\n",
       "    }\n",
       "</style>\n",
       "<table border=\"1\" class=\"dataframe\">\n",
       "  <thead>\n",
       "    <tr style=\"text-align: right;\">\n",
       "      <th></th>\n",
       "      <th>protein1</th>\n",
       "      <th>protein2</th>\n",
       "      <th>combined_score</th>\n",
       "      <th>gene_one</th>\n",
       "      <th>gene_two</th>\n",
       "    </tr>\n",
       "  </thead>\n",
       "  <tbody>\n",
       "    <tr>\n",
       "      <th>26</th>\n",
       "      <td>511145.b0002</td>\n",
       "      <td>511145.b3397</td>\n",
       "      <td>449</td>\n",
       "      <td>JMUY01000009_5|1438670.3</td>\n",
       "      <td>FLXF01000003_90|562.12961</td>\n",
       "    </tr>\n",
       "    <tr>\n",
       "      <th>27</th>\n",
       "      <td>511145.b0002</td>\n",
       "      <td>511145.b1338</td>\n",
       "      <td>453</td>\n",
       "      <td>JMUY01000009_5|1438670.3</td>\n",
       "      <td>JMVB01000033_111|1438673.3</td>\n",
       "    </tr>\n",
       "    <tr>\n",
       "      <th>28</th>\n",
       "      <td>511145.b0002</td>\n",
       "      <td>511145.b1686</td>\n",
       "      <td>214</td>\n",
       "      <td>JMUY01000009_5|1438670.3</td>\n",
       "      <td>JMUY01000001_885|1438670.3</td>\n",
       "    </tr>\n",
       "    <tr>\n",
       "      <th>29</th>\n",
       "      <td>511145.b0002</td>\n",
       "      <td>511145.b1341</td>\n",
       "      <td>167</td>\n",
       "      <td>JMUY01000009_5|1438670.3</td>\n",
       "      <td>NIPT01000031_7|562.17733</td>\n",
       "    </tr>\n",
       "    <tr>\n",
       "      <th>30</th>\n",
       "      <td>511145.b0002</td>\n",
       "      <td>511145.b0060</td>\n",
       "      <td>180</td>\n",
       "      <td>JMUY01000009_5|1438670.3</td>\n",
       "      <td>FLWH01000007_157|562.12962</td>\n",
       "    </tr>\n",
       "  </tbody>\n",
       "</table>\n",
       "</div>"
      ],
      "text/plain": [
       "        protein1      protein2  combined_score                  gene_one  \\\n",
       "26  511145.b0002  511145.b3397             449  JMUY01000009_5|1438670.3   \n",
       "27  511145.b0002  511145.b1338             453  JMUY01000009_5|1438670.3   \n",
       "28  511145.b0002  511145.b1686             214  JMUY01000009_5|1438670.3   \n",
       "29  511145.b0002  511145.b1341             167  JMUY01000009_5|1438670.3   \n",
       "30  511145.b0002  511145.b0060             180  JMUY01000009_5|1438670.3   \n",
       "\n",
       "                      gene_two  \n",
       "26   FLXF01000003_90|562.12961  \n",
       "27  JMVB01000033_111|1438673.3  \n",
       "28  JMUY01000001_885|1438670.3  \n",
       "29    NIPT01000031_7|562.17733  \n",
       "30  FLWH01000007_157|562.12962  "
      ]
     },
     "execution_count": 22,
     "metadata": {},
     "output_type": "execute_result"
    }
   ],
   "source": [
    "selected_edge.head()"
   ]
  },
  {
   "cell_type": "code",
   "execution_count": 33,
   "metadata": {},
   "outputs": [],
   "source": [
    "#selected_edge[['gene_one', 'gene_two']].to_csv('/home/hermuba/data0118/network1122/string_edgelist', index = False, header = False, na_rep = 'nan')"
   ]
  },
  {
   "cell_type": "markdown",
   "metadata": {},
   "source": [
    "# INPUT our net `eskape` and `refseq`"
   ]
  },
  {
   "cell_type": "code",
   "execution_count": 23,
   "metadata": {},
   "outputs": [],
   "source": [
    "def our_net_to_df(fname):\n",
    "    our_net = pd.read_csv(fname, sep = ',', header = 0)\n",
    "    return(our_net)"
   ]
  },
  {
   "cell_type": "code",
   "execution_count": 24,
   "metadata": {},
   "outputs": [],
   "source": [
    "# merge with refseq90\n",
    "refseq_path = '/home/hermuba/data0118/network1122/refseq_mu_high_75.csv'\n",
    "eskape_path = '/home/hermuba/data0118/network1122/eskape_mu_high.csv'\n",
    "refseq = our_net_to_df(refseq_path)\n",
    "eskape = our_net_to_df(eskape_path)"
   ]
  },
  {
   "cell_type": "code",
   "execution_count": 25,
   "metadata": {},
   "outputs": [
    {
     "data": {
      "text/html": [
       "<div>\n",
       "<style scoped>\n",
       "    .dataframe tbody tr th:only-of-type {\n",
       "        vertical-align: middle;\n",
       "    }\n",
       "\n",
       "    .dataframe tbody tr th {\n",
       "        vertical-align: top;\n",
       "    }\n",
       "\n",
       "    .dataframe thead th {\n",
       "        text-align: right;\n",
       "    }\n",
       "</style>\n",
       "<table border=\"1\" class=\"dataframe\">\n",
       "  <thead>\n",
       "    <tr style=\"text-align: right;\">\n",
       "      <th></th>\n",
       "      <th>mutual_info</th>\n",
       "      <th>nrm_mutual</th>\n",
       "      <th>gene_one</th>\n",
       "      <th>gene_two</th>\n",
       "      <th>goldstandard</th>\n",
       "    </tr>\n",
       "  </thead>\n",
       "  <tbody>\n",
       "    <tr>\n",
       "      <th>0</th>\n",
       "      <td>0.419584</td>\n",
       "      <td>0.787639</td>\n",
       "      <td>562.23304.con.0006_192|562.23304</td>\n",
       "      <td>562.22658.con.0002_220|562.22658</td>\n",
       "      <td>NaN</td>\n",
       "    </tr>\n",
       "    <tr>\n",
       "      <th>1</th>\n",
       "      <td>0.391253</td>\n",
       "      <td>0.773301</td>\n",
       "      <td>562.23304.con.0006_192|562.23304</td>\n",
       "      <td>562.22909.con.0002_319|562.22909</td>\n",
       "      <td>NaN</td>\n",
       "    </tr>\n",
       "    <tr>\n",
       "      <th>2</th>\n",
       "      <td>0.074130</td>\n",
       "      <td>0.919936</td>\n",
       "      <td>562.22859.con.0026_36|562.22859</td>\n",
       "      <td>562.22697.con.0023_36|562.22697</td>\n",
       "      <td>NaN</td>\n",
       "    </tr>\n",
       "    <tr>\n",
       "      <th>3</th>\n",
       "      <td>0.409849</td>\n",
       "      <td>0.815928</td>\n",
       "      <td>562.23304.con.0006_192|562.23304</td>\n",
       "      <td>562.23416.con.0004_246|562.23416</td>\n",
       "      <td>NaN</td>\n",
       "    </tr>\n",
       "    <tr>\n",
       "      <th>4</th>\n",
       "      <td>0.077508</td>\n",
       "      <td>0.871718</td>\n",
       "      <td>562.22859.con.0026_36|562.22859</td>\n",
       "      <td>562.22859.con.0026_30|562.22859</td>\n",
       "      <td>NaN</td>\n",
       "    </tr>\n",
       "  </tbody>\n",
       "</table>\n",
       "</div>"
      ],
      "text/plain": [
       "   mutual_info  nrm_mutual                          gene_one  \\\n",
       "0     0.419584    0.787639  562.23304.con.0006_192|562.23304   \n",
       "1     0.391253    0.773301  562.23304.con.0006_192|562.23304   \n",
       "2     0.074130    0.919936   562.22859.con.0026_36|562.22859   \n",
       "3     0.409849    0.815928  562.23304.con.0006_192|562.23304   \n",
       "4     0.077508    0.871718   562.22859.con.0026_36|562.22859   \n",
       "\n",
       "                           gene_two goldstandard  \n",
       "0  562.22658.con.0002_220|562.22658          NaN  \n",
       "1  562.22909.con.0002_319|562.22909          NaN  \n",
       "2   562.22697.con.0023_36|562.22697          NaN  \n",
       "3  562.23416.con.0004_246|562.23416          NaN  \n",
       "4   562.22859.con.0026_30|562.22859          NaN  "
      ]
     },
     "execution_count": 25,
     "metadata": {},
     "output_type": "execute_result"
    }
   ],
   "source": [
    "refseq.head()"
   ]
  },
  {
   "cell_type": "code",
   "execution_count": 26,
   "metadata": {},
   "outputs": [
    {
     "data": {
      "text/plain": [
       "(113811, 5)"
      ]
     },
     "execution_count": 26,
     "metadata": {},
     "output_type": "execute_result"
    }
   ],
   "source": [
    "refseq.shape #significantly less than string"
   ]
  },
  {
   "cell_type": "code",
   "execution_count": 27,
   "metadata": {},
   "outputs": [
    {
     "data": {
      "text/plain": [
       "(51286, 5)"
      ]
     },
     "execution_count": 27,
     "metadata": {},
     "output_type": "execute_result"
    }
   ],
   "source": [
    "eskape.shape # not to say this one"
   ]
  },
  {
   "cell_type": "markdown",
   "metadata": {},
   "source": [
    "# compare interaction between `our net` and `STRING`"
   ]
  },
  {
   "cell_type": "code",
   "execution_count": 28,
   "metadata": {},
   "outputs": [],
   "source": [
    "def compare_net(our_net, string):\n",
    "    \n",
    "    our_links = [frozenset(x) for x in our_net[['gene_one', 'gene_two']].values]\n",
    "    string_links = [frozenset(x) for x in string[['gene_one', 'gene_two']].values]\n",
    "    \n",
    "    print(type(our_links))\n",
    "    ours = set(our_links)\n",
    "    strs = set(string_links)\n",
    "    \n",
    "    \n",
    "    return(len(ours.intersection(strs)), ours, strs)"
   ]
  },
  {
   "cell_type": "code",
   "execution_count": 29,
   "metadata": {},
   "outputs": [
    {
     "name": "stdout",
     "output_type": "stream",
     "text": [
      "<class 'list'>\n"
     ]
    }
   ],
   "source": [
    "common, ours, strs = compare_net(refseq, selected_edge)"
   ]
  },
  {
   "cell_type": "code",
   "execution_count": 30,
   "metadata": {},
   "outputs": [
    {
     "data": {
      "text/plain": [
       "13968"
      ]
     },
     "execution_count": 30,
     "metadata": {},
     "output_type": "execute_result"
    }
   ],
   "source": [
    "common #refseq hits 13968/1460960"
   ]
  },
  {
   "cell_type": "code",
   "execution_count": 31,
   "metadata": {},
   "outputs": [
    {
     "data": {
      "text/plain": [
       "460960"
      ]
     },
     "execution_count": 31,
     "metadata": {},
     "output_type": "execute_result"
    }
   ],
   "source": [
    "len(strs)"
   ]
  },
  {
   "cell_type": "code",
   "execution_count": 32,
   "metadata": {},
   "outputs": [
    {
     "data": {
      "text/plain": [
       "113811"
      ]
     },
     "execution_count": 32,
     "metadata": {},
     "output_type": "execute_result"
    }
   ],
   "source": [
    "len(ours) # 1/10 is supported by STRING"
   ]
  },
  {
   "cell_type": "code",
   "execution_count": null,
   "metadata": {},
   "outputs": [],
   "source": []
  }
 ],
 "metadata": {
  "kernelspec": {
   "display_name": "Python 3",
   "language": "python",
   "name": "python3"
  },
  "language_info": {
   "codemirror_mode": {
    "name": "ipython",
    "version": 3
   },
   "file_extension": ".py",
   "mimetype": "text/x-python",
   "name": "python",
   "nbconvert_exporter": "python",
   "pygments_lexer": "ipython3",
   "version": "3.6.7"
  }
 },
 "nbformat": 4,
 "nbformat_minor": 2
}
