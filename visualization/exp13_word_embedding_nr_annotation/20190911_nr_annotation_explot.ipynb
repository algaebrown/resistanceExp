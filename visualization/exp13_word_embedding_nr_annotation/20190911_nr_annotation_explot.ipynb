{
 "cells": [
  {
   "cell_type": "code",
   "execution_count": 4,
   "metadata": {},
   "outputs": [],
   "source": [
    "import pandas as pd\n",
    "gold_anno = pd.read_pickle('~/data0118/goldstandard/ec_rmplasmid_node_anno_df')"
   ]
  },
  {
   "cell_type": "code",
   "execution_count": 31,
   "metadata": {},
   "outputs": [],
   "source": [
    "\n",
    "def count_word(anno):\n",
    "    '''\n",
    "    count word occurence in nr annotation\n",
    "    '''\n",
    "    count = {}\n",
    "    anno.dropna(inplace = True)\n",
    "    for an in anno:\n",
    "        an = an.replace(',', '').replace('-',' ')\n",
    "        an = an.lower()\n",
    "        anno_list = an.split('[')[0].split(' ')[1:-1]\n",
    "    \n",
    "        for word in anno_list:\n",
    "            if word in count.keys():\n",
    "                count[word] += 1\n",
    "            else:\n",
    "                count[word] = 1\n",
    "    return(count)"
   ]
  },
  {
   "cell_type": "code",
   "execution_count": 32,
   "metadata": {},
   "outputs": [],
   "source": [
    "count_dict = count_word(gold_anno['nr'])"
   ]
  },
  {
   "cell_type": "code",
   "execution_count": 33,
   "metadata": {},
   "outputs": [],
   "source": [
    "s = pd.Series(count_dict)"
   ]
  },
  {
   "cell_type": "code",
   "execution_count": 35,
   "metadata": {},
   "outputs": [
    {
     "data": {
      "text/plain": [
       "protein                         22281\n",
       "hypothetical                    13600\n",
       "multispecies:                   11481\n",
       "family                           3419\n",
       "domain                           2084\n",
       "containing                       1933\n",
       "transporter                      1120\n",
       "regulator                         984\n",
       "transcriptional                   935\n",
       "type                              850\n",
       "subunit                           822\n",
       "binding                           788\n",
       "phage                             750\n",
       "dna                               719\n",
       "system                            643\n",
       "uncharacterised                   584\n",
       "partial                           578\n",
       "tail                              577\n",
       "abc                               506\n",
       "putative                          498\n",
       "glycosyltransferase               444\n",
       "transposase                       422\n",
       "helix                             400\n",
       "membrane                          393\n",
       "atp                               362\n",
       "secretion                         354\n",
       "transfer                          339\n",
       "like                              324\n",
       "permease                          317\n",
       "2                                 317\n",
       "                                ...  \n",
       "(duf2591)                           1\n",
       "g737_05132                          1\n",
       "threonylcarbamoyltransferase        1\n",
       "tsad                                1\n",
       "ecb7a_0900                          1\n",
       "insh                                1\n",
       "is5y                                1\n",
       "hmpref1024_05025                    1\n",
       "o32                                 1\n",
       "wfea                                1\n",
       "g783_00942                          1\n",
       "uti89_c4985                         1\n",
       "hxlr                                1\n",
       "bfpm                                1\n",
       "proteobacterial                     1\n",
       "eco28_02417                         1\n",
       "sk75_02862                          1\n",
       "duf1480                             1\n",
       "ynce                                1\n",
       "g897_02143                          1\n",
       "g958_04206                          1\n",
       "cpxp                                1\n",
       "ab44_2982                           1\n",
       "wcs_01689                           1\n",
       "wcs_01679                           1\n",
       "a31o_05092                          1\n",
       "nc86s2_560005                       1\n",
       "o29                                 1\n",
       "g822_01186                          1\n",
       "um146_17115                         1\n",
       "Length: 9666, dtype: int64"
      ]
     },
     "execution_count": 35,
     "metadata": {},
     "output_type": "execute_result"
    }
   ],
   "source": [
    "s.sort_values(ascending = False)"
   ]
  },
  {
   "cell_type": "code",
   "execution_count": 36,
   "metadata": {},
   "outputs": [
    {
     "data": {
      "text/plain": [
       "xre                    106\n",
       "family                3419\n",
       "transcriptional        935\n",
       "regulator              984\n",
       "specific               170\n",
       "component              112\n",
       "multispecies:        11481\n",
       "hypothetical         13600\n",
       "protein              22281\n",
       "type                   850\n",
       "phage                  750\n",
       "n                      263\n",
       "6                      106\n",
       "methyltransferase      241\n",
       "domain                2084\n",
       "containing            1933\n",
       "binding                788\n",
       "3                      168\n",
       "acid                   166\n",
       "sugar                  103\n",
       "kinase                 205\n",
       "outer                  193\n",
       "membrane               393\n",
       "beta                   163\n",
       "fimbrial               301\n",
       "chaperone              137\n",
       "dna                    719\n",
       "polymerase             164\n",
       "factor                 112\n",
       "atp                    362\n",
       "                     ...  \n",
       "ead/ea22               102\n",
       "tail                   577\n",
       "abc                    506\n",
       "2                      317\n",
       "phosphate              226\n",
       "uncharacterised        584\n",
       "replication            133\n",
       "atpase                 130\n",
       "hydrolase              199\n",
       "iii                    110\n",
       "conjugal               173\n",
       "transfer               339\n",
       "fiber                  128\n",
       "assembly               232\n",
       "o                      175\n",
       "antigen                128\n",
       "oxidoreductase         174\n",
       "d                      147\n",
       "pts                    136\n",
       "reductase              213\n",
       "dehydrogenase          222\n",
       "plasmid                112\n",
       "helicase               143\n",
       "repeat                 120\n",
       "synthase               225\n",
       "substrate              122\n",
       "conserved              165\n",
       "l                      109\n",
       "iv                     114\n",
       "conjugative            205\n",
       "Length: 97, dtype: int64"
      ]
     },
     "execution_count": 36,
     "metadata": {},
     "output_type": "execute_result"
    }
   ],
   "source": [
    "s.loc[s>100]"
   ]
  },
  {
   "cell_type": "code",
   "execution_count": null,
   "metadata": {},
   "outputs": [],
   "source": [
    "# https://datascience.stackexchange.com/questions/23969/sentence-similarity-prediction"
   ]
  }
 ],
 "metadata": {
  "kernelspec": {
   "display_name": "Python 3",
   "language": "python",
   "name": "python3"
  }
 },
 "nbformat": 4,
 "nbformat_minor": 2
}
