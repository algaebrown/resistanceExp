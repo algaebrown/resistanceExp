{
 "cells": [
  {
   "cell_type": "code",
   "execution_count": 58,
   "metadata": {},
   "outputs": [],
   "source": [
    "# import phenotype\n",
    "import pandas as pd\n",
    "ris = pd.read_csv('/home/hermuba/data0118/annotated_RIS/RIS_pivot_ecoli123.csv', dtype = {'Genome ID':str})\n",
    "\n",
    "cdhit_path = \"/home/hermuba/data0118/cdhit/clstr/pangenome_df/Escherichia0.70.clstr.csv\"\n",
    "df = pd.read_csv(cdhit_path, header = 0, index_col = 0)\n",
    "\n",
    "ris = ris.set_index('Genome ID')\n",
    "df = df.transpose()\n",
    "df = df.iloc[:, :-1]"
   ]
  },
  {
   "cell_type": "code",
   "execution_count": 59,
   "metadata": {},
   "outputs": [],
   "source": [
    "ris = ris.loc[:, ris.count()>50] # eliminate those with small sample"
   ]
  },
  {
   "cell_type": "code",
   "execution_count": 88,
   "metadata": {},
   "outputs": [
    {
     "data": {
      "text/html": [
       "<div>\n",
       "<style scoped>\n",
       "    .dataframe tbody tr th:only-of-type {\n",
       "        vertical-align: middle;\n",
       "    }\n",
       "\n",
       "    .dataframe tbody tr th {\n",
       "        vertical-align: top;\n",
       "    }\n",
       "\n",
       "    .dataframe thead th {\n",
       "        text-align: right;\n",
       "    }\n",
       "</style>\n",
       "<table border=\"1\" class=\"dataframe\">\n",
       "  <thead>\n",
       "    <tr style=\"text-align: right;\">\n",
       "      <th></th>\n",
       "      <th>Cluster 0</th>\n",
       "      <th>Cluster 1</th>\n",
       "      <th>Cluster 2</th>\n",
       "      <th>Cluster 3</th>\n",
       "      <th>Cluster 4</th>\n",
       "      <th>Cluster 5</th>\n",
       "      <th>Cluster 6</th>\n",
       "      <th>Cluster 7</th>\n",
       "      <th>Cluster 8</th>\n",
       "      <th>Cluster 9</th>\n",
       "      <th>...</th>\n",
       "      <th>Cluster 31738</th>\n",
       "      <th>Cluster 31739</th>\n",
       "      <th>Cluster 31740</th>\n",
       "      <th>Cluster 31741</th>\n",
       "      <th>Cluster 31742</th>\n",
       "      <th>Cluster 31743</th>\n",
       "      <th>Cluster 31744</th>\n",
       "      <th>Cluster 31745</th>\n",
       "      <th>Cluster 31746</th>\n",
       "      <th>Cluster 31747</th>\n",
       "    </tr>\n",
       "  </thead>\n",
       "  <tbody>\n",
       "    <tr>\n",
       "      <th>1438670.3</th>\n",
       "      <td>0.0</td>\n",
       "      <td>0.0</td>\n",
       "      <td>0.0</td>\n",
       "      <td>0.0</td>\n",
       "      <td>0.0</td>\n",
       "      <td>1.0</td>\n",
       "      <td>0.0</td>\n",
       "      <td>0.0</td>\n",
       "      <td>0.0</td>\n",
       "      <td>0.0</td>\n",
       "      <td>...</td>\n",
       "      <td>0.0</td>\n",
       "      <td>0.0</td>\n",
       "      <td>0.0</td>\n",
       "      <td>0.0</td>\n",
       "      <td>0.0</td>\n",
       "      <td>0.0</td>\n",
       "      <td>0.0</td>\n",
       "      <td>0.0</td>\n",
       "      <td>0.0</td>\n",
       "      <td>0.0</td>\n",
       "    </tr>\n",
       "    <tr>\n",
       "      <th>562.23090</th>\n",
       "      <td>0.0</td>\n",
       "      <td>0.0</td>\n",
       "      <td>0.0</td>\n",
       "      <td>0.0</td>\n",
       "      <td>0.0</td>\n",
       "      <td>1.0</td>\n",
       "      <td>0.0</td>\n",
       "      <td>1.0</td>\n",
       "      <td>0.0</td>\n",
       "      <td>1.0</td>\n",
       "      <td>...</td>\n",
       "      <td>0.0</td>\n",
       "      <td>0.0</td>\n",
       "      <td>0.0</td>\n",
       "      <td>0.0</td>\n",
       "      <td>0.0</td>\n",
       "      <td>0.0</td>\n",
       "      <td>0.0</td>\n",
       "      <td>0.0</td>\n",
       "      <td>0.0</td>\n",
       "      <td>0.0</td>\n",
       "    </tr>\n",
       "    <tr>\n",
       "      <th>562.23301</th>\n",
       "      <td>0.0</td>\n",
       "      <td>0.0</td>\n",
       "      <td>0.0</td>\n",
       "      <td>0.0</td>\n",
       "      <td>0.0</td>\n",
       "      <td>1.0</td>\n",
       "      <td>0.0</td>\n",
       "      <td>0.0</td>\n",
       "      <td>0.0</td>\n",
       "      <td>0.0</td>\n",
       "      <td>...</td>\n",
       "      <td>0.0</td>\n",
       "      <td>0.0</td>\n",
       "      <td>0.0</td>\n",
       "      <td>0.0</td>\n",
       "      <td>0.0</td>\n",
       "      <td>0.0</td>\n",
       "      <td>0.0</td>\n",
       "      <td>0.0</td>\n",
       "      <td>0.0</td>\n",
       "      <td>0.0</td>\n",
       "    </tr>\n",
       "    <tr>\n",
       "      <th>562.22588</th>\n",
       "      <td>0.0</td>\n",
       "      <td>0.0</td>\n",
       "      <td>0.0</td>\n",
       "      <td>0.0</td>\n",
       "      <td>0.0</td>\n",
       "      <td>1.0</td>\n",
       "      <td>0.0</td>\n",
       "      <td>0.0</td>\n",
       "      <td>0.0</td>\n",
       "      <td>0.0</td>\n",
       "      <td>...</td>\n",
       "      <td>0.0</td>\n",
       "      <td>0.0</td>\n",
       "      <td>0.0</td>\n",
       "      <td>0.0</td>\n",
       "      <td>0.0</td>\n",
       "      <td>0.0</td>\n",
       "      <td>0.0</td>\n",
       "      <td>0.0</td>\n",
       "      <td>0.0</td>\n",
       "      <td>0.0</td>\n",
       "    </tr>\n",
       "    <tr>\n",
       "      <th>562.22859</th>\n",
       "      <td>0.0</td>\n",
       "      <td>0.0</td>\n",
       "      <td>0.0</td>\n",
       "      <td>0.0</td>\n",
       "      <td>0.0</td>\n",
       "      <td>1.0</td>\n",
       "      <td>0.0</td>\n",
       "      <td>0.0</td>\n",
       "      <td>0.0</td>\n",
       "      <td>0.0</td>\n",
       "      <td>...</td>\n",
       "      <td>0.0</td>\n",
       "      <td>0.0</td>\n",
       "      <td>0.0</td>\n",
       "      <td>0.0</td>\n",
       "      <td>0.0</td>\n",
       "      <td>0.0</td>\n",
       "      <td>0.0</td>\n",
       "      <td>0.0</td>\n",
       "      <td>0.0</td>\n",
       "      <td>0.0</td>\n",
       "    </tr>\n",
       "  </tbody>\n",
       "</table>\n",
       "<p>5 rows × 31748 columns</p>\n",
       "</div>"
      ],
      "text/plain": [
       "           Cluster 0  Cluster 1  Cluster 2  Cluster 3  Cluster 4  Cluster 5  \\\n",
       "1438670.3        0.0        0.0        0.0        0.0        0.0        1.0   \n",
       "562.23090        0.0        0.0        0.0        0.0        0.0        1.0   \n",
       "562.23301        0.0        0.0        0.0        0.0        0.0        1.0   \n",
       "562.22588        0.0        0.0        0.0        0.0        0.0        1.0   \n",
       "562.22859        0.0        0.0        0.0        0.0        0.0        1.0   \n",
       "\n",
       "           Cluster 6  Cluster 7  Cluster 8  Cluster 9      ...        \\\n",
       "1438670.3        0.0        0.0        0.0        0.0      ...         \n",
       "562.23090        0.0        1.0        0.0        1.0      ...         \n",
       "562.23301        0.0        0.0        0.0        0.0      ...         \n",
       "562.22588        0.0        0.0        0.0        0.0      ...         \n",
       "562.22859        0.0        0.0        0.0        0.0      ...         \n",
       "\n",
       "           Cluster 31738  Cluster 31739  Cluster 31740  Cluster 31741  \\\n",
       "1438670.3            0.0            0.0            0.0            0.0   \n",
       "562.23090            0.0            0.0            0.0            0.0   \n",
       "562.23301            0.0            0.0            0.0            0.0   \n",
       "562.22588            0.0            0.0            0.0            0.0   \n",
       "562.22859            0.0            0.0            0.0            0.0   \n",
       "\n",
       "           Cluster 31742  Cluster 31743  Cluster 31744  Cluster 31745  \\\n",
       "1438670.3            0.0            0.0            0.0            0.0   \n",
       "562.23090            0.0            0.0            0.0            0.0   \n",
       "562.23301            0.0            0.0            0.0            0.0   \n",
       "562.22588            0.0            0.0            0.0            0.0   \n",
       "562.22859            0.0            0.0            0.0            0.0   \n",
       "\n",
       "           Cluster 31746  Cluster 31747  \n",
       "1438670.3            0.0            0.0  \n",
       "562.23090            0.0            0.0  \n",
       "562.23301            0.0            0.0  \n",
       "562.22588            0.0            0.0  \n",
       "562.22859            0.0            0.0  \n",
       "\n",
       "[5 rows x 31748 columns]"
      ]
     },
     "execution_count": 88,
     "metadata": {},
     "output_type": "execute_result"
    }
   ],
   "source": [
    "df.head()"
   ]
  },
  {
   "cell_type": "code",
   "execution_count": 18,
   "metadata": {},
   "outputs": [],
   "source": [
    "def preprocessing(df, ris, abx):\n",
    "    y= ris[abx].dropna()\n",
    "    X = df.loc[y.index]\n",
    "    return(X, y)"
   ]
  },
  {
   "cell_type": "code",
   "execution_count": 60,
   "metadata": {},
   "outputs": [],
   "source": [
    "X, y = preprocessing(df, ris, 'tetracycline')"
   ]
  },
  {
   "cell_type": "code",
   "execution_count": 72,
   "metadata": {},
   "outputs": [],
   "source": [
    "from scipy.stats import chi2_contingency\n",
    "pvalues = [chi2_contingency(pd.crosstab(X[column], y))[1] for column in X.columns]"
   ]
  },
  {
   "cell_type": "code",
   "execution_count": 76,
   "metadata": {},
   "outputs": [],
   "source": [
    "from statsmodels.stats.multitest import multipletests\n",
    "tf, adjusted, Sidak, bonf = multipletests(pvalues, alpha=0.05, method='fdr_bh', is_sorted=False, returnsorted=False)"
   ]
  },
  {
   "cell_type": "code",
   "execution_count": 85,
   "metadata": {},
   "outputs": [
    {
     "data": {
      "text/plain": [
       "0.0016644926063814722"
      ]
     },
     "execution_count": 85,
     "metadata": {},
     "output_type": "execute_result"
    }
   ],
   "source": [
    "import numpy as np\n",
    "np.array(pvalues).min()"
   ]
  },
  {
   "cell_type": "code",
   "execution_count": 86,
   "metadata": {},
   "outputs": [
    {
     "data": {
      "text/plain": [
       "1.0"
      ]
     },
     "execution_count": 86,
     "metadata": {},
     "output_type": "execute_result"
    }
   ],
   "source": [
    "adjusted.min()"
   ]
  },
  {
   "cell_type": "code",
   "execution_count": null,
   "metadata": {},
   "outputs": [],
   "source": []
  }
 ],
 "metadata": {
  "kernelspec": {
   "display_name": "Python 3",
   "language": "python",
   "name": "python3"
  },
  "language_info": {
   "codemirror_mode": {
    "name": "ipython",
    "version": 3
   },
   "file_extension": ".py",
   "mimetype": "text/x-python",
   "name": "python",
   "nbconvert_exporter": "python",
   "pygments_lexer": "ipython3",
   "version": "3.6.7"
  }
 },
 "nbformat": 4,
 "nbformat_minor": 2
}
