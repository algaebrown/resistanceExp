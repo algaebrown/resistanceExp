{
 "cells": [
  {
   "cell_type": "code",
   "execution_count": 1,
   "metadata": {},
   "outputs": [],
   "source": [
    "# import\n",
    "import matplotlib as mpl\n",
    "import matplotlib.pyplot as plt\n",
    "import numpy as np\n",
    "import pandas as pd\n",
    "# set style\n",
    "mpl.style.use(\"seaborn-ticks\")\n",
    "\n",
    "# plot inline\n",
    "%matplotlib inline\n",
    "\n",
    "# pangenome profile\n",
    "# input: path to cdhit output, parsed file: abs_pattern, clus_detail\n",
    "def pangenome_profile(abs_pattern, identity):\n",
    "    \n",
    "    # load dataframe\n",
    "    cdhit_path = \"/home/hermuba/data0118/cdhit/clstr/pangenome_df/\"\n",
    "    df = pd.read_csv(cdhit_path + abs_pattern, header = 0, index_col = 0)\n",
    "    gene_no = df.shape[0]\n",
    "    genome_no = df.shape[1]\n",
    "    \n",
    "    # core genome, accessory genome\n",
    "    gene_count = df.sum(axis = 1)\n",
    "    core = gene_count.loc[gene_count == genome_no] \n",
    "    accessory = gene_count.loc[gene_count != genome_no]\n",
    "    unique = gene_count.loc[gene_count == 1]\n",
    "    print(len(core), len(accessory), len(unique), genome_no)\n",
    "    \n",
    "    return(gene_count)"
   ]
  },
  {
   "cell_type": "code",
   "execution_count": 2,
   "metadata": {},
   "outputs": [
    {
     "name": "stdout",
     "output_type": "stream",
     "text": [
      "0 31749 8613 1635\n"
     ]
    }
   ],
   "source": [
    "gene_count = pangenome_profile('Escherichia0.70.clstr.csv', '70')"
   ]
  },
  {
   "cell_type": "code",
   "execution_count": 3,
   "metadata": {},
   "outputs": [
    {
     "data": {
      "text/plain": [
       "1636.47"
      ]
     },
     "execution_count": 3,
     "metadata": {},
     "output_type": "execute_result"
    }
   ],
   "source": [
    "1653*0.99"
   ]
  },
  {
   "cell_type": "code",
   "execution_count": 4,
   "metadata": {},
   "outputs": [
    {
     "data": {
      "text/plain": [
       "<matplotlib.axes._subplots.AxesSubplot at 0x7f0c5843fe10>"
      ]
     },
     "execution_count": 4,
     "metadata": {},
     "output_type": "execute_result"
    },
    {
     "data": {
      "image/png": "[encoded data removed]",
      "text/plain": [
       "<Figure size 432x288 with 1 Axes>"
      ]
     },
     "metadata": {
      "needs_background": "light"
     },
     "output_type": "display_data"
    }
   ],
   "source": [
    "gene_count.plot(kind = 'hist', bins = 99)"
   ]
  },
  {
   "cell_type": "code",
   "execution_count": 5,
   "metadata": {},
   "outputs": [
    {
     "data": {
      "text/plain": [
       "1590.0"
      ]
     },
     "execution_count": 5,
     "metadata": {},
     "output_type": "execute_result"
    }
   ],
   "source": [
    "gene_count.max()"
   ]
  },
  {
   "cell_type": "code",
   "execution_count": 6,
   "metadata": {},
   "outputs": [
    {
     "data": {
      "text/plain": [
       "0.9724770642201835"
      ]
     },
     "execution_count": 6,
     "metadata": {},
     "output_type": "execute_result"
    }
   ],
   "source": [
    "1590/1635"
   ]
  },
  {
   "cell_type": "code",
   "execution_count": null,
   "metadata": {},
   "outputs": [],
   "source": []
  }
 ],
 "metadata": {
  "kernelspec": {
   "display_name": "Python 3",
   "language": "python",
   "name": "python3"
  },
  "language_info": {
   "codemirror_mode": {
    "name": "ipython",
    "version": 3
   },
   "file_extension": ".py",
   "mimetype": "text/x-python",
   "name": "python",
   "nbconvert_exporter": "python",
   "pygments_lexer": "ipython3",
   "version": "3.6.7"
  }
 },
 "nbformat": 4,
 "nbformat_minor": 2
}
