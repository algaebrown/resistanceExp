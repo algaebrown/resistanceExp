{
 "cells": [
  {
   "cell_type": "code",
   "execution_count": 1,
   "metadata": {
    "collapsed": false
   },
   "outputs": [
    {
     "name": "stderr",
     "output_type": "stream",
     "text": [
      "\n",
      "Attaching package: ‘gplots’\n",
      "\n",
      "The following object is masked from ‘package:stats’:\n",
      "\n",
      "    lowess\n",
      "\n"
     ]
    }
   ],
   "source": [
    "# require(xlsx)\n",
    "library(readxl)\n",
    "\n",
    "# require for plotting\n",
    "library(gplots)\n",
    "library(RColorBrewer)\n",
    "\n",
    "# read the file: cdhit pattern and ris data\n",
    "df <- read_excel(\"../../cdhitResult/cdhitPattern.xlsx\")\n",
    "ris <- read_excel(\"/home/hermuba/resistanceExp/data/anno_sps_df.xlsx\")\n",
    "# select all E.coli data\n",
    "ris = ris[ris$Species == 'Escherichia',]\n",
    "\n",
    "# change column name to avoid empty(index in python), and space\n",
    "colnames(ris)[1] = 'Cluster' #Cluster Number\n",
    "colnames(ris)[4] = 'Genome_ID' # Genome ID\n",
    "colnames(ris)[7] = 'ris' # Resistant Phenotype\n",
    "\n",
    "colnames(df)[1] = \"Genome_ID\""
   ]
  },
  {
   "cell_type": "code",
   "execution_count": 39,
   "metadata": {
    "collapsed": true
   },
   "outputs": [],
   "source": [
    "path = '/home/hermuba/resistanceExp/EcoliGenomes/figures/'"
   ]
  },
  {
   "cell_type": "code",
   "execution_count": 42,
   "metadata": {
    "collapsed": true
   },
   "outputs": [],
   "source": [
    "dendro <- function(drug){\n",
    "    pdf(paste(path, gsub('/','',drug), '.pdf', sep=''))\n",
    "    \n",
    "    selected_drug_ris = ris[ris$Antibiotic == drug,] # select drug ris\n",
    "    join_df <- merge(selected_drug_ris[,c('Genome_ID', 'ris')], df, by = \"Genome_ID\", all = FALSE) # merge with CD-hit pattern\n",
    "    join_df$ris <- factor(join_df$ris, levels = c(\"Susceptible\", \"Non-resistant\", \"Intermediate\", \"Non-susceptible\", \"Resistant\")) # tell S-I-R order\n",
    "    \n",
    "    matrix = data.matrix(join_df[,3:ncol(join_df)]) # convert to matrix to plot\n",
    "    \n",
    "    # select Resistance and color the label red\n",
    "    #initiate cols with all black\n",
    "    cols <- rep('black', nrow(matrix))\n",
    "    #turn red the specified rows in tf\n",
    "    cols[join_df[ ,c('ris')] == 'Resistant'] <- 'red'\n",
    "    \n",
    "    \n",
    "    # plotting\n",
    "    hmcol = colorRampPalette(brewer.pal(9, \"RdBu\"))(100)\n",
    "    h <- heatmap.2(matrix, labRow =join_df[,c('ris')], labCol = FALSE, colRow = cols,\n",
    "                   dendrogram = \"both\", Rowv = TRUE, Colv = TRUE, scale=\"none\", \n",
    "                   trace = \"none\", col = hmcol, breaks = seq(-3, 3, length.out = 101))                                                                                                                   \n",
    "    title(paste(\"Dendrogram of\", drug, sep = ' '),\n",
    "          xlab = 'CD-hit Cluster', ylab = 'Genome')\n",
    "    \n",
    "    # save to pdf\n",
    "    dev.off()\n",
    "}"
   ]
  },
  {
   "cell_type": "code",
   "execution_count": 43,
   "metadata": {
    "collapsed": false
   },
   "outputs": [
    {
     "data": {
      "text/html": [
       "<strong>png:</strong> 2"
      ],
      "text/latex": [
       "\\textbf{png:} 2"
      ],
      "text/markdown": [
       "**png:** 2"
      ],
      "text/plain": [
       "png \n",
       "  2 "
      ]
     },
     "metadata": {},
     "output_type": "display_data"
    }
   ],
   "source": [
    "dendro('cefepime')"
   ]
  },
  {
   "cell_type": "code",
   "execution_count": 46,
   "metadata": {
    "collapsed": false
   },
   "outputs": [],
   "source": [
    "drug = c('ceftazidime', 'ampicillin/sulbactam', 'cefazolin', 'ampicillin', 'trimethoprim/sulfamethoxazole','ciprofloxacin', 'gentamicin', 'meropenem')\n",
    "for(i in drug){\n",
    "    dendro(i)\n",
    "}"
   ]
  },
  {
   "cell_type": "code",
   "execution_count": null,
   "metadata": {
    "collapsed": true
   },
   "outputs": [],
   "source": []
  }
 ],
 "metadata": {
  "kernelspec": {
   "display_name": "R",
   "language": "R",
   "name": "ir"
  },
  "language_info": {
   "codemirror_mode": "r",
   "file_extension": ".r",
   "mimetype": "text/x-r-source",
   "name": "R",
   "pygments_lexer": "r",
   "version": "3.3.2"
  }
 },
 "nbformat": 4,
 "nbformat_minor": 2
}
