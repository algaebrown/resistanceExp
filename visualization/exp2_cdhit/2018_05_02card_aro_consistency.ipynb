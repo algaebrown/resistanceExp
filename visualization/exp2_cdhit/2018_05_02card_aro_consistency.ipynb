{
 "cells": [
  {
   "cell_type": "markdown",
   "metadata": {},
   "source": [
    "# Question:\n",
    "How does changing threshold of CD-HIT clustering affect intra-cluster ARO consistency?\n",
    "\n",
    "# Method:\n",
    "We have several sets of pangenome at different clustering threshold: 0.70, 0.80, 0.90, 0.95, 0.97. in `~/data0118/cdhit/clstr/SPECIES-THRESHOLD.clstr`, which is already parsed into `.clstr.tab`\n",
    "We have 100 E.coli genomes with CARD annotation parsed stored at `~/data/genePredicted/card_detail_df/GENOME_ID` in the format of dataframe.\n",
    "\n",
    "1. find all cluster members in `.clstr` in the format of `GENE_NAME|GENOME_ID`\n",
    "2. find the card annotation in `dataframe`\n",
    "3. "
   ]
  },
  {
   "cell_type": "code",
   "execution_count": 4,
   "metadata": {},
   "outputs": [],
   "source": [
    "import pandas as pd\n",
    "df = pd.read_csv(\"/home/hermuba/data0118/cdhit/clstr/cluster_detail/Escherichia0.95.clstr.tab\", sep = '\\t')"
   ]
  },
  {
   "cell_type": "code",
   "execution_count": 9,
   "metadata": {},
   "outputs": [
    {
     "data": {
      "text/html": [
       "<div>\n",
       "<style scoped>\n",
       "    .dataframe tbody tr th:only-of-type {\n",
       "        vertical-align: middle;\n",
       "    }\n",
       "\n",
       "    .dataframe tbody tr th {\n",
       "        vertical-align: top;\n",
       "    }\n",
       "\n",
       "    .dataframe thead th {\n",
       "        text-align: right;\n",
       "    }\n",
       "</style>\n",
       "<table border=\"1\" class=\"dataframe\">\n",
       "  <thead>\n",
       "    <tr style=\"text-align: right;\">\n",
       "      <th></th>\n",
       "      <th>Cluster</th>\n",
       "      <th>representing_gene</th>\n",
       "      <th>members</th>\n",
       "    </tr>\n",
       "  </thead>\n",
       "  <tbody>\n",
       "    <tr>\n",
       "      <th>0</th>\n",
       "      <td>Cluster 0</td>\n",
       "      <td>562.23904.con.0022_83|562.23904</td>\n",
       "      <td>,562.22520.con.0036_12|562.22520,562.22792.con...</td>\n",
       "    </tr>\n",
       "    <tr>\n",
       "      <th>1</th>\n",
       "      <td>Cluster 1</td>\n",
       "      <td>562.23473.con.0029_33|562.23473</td>\n",
       "      <td>,562.22913.con.0047_1|562.22913,562.22520.con....</td>\n",
       "    </tr>\n",
       "    <tr>\n",
       "      <th>2</th>\n",
       "      <td>Cluster 2</td>\n",
       "      <td>562.22879.con.0002_79|562.22879</td>\n",
       "      <td>,562.23497.con.0017_50|562.23497,562.23864.con...</td>\n",
       "    </tr>\n",
       "    <tr>\n",
       "      <th>3</th>\n",
       "      <td>Cluster 3</td>\n",
       "      <td>562.23616.con.0006_146|562.23616</td>\n",
       "      <td>,562.23616.con.0006_146|562.23616,562.23862.co...</td>\n",
       "    </tr>\n",
       "    <tr>\n",
       "      <th>4</th>\n",
       "      <td>Cluster 4</td>\n",
       "      <td>562.22913.con.0045_7|562.22913</td>\n",
       "      <td>,562.22913.con.0045_7|562.22913</td>\n",
       "    </tr>\n",
       "  </tbody>\n",
       "</table>\n",
       "</div>"
      ],
      "text/plain": [
       "     Cluster                 representing_gene  \\\n",
       "0  Cluster 0   562.23904.con.0022_83|562.23904   \n",
       "1  Cluster 1   562.23473.con.0029_33|562.23473   \n",
       "2  Cluster 2   562.22879.con.0002_79|562.22879   \n",
       "3  Cluster 3  562.23616.con.0006_146|562.23616   \n",
       "4  Cluster 4    562.22913.con.0045_7|562.22913   \n",
       "\n",
       "                                             members  \n",
       "0  ,562.22520.con.0036_12|562.22520,562.22792.con...  \n",
       "1  ,562.22913.con.0047_1|562.22913,562.22520.con....  \n",
       "2  ,562.23497.con.0017_50|562.23497,562.23864.con...  \n",
       "3  ,562.23616.con.0006_146|562.23616,562.23862.co...  \n",
       "4                    ,562.22913.con.0045_7|562.22913  "
      ]
     },
     "execution_count": 9,
     "metadata": {},
     "output_type": "execute_result"
    }
   ],
   "source": [
    "# just to show\n",
    "df.head()"
   ]
  },
  {
   "cell_type": "code",
   "execution_count": 10,
   "metadata": {},
   "outputs": [],
   "source": [
    "# randomly choose 100 genomes and run CARD for them\n",
    "import os\n",
    "mypath = '/home/hermuba/data0118/predicted_genes/card/'\n",
    "onlyfiles = [f for f in os.listdir(mypath) if os.path.isfile(os.path.join(mypath, f))]"
   ]
  },
  {
   "cell_type": "code",
   "execution_count": 2,
   "metadata": {},
   "outputs": [],
   "source": [
    "def split_genome(s):\n",
    "        return(s.split('|')[1])\n",
    "def extract_card_clus(filename):\n",
    "    \"\"\"\n",
    "    input: filename = SPECIES + THRESHOLD\n",
    "    output: df with representing genes with CARD annotations\n",
    "    \"\"\"\n",
    "    rep_with_card = pd.read_pickle(\"/home/hermuba/data0118/cdhit/card/\"+ filename+\"_df\").index\n",
    "    clus_detail = pd.read_csv(\"/home/hermuba/data0118/cdhit/clstr/cluster_detail/\" + filename + \".clstr.tab\", sep = '\\t')\n",
    "    combined_detail = clus_detail.loc[clus_detail['representing_gene'].isin(rep_with_card)]\n",
    "    combined_detail['rep_genome'] = combined_detail['representing_gene'].map(split_genome)\n",
    "    return(combined_detail)"
   ]
  },
  {
   "cell_type": "code",
   "execution_count": 11,
   "metadata": {},
   "outputs": [
    {
     "name": "stderr",
     "output_type": "stream",
     "text": [
      "/home/hermuba/miniconda3/lib/python3.6/site-packages/ipykernel_launcher.py:8: SettingWithCopyWarning: \n",
      "A value is trying to be set on a copy of a slice from a DataFrame.\n",
      "Try using .loc[row_indexer,col_indexer] = value instead\n",
      "\n",
      "See the caveats in the documentation: http://pandas.pydata.org/pandas-docs/stable/indexing.html#indexing-view-versus-copy\n",
      "  \n"
     ]
    },
    {
     "data": {
      "text/html": [
       "<div>\n",
       "<style scoped>\n",
       "    .dataframe tbody tr th:only-of-type {\n",
       "        vertical-align: middle;\n",
       "    }\n",
       "\n",
       "    .dataframe tbody tr th {\n",
       "        vertical-align: top;\n",
       "    }\n",
       "\n",
       "    .dataframe thead th {\n",
       "        text-align: right;\n",
       "    }\n",
       "</style>\n",
       "<table border=\"1\" class=\"dataframe\">\n",
       "  <thead>\n",
       "    <tr style=\"text-align: right;\">\n",
       "      <th></th>\n",
       "      <th>Cluster</th>\n",
       "      <th>representing_gene</th>\n",
       "      <th>members</th>\n",
       "      <th>rep_genome</th>\n",
       "    </tr>\n",
       "  </thead>\n",
       "  <tbody>\n",
       "    <tr>\n",
       "      <th>751</th>\n",
       "      <td>Cluster 751</td>\n",
       "      <td>JMUY01000001_298|1438670.3</td>\n",
       "      <td>,JMUY01000001_298|1438670.3,562.23090.con.0016...</td>\n",
       "      <td>1438670.3</td>\n",
       "    </tr>\n",
       "    <tr>\n",
       "      <th>969</th>\n",
       "      <td>Cluster 969</td>\n",
       "      <td>FLWH01000008_305|562.12962</td>\n",
       "      <td>,FLWH01000008_305|562.12962,FLXF01000002_43|56...</td>\n",
       "      <td>562.12962</td>\n",
       "    </tr>\n",
       "    <tr>\n",
       "      <th>970</th>\n",
       "      <td>Cluster 970</td>\n",
       "      <td>JMUY01000005_247|1438670.3</td>\n",
       "      <td>,JMUY01000005_247|1438670.3,562.23090.con.0003...</td>\n",
       "      <td>1438670.3</td>\n",
       "    </tr>\n",
       "    <tr>\n",
       "      <th>981</th>\n",
       "      <td>Cluster 981</td>\n",
       "      <td>562.22643.con.0016_59|562.22643</td>\n",
       "      <td>,JMUY01000002_89|1438670.3,562.23090.con.0011_...</td>\n",
       "      <td>562.22643</td>\n",
       "    </tr>\n",
       "    <tr>\n",
       "      <th>996</th>\n",
       "      <td>Cluster 996</td>\n",
       "      <td>562.23443.con.0013_1|562.23443</td>\n",
       "      <td>,JMUY01000003_339|1438670.3,562.23090.con.0015...</td>\n",
       "      <td>562.23443</td>\n",
       "    </tr>\n",
       "  </tbody>\n",
       "</table>\n",
       "</div>"
      ],
      "text/plain": [
       "         Cluster                representing_gene  \\\n",
       "751  Cluster 751       JMUY01000001_298|1438670.3   \n",
       "969  Cluster 969       FLWH01000008_305|562.12962   \n",
       "970  Cluster 970       JMUY01000005_247|1438670.3   \n",
       "981  Cluster 981  562.22643.con.0016_59|562.22643   \n",
       "996  Cluster 996   562.23443.con.0013_1|562.23443   \n",
       "\n",
       "                                               members rep_genome  \n",
       "751  ,JMUY01000001_298|1438670.3,562.23090.con.0016...  1438670.3  \n",
       "969  ,FLWH01000008_305|562.12962,FLXF01000002_43|56...  562.12962  \n",
       "970  ,JMUY01000005_247|1438670.3,562.23090.con.0003...  1438670.3  \n",
       "981  ,JMUY01000002_89|1438670.3,562.23090.con.0011_...  562.22643  \n",
       "996  ,JMUY01000003_339|1438670.3,562.23090.con.0015...  562.23443  "
      ]
     },
     "execution_count": 11,
     "metadata": {},
     "output_type": "execute_result"
    }
   ],
   "source": [
    "# just to show data\n",
    "d = extract_card_clus(\"Escherichia0.95\")\n",
    "d.head()"
   ]
  },
  {
   "cell_type": "code",
   "execution_count": 32,
   "metadata": {},
   "outputs": [],
   "source": [
    "def find_card(genome_id, gene_name):\n",
    "    \"\"\"\n",
    "    to get card annotation from file\n",
    "    input: genome id and gene name\n",
    "    output: card ARO\n",
    "    \"\"\"\n",
    "    card = pd.read_pickle(mypath + genome_id)\n",
    "    return(card.loc[gene_name, 'ARO_name'])\n",
    "def find_mem_card(df):\n",
    "    \"\"\"\n",
    "    find all aro (if exist) within a cluster, if the member belongs to the 100 genome\n",
    "    input: df with cluster id and its member\n",
    "    output: list of list \n",
    "    [Cluster_1_list, Cluster_2_list...]\n",
    "    Cluster_1_list = [ARO_for_member1, ARO_for_member2]\n",
    "    \"\"\"\n",
    "    clus_aros = []\n",
    "    for clus in df['members']:\n",
    "        clus_mem = clus.split(',')[1:]\n",
    "        all_aro = []\n",
    "        for mem in clus_mem:\n",
    "            gene_name = mem.split('|')[0]\n",
    "            genome_id = mem.split('|')[1]\n",
    "            if genome_id in onlyfiles:\n",
    "                \n",
    "                try: \n",
    "                    aro = find_card(genome_id, gene_name)\n",
    "                    all_aro.append(aro)\n",
    "                except KeyError:\n",
    "                    #print(gene_name, genome_id, 'card annotation not found')\n",
    "                    do_nothing = 0\n",
    "        clus_aros.append(all_aro)\n",
    "    return(clus_aros)\n",
    "def consistency(l):\n",
    "    df = pd.DataFrame(columns = ['members', 'no_members', 'cluster_size'])\n",
    "    for clus in l:\n",
    "        if len(clus)>0:\n",
    "            members = set(clus)\n",
    "            how_many_kind = len(members)\n",
    "            no_member = len(clus)\n",
    "            df.loc[clus[0]] = [members, how_many_kind, no_member]\n",
    "    return(df)\n",
    "    "
   ]
  },
  {
   "cell_type": "code",
   "execution_count": null,
   "metadata": {},
   "outputs": [],
   "source": [
    "# demo\n",
    "x = find_mem_card(d)\n",
    "df = consistency(x)"
   ]
  },
  {
   "cell_type": "code",
   "execution_count": 26,
   "metadata": {},
   "outputs": [
    {
     "data": {
      "text/html": [
       "<div>\n",
       "<style scoped>\n",
       "    .dataframe tbody tr th:only-of-type {\n",
       "        vertical-align: middle;\n",
       "    }\n",
       "\n",
       "    .dataframe tbody tr th {\n",
       "        vertical-align: top;\n",
       "    }\n",
       "\n",
       "    .dataframe thead th {\n",
       "        text-align: right;\n",
       "    }\n",
       "</style>\n",
       "<table border=\"1\" class=\"dataframe\">\n",
       "  <thead>\n",
       "    <tr style=\"text-align: right;\">\n",
       "      <th></th>\n",
       "      <th>members</th>\n",
       "      <th>no_members</th>\n",
       "      <th>cluster_size</th>\n",
       "    </tr>\n",
       "  </thead>\n",
       "  <tbody>\n",
       "    <tr>\n",
       "      <th>mfd</th>\n",
       "      <td>{mfd}</td>\n",
       "      <td>1</td>\n",
       "      <td>94</td>\n",
       "    </tr>\n",
       "    <tr>\n",
       "      <th>acrB</th>\n",
       "      <td>{acrB}</td>\n",
       "      <td>1</td>\n",
       "      <td>94</td>\n",
       "    </tr>\n",
       "    <tr>\n",
       "      <th>acrD</th>\n",
       "      <td>{acrD}</td>\n",
       "      <td>1</td>\n",
       "      <td>93</td>\n",
       "    </tr>\n",
       "    <tr>\n",
       "      <th>AcrF</th>\n",
       "      <td>{AcrF}</td>\n",
       "      <td>1</td>\n",
       "      <td>93</td>\n",
       "    </tr>\n",
       "    <tr>\n",
       "      <th>mdtB</th>\n",
       "      <td>{mdtB}</td>\n",
       "      <td>1</td>\n",
       "      <td>94</td>\n",
       "    </tr>\n",
       "  </tbody>\n",
       "</table>\n",
       "</div>"
      ],
      "text/plain": [
       "     members no_members cluster_size\n",
       "mfd    {mfd}          1           94\n",
       "acrB  {acrB}          1           94\n",
       "acrD  {acrD}          1           93\n",
       "AcrF  {AcrF}          1           93\n",
       "mdtB  {mdtB}          1           94"
      ]
     },
     "execution_count": 26,
     "metadata": {},
     "output_type": "execute_result"
    }
   ],
   "source": [
    "df.head()"
   ]
  },
  {
   "cell_type": "code",
   "execution_count": 29,
   "metadata": {},
   "outputs": [
    {
     "data": {
      "text/plain": [
       "<matplotlib.axes._subplots.AxesSubplot at 0x7fb74a0d7358>"
      ]
     },
     "execution_count": 29,
     "metadata": {},
     "output_type": "execute_result"
    },
    {
     "data": {
      "image/png": "[encoded data removed]",
      "text/plain": [
       "<matplotlib.figure.Figure at 0x7fb74a0e32e8>"
      ]
     },
     "metadata": {},
     "output_type": "display_data"
    }
   ],
   "source": [
    "%matplotlib inline\n",
    "df['no_members'].plot(kind = 'hist')"
   ]
  },
  {
   "cell_type": "code",
   "execution_count": 38,
   "metadata": {},
   "outputs": [
    {
     "name": "stderr",
     "output_type": "stream",
     "text": [
      "/home/hermuba/miniconda3/lib/python3.6/site-packages/ipykernel_launcher.py:8: SettingWithCopyWarning: \n",
      "A value is trying to be set on a copy of a slice from a DataFrame.\n",
      "Try using .loc[row_indexer,col_indexer] = value instead\n",
      "\n",
      "See the caveats in the documentation: http://pandas.pydata.org/pandas-docs/stable/indexing.html#indexing-view-versus-copy\n",
      "  \n"
     ]
    },
    {
     "data": {
      "image/png": "[encoded data removed]",
      "text/plain": [
       "<matplotlib.figure.Figure at 0x7fb74a0fc6d8>"
      ]
     },
     "metadata": {},
     "output_type": "display_data"
    }
   ],
   "source": [
    "thres = ['0.70', '0.80', '0.90', '0.95', '0.97']\n",
    "def run_all(thres):\n",
    "    card_member = find_mem_card(extract_card_clus(\"Escherichia\" + thres))\n",
    "    c = consistency(card_member)\n",
    "    return(c)\n",
    "for t in thres:\n",
    "    c = run_all(t)\n",
    "    c['no_members'].plot(kind = 'hist')\n",
    "    "
   ]
  },
  {
   "cell_type": "code",
   "execution_count": 37,
   "metadata": {},
   "outputs": [
    {
     "data": {
      "text/plain": [
       "<matplotlib.axes._subplots.AxesSubplot at 0x7fb7440c1860>"
      ]
     },
     "execution_count": 37,
     "metadata": {},
     "output_type": "execute_result"
    },
    {
     "data": {
      "image/png": "[encoded data removed]",
      "text/plain": [
       "<matplotlib.figure.Figure at 0x7fb73cdd8390>"
      ]
     },
     "metadata": {},
     "output_type": "display_data"
    }
   ],
   "source": [
    "c['no_members'].plot(kind = 'hist')"
   ]
  },
  {
   "cell_type": "code",
   "execution_count": 39,
   "metadata": {},
   "outputs": [
    {
     "name": "stderr",
     "output_type": "stream",
     "text": [
      "/home/hermuba/miniconda3/lib/python3.6/site-packages/ipykernel_launcher.py:8: SettingWithCopyWarning: \n",
      "A value is trying to be set on a copy of a slice from a DataFrame.\n",
      "Try using .loc[row_indexer,col_indexer] = value instead\n",
      "\n",
      "See the caveats in the documentation: http://pandas.pydata.org/pandas-docs/stable/indexing.html#indexing-view-versus-copy\n",
      "  \n"
     ]
    },
    {
     "data": {
      "text/plain": [
       "<matplotlib.axes._subplots.AxesSubplot at 0x7fb748822be0>"
      ]
     },
     "execution_count": 39,
     "metadata": {},
     "output_type": "execute_result"
    },
    {
     "data": {
      "image/png": "[encoded data removed]",
      "text/plain": [
       "<matplotlib.figure.Figure at 0x7fb74abb88d0>"
      ]
     },
     "metadata": {},
     "output_type": "display_data"
    }
   ],
   "source": [
    "c = run_all('0.95')\n",
    "c['no_members'].plot(kind = 'hist')"
   ]
  },
  {
   "cell_type": "code",
   "execution_count": 40,
   "metadata": {},
   "outputs": [
    {
     "name": "stderr",
     "output_type": "stream",
     "text": [
      "/home/hermuba/miniconda3/lib/python3.6/site-packages/ipykernel_launcher.py:8: SettingWithCopyWarning: \n",
      "A value is trying to be set on a copy of a slice from a DataFrame.\n",
      "Try using .loc[row_indexer,col_indexer] = value instead\n",
      "\n",
      "See the caveats in the documentation: http://pandas.pydata.org/pandas-docs/stable/indexing.html#indexing-view-versus-copy\n",
      "  \n"
     ]
    },
    {
     "data": {
      "text/plain": [
       "<matplotlib.axes._subplots.AxesSubplot at 0x7fb74877d358>"
      ]
     },
     "execution_count": 40,
     "metadata": {},
     "output_type": "execute_result"
    },
    {
     "data": {
      "image/png": "[encoded data removed]",
      "text/plain": [
       "<matplotlib.figure.Figure at 0x7fb7445fea58>"
      ]
     },
     "metadata": {},
     "output_type": "display_data"
    }
   ],
   "source": [
    "c = run_all('0.90')\n",
    "c['no_members'].plot(kind = 'hist')"
   ]
  },
  {
   "cell_type": "code",
   "execution_count": 41,
   "metadata": {},
   "outputs": [
    {
     "name": "stderr",
     "output_type": "stream",
     "text": [
      "/home/hermuba/miniconda3/lib/python3.6/site-packages/ipykernel_launcher.py:8: SettingWithCopyWarning: \n",
      "A value is trying to be set on a copy of a slice from a DataFrame.\n",
      "Try using .loc[row_indexer,col_indexer] = value instead\n",
      "\n",
      "See the caveats in the documentation: http://pandas.pydata.org/pandas-docs/stable/indexing.html#indexing-view-versus-copy\n",
      "  \n"
     ]
    },
    {
     "data": {
      "text/plain": [
       "<matplotlib.axes._subplots.AxesSubplot at 0x7fb73d3f2908>"
      ]
     },
     "execution_count": 41,
     "metadata": {},
     "output_type": "execute_result"
    },
    {
     "data": {
      "image/png": "[encoded data removed]",
      "text/plain": [
       "<matplotlib.figure.Figure at 0x7fb74a98fc50>"
      ]
     },
     "metadata": {},
     "output_type": "display_data"
    }
   ],
   "source": [
    "c = run_all('0.80')\n",
    "c['no_members'].plot(kind = 'hist')"
   ]
  },
  {
   "cell_type": "code",
   "execution_count": 42,
   "metadata": {},
   "outputs": [
    {
     "name": "stderr",
     "output_type": "stream",
     "text": [
      "/home/hermuba/miniconda3/lib/python3.6/site-packages/ipykernel_launcher.py:8: SettingWithCopyWarning: \n",
      "A value is trying to be set on a copy of a slice from a DataFrame.\n",
      "Try using .loc[row_indexer,col_indexer] = value instead\n",
      "\n",
      "See the caveats in the documentation: http://pandas.pydata.org/pandas-docs/stable/indexing.html#indexing-view-versus-copy\n",
      "  \n"
     ]
    },
    {
     "data": {
      "text/plain": [
       "<matplotlib.axes._subplots.AxesSubplot at 0x7fb73cdce9e8>"
      ]
     },
     "execution_count": 42,
     "metadata": {},
     "output_type": "execute_result"
    },
    {
     "data": {
      "image/png": "[encoded data removed]",
      "text/plain": [
       "<matplotlib.figure.Figure at 0x7fb748815b00>"
      ]
     },
     "metadata": {},
     "output_type": "display_data"
    }
   ],
   "source": [
    "c = run_all('0.70')\n",
    "c['no_members'].plot(kind = 'hist')"
   ]
  },
  {
   "cell_type": "code",
   "execution_count": null,
   "metadata": {},
   "outputs": [],
   "source": []
  }
 ],
 "metadata": {
  "kernelspec": {
   "display_name": "Python 3",
   "language": "python",
   "name": "python3"
  },
  "language_info": {
   "codemirror_mode": {
    "name": "ipython",
    "version": 3
   },
   "file_extension": ".py",
   "mimetype": "text/x-python",
   "name": "python",
   "nbconvert_exporter": "python",
   "pygments_lexer": "ipython3",
   "version": "3.6.5"
  }
 },
 "nbformat": 4,
 "nbformat_minor": 2
}
