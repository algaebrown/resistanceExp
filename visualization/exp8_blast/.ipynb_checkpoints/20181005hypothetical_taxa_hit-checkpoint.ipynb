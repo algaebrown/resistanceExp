{
 "cells": [
  {
   "cell_type": "code",
   "execution_count": 1,
   "metadata": {},
   "outputs": [],
   "source": [
    "import pandas as pd\n",
    "dmnd_df = pd.read_pickle(\"/home/hermuba/data0118/ecoli70_dmnd_df\")"
   ]
  },
  {
   "cell_type": "code",
   "execution_count": 2,
   "metadata": {},
   "outputs": [
    {
     "data": {
      "text/plain": [
       "(30745, 7)"
      ]
     },
     "execution_count": 2,
     "metadata": {},
     "output_type": "execute_result"
    }
   ],
   "source": [
    "dmnd_df.shape # all of them # only the ones with blastp nr hits; the total size of pangenome is 31749"
   ]
  },
  {
   "cell_type": "markdown",
   "metadata": {},
   "source": [
    "awk '/^>/{a++}END{print a}' Escherichia0.70\n",
    "31749\n",
    "\n",
    "pangenome size = 31749"
   ]
  },
  {
   "cell_type": "code",
   "execution_count": 3,
   "metadata": {},
   "outputs": [
    {
     "data": {
      "text/plain": [
       "30740"
      ]
     },
     "execution_count": 3,
     "metadata": {},
     "output_type": "execute_result"
    }
   ],
   "source": [
    "len(dmnd_df['qseqid'].unique()) # they are not unique"
   ]
  },
  {
   "cell_type": "code",
   "execution_count": 4,
   "metadata": {},
   "outputs": [
    {
     "data": {
      "text/html": [
       "<div>\n",
       "<style scoped>\n",
       "    .dataframe tbody tr th:only-of-type {\n",
       "        vertical-align: middle;\n",
       "    }\n",
       "\n",
       "    .dataframe tbody tr th {\n",
       "        vertical-align: top;\n",
       "    }\n",
       "\n",
       "    .dataframe thead th {\n",
       "        text-align: right;\n",
       "    }\n",
       "</style>\n",
       "<table border=\"1\" class=\"dataframe\">\n",
       "  <thead>\n",
       "    <tr style=\"text-align: right;\">\n",
       "      <th></th>\n",
       "      <th>qseqid</th>\n",
       "      <th>sseqid</th>\n",
       "      <th>evalue</th>\n",
       "      <th>bitscore</th>\n",
       "      <th>staxids</th>\n",
       "      <th>stitle</th>\n",
       "      <th>sseq</th>\n",
       "    </tr>\n",
       "  </thead>\n",
       "  <tbody>\n",
       "    <tr>\n",
       "      <th>10711</th>\n",
       "      <td>562.22478.con.0010_4|562.22478</td>\n",
       "      <td>EFP71293.1</td>\n",
       "      <td>3.100000e-10</td>\n",
       "      <td>76.3</td>\n",
       "      <td>622;754093;1401259;1401327</td>\n",
       "      <td>EFP71293.1 protein TolA [Shigella dysenteriae ...</td>\n",
       "      <td>MSKAIEQNDKLKRAIIISAVLHVILFAALIWSSFDENIEA</td>\n",
       "    </tr>\n",
       "    <tr>\n",
       "      <th>20837</th>\n",
       "      <td>562.22696.con.0027_5|562.22696</td>\n",
       "      <td>WP_096002614.1</td>\n",
       "      <td>2.400000e-33</td>\n",
       "      <td>151.4</td>\n",
       "      <td>562</td>\n",
       "      <td>WP_096002614.1 two-component system sensor his...</td>\n",
       "      <td>LEAGDNRTFHQCIHRIHGAANILNLQKLINISHQLEITPVSDDSKP...</td>\n",
       "    </tr>\n",
       "    <tr>\n",
       "      <th>20927</th>\n",
       "      <td>562.23330.con.0047_28|562.23330</td>\n",
       "      <td>WP_001064247.1</td>\n",
       "      <td>9.200000e-54</td>\n",
       "      <td>219.9</td>\n",
       "      <td>287;543;562;624;405955;656402;656423;981367;12...</td>\n",
       "      <td>WP_001064247.1 MULTISPECIES: type IV secretion...</td>\n",
       "      <td>YPDQFLPLQRDMIGKFGAAKDQWFSSFLLQVENHSSWHRLFVDPLS...</td>\n",
       "    </tr>\n",
       "    <tr>\n",
       "      <th>29701</th>\n",
       "      <td>562.22917.con.0034_22|562.22917</td>\n",
       "      <td>WP_054623864.1</td>\n",
       "      <td>6.300000e-25</td>\n",
       "      <td>123.2</td>\n",
       "      <td>28141</td>\n",
       "      <td>WP_054623864.1 type II toxin-antitoxin system ...</td>\n",
       "      <td>IRRRHWLRQGELAGLSAAQVNDMIDALTASAPAVIARVADALPVDF...</td>\n",
       "    </tr>\n",
       "    <tr>\n",
       "      <th>30743</th>\n",
       "      <td>JAPI01000011_22|1328444.3</td>\n",
       "      <td>WP_015344956.1</td>\n",
       "      <td>1.800000e-10</td>\n",
       "      <td>77.4</td>\n",
       "      <td>543;562;573</td>\n",
       "      <td>WP_015344956.1 MULTISPECIES: hypothetical prot...</td>\n",
       "      <td>MGGFPHGTGARQGGRIPTRHRRPARWADSHTAPAPG</td>\n",
       "    </tr>\n",
       "  </tbody>\n",
       "</table>\n",
       "</div>"
      ],
      "text/plain": [
       "                                qseqid          sseqid        evalue  \\\n",
       "10711   562.22478.con.0010_4|562.22478      EFP71293.1  3.100000e-10   \n",
       "20837   562.22696.con.0027_5|562.22696  WP_096002614.1  2.400000e-33   \n",
       "20927  562.23330.con.0047_28|562.23330  WP_001064247.1  9.200000e-54   \n",
       "29701  562.22917.con.0034_22|562.22917  WP_054623864.1  6.300000e-25   \n",
       "30743        JAPI01000011_22|1328444.3  WP_015344956.1  1.800000e-10   \n",
       "\n",
       "       bitscore                                            staxids  \\\n",
       "10711      76.3                         622;754093;1401259;1401327   \n",
       "20837     151.4                                                562   \n",
       "20927     219.9  287;543;562;624;405955;656402;656423;981367;12...   \n",
       "29701     123.2                                              28141   \n",
       "30743      77.4                                        543;562;573   \n",
       "\n",
       "                                                  stitle  \\\n",
       "10711  EFP71293.1 protein TolA [Shigella dysenteriae ...   \n",
       "20837  WP_096002614.1 two-component system sensor his...   \n",
       "20927  WP_001064247.1 MULTISPECIES: type IV secretion...   \n",
       "29701  WP_054623864.1 type II toxin-antitoxin system ...   \n",
       "30743  WP_015344956.1 MULTISPECIES: hypothetical prot...   \n",
       "\n",
       "                                                    sseq  \n",
       "10711           MSKAIEQNDKLKRAIIISAVLHVILFAALIWSSFDENIEA  \n",
       "20837  LEAGDNRTFHQCIHRIHGAANILNLQKLINISHQLEITPVSDDSKP...  \n",
       "20927  YPDQFLPLQRDMIGKFGAAKDQWFSSFLLQVENHSSWHRLFVDPLS...  \n",
       "29701  IRRRHWLRQGELAGLSAAQVNDMIDALTASAPAVIARVADALPVDF...  \n",
       "30743               MGGFPHGTGARQGGRIPTRHRRPARWADSHTAPAPG  "
      ]
     },
     "execution_count": 4,
     "metadata": {},
     "output_type": "execute_result"
    }
   ],
   "source": [
    "dmnd_df.loc[dmnd_df.duplicated(subset = 'qseqid')]\n",
    "# some has duplicated hits;"
   ]
  },
  {
   "cell_type": "code",
   "execution_count": 5,
   "metadata": {},
   "outputs": [
    {
     "data": {
      "text/html": [
       "<div>\n",
       "<style scoped>\n",
       "    .dataframe tbody tr th:only-of-type {\n",
       "        vertical-align: middle;\n",
       "    }\n",
       "\n",
       "    .dataframe tbody tr th {\n",
       "        vertical-align: top;\n",
       "    }\n",
       "\n",
       "    .dataframe thead th {\n",
       "        text-align: right;\n",
       "    }\n",
       "</style>\n",
       "<table border=\"1\" class=\"dataframe\">\n",
       "  <thead>\n",
       "    <tr style=\"text-align: right;\">\n",
       "      <th></th>\n",
       "      <th>qseqid</th>\n",
       "      <th>sseqid</th>\n",
       "      <th>evalue</th>\n",
       "      <th>bitscore</th>\n",
       "      <th>staxids</th>\n",
       "      <th>stitle</th>\n",
       "      <th>sseq</th>\n",
       "    </tr>\n",
       "  </thead>\n",
       "  <tbody>\n",
       "    <tr>\n",
       "      <th>0</th>\n",
       "      <td>JMUY01000001_1|1438670.3</td>\n",
       "      <td>ERO89779.1</td>\n",
       "      <td>2.900000e-13</td>\n",
       "      <td>82.8</td>\n",
       "      <td>562;1269001;1328433;1328435;1438668;1438670;14...</td>\n",
       "      <td>ERO89779.1 hypothetical protein L411_01206 [Es...</td>\n",
       "      <td>MVLAIFQLVPKMSMHLHSDKQVILLMVIHPLDGIGIVVHITP</td>\n",
       "    </tr>\n",
       "    <tr>\n",
       "      <th>1</th>\n",
       "      <td>JMUY01000001_3|1438670.3</td>\n",
       "      <td>WP_000972134.1</td>\n",
       "      <td>1.900000e-95</td>\n",
       "      <td>357.8</td>\n",
       "      <td>543;562;573;299766;941280;941322;1033813;11826...</td>\n",
       "      <td>WP_000972134.1 MULTISPECIES: tail fiber assemb...</td>\n",
       "      <td>MMHLKNITAGNPKTKEQYQLTKQFNIKWLYSADGKNWYEEQKNFQP...</td>\n",
       "    </tr>\n",
       "    <tr>\n",
       "      <th>2</th>\n",
       "      <td>JMUY01000001_5|1438670.3</td>\n",
       "      <td>WP_032140708.1</td>\n",
       "      <td>0.000000e+00</td>\n",
       "      <td>1243.8</td>\n",
       "      <td>562;941280;1328433;1438668;1438670;1438671;143...</td>\n",
       "      <td>WP_032140708.1 phage tail protein [Escherichia...</td>\n",
       "      <td>MSTTTRKFKTVITDTGAKKLAQAAAPDGKPVRLTHMAVGDGGGTLP...</td>\n",
       "    </tr>\n",
       "    <tr>\n",
       "      <th>3</th>\n",
       "      <td>JMUY01000001_8|1438670.3</td>\n",
       "      <td>WP_000213444.1</td>\n",
       "      <td>3.600000e-58</td>\n",
       "      <td>233.4</td>\n",
       "      <td>543;562;573;165302;656403;656447;670897;868133...</td>\n",
       "      <td>WP_000213444.1 MULTISPECIES: baseplate assembl...</td>\n",
       "      <td>MTTRYTGMNPDGTGNLNDMEHLKQSVRDILITPLASRVMRREYGSL...</td>\n",
       "    </tr>\n",
       "    <tr>\n",
       "      <th>4</th>\n",
       "      <td>JMUY01000001_10|1438670.3</td>\n",
       "      <td>EHX98065.1</td>\n",
       "      <td>5.900000e-115</td>\n",
       "      <td>422.9</td>\n",
       "      <td>562;868206;868209;868210;941280;941322;1182656...</td>\n",
       "      <td>EHX98065.1 phage virion morphogenesis protein ...</td>\n",
       "      <td>MKAMDKAFTRVDETFEAIRDSLNQQAINNIARKLAQDLRRAQQARI...</td>\n",
       "    </tr>\n",
       "  </tbody>\n",
       "</table>\n",
       "</div>"
      ],
      "text/plain": [
       "                      qseqid          sseqid         evalue  bitscore  \\\n",
       "0   JMUY01000001_1|1438670.3      ERO89779.1   2.900000e-13      82.8   \n",
       "1   JMUY01000001_3|1438670.3  WP_000972134.1   1.900000e-95     357.8   \n",
       "2   JMUY01000001_5|1438670.3  WP_032140708.1   0.000000e+00    1243.8   \n",
       "3   JMUY01000001_8|1438670.3  WP_000213444.1   3.600000e-58     233.4   \n",
       "4  JMUY01000001_10|1438670.3      EHX98065.1  5.900000e-115     422.9   \n",
       "\n",
       "                                             staxids  \\\n",
       "0  562;1269001;1328433;1328435;1438668;1438670;14...   \n",
       "1  543;562;573;299766;941280;941322;1033813;11826...   \n",
       "2  562;941280;1328433;1438668;1438670;1438671;143...   \n",
       "3  543;562;573;165302;656403;656447;670897;868133...   \n",
       "4  562;868206;868209;868210;941280;941322;1182656...   \n",
       "\n",
       "                                              stitle  \\\n",
       "0  ERO89779.1 hypothetical protein L411_01206 [Es...   \n",
       "1  WP_000972134.1 MULTISPECIES: tail fiber assemb...   \n",
       "2  WP_032140708.1 phage tail protein [Escherichia...   \n",
       "3  WP_000213444.1 MULTISPECIES: baseplate assembl...   \n",
       "4  EHX98065.1 phage virion morphogenesis protein ...   \n",
       "\n",
       "                                                sseq  \n",
       "0         MVLAIFQLVPKMSMHLHSDKQVILLMVIHPLDGIGIVVHITP  \n",
       "1  MMHLKNITAGNPKTKEQYQLTKQFNIKWLYSADGKNWYEEQKNFQP...  \n",
       "2  MSTTTRKFKTVITDTGAKKLAQAAAPDGKPVRLTHMAVGDGGGTLP...  \n",
       "3  MTTRYTGMNPDGTGNLNDMEHLKQSVRDILITPLASRVMRREYGSL...  \n",
       "4  MKAMDKAFTRVDETFEAIRDSLNQQAINNIARKLAQDLRRAQQARI...  "
      ]
     },
     "execution_count": 5,
     "metadata": {},
     "output_type": "execute_result"
    }
   ],
   "source": [
    "dmnd_df.head()"
   ]
  },
  {
   "cell_type": "markdown",
   "metadata": {},
   "source": [
    "# We want to know 'staxid'.\n",
    "- purpose: to find the target genomes sets for hypothetical gene inference by co-inheritance\n",
    "- steps:\n",
    "1. find out hypothetical\n",
    "2. join their staxid"
   ]
  },
  {
   "cell_type": "code",
   "execution_count": 6,
   "metadata": {},
   "outputs": [
    {
     "data": {
      "text/plain": [
       "(14242, 7)"
      ]
     },
     "execution_count": 6,
     "metadata": {},
     "output_type": "execute_result"
    }
   ],
   "source": [
    "hypo = dmnd_df.loc[dmnd_df['stitle'].str.contains('hypothetical') | dmnd_df['stitle'].str.contains('ncharacter') | dmnd_df['stitle'].str.contains('unknown')]\n",
    "hypo.shape"
   ]
  },
  {
   "cell_type": "code",
   "execution_count": 7,
   "metadata": {},
   "outputs": [
    {
     "data": {
      "text/html": [
       "<div>\n",
       "<style scoped>\n",
       "    .dataframe tbody tr th:only-of-type {\n",
       "        vertical-align: middle;\n",
       "    }\n",
       "\n",
       "    .dataframe tbody tr th {\n",
       "        vertical-align: top;\n",
       "    }\n",
       "\n",
       "    .dataframe thead th {\n",
       "        text-align: right;\n",
       "    }\n",
       "</style>\n",
       "<table border=\"1\" class=\"dataframe\">\n",
       "  <thead>\n",
       "    <tr style=\"text-align: right;\">\n",
       "      <th></th>\n",
       "      <th>qseqid</th>\n",
       "      <th>sseqid</th>\n",
       "      <th>evalue</th>\n",
       "      <th>bitscore</th>\n",
       "      <th>staxids</th>\n",
       "      <th>stitle</th>\n",
       "      <th>sseq</th>\n",
       "    </tr>\n",
       "  </thead>\n",
       "  <tbody>\n",
       "    <tr>\n",
       "      <th>0</th>\n",
       "      <td>JMUY01000001_1|1438670.3</td>\n",
       "      <td>ERO89779.1</td>\n",
       "      <td>2.900000e-13</td>\n",
       "      <td>82.8</td>\n",
       "      <td>562;1269001;1328433;1328435;1438668;1438670;14...</td>\n",
       "      <td>ERO89779.1 hypothetical protein L411_01206 [Es...</td>\n",
       "      <td>MVLAIFQLVPKMSMHLHSDKQVILLMVIHPLDGIGIVVHITP</td>\n",
       "    </tr>\n",
       "    <tr>\n",
       "      <th>11</th>\n",
       "      <td>JMUY01000001_23|1438670.3</td>\n",
       "      <td>WP_000236495.1</td>\n",
       "      <td>8.000000e-94</td>\n",
       "      <td>352.4</td>\n",
       "      <td>543;562;573;595;28901;299766;868155;868159;869...</td>\n",
       "      <td>WP_000236495.1 MULTISPECIES: hypothetical prot...</td>\n",
       "      <td>MVINYKQLREKREQVKESFRRNEDLTPLVRLAQGIVDAYEISLELP...</td>\n",
       "    </tr>\n",
       "    <tr>\n",
       "      <th>13</th>\n",
       "      <td>JMUY01000001_25|1438670.3</td>\n",
       "      <td>WP_000193205.1</td>\n",
       "      <td>8.200000e-149</td>\n",
       "      <td>535.8</td>\n",
       "      <td>543;562;573;90370;868194;869679;941280;941322;...</td>\n",
       "      <td>WP_000193205.1 MULTISPECIES: hypothetical prot...</td>\n",
       "      <td>MTQNPFSFYDFLGYLIPGGLFLFILFLFSIEINPVYIEGILNHILK...</td>\n",
       "    </tr>\n",
       "    <tr>\n",
       "      <th>16</th>\n",
       "      <td>JMUY01000001_29|1438670.3</td>\n",
       "      <td>WP_022645046.1</td>\n",
       "      <td>3.600000e-61</td>\n",
       "      <td>243.4</td>\n",
       "      <td>562;1328433;1328435;1328446;1328447;1438668;14...</td>\n",
       "      <td>WP_022645046.1 hypothetical protein [Escherich...</td>\n",
       "      <td>MILANDFLEYLLNTERDLAARVRDLYDMYLKSLPVPQLADGKIVID...</td>\n",
       "    </tr>\n",
       "    <tr>\n",
       "      <th>17</th>\n",
       "      <td>JMUY01000001_30|1438670.3</td>\n",
       "      <td>WP_000013455.1</td>\n",
       "      <td>2.500000e-31</td>\n",
       "      <td>143.7</td>\n",
       "      <td>543;562;573;299766;670890;868191;868194;869679...</td>\n",
       "      <td>WP_000013455.1 MULTISPECIES: hypothetical prot...</td>\n",
       "      <td>MANRKQHRAIAERRHIQTEINRRLSRASRVAQIMHINMLHERSHAL...</td>\n",
       "    </tr>\n",
       "  </tbody>\n",
       "</table>\n",
       "</div>"
      ],
      "text/plain": [
       "                       qseqid          sseqid         evalue  bitscore  \\\n",
       "0    JMUY01000001_1|1438670.3      ERO89779.1   2.900000e-13      82.8   \n",
       "11  JMUY01000001_23|1438670.3  WP_000236495.1   8.000000e-94     352.4   \n",
       "13  JMUY01000001_25|1438670.3  WP_000193205.1  8.200000e-149     535.8   \n",
       "16  JMUY01000001_29|1438670.3  WP_022645046.1   3.600000e-61     243.4   \n",
       "17  JMUY01000001_30|1438670.3  WP_000013455.1   2.500000e-31     143.7   \n",
       "\n",
       "                                              staxids  \\\n",
       "0   562;1269001;1328433;1328435;1438668;1438670;14...   \n",
       "11  543;562;573;595;28901;299766;868155;868159;869...   \n",
       "13  543;562;573;90370;868194;869679;941280;941322;...   \n",
       "16  562;1328433;1328435;1328446;1328447;1438668;14...   \n",
       "17  543;562;573;299766;670890;868191;868194;869679...   \n",
       "\n",
       "                                               stitle  \\\n",
       "0   ERO89779.1 hypothetical protein L411_01206 [Es...   \n",
       "11  WP_000236495.1 MULTISPECIES: hypothetical prot...   \n",
       "13  WP_000193205.1 MULTISPECIES: hypothetical prot...   \n",
       "16  WP_022645046.1 hypothetical protein [Escherich...   \n",
       "17  WP_000013455.1 MULTISPECIES: hypothetical prot...   \n",
       "\n",
       "                                                 sseq  \n",
       "0          MVLAIFQLVPKMSMHLHSDKQVILLMVIHPLDGIGIVVHITP  \n",
       "11  MVINYKQLREKREQVKESFRRNEDLTPLVRLAQGIVDAYEISLELP...  \n",
       "13  MTQNPFSFYDFLGYLIPGGLFLFILFLFSIEINPVYIEGILNHILK...  \n",
       "16  MILANDFLEYLLNTERDLAARVRDLYDMYLKSLPVPQLADGKIVID...  \n",
       "17  MANRKQHRAIAERRHIQTEINRRLSRASRVAQIMHINMLHERSHAL...  "
      ]
     },
     "execution_count": 7,
     "metadata": {},
     "output_type": "execute_result"
    }
   ],
   "source": [
    "hypo.head()"
   ]
  },
  {
   "cell_type": "code",
   "execution_count": 8,
   "metadata": {},
   "outputs": [],
   "source": [
    "import numpy as np\n",
    "def parse_taxis(string):\n",
    "    return(string.split(';'))\n",
    "def extract_taxid_set(df):\n",
    "    ultimate_set = pd.Series()\n",
    "    for i in df.index:\n",
    "        if type(df.loc[i, 'staxids']) == str:\n",
    "            taxid_set = parse_taxis(df.loc[i, 'staxids'])\n",
    "            for tax in taxid_set:\n",
    "                if tax in ultimate_set.index:\n",
    "                    ultimate_set[tax] = ultimate_set[tax] + 1\n",
    "                else:\n",
    "                    ultimate_set[tax] = 1\n",
    "    return(ultimate_set)\n",
    "def longest_taxid_set(df):\n",
    "    ultimate_set = pd.Series()\n",
    "    for i in df.index:\n",
    "        if type(df.loc[i, 'staxids']) == str:\n",
    "            taxid_set = parse_taxis(df.loc[i, 'staxids'])\n",
    "            \n",
    "            # return the longest taxid\n",
    "            length = np.array([len(t) for t in taxid_set])\n",
    "            tax = taxid_set[np.argmax(length)]\n",
    "            \n",
    "            \n",
    "            if tax in ultimate_set.index:\n",
    "                ultimate_set[tax] = ultimate_set[tax] + 1\n",
    "            else:\n",
    "                ultimate_set[tax] = 1\n",
    "    return(ultimate_set)"
   ]
  },
  {
   "cell_type": "code",
   "execution_count": 9,
   "metadata": {},
   "outputs": [],
   "source": [
    "specific_s = longest_taxid_set(hypo)"
   ]
  },
  {
   "cell_type": "code",
   "execution_count": 10,
   "metadata": {},
   "outputs": [
    {
     "data": {
      "text/plain": [
       "562        2494\n",
       "543         260\n",
       "1134687     156\n",
       "1033813     143\n",
       "573         128\n",
       "1203544     104\n",
       "624         102\n",
       "1177180     100\n",
       "1001991      98\n",
       "561          88\n",
       "1010817      78\n",
       "1280986      71\n",
       "1001989      63\n",
       "1169336      62\n",
       "550          61\n",
       "1169338      61\n",
       "1169327      61\n",
       "1001988      59\n",
       "1169317      59\n",
       "1069495      58\n",
       "1169364      56\n",
       "1169339      56\n",
       "28901        55\n",
       "1127356      55\n",
       "72407        54\n",
       "1181777      54\n",
       "1181732      52\n",
       "1038927      50\n",
       "1169330      49\n",
       "1169315      46\n",
       "           ... \n",
       "1281022       1\n",
       "170623        1\n",
       "1165942       1\n",
       "1310592       1\n",
       "470934        1\n",
       "1288347       1\n",
       "1379688       1\n",
       "1028307       1\n",
       "667127        1\n",
       "1409963       1\n",
       "710974        1\n",
       "1609975       1\n",
       "1124925       1\n",
       "1438676       1\n",
       "1116101       1\n",
       "1124953       1\n",
       "754093        1\n",
       "1381121       1\n",
       "1331198       1\n",
       "58712         1\n",
       "1005561       1\n",
       "1316582       1\n",
       "1438783       1\n",
       "1379689       1\n",
       "1281255       1\n",
       "1328385       1\n",
       "1281163       1\n",
       "1400167       1\n",
       "1400173       1\n",
       "1328444       1\n",
       "Length: 1884, dtype: int64"
      ]
     },
     "execution_count": 10,
     "metadata": {},
     "output_type": "execute_result"
    }
   ],
   "source": [
    "specific_s.sort_values(ascending = False) # changed a lot"
   ]
  },
  {
   "cell_type": "code",
   "execution_count": 11,
   "metadata": {},
   "outputs": [],
   "source": [
    "s= extract_taxid_set(hypo) # each taxid and the times of appearance"
   ]
  },
  {
   "cell_type": "code",
   "execution_count": 12,
   "metadata": {},
   "outputs": [
    {
     "data": {
      "text/plain": [
       "562        10609\n",
       "543         3053\n",
       "573         2138\n",
       "624         1677\n",
       "550         1174\n",
       "72407        901\n",
       "571          818\n",
       "546          703\n",
       "28901        656\n",
       "561          554\n",
       "90371        547\n",
       "59201        529\n",
       "621          528\n",
       "91347        527\n",
       "301102       436\n",
       "1463165      433\n",
       "299766       417\n",
       "548          410\n",
       "90370        368\n",
       "158836       355\n",
       "208224       354\n",
       "1328435      344\n",
       "1328433      343\n",
       "623          340\n",
       "1438670      338\n",
       "1438668      337\n",
       "1438672      331\n",
       "1328446      330\n",
       "1328447      330\n",
       "941322       316\n",
       "           ...  \n",
       "1183155        1\n",
       "575564         1\n",
       "558688         1\n",
       "106648         1\n",
       "2033511        1\n",
       "1813773        1\n",
       "1934252        1\n",
       "1454644        1\n",
       "1454640        1\n",
       "1454630        1\n",
       "204042         1\n",
       "1242093        1\n",
       "81409          1\n",
       "477184         1\n",
       "1324339        1\n",
       "1324340        1\n",
       "120164         1\n",
       "1446701        1\n",
       "1387331        1\n",
       "569            1\n",
       "1387345        1\n",
       "1387333        1\n",
       "488142         1\n",
       "296            1\n",
       "1387339        1\n",
       "108980         1\n",
       "707232         1\n",
       "981327         1\n",
       "1217669        1\n",
       "1219359        1\n",
       "Length: 4640, dtype: int64"
      ]
     },
     "execution_count": 12,
     "metadata": {},
     "output_type": "execute_result"
    }
   ],
   "source": [
    "s.sort_values(ascending = False)"
   ]
  },
  {
   "cell_type": "code",
   "execution_count": 13,
   "metadata": {},
   "outputs": [
    {
     "data": {
      "text/plain": [
       "<matplotlib.axes._subplots.AxesSubplot at 0x7fdb715495f8>"
      ]
     },
     "execution_count": 13,
     "metadata": {},
     "output_type": "execute_result"
    },
    {
     "data": {
      "image/png": "[encoded data removed]",
      "text/plain": [
       "<Figure size 432x288 with 1 Axes>"
      ]
     },
     "metadata": {},
     "output_type": "display_data"
    }
   ],
   "source": [
    "%matplotlib inline\n",
    "import matplotlib.pyplot as plt\n",
    "plt.style.use('seaborn-white')\n",
    "s.sort_values(ascending = False)[:100].plot(kind = 'bar')"
   ]
  },
  {
   "cell_type": "code",
   "execution_count": 14,
   "metadata": {},
   "outputs": [],
   "source": [
    "with open(\"/home/hermuba/data0118/hypothetical_dmnd_hit_taxa\", 'a') as f:\n",
    "    for i in s.sort_values(ascending = False).index:\n",
    "        f.write(i+'\\n')"
   ]
  },
  {
   "cell_type": "code",
   "execution_count": 15,
   "metadata": {},
   "outputs": [],
   "source": [
    "taxon_df = pd.DataFrame(index = s.index, columns = ['kingdom', 'phylum', 'class', 'order', 'family','genus', 'species','strain'])"
   ]
  },
  {
   "cell_type": "code",
   "execution_count": 16,
   "metadata": {},
   "outputs": [],
   "source": [
    "# find the taxonomy naming \n",
    "taxon_list = '/nas/ncbi_download/taxon.list'\n",
    "\n",
    "with open(taxon_list) as f:\n",
    "    for line in f:\n",
    "        taxid = line.split('\\t')[0]\n",
    "        if taxid in taxon_df.index:\n",
    "            line.replace('\\n', '')\n",
    "            tx = line.split('\\t')[1:]\n",
    "            if len(tx) < 8:\n",
    "                tx.append(['']*(8-len(tx)))\n",
    "                \n",
    "            taxon_df.loc[taxid] = tx\n",
    "            "
   ]
  },
  {
   "cell_type": "code",
   "execution_count": 17,
   "metadata": {},
   "outputs": [],
   "source": [
    "taxon_df['count'] = s"
   ]
  },
  {
   "cell_type": "code",
   "execution_count": 18,
   "metadata": {},
   "outputs": [],
   "source": [
    "taxon_df['specific count'] = specific_s"
   ]
  },
  {
   "cell_type": "code",
   "execution_count": 19,
   "metadata": {},
   "outputs": [],
   "source": [
    "\n",
    "taxon_df.to_pickle('/home/hermuba/data0118/hypothetical_taxon')"
   ]
  },
  {
   "cell_type": "markdown",
   "metadata": {},
   "source": [
    "We have a lot of Enterobacteriae, Acinetobacter in our hypothetical....\n",
    "refer to ~data0118/taxa_report.txt for full report"
   ]
  },
  {
   "cell_type": "code",
   "execution_count": 20,
   "metadata": {},
   "outputs": [
    {
     "data": {
      "text/html": [
       "<div>\n",
       "<style scoped>\n",
       "    .dataframe tbody tr th:only-of-type {\n",
       "        vertical-align: middle;\n",
       "    }\n",
       "\n",
       "    .dataframe tbody tr th {\n",
       "        vertical-align: top;\n",
       "    }\n",
       "\n",
       "    .dataframe thead th {\n",
       "        text-align: right;\n",
       "    }\n",
       "</style>\n",
       "<table border=\"1\" class=\"dataframe\">\n",
       "  <thead>\n",
       "    <tr style=\"text-align: right;\">\n",
       "      <th></th>\n",
       "      <th>kingdom</th>\n",
       "      <th>phylum</th>\n",
       "      <th>class</th>\n",
       "      <th>order</th>\n",
       "      <th>family</th>\n",
       "      <th>genus</th>\n",
       "      <th>species</th>\n",
       "      <th>strain</th>\n",
       "      <th>count</th>\n",
       "      <th>specific count</th>\n",
       "    </tr>\n",
       "  </thead>\n",
       "  <tbody>\n",
       "    <tr>\n",
       "      <th>562</th>\n",
       "      <td>Bacteria</td>\n",
       "      <td>Proteobacteria</td>\n",
       "      <td>Gammaproteobacteria</td>\n",
       "      <td>Enterobacterales</td>\n",
       "      <td>Enterobacteriaceae</td>\n",
       "      <td>Escherichia</td>\n",
       "      <td>Escherichia coli</td>\n",
       "      <td>Escherichia coli\\n</td>\n",
       "      <td>10609</td>\n",
       "      <td>2494.0</td>\n",
       "    </tr>\n",
       "    <tr>\n",
       "      <th>1269001</th>\n",
       "      <td>Bacteria</td>\n",
       "      <td>Proteobacteria</td>\n",
       "      <td>Gammaproteobacteria</td>\n",
       "      <td>Enterobacterales</td>\n",
       "      <td>Enterobacteriaceae</td>\n",
       "      <td>Escherichia</td>\n",
       "      <td>Escherichia coli</td>\n",
       "      <td>Escherichia coli 908624\\n</td>\n",
       "      <td>197</td>\n",
       "      <td>2.0</td>\n",
       "    </tr>\n",
       "    <tr>\n",
       "      <th>1328433</th>\n",
       "      <td>Bacteria</td>\n",
       "      <td>Proteobacteria</td>\n",
       "      <td>Gammaproteobacteria</td>\n",
       "      <td>Enterobacterales</td>\n",
       "      <td>Enterobacteriaceae</td>\n",
       "      <td>Escherichia</td>\n",
       "      <td>Escherichia coli</td>\n",
       "      <td>Escherichia coli BWH 34\\n</td>\n",
       "      <td>343</td>\n",
       "      <td>39.0</td>\n",
       "    </tr>\n",
       "    <tr>\n",
       "      <th>1328435</th>\n",
       "      <td>Bacteria</td>\n",
       "      <td>Proteobacteria</td>\n",
       "      <td>Gammaproteobacteria</td>\n",
       "      <td>Enterobacterales</td>\n",
       "      <td>Enterobacteriaceae</td>\n",
       "      <td>Escherichia</td>\n",
       "      <td>Escherichia coli</td>\n",
       "      <td>Escherichia coli BWH 24\\n</td>\n",
       "      <td>344</td>\n",
       "      <td>NaN</td>\n",
       "    </tr>\n",
       "    <tr>\n",
       "      <th>1438668</th>\n",
       "      <td>Bacteria</td>\n",
       "      <td>Proteobacteria</td>\n",
       "      <td>Gammaproteobacteria</td>\n",
       "      <td>Enterobacterales</td>\n",
       "      <td>Enterobacteriaceae</td>\n",
       "      <td>Escherichia</td>\n",
       "      <td>Escherichia coli</td>\n",
       "      <td>Escherichia coli BIDMC 58\\n</td>\n",
       "      <td>337</td>\n",
       "      <td>1.0</td>\n",
       "    </tr>\n",
       "  </tbody>\n",
       "</table>\n",
       "</div>"
      ],
      "text/plain": [
       "          kingdom          phylum                class             order  \\\n",
       "562      Bacteria  Proteobacteria  Gammaproteobacteria  Enterobacterales   \n",
       "1269001  Bacteria  Proteobacteria  Gammaproteobacteria  Enterobacterales   \n",
       "1328433  Bacteria  Proteobacteria  Gammaproteobacteria  Enterobacterales   \n",
       "1328435  Bacteria  Proteobacteria  Gammaproteobacteria  Enterobacterales   \n",
       "1438668  Bacteria  Proteobacteria  Gammaproteobacteria  Enterobacterales   \n",
       "\n",
       "                     family        genus           species  \\\n",
       "562      Enterobacteriaceae  Escherichia  Escherichia coli   \n",
       "1269001  Enterobacteriaceae  Escherichia  Escherichia coli   \n",
       "1328433  Enterobacteriaceae  Escherichia  Escherichia coli   \n",
       "1328435  Enterobacteriaceae  Escherichia  Escherichia coli   \n",
       "1438668  Enterobacteriaceae  Escherichia  Escherichia coli   \n",
       "\n",
       "                              strain  count  specific count  \n",
       "562               Escherichia coli\\n  10609          2494.0  \n",
       "1269001    Escherichia coli 908624\\n    197             2.0  \n",
       "1328433    Escherichia coli BWH 34\\n    343            39.0  \n",
       "1328435    Escherichia coli BWH 24\\n    344             NaN  \n",
       "1438668  Escherichia coli BIDMC 58\\n    337             1.0  "
      ]
     },
     "execution_count": 20,
     "metadata": {},
     "output_type": "execute_result"
    }
   ],
   "source": [
    "taxon_df.head()"
   ]
  },
  {
   "cell_type": "code",
   "execution_count": 21,
   "metadata": {},
   "outputs": [
    {
     "data": {
      "text/plain": [
       "phylum\n",
       "                     699\n",
       "Actinobacteria        19\n",
       "Apicomplexa            1\n",
       "Arthropoda             1\n",
       "Ascomycota             1\n",
       "Chlamydiae             5\n",
       "Chlorophyta            1\n",
       "Chordata               2\n",
       "Cnidaria               1\n",
       "Firmicutes           198\n",
       "Proteobacteria    234985\n",
       "Name: count, dtype: int64"
      ]
     },
     "execution_count": 21,
     "metadata": {},
     "output_type": "execute_result"
    }
   ],
   "source": [
    "taxon_df.groupby(by = 'phylum')['count'].sum()"
   ]
  },
  {
   "cell_type": "code",
   "execution_count": 22,
   "metadata": {},
   "outputs": [
    {
     "data": {
      "text/plain": [
       "class\n",
       "                          809\n",
       "Aconoidasida                1\n",
       "Actinobacteria             19\n",
       "Alphaproteobacteria        23\n",
       "Bacilli                   196\n",
       "Betaproteobacteria        299\n",
       "Chlamydiia                  5\n",
       "Chlorophyceae               1\n",
       "Clostridia                  2\n",
       "Deltaproteobacteria         1\n",
       "Eurotiomycetes              1\n",
       "Gammaproteobacteria    234552\n",
       "Insecta                     1\n",
       "Mammalia                    2\n",
       "Myxozoa                     1\n",
       "Name: count, dtype: int64"
      ]
     },
     "execution_count": 22,
     "metadata": {},
     "output_type": "execute_result"
    }
   ],
   "source": [
    "taxon_df.groupby(by = 'class')['count'].sum()"
   ]
  },
  {
   "cell_type": "code",
   "execution_count": 34,
   "metadata": {},
   "outputs": [
    {
     "data": {
      "text/plain": [
       "<matplotlib.axes._subplots.AxesSubplot at 0x7fdb6dd12940>"
      ]
     },
     "execution_count": 34,
     "metadata": {},
     "output_type": "execute_result"
    },
    {
     "data": {
      "image/png": "[encoded data removed]",
      "text/plain": [
       "<Figure size 1080x432 with 2 Axes>"
      ]
     },
     "metadata": {
      "needs_background": "light"
     },
     "output_type": "display_data"
    }
   ],
   "source": [
    "\n",
    "taxon_df.loc[taxon_df['class'] == 'Gammaproteobacteria'].groupby(by = 'family')['count'].sum().sort_values().plot(kind = 'bar', logy = True, )\n",
    "taxon_df.loc[taxon_df['family'] == 'Enterobacteriaceae'].groupby(by = 'genus')['count'].sum().sort_values().plot(kind = 'bar', logy = True, ax=axes[1])"
   ]
  },
  {
   "cell_type": "code",
   "execution_count": 39,
   "metadata": {},
   "outputs": [
    {
     "data": {
      "image/png": "[encoded data removed]",
      "text/plain": [
       "<Figure size 1080x360 with 2 Axes>"
      ]
     },
     "metadata": {
      "needs_background": "light"
     },
     "output_type": "display_data"
    }
   ],
   "source": [
    "fig, axes = plt.subplots(nrows=1, ncols=2, figsize = (15,5))\n",
    "\n",
    "family_count = taxon_df.loc[taxon_df['class'] == 'Gammaproteobacteria'].groupby(by = 'family')['specific count'].sum()\n",
    "family_count = family_count.loc[family_count.index != ''].loc[family_count > 0]\n",
    "family_count.sort_values().plot(kind = 'bar', logy = True, ax=axes[0], color = 'grey')\n",
    "axes[0].set_ylabel('No. hypothetical gene homologs')\n",
    "\n",
    "genus_count = taxon_df.loc[taxon_df['family'] == 'Enterobacteriaceae'].groupby(by = 'genus')['specific count'].sum()\n",
    "genus_count = family_count.loc[family_count.index != ''].loc[family_count > 0]\n",
    "family_count.sort_values().plot(kind = 'bar', logy = True, ax=axes[1], color = 'grey')\n",
    "\n",
    "plt.savefig('/home/hermuba/data0118/fig/hypo_taxa.pdf', dpi = 300, format = 'pdf', bbox_inches='tight')"
   ]
  },
  {
   "cell_type": "code",
   "execution_count": 27,
   "metadata": {},
   "outputs": [
    {
     "data": {
      "text/plain": [
       "Text(0, 0.5, 'No. hypothetical genes')"
      ]
     },
     "execution_count": 27,
     "metadata": {},
     "output_type": "execute_result"
    },
    {
     "data": {
      "image/png": "[encoded data removed]",
      "text/plain": [
       "<Figure size 576x360 with 1 Axes>"
      ]
     },
     "metadata": {
      "needs_background": "light"
     },
     "output_type": "display_data"
    }
   ],
   "source": [
    "\n",
    "ax.set_ylabel('No. hypothetical genes')"
   ]
  },
  {
   "cell_type": "code",
   "execution_count": null,
   "metadata": {},
   "outputs": [],
   "source": []
  }
 ],
 "metadata": {
  "kernelspec": {
   "display_name": "Python 3",
   "language": "python",
   "name": "python3"
  },
  "language_info": {
   "codemirror_mode": {
    "name": "ipython",
    "version": 3
   },
   "file_extension": ".py",
   "mimetype": "text/x-python",
   "name": "python",
   "nbconvert_exporter": "python",
   "pygments_lexer": "ipython3",
   "version": "3.6.7"
  }
 },
 "nbformat": 4,
 "nbformat_minor": 2
}
