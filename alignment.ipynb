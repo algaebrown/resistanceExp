{
 "cells": [
  {
   "cell_type": "markdown",
   "metadata": {},
   "source": [
    "# Just an exercise on alignment"
   ]
  },
  {
   "cell_type": "code",
   "execution_count": 91,
   "metadata": {
    "collapsed": false
   },
   "outputs": [],
   "source": [
    "# alignment\n",
    "import numpy as np\n",
    "\n",
    "seq1 = 'ATAAACAAT'\n",
    "seq2 = 'ATACATAT'\n",
    "\n",
    "#def align(seq1, seq2):\n",
    "ma =  np.zeros((len(seq1)+1,len(seq2)+1))\n",
    "path = np.zeros((len(seq1),len(seq2)))\n",
    "\n",
    "for j in range(len(seq2)):\n",
    "    for i in range(len(seq1)):\n",
    "        if seq1[i] == seq2[j]:\n",
    "            ma[i+1,j+1] += 2\n",
    "            \n",
    "        scorelist = np.ones([3]) * ma[i+1, j+1] + np.array([ma[i,j]-1,ma[i, j+1]-2,ma[i+1,j]-2]) # no gap, gap down, gap right\n",
    "        ma[i+1, j+1] =scorelist.max()\n",
    "        path[i,j] = np.argmax(scorelist)\n",
    "        \n",
    "\n",
    "\n"
   ]
  },
  {
   "cell_type": "code",
   "execution_count": 88,
   "metadata": {
    "collapsed": false
   },
   "outputs": [
    {
     "data": {
      "text/plain": [
       "array([[ 0.,  0.,  0.,  0.,  0.,  0.,  0.,  0.,  0.],\n",
       "       [ 0.,  0.,  2.,  0.,  1.,  0.,  0.,  1.,  0.],\n",
       "       [ 0.,  1.,  0.,  2.,  0.,  2.,  0.,  0.,  1.],\n",
       "       [ 0.,  0.,  1.,  0.,  0.,  0.,  0.,  1.,  0.],\n",
       "       [ 0.,  0.,  1.,  0.,  0.,  0.,  0.,  1.,  0.],\n",
       "       [ 0.,  0.,  1.,  0.,  2.,  0.,  2.,  2.,  0.],\n",
       "       [ 0.,  2.,  0.,  1.,  0.,  2.,  0.,  0.,  2.],\n",
       "       [ 0.,  0.,  1.,  0.,  1.,  0.,  0.,  0.,  0.],\n",
       "       [ 0.,  0.,  2.,  0.,  1.,  0.,  0.,  2.,  0.]])"
      ]
     },
     "execution_count": 88,
     "metadata": {},
     "output_type": "execute_result"
    }
   ],
   "source": [
    "path"
   ]
  },
  {
   "cell_type": "code",
   "execution_count": 89,
   "metadata": {
    "collapsed": false
   },
   "outputs": [
    {
     "data": {
      "text/plain": [
       "array([[ 0.,  0.,  0.,  0.,  0.,  0.,  0.,  0.,  0.,  0.],\n",
       "       [ 0.,  1., -1.,  1., -1.,  1., -1., -1.,  1., -1.],\n",
       "       [ 0., -1.,  2.,  0.,  0., -1.,  0.,  0., -1.,  2.],\n",
       "       [ 0.,  1.,  0.,  3.,  1.,  1., -1., -1.,  1.,  0.],\n",
       "       [ 0.,  1.,  0.,  3.,  2.,  2.,  0., -2.,  1.,  0.],\n",
       "       [ 0.,  1.,  0.,  3.,  2.,  3.,  1., -1.,  1.,  0.],\n",
       "       [ 0., -1.,  0.,  1.,  4.,  2.,  4.,  2.,  0.,  0.],\n",
       "       [ 0.,  1., -1.,  1.,  2.,  5.,  3.,  3.,  3.,  1.],\n",
       "       [ 0.,  1.,  0.,  1.,  0.,  5.,  4.,  2.,  4.,  2.],\n",
       "       [ 0., -1.,  2.,  0.,  0.,  3.,  4.,  5.,  3.,  5.]])"
      ]
     },
     "execution_count": 89,
     "metadata": {},
     "output_type": "execute_result"
    }
   ],
   "source": [
    "ma"
   ]
  },
  {
   "cell_type": "code",
   "execution_count": 94,
   "metadata": {
    "collapsed": false
   },
   "outputs": [
    {
     "name": "stdout",
     "output_type": "stream",
     "text": [
      "8 7\n",
      "7 6\n",
      "7 5\n",
      "6 4\n",
      "5 3\n",
      "4 3\n",
      "3 3\n",
      "2 2\n",
      "1 1\n",
      "0 0\n",
      "here comes the result: \n",
      "ATAAACA-AT\n",
      "ATA--CACAT\n"
     ]
    }
   ],
   "source": [
    "# show result\n",
    "i = len(seq1)\n",
    "j = len(seq2)\n",
    "show1=''\n",
    "show2=''\n",
    "while (i > 0) and (j >0):\n",
    "    if path[i-1, j-1] == 0:\n",
    "        show1= seq1[i-1] + show1\n",
    "        show2= seq2[j-1] + show2\n",
    "        i = i-1\n",
    "        j = j-1\n",
    "    elif path[i-1, j-1] == 1:\n",
    "        show1= seq1[i-1] + show1\n",
    "        show2= '-' + show2\n",
    "        i = i-1\n",
    "    elif path[i-1, j-1] == 2:\n",
    "        show2= seq1[j-1] + show2\n",
    "        show1= '-' + show1\n",
    "        j = j-1\n",
    "    print(i,j)\n",
    "\n",
    "if i > 0:\n",
    "    show1 = seq1[0:i] + show1\n",
    "    show2 = '-'*i + show2\n",
    "print(\"here comes the result: \\n\" + show1 + '\\n'+ show2)"
   ]
  }
 ],
 "metadata": {
  "anaconda-cloud": {},
  "kernelspec": {
   "display_name": "Python 3",
   "language": "python",
   "name": "python3"
  },
  "language_info": {
   "codemirror_mode": {
    "name": "ipython",
    "version": 3
   },
   "file_extension": ".py",
   "mimetype": "text/x-python",
   "name": "python",
   "nbconvert_exporter": "python",
   "pygments_lexer": "ipython3",
   "version": "3.6.0"
  }
 },
 "nbformat": 4,
 "nbformat_minor": 0
}
