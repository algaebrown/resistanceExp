{
 "cells": [
  {
   "cell_type": "code",
   "execution_count": 2,
   "metadata": {
    "collapsed": false
   },
   "outputs": [],
   "source": [
    "import pandas as pd\n",
    "import numpy as np\n",
    "import matplotlib.pyplot as plt\n",
    "from sklearn import svm\n",
    "from sklearn.model_selection import cross_val_predict\n",
    "from sklearn.model_selection import train_test_split\n",
    "from sklearn.model_selection import GridSearchCV\n",
    "from sklearn.model_selection import learning_curve\n",
    "from sklearn.model_selection import StratifiedKFold\n",
    "\n"
   ]
  },
  {
   "cell_type": "code",
   "execution_count": 3,
   "metadata": {
    "collapsed": false
   },
   "outputs": [],
   "source": [
    "# read dataframe\n",
    "combined = pd.read_pickle('../combined')"
   ]
  },
  {
   "cell_type": "markdown",
   "metadata": {},
   "source": [
    "# Train a SVM model "
   ]
  },
  {
   "cell_type": "code",
   "execution_count": 26,
   "metadata": {
    "collapsed": false
   },
   "outputs": [],
   "source": [
    "# remove NaN in output antibiotics\n",
    "def noNullAntibiotics(antibiotics):\n",
    "    df = combined.loc[pd.isnull(combined[antibiotics + '_ris']) == 0]\n",
    "    return df\n",
    "\n",
    "# plot_learning_curve from sklearn examples\n",
    "def plot_learning_curve(estimator, title, X, y, ylim=None, cv=None,\n",
    "                        n_jobs=1, train_sizes=np.linspace(.1, 1.0, 5)):\n",
    "    \"\"\"\n",
    "    Generate a simple plot of the test and training learning curve.\n",
    "\n",
    "    Parameters\n",
    "    ----------\n",
    "    estimator : object type that implements the \"fit\" and \"predict\" methods\n",
    "        An object of that type which is cloned for each validation.\n",
    "\n",
    "    title : string\n",
    "        Title for the chart.\n",
    "\n",
    "    X : array-like, shape (n_samples, n_features)\n",
    "        Training vector, where n_samples is the number of samples and\n",
    "        n_features is the number of features.\n",
    "\n",
    "    y : array-like, shape (n_samples) or (n_samples, n_features), optional\n",
    "        Target relative to X for classification or regression;\n",
    "        None for unsupervised learning.\n",
    "\n",
    "    ylim : tuple, shape (ymin, ymax), optional\n",
    "        Defines minimum and maximum yvalues plotted.\n",
    "\n",
    "    cv : int, cross-validation generator or an iterable, optional\n",
    "        Determines the cross-validation splitting strategy.\n",
    "        Possible inputs for cv are:\n",
    "          - None, to use the default 3-fold cross-validation,\n",
    "          - integer, to specify the number of folds.\n",
    "          - An object to be used as a cross-validation generator.\n",
    "          - An iterable yielding train/test splits.\n",
    "\n",
    "        For integer/None inputs, if ``y`` is binary or multiclass,\n",
    "        :class:`StratifiedKFold` used. If the estimator is not a classifier\n",
    "        or if ``y`` is neither binary nor multiclass, :class:`KFold` is used.\n",
    "\n",
    "        Refer :ref:`User Guide <cross_validation>` for the various\n",
    "        cross-validators that can be used here.\n",
    "\n",
    "    n_jobs : integer, optional\n",
    "        Number of jobs to run in parallel (default 1).\n",
    "    \"\"\"\n",
    "    plt.figure()\n",
    "    plt.title(title)\n",
    "    if ylim is not None:\n",
    "        plt.ylim(*ylim)\n",
    "    plt.xlabel(\"Training examples\")\n",
    "    plt.ylabel(\"Score\")\n",
    "    train_sizes, train_scores, test_scores = learning_curve(estimator, X, y, cv=cv, n_jobs=n_jobs, train_sizes=train_sizes)\n",
    "    train_scores_mean = np.mean(train_scores, axis=1)\n",
    "    train_scores_std = np.std(train_scores, axis=1)\n",
    "    test_scores_mean = np.mean(test_scores, axis=1)\n",
    "    test_scores_std = np.std(test_scores, axis=1)\n",
    "    plt.grid()\n",
    "\n",
    "    plt.fill_between(train_sizes, train_scores_mean - train_scores_std,\n",
    "                     train_scores_mean + train_scores_std, alpha=0.1,\n",
    "                     color=\"r\")\n",
    "    plt.fill_between(train_sizes, test_scores_mean - test_scores_std,\n",
    "                     test_scores_mean + test_scores_std, alpha=0.1, color=\"g\")\n",
    "    plt.plot(train_sizes, train_scores_mean, 'o-', color=\"r\",\n",
    "             label=\"Training score\")\n",
    "    plt.plot(train_sizes, test_scores_mean, 'o-', color=\"g\",\n",
    "             label=\"Cross-validation score\")\n",
    "\n",
    "    plt.legend(loc=\"best\")\n",
    "    #return plt\n",
    "\n",
    "# a simple svm\n",
    "def trainSVM(df, antibiotics):\n",
    "    # split test, train\n",
    "    X_train, X_test, y_train, y_test = train_test_split(df.iloc[:, :406], df[antibiotics + '_ris'], test_size=0.8, random_state=0)\n",
    "    \n",
    "    # choose estimator (our model)\n",
    "    clf = svm.SVC(kernel='linear', C=1).fit(X_train, y_train)\n",
    "    # cross validation\n",
    "    skf = StratifiedKFold(n_splits=3, random_state=None, shuffle=False)\n",
    "    cv = skf.split(X_train, y_train)\n",
    "   \n",
    "    # tune hyperparameters\n",
    "    gammas = np.logspace(-6, -1, 10)\n",
    "    tuned_parameters = [{'kernel': ['rbf'], 'gamma': gammas,\n",
    "                     'C': [1, 10, 100, 1000]},\n",
    "                    {'kernel': ['linear'], 'C': [1, 10, 100, 1000]}]\n",
    "    classifier = GridSearchCV(estimator=clf, cv=cv, param_grid=tuned_parameters)\n",
    "    classifier.fit(X_train.values, np.asarray(y_train))\n",
    "    \n",
    "    # print rankings\n",
    "    rankDf = pd.DataFrame.from_dict(classifier.cv_results_)\n",
    "    rankDf = rankDf.sort_values('rank_test_score')\n",
    "    print(rankDf.head())\n",
    "    \n",
    "    # plot learning curve\n",
    "    title = antibiotics +' Learning Curves ' \n",
    "    estimator = svm.SVC(kernel='linear', gamma=classifier.best_estimator_.gamma) #put the best parameters in\n",
    "    plot_learning_curve(estimator, title, X_train.values, np.asarray(y_train), cv=skf)\n",
    "    plt.show()\n",
    "    # final evaluation with out test set: default: accuracy\n",
    "    print('best params:', classifier.best_params_, 'best scorer', classifier.scorer_, 'best gamma', classifier.best_estimator_.gamma)\n",
    "    print('classifier score', classifier.score(X_test, y_test))\n",
    "    \n",
    "\n",
    "# combine everything\n",
    "def antiToSVM(antibiotics):\n",
    "    df = noNullAntibiotics(antibiotics)\n",
    "    trainSVM(df, antibiotics)\n",
    "    "
   ]
  },
  {
   "cell_type": "code",
   "execution_count": 27,
   "metadata": {
    "collapsed": false
   },
   "outputs": [
    {
     "name": "stderr",
     "output_type": "stream",
     "text": [
      "/home/hermuba/anaconda3/lib/python3.6/site-packages/sklearn/model_selection/_split.py:581: Warning: The least populated class in y has only 1 members, which is too few. The minimum number of groups for any class cannot be less than n_splits=3.\n",
      "  % (min_groups, self.n_splits)), Warning)\n"
     ]
    },
    {
     "name": "stdout",
     "output_type": "stream",
     "text": [
      "    mean_fit_time  mean_score_time  mean_test_score  mean_train_score param_C  \\\n",
      "43       0.000892         0.000412         0.924528          0.981467    1000   \n",
      "36       0.001007         0.000417         0.924528          0.981467    1000   \n",
      "37       0.000974         0.000420         0.924528          0.981467    1000   \n",
      "42       0.000967         0.000493         0.924528          0.981467     100   \n",
      "41       0.000891         0.000399         0.924528          0.981467      10   \n",
      "\n",
      "   param_gamma param_kernel  \\\n",
      "43         NaN       linear   \n",
      "36  0.00215443          rbf   \n",
      "37  0.00774264          rbf   \n",
      "42         NaN       linear   \n",
      "41         NaN       linear   \n",
      "\n",
      "                                               params  rank_test_score  \\\n",
      "43                    {'C': 1000, 'kernel': 'linear'}                1   \n",
      "36  {'C': 1000, 'gamma': 0.00215443469003, 'kernel...                1   \n",
      "37  {'C': 1000, 'gamma': 0.00774263682681, 'kernel...                1   \n",
      "42                     {'C': 100, 'kernel': 'linear'}                1   \n",
      "41                      {'C': 10, 'kernel': 'linear'}                1   \n",
      "\n",
      "    split0_test_score  split0_train_score  split1_test_score  \\\n",
      "43           0.842105                 1.0                1.0   \n",
      "36           0.842105                 1.0                1.0   \n",
      "37           0.842105                 1.0                1.0   \n",
      "42           0.842105                 1.0                1.0   \n",
      "41           0.842105                 1.0                1.0   \n",
      "\n",
      "    split1_train_score  split2_test_score  split2_train_score  std_fit_time  \\\n",
      "43            0.971429             0.9375            0.972973      0.000131   \n",
      "36            0.971429             0.9375            0.972973      0.000072   \n",
      "37            0.971429             0.9375            0.972973      0.000084   \n",
      "42            0.971429             0.9375            0.972973      0.000104   \n",
      "41            0.971429             0.9375            0.972973      0.000185   \n",
      "\n",
      "    std_score_time  std_test_score  std_train_score  \n",
      "43        0.000041        0.066488          0.01312  \n",
      "36        0.000025        0.066488          0.01312  \n",
      "37        0.000020        0.066488          0.01312  \n",
      "42        0.000113        0.066488          0.01312  \n",
      "41        0.000033        0.066488          0.01312  \n"
     ]
    },
    {
     "name": "stderr",
     "output_type": "stream",
     "text": [
      "/home/hermuba/anaconda3/lib/python3.6/site-packages/sklearn/model_selection/_split.py:581: Warning: The least populated class in y has only 1 members, which is too few. The minimum number of groups for any class cannot be less than n_splits=3.\n",
      "  % (min_groups, self.n_splits)), Warning)\n"
     ]
    },
    {
     "data": {
      "image/png": "[encoded data removed]",
      "text/plain": [
       "<matplotlib.figure.Figure at 0x7fab3f8e7160>"
      ]
     },
     "metadata": {},
     "output_type": "display_data"
    },
    {
     "name": "stdout",
     "output_type": "stream",
     "text": [
      "best params: {'C': 1000, 'gamma': 0.0021544346900318843, 'kernel': 'rbf'} best scorer <function _passthrough_scorer at 0x7fab40cdc840> best gamma 0.00215443469003\n",
      "classifier score 0.874418604651\n"
     ]
    }
   ],
   "source": [
    "antiToSVM('imipenem')"
   ]
  },
  {
   "cell_type": "code",
   "execution_count": 10,
   "metadata": {
    "collapsed": false
   },
   "outputs": [
    {
     "data": {
      "text/plain": [
       "R     149\n",
       "S     114\n",
       "I       5\n",
       "Name: imipenem_ris, dtype: int64"
      ]
     },
     "execution_count": 10,
     "metadata": {},
     "output_type": "execute_result"
    }
   ],
   "source": [
    "combined['imipenem_ris'].value_counts()"
   ]
  },
  {
   "cell_type": "code",
   "execution_count": 11,
   "metadata": {
    "collapsed": false
   },
   "outputs": [
    {
     "data": {
      "image/png": "[encoded data removed]",
      "text/plain": [
       "<matplotlib.figure.Figure at 0x7f16b309ed68>"
      ]
     },
     "metadata": {},
     "output_type": "display_data"
    },
    {
     "name": "stdout",
     "output_type": "stream",
     "text": [
      "classifier score 0.926605504587\n"
     ]
    }
   ],
   "source": [
    "antiToSVM('ceftazidime')"
   ]
  },
  {
   "cell_type": "code",
   "execution_count": 12,
   "metadata": {
    "collapsed": false
   },
   "outputs": [
    {
     "name": "stderr",
     "output_type": "stream",
     "text": [
      "/home/hermuba/anaconda3/lib/python3.6/site-packages/sklearn/model_selection/_split.py:581: Warning: The least populated class in y has only 1 members, which is too few. The minimum number of groups for any class cannot be less than n_splits=3.\n",
      "  % (min_groups, self.n_splits)), Warning)\n",
      "/home/hermuba/anaconda3/lib/python3.6/site-packages/sklearn/model_selection/_split.py:581: Warning: The least populated class in y has only 1 members, which is too few. The minimum number of groups for any class cannot be less than n_splits=3.\n",
      "  % (min_groups, self.n_splits)), Warning)\n"
     ]
    },
    {
     "data": {
      "image/png": "[encoded data removed]",
      "text/plain": [
       "<matplotlib.figure.Figure at 0x7f16b2f9add8>"
      ]
     },
     "metadata": {},
     "output_type": "display_data"
    },
    {
     "name": "stdout",
     "output_type": "stream",
     "text": [
      "classifier score 0.916666666667\n"
     ]
    }
   ],
   "source": [
    "antiToSVM('levofloxacin')"
   ]
  },
  {
   "cell_type": "code",
   "execution_count": null,
   "metadata": {
    "collapsed": false
   },
   "outputs": [],
   "source": [
    "combined['levofloxacin_ris'].value_counts()"
   ]
  },
  {
   "cell_type": "code",
   "execution_count": null,
   "metadata": {
    "collapsed": false
   },
   "outputs": [],
   "source": [
    "antiToSVM('ciprofloxacin')"
   ]
  },
  {
   "cell_type": "markdown",
   "metadata": {
    "collapsed": true
   },
   "source": [
    "## interpretation:\n",
    "\n",
    "the learning vurve suggesting high variance\n",
    "[reference](https://drive.google.com/drive/folders/0BweONCgBYqEqeHkyT1MwZjF4UUE)\n",
    "\n",
    "# try SVM kernal: rbf"
   ]
  },
  {
   "cell_type": "code",
   "execution_count": 5,
   "metadata": {
    "collapsed": false
   },
   "outputs": [
    {
     "data": {
      "text/plain": [
       "array([  1.00000000e-06,   3.59381366e-06,   1.29154967e-05,\n",
       "         4.64158883e-05,   1.66810054e-04,   5.99484250e-04,\n",
       "         2.15443469e-03,   7.74263683e-03,   2.78255940e-02,\n",
       "         1.00000000e-01])"
      ]
     },
     "execution_count": 5,
     "metadata": {},
     "output_type": "execute_result"
    }
   ],
   "source": [
    "np.logspace(-6, -1, 10)"
   ]
  },
  {
   "cell_type": "code",
   "execution_count": 5,
   "metadata": {
    "collapsed": false
   },
   "outputs": [],
   "source": [
    "# remove NaN in output antibiotics\n",
    "def noNullAntibiotics(antibiotics):\n",
    "    df = combined.loc[pd.isnull(combined[antibiotics + '_ris']) == 0]\n",
    "    return df\n",
    "\n",
    "# plot_learning_curve from sklearn examples\n",
    "def plot_learning_curve(estimator, title, X, y, ylim=None, cv=None,\n",
    "                        n_jobs=1, train_sizes=np.linspace(.1, 1.0, 5)):\n",
    "    \"\"\"\n",
    "    Generate a simple plot of the test and training learning curve.\n",
    "\n",
    "    Parameters\n",
    "    ----------\n",
    "    estimator : object type that implements the \"fit\" and \"predict\" methods\n",
    "        An object of that type which is cloned for each validation.\n",
    "\n",
    "    title : string\n",
    "        Title for the chart.\n",
    "\n",
    "    X : array-like, shape (n_samples, n_features)\n",
    "        Training vector, where n_samples is the number of samples and\n",
    "        n_features is the number of features.\n",
    "\n",
    "    y : array-like, shape (n_samples) or (n_samples, n_features), optional\n",
    "        Target relative to X for classification or regression;\n",
    "        None for unsupervised learning.\n",
    "\n",
    "    ylim : tuple, shape (ymin, ymax), optional\n",
    "        Defines minimum and maximum yvalues plotted.\n",
    "\n",
    "    cv : int, cross-validation generator or an iterable, optional\n",
    "        Determines the cross-validation splitting strategy.\n",
    "        Possible inputs for cv are:\n",
    "          - None, to use the default 3-fold cross-validation,\n",
    "          - integer, to specify the number of folds.\n",
    "          - An object to be used as a cross-validation generator.\n",
    "          - An iterable yielding train/test splits.\n",
    "\n",
    "        For integer/None inputs, if ``y`` is binary or multiclass,\n",
    "        :class:`StratifiedKFold` used. If the estimator is not a classifier\n",
    "        or if ``y`` is neither binary nor multiclass, :class:`KFold` is used.\n",
    "\n",
    "        Refer :ref:`User Guide <cross_validation>` for the various\n",
    "        cross-validators that can be used here.\n",
    "\n",
    "    n_jobs : integer, optional\n",
    "        Number of jobs to run in parallel (default 1).\n",
    "    \"\"\"\n",
    "    plt.figure()\n",
    "    plt.title(title)\n",
    "    if ylim is not None:\n",
    "        plt.ylim(*ylim)\n",
    "    plt.xlabel(\"Training examples\")\n",
    "    plt.ylabel(\"Score\")\n",
    "    train_sizes, train_scores, test_scores = learning_curve(estimator, X, y, cv=cv, n_jobs=n_jobs, train_sizes=train_sizes)\n",
    "    train_scores_mean = np.mean(train_scores, axis=1)\n",
    "    train_scores_std = np.std(train_scores, axis=1)\n",
    "    test_scores_mean = np.mean(test_scores, axis=1)\n",
    "    test_scores_std = np.std(test_scores, axis=1)\n",
    "    plt.grid()\n",
    "\n",
    "    plt.fill_between(train_sizes, train_scores_mean - train_scores_std,\n",
    "                     train_scores_mean + train_scores_std, alpha=0.1,\n",
    "                     color=\"r\")\n",
    "    plt.fill_between(train_sizes, test_scores_mean - test_scores_std,\n",
    "                     test_scores_mean + test_scores_std, alpha=0.1, color=\"g\")\n",
    "    plt.plot(train_sizes, train_scores_mean, 'o-', color=\"r\",\n",
    "             label=\"Training score\")\n",
    "    plt.plot(train_sizes, test_scores_mean, 'o-', color=\"g\",\n",
    "             label=\"Cross-validation score\")\n",
    "\n",
    "    plt.legend(loc=\"best\")\n",
    "    #return plt\n",
    "\n",
    "# a simple svm\n",
    "def trainSVMrbf(df, antibiotics):\n",
    "    # split test, train\n",
    "    X_train, X_test, y_train, y_test = train_test_split(df.iloc[:, :406], df[antibiotics + '_ris'], test_size=0.8, random_state=0)\n",
    "    \n",
    "    # choose estimator (our model)\n",
    "    clf = svm.SVC(kernel='rbf', C=1).fit(X_train, y_train)\n",
    "    # cross validation\n",
    "    skf = StratifiedKFold(n_splits=3, random_state=None, shuffle=False)\n",
    "    cv = skf.split(X_train, y_train)\n",
    "   \n",
    "    # tune hyperparameters\n",
    "    gammas = np.logspace(-6, -1, 10)\n",
    "    classifier = GridSearchCV(estimator=clf, cv=cv, param_grid=dict(gamma=gammas))\n",
    "    classifier.fit(X_train.values, np.asarray(y_train))\n",
    "    \n",
    "    # plot learning curve\n",
    "    title = antibiotics +' Learning Curves (SVM, rbf kernel, $\\gamma=%.6f$)' %classifier.best_estimator_.gamma\n",
    "    estimator = svm.SVC(kernel='linear', gamma=classifier.best_estimator_.gamma) #put the best parameters in\n",
    "    plot_learning_curve(estimator, title, X_train.values, np.asarray(y_train), cv=skf)\n",
    "    plt.show()\n",
    "    # final evaluation with out test set: default: accuracy\n",
    "    print('classifier score', classifier.score(X_test, y_test))\n",
    "    \n",
    "\n",
    "# combine everything\n",
    "def antiToSVMrbf(antibiotics):\n",
    "    df = noNullAntibiotics(antibiotics)\n",
    "    trainSVMrbf(df, antibiotics)"
   ]
  },
  {
   "cell_type": "code",
   "execution_count": 7,
   "metadata": {
    "collapsed": false
   },
   "outputs": [
    {
     "name": "stderr",
     "output_type": "stream",
     "text": [
      "/home/hermuba/anaconda3/lib/python3.6/site-packages/sklearn/model_selection/_split.py:581: Warning: The least populated class in y has only 1 members, which is too few. The minimum number of groups for any class cannot be less than n_splits=3.\n",
      "  % (min_groups, self.n_splits)), Warning)\n",
      "/home/hermuba/anaconda3/lib/python3.6/site-packages/sklearn/model_selection/_split.py:581: Warning: The least populated class in y has only 1 members, which is too few. The minimum number of groups for any class cannot be less than n_splits=3.\n",
      "  % (min_groups, self.n_splits)), Warning)\n"
     ]
    },
    {
     "data": {
      "image/png": "[encoded data removed]",
      "text/plain": [
       "<matplotlib.figure.Figure at 0x7fab3cd0ea20>"
      ]
     },
     "metadata": {},
     "output_type": "display_data"
    },
    {
     "name": "stdout",
     "output_type": "stream",
     "text": [
      "classifier score 0.861111111111\n"
     ]
    }
   ],
   "source": [
    "antiToSVMrbf('levofloxacin')"
   ]
  },
  {
   "cell_type": "code",
   "execution_count": null,
   "metadata": {
    "collapsed": true
   },
   "outputs": [],
   "source": []
  }
 ],
 "metadata": {
  "kernelspec": {
   "display_name": "Python 3",
   "language": "python",
   "name": "python3"
  },
  "language_info": {
   "codemirror_mode": {
    "name": "ipython",
    "version": 3
   },
   "file_extension": ".py",
   "mimetype": "text/x-python",
   "name": "python",
   "nbconvert_exporter": "python",
   "pygments_lexer": "ipython3",
   "version": "3.6.0"
  }
 },
 "nbformat": 4,
 "nbformat_minor": 2
}
