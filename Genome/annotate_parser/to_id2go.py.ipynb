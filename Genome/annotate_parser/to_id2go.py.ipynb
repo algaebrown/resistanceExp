{
 "cells": [
  {
   "cell_type": "markdown",
   "metadata": {},
   "source": [
    "# from gene annotation file to id2go, in order to run GO term enrichment analysis\n",
    "[Link](https://raw.githubusercontent.com/tanghaibao/goatools/master/data/association)"
   ]
  },
  {
   "cell_type": "code",
   "execution_count": 10,
   "metadata": {},
   "outputs": [],
   "source": [
    "import pandas as pd\n",
    "gold_anno = pd.read_pickle('/home/hermuba/data0118/goldstandard/ec_rmplasmid_node_anno_df') "
   ]
  },
  {
   "cell_type": "code",
   "execution_count": 11,
   "metadata": {},
   "outputs": [
    {
     "data": {
      "text/plain": [
       "Index(['cog_ID', 'cog_category', 'cluster', 'count', 'core', 'loose_best_ARO',\n",
       "       'loose_ARO', 'strict_best_ARO', 'strict_ARO', 'is_card', 'resfam',\n",
       "       'aclame_title', 'is_aclame', 'nr', 'hypo_nr', 'drug_target',\n",
       "       'is_drug_target', 'GO', 'pathway', 'domain'],\n",
       "      dtype='object')"
      ]
     },
     "execution_count": 11,
     "metadata": {},
     "output_type": "execute_result"
    }
   ],
   "source": [
    "gold_anno.columns"
   ]
  },
  {
   "cell_type": "code",
   "execution_count": 12,
   "metadata": {},
   "outputs": [
    {
     "data": {
      "text/plain": [
       "562.10576.con.0001_191|562.10576                                         {GO:0003677}\n",
       "562.10576.con.0002_214|562.10576                                         {GO:0003677}\n",
       "562.10576.con.0002_294|562.10576     {GO:0003677, GO:0003700, GO:0006355, GO:0043565}\n",
       "562.10576.con.0003_130|562.10576                 {GO:0003677, GO:0032775, GO:0009007}\n",
       "562.10576.con.0004_152|562.10576                                         {GO:0016020}\n",
       "562.10576.con.0004_153|562.10576                 {GO:0016740, GO:0003824, GO:0019475}\n",
       "562.10576.con.0004_155|562.10576                             {GO:0003700, GO:0006355}\n",
       "562.10576.con.0004_40|562.10576      {GO:0019867, GO:0004252, GO:0004175, GO:0006508}\n",
       "562.10576.con.0004_41|562.10576                              {GO:0009289, GO:0007155}\n",
       "562.10576.con.0004_42|562.10576                              {GO:0009289, GO:0007155}\n",
       "562.10576.con.0004_43|562.10576                              {GO:0009289, GO:0007155}\n",
       "562.10576.con.0004_44|562.10576      {GO:0043711, GO:0071555, GO:0030288, GO:0061077}\n",
       "562.10576.con.0004_46|562.10576                              {GO:0009289, GO:0007155}\n",
       "562.10576.con.0004_47|562.10576     {GO:0016987, GO:0003700, GO:0006355, GO:000367...\n",
       "562.10576.con.0005_117|562.10576                                         {GO:0005524}\n",
       "562.10576.con.0005_118|562.10576    {GO:0008170, GO:0006306, GO:0006304, GO:000816...\n",
       "562.10576.con.0005_119|562.10576    {GO:0005524, GO:0009035, GO:0006304, GO:000451...\n",
       "562.10576.con.0005_120|562.10576                             {GO:0003677, GO:0006304}\n",
       "562.10576.con.0005_122|562.10576    {GO:0008170, GO:0006306, GO:0008168, GO:003225...\n",
       "562.10576.con.0005_123|562.10576                             {GO:0005515, GO:0007165}\n",
       "562.10576.con.0006_205|562.10576     {GO:0009435, GO:0004514, GO:0004516, GO:0019357}\n",
       "562.10576.con.0008_20|562.10576                  {GO:0055085, GO:0022857, GO:0016021}\n",
       "562.10576.con.0009_49|562.10576                  {GO:0006310, GO:0003677, GO:0015074}\n",
       "562.10576.con.0013_74|562.10576      {GO:0006427, GO:0005737, GO:0005524, GO:0004821}\n",
       "562.10576.con.0029_46|562.10576                  {GO:0003824, GO:0008484, GO:0016021}\n",
       "562.10576.con.0030_22|562.10576     {GO:0022857, GO:0055085, GO:0005215, GO:001602...\n",
       "562.10576.con.0033_20|562.10576                  {GO:0003677, GO:0004803, GO:0006313}\n",
       "562.10576.con.0036_12|562.10576                                          {GO:0016020}\n",
       "562.10576.con.0036_8|562.10576                               {GO:0003978, GO:0006012}\n",
       "562.10576.con.0037_1|562.10576                                           {GO:0016491}\n",
       "                                                          ...                        \n",
       "NMWW01000017_4|562.19090                                     {GO:0016020, GO:0009103}\n",
       "NMWW01000027_1|562.19090                                     {GO:0071555, GO:0030288}\n",
       "NMWW01000031_2|562.19090                                     {GO:0004518, GO:0003676}\n",
       "NMWW01000041_2|562.19090                                     {GO:0009289, GO:0007155}\n",
       "NMWW01000072_8|562.19090                                     {GO:0003677, GO:0006304}\n",
       "NMWW01000076_1|562.19090                                                 {GO:0008168}\n",
       "NMWW01000088_1|562.19090                         {GO:0055085, GO:0022857, GO:0016021}\n",
       "NMWW01000088_3|562.19090             {GO:0003677, GO:0003700, GO:0006355, GO:0045892}\n",
       "NMWW01000111_2|562.19090                         {GO:0006310, GO:0003677, GO:0015074}\n",
       "NMWW01000137_10|562.19090                                    {GO:0003677, GO:0006304}\n",
       "NMWW01000143_2|562.19090                         {GO:0003824, GO:0008484, GO:0016021}\n",
       "NMWW01000143_3|562.19090            {GO:0008610, GO:0016301, GO:0006654, GO:000865...\n",
       "NMWW01000143_4|562.19090             {GO:0003677, GO:0004803, GO:0043565, GO:0006313}\n",
       "NMWW01000143_5|562.19090                                     {GO:0015074, GO:0003676}\n",
       "NMWW01000151_1|562.19090                                                 {GO:0016779}\n",
       "NMWW01000155_1|562.19090                         {GO:0006310, GO:0003677, GO:0000150}\n",
       "NMWW01000165_1|562.19090                         {GO:0006310, GO:0003677, GO:0015074}\n",
       "NMWW01000183_1|562.19090             {GO:0009055, GO:0022904, GO:0016020, GO:0016021}\n",
       "NMWW01000208_1|562.19090             {GO:0016887, GO:0031460, GO:0016020, GO:0005524}\n",
       "NMWW01000226_1|562.19090                                                 {GO:0006281}\n",
       "NMWW01000228_1|562.19090                                     {GO:0009289, GO:0007155}\n",
       "NMWW01000240_2|562.19090                                     {GO:0016772, GO:0005524}\n",
       "NMWW01000256_6|562.19090                                     {GO:0003993, GO:0030288}\n",
       "NMWW01000276_1|562.19090                                     {GO:0055114, GO:0016491}\n",
       "NMWW01000306_10|562.19090                                                {GO:0003677}\n",
       "NMWW01000310_6|562.19090                                     {GO:0003700, GO:0006355}\n",
       "NMWW01000330_1|562.19090                                     {GO:0009289, GO:0007155}\n",
       "NMWW01000371_1|562.19090                                     {GO:0004803, GO:0006313}\n",
       "NMWW01000413_7|562.19090                                     {GO:0003700, GO:0006355}\n",
       "NMWW01000488_3|562.19090                         {GO:0003677, GO:0032775, GO:0009007}\n",
       "Name: GO, Length: 10044, dtype: object"
      ]
     },
     "execution_count": 12,
     "metadata": {},
     "output_type": "execute_result"
    }
   ],
   "source": [
    "gold_anno['GO'].dropna()"
   ]
  },
  {
   "cell_type": "code",
   "execution_count": 16,
   "metadata": {},
   "outputs": [],
   "source": [
    "with open('/home/hermuba/data0118/goldstandard/ec_rmplasmid.id2go', 'w') as f:\n",
    "    for g in gold_anno['GO'].dropna().index:\n",
    "        f.write('{0}\\t{1}\\n'.format(g, ';'.join(gold_anno.loc[g, 'GO'])))"
   ]
  }
 ],
 "metadata": {
  "kernelspec": {
   "display_name": "Python 3",
   "language": "python",
   "name": "python3"
  },
  "language_info": {
   "codemirror_mode": {
    "name": "ipython",
    "version": 3
   },
   "file_extension": ".py",
   "mimetype": "text/x-python",
   "name": "python",
   "nbconvert_exporter": "python",
   "pygments_lexer": "ipython3",
   "version": "3.6.7"
  }
 },
 "nbformat": 4,
 "nbformat_minor": 2
}
