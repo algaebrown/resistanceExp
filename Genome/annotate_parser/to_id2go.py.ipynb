{
 "cells": [
  {
   "cell_type": "markdown",
   "metadata": {},
   "source": [
    "# from gene annotation file to id2go, in order to run GO term enrichment analysis\n",
    "[Link](https://raw.githubusercontent.com/tanghaibao/goatools/master/data/association)"
   ]
  },
  {
   "cell_type": "code",
   "execution_count": 1,
   "metadata": {},
   "outputs": [],
   "source": [
    "import pandas as pd\n",
    "#### INPUT #####\n",
    "annotation_df = '/nas2/users/hermuba/parsed_anno/ecoli.gold_anno_df'\n",
    "gold_anno = pd.read_pickle(annotation_df) "
   ]
  },
  {
   "cell_type": "code",
   "execution_count": 3,
   "metadata": {},
   "outputs": [],
   "source": [
    "with open('/home/hermuba/data0118/ontologies/ec_40000.id2go', 'w') as f:\n",
    "    for g in gold_anno['GO'].dropna().index:\n",
    "        f.write('{0}\\t{1}\\n'.format(g, ';'.join(gold_anno.loc[g, 'GO'])))"
   ]
  },
  {
   "cell_type": "code",
   "execution_count": null,
   "metadata": {},
   "outputs": [],
   "source": []
  }
 ],
 "metadata": {
  "kernelspec": {
   "display_name": "Python 3",
   "language": "python",
   "name": "python3"
  },
  "language_info": {
   "codemirror_mode": {
    "name": "ipython",
    "version": 3
   },
   "file_extension": ".py",
   "mimetype": "text/x-python",
   "name": "python",
   "nbconvert_exporter": "python",
   "pygments_lexer": "ipython3",
   "version": "3.6.12"
  }
 },
 "nbformat": 4,
 "nbformat_minor": 4
}
