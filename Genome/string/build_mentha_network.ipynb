{
 "cells": [
  {
   "cell_type": "code",
   "execution_count": 1,
   "metadata": {},
   "outputs": [],
   "source": [
    "# import module written for processing our gene mapping to gene ID, filter with e-value, pident\n",
    "from network_analysis.map_string_to_ID import *\n",
    "\n",
    "# node_path referes to diamond blastp --in REPRESENTING GENE --db string.dmnd\n",
    "node_path = '/home/hermuba/data0118/map_to_exist_net/ec_rmplasmid_mentha'\n",
    "node = read_node_to_df(node_path)\n",
    "\n"
   ]
  },
  {
   "cell_type": "code",
   "execution_count": 12,
   "metadata": {},
   "outputs": [],
   "source": [
    "# select nodes with high bitscore with string 511145 proteins\n",
    "selected_nodes = filter_node(node)"
   ]
  },
  {
   "cell_type": "code",
   "execution_count": 13,
   "metadata": {},
   "outputs": [
    {
     "data": {
      "text/plain": [
       "(5069, 4)"
      ]
     },
     "execution_count": 13,
     "metadata": {},
     "output_type": "execute_result"
    }
   ],
   "source": [
    "selected_nodes.shape"
   ]
  },
  {
   "cell_type": "code",
   "execution_count": 16,
   "metadata": {},
   "outputs": [],
   "source": [
    "selected_nodes = selected_nodes.drop_duplicates('sseqid')"
   ]
  },
  {
   "cell_type": "code",
   "execution_count": 4,
   "metadata": {},
   "outputs": [],
   "source": [
    "# read the edge\n",
    "edge_path = '/home/hermuba/data0118/map_to_exist_net/mentha_ecoli'\n",
    "edge = pd.read_csv(edge_path, sep = ';')"
   ]
  },
  {
   "cell_type": "code",
   "execution_count": 5,
   "metadata": {},
   "outputs": [
    {
     "data": {
      "text/html": [
       "<div>\n",
       "<style scoped>\n",
       "    .dataframe tbody tr th:only-of-type {\n",
       "        vertical-align: middle;\n",
       "    }\n",
       "\n",
       "    .dataframe tbody tr th {\n",
       "        vertical-align: top;\n",
       "    }\n",
       "\n",
       "    .dataframe thead th {\n",
       "        text-align: right;\n",
       "    }\n",
       "</style>\n",
       "<table border=\"1\" class=\"dataframe\">\n",
       "  <thead>\n",
       "    <tr style=\"text-align: right;\">\n",
       "      <th></th>\n",
       "      <th>Protein A</th>\n",
       "      <th>Gene A</th>\n",
       "      <th>Protein B</th>\n",
       "      <th>Gene B</th>\n",
       "      <th>Score</th>\n",
       "      <th>PMID</th>\n",
       "    </tr>\n",
       "  </thead>\n",
       "  <tbody>\n",
       "    <tr>\n",
       "      <th>0</th>\n",
       "      <td>P26607</td>\n",
       "      <td>P26607</td>\n",
       "      <td>P07027</td>\n",
       "      <td>UVRY</td>\n",
       "      <td>0.332</td>\n",
       "      <td>15522865 11022030</td>\n",
       "    </tr>\n",
       "    <tr>\n",
       "      <th>1</th>\n",
       "      <td>P26602</td>\n",
       "      <td>UBIC</td>\n",
       "      <td>P26602</td>\n",
       "      <td>UBIC</td>\n",
       "      <td>0.210</td>\n",
       "      <td>15690043 24561554</td>\n",
       "    </tr>\n",
       "    <tr>\n",
       "      <th>2</th>\n",
       "      <td>P76316</td>\n",
       "      <td>DCYD</td>\n",
       "      <td>P60422</td>\n",
       "      <td>RPLB</td>\n",
       "      <td>0.236</td>\n",
       "      <td>19402753</td>\n",
       "    </tr>\n",
       "    <tr>\n",
       "      <th>3</th>\n",
       "      <td>P60422</td>\n",
       "      <td>RPLB</td>\n",
       "      <td>P0A8M6</td>\n",
       "      <td>YEEX</td>\n",
       "      <td>0.236</td>\n",
       "      <td>19402753</td>\n",
       "    </tr>\n",
       "    <tr>\n",
       "      <th>4</th>\n",
       "      <td>P60422</td>\n",
       "      <td>RPLB</td>\n",
       "      <td>P02918</td>\n",
       "      <td>MRCA</td>\n",
       "      <td>0.236</td>\n",
       "      <td>19402753</td>\n",
       "    </tr>\n",
       "  </tbody>\n",
       "</table>\n",
       "</div>"
      ],
      "text/plain": [
       "  Protein A  Gene A Protein B Gene B  Score                PMID\n",
       "0    P26607  P26607    P07027   UVRY  0.332  15522865 11022030 \n",
       "1    P26602    UBIC    P26602   UBIC  0.210  15690043 24561554 \n",
       "2    P76316    DCYD    P60422   RPLB  0.236           19402753 \n",
       "3    P60422    RPLB    P0A8M6   YEEX  0.236           19402753 \n",
       "4    P60422    RPLB    P02918   MRCA  0.236           19402753 "
      ]
     },
     "execution_count": 5,
     "metadata": {},
     "output_type": "execute_result"
    }
   ],
   "source": [
    "edge.head()"
   ]
  },
  {
   "cell_type": "code",
   "execution_count": 6,
   "metadata": {},
   "outputs": [
    {
     "data": {
      "text/html": [
       "<div>\n",
       "<style scoped>\n",
       "    .dataframe tbody tr th:only-of-type {\n",
       "        vertical-align: middle;\n",
       "    }\n",
       "\n",
       "    .dataframe tbody tr th {\n",
       "        vertical-align: top;\n",
       "    }\n",
       "\n",
       "    .dataframe thead th {\n",
       "        text-align: right;\n",
       "    }\n",
       "</style>\n",
       "<table border=\"1\" class=\"dataframe\">\n",
       "  <thead>\n",
       "    <tr style=\"text-align: right;\">\n",
       "      <th></th>\n",
       "      <th>qseqid</th>\n",
       "      <th>sseqid</th>\n",
       "      <th>pident</th>\n",
       "      <th>evalue</th>\n",
       "    </tr>\n",
       "  </thead>\n",
       "  <tbody>\n",
       "    <tr>\n",
       "      <th>3</th>\n",
       "      <td>JMUY01000001_53|1438670.3</td>\n",
       "      <td>sp|P18775|DMSA_ECOLI</td>\n",
       "      <td>99.8</td>\n",
       "      <td>0.000000e+00</td>\n",
       "    </tr>\n",
       "    <tr>\n",
       "      <th>7</th>\n",
       "      <td>JMUY01000001_56|1438670.3</td>\n",
       "      <td>sp|P21367|YCAC_ECOLI</td>\n",
       "      <td>99.0</td>\n",
       "      <td>1.400000e-120</td>\n",
       "    </tr>\n",
       "    <tr>\n",
       "      <th>8</th>\n",
       "      <td>JMUY01000001_60|1438670.3</td>\n",
       "      <td>sp|P0AC24|FOCA_ECOL6</td>\n",
       "      <td>99.3</td>\n",
       "      <td>3.700000e-162</td>\n",
       "    </tr>\n",
       "    <tr>\n",
       "      <th>9</th>\n",
       "      <td>JMUY01000001_60|1438670.3</td>\n",
       "      <td>sp|P0AC25|FOCA_ECO57</td>\n",
       "      <td>99.3</td>\n",
       "      <td>3.700000e-162</td>\n",
       "    </tr>\n",
       "    <tr>\n",
       "      <th>10</th>\n",
       "      <td>JMUY01000001_60|1438670.3</td>\n",
       "      <td>sp|P0AC23|FOCA_ECOLI</td>\n",
       "      <td>99.3</td>\n",
       "      <td>3.700000e-162</td>\n",
       "    </tr>\n",
       "  </tbody>\n",
       "</table>\n",
       "</div>"
      ],
      "text/plain": [
       "                       qseqid                sseqid  pident         evalue\n",
       "3   JMUY01000001_53|1438670.3  sp|P18775|DMSA_ECOLI    99.8   0.000000e+00\n",
       "7   JMUY01000001_56|1438670.3  sp|P21367|YCAC_ECOLI    99.0  1.400000e-120\n",
       "8   JMUY01000001_60|1438670.3  sp|P0AC24|FOCA_ECOL6    99.3  3.700000e-162\n",
       "9   JMUY01000001_60|1438670.3  sp|P0AC25|FOCA_ECO57    99.3  3.700000e-162\n",
       "10  JMUY01000001_60|1438670.3  sp|P0AC23|FOCA_ECOLI    99.3  3.700000e-162"
      ]
     },
     "execution_count": 6,
     "metadata": {},
     "output_type": "execute_result"
    }
   ],
   "source": [
    "selected_nodes.head()"
   ]
  },
  {
   "cell_type": "code",
   "execution_count": 17,
   "metadata": {},
   "outputs": [
    {
     "name": "stderr",
     "output_type": "stream",
     "text": [
      "/home/hermuba/miniconda3/lib/python3.6/site-packages/ipykernel_launcher.py:1: SettingWithCopyWarning: \n",
      "A value is trying to be set on a copy of a slice from a DataFrame.\n",
      "Try using .loc[row_indexer,col_indexer] = value instead\n",
      "\n",
      "See the caveats in the documentation: https://pandas.pydata.org/pandas-docs/stable/user_guide/indexing.html#returning-a-view-versus-a-copy\n",
      "  \"\"\"Entry point for launching an IPython kernel.\n"
     ]
    }
   ],
   "source": [
    "selected_nodes['sseqid'] = selected_nodes['sseqid'].str.split('|', expand = True)[1]\n",
    "selected_nodes.set_index('sseqid', inplace = True)\n"
   ]
  },
  {
   "cell_type": "code",
   "execution_count": 11,
   "metadata": {},
   "outputs": [
    {
     "data": {
      "text/plain": [
       "4998"
      ]
     },
     "execution_count": 11,
     "metadata": {},
     "output_type": "execute_result"
    }
   ],
   "source": []
  },
  {
   "cell_type": "code",
   "execution_count": 18,
   "metadata": {},
   "outputs": [],
   "source": [
    "edge['gene_one'] = edge['Protein A'].map(selected_nodes['qseqid'])\n",
    "edge['gene_two'] = edge['Protein B'].map(selected_nodes['qseqid'])\n",
    "\n",
    "edge.dropna(how = 'any', inplace = True) # we do not need interaction between genes that does not exist in our net\n",
    "\n",
    "# drop useless columns\n",
    "edge.drop(labels = ['Protein A', 'Protein B'], axis = 1, inplace = True)\n"
   ]
  },
  {
   "cell_type": "code",
   "execution_count": 19,
   "metadata": {},
   "outputs": [
    {
     "data": {
      "text/plain": [
       "(20254, 6)"
      ]
     },
     "execution_count": 19,
     "metadata": {},
     "output_type": "execute_result"
    }
   ],
   "source": [
    "edge.shape"
   ]
  },
  {
   "cell_type": "code",
   "execution_count": 20,
   "metadata": {},
   "outputs": [
    {
     "data": {
      "text/html": [
       "<div>\n",
       "<style scoped>\n",
       "    .dataframe tbody tr th:only-of-type {\n",
       "        vertical-align: middle;\n",
       "    }\n",
       "\n",
       "    .dataframe tbody tr th {\n",
       "        vertical-align: top;\n",
       "    }\n",
       "\n",
       "    .dataframe thead th {\n",
       "        text-align: right;\n",
       "    }\n",
       "</style>\n",
       "<table border=\"1\" class=\"dataframe\">\n",
       "  <thead>\n",
       "    <tr style=\"text-align: right;\">\n",
       "      <th></th>\n",
       "      <th>Gene A</th>\n",
       "      <th>Gene B</th>\n",
       "      <th>Score</th>\n",
       "      <th>PMID</th>\n",
       "      <th>gene_one</th>\n",
       "      <th>gene_two</th>\n",
       "    </tr>\n",
       "  </thead>\n",
       "  <tbody>\n",
       "    <tr>\n",
       "      <th>1</th>\n",
       "      <td>UBIC</td>\n",
       "      <td>UBIC</td>\n",
       "      <td>0.210</td>\n",
       "      <td>15690043 24561554</td>\n",
       "      <td>JMUY01000006_36|1438670.3</td>\n",
       "      <td>JMUY01000006_36|1438670.3</td>\n",
       "    </tr>\n",
       "    <tr>\n",
       "      <th>2</th>\n",
       "      <td>DCYD</td>\n",
       "      <td>RPLB</td>\n",
       "      <td>0.236</td>\n",
       "      <td>19402753</td>\n",
       "      <td>JMUY01000001_1170|1438670.3</td>\n",
       "      <td>JMUY01000004_41|1438670.3</td>\n",
       "    </tr>\n",
       "    <tr>\n",
       "      <th>3</th>\n",
       "      <td>RPLB</td>\n",
       "      <td>YEEX</td>\n",
       "      <td>0.236</td>\n",
       "      <td>19402753</td>\n",
       "      <td>JMUY01000004_41|1438670.3</td>\n",
       "      <td>562.23229.con.0048_6|562.23229</td>\n",
       "    </tr>\n",
       "    <tr>\n",
       "      <th>4</th>\n",
       "      <td>RPLB</td>\n",
       "      <td>MRCA</td>\n",
       "      <td>0.236</td>\n",
       "      <td>19402753</td>\n",
       "      <td>JMUY01000004_41|1438670.3</td>\n",
       "      <td>562.23614.con.0021_34|562.23614</td>\n",
       "    </tr>\n",
       "    <tr>\n",
       "      <th>5</th>\n",
       "      <td>RPLB</td>\n",
       "      <td>DNAA</td>\n",
       "      <td>0.722</td>\n",
       "      <td>15690043 19402753 21288885</td>\n",
       "      <td>JMUY01000004_41|1438670.3</td>\n",
       "      <td>JMUY01000004_438|1438670.3</td>\n",
       "    </tr>\n",
       "  </tbody>\n",
       "</table>\n",
       "</div>"
      ],
      "text/plain": [
       "  Gene A Gene B  Score                         PMID  \\\n",
       "1   UBIC   UBIC  0.210           15690043 24561554    \n",
       "2   DCYD   RPLB  0.236                    19402753    \n",
       "3   RPLB   YEEX  0.236                    19402753    \n",
       "4   RPLB   MRCA  0.236                    19402753    \n",
       "5   RPLB   DNAA  0.722  15690043 19402753 21288885    \n",
       "\n",
       "                      gene_one                         gene_two  \n",
       "1    JMUY01000006_36|1438670.3        JMUY01000006_36|1438670.3  \n",
       "2  JMUY01000001_1170|1438670.3        JMUY01000004_41|1438670.3  \n",
       "3    JMUY01000004_41|1438670.3   562.23229.con.0048_6|562.23229  \n",
       "4    JMUY01000004_41|1438670.3  562.23614.con.0021_34|562.23614  \n",
       "5    JMUY01000004_41|1438670.3       JMUY01000004_438|1438670.3  "
      ]
     },
     "execution_count": 20,
     "metadata": {},
     "output_type": "execute_result"
    }
   ],
   "source": [
    "edge.head()"
   ]
  },
  {
   "cell_type": "code",
   "execution_count": null,
   "metadata": {},
   "outputs": [],
   "source": [
    "edge.to_csv()"
   ]
  }
 ],
 "metadata": {
  "kernelspec": {
   "display_name": "Python 3",
   "language": "python",
   "name": "python3"
  },
  "language_info": {
   "codemirror_mode": {
    "name": "ipython",
    "version": 3
   },
   "file_extension": ".py",
   "mimetype": "text/x-python",
   "name": "python",
   "nbconvert_exporter": "python",
   "pygments_lexer": "ipython3",
   "version": "3.6.10"
  }
 },
 "nbformat": 4,
 "nbformat_minor": 4
}
